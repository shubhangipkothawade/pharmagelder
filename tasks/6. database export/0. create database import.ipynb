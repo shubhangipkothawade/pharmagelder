{
 "cells": [
  {
   "cell_type": "markdown",
   "metadata": {},
   "source": [
    "# Create Database Import"
   ]
  },
  {
   "cell_type": "code",
   "execution_count": 1,
   "metadata": {},
   "outputs": [],
   "source": [
    "import pandas as pd\n",
    "import numpy as np"
   ]
  },
  {
   "cell_type": "markdown",
   "metadata": {},
   "source": [
    "## Set Year"
   ]
  },
  {
   "cell_type": "code",
   "execution_count": 2,
   "metadata": {},
   "outputs": [],
   "source": [
    "const_year = 2017"
   ]
  },
  {
   "cell_type": "markdown",
   "metadata": {},
   "source": [
    "## Import files"
   ]
  },
  {
   "cell_type": "code",
   "execution_count": 3,
   "metadata": {
    "scrolled": true
   },
   "outputs": [],
   "source": [
    "df0 = pd.read_csv('../../data/3. transformation/4_hcp_grouped.csv')\n",
    "df1 = pd.read_csv('../../data/3. transformation/4_hco_grouped.csv')\n",
    "df_accumulation_raw = pd.read_csv('../../data/3. transformation/0_accumulations_all.csv')\n",
    "\n",
    "df_pharma = pd.read_csv('sources/liste_companies - connections.csv')\n",
    "df_pharma_source_raw = pd.read_csv('sources/pharma_source.csv')\n",
    "plz_names = ['REC_ART', 'ONRP', 'BFSNR', 'PLZ_TYP', 'POSTLEITZAHL', 'PLZ_ZZ', 'GPLZ', 'ORTBEZ18', \n",
    "             'ORTBEZ27', 'KANTON', 'SPRACHCODE', 'SPRACHCODE_ABW', 'BRIEFZ_DURCH', 'GILT_AB_DAT', 'PLZ_BRIEFZUST', 'PLZ_COFF']\n",
    "df_plz_raw = pd.read_csv('sources/Post_Adressdaten20190122_edited.csv')"
   ]
  },
  {
   "cell_type": "markdown",
   "metadata": {},
   "source": [
    "## Create Group Key\n",
    "HCO and HCP both have same indexes. Generate unique values."
   ]
  },
  {
   "cell_type": "code",
   "execution_count": 4,
   "metadata": {},
   "outputs": [],
   "source": [
    "df_hcp = df0.copy()\n",
    "df_hco = df1.copy()\n",
    "\n",
    "group_key = 1\n",
    "\n",
    "def set_groupkey(dataframe, startkey):\n",
    "    for g in dataframe['group'].unique():\n",
    "        dataframe.loc[dataframe['group'] == g, 'group_key'] = startkey\n",
    "        startkey += 1\n",
    "        #print(g)\n",
    "\n",
    "    dataframe.drop(axis=1, columns=['group'])\n",
    "    return (dataframe, startkey)\n",
    "\n",
    "df_hcp, group_key = set_groupkey(df_hcp, group_key)\n",
    "df_hco, group_key = set_groupkey(df_hco, group_key)\n",
    "\n",
    "#Concat\n",
    "df_data = pd.concat([df_hcp, df_hco], sort=False)"
   ]
  },
  {
   "cell_type": "markdown",
   "metadata": {},
   "source": [
    "## Clean and format"
   ]
  },
  {
   "cell_type": "code",
   "execution_count": 5,
   "metadata": {},
   "outputs": [],
   "source": [
    "#Clean\n",
    "df_data.drop(axis=1, columns=['group'], inplace=True)\n",
    "\n",
    "#Format\n",
    "df_data['group_key'] = df_data['group_key'].astype('int')\n",
    "\n",
    "#Reindex\n",
    "df_data.reset_index(drop=True, inplace=True)\n",
    "df_data.index += 1"
   ]
  },
  {
   "cell_type": "markdown",
   "metadata": {},
   "source": [
    "## table `transaction`\n",
    "If it throws error at line: `df_transaction['tra_fk_pharma'].astype('int')`: You have a mistake in your data. Perhaps a company is written wrong or new"
   ]
  },
  {
   "cell_type": "code",
   "execution_count": 6,
   "metadata": {},
   "outputs": [],
   "source": [
    "df_transaction = df_data.copy()\n",
    "\n",
    "#abstract index\n",
    "df_transaction = df_transaction.reset_index()\n",
    "\n",
    "#Join with pharma\n",
    "df_transaction = df_transaction.merge(right = df_pharma, how='left', left_on='source', right_on='pha_key')\n",
    "\n",
    "#Drop\n",
    "df_transaction.drop(axis=1, columns=['plz', 'uci', 'country', 'type', 'source', 'pha_key', 'pha_name', 'main_address'], inplace=True)\n",
    "\n",
    "#Rename\n",
    "df_transaction.columns = ['tra_id', \n",
    "                          'tra_name_original', \n",
    "                          'tra_location_original', \n",
    "                          'tra_address_original',\n",
    "                          'tra_donations_grants',\n",
    "                          'tra_sponsorship',\n",
    "                          'tra_registration_fees',\n",
    "                          'tra_travel_accommodation',\n",
    "                          'tra_fees',\n",
    "                          'tra_related_expenses',\n",
    "                          'tra_total',\n",
    "                          'tra_fk_recipient',\n",
    "                          'tra_fk_pharma']\n",
    "\n",
    "#Add Year\n",
    "df_transaction['tra_year'] = const_year\n",
    "\n",
    "#Format\n",
    "df_transaction['tra_fk_pharma'] = df_transaction['tra_fk_pharma'].astype('int')\n",
    "\n",
    "#Reorder dataset\n",
    "df_transaction = df_transaction[[\n",
    "                          'tra_id', \n",
    "                          'tra_fk_pharma',\n",
    "                          'tra_fk_recipient',\n",
    "                          'tra_year',\n",
    "                          'tra_donations_grants',\n",
    "                          'tra_sponsorship',\n",
    "                          'tra_registration_fees',\n",
    "                          'tra_travel_accommodation',\n",
    "                          'tra_fees',\n",
    "                          'tra_related_expenses',\n",
    "                          'tra_total',\n",
    "                          'tra_name_original',\n",
    "                          'tra_location_original', \n",
    "                          'tra_address_original'\n",
    "                        ]]\n"
   ]
  },
  {
   "cell_type": "markdown",
   "metadata": {},
   "source": [
    "## table `recipient`\n",
    "Import PLZ and create `zip_shadow` with all possible Zips for this location.  \n",
    "Source: https://www.post.ch/de/geschaeftlich/themen-a-z/adressen-pflegen-und-geodaten-nutzen/adress-und-geodaten"
   ]
  },
  {
   "cell_type": "code",
   "execution_count": 7,
   "metadata": {
    "scrolled": true
   },
   "outputs": [],
   "source": [
    "df_recipient = df_data.copy()\n",
    "df_plz = df_plz_raw.copy()\n",
    "\n",
    "#Only main_address\n",
    "df_recipient = df_recipient[df_recipient.main_address == 1]\n",
    "\n",
    "#Group PLZ by location\n",
    "df_plz['plz_shaddow'] = df_plz['POSTLEITZAHL'].astype('str')\n",
    "df_plz['ORTBEZ18'] = df_plz['ORTBEZ18'].str.lower()\n",
    "df_plz = df_plz.groupby('ORTBEZ18')['plz_shaddow'].agg(lambda col: ','.join(col))\n",
    "df_plz = df_plz.to_frame()\n",
    "\n",
    "#abstract index\n",
    "df_recipient['id'] = df_recipient['group_key']\n",
    "\n",
    "#Lowercase location\n",
    "df_recipient['location_lower'] = df_recipient['location'].str.lower()\n",
    "\n",
    "#Join recipient and zip\n",
    "df_recipient = df_recipient.merge(right = df_plz, how='left', left_on='location_lower', right_on='ORTBEZ18')\n",
    "\n",
    "#covert plz\n",
    "df_recipient['plz'] = df_recipient['plz'].astype('int', errors='ignore')\n",
    "\n",
    "#Drop\n",
    "df_recipient.drop(axis=1, columns=['group_key', 'location_lower', 'main_address', 'donations_grants', 'sponsorship', 'registration_fees', 'travel_accommodation', 'fees', 'related_expenses', 'total', 'source'], inplace=True)\n",
    "\n",
    "#rename\n",
    "df_recipient.columns = [\n",
    "        'rec_name',\n",
    "        'rec_location',\n",
    "        'rec_country',\n",
    "        'rec_address',\n",
    "        'rec_plz',\n",
    "        'rec_uci',\n",
    "        'rec_type',\n",
    "        'rec_id',\n",
    "        'rec_plz_shaddow'\n",
    "    ]\n",
    "\n",
    "#Reorder Columns\n",
    "df_recipient = df_recipient[[\n",
    "        'rec_id',\n",
    "        'rec_name',\n",
    "        'rec_address',\n",
    "        'rec_location',\n",
    "        'rec_plz',\n",
    "        'rec_plz_shaddow',\n",
    "        'rec_country',\n",
    "        'rec_uci',\n",
    "        'rec_type'\n",
    "    ]]\n"
   ]
  },
  {
   "cell_type": "markdown",
   "metadata": {},
   "source": [
    "## table `accumulations`"
   ]
  },
  {
   "cell_type": "code",
   "execution_count": 8,
   "metadata": {
    "scrolled": true
   },
   "outputs": [],
   "source": [
    "df_accumulation = df_accumulation_raw.copy()\n",
    "\n",
    "#Select no \"count\"\n",
    "df_accumulation = df_accumulation[df_accumulation['type'].isin(['hcp_amount', 'hco_amount', 'rnd'])]\n",
    "\n",
    "#Rename hcp_acount & hco_acmount\n",
    "df_accumulation['type'] = df_accumulation['type'].str.replace('_amount', '')\n",
    "\n",
    "#Join with pharma\n",
    "df_accumulation = df_accumulation.merge(right = df_pharma, how='left', left_on='source', right_on='pha_key')\n",
    "\n",
    "#Drop Columns\n",
    "df_accumulation.drop(columns=['pha_key', 'pha_name', 'source'], inplace=True)\n",
    "\n",
    "#abstract index\n",
    "df_accumulation.index += 1\n",
    "df_accumulation.reset_index(drop=False, inplace=True)\n",
    "\n",
    "#add year\n",
    "df_accumulation['year'] = const_year\n",
    "\n",
    "#Rename Columns\n",
    "df_accumulation.columns = [\n",
    "    'acc_id',\n",
    "    'acc_type',\n",
    "    'acc_donations_grants',\n",
    "    'acc_sponsorship',\n",
    "    'acc_registration_fees',\n",
    "    'acc_travel_accommodation',\n",
    "    'acc_fees',\n",
    "    'acc_related_expenses',\n",
    "    'acc_total',\n",
    "    'acc_fk_pharma',\n",
    "    'acc_year'\n",
    "]\n",
    "\n",
    "#Reorder Columns\n",
    "df_accumulation = df_accumulation[[\n",
    "    'acc_id',\n",
    "    'acc_fk_pharma',\n",
    "    'acc_year',\n",
    "    'acc_donations_grants',\n",
    "    'acc_sponsorship',\n",
    "    'acc_registration_fees',\n",
    "    'acc_travel_accommodation',\n",
    "    'acc_fees',\n",
    "    'acc_related_expenses',\n",
    "    'acc_total',\n",
    "    'acc_type'\n",
    "    \n",
    "]]"
   ]
  },
  {
   "cell_type": "markdown",
   "metadata": {},
   "source": [
    "## table `pharma_source`"
   ]
  },
  {
   "cell_type": "code",
   "execution_count": 9,
   "metadata": {},
   "outputs": [],
   "source": [
    "df_pharma_source = df_pharma_source_raw.copy()\n",
    "\n",
    "#Join with pharma\n",
    "df_pharma_source = df_pharma_source.merge(right = df_pharma, how='left', left_on='phf_key', right_on='pha_key')\n",
    "\n",
    "#drop columns\n",
    "df_pharma_source.drop(columns=['pha_name', 'pha_key', 'phf_key', 'pha_name'], inplace=True)\n",
    "\n",
    "#abstract index\n",
    "df_pharma_source.index += 1\n",
    "df_pharma_source.reset_index(drop=False, inplace=True)\n",
    "\n",
    "#Rename\n",
    "df_pharma_source.columns = [\n",
    "    'phf_id',\n",
    "    'phf_source',\n",
    "    'phf_fk_pharma'\n",
    "]\n",
    "\n",
    "#Reorder\n",
    "df_pharma_source = df_pharma_source[[\n",
    "    'phf_id',\n",
    "    'phf_fk_pharma',\n",
    "    'phf_source'\n",
    "]]\n"
   ]
  },
  {
   "cell_type": "markdown",
   "metadata": {},
   "source": [
    "## table `pharma`"
   ]
  },
  {
   "cell_type": "code",
   "execution_count": 10,
   "metadata": {},
   "outputs": [],
   "source": [
    "df_pharma.drop(axis=1, columns=['pha_key'], inplace=True)"
   ]
  },
  {
   "cell_type": "markdown",
   "metadata": {},
   "source": [
    "## Export files"
   ]
  },
  {
   "cell_type": "code",
   "execution_count": 11,
   "metadata": {},
   "outputs": [],
   "source": [
    "df_pharma.to_csv('../../data/4. database/1_pharma.csv', index=False)\n",
    "df_pharma_source.to_csv('../../data/4. database/2_pharma_source.csv', index=False)\n",
    "df_recipient.to_csv('../../data/4. database/3_recipient.csv', index=False)\n",
    "df_transaction.to_csv('../../data/4. database/4_transaction.csv', index=False)\n",
    "df_accumulation.to_csv('../../data/4. database/5_accumulation.csv', index=False)"
   ]
  },
  {
   "cell_type": "markdown",
   "metadata": {},
   "source": [
    "## Test\n",
    "Concat files together. Still the same result?"
   ]
  },
  {
   "cell_type": "code",
   "execution_count": null,
   "metadata": {},
   "outputs": [],
   "source": [
    "df_test = df_transaction.merge(right = df_recipient, how='left', left_on='tra_fk_recipient', right_on='rec_id')\n",
    "df_test = df_test.merge(right = df_pharma, how='left', left_on='tra_fk_pharma', right_on='pha_id')\n",
    "\n",
    "import sys\n",
    "sys.path.insert(0, '../../data/lib/')\n",
    "import importlib\n",
    "\n",
    "import pdfexport\n",
    "importlib.reload(pdfexport)\n",
    "\n",
    "from pdfexport import *\n",
    "\n",
    "df_test = df_test.sort_values('rec_id')\n",
    "\n",
    "df_test = df_test.set_index([df_test.rec_id, df_test.tra_id])\n",
    "df_test.head(10)\n",
    "\n",
    "\n",
    "write_to_excel(df_test, 'tmp.xlsx', open=True, index=True)\n"
   ]
  }
 ],
 "metadata": {
  "kernelspec": {
   "display_name": "Python 3",
   "language": "python",
   "name": "python3"
  },
  "language_info": {
   "codemirror_mode": {
    "name": "ipython",
    "version": 3
   },
   "file_extension": ".py",
   "mimetype": "text/x-python",
   "name": "python",
   "nbconvert_exporter": "python",
   "pygments_lexer": "ipython3",
   "version": "3.6.5"
  }
 },
 "nbformat": 4,
 "nbformat_minor": 2
}
