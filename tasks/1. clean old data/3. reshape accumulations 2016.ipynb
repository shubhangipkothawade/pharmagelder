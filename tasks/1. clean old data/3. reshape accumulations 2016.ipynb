{
 "cells": [
  {
   "cell_type": "markdown",
   "metadata": {},
   "source": [
    "# Reshape Accumulations 2016"
   ]
  },
  {
   "cell_type": "code",
   "execution_count": 6,
   "metadata": {},
   "outputs": [],
   "source": [
    "import sys\n",
    "import glob\n",
    "import os\n",
    "sys.path.insert(0, '../../data/lib/')\n",
    "\n",
    "import numpy as np\n",
    "import pandas as pd\n",
    "import importlib\n",
    "import re\n",
    "\n",
    "import pdfexport\n",
    "importlib.reload(pdfexport)\n",
    "\n",
    "from pdfexport import *"
   ]
  },
  {
   "cell_type": "markdown",
   "metadata": {},
   "source": [
    "## Import CSV"
   ]
  },
  {
   "cell_type": "code",
   "execution_count": 7,
   "metadata": {},
   "outputs": [],
   "source": [
    "df = pd.read_csv('../../data/0. old data/1. transformation/2_accumulation_2016.csv')"
   ]
  },
  {
   "cell_type": "markdown",
   "metadata": {},
   "source": [
    "## Check Source"
   ]
  },
  {
   "cell_type": "code",
   "execution_count": 8,
   "metadata": {},
   "outputs": [],
   "source": [
    "df_source = pd.read_excel(\"sources/company_to_source.xlsx\")"
   ]
  },
  {
   "cell_type": "code",
   "execution_count": 9,
   "metadata": {},
   "outputs": [
    {
     "data": {
      "text/html": [
       "<div>\n",
       "<style scoped>\n",
       "    .dataframe tbody tr th:only-of-type {\n",
       "        vertical-align: middle;\n",
       "    }\n",
       "\n",
       "    .dataframe tbody tr th {\n",
       "        vertical-align: top;\n",
       "    }\n",
       "\n",
       "    .dataframe thead th {\n",
       "        text-align: right;\n",
       "    }\n",
       "</style>\n",
       "<table border=\"1\" class=\"dataframe\">\n",
       "  <thead>\n",
       "    <tr style=\"text-align: right;\">\n",
       "      <th></th>\n",
       "      <th>year</th>\n",
       "      <th>type</th>\n",
       "      <th>label</th>\n",
       "      <th>count</th>\n",
       "      <th>amount</th>\n",
       "      <th>percent</th>\n",
       "      <th>source</th>\n",
       "      <th>tra_translation</th>\n",
       "      <th>tra_name</th>\n",
       "    </tr>\n",
       "  </thead>\n",
       "  <tbody>\n",
       "  </tbody>\n",
       "</table>\n",
       "</div>"
      ],
      "text/plain": [
       "Empty DataFrame\n",
       "Columns: [year, type, label, count, amount, percent, source, tra_translation, tra_name]\n",
       "Index: []"
      ]
     },
     "execution_count": 9,
     "metadata": {},
     "output_type": "execute_result"
    }
   ],
   "source": [
    "df_test = df.copy()\n",
    "df_test = df_test.merge(df_source, how='left', left_on = 'source', right_on='tra_translation')\n",
    "\n",
    "df_test[df_test.tra_translation.isna()]"
   ]
  },
  {
   "cell_type": "markdown",
   "metadata": {},
   "source": [
    "## Add HCP & HCO"
   ]
  },
  {
   "cell_type": "code",
   "execution_count": 10,
   "metadata": {},
   "outputs": [],
   "source": [
    "df_data = df.copy()\n",
    "\n",
    "#Rename travel_accomodation\n",
    "df_data.loc[df_data.label == 'travel_accomodation', 'label'] = 'travel_accommodation'\n",
    "\n",
    "# Create empty dataframe\n",
    "columns = ['type', 'donations_grants', 'sponsorship', 'registration_fees','travel_accommodation', 'fees', 'related_expenses', 'total', 'source']\n",
    "df_accu = pd.DataFrame(columns=columns)\n",
    "\n",
    "# Loop data\n",
    "for index, row in df_data.iterrows():\n",
    "    items = df_accu[(df_accu.type == row['type']) & (df_accu.source == row['source'])]\n",
    "    if len(items) == 0:\n",
    "        new = {\n",
    "            'type': row['type'],\n",
    "            'source': row['source']\n",
    "        }\n",
    "        df_accu = df_accu.append(new, ignore_index=True)\n",
    "        \n",
    "    df_accu.loc[(df_accu.type == row['type']) & (df_accu.source == row['source']), row['label']] = row['amount']\n",
    "\n",
    "#Calc total\n",
    "df_accu = df_accu.fillna(0)\n",
    "df_accu['total'] = df_accu['donations_grants'] + df_accu['sponsorship'] + df_accu['registration_fees'] + df_accu['travel_accommodation'] + df_accu['fees'] + df_accu['related_expenses']"
   ]
  },
  {
   "cell_type": "markdown",
   "metadata": {},
   "source": [
    "## Add RnD"
   ]
  },
  {
   "cell_type": "code",
   "execution_count": 11,
   "metadata": {},
   "outputs": [],
   "source": [
    "df_rnd = pd.read_excel(\"../../data/0. old data/0. raw/2016/rnd.xlsx\")\n",
    "df_rnd['type'] = 'rnd'\n",
    "\n",
    "#Rename\n",
    "df_rnd = df_rnd.rename(columns={'name': 'source', 'amount': 'total'})\n",
    "\n",
    "#concat\n",
    "df_total = pd.concat([df_accu, df_rnd], sort=False)\n",
    "\n",
    "#add year\n",
    "df_total['year'] = 2016\n",
    "\n",
    "#save\n",
    "#df_total.to_csv('../../data/0. old data/1. transformation/3_accumulation_2016_reshaped.csv', index=False)"
   ]
  },
  {
   "cell_type": "code",
   "execution_count": null,
   "metadata": {},
   "outputs": [],
   "source": []
  }
 ],
 "metadata": {
  "kernelspec": {
   "display_name": "Python 3",
   "language": "python",
   "name": "python3"
  },
  "language_info": {
   "codemirror_mode": {
    "name": "ipython",
    "version": 3
   },
   "file_extension": ".py",
   "mimetype": "text/x-python",
   "name": "python",
   "nbconvert_exporter": "python",
   "pygments_lexer": "ipython3",
   "version": "3.6.5"
  }
 },
 "nbformat": 4,
 "nbformat_minor": 2
}
