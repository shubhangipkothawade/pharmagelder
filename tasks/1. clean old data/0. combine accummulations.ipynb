{
 "cells": [
  {
   "cell_type": "markdown",
   "metadata": {},
   "source": [
    "# Combine Excels to Accumulations\n",
    "This file:\n",
    "* combines all excels\n",
    "* add the filename as \"source\"\n",
    "\n",
    "Be aware: Lists and Accumulations are in the same Excel\n",
    "Accumulations in 2015 not exported and not found :-( do it manually"
   ]
  },
  {
   "cell_type": "code",
   "execution_count": 26,
   "metadata": {},
   "outputs": [],
   "source": [
    "import sys\n",
    "import glob\n",
    "import os\n",
    "sys.path.insert(0, '../../data/lib/')\n",
    "\n",
    "import tabula\n",
    "import numpy as np\n",
    "import pandas as pd\n",
    "import importlib\n",
    "import re\n",
    "\n",
    "import pdfexport\n",
    "importlib.reload(pdfexport)\n",
    "\n",
    "from pdfexport import *"
   ]
  },
  {
   "cell_type": "code",
   "execution_count": 30,
   "metadata": {},
   "outputs": [],
   "source": [
    "IN_2016 = '../../data/0. old data/0. raw/2016/*.xlsx'\n",
    "OUT_2016 = '../../data/0. old data/1. transformation/2016_accumulation.csv'\n",
    "\n",
    "IN_2015 = '../../data/0. old data/0. raw/2015/lists/*.xlsx'\n",
    "OUT_2015 = '../../data/0. old data/1. transformation/2015_accumulation.csv'"
   ]
  },
  {
   "cell_type": "code",
   "execution_count": 28,
   "metadata": {},
   "outputs": [],
   "source": [
    "def combine_files(folder_in, file_out):\n",
    "    #Columnorder\n",
    "    columns_possible = ['slug', 'year', 'type', 'label', 'count', 'amount', 'percent']\n",
    "    \n",
    "    columns_final = ['year', 'type', 'label', 'count', 'amount', 'percent', 'source']\n",
    "    \n",
    "    #Read Folder\n",
    "    csv_list = glob.glob(folder_in)\n",
    "    csv_list.sort()\n",
    "    \n",
    "    #Create Dataframe\n",
    "    df_accu = pd.DataFrame(columns=columns_final)\n",
    "    \n",
    "    #Loop files\n",
    "    for fname in csv_list:\n",
    "        try:\n",
    "            df_accu_tmp = pd.read_excel(fname, sheet_name=1)\n",
    "        except:\n",
    "            print(\"No Accumulations \" + fname)\n",
    "            continue\n",
    "\n",
    "        #Check Collumns\n",
    "        wrong_columns = False\n",
    "        for col in df_accu_tmp.columns:\n",
    "            if col not in columns_possible:\n",
    "                wrong_columns = True\n",
    "            \n",
    "        if wrong_columns:\n",
    "            print(\"Wrong columns! \" + fname)\n",
    "            print(df_accu_tmp.columns)\n",
    "            break\n",
    "            \n",
    "        #Rename wrong columns\n",
    "        df_accu_tmp = df_accu_tmp.rename(columns={'slug': 'source'})\n",
    "        \n",
    "        #Add source\n",
    "        base = os.path.basename(fname)\n",
    "        df_accu_tmp['source'] = os.path.splitext(base)[0]\n",
    "        \n",
    "        #Concat\n",
    "        df_accu = pd.concat([df_accu, df_accu_tmp], sort=False)\n",
    "\n",
    "    #Reorder Columns\n",
    "    df_accu = df_accu[columns_final]\n",
    "    \n",
    "    #Save Files\n",
    "    df_accu.to_csv(file_out, index=False)    \n",
    "    \n",
    "    print(str(len(csv_list)) + \" Files combined in \" + folder_in)\n",
    "    \n",
    "    return df_accu\n"
   ]
  },
  {
   "cell_type": "code",
   "execution_count": 32,
   "metadata": {},
   "outputs": [
    {
     "name": "stdout",
     "output_type": "stream",
     "text": [
      "No Accumulations ../../data/0. old data/0. raw/2015/abbvie.xlsx\n",
      "No Accumulations ../../data/0. old data/0. raw/2015/actelion.xlsx\n",
      "No Accumulations ../../data/0. old data/0. raw/2015/alcon.xlsx\n",
      "No Accumulations ../../data/0. old data/0. raw/2015/allergan.xlsx\n",
      "No Accumulations ../../data/0. old data/0. raw/2015/almirall.xlsx\n",
      "No Accumulations ../../data/0. old data/0. raw/2015/amgen.xlsx\n",
      "No Accumulations ../../data/0. old data/0. raw/2015/astellas.xlsx\n",
      "No Accumulations ../../data/0. old data/0. raw/2015/astrazeneca.xlsx\n",
      "No Accumulations ../../data/0. old data/0. raw/2015/baxalta.xlsx\n",
      "No Accumulations ../../data/0. old data/0. raw/2015/baxter.xlsx\n",
      "Wrong columns! ../../data/0. old data/0. raw/2015/bayer.xlsx\n",
      "Index(['name', 'location', 'country', 'address', 'uci', 'donations_grants',\n",
      "       'sponsorship', 'registration_fees', 'travel_accommodation', 'fees',\n",
      "       'related_expenses', 'total', 'type'],\n",
      "      dtype='object')\n",
      "53 Files combined in ../../data/0. old data/0. raw/2015/*.xlsx\n"
     ]
    },
    {
     "data": {
      "text/html": [
       "<div>\n",
       "<style scoped>\n",
       "    .dataframe tbody tr th:only-of-type {\n",
       "        vertical-align: middle;\n",
       "    }\n",
       "\n",
       "    .dataframe tbody tr th {\n",
       "        vertical-align: top;\n",
       "    }\n",
       "\n",
       "    .dataframe thead th {\n",
       "        text-align: right;\n",
       "    }\n",
       "</style>\n",
       "<table border=\"1\" class=\"dataframe\">\n",
       "  <thead>\n",
       "    <tr style=\"text-align: right;\">\n",
       "      <th></th>\n",
       "      <th>year</th>\n",
       "      <th>type</th>\n",
       "      <th>label</th>\n",
       "      <th>count</th>\n",
       "      <th>amount</th>\n",
       "      <th>percent</th>\n",
       "      <th>source</th>\n",
       "    </tr>\n",
       "  </thead>\n",
       "  <tbody>\n",
       "  </tbody>\n",
       "</table>\n",
       "</div>"
      ],
      "text/plain": [
       "Empty DataFrame\n",
       "Columns: [year, type, label, count, amount, percent, source]\n",
       "Index: []"
      ]
     },
     "execution_count": 32,
     "metadata": {},
     "output_type": "execute_result"
    }
   ],
   "source": [
    "combine_files(IN_2016, OUT_2016)\n",
    "#combine_files(IN_2015, OUT_2015)"
   ]
  },
  {
   "cell_type": "code",
   "execution_count": null,
   "metadata": {},
   "outputs": [],
   "source": []
  }
 ],
 "metadata": {
  "kernelspec": {
   "display_name": "Python 3",
   "language": "python",
   "name": "python3"
  },
  "language_info": {
   "codemirror_mode": {
    "name": "ipython",
    "version": 3
   },
   "file_extension": ".py",
   "mimetype": "text/x-python",
   "name": "python",
   "nbconvert_exporter": "python",
   "pygments_lexer": "ipython3",
   "version": "3.6.5"
  }
 },
 "nbformat": 4,
 "nbformat_minor": 2
}
