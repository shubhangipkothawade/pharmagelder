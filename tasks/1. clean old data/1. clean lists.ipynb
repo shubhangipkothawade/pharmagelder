{
 "cells": [
  {
   "cell_type": "markdown",
   "metadata": {},
   "source": [
    "# Clean old Data"
   ]
  },
  {
   "cell_type": "code",
   "execution_count": 18,
   "metadata": {},
   "outputs": [],
   "source": [
    "import sys\n",
    "sys.path.insert(0, '../../data/lib/')\n",
    "\n",
    "import numpy as np\n",
    "import pandas as pd\n",
    "import importlib\n",
    "\n",
    "import pdfexport\n",
    "importlib.reload(pdfexport)\n",
    "\n",
    "from pdfexport import *"
   ]
  },
  {
   "cell_type": "markdown",
   "metadata": {},
   "source": [
    "## Import CSV"
   ]
  },
  {
   "cell_type": "code",
   "execution_count": 54,
   "metadata": {},
   "outputs": [],
   "source": [
    "types = {\n",
    "    'name': 'str',\n",
    "    'location': 'str',\n",
    "    'country': 'str',\n",
    "    'address': 'str',\n",
    "    'plz': 'str',\n",
    "    'uci': 'str',\n",
    "    'type': 'str',\n",
    "    'source': 'str'\n",
    "}\n",
    "\n",
    "# Read pdf into DataFrame\n",
    "df = pd.read_csv(\"../../data/0. old data/1. transformation/2015_list.csv\", dtype = types)"
   ]
  },
  {
   "cell_type": "markdown",
   "metadata": {},
   "source": [
    "## Format Table"
   ]
  },
  {
   "cell_type": "code",
   "execution_count": 55,
   "metadata": {},
   "outputs": [],
   "source": [
    "def revert_name_source(dataset, sep, source):\n",
    "    for index, row in dataset[(dataset.type == 'hcp') & (dataset.source.isin(source))].iterrows():\n",
    "        if row['type'] == 'hcp':\n",
    "            splitted = row['name'].strip().split(sep)\n",
    "            if len(splitted) == 2:\n",
    "                dataset.loc[index, 'name'] =  (' '.join(splitted[::-1])).strip()\n",
    "            else:\n",
    "                if len(splitted) == 3:\n",
    "                    dataset.loc[index, 'name'] =  splitted[1] + ' ' + splitted[2] + ' ' + splitted[0]\n",
    "                else:\n",
    "                    dataset.loc[index, 'name'] =  (' '.join(splitted[::-1])).strip()\n",
    "                #dataset.loc[index, '_export_information'] = 'Name besteht aus mehr als drei Wörtern. Evt falsch gedrecht. Bitte checken. Original: ' + row['name']\n",
    "    \n",
    "    return dataset"
   ]
  },
  {
   "cell_type": "code",
   "execution_count": 56,
   "metadata": {
    "scrolled": true
   },
   "outputs": [
    {
     "name": "stdout",
     "output_type": "stream",
     "text": [
      "Duplicates found. Please check for duplicates: df_export[df_export.duplicated()]\n",
      "Total nicht Summe der Werte\n"
     ]
    }
   ],
   "source": [
    "df_export = df.copy()\n",
    "\n",
    "#Remove rows which have no values\n",
    "df_export = df_export.dropna(subset=['name', 'location'], how='all')\n",
    "\n",
    "#basic string conversion\n",
    "df_export = basic_string_conversion(df_export)\n",
    "\n",
    "#Country to CH\n",
    "df_export['country'] = 'CH'\n",
    "\n",
    "#Add PLZ\n",
    "df_export = add_plz(df_export)\n",
    "\n",
    "#Remove text in fields\n",
    "df_export['name'] = df_export['name'].str.replace('  ', ' ')\n",
    "df_export['uci'] = df_export['uci'].str.replace('.0', '')\n",
    "df_export['name'] = df_export['name'].str.replace(', No Title', '')\n",
    "df_export['name'] = df_export['name'].str.replace(', pract.', '')\n",
    "df_export['name'] = df_export['name'].str.replace(', lic.', '')\n",
    "df_export['name'] = df_export['name'].str.replace('Egregio Dott.', '')\n",
    "df_export['name'] = df_export['name'].str.replace('Egr gio Dott.', '')\n",
    "\n",
    "#Remove Titles in Name\n",
    "df_export['name'] = df_export.name.str.replace(regex_title, '', regex=True, case=False)\n",
    "df_export['name'] = df_export.name.str.strip()\n",
    "\n",
    "#Remove Comma at the end\n",
    "df_export['name'] = df_export['name'].str.replace(r',$', '', regex=True)\n",
    "\n",
    "#Remove comma in otsuka\n",
    "df_export.loc[df_export.source == 'otsuka', 'name'] = df_export['name'].str.replace(', ', ' ')\n",
    "\n",
    "#Remove \"r.\"\n",
    "df_export['name'] = df_export['name'].str.replace(r'\\br. ', '', regex=True)\n",
    "\n",
    "#shift lastname - surname\n",
    "df_export = revert_name_source(df_export, ' ', ['genzyme', 'msd', 'novartis', 'novo', 'orion', 'sanofi', 'takeda', 'ucb'])\n",
    "df_export = revert_name_source(df_export, ', ', ['mepha', 'pfizer', 'teva'])\n",
    "\n",
    "#Convert to Numbers\n",
    "#df_export = cleanup_number(df_export)\n",
    "df_export = df_export.replace(\"N'A\", np.nan, regex=True)\n",
    "df_export = df_export.replace(\"0, 0\", '0', regex=True)\n",
    "df_export = amounts_to_number(df_export)\n",
    "\n",
    "2015 händisch überprüfen (Namen ok, rest)\n",
    "\n",
    "\n",
    "#CHECK DATAFRAME\n",
    "check_dataframe_list(df_export)\n",
    "\n",
    "#df_export[df_export.address == 'Medizinisch-soziale Hilfestelle1'].head()"
   ]
  },
  {
   "cell_type": "code",
   "execution_count": 17,
   "metadata": {},
   "outputs": [],
   "source": [
    "write_to_excel(df_export, 'tmp.xlsx', open=True)"
   ]
  },
  {
   "cell_type": "code",
   "execution_count": null,
   "metadata": {},
   "outputs": [],
   "source": []
  },
  {
   "cell_type": "code",
   "execution_count": null,
   "metadata": {},
   "outputs": [],
   "source": []
  },
  {
   "cell_type": "code",
   "execution_count": null,
   "metadata": {},
   "outputs": [],
   "source": []
  },
  {
   "cell_type": "code",
   "execution_count": null,
   "metadata": {},
   "outputs": [],
   "source": [
    "#write_to_csv(df_export, 'tmp.csv')\n",
    "#write_to_excel(df_export, 'tmp.xlsx')"
   ]
  }
 ],
 "metadata": {
  "kernelspec": {
   "display_name": "Python 3",
   "language": "python",
   "name": "python3"
  },
  "language_info": {
   "codemirror_mode": {
    "name": "ipython",
    "version": 3
   },
   "file_extension": ".py",
   "mimetype": "text/x-python",
   "name": "python",
   "nbconvert_exporter": "python",
   "pygments_lexer": "ipython3",
   "version": "3.6.5"
  }
 },
 "nbformat": 4,
 "nbformat_minor": 2
}
