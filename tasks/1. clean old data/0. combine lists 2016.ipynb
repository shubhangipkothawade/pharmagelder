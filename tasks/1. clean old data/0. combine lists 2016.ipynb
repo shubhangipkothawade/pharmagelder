{
 "cells": [
  {
   "cell_type": "markdown",
   "metadata": {},
   "source": [
    "# Combine Excels to List - 2016\n",
    "This file:\n",
    "* combines all excels\n",
    "* add the filename as \"source\"\n",
    "\n",
    "Be aware: Lists and Accumulations are in the same Excel"
   ]
  },
  {
   "cell_type": "code",
   "execution_count": 1,
   "metadata": {},
   "outputs": [],
   "source": [
    "import sys\n",
    "import glob\n",
    "import os\n",
    "sys.path.insert(0, '../../data/lib/')\n",
    "\n",
    "import numpy as np\n",
    "import pandas as pd\n",
    "import importlib\n",
    "import pdfexport\n",
    "importlib.reload(pdfexport)\n",
    "\n",
    "from pdfexport import *"
   ]
  },
  {
   "cell_type": "code",
   "execution_count": 2,
   "metadata": {},
   "outputs": [],
   "source": [
    "IN_2016 = '../../data/0. old data/0. raw/2016/companies/*.xlsx'\n",
    "OUT_2016 = '../../data/0. old data/1. transformation/0_2016_list.xlsx'"
   ]
  },
  {
   "cell_type": "code",
   "execution_count": null,
   "metadata": {},
   "outputs": [],
   "source": [
    "#Columnorder\n",
    "columns_possible = ['name', 'location', 'country', 'address', 'uci', 'donations_grants',\n",
    "   'sponsorship', 'registration_fees', 'travel_accommodation', 'fees',\n",
    "   'related_expenses', 'total', 'type', 'travel_accomodation']\n",
    "\n",
    "columns_final = ['name', 'location', 'country', 'address', 'uci', 'donations_grants',\n",
    "   'sponsorship', 'registration_fees', 'travel_accommodation', 'fees',\n",
    "   'related_expenses', 'total', 'type', 'source']\n",
    "\n",
    "types = {\n",
    "    'name': 'str',\n",
    "    'location': 'str',\n",
    "    'country': 'str',\n",
    "    'address': 'str',\n",
    "    'plz': 'str',\n",
    "    'uci': 'str',\n",
    "    'type': 'str',\n",
    "    'company': 'str'\n",
    "}\n",
    "\n",
    "\n",
    "#Read Folder\n",
    "csv_list = glob.glob(IN_2016)\n",
    "csv_list.sort()\n",
    "\n",
    "#Create Dataframe\n",
    "df_list = pd.DataFrame(columns=columns_final)\n",
    "\n",
    "#Loop files\n",
    "for fname in csv_list:\n",
    "    try:\n",
    "        df_list_tmp = pd.read_excel(fname, sheet_name=0, types=types)\n",
    "        #df_accu = pd.read_excel(fname, sheet_name=1)\n",
    "    except:\n",
    "        print(\"Error opening document \" + fname)\n",
    "        break\n",
    "\n",
    "    #Check Collumns\n",
    "    wrong_columns = False\n",
    "    for col in df_list_tmp.columns:\n",
    "        if col not in columns_possible:\n",
    "            wrong_columns = True\n",
    "\n",
    "    if wrong_columns:\n",
    "        print(\"Wrong columns! \" + fname)\n",
    "        print(df_list_tmp.columns)\n",
    "        break\n",
    "\n",
    "    #Rename wrong columns\n",
    "    df_list_tmp = df_list_tmp.rename(columns={'travel_accomodation': 'travel_accommodation'})\n",
    "\n",
    "    #Add source\n",
    "    base = os.path.basename(fname)\n",
    "    df_list_tmp['source'] = os.path.splitext(base)[0]\n",
    "\n",
    "    #Concat\n",
    "    df_list = pd.concat([df_list, df_list_tmp], sort=False)\n",
    "\n",
    "#Reorder Columns\n",
    "df_list = df_list[columns_final]\n",
    "\n",
    "#Save Files\n",
    "df_list.to_excel(OUT_2016, index=False)    \n",
    "\n",
    "print(str(len(csv_list)) + \" Files combined in \" + OUT_2016)\n",
    "    "
   ]
  },
  {
   "cell_type": "code",
   "execution_count": null,
   "metadata": {},
   "outputs": [],
   "source": []
  }
 ],
 "metadata": {
  "kernelspec": {
   "display_name": "Python 3",
   "language": "python",
   "name": "python3"
  },
  "language_info": {
   "codemirror_mode": {
    "name": "ipython",
    "version": 3
   },
   "file_extension": ".py",
   "mimetype": "text/x-python",
   "name": "python",
   "nbconvert_exporter": "python",
   "pygments_lexer": "ipython3",
   "version": "3.6.5"
  }
 },
 "nbformat": 4,
 "nbformat_minor": 2
}
