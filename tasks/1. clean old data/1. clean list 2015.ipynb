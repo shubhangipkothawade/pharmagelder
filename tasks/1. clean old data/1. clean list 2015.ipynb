{
 "cells": [
  {
   "cell_type": "markdown",
   "metadata": {},
   "source": [
    "# Clean Old Data 2015"
   ]
  },
  {
   "cell_type": "code",
   "execution_count": 1,
   "metadata": {},
   "outputs": [],
   "source": [
    "import sys\n",
    "sys.path.insert(0, '../../data/lib/')\n",
    "\n",
    "import numpy as np\n",
    "import pandas as pd\n",
    "import importlib\n",
    "\n",
    "import pdfexport\n",
    "importlib.reload(pdfexport)\n",
    "\n",
    "from pdfexport import *"
   ]
  },
  {
   "cell_type": "markdown",
   "metadata": {},
   "source": [
    "## Import CSV"
   ]
  },
  {
   "cell_type": "code",
   "execution_count": 2,
   "metadata": {},
   "outputs": [],
   "source": [
    "types = {\n",
    "    'name': 'str',\n",
    "    'location': 'str',\n",
    "    'country': 'str',\n",
    "    'address': 'str',\n",
    "    'uci': 'str',\n",
    "    'type': 'str',\n",
    "    'source': 'str'\n",
    "}\n",
    "\n",
    "# Read pdf into DataFrame\n",
    "df_2015 = pd.read_excel(\"../../data/0. old data/0. raw/2015/lists.xlsx\", dtype = types)\n",
    "\n",
    "columns_final = ['name', 'location', 'country', 'address', 'plz', 'uci', 'donations_grants',\n",
    "   'sponsorship', 'registration_fees', 'travel_accommodation', 'fees',\n",
    "   'related_expenses', 'total', 'type', 'source', 'year']"
   ]
  },
  {
   "cell_type": "markdown",
   "metadata": {},
   "source": [
    "## Format Table"
   ]
  },
  {
   "cell_type": "code",
   "execution_count": 3,
   "metadata": {},
   "outputs": [],
   "source": [
    "def revert_name_source(dataset, sep, source):\n",
    "    for index, row in dataset[(dataset.type == 'hcp') & (dataset.source.isin(source))].iterrows():\n",
    "        if row['type'] == 'hcp':\n",
    "            splitted = row['name'].strip().split(sep)\n",
    "            if len(splitted) == 2:\n",
    "                dataset.loc[index, 'name'] =  (' '.join(splitted[::-1])).strip()\n",
    "            else:\n",
    "                if len(splitted) == 3:\n",
    "                    dataset.loc[index, 'name'] =  splitted[1] + ' ' + splitted[2] + ' ' + splitted[0]\n",
    "                else:\n",
    "                    dataset.loc[index, 'name'] =  (' '.join(splitted[::-1])).strip()\n",
    "                #dataset.loc[index, '_export_information'] = 'Name besteht aus mehr als drei Wörtern. Evt falsch gedrecht. Bitte checken. Original: ' + row['name']\n",
    "    \n",
    "    return dataset"
   ]
  },
  {
   "cell_type": "code",
   "execution_count": 5,
   "metadata": {
    "scrolled": false
   },
   "outputs": [
    {
     "name": "stdout",
     "output_type": "stream",
     "text": [
      "Start 2015\n",
      "Column 'year' zuviel\n",
      "Duplicates found. Please check for duplicates: df_export[df_export.duplicated()]\n",
      "Total nicht Summe der Werte\n"
     ]
    }
   ],
   "source": [
    "print(\"Start 2015\")\n",
    "\n",
    "df_joined = df_2015.copy()\n",
    "\n",
    "#Import translation file\n",
    "df_translation = pd.read_excel(\"sources/company_to_source.xlsx\")\n",
    "\n",
    "#Join files\n",
    "df_joined = df_joined.merge(df_translation, how='left', left_on='company', right_on='tra_name')\n",
    "\n",
    "#Rename\n",
    "df_joined = df_joined.rename(columns={'tra_translation': 'source'})\n",
    "\n",
    "#Drop columns\n",
    "df_joined.drop(columns=['company', 'tra_name'], inplace=True)\n",
    "\n",
    "\n",
    "###------------------------ Clean dataset\n",
    "df_export = df_joined.copy()\n",
    "\n",
    "#Remove rows which have no values\n",
    "df_export = df_export.replace(\"nan\", np.nan)\n",
    "df_export = df_export.dropna(subset=['name'], how='all')\n",
    "\n",
    "#Add Missing fields\n",
    "df_export['country'] = 'CH'\n",
    "df_export['uci'] = ''\n",
    "df_export['plz'] = ''\n",
    "df_export['year'] = 2015\n",
    "\n",
    "#lowercase\n",
    "df_export['type'] = df_export['type'].str.lower()\n",
    "\n",
    "#Carrination\n",
    "df_export = remove_carination(df_export, ' ')\n",
    "\n",
    "#basic string conversion\n",
    "df_export = basic_string_conversion(df_export)\n",
    "\n",
    "#Remove text in fields\n",
    "df_export.loc[df_export.address == 'nan', 'address'] = np.nan\n",
    "df_export.loc[df_export.location == 'nan', 'location'] = np.nan\n",
    "df_export['name'] = df_export['name'].str.replace('  ', ' ')\n",
    "df_export['name'] = df_export['name'].str.replace(', No Title', '', regex=False)\n",
    "df_export['name'] = df_export['name'].str.replace(', pract.', '', regex=False)\n",
    "df_export['name'] = df_export['name'].str.replace(', lic.', '', regex=False)\n",
    "df_export['name'] = df_export['name'].str.replace('Egregio Dott.', '', regex=False)\n",
    "df_export['name'] = df_export['name'].str.replace('Egr gio Dott.', '', regex=False)\n",
    "\n",
    "#Remove Titles in Name\n",
    "df_export['name'] = df_export.name.str.replace(regex_title, '', regex=True, case=False)\n",
    "df_export['name'] = df_export.name.str.strip()\n",
    "\n",
    "#Remove Comma at the end\n",
    "df_export['name'] = df_export['name'].str.replace(r',$', '', regex=True)\n",
    "\n",
    "#Remove comma in otsuka\n",
    "df_export.loc[df_export.source == 'otsuka', 'name'] = df_export['name'].str.replace(', ', ' ')\n",
    "\n",
    "#Remove \"r.\"\n",
    "df_export['name'] = df_export['name'].str.replace(r'\\br. ', '', regex=True)\n",
    "\n",
    "#shift lastname - surname\n",
    "df_export = revert_name_source(df_export, ' ', ['genzyme', 'msd', 'novartis', 'novo', 'orion', 'sanofi', 'takeda', 'ucb'])\n",
    "df_export = revert_name_source(df_export, ', ', ['mepha', 'pfizer', 'teva'])\n",
    "\n",
    "#Convert to Numbers\n",
    "df_export = amounts_to_number(df_export)\n",
    "\n",
    "#Reorder Columns\n",
    "df_export = df_export[columns_final]\n",
    "\n",
    "#CHECK DATAFRAME\n",
    "check_dataframe_list(df_export)\n",
    "\n",
    "#save\n",
    "df_export.to_csv('../../data/0. old data/1. transformation/1_2015_list_cleaned.csv', index=False)\n",
    "\n",
    "#write_to_excel(df_export, 'tmp.xlsx', open=True)\n"
   ]
  },
  {
   "cell_type": "code",
   "execution_count": null,
   "metadata": {},
   "outputs": [],
   "source": []
  }
 ],
 "metadata": {
  "kernelspec": {
   "display_name": "Python 3",
   "language": "python",
   "name": "python3"
  },
  "language_info": {
   "codemirror_mode": {
    "name": "ipython",
    "version": 3
   },
   "file_extension": ".py",
   "mimetype": "text/x-python",
   "name": "python",
   "nbconvert_exporter": "python",
   "pygments_lexer": "ipython3",
   "version": "3.6.5"
  }
 },
 "nbformat": 4,
 "nbformat_minor": 2
}
