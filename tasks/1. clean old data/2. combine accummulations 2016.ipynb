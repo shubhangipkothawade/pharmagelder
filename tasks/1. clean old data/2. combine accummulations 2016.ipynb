{
 "cells": [
  {
   "cell_type": "markdown",
   "metadata": {},
   "source": [
    "# Combine Excels to Accumulations 2016\n",
    "This file:\n",
    "* combines all excels\n",
    "* add the filename as \"source\"\n",
    "\n",
    "Be aware: Lists and Accumulations are in the same Excel\n",
    "Accumulations in 2015 not exported and not found :-( do it manually"
   ]
  },
  {
   "cell_type": "code",
   "execution_count": 1,
   "metadata": {},
   "outputs": [],
   "source": [
    "import sys\n",
    "import glob\n",
    "import os\n",
    "sys.path.insert(0, '../../data/lib/')\n",
    "\n",
    "import numpy as np\n",
    "import pandas as pd\n",
    "import importlib\n",
    "import re\n",
    "\n",
    "import pdfexport\n",
    "importlib.reload(pdfexport)\n",
    "\n",
    "from pdfexport import *"
   ]
  },
  {
   "cell_type": "code",
   "execution_count": 4,
   "metadata": {},
   "outputs": [],
   "source": [
    "IN_2016 = '../../data/0. old data/0. raw/2016/*.xlsx'\n",
    "OUT_2016 = '../../data/0. old data/1. transformation/2_accumulation_2016.csv'"
   ]
  },
  {
   "cell_type": "code",
   "execution_count": 5,
   "metadata": {},
   "outputs": [
    {
     "name": "stdout",
     "output_type": "stream",
     "text": [
      "No Accumulations ../../data/0. old data/0. raw/2016/almirall.xlsx\n",
      "No Accumulations ../../data/0. old data/0. raw/2016/neurim.xlsx\n",
      "54 Files combined in 2016\n"
     ]
    }
   ],
   "source": [
    "#Columnorder\n",
    "columns_possible = ['slug', 'year', 'type', 'label', 'count', 'amount', 'percent']\n",
    "\n",
    "columns_final = ['year', 'type', 'label', 'count', 'amount', 'percent', 'source']\n",
    "\n",
    "#Read Folder\n",
    "csv_list = glob.glob(IN_2016)\n",
    "csv_list.sort()\n",
    "\n",
    "#Create Dataframe\n",
    "df_accu = pd.DataFrame(columns=columns_final)\n",
    "\n",
    "#Loop files\n",
    "for fname in csv_list:\n",
    "    try:\n",
    "        df_accu_tmp = pd.read_excel(fname, sheet_name=1)\n",
    "    except:\n",
    "        print(\"No Accumulations \" + fname)\n",
    "        continue\n",
    "\n",
    "    #Check Collumns\n",
    "    wrong_columns = False\n",
    "    for col in df_accu_tmp.columns:\n",
    "        if col not in columns_possible:\n",
    "            wrong_columns = True\n",
    "\n",
    "    if wrong_columns:\n",
    "        print(\"Wrong columns! \" + fname)\n",
    "        print(df_accu_tmp.columns)\n",
    "        break\n",
    "\n",
    "    #Rename wrong columns\n",
    "    df_accu_tmp = df_accu_tmp.rename(columns={'slug': 'source'})\n",
    "\n",
    "    #Add source\n",
    "    base = os.path.basename(fname)\n",
    "    df_accu_tmp['source'] = os.path.splitext(base)[0]\n",
    "\n",
    "    #Concat\n",
    "    df_accu = pd.concat([df_accu, df_accu_tmp], sort=False)\n",
    "\n",
    "#Reorder Columns\n",
    "df_accu = df_accu[columns_final]\n",
    "\n",
    "#Save Files\n",
    "df_accu.to_csv(OUT_2016, index=False)    \n",
    "\n",
    "print(str(len(csv_list)) + \" Files combined in 2016\")"
   ]
  },
  {
   "cell_type": "code",
   "execution_count": null,
   "metadata": {},
   "outputs": [],
   "source": []
  },
  {
   "cell_type": "code",
   "execution_count": null,
   "metadata": {},
   "outputs": [],
   "source": []
  }
 ],
 "metadata": {
  "kernelspec": {
   "display_name": "Python 3",
   "language": "python",
   "name": "python3"
  },
  "language_info": {
   "codemirror_mode": {
    "name": "ipython",
    "version": 3
   },
   "file_extension": ".py",
   "mimetype": "text/x-python",
   "name": "python",
   "nbconvert_exporter": "python",
   "pygments_lexer": "ipython3",
   "version": "3.6.5"
  }
 },
 "nbformat": 4,
 "nbformat_minor": 2
}
