{
 "cells": [
  {
   "cell_type": "markdown",
   "metadata": {},
   "source": [
    "# Remove strings"
   ]
  },
  {
   "cell_type": "code",
   "execution_count": 3,
   "metadata": {},
   "outputs": [],
   "source": [
    "import sys\n",
    "sys.path.insert(0, '../../data/lib/')\n",
    "\n",
    "import pandas as pd\n",
    "import importlib\n",
    "\n",
    "import pdfexport\n",
    "importlib.reload(pdfexport)\n",
    "\n",
    "from pdfexport import *"
   ]
  },
  {
   "cell_type": "markdown",
   "metadata": {},
   "source": [
    "## AstraZeneca - Remove Spaces\n",
    "In `astrazeneca` are sometimes fourtimes in the address. Already fixed in export"
   ]
  },
  {
   "cell_type": "code",
   "execution_count": 2,
   "metadata": {},
   "outputs": [],
   "source": [
    "path = \"../../data/2. manual check/lists/astrazeneca.csv\"\n",
    "\n",
    "# Read pdf into DataFrame\n",
    "df_export = pd.read_csv(path)\n",
    "\n",
    "# remove spaces\n",
    "df_export = df_export.replace('    ', ' ', regex=True)\n",
    "\n",
    "# Save\n",
    "df_export.to_csv(path, index=False)"
   ]
  },
  {
   "cell_type": "markdown",
   "metadata": {},
   "source": [
    "## Galderma - remove `-` at Beginning"
   ]
  },
  {
   "cell_type": "code",
   "execution_count": 22,
   "metadata": {},
   "outputs": [],
   "source": [
    "path = \"../../data/2. manual check/lists/galderma.csv\"\n",
    "\n",
    "# Read pdf into DataFrame\n",
    "df_export = pd.read_csv(path)\n",
    "\n",
    "# remove minus\n",
    "df_export = df_export.replace(r'^-\\s', ' ', regex=True)\n",
    "\n",
    "# Save\n",
    "df_export.to_csv(path, index=False)"
   ]
  },
  {
   "cell_type": "markdown",
   "metadata": {},
   "source": [
    "## MSD - Remove Name in Address"
   ]
  },
  {
   "cell_type": "code",
   "execution_count": 23,
   "metadata": {},
   "outputs": [],
   "source": [
    "path = \"../../data/2. manual check/lists/msd.csv\"\n",
    "\n",
    "# Read pdf into DataFrame\n",
    "df_export = pd.read_csv(path)\n",
    "\n",
    "df_export['address'] = df_export['address'].astype(str)\n",
    "\n",
    "df_export['address'] = df_export.apply(lambda row: row['address'].replace(row['name'], '') , axis = 1)\n",
    "df_export['address'] = df_export['address'].str.strip()\n",
    "\n",
    "# Save\n",
    "df_export.to_csv(path, index=False)"
   ]
  },
  {
   "cell_type": "code",
   "execution_count": null,
   "metadata": {},
   "outputs": [],
   "source": []
  }
 ],
 "metadata": {
  "kernelspec": {
   "display_name": "Python 3",
   "language": "python",
   "name": "python3"
  },
  "language_info": {
   "codemirror_mode": {
    "name": "ipython",
    "version": 3
   },
   "file_extension": ".py",
   "mimetype": "text/x-python",
   "name": "python",
   "nbconvert_exporter": "python",
   "pygments_lexer": "ipython3",
   "version": "3.6.5"
  }
 },
 "nbformat": 4,
 "nbformat_minor": 2
}
