{
 "cells": [
  {
   "cell_type": "markdown",
   "metadata": {},
   "source": [
    "# Download Spreadsheets\n",
    "This script downloads all Spreadsheets, saves them to the corresponding folder and push it to git. The spreadsheet-ID has to be in the spreadsheet_connections-list: https://docs.google.com/spreadsheets/d/1OPYRElRiBLVH9o_CZmGumReAx-VzYNbQsiGzqN0AuhU/edit#gid=0  \n",
    "  \n",
    "**The get the spreadsheet-id, open the spreadsheet and:**\n",
    "* Datei (file)\n",
    "* Im Web veröffentlichen (publish to the web)\n",
    "* Chose the corresponding sheet and \"csv\"\n",
    "* copy between `d/` and `/`\n",
    "\n",
    "The spreadsheet_connection-list must look like this:\n",
    "\n",
    "name | list | accumulation\n",
    "--- | --- | ---\n",
    "name of company | id of list | id of accumulation\n",
    "Example | --- | ---\n",
    "abbvie | 2PACX-1vTMfDlRf3W4aHPs6JCctSWObkax8ctvC9qvz83lJaQ1Y1J610DbVeeDEccNiHRfCAl4peqfQfu7Jinw | 2PACX-1vQ45Jp7fkbisQUX8C_lb_5UeW-Na_6eYXzzfD_mArDVDlrnO7xqfCg6BIaElggUGylsi51jjz5PsYaV"
   ]
  },
  {
   "cell_type": "markdown",
   "metadata": {},
   "source": [
    "## Import"
   ]
  },
  {
   "cell_type": "code",
   "execution_count": 1,
   "metadata": {},
   "outputs": [],
   "source": [
    "import pandas as pd\n",
    "import urllib.request\n",
    "import numpy as np\n",
    "import os\n",
    "#from IPython.display import display, Markdown\n",
    "import sys\n",
    "import git"
   ]
  },
  {
   "cell_type": "markdown",
   "metadata": {},
   "source": [
    "## Consts"
   ]
  },
  {
   "cell_type": "code",
   "execution_count": 2,
   "metadata": {},
   "outputs": [],
   "source": [
    "#URL to the connection spreadsheet\n",
    "ID_CONNECTION_SHEET = '2PACX-1vQO6w43ux3cONNFWW5o6aEX08bLhQJ6imIZUm6It4fMf_cMGfCWO3npNXe5uGAQCHj19jXACtclnfza'\n",
    "EXPORT_FOLDER = '../../data/2. manual check/%s/'\n",
    "GIT_REPOSITORY = '/Users/hws/Documents/python/pharmagelder'\n",
    "GIT_COMMIT_DETECTION = '/Users/hws/Documents/python/pharmagelder/data/2. manual check/*.csv'\n",
    "\n",
    "#Templates\n",
    "SHEET_URL = 'https://docs.google.com/spreadsheets/d/e/%s/pub?output=csv'"
   ]
  },
  {
   "cell_type": "code",
   "execution_count": 6,
   "metadata": {},
   "outputs": [],
   "source": [
    "def log(value):\n",
    "    #display(Markdown(value))\n",
    "    print(value)"
   ]
  },
  {
   "cell_type": "markdown",
   "metadata": {},
   "source": [
    "## Sync folder"
   ]
  },
  {
   "cell_type": "code",
   "execution_count": 4,
   "metadata": {},
   "outputs": [
    {
     "name": "stdout",
     "output_type": "stream",
     "text": [
      "Pull from git\n"
     ]
    },
    {
     "data": {
      "text/plain": [
       "'Already up to date.'"
      ]
     },
     "execution_count": 4,
     "metadata": {},
     "output_type": "execute_result"
    }
   ],
   "source": [
    "#Init repo\n",
    "repo = git.Repo(GIT_REPOSITORY)\n",
    "\n",
    "#Fetch repo\n",
    "log(\"Pull from git\")\n",
    "#repo.remotes.origin.fetch()\n",
    "repo.git.pull()"
   ]
  },
  {
   "cell_type": "code",
   "execution_count": 6,
   "metadata": {},
   "outputs": [
    {
     "name": "stdout",
     "output_type": "stream",
     "text": [
      "Download Connection-Sheet\n"
     ]
    }
   ],
   "source": [
    "#Load Connection Sheet\n",
    "log(\"Download Connection-Sheet\")\n",
    "df = pd.read_csv(SHEET_URL % ID_CONNECTION_SHEET)\n",
    "df = df.fillna(\"\")"
   ]
  },
  {
   "cell_type": "code",
   "execution_count": null,
   "metadata": {},
   "outputs": [
    {
     "name": "stdout",
     "output_type": "stream",
     "text": [
      "abbvie\n",
      "- List loaded\n",
      "- Accumulation loaded\n",
      "actelion\n",
      "- List loaded\n",
      "- Accumulation loaded\n",
      "allergan\n",
      "- List loaded\n",
      "- Accumulation loaded\n",
      "almirall\n",
      "- List loaded\n",
      "- Accumulation loaded\n",
      "amgen\n",
      "- List loaded\n",
      "- Accumulation loaded\n",
      "astellas\n",
      "- List loaded\n",
      "- Accumulation loaded\n",
      "astrazeneca\n",
      "- List loaded\n",
      "- Accumulation loaded\n",
      "baxter\n",
      "- List loaded\n",
      "==>  no Accumulation\n",
      "bayer\n",
      "- List loaded\n",
      "- Accumulation loaded\n",
      "bgp\n",
      "- List loaded\n",
      "- Accumulation loaded\n",
      "biogen\n",
      "- List loaded\n",
      "- Accumulation loaded\n",
      "biotest\n",
      "- List loaded\n",
      "- Accumulation loaded\n",
      "boehringer\n",
      "- List loaded\n",
      "- Accumulation loaded\n",
      "bristol\n",
      "- List loaded\n",
      "- Accumulation loaded\n",
      "celgene\n",
      "- List loaded\n",
      "- Accumulation loaded\n",
      "eisei\n",
      "- List loaded\n",
      "- Accumulation loaded\n",
      "future\n",
      "- List loaded\n",
      "- Accumulation loaded\n",
      "galderma\n",
      "- List loaded\n",
      "- Accumulation loaded\n",
      "gilead\n",
      "- List loaded\n",
      "- Accumulation loaded\n",
      "glaxosmithkline\n",
      "- List loaded\n",
      "- Accumulation loaded\n",
      "gruenenthal\n",
      "- List loaded\n",
      "- Accumulation loaded\n",
      "jansen\n",
      "- List loaded\n",
      "- Accumulation loaded\n",
      "leo\n",
      "- List loaded\n",
      "- Accumulation loaded\n",
      "lundbeck\n",
      "- List loaded\n",
      "- Accumulation loaded\n",
      "meda\n",
      "- List loaded\n",
      "- Accumulation loaded\n",
      "meranini\n",
      "- List loaded\n",
      "- Accumulation loaded\n",
      "mepha\n",
      "- List loaded\n"
     ]
    }
   ],
   "source": [
    "def load_file(_id, _name, _subfolder):\n",
    "    ullfilename = os.path.join(EXPORT_FOLDER % _subfolder, _name + '.csv')\n",
    "    try:\n",
    "        urllib.request.urlretrieve(SHEET_URL % _id, ullfilename)\n",
    "    except Exception as e:\n",
    "        log(\"==> Error downloading file %s\" % ullfilename)\n",
    "        print(e)\n",
    "\n",
    "for index, row in df.iterrows():\n",
    "    \n",
    "    log(row['name'])\n",
    "    #Load List\n",
    "    if row['list'] != \"\":\n",
    "        load_file(row['list'], row['name'], 'lists')\n",
    "        log('- List loaded')\n",
    "    else:\n",
    "        log('==> List not found')\n",
    "        \n",
    "    #Load Accumulation\n",
    "    if row['accumulation'] != \"\":\n",
    "        load_file(row['accumulation'], row['name'], 'accumulations')\n",
    "        log('- Accumulation loaded')\n",
    "    else:\n",
    "        log('==>  no Accumulation')\n",
    "      \n",
    "log(\"Data synced\")"
   ]
  },
  {
   "cell_type": "markdown",
   "metadata": {},
   "source": [
    "## Push git"
   ]
  },
  {
   "cell_type": "code",
   "execution_count": 8,
   "metadata": {},
   "outputs": [
    {
     "name": "stdout",
     "output_type": "stream",
     "text": [
      "Try to comming\n",
      "Nothing changed\n",
      "Everything done\n"
     ]
    }
   ],
   "source": [
    "#Push everything to git\n",
    "log(\"Try to comming\")\n",
    "repo.git.add(GIT_COMMIT_DETECTION)\n",
    "if repo.git.diff(None, cached=True) != \"\":\n",
    "    repo.git.commit('-m', 'spreadsheet-auto-sync', author='simon.huwiler@ringier.ch')\n",
    "    repo.git.push()\n",
    "else:\n",
    "    log(\"Nothing changed\")\n",
    "\n",
    "del repo\n",
    "\n",
    "log(\"Everything done\")"
   ]
  },
  {
   "cell_type": "code",
   "execution_count": null,
   "metadata": {},
   "outputs": [],
   "source": []
  }
 ],
 "metadata": {
  "kernelspec": {
   "display_name": "Python 3",
   "language": "python",
   "name": "python3"
  },
  "language_info": {
   "codemirror_mode": {
    "name": "ipython",
    "version": 3
   },
   "file_extension": ".py",
   "mimetype": "text/x-python",
   "name": "python",
   "nbconvert_exporter": "python",
   "pygments_lexer": "ipython3",
   "version": "3.6.5"
  }
 },
 "nbformat": 4,
 "nbformat_minor": 2
}
