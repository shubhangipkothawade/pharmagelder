{
 "cells": [
  {
   "cell_type": "markdown",
   "metadata": {},
   "source": [
    "# Download Spreadsheets\n",
    "This script downloads all Spreadsheets, saves them to the corresponding folder and push it to git. The spreadsheet-ID has to be in the spreadsheet_connections-list: https://docs.google.com/spreadsheets/d/1nla4bvR16WsYxBt--I1qBRqEaLZn1yNXA6gFV79qRjQ/edit#gid=0\n",
    "  \n",
    "**The get the spreadsheet-id, open the spreadsheet and:**\n",
    "* Datei (file)\n",
    "* Im Web veröffentlichen (publish to the web)\n",
    "* Chose the corresponding sheet and \"csv\"\n",
    "* copy the url\n",
    "\n",
    "The spreadsheet_connection-list must look like this:\n",
    "\n",
    "name | list | accumulation\n",
    "--- | --- | ---\n",
    "name of company | id of list | id of accumulation\n",
    "Example | --- | ---\n",
    "abbvie | url | url"
   ]
  },
  {
   "cell_type": "markdown",
   "metadata": {},
   "source": [
    "## Import"
   ]
  },
  {
   "cell_type": "code",
   "execution_count": 1,
   "metadata": {},
   "outputs": [],
   "source": [
    "import pandas as pd\n",
    "import urllib.request\n",
    "import numpy as np\n",
    "import os\n",
    "import sys\n",
    "import git"
   ]
  },
  {
   "cell_type": "markdown",
   "metadata": {},
   "source": [
    "## Consts"
   ]
  },
  {
   "cell_type": "code",
   "execution_count": 2,
   "metadata": {},
   "outputs": [],
   "source": [
    "#URL to the connection spreadsheet\n",
    "ID_CONNECTION_SHEET = 'https://docs.google.com/spreadsheets/d/e/2PACX-1vRx-RzsYDkSG-j-xwea5TrfRc8k2_l-U6DwvbY9apc_dv1DXq4CWpElKIYRulcRtw18tla_P7Br3EoG/pub?gid=0&single=true&output=csv'\n",
    "EXPORT_FOLDER = '../../data/2. manual check/%s/'\n",
    "GIT_REPOSITORY = '/Users/hws/Documents/python/pharmagelder'\n",
    "GIT_COMMIT_DETECTION = '/Users/hws/Documents/python/pharmagelder/data/2. manual check/*.csv'\n",
    "\n",
    "#Templates\n",
    "#SHEET_URL = 'https://docs.google.com/spreadsheets/d/e/%s/pub?output=csv'"
   ]
  },
  {
   "cell_type": "code",
   "execution_count": 3,
   "metadata": {},
   "outputs": [],
   "source": [
    "def log(value):\n",
    "    #display(Markdown(value))\n",
    "    print(value)"
   ]
  },
  {
   "cell_type": "markdown",
   "metadata": {},
   "source": [
    "## Sync folder"
   ]
  },
  {
   "cell_type": "code",
   "execution_count": 4,
   "metadata": {},
   "outputs": [
    {
     "name": "stdout",
     "output_type": "stream",
     "text": [
      "Pull from git\n"
     ]
    },
    {
     "data": {
      "text/plain": [
       "'Already up to date.'"
      ]
     },
     "execution_count": 4,
     "metadata": {},
     "output_type": "execute_result"
    }
   ],
   "source": [
    "#Init repo\n",
    "repo = git.Repo(GIT_REPOSITORY)\n",
    "\n",
    "#Fetch repo\n",
    "log(\"Pull from git\")\n",
    "#repo.remotes.origin.fetch()\n",
    "repo.git.pull()"
   ]
  },
  {
   "cell_type": "code",
   "execution_count": null,
   "metadata": {},
   "outputs": [
    {
     "name": "stdout",
     "output_type": "stream",
     "text": [
      "Download Connection-Sheet\n"
     ]
    }
   ],
   "source": [
    "#Load Connection Sheet\n",
    "log(\"Download Connection-Sheet\")\n",
    "df = pd.read_csv(ID_CONNECTION_SHEET)\n",
    "df = df.fillna(\"\")"
   ]
  },
  {
   "cell_type": "code",
   "execution_count": null,
   "metadata": {},
   "outputs": [
    {
     "name": "stdout",
     "output_type": "stream",
     "text": [
      "abbvie\n",
      "- List loaded\n",
      "- Accumulation loaded\n",
      "actelion\n",
      "- List loaded\n",
      "- Accumulation loaded\n",
      "alcon\n",
      "- List loaded\n",
      "- Accumulation loaded\n",
      "allergan\n",
      "- List loaded\n",
      "- Accumulation loaded\n",
      "almirall\n",
      "- List loaded\n",
      "- Accumulation loaded\n",
      "amgen\n",
      "- List loaded\n",
      "- Accumulation loaded\n",
      "astellas\n",
      "- List loaded\n",
      "- Accumulation loaded\n",
      "astrazeneca\n",
      "- List loaded\n",
      "- Accumulation loaded\n",
      "basilea\n",
      "- List loaded\n",
      "- Accumulation loaded\n",
      "baxter\n",
      "- List loaded\n",
      "- Accumulation loaded\n",
      "bayer\n",
      "- List loaded\n",
      "- Accumulation loaded\n",
      "bgp\n",
      "- List loaded\n",
      "- Accumulation loaded\n",
      "biogen\n",
      "- List loaded\n",
      "- Accumulation loaded\n",
      "biotest\n",
      "- List loaded\n",
      "- Accumulation loaded\n",
      "boehringer\n",
      "- List loaded\n",
      "- Accumulation loaded\n",
      "bristol\n",
      "- List loaded\n",
      "- Accumulation loaded\n",
      "celgene\n",
      "- List loaded\n",
      "- Accumulation loaded\n",
      "csl\n",
      "- List loaded\n",
      "- Accumulation loaded\n",
      "daiichi\n",
      "- List loaded\n",
      "- Accumulation loaded\n",
      "eisai\n",
      "- List loaded\n",
      "- Accumulation loaded\n",
      "eli\n",
      "- List loaded\n",
      "- Accumulation loaded\n",
      "ferring\n",
      "- List loaded\n",
      "- Accumulation loaded\n",
      "future\n",
      "- List loaded\n",
      "- Accumulation loaded\n",
      "galderma\n",
      "- List loaded\n",
      "- Accumulation loaded\n",
      "gilead\n",
      "- List loaded\n",
      "- Accumulation loaded\n",
      "glaxosmithkline\n",
      "- List loaded\n",
      "- Accumulation loaded\n",
      "gruenenthal\n",
      "- List loaded\n",
      "- Accumulation loaded\n",
      "hra\n",
      "- List loaded\n",
      "- Accumulation loaded\n",
      "janssen\n",
      "- List loaded\n",
      "- Accumulation loaded\n",
      "leo\n",
      "- List loaded\n",
      "- Accumulation loaded\n",
      "lundbeck\n",
      "- List loaded\n",
      "- Accumulation loaded\n",
      "meda\n",
      "- List loaded\n",
      "- Accumulation loaded\n",
      "menarini\n",
      "- List loaded\n",
      "- Accumulation loaded\n",
      "mepha\n",
      "- List loaded\n",
      "- Accumulation loaded\n",
      "merck\n",
      "- List loaded\n",
      "- Accumulation loaded\n",
      "msd\n",
      "- List loaded\n",
      "- Accumulation loaded\n",
      "mundipharma\n",
      "- List loaded\n",
      "- Accumulation loaded\n",
      "neurim\n",
      "- List loaded\n",
      "- Accumulation loaded\n",
      "norgine\n",
      "- List loaded\n",
      "- Accumulation loaded\n",
      "novartis\n",
      "- List loaded\n",
      "- Accumulation loaded\n",
      "nordic\n",
      "- List loaded\n",
      "- Accumulation loaded\n",
      "novo\n",
      "- List loaded\n",
      "- Accumulation loaded\n",
      "orion\n",
      "- List loaded\n",
      "- Accumulation loaded\n",
      "otsuka\n",
      "- List loaded\n",
      "- Accumulation loaded\n",
      "pfizer\n",
      "- List loaded\n",
      "- Accumulation loaded\n",
      "pierre\n",
      "- List loaded\n",
      "- Accumulation loaded\n",
      "recordati\n",
      "- List loaded\n",
      "- Accumulation loaded\n",
      "roche\n",
      "- List loaded\n",
      "- Accumulation loaded\n",
      "sandoz\n",
      "- List loaded\n",
      "- Accumulation loaded\n",
      "sanofi\n",
      "- List loaded\n"
     ]
    }
   ],
   "source": [
    "def load_file(_id, _name, _subfolder):\n",
    "    ullfilename = os.path.join(EXPORT_FOLDER % _subfolder, _name + '.csv')\n",
    "    try:\n",
    "        urllib.request.urlretrieve(_id, ullfilename)\n",
    "    except Exception as e:\n",
    "        log(\"==> Error downloading file %s\" % ullfilename)\n",
    "        print(e)\n",
    "\n",
    "for index, row in df.iterrows():\n",
    "    \n",
    "    log(row['name'])\n",
    "    #Load List\n",
    "    if row['list'] != \"\":\n",
    "        load_file(row['list'], row['name'], 'lists')\n",
    "        log('- List loaded')\n",
    "    else:\n",
    "        log('==> List not found')\n",
    "        \n",
    "    #Load Accumulation\n",
    "    if row['accumulation'] != \"\":\n",
    "        load_file(row['accumulation'], row['name'], 'accumulations')\n",
    "        log('- Accumulation loaded')\n",
    "    else:\n",
    "        log('==>  no Accumulation')\n",
    "      \n",
    "log(\"Data synced\")"
   ]
  },
  {
   "cell_type": "markdown",
   "metadata": {},
   "source": [
    "## Push git"
   ]
  },
  {
   "cell_type": "code",
   "execution_count": null,
   "metadata": {},
   "outputs": [],
   "source": [
    "#Push everything to git\n",
    "log(\"Try to comming\")\n",
    "repo.git.add(GIT_COMMIT_DETECTION)\n",
    "if repo.git.diff(None, cached=True) != \"\":\n",
    "    repo.git.commit('-m', 'spreadsheet-auto-sync', author='simon.huwiler@ringier.ch')\n",
    "    repo.git.push()\n",
    "else:\n",
    "    log(\"Nothing changed\")\n",
    "\n",
    "del repo\n",
    "\n",
    "log(\"Everything done\")"
   ]
  },
  {
   "cell_type": "code",
   "execution_count": null,
   "metadata": {},
   "outputs": [],
   "source": []
  }
 ],
 "metadata": {
  "kernelspec": {
   "display_name": "Python 3",
   "language": "python",
   "name": "python3"
  },
  "language_info": {
   "codemirror_mode": {
    "name": "ipython",
    "version": 3
   },
   "file_extension": ".py",
   "mimetype": "text/x-python",
   "name": "python",
   "nbconvert_exporter": "python",
   "pygments_lexer": "ipython3",
   "version": "3.6.5"
  }
 },
 "nbformat": 4,
 "nbformat_minor": 2
}
