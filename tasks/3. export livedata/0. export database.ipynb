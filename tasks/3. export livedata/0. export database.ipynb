{
 "cells": [
  {
   "cell_type": "markdown",
   "metadata": {},
   "source": [
    "# Export Live Database\n",
    "Export data from the running database. For recipient, export `recipient` and original data in `transaction`. Merge them and remove duplicates."
   ]
  },
  {
   "cell_type": "code",
   "execution_count": 1,
   "metadata": {},
   "outputs": [],
   "source": [
    "import mysql.connector\n",
    "import pandas as pd"
   ]
  },
  {
   "cell_type": "markdown",
   "metadata": {},
   "source": [
    "## Connection"
   ]
  },
  {
   "cell_type": "code",
   "execution_count": 2,
   "metadata": {},
   "outputs": [],
   "source": [
    "db_connection = mysql.connector.connect(\n",
    "    host=\"localhost\",\n",
    "    user=\"root\",\n",
    "    passwd=\"\",\n",
    "    database = \"pharmagelder\"\n",
    ")"
   ]
  },
  {
   "cell_type": "markdown",
   "metadata": {},
   "source": [
    "## Load data"
   ]
  },
  {
   "cell_type": "code",
   "execution_count": 3,
   "metadata": {},
   "outputs": [],
   "source": [
    "#Load recipient and transaction\n",
    "df_recipient = pd.read_sql(\"\"\"SELECT\n",
    "    rec_id as id,\n",
    "    rec_name as name,\n",
    "    rec_address as address,\n",
    "    rec_location as location,\n",
    "    rec_type as type\n",
    "  FROM recipient\"\"\", con=db_connection)\n",
    "\n",
    "df_transaction = pd.read_sql(\"\"\"SELECT\n",
    "    tra_fk_recipient as id,\n",
    "    tra_name_original as name,\n",
    "    tra_location_original as location,\n",
    "    tra_address_original as address,\n",
    "    rec_type as type\n",
    "  FROM transaction\n",
    "  LEFT JOIN recipient ON tra_fk_recipient = rec_id\n",
    "  GROUP BY tra_fk_recipient\"\"\", con=db_connection)\n",
    "\n",
    "#Merge datasets\n",
    "df_recipient = pd.concat([df_recipient, df_transaction], sort=False)\n",
    "\n",
    "#Drop duplicates\n",
    "df_recipient.drop_duplicates(inplace = True)\n",
    "\n",
    "df_recipient = df_recipient.sort_values(by='id')\n",
    "\n",
    "#Load Pharma\n",
    "df_pharma = pd.read_sql(\"SELECT * FROM pharma\", con=db_connection)"
   ]
  },
  {
   "cell_type": "code",
   "execution_count": 4,
   "metadata": {},
   "outputs": [],
   "source": [
    "#Export\n",
    "df_recipient.to_csv('../../data/0. live data/0_recipient.csv', index=False)\n",
    "df_pharma.to_csv('../../data/0. live data/0_pharma.csv', index=False)"
   ]
  },
  {
   "cell_type": "code",
   "execution_count": null,
   "metadata": {},
   "outputs": [],
   "source": []
  }
 ],
 "metadata": {
  "kernelspec": {
   "display_name": "Python 3",
   "language": "python",
   "name": "python3"
  },
  "language_info": {
   "codemirror_mode": {
    "name": "ipython",
    "version": 3
   },
   "file_extension": ".py",
   "mimetype": "text/x-python",
   "name": "python",
   "nbconvert_exporter": "python",
   "pygments_lexer": "ipython3",
   "version": "3.6.5"
  }
 },
 "nbformat": 4,
 "nbformat_minor": 2
}
