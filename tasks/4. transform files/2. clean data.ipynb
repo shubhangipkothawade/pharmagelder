{
 "cells": [
  {
   "cell_type": "markdown",
   "metadata": {},
   "source": [
    "# 2. Clean Data\n",
    "This script prepares the data for fuzzymatching. It does:\n",
    "* Remove _export_information\n",
    "* Translate location (`Genève` to `Genf`)"
   ]
  },
  {
   "cell_type": "code",
   "execution_count": 272,
   "metadata": {},
   "outputs": [],
   "source": [
    "import pandas as pd\n",
    "import numpy as np\n",
    "import sys\n",
    "sys.path.insert(0, '../../data/lib/')\n",
    "import consts\n",
    "import re"
   ]
  },
  {
   "cell_type": "markdown",
   "metadata": {},
   "source": [
    "## Import and Remove `_export_information`"
   ]
  },
  {
   "cell_type": "code",
   "execution_count": 303,
   "metadata": {},
   "outputs": [],
   "source": [
    "df_raw = pd.read_csv('../../data/3. transformation/0. list_all.csv', names = consts.fix_columns + [consts.column_export_information], skiprows=1)\n",
    "df_raw = df_raw[consts.fix_columns]\n",
    "df_data = df_raw.copy()"
   ]
  },
  {
   "cell_type": "markdown",
   "metadata": {},
   "source": [
    "## Copy Zip from Location into `PLZ` and remove it in `location`\n",
    "If you have an error here, you probably have addresses withouth a location. Fix that before!"
   ]
  },
  {
   "cell_type": "code",
   "execution_count": 283,
   "metadata": {},
   "outputs": [
    {
     "data": {
      "text/html": [
       "<div>\n",
       "<style scoped>\n",
       "    .dataframe tbody tr th:only-of-type {\n",
       "        vertical-align: middle;\n",
       "    }\n",
       "\n",
       "    .dataframe tbody tr th {\n",
       "        vertical-align: top;\n",
       "    }\n",
       "\n",
       "    .dataframe thead th {\n",
       "        text-align: right;\n",
       "    }\n",
       "</style>\n",
       "<table border=\"1\" class=\"dataframe\">\n",
       "  <thead>\n",
       "    <tr style=\"text-align: right;\">\n",
       "      <th></th>\n",
       "      <th>name</th>\n",
       "      <th>location</th>\n",
       "      <th>country</th>\n",
       "      <th>address</th>\n",
       "      <th>plz</th>\n",
       "      <th>uci</th>\n",
       "      <th>donations_grants</th>\n",
       "      <th>sponsorship</th>\n",
       "      <th>registration_fees</th>\n",
       "      <th>travel_accommodation</th>\n",
       "      <th>fees</th>\n",
       "      <th>related_expenses</th>\n",
       "      <th>total</th>\n",
       "      <th>type</th>\n",
       "      <th>source</th>\n",
       "    </tr>\n",
       "  </thead>\n",
       "  <tbody>\n",
       "  </tbody>\n",
       "</table>\n",
       "</div>"
      ],
      "text/plain": [
       "Empty DataFrame\n",
       "Columns: [name, location, country, address, plz, uci, donations_grants, sponsorship, registration_fees, travel_accommodation, fees, related_expenses, total, type, source]\n",
       "Index: []"
      ]
     },
     "execution_count": 283,
     "metadata": {},
     "output_type": "execute_result"
    }
   ],
   "source": [
    "#If there are any location empty, fix it\n",
    "df_data[df_data['location'].isnull()]"
   ]
  },
  {
   "cell_type": "code",
   "execution_count": 300,
   "metadata": {},
   "outputs": [
    {
     "data": {
      "text/html": [
       "<div>\n",
       "<style scoped>\n",
       "    .dataframe tbody tr th:only-of-type {\n",
       "        vertical-align: middle;\n",
       "    }\n",
       "\n",
       "    .dataframe tbody tr th {\n",
       "        vertical-align: top;\n",
       "    }\n",
       "\n",
       "    .dataframe thead th {\n",
       "        text-align: right;\n",
       "    }\n",
       "</style>\n",
       "<table border=\"1\" class=\"dataframe\">\n",
       "  <thead>\n",
       "    <tr style=\"text-align: right;\">\n",
       "      <th></th>\n",
       "      <th>name</th>\n",
       "      <th>location</th>\n",
       "      <th>country</th>\n",
       "      <th>address</th>\n",
       "      <th>plz</th>\n",
       "      <th>uci</th>\n",
       "      <th>donations_grants</th>\n",
       "      <th>sponsorship</th>\n",
       "      <th>registration_fees</th>\n",
       "      <th>travel_accommodation</th>\n",
       "      <th>fees</th>\n",
       "      <th>related_expenses</th>\n",
       "      <th>total</th>\n",
       "      <th>type</th>\n",
       "      <th>source</th>\n",
       "    </tr>\n",
       "  </thead>\n",
       "  <tbody>\n",
       "    <tr>\n",
       "      <th>2634</th>\n",
       "      <td>Michael Abay</td>\n",
       "      <td>Zürich</td>\n",
       "      <td>CH</td>\n",
       "      <td>Bahnhofstrasse 56</td>\n",
       "      <td>8001</td>\n",
       "      <td>NaN</td>\n",
       "      <td>NaN</td>\n",
       "      <td>NaN</td>\n",
       "      <td>NaN</td>\n",
       "      <td>NaN</td>\n",
       "      <td>750.0</td>\n",
       "      <td>NaN</td>\n",
       "      <td>750.0</td>\n",
       "      <td>hcp</td>\n",
       "      <td>boehringer</td>\n",
       "    </tr>\n",
       "    <tr>\n",
       "      <th>2635</th>\n",
       "      <td>Dan Adler</td>\n",
       "      <td>Genève</td>\n",
       "      <td>CH</td>\n",
       "      <td>Rue Gabrielle‐Perret‐Gentil 4</td>\n",
       "      <td>1205</td>\n",
       "      <td>NaN</td>\n",
       "      <td>NaN</td>\n",
       "      <td>NaN</td>\n",
       "      <td>NaN</td>\n",
       "      <td>NaN</td>\n",
       "      <td>1250.0</td>\n",
       "      <td>NaN</td>\n",
       "      <td>1250.0</td>\n",
       "      <td>hcp</td>\n",
       "      <td>boehringer</td>\n",
       "    </tr>\n",
       "    <tr>\n",
       "      <th>2636</th>\n",
       "      <td>Urs Aebi</td>\n",
       "      <td>Biel/Bienne</td>\n",
       "      <td>CH</td>\n",
       "      <td>Bahnhofstrasse 54</td>\n",
       "      <td>2502</td>\n",
       "      <td>NaN</td>\n",
       "      <td>NaN</td>\n",
       "      <td>NaN</td>\n",
       "      <td>NaN</td>\n",
       "      <td>570.0</td>\n",
       "      <td>NaN</td>\n",
       "      <td>NaN</td>\n",
       "      <td>570.0</td>\n",
       "      <td>hcp</td>\n",
       "      <td>boehringer</td>\n",
       "    </tr>\n",
       "    <tr>\n",
       "      <th>2637</th>\n",
       "      <td>Ayad Al‐Nasser</td>\n",
       "      <td>Basel</td>\n",
       "      <td>CH</td>\n",
       "      <td>Spalenring 145/147</td>\n",
       "      <td>4055</td>\n",
       "      <td>NaN</td>\n",
       "      <td>NaN</td>\n",
       "      <td>NaN</td>\n",
       "      <td>NaN</td>\n",
       "      <td>NaN</td>\n",
       "      <td>750.0</td>\n",
       "      <td>NaN</td>\n",
       "      <td>750.0</td>\n",
       "      <td>hcp</td>\n",
       "      <td>boehringer</td>\n",
       "    </tr>\n",
       "    <tr>\n",
       "      <th>2638</th>\n",
       "      <td>Spyridon Arampatzis</td>\n",
       "      <td>Bern</td>\n",
       "      <td>CH</td>\n",
       "      <td>Freiburgstrasse 18</td>\n",
       "      <td>3010</td>\n",
       "      <td>NaN</td>\n",
       "      <td>NaN</td>\n",
       "      <td>NaN</td>\n",
       "      <td>NaN</td>\n",
       "      <td>NaN</td>\n",
       "      <td>1150.0</td>\n",
       "      <td>NaN</td>\n",
       "      <td>1150.0</td>\n",
       "      <td>hcp</td>\n",
       "      <td>boehringer</td>\n",
       "    </tr>\n",
       "  </tbody>\n",
       "</table>\n",
       "</div>"
      ],
      "text/plain": [
       "                     name     location country                        address  \\\n",
       "2634         Michael Abay       Zürich      CH              Bahnhofstrasse 56   \n",
       "2635            Dan Adler       Genève      CH  Rue Gabrielle‐Perret‐Gentil 4   \n",
       "2636             Urs Aebi  Biel/Bienne      CH              Bahnhofstrasse 54   \n",
       "2637       Ayad Al‐Nasser        Basel      CH             Spalenring 145/147   \n",
       "2638  Spyridon Arampatzis         Bern      CH             Freiburgstrasse 18   \n",
       "\n",
       "       plz  uci donations_grants sponsorship registration_fees  \\\n",
       "2634  8001  NaN              NaN         NaN               NaN   \n",
       "2635  1205  NaN              NaN         NaN               NaN   \n",
       "2636  2502  NaN              NaN         NaN               NaN   \n",
       "2637  4055  NaN              NaN         NaN               NaN   \n",
       "2638  3010  NaN              NaN         NaN               NaN   \n",
       "\n",
       "     travel_accommodation    fees related_expenses   total type      source  \n",
       "2634                  NaN   750.0              NaN   750.0  hcp  boehringer  \n",
       "2635                  NaN  1250.0              NaN  1250.0  hcp  boehringer  \n",
       "2636                570.0     NaN              NaN   570.0  hcp  boehringer  \n",
       "2637                  NaN   750.0              NaN   750.0  hcp  boehringer  \n",
       "2638                  NaN  1150.0              NaN  1150.0  hcp  boehringer  "
      ]
     },
     "execution_count": 300,
     "metadata": {},
     "output_type": "execute_result"
    }
   ],
   "source": [
    "#df_data = df_raw.copy() #REMOVE\n",
    "\n",
    "def copy_plz(value):\n",
    "    #Only check Strings\n",
    "    if isinstance(value, float):\n",
    "        return np.NaN\n",
    "    \n",
    "    r = re.search('\\s?[\\d]{4}\\s?', value)\n",
    "    if r:\n",
    "        return r.group(0).strip()\n",
    "    else:\n",
    "        return np.NaN\n",
    "#Copy into PLZ\n",
    "df_data.loc[df_data.plz.isna(), 'plz'] = df_data.loc[df_data.plz.isna(), 'location'].apply(copy_plz)\n",
    "df_data.loc[df_data.plz.isna(), 'plz'] = df_data.loc[df_data.plz.isna(), 'address'].apply(copy_plz)\n",
    "\n",
    "#Clean\n",
    "df_data.loc[df_data.plz.notna(), 'location'] = df_data['location'].str.replace('\\s?[\\d]{4}\\s?', '', regex=True)\n",
    "df_data.loc[df_data.plz.notna(), 'address'] = df_data['address'].str.replace(',?\\s?[\\d]{4}\\s?', '', regex=True)\n",
    "\n",
    "#Strip\n",
    "df_data['location'] = df_data['location'].str.strip()\n",
    "df_data['address'] = df_data['address'].str.strip()"
   ]
  },
  {
   "cell_type": "markdown",
   "metadata": {},
   "source": [
    "## Translate Location to «amtlich» (as the administration writes it)\n",
    "`Genf` changes to `Genève`. Consistent writing.  \n",
    "Source `place_translations.csv`: `Amtliches Gemeindeverzeichnis der Schweiz` https://www.bfs.admin.ch/bfs/de/home/grundlagen/agvch.html"
   ]
  },
  {
   "cell_type": "code",
   "execution_count": 259,
   "metadata": {},
   "outputs": [],
   "source": [
    "#df_copy = df_data.copy() #Muss Raus"
   ]
  },
  {
   "cell_type": "code",
   "execution_count": 260,
   "metadata": {},
   "outputs": [],
   "source": [
    "#Copy dataset\n",
    "#df_data = df_copy.copy() # MUSS RAUS\n",
    "\n",
    "#Import places\n",
    "df_places = pd.read_csv('sources/place_translations.csv', sep=';')\n",
    "\n",
    "def translate_line(df_data, lng, translation):\n",
    "    if isinstance(lng, str) and lng != \"\":\n",
    "        df_data.loc[df_data.location.str.lower() == lng.lower(), 'location'] = translation\n",
    "    return df_data\n",
    "        \n",
    "for index, row in df_places.iterrows():\n",
    "    df_data = translate_line(df_data, row['de'], row['amtlich'])\n",
    "    df_data = translate_line(df_data, row['fr'], row['amtlich'])\n",
    "    df_data = translate_line(df_data, row['it'], row['amtlich'])\n"
   ]
  },
  {
   "cell_type": "markdown",
   "metadata": {},
   "source": [
    "## Remove `-` in address"
   ]
  },
  {
   "cell_type": "code",
   "execution_count": 307,
   "metadata": {},
   "outputs": [],
   "source": [
    "df_data.loc[df_data.address == '-', 'address'] = np.NaN"
   ]
  },
  {
   "cell_type": "markdown",
   "metadata": {},
   "source": [
    "## Save!"
   ]
  },
  {
   "cell_type": "code",
   "execution_count": 263,
   "metadata": {},
   "outputs": [],
   "source": [
    "df_data.to_csv('../../data/3. transformation/1. list_all_cleaned.csv', index=False)"
   ]
  },
  {
   "cell_type": "code",
   "execution_count": null,
   "metadata": {},
   "outputs": [],
   "source": []
  },
  {
   "cell_type": "code",
   "execution_count": null,
   "metadata": {},
   "outputs": [],
   "source": []
  }
 ],
 "metadata": {
  "kernelspec": {
   "display_name": "Python 3",
   "language": "python",
   "name": "python3"
  },
  "language_info": {
   "codemirror_mode": {
    "name": "ipython",
    "version": 3
   },
   "file_extension": ".py",
   "mimetype": "text/x-python",
   "name": "python",
   "nbconvert_exporter": "python",
   "pygments_lexer": "ipython3",
   "version": "3.6.5"
  }
 },
 "nbformat": 4,
 "nbformat_minor": 2
}
