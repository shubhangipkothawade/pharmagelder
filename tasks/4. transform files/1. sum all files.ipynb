{
 "cells": [
  {
   "cell_type": "markdown",
   "metadata": {},
   "source": [
    "# Sum all files\n",
    "This script creates an overview over the data"
   ]
  },
  {
   "cell_type": "code",
   "execution_count": 12,
   "metadata": {},
   "outputs": [],
   "source": [
    "import pandas as pd\n",
    "import sys\n",
    "sys.path.insert(0, '../../data/lib/')\n",
    "import consts\n",
    "from pdfexport import *\n",
    "import openpyxl"
   ]
  },
  {
   "cell_type": "code",
   "execution_count": 13,
   "metadata": {},
   "outputs": [],
   "source": [
    "LIST_OUT = '../../data/3. transformation/0_list_2017.csv'\n",
    "ACCUM_OUT = '../../data/3. transformation/0_accumulations_2017.csv'\n",
    "SUM_OUT = '../../data/3. transformation/0_overview_all.xlsx'\n",
    "#exclude_list = ['novartis', 'takeda', 'menarini']\n",
    "exclude_list = []"
   ]
  },
  {
   "cell_type": "code",
   "execution_count": 14,
   "metadata": {},
   "outputs": [],
   "source": [
    "#Read List\n",
    "df_list = pd.read_csv(LIST_OUT, names = consts.fix_columns + [consts.column_export_information], skiprows=1)\n",
    "df_accumulations_simple = pd.read_csv(ACCUM_OUT, names = consts.fix_columns_accumulations, skiprows=1)\n",
    "\n",
    "\n",
    "#Remove files, which we have not yet properly cleaned\n",
    "for excl in exclude_list:\n",
    "    df_list = df_list[df_list.source != excl]\n",
    "    df_accumulations_simple = df_accumulations_simple[df_accumulations_simple.source != excl]\n",
    "\n",
    "#Numberize\n",
    "df_list = amounts_to_number(df_list)\n",
    "df_accumulations_simple = amounts_to_number(df_accumulations_simple)\n",
    "df_accumulations_detailed = df_accumulations_simple.copy()\n",
    "\n",
    "#Made Simple Accumulations\n",
    "df_accumulations_simple = df_accumulations_simple.replace(\"hcp_amount\", 'hcp')\n",
    "df_accumulations_simple = df_accumulations_simple.replace(\"hco_amount\", 'hco')\n",
    "df_accumulations_simple = df_accumulations_simple[~df_accumulations_simple.type.isin(['hco_count', 'hcp_count'])]\n",
    "\n",
    "#Concat\n",
    "df_concat_simple = pd.concat([df_list, df_accumulations_simple], sort=True)\n",
    "df_concat_detailed = pd.concat([df_list, df_accumulations_detailed], sort=True)\n",
    "\n",
    "#Group\n",
    "df_grouped_sum = df_concat_simple.groupby(by=['source']).sum()\n",
    "df_grouped_simple = df_concat_simple.groupby(by=['source', 'type']).sum()\n",
    "df_grouped_detail = df_concat_detailed.groupby(by=['source', 'type']).sum()\n",
    "\n",
    "#Group\n",
    "df_grouped_sum = df_grouped_sum[['donations_grants', 'sponsorship', 'registration_fees', 'travel_accommodation', 'fees', 'total']]\n",
    "df_grouped_simple = df_grouped_simple[['donations_grants', 'sponsorship', 'registration_fees', 'travel_accommodation', 'fees', 'total']]\n",
    "df_grouped_detail = df_grouped_detail[['donations_grants', 'sponsorship', 'registration_fees', 'travel_accommodation', 'fees', 'total']]"
   ]
  },
  {
   "cell_type": "code",
   "execution_count": 15,
   "metadata": {},
   "outputs": [],
   "source": [
    "#Save to Excel\n",
    "writer = pd.ExcelWriter(SUM_OUT, options={'encoding':'utf-8'})\n",
    "\n",
    "# Write the frame to excel\n",
    "df_grouped_sum.to_excel(writer, 'total', index=True)\n",
    "df_grouped_simple.to_excel(writer, 'detail_inkl_anonym', index=True)\n",
    "df_grouped_detail.to_excel(writer, 'detail', index=True)\n",
    "\n",
    "writer.save()\n",
    "\n",
    "#import subprocess, os, sys\n",
    "#subprocess.call(('open', SUM_OUT))"
   ]
  },
  {
   "cell_type": "code",
   "execution_count": null,
   "metadata": {},
   "outputs": [],
   "source": []
  }
 ],
 "metadata": {
  "kernelspec": {
   "display_name": "Python 3",
   "language": "python",
   "name": "python3"
  },
  "language_info": {
   "codemirror_mode": {
    "name": "ipython",
    "version": 3
   },
   "file_extension": ".py",
   "mimetype": "text/x-python",
   "name": "python",
   "nbconvert_exporter": "python",
   "pygments_lexer": "ipython3",
   "version": "3.6.5"
  }
 },
 "nbformat": 4,
 "nbformat_minor": 2
}
