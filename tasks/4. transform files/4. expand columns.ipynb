{
 "cells": [
  {
   "cell_type": "markdown",
   "metadata": {},
   "source": [
    "# 4. Expand Columns\n",
    "This file expands the different columns.\n",
    "If you dont like to install libpostal (its huge!), skip the address-step"
   ]
  },
  {
   "cell_type": "code",
   "execution_count": 1,
   "metadata": {},
   "outputs": [],
   "source": [
    "from postal.expand import expand_address\n",
    "\n",
    "import pandas as pd\n",
    "import numpy as np\n",
    "import sys\n",
    "import re\n",
    "\n",
    "import sys\n",
    "sys.path.insert(0, '../../data/lib/')\n",
    "from consts import *"
   ]
  },
  {
   "cell_type": "markdown",
   "metadata": {},
   "source": [
    "## Import"
   ]
  },
  {
   "cell_type": "code",
   "execution_count": 2,
   "metadata": {},
   "outputs": [],
   "source": [
    "df_new = pd.read_csv('../../data/3. transformation/2_list_all_cleaned.csv', dtype = dataframe_types)\n",
    "df_live = pd.read_csv('../../data/0. live data/0_recipient.csv')"
   ]
  },
  {
   "cell_type": "markdown",
   "metadata": {},
   "source": [
    "## Expand Address"
   ]
  },
  {
   "cell_type": "code",
   "execution_count": 3,
   "metadata": {},
   "outputs": [],
   "source": [
    "def expand_df(df_data):\n",
    "    \n",
    "    #expand Addres\n",
    "    df_data['address'] = df_data['address'].fillna(\"\")\n",
    "    df_data['location'] = df_data['location'].fillna(\"\")\n",
    "\n",
    "    df_data.loc[df_data.address != \"\", 'address_expand'] = df_data.loc[df_data.address != \"\", 'address'].apply(lambda x: expand_address(x)[0])\n",
    "    df_data.loc[df_data.location != \"\", 'location_expand'] = df_data.loc[df_data.location != \"\", 'location'].apply(lambda x: expand_address(x)[0])\n",
    "    \n",
    "    #Expand Name\n",
    "    df_data['name_expand'] = df_data['name']\n",
    "\n",
    "    # Remove \"Schweizerische Gesellschaft für\"\n",
    "    df_data['name_expand'] = df_data['name_expand'].str.replace('Schweizerische Gesellschaft für', '')\n",
    "    df_data['name_expand'] = df_data['name_expand'].str.replace('schweizerische ges. für', '')\n",
    "\n",
    "    # Remove (c/o)\n",
    "    df_data['name_expand'] = df_data['name_expand'].str.replace(r'(?i)c\\/o.*', '', regex=True)\n",
    "\n",
    "    #Lowercase\n",
    "    df_data['name_expand'] = df_data['name_expand'].str.lower()\n",
    "    \n",
    "    return df_data"
   ]
  },
  {
   "cell_type": "markdown",
   "metadata": {},
   "source": [
    "## save"
   ]
  },
  {
   "cell_type": "code",
   "execution_count": 4,
   "metadata": {},
   "outputs": [],
   "source": [
    "expand_df(df_new).to_csv('../../data/3. transformation/3_list_expanded.csv', index=False)\n",
    "expand_df(df_live).to_csv('../../data/0. live data/1_recipient_expanded.csv', index=False)"
   ]
  },
  {
   "cell_type": "code",
   "execution_count": null,
   "metadata": {},
   "outputs": [],
   "source": []
  }
 ],
 "metadata": {
  "kernelspec": {
   "display_name": "Python 3",
   "language": "python",
   "name": "python3"
  },
  "language_info": {
   "codemirror_mode": {
    "name": "ipython",
    "version": 3
   },
   "file_extension": ".py",
   "mimetype": "text/x-python",
   "name": "python",
   "nbconvert_exporter": "python",
   "pygments_lexer": "ipython3",
   "version": "3.7.4"
  }
 },
 "nbformat": 4,
 "nbformat_minor": 2
}
