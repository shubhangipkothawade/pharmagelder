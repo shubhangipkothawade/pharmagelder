{
 "cells": [
  {
   "cell_type": "markdown",
   "metadata": {},
   "source": [
    "# 4. Expand Columns\n",
    "This file expands the different columns.\n",
    "If you dont like to install libpostal (its huge!), skip the address-step"
   ]
  },
  {
   "cell_type": "code",
   "execution_count": 24,
   "metadata": {},
   "outputs": [],
   "source": [
    "from postal.expand import expand_address\n",
    "\n",
    "import pandas as pd\n",
    "import numpy as np\n",
    "import sys\n",
    "import re"
   ]
  },
  {
   "cell_type": "markdown",
   "metadata": {},
   "source": [
    "## Import"
   ]
  },
  {
   "cell_type": "code",
   "execution_count": 25,
   "metadata": {},
   "outputs": [],
   "source": [
    "df = pd.read_csv('../../data/3. transformation/2_list_all_cleaned.csv')"
   ]
  },
  {
   "cell_type": "markdown",
   "metadata": {},
   "source": [
    "## Expand Address"
   ]
  },
  {
   "cell_type": "code",
   "execution_count": 26,
   "metadata": {},
   "outputs": [],
   "source": [
    "df_data = df.copy()\n",
    "\n",
    "df_data['address'] = df_data['address'].astype(\"str\")\n",
    "df_data['location'] = df_data['location'].astype(\"str\")\n",
    "\n",
    "df_data.loc[df_data.address.notna(), 'address_expand'] = df_data['address'].apply(lambda x: expand_address(x)[0])\n",
    "df_data.loc[df_data.location.notna(), 'location_expand'] = df_data['location'].apply(lambda x: expand_address(x)[0])"
   ]
  },
  {
   "cell_type": "markdown",
   "metadata": {},
   "source": [
    "## Expand Name"
   ]
  },
  {
   "cell_type": "code",
   "execution_count": 27,
   "metadata": {},
   "outputs": [],
   "source": [
    "df_data['name_expand'] = df_data['name']\n",
    "\n",
    "# Remove \"Schweizerische Gesellschaft für\"\n",
    "df_data['name_expand'] = df_data['name_expand'].str.replace('Schweizerische Gesellschaft für', '')\n",
    "\n",
    "# Remove (c/o)\n",
    "df_data['name_expand'] = df_data['name_expand'].str.replace(r'(?i)c\\/o.*', '', regex=True)\n",
    "\n",
    "#Lowercase\n",
    "df_data['name_expand'] = df_data['name_expand'].str.lower()"
   ]
  },
  {
   "cell_type": "markdown",
   "metadata": {},
   "source": [
    "## save"
   ]
  },
  {
   "cell_type": "code",
   "execution_count": 28,
   "metadata": {},
   "outputs": [],
   "source": [
    "df_data.to_csv('../../data/3. transformation/3_list_expanded.csv', index=False)"
   ]
  },
  {
   "cell_type": "code",
   "execution_count": null,
   "metadata": {},
   "outputs": [],
   "source": []
  }
 ],
 "metadata": {
  "kernelspec": {
   "display_name": "Python 3",
   "language": "python",
   "name": "python3"
  },
  "language_info": {
   "codemirror_mode": {
    "name": "ipython",
    "version": 3
   },
   "file_extension": ".py",
   "mimetype": "text/x-python",
   "name": "python",
   "nbconvert_exporter": "python",
   "pygments_lexer": "ipython3",
   "version": "3.6.5"
  }
 },
 "nbformat": 4,
 "nbformat_minor": 2
}
