{
 "cells": [
  {
   "cell_type": "markdown",
   "metadata": {},
   "source": [
    "# 4. Expand addresses\n",
    "This file expands the addresses with libpostal. We have done this in a separate step so we could upload the expanded file to our server and run the pair finding there. Otherwise you have to install the huge libpostal library on the server."
   ]
  },
  {
   "cell_type": "code",
   "execution_count": 2,
   "metadata": {},
   "outputs": [],
   "source": [
    "from postal.expand import expand_address\n",
    "\n",
    "import pandas as pd\n",
    "import numpy as np\n",
    "import sys\n",
    "import re"
   ]
  },
  {
   "cell_type": "code",
   "execution_count": 3,
   "metadata": {},
   "outputs": [],
   "source": [
    "df = pd.read_csv('../../data/3. transformation/1_list_all_cleaned.csv')"
   ]
  },
  {
   "cell_type": "code",
   "execution_count": 4,
   "metadata": {},
   "outputs": [],
   "source": [
    "df_data = df.copy()\n",
    "\n",
    "df_data['address'] = df_data['address'].astype(\"str\")\n",
    "df_data['location'] = df_data['location'].astype(\"str\")\n",
    "\n",
    "df_data.loc[df_data.address.notna(), 'address_expand'] = df_data['address'].apply(lambda x: expand_address(x)[0])\n",
    "df_data.loc[df_data.location.notna(), 'location_expand'] = df_data['location'].apply(lambda x: expand_address(x)[0])"
   ]
  },
  {
   "cell_type": "code",
   "execution_count": 5,
   "metadata": {},
   "outputs": [],
   "source": [
    "df_data.to_csv('../../data/3. transformation/2_list_expanded.csv', index=False)"
   ]
  },
  {
   "cell_type": "code",
   "execution_count": null,
   "metadata": {},
   "outputs": [],
   "source": []
  }
 ],
 "metadata": {
  "kernelspec": {
   "display_name": "Python 3",
   "language": "python",
   "name": "python3"
  },
  "language_info": {
   "codemirror_mode": {
    "name": "ipython",
    "version": 3
   },
   "file_extension": ".py",
   "mimetype": "text/x-python",
   "name": "python",
   "nbconvert_exporter": "python",
   "pygments_lexer": "ipython3",
   "version": "3.6.5"
  }
 },
 "nbformat": 4,
 "nbformat_minor": 2
}
