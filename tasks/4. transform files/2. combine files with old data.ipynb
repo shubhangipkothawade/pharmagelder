{
 "cells": [
  {
   "cell_type": "markdown",
   "metadata": {},
   "source": [
    "# Combine files (old and new)"
   ]
  },
  {
   "cell_type": "code",
   "execution_count": 1,
   "metadata": {},
   "outputs": [],
   "source": [
    "import pandas as pd\n",
    "import numpy as np\n",
    "import sys\n",
    "sys.path.insert(0, '../../data/lib/')\n",
    "import consts\n",
    "import re"
   ]
  },
  {
   "cell_type": "code",
   "execution_count": 2,
   "metadata": {},
   "outputs": [],
   "source": [
    "list_2017 = '../../data/3. transformation/0_list_2017.csv'\n",
    "list_2016 = '../../data/0. old data/1. transformation/1_2016_list_cleaned.csv'\n",
    "list_2015 = '../../data/0. old data/1. transformation/1_2015_list_cleaned.csv'\n",
    "\n",
    "accu_2017 = '../../data/3. transformation/0_accumulations_2017.csv'\n",
    "accu_2016 = '../../data/0. old data/1. transformation/3_accumulation_2016_reshaped.csv'\n",
    "accu_2015 = '../../data/0. old data/1. transformation/3_accumulation_2015_reshaped.csv'\n"
   ]
  },
  {
   "cell_type": "markdown",
   "metadata": {},
   "source": [
    "## Lists"
   ]
  },
  {
   "cell_type": "code",
   "execution_count": 3,
   "metadata": {},
   "outputs": [],
   "source": [
    "#add year to new\n",
    "df_2017 = pd.read_csv(list_2017, names = consts.fix_columns + [consts.column_export_information], skiprows=1)\n",
    "df_2017['year'] = 2017\n",
    "\n",
    "df_2016 = pd.read_csv(list_2016)\n",
    "df_2015 = pd.read_csv(list_2015)\n",
    "\n",
    "#concat\n",
    "df_list = pd.concat([df_2017, df_2016, df_2015], sort=False)\n",
    "\n",
    "#save\n",
    "df_list.to_csv('../../data/3. transformation/1_list_all.csv', index=False)"
   ]
  },
  {
   "cell_type": "markdown",
   "metadata": {},
   "source": [
    "## Accumulations"
   ]
  },
  {
   "cell_type": "code",
   "execution_count": 30,
   "metadata": {},
   "outputs": [],
   "source": [
    "#add year to new\n",
    "df_accu_2017 = pd.read_csv(accu_2017)\n",
    "df_accu_2017['year'] = 2017\n",
    "\n",
    "df_accu_2016 = pd.read_csv(accu_2016)\n",
    "df_accu_2015 = pd.read_csv(accu_2015)\n",
    "\n",
    "#Concat\n",
    "df_accu = pd.concat([df_accu_2017, df_accu_2016, df_accu_2015], sort=False)\n",
    "\n",
    "#Year to int\n",
    "df_accu['year'] = df_accu['year'].astype(int)\n",
    "\n",
    "#save\n",
    "df_accu.to_csv('../../data/3. transformation/1_accumulations_all.csv', index=False)\n"
   ]
  },
  {
   "cell_type": "code",
   "execution_count": null,
   "metadata": {},
   "outputs": [],
   "source": []
  }
 ],
 "metadata": {
  "kernelspec": {
   "display_name": "Python 3",
   "language": "python",
   "name": "python3"
  },
  "language_info": {
   "codemirror_mode": {
    "name": "ipython",
    "version": 3
   },
   "file_extension": ".py",
   "mimetype": "text/x-python",
   "name": "python",
   "nbconvert_exporter": "python",
   "pygments_lexer": "ipython3",
   "version": "3.6.5"
  }
 },
 "nbformat": 4,
 "nbformat_minor": 2
}
