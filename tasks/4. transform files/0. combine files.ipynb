{
 "cells": [
  {
   "cell_type": "markdown",
   "metadata": {},
   "source": [
    "# Combine files\n",
    "This script combines all files to one, big, wunderfull, shiney file. Do this after the manual check!"
   ]
  },
  {
   "cell_type": "code",
   "execution_count": 5,
   "metadata": {},
   "outputs": [],
   "source": [
    "import glob"
   ]
  },
  {
   "cell_type": "code",
   "execution_count": 6,
   "metadata": {},
   "outputs": [],
   "source": [
    "LIST_FOLDER = '../../data/2. manual check/lists/*.csv'\n",
    "LIST_OUT = '../../data/3. transformation/0_list_2017.csv'\n",
    "\n",
    "ACCUM_FILDER = '../../data/2. manual check/accumulations/*.csv'\n",
    "ACCUM_OUT = '../../data/3. transformation/0_accumulations_2017.csv'"
   ]
  },
  {
   "cell_type": "code",
   "execution_count": 7,
   "metadata": {},
   "outputs": [],
   "source": [
    "def combine_files(folder_in, file_out):\n",
    "    #Read Folder\n",
    "    csv_list = glob.glob(folder_in)\n",
    "    csv_list.sort()\n",
    "    \n",
    "    #Loop files\n",
    "    firstfile = True\n",
    "    with open(file_out, 'w') as outfile:\n",
    "        for fname in csv_list:\n",
    "            with open(fname) as infile:\n",
    "                #print(fname)\n",
    "                i = 0\n",
    "                for line in infile:\n",
    "                    if firstfile or ( not firstfile and i > 0):\n",
    "                        outfile.write(line)\n",
    "                    i += 1\n",
    "                #When not empty file, add \\n\n",
    "                if i > 1:\n",
    "                    outfile.write('\\n')\n",
    "                firstfile = False\n",
    "    print(str(len(csv_list)) + \" Files combined in \" + folder_in)\n"
   ]
  },
  {
   "cell_type": "code",
   "execution_count": 8,
   "metadata": {},
   "outputs": [
    {
     "name": "stdout",
     "output_type": "stream",
     "text": [
      "56 Files combined in ../../data/2. manual check/lists/*.csv\n",
      "56 Files combined in ../../data/2. manual check/accumulations/*.csv\n"
     ]
    }
   ],
   "source": [
    "combine_files(LIST_FOLDER, LIST_OUT)\n",
    "combine_files(ACCUM_FILDER, ACCUM_OUT)"
   ]
  },
  {
   "cell_type": "code",
   "execution_count": null,
   "metadata": {},
   "outputs": [],
   "source": []
  }
 ],
 "metadata": {
  "kernelspec": {
   "display_name": "Python 3",
   "language": "python",
   "name": "python3"
  },
  "language_info": {
   "codemirror_mode": {
    "name": "ipython",
    "version": 3
   },
   "file_extension": ".py",
   "mimetype": "text/x-python",
   "name": "python",
   "nbconvert_exporter": "python",
   "pygments_lexer": "ipython3",
   "version": "3.6.5"
  }
 },
 "nbformat": 4,
 "nbformat_minor": 2
}
