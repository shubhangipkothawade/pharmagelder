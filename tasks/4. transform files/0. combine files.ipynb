{
 "cells": [
  {
   "cell_type": "markdown",
   "metadata": {},
   "source": [
    "# Combine files <span style=\"color:red\">EXCLUDES!</span>\n",
    "This script combines all files to one, big, wunderfull, shiney file. Do this after the manual check!"
   ]
  },
  {
   "cell_type": "code",
   "execution_count": 32,
   "metadata": {},
   "outputs": [],
   "source": [
    "import glob\n",
    "import ntpath"
   ]
  },
  {
   "cell_type": "code",
   "execution_count": 33,
   "metadata": {},
   "outputs": [],
   "source": [
    "LIST_FOLDER = '../../data/2. manual check/lists/*.csv'\n",
    "LIST_OUT = '../../data/3. transformation/0_list_2019.csv'\n",
    "\n",
    "ACCUM_FILDER = '../../data/2. manual check/accumulations/*.csv'\n",
    "ACCUM_OUT = '../../data/3. transformation/0_accumulations_2019.csv'\n",
    "\n",
    "#EXCLUDE_LIST = ['menarini.csv', 'novartis.csv', 'recordati.csv', 'takeda.csv', 'pfizer.csv']\n",
    "EXCLUDE_LIST = []"
   ]
  },
  {
   "cell_type": "code",
   "execution_count": 34,
   "metadata": {},
   "outputs": [],
   "source": [
    "def combine_files(folder_in, file_out):\n",
    "    print(EXCLUDE_LIST)\n",
    "    #Read Folder\n",
    "    csv_list = glob.glob(folder_in)\n",
    "    csv_list.sort()\n",
    "    \n",
    "    #Loop files\n",
    "    firstfile = True\n",
    "    with open(file_out, 'w', encoding='UTF-8') as outfile:\n",
    "        for fname in csv_list:\n",
    "            if ntpath.basename(fname) in EXCLUDE_LIST:\n",
    "                print(\"Excluded: %s\" % fname)\n",
    "                continue;\n",
    "            \n",
    "            with open(fname, encoding='UTF-8') as infile:\n",
    "                #print(fname)\n",
    "                i = 0\n",
    "                for line in infile:\n",
    "                    if firstfile or ( not firstfile and i > 0):\n",
    "                        outfile.write(line)\n",
    "                    i += 1\n",
    "                #When not empty file, add \\n\n",
    "                if i > 1:\n",
    "                    outfile.write('\\n')\n",
    "                firstfile = False\n",
    "    print(str(len(csv_list)) + \" Files combined in \" + folder_in)\n"
   ]
  },
  {
   "cell_type": "code",
   "execution_count": 35,
   "metadata": {},
   "outputs": [
    {
     "name": "stdout",
     "output_type": "stream",
     "text": [
      "[]\n",
      "57 Files combined in ../../data/2. manual check/lists/*.csv\n",
      "[]\n",
      "57 Files combined in ../../data/2. manual check/accumulations/*.csv\n"
     ]
    }
   ],
   "source": [
    "combine_files(LIST_FOLDER, LIST_OUT)\n",
    "combine_files(ACCUM_FILDER, ACCUM_OUT)"
   ]
  },
  {
   "cell_type": "code",
   "execution_count": null,
   "metadata": {},
   "outputs": [],
   "source": []
  }
 ],
 "metadata": {
  "kernelspec": {
   "display_name": "Python 3",
   "language": "python",
   "name": "python3"
  },
  "language_info": {
   "codemirror_mode": {
    "name": "ipython",
    "version": 3
   },
   "file_extension": ".py",
   "mimetype": "text/x-python",
   "name": "python",
   "nbconvert_exporter": "python",
   "pygments_lexer": "ipython3",
   "version": "3.6.5"
  }
 },
 "nbformat": 4,
 "nbformat_minor": 2
}
