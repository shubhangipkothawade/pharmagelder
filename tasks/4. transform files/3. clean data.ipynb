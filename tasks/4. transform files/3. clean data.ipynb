{
 "cells": [
  {
   "cell_type": "markdown",
   "metadata": {},
   "source": [
    "# 2. Clean Data\n",
    "This script prepares the data for fuzzymatching. It does:\n",
    "* Remove \\_export_information\n",
    "* Translate location (`Genève` to `Genf`)"
   ]
  },
  {
   "cell_type": "code",
   "execution_count": 19,
   "metadata": {},
   "outputs": [],
   "source": [
    "import pandas as pd\n",
    "import numpy as np\n",
    "import sys\n",
    "sys.path.insert(0, '../../data/lib/')\n",
    "import consts\n",
    "import re"
   ]
  },
  {
   "cell_type": "markdown",
   "metadata": {},
   "source": [
    "## Import"
   ]
  },
  {
   "cell_type": "code",
   "execution_count": 20,
   "metadata": {},
   "outputs": [],
   "source": [
    "df_raw = pd.read_csv('../../data/3. transformation/1_list_all.csv')\n",
    "df_data = df_raw.copy()"
   ]
  },
  {
   "cell_type": "markdown",
   "metadata": {},
   "source": [
    "## Remove `_export_information`"
   ]
  },
  {
   "cell_type": "code",
   "execution_count": 21,
   "metadata": {},
   "outputs": [],
   "source": [
    "df_data.drop(columns='_export_information', axis=1, inplace=True)"
   ]
  },
  {
   "cell_type": "markdown",
   "metadata": {},
   "source": [
    "## Copy Zip from Location into `PLZ` and remove it in `location`\n",
    "If you have an error here, you probably have addresses withouth a location. Fix that before!"
   ]
  },
  {
   "cell_type": "code",
   "execution_count": 22,
   "metadata": {},
   "outputs": [],
   "source": [
    "#df_data = df_raw.copy() #REMOVE\n",
    "#df_data = df_raw[(df_raw.year == 2017) & (df_raw.source == 'allergan')]\n",
    "\n",
    "def copy_plz(value):\n",
    "    #Only check Strings\n",
    "    if isinstance(value, float):\n",
    "        return np.NaN\n",
    "    \n",
    "    r = re.search('\\s?[\\d]{4}\\s?', value)\n",
    "    if r:\n",
    "        return r.group(0).strip()\n",
    "    else:\n",
    "        return np.NaN\n",
    "#Copy into PLZ\n",
    "df_data.loc[df_data.plz.isna(), 'plz'] = df_data.loc[df_data.plz.isna(), 'location'].apply(copy_plz)\n",
    "df_data.loc[df_data.plz.isna(), 'plz'] = df_data.loc[df_data.plz.isna(), 'address'].apply(copy_plz)\n",
    "\n",
    "#Clean\n",
    "df_data.loc[df_data.plz.notna(), 'location'] = df_data['location'].str.replace('\\s?[\\d]{4}\\s?', '', regex=True)\n",
    "df_data.loc[df_data.plz.notna(), 'address'] = df_data['address'].str.replace('[,-]?\\s?[\\d]{4}.*', '', regex=True)\n",
    "\n",
    "#Strip\n",
    "df_data['location'] = df_data['location'].str.strip()\n",
    "df_data['address'] = df_data['address'].str.strip()"
   ]
  },
  {
   "cell_type": "markdown",
   "metadata": {},
   "source": [
    "## Remove Location in Address\n",
    "Removed - cause of cases like:\n",
    "`Kantonsspital Zürich`"
   ]
  },
  {
   "cell_type": "code",
   "execution_count": 23,
   "metadata": {},
   "outputs": [],
   "source": [
    "df_data['address'] = df_data['address'].fillna(\"\")\n",
    "df_data['address'] = df_data.address.astype(str)\n",
    "#df_data['address'] = df_data.apply(lambda row: row['address'].replace(row['location'], ''), axis=1)"
   ]
  },
  {
   "cell_type": "markdown",
   "metadata": {},
   "source": [
    "## Translate Location to «amtlich» (as the administration writes it)\n",
    "`Genf` changes to `Genève`. Consistent writing.  \n",
    "Source `place_translations.csv`: `Amtliches Gemeindeverzeichnis der Schweiz` https://www.bfs.admin.ch/bfs/de/home/grundlagen/agvch.html"
   ]
  },
  {
   "cell_type": "code",
   "execution_count": 24,
   "metadata": {},
   "outputs": [],
   "source": [
    "#Copy dataset\n",
    "#df_data = df_copy.copy() # MUSS RAUS\n",
    "\n",
    "#Import places\n",
    "df_places = pd.read_csv('sources/place_translations.csv', sep=';')\n",
    "\n",
    "def translate_line(df_data, lng, translation):\n",
    "    if isinstance(lng, str) and lng != \"\":\n",
    "        df_data.loc[df_data.location.str.lower() == lng.lower(), 'location'] = translation\n",
    "    return df_data\n",
    "        \n",
    "for index, row in df_places.iterrows():\n",
    "    df_data = translate_line(df_data, row['de'], row['amtlich'])\n",
    "    df_data = translate_line(df_data, row['fr'], row['amtlich'])\n",
    "    df_data = translate_line(df_data, row['it'], row['amtlich'])\n"
   ]
  },
  {
   "cell_type": "markdown",
   "metadata": {},
   "source": [
    "## Remove `-` in address"
   ]
  },
  {
   "cell_type": "code",
   "execution_count": 25,
   "metadata": {},
   "outputs": [],
   "source": [
    "df_data.loc[df_data.address == '-', 'address'] = np.NaN\n",
    "df_data.loc[df_data.address == '--', 'address'] = np.NaN"
   ]
  },
  {
   "cell_type": "markdown",
   "metadata": {},
   "source": [
    "## Replace Hyphen (Viertelgeviertstrich) with minus"
   ]
  },
  {
   "cell_type": "code",
   "execution_count": 26,
   "metadata": {},
   "outputs": [],
   "source": [
    "df_data = df_data.replace('‐', '-', regex=True)"
   ]
  },
  {
   "cell_type": "markdown",
   "metadata": {},
   "source": [
    "## Remove `Unknown`"
   ]
  },
  {
   "cell_type": "code",
   "execution_count": 27,
   "metadata": {},
   "outputs": [],
   "source": [
    "df_data = df_data.replace('Unknown / relocated', np.nan, regex=True)"
   ]
  },
  {
   "cell_type": "markdown",
   "metadata": {},
   "source": [
    "## Replace NAN"
   ]
  },
  {
   "cell_type": "code",
   "execution_count": 28,
   "metadata": {},
   "outputs": [],
   "source": [
    "df_data = df_data.replace('NAN', np.nan, regex=True)"
   ]
  },
  {
   "cell_type": "markdown",
   "metadata": {},
   "source": [
    "## Replace `str.` with `strasse`\n",
    "Not needed anymore because of libPostal Expand"
   ]
  },
  {
   "cell_type": "code",
   "execution_count": 29,
   "metadata": {},
   "outputs": [],
   "source": [
    "#df_data = df_data.replace('str\\.', 'strasse', regex=True)"
   ]
  },
  {
   "cell_type": "markdown",
   "metadata": {},
   "source": [
    "## Replace `stras se` with `strasse`\n",
    "Otherwise, `stras se` will be expanded to `stras european company`"
   ]
  },
  {
   "cell_type": "code",
   "execution_count": 30,
   "metadata": {},
   "outputs": [],
   "source": [
    "df_data = df_data.replace('stras se', 'strasse', regex=True)\n",
    "df_data = df_data.replace('stra sse', 'strasse', regex=True)"
   ]
  },
  {
   "cell_type": "markdown",
   "metadata": {},
   "source": [
    "## Remove Comma at the end"
   ]
  },
  {
   "cell_type": "code",
   "execution_count": 31,
   "metadata": {
    "scrolled": false
   },
   "outputs": [],
   "source": [
    "df_data = df_data.replace(\",\\s$\", '', regex=True)\n",
    "df_data = df_data.replace(\",$\", '', regex=True)"
   ]
  },
  {
   "cell_type": "markdown",
   "metadata": {},
   "source": [
    "## Replace [space],"
   ]
  },
  {
   "cell_type": "code",
   "execution_count": 35,
   "metadata": {},
   "outputs": [],
   "source": [
    "df_data = df_data.replace(\" ,\", ',', regex=True)"
   ]
  },
  {
   "cell_type": "markdown",
   "metadata": {},
   "source": [
    "## Trim Strings"
   ]
  },
  {
   "cell_type": "code",
   "execution_count": 36,
   "metadata": {},
   "outputs": [],
   "source": [
    "df_data['name'] = df_data['name'].str.strip()\n",
    "df_data['location'] = df_data['location'].str.strip()\n",
    "df_data['address'] = df_data['address'].str.strip()"
   ]
  },
  {
   "cell_type": "markdown",
   "metadata": {},
   "source": [
    "## Save!"
   ]
  },
  {
   "cell_type": "code",
   "execution_count": 37,
   "metadata": {},
   "outputs": [],
   "source": [
    "df_data.to_csv('../../data/3. transformation/2_list_all_cleaned.csv', index=False)"
   ]
  },
  {
   "cell_type": "code",
   "execution_count": null,
   "metadata": {},
   "outputs": [],
   "source": []
  }
 ],
 "metadata": {
  "kernelspec": {
   "display_name": "Python 3",
   "language": "python",
   "name": "python3"
  },
  "language_info": {
   "codemirror_mode": {
    "name": "ipython",
    "version": 3
   },
   "file_extension": ".py",
   "mimetype": "text/x-python",
   "name": "python",
   "nbconvert_exporter": "python",
   "pygments_lexer": "ipython3",
   "version": "3.6.5"
  }
 },
 "nbformat": 4,
 "nbformat_minor": 2
}
