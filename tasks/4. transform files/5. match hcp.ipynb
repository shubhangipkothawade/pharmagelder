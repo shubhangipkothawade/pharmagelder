{
 "cells": [
  {
   "cell_type": "markdown",
   "metadata": {},
   "source": [
    "# 5. Match HCPs\n",
    "The magic! Here we match addresses. You can run this file on an external server - it will take some times"
   ]
  },
  {
   "cell_type": "code",
   "execution_count": 2,
   "metadata": {},
   "outputs": [],
   "source": [
    "import pandas as pd\n",
    "import numpy as np\n",
    "from fuzzywuzzy import fuzz\n",
    "import time"
   ]
  },
  {
   "cell_type": "markdown",
   "metadata": {},
   "source": [
    "## Read Data"
   ]
  },
  {
   "cell_type": "code",
   "execution_count": 33,
   "metadata": {
    "scrolled": true
   },
   "outputs": [
    {
     "data": {
      "text/plain": [
       "6125"
      ]
     },
     "execution_count": 33,
     "metadata": {},
     "output_type": "execute_result"
    }
   ],
   "source": [
    "#df = pd.read_csv('2. list_expanded.csv')\n",
    "df = pd.read_csv('../../data/3. transformation/2. list_expanded.csv')\n",
    "df_hcp = df[df.type == 'hcp'].copy()\n",
    "\n",
    "#Reset index\n",
    "df_hcp = df_hcp.reset_index(drop=True)\n",
    "\n",
    "#Set Startindex to 1\n",
    "df_hcp.index += 1 \n",
    "len(df_hcp)"
   ]
  },
  {
   "cell_type": "code",
   "execution_count": null,
   "metadata": {},
   "outputs": [],
   "source": []
  },
  {
   "cell_type": "code",
   "execution_count": 5,
   "metadata": {},
   "outputs": [
    {
     "name": "stdout",
     "output_type": "stream",
     "text": [
      "ratio: 92\n",
      "partial_ratio: 88\n",
      "token_sort_ratio: 72\n",
      "token_set_ratio: 92\n",
      "\n",
      "ratio: 91\n",
      "partial_ratio: 92\n",
      "token_sort_ratio: 100\n",
      "token_set_ratio: 100\n",
      "\n",
      "ratio: 62\n",
      "partial_ratio: 100\n",
      "token_sort_ratio: 62\n",
      "token_set_ratio: 100\n",
      "\n",
      "ratio: 24\n",
      "partial_ratio: 25\n",
      "token_sort_ratio: 26\n",
      "token_set_ratio: 26\n",
      "\n",
      "ratio: 69\n",
      "partial_ratio: 78\n",
      "token_sort_ratio: 67\n",
      "token_set_ratio: 72\n",
      "\n",
      "ratio: 60\n",
      "partial_ratio: 100\n",
      "token_sort_ratio: 61\n",
      "token_set_ratio: 100\n",
      "\n"
     ]
    }
   ],
   "source": [
    "\n",
    "def ratio_test(s1, s2):\n",
    "    print(\"ratio: %s\" % fuzz.ratio(s1.lower(), s2.lower()))\n",
    "    print(\"partial_ratio: %s\" % fuzz.partial_ratio(s1.lower(), s2.lower()))\n",
    "    print(\"token_sort_ratio: %s\" % fuzz.token_sort_ratio(s1.lower(), s2.lower()))\n",
    "    print(\"token_set_ratio: %s\" % fuzz.token_set_ratio(s1.lower(), s2.lower()))\n",
    "    print(\"\")\n",
    "\n",
    "ratio_test('Schweizerische Gesellschaft für Urologie', 'Schweizerische Gesellschaft für Mikrobiologie')\n",
    "ratio_test('Gesellschaft Aargauischer Anästhesieärztinnen und -ärzte GAAA', 'GAAA Gesellschaft Aargauischer Anästhesieärztinnen und Ärzte')\n",
    "ratio_test('Svgo', 'SVGO/ASCO')\n",
    "ratio_test('UniversitätsSpital Zürich', 'Klinik für Rheumatologie')\n",
    "ratio_test('Kantonsspital Winterthur - Medizinische Onkologie und Hämatologie', \"Kantonsspital Winterthur - Urologische Klinik\")\n",
    "ratio_test('Kantonsspital St. Gallen', \"Kantonsspital St. Gallen - Dermatologie und Allergologie\")\n",
    "\n",
    "\n",
    "\n",
    "\n",
    "\n"
   ]
  },
  {
   "cell_type": "markdown",
   "metadata": {},
   "source": [
    "## Calc rows"
   ]
  },
  {
   "cell_type": "code",
   "execution_count": 17,
   "metadata": {
    "scrolled": false
   },
   "outputs": [
    {
     "name": "stdout",
     "output_type": "stream",
     "text": [
      "10\n",
      "Finished in: 0.0 minutes\n"
     ]
    }
   ],
   "source": [
    "#Add Parent\n",
    "df_hcp['parent'] = 0\n",
    "df_hcp['parent'] = df_hcp['parent'].astype(int)\n",
    "\n",
    "#Convert\n",
    "df_hcp['name'] = df_hcp['name'].astype(\"str\")\n",
    "df_hcp['address_expand'] = df_hcp['address_expand'].astype(\"str\")\n",
    "df_hcp['location_expand'] = df_hcp['location_expand'].astype(\"str\")\n",
    "\n",
    "start_time = time.time()\n",
    "\n",
    "for index, row in df_hcp.iterrows():\n",
    "    if index % 10 == 0:\n",
    "        print(index)\n",
    "    \n",
    "    #Calculate ratio for each category\n",
    "    df_hcp['r_name'] = df_hcp['name'].apply(lambda x: fuzz.token_set_ratio(x.lower(), row['name'].lower()))\n",
    "    df_hcp['r_location'] = df_hcp['location_expand'].apply(lambda x: fuzz.token_set_ratio(x, row['location_expand']))\n",
    "    df_hcp['r_address'] = df_hcp['address_expand'].apply(lambda x: fuzz.token_set_ratio(x, row['address_expand']))\n",
    "    \n",
    "    #Set the rules.\n",
    "    df_hcp.loc[(df_hcp.r_name >= 80) & (df_hcp.r_location >= 85) & (df_hcp.r_address >= 80), 'parent'] = index\n",
    "    \n",
    "    \n",
    "elapsed_time = time.time() - start_time\n",
    "print('Finished in: ' + str(round(elapsed_time / 60, 2)) + ' minutes')\n"
   ]
  },
  {
   "cell_type": "code",
   "execution_count": 16,
   "metadata": {},
   "outputs": [],
   "source": [
    "#df_hcp.to_csv('3. hcp_matches.csv', index=True)\n",
    "df_hcp.to_csv('../../data/3. transformation/3. hcp_matches.csv', index=True)\n"
   ]
  },
  {
   "cell_type": "code",
   "execution_count": null,
   "metadata": {},
   "outputs": [],
   "source": []
  }
 ],
 "metadata": {
  "kernelspec": {
   "display_name": "Python 3",
   "language": "python",
   "name": "python3"
  },
  "language_info": {
   "codemirror_mode": {
    "name": "ipython",
    "version": 3
   },
   "file_extension": ".py",
   "mimetype": "text/x-python",
   "name": "python",
   "nbconvert_exporter": "python",
   "pygments_lexer": "ipython3",
   "version": "3.6.5"
  }
 },
 "nbformat": 4,
 "nbformat_minor": 2
}
