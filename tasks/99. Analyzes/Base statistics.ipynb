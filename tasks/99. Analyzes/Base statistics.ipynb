{
 "cells": [
  {
   "cell_type": "markdown",
   "metadata": {},
   "source": [
    "# Playground"
   ]
  },
  {
   "cell_type": "code",
   "execution_count": 43,
   "metadata": {},
   "outputs": [],
   "source": [
    "%matplotlib inline\n",
    "import sys\n",
    "sys.path.insert(0, '../../data/lib/')\n",
    "from fuzzywuzzy import fuzz\n",
    "import numpy as np\n",
    "import pandas as pd\n",
    "import importlib\n",
    "\n",
    "import pdfexport\n",
    "importlib.reload(pdfexport)\n",
    "import matplotlib\n",
    "\n",
    "from pdfexport import *\n",
    "import statistics"
   ]
  },
  {
   "cell_type": "code",
   "execution_count": 36,
   "metadata": {},
   "outputs": [],
   "source": [
    "df_hcp = pd.read_csv('../../data/3. transformation/5_hcp_grouped.csv')"
   ]
  },
  {
   "cell_type": "code",
   "execution_count": 37,
   "metadata": {},
   "outputs": [],
   "source": [
    "aggregation = {'name': 'first',\n",
    "               'location': 'first',\n",
    "               'address': 'first',\n",
    "               'type': 'first',\n",
    "               'year': 'first',\n",
    "               'donations_grants': 'sum',\n",
    "               'sponsorship': 'sum',\n",
    "               'registration_fees': 'sum',\n",
    "               'travel_accommodation': 'sum',\n",
    "               'fees': 'sum',\n",
    "               'related_expenses': 'sum',\n",
    "               'total': 'sum'\n",
    "              }"
   ]
  },
  {
   "cell_type": "code",
   "execution_count": 38,
   "metadata": {},
   "outputs": [],
   "source": [
    "#Group\n",
    "df = df_hcp[df_hcp.year == 2017].copy()\n",
    "df.sort_values(by='main_address', inplace=True)\n",
    "\n",
    "grouped = df.groupby(by=['group']).agg(aggregation)\n",
    "\n",
    "\n",
    "grouped = grouped.sort_values(['year', 'total'], ascending=False)\n"
   ]
  },
  {
   "cell_type": "markdown",
   "metadata": {},
   "source": [
    "### Durchschnitt pro Empfänger"
   ]
  },
  {
   "cell_type": "code",
   "execution_count": 46,
   "metadata": {
    "scrolled": false
   },
   "outputs": [
    {
     "name": "stdout",
     "output_type": "stream",
     "text": [
      "Durchschnitt pro Empfänger\n",
      "1968.4117934035733\n",
      "Median\n",
      "1130.56\n"
     ]
    }
   ],
   "source": [
    "print(\"Durchschnitt pro Empfänger\")\n",
    "print(grouped['total'].sum() / grouped['total'].count())\n",
    "\n",
    "print(\"Median\")\n",
    "print(statistics.median(grouped['total']))"
   ]
  },
  {
   "cell_type": "markdown",
   "metadata": {},
   "source": [
    "### Verteilung"
   ]
  },
  {
   "cell_type": "code",
   "execution_count": 40,
   "metadata": {},
   "outputs": [],
   "source": [
    "roundto = 1000\n",
    "grouped['round'] = grouped['total'].apply(lambda x: round(x / roundto) * roundto)\n",
    "scattered = grouped.groupby(by='round').agg({'name': 'count',\n",
    "                                            'round': 'first'})"
   ]
  },
  {
   "cell_type": "code",
   "execution_count": 41,
   "metadata": {},
   "outputs": [
    {
     "data": {
      "text/plain": [
       "<matplotlib.axes._subplots.AxesSubplot at 0x11e804080>"
      ]
     },
     "execution_count": 41,
     "metadata": {},
     "output_type": "execute_result"
    },
    {
     "data": {
      "image/png": "[encoded data removed]",
      "text/plain": [
       "<Figure size 720x720 with 1 Axes>"
      ]
     },
     "metadata": {
      "needs_background": "light"
     },
     "output_type": "display_data"
    }
   ],
   "source": [
    "scattered.plot.scatter(x='round', y='name', figsize=(10,10))"
   ]
  },
  {
   "cell_type": "code",
   "execution_count": null,
   "metadata": {},
   "outputs": [],
   "source": []
  }
 ],
 "metadata": {
  "kernelspec": {
   "display_name": "Python 3",
   "language": "python",
   "name": "python3"
  },
  "language_info": {
   "codemirror_mode": {
    "name": "ipython",
    "version": 3
   },
   "file_extension": ".py",
   "mimetype": "text/x-python",
   "name": "python",
   "nbconvert_exporter": "python",
   "pygments_lexer": "ipython3",
   "version": "3.6.5"
  }
 },
 "nbformat": 4,
 "nbformat_minor": 2
}
