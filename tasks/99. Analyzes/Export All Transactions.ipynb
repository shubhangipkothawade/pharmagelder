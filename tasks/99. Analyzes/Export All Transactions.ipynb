{
 "cells": [
  {
   "cell_type": "markdown",
   "metadata": {},
   "source": [
    "# Export Transactions All\n",
    "and create xlsx-Files"
   ]
  },
  {
   "cell_type": "code",
   "execution_count": 1,
   "metadata": {},
   "outputs": [],
   "source": [
    "import pandas as pd\n",
    "import sys\n",
    "sys.path.insert(0, '../../data/lib/')\n",
    "import consts\n",
    "from pdfexport import *\n",
    "import openpyxl\n",
    "import subprocess, os, sys\n",
    "import mysql.connector"
   ]
  },
  {
   "cell_type": "markdown",
   "metadata": {},
   "source": [
    "## Connect"
   ]
  },
  {
   "cell_type": "code",
   "execution_count": 2,
   "metadata": {},
   "outputs": [],
   "source": [
    "db_connection = mysql.connector.connect(\n",
    "    host=\"localhost\",\n",
    "    user=\"root\",\n",
    "    passwd=\"\",\n",
    "    database = \"pharmagelder\"\n",
    ")"
   ]
  },
  {
   "cell_type": "markdown",
   "metadata": {},
   "source": [
    "## Load Data"
   ]
  },
  {
   "cell_type": "code",
   "execution_count": 3,
   "metadata": {
    "scrolled": false
   },
   "outputs": [],
   "source": [
    "df_recipient = pd.read_sql(\"\"\"SELECT \n",
    "      tra_fk_recipient as id,\n",
    "      max(recipient.rec_name) as name,\n",
    "      max(recipient.rec_address) as address,\n",
    "      max(recipient.rec_location) as location,\n",
    "      max(recipient.rec_plz) as plz,\n",
    "      max(recipient.rec_type) as type,\n",
    "      max(tra_year) as maxYear\n",
    "    FROM transaction\n",
    "    LEFT JOIN recipient ON rec_id = transaction.tra_fk_recipient\n",
    "    GROUP BY tra_fk_recipient\"\"\", con=db_connection)\n",
    "\n",
    "df_transaction = pd.read_sql(\"\"\"SELECT \n",
    "    max(tra_fk_recipient) as id,\n",
    "    max(tra_name_original) as name,\n",
    "    max(tra_location_original) as location,\n",
    "    max(tra_address_original) as address,\n",
    "    max(tra_year) as maxYear,\n",
    "    max(recipient.rec_type) as type\n",
    "  FROM transaction LEFT JOIN recipient ON rec_id = tra_fk_recipient\n",
    "  GROUP BY tra_name_original, tra_location_original, tra_address_original\"\"\", con=db_connection)"
   ]
  },
  {
   "cell_type": "markdown",
   "metadata": {},
   "source": [
    "## Export"
   ]
  },
  {
   "cell_type": "code",
   "execution_count": 4,
   "metadata": {},
   "outputs": [],
   "source": [
    "df_recipient['mainaddress'] = True\n",
    "df_transaction['mainaddress'] = False\n",
    "\n",
    "#Concat\n",
    "df_concat = pd.concat([df_recipient, df_transaction], sort=False)\n",
    "df_concat = df_concat.sort_values(['id', 'mainaddress'], ascending = [True, False])\n",
    "\n",
    "df_concat = df_concat.reset_index(drop=False)\n",
    "\n",
    "df_hcp = df_concat[df_concat.type == 'hcp']\n",
    "df_hco = df_concat[df_concat.type == 'hco']\n",
    "\n",
    "df_hcp = df_hcp.set_index(['id', 'index'])\n",
    "df_hco = df_hco.set_index(['id', 'index'])\n",
    "\n",
    "#Write all\n",
    "writer = pd.ExcelWriter('../../data/99. analyzes/excel/all_transactions.xlsx', options={'encoding':'utf-8'})\n",
    "df_hcp.to_excel(writer, 'hcp', index=True)\n",
    "df_hco.to_excel(writer, 'hco', index=True)\n",
    "writer.save()"
   ]
  },
  {
   "cell_type": "code",
   "execution_count": null,
   "metadata": {},
   "outputs": [],
   "source": []
  }
 ],
 "metadata": {
  "kernelspec": {
   "display_name": "Python 3",
   "language": "python",
   "name": "python3"
  },
  "language_info": {
   "codemirror_mode": {
    "name": "ipython",
    "version": 3
   },
   "file_extension": ".py",
   "mimetype": "text/x-python",
   "name": "python",
   "nbconvert_exporter": "python",
   "pygments_lexer": "ipython3",
   "version": "3.6.5"
  }
 },
 "nbformat": 4,
 "nbformat_minor": 2
}
