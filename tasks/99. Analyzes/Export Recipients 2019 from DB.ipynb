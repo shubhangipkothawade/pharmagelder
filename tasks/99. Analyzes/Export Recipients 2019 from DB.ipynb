{
 "cells": [
  {
   "cell_type": "markdown",
   "metadata": {},
   "source": [
    "# Export 2019 Recipients and create xlsx-Files"
   ]
  },
  {
   "cell_type": "code",
   "execution_count": 1,
   "metadata": {},
   "outputs": [],
   "source": [
    "import pandas as pd\n",
    "import mysql.connector"
   ]
  },
  {
   "cell_type": "code",
   "execution_count": 2,
   "metadata": {},
   "outputs": [],
   "source": [
    "year = 2019"
   ]
  },
  {
   "cell_type": "markdown",
   "metadata": {},
   "source": [
    "## Connect"
   ]
  },
  {
   "cell_type": "code",
   "execution_count": 3,
   "metadata": {},
   "outputs": [],
   "source": [
    "db_connection = mysql.connector.connect(\n",
    "    host=\"localhost\",\n",
    "    user=\"root\",\n",
    "    passwd=\"\",\n",
    "    database = \"pharmagelder\"\n",
    ")"
   ]
  },
  {
   "cell_type": "markdown",
   "metadata": {},
   "source": [
    "## Load Data"
   ]
  },
  {
   "cell_type": "code",
   "execution_count": 4,
   "metadata": {
    "scrolled": false
   },
   "outputs": [],
   "source": [
    "df_recipient = pd.read_sql(\"\"\"SELECT\n",
    "  rec_id as id,\n",
    "  rec_name as name,\n",
    "  rec_address as address,\n",
    "  rec_location as location,\n",
    "  rec_type as type,\n",
    "  trc_name as category,\n",
    "  sum(tra_value) as value\n",
    " FROM transaction\n",
    "  LEFT JOIN transaction_category ON tra_fk_transaction_category = transaction_category.trc_id\n",
    "  LEFT JOIN recipient ON tra_fk_recipient = recipient.rec_id\n",
    "  WHERE tra_year = %s\n",
    "  GROUP BY tra_fk_recipient, tra_fk_transaction_category\n",
    "  ORDER BY rec_name DESC\"\"\" % year, con=db_connection)"
   ]
  },
  {
   "cell_type": "markdown",
   "metadata": {},
   "source": [
    "## Export"
   ]
  },
  {
   "cell_type": "code",
   "execution_count": 5,
   "metadata": {},
   "outputs": [
    {
     "name": "stdout",
     "output_type": "stream",
     "text": [
      "finito\n"
     ]
    }
   ],
   "source": [
    "df_hcp = df_recipient[df_recipient.type == 'hcp']\n",
    "df_hco = df_recipient[df_recipient.type == 'hco']\n",
    "\n",
    "#Pivot HCP\n",
    "df_pivot_hcp = pd.pivot_table(df_hcp, values='value', columns='category', index=['id', 'name', 'address', 'location'])\n",
    "df_pivot_hcp['total'] = df_pivot_hcp.sum(axis=1)\n",
    "df_pivot_hcp = df_pivot_hcp.sort_values(['total'], ascending=False)\n",
    "\n",
    "#Pivot HCO\n",
    "df_pivot_hco = pd.pivot_table(df_hco, values='value', columns='category', index=['id', 'name', 'address', 'location'])\n",
    "df_pivot_hco['total'] = df_pivot_hco.sum(axis=1)\n",
    "df_pivot_hco = df_pivot_hco.sort_values(['total'], ascending=False)\n",
    "\n",
    "#Write all\n",
    "writer = pd.ExcelWriter('../../data/99. analyzes/excel/recipients/%s_recipients.xlsx' % year, options={'encoding':'utf-8'})\n",
    "df_pivot_hcp.to_excel(writer, 'hcp', index=True)\n",
    "df_pivot_hco.to_excel(writer, 'hco', index=True)\n",
    "writer.save()\n",
    "\n",
    "print(\"finito\")"
   ]
  },
  {
   "cell_type": "code",
   "execution_count": null,
   "metadata": {},
   "outputs": [],
   "source": []
  }
 ],
 "metadata": {
  "kernelspec": {
   "display_name": "Python 3",
   "language": "python",
   "name": "python3"
  },
  "language_info": {
   "codemirror_mode": {
    "name": "ipython",
    "version": 3
   },
   "file_extension": ".py",
   "mimetype": "text/x-python",
   "name": "python",
   "nbconvert_exporter": "python",
   "pygments_lexer": "ipython3",
   "version": "3.7.4"
  }
 },
 "nbformat": 4,
 "nbformat_minor": 2
}
