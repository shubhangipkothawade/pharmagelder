{
 "cells": [
  {
   "cell_type": "markdown",
   "metadata": {},
   "source": [
    "# Pharma Top, Flops and other stuff"
   ]
  },
  {
   "cell_type": "code",
   "execution_count": 1,
   "metadata": {},
   "outputs": [],
   "source": [
    "import pandas as pd\n",
    "import mysql.connector\n",
    "%matplotlib inline\n",
    "#pd.set_option('display.float_format', lambda x: '%.f' % x)\n",
    "pd.options.display.float_format = \"{:,.0f}\".format"
   ]
  },
  {
   "cell_type": "markdown",
   "metadata": {},
   "source": [
    "## Connect"
   ]
  },
  {
   "cell_type": "code",
   "execution_count": 2,
   "metadata": {},
   "outputs": [],
   "source": [
    "db_connection = mysql.connector.connect(\n",
    "    host=\"localhost\",\n",
    "    user=\"root\",\n",
    "    passwd=\"\",\n",
    "    database = \"pharmagelder\"\n",
    ")"
   ]
  },
  {
   "cell_type": "markdown",
   "metadata": {},
   "source": [
    "## Load Data"
   ]
  },
  {
   "cell_type": "code",
   "execution_count": 3,
   "metadata": {
    "scrolled": true
   },
   "outputs": [],
   "source": [
    "df_list_raw = pd.read_sql(\"\"\"SELECT \n",
    "    sum(tra_value) as sum_value,\n",
    "    trc_name as category,\n",
    "    pha_name as pharma,\n",
    "    tra_year as year,\n",
    "    rec_type as type\n",
    "  FROM transaction\n",
    "  LEFT JOIN pharma ON tra_fk_pharma = pha_id\n",
    "  LEFT JOIN transaction_category on tra_fk_transaction_category = trc_id\n",
    "  LEFT JOIN recipient ON rec_id = tra_fk_recipient\n",
    "  GROUP BY tra_fk_pharma, tra_year, tra_fk_transaction_category, rec_type\"\"\", con=db_connection)\n",
    "\n",
    "df_accu_raw = pd.read_sql(\"\"\"SELECT \n",
    "    sum(acc_value) as sum_value,\n",
    "    trc_name as category,\n",
    "    pha_name as pharma,\n",
    "    acc_year as year,\n",
    "    acc_type as type\n",
    "  FROM accumulation\n",
    "  LEFT JOIN pharma ON acc_fk_pharma = pha_id\n",
    "  LEFT JOIN transaction_category on acc_fk_transaction_category = trc_id\n",
    "  GROUP BY acc_fk_pharma, acc_year, acc_fk_transaction_category, acc_type\"\"\", con=db_connection)\n"
   ]
  },
  {
   "cell_type": "markdown",
   "metadata": {},
   "source": [
    "## Export"
   ]
  },
  {
   "cell_type": "code",
   "execution_count": 4,
   "metadata": {
    "scrolled": true
   },
   "outputs": [
    {
     "data": {
      "image/png": "[encoded data removed]",
      "text/plain": [
       "<Figure size 432x288 with 1 Axes>"
      ]
     },
     "metadata": {
      "needs_background": "light"
     },
     "output_type": "display_data"
    }
   ],
   "source": [
    "df_list = df_list_raw.copy()\n",
    "df_accu = df_accu_raw.copy()\n",
    "\n",
    "#Concat\n",
    "df_data = pd.concat([df_list, df_accu], sort=False)\n",
    "\n",
    "df_sum = df_data.groupby('year').sum()\n",
    "\n",
    "ax = df_sum.plot.bar()\n",
    "#for i, enum in enumerate(df_sum.iterrows()):\n",
    "#    ax.text(x = i, y = 0, s=str(round(enum[1]['sum_value'], 0)), color='black', fontweight='bold',\n",
    "#            horizontalalignment='center',\n",
    "#           )"
   ]
  },
  {
   "cell_type": "code",
   "execution_count": 5,
   "metadata": {},
   "outputs": [
    {
     "data": {
      "text/html": [
       "<div>\n",
       "<style scoped>\n",
       "    .dataframe tbody tr th:only-of-type {\n",
       "        vertical-align: middle;\n",
       "    }\n",
       "\n",
       "    .dataframe tbody tr th {\n",
       "        vertical-align: top;\n",
       "    }\n",
       "\n",
       "    .dataframe thead th {\n",
       "        text-align: right;\n",
       "    }\n",
       "</style>\n",
       "<table border=\"1\" class=\"dataframe\">\n",
       "  <thead>\n",
       "    <tr style=\"text-align: right;\">\n",
       "      <th></th>\n",
       "      <th>sum_value</th>\n",
       "    </tr>\n",
       "    <tr>\n",
       "      <th>type</th>\n",
       "      <th></th>\n",
       "    </tr>\n",
       "  </thead>\n",
       "  <tbody>\n",
       "    <tr>\n",
       "      <th>hco</th>\n",
       "      <td>96,801,893</td>\n",
       "    </tr>\n",
       "    <tr>\n",
       "      <th>hcp</th>\n",
       "      <td>12,261,008</td>\n",
       "    </tr>\n",
       "    <tr>\n",
       "      <th>rnd</th>\n",
       "      <td>72,369,438</td>\n",
       "    </tr>\n",
       "  </tbody>\n",
       "</table>\n",
       "</div>"
      ],
      "text/plain": [
       "      sum_value\n",
       "type           \n",
       "hco  96,801,893\n",
       "hcp  12,261,008\n",
       "rnd  72,369,438"
      ]
     },
     "execution_count": 5,
     "metadata": {},
     "output_type": "execute_result"
    }
   ],
   "source": [
    "df_data[df_data.year==2018].groupby('type').agg({'sum_value': 'sum'})"
   ]
  },
  {
   "cell_type": "code",
   "execution_count": 5,
   "metadata": {},
   "outputs": [
    {
     "data": {
      "text/html": [
       "<div>\n",
       "<style scoped>\n",
       "    .dataframe tbody tr th:only-of-type {\n",
       "        vertical-align: middle;\n",
       "    }\n",
       "\n",
       "    .dataframe tbody tr th {\n",
       "        vertical-align: top;\n",
       "    }\n",
       "\n",
       "    .dataframe thead th {\n",
       "        text-align: right;\n",
       "    }\n",
       "</style>\n",
       "<table border=\"1\" class=\"dataframe\">\n",
       "  <thead>\n",
       "    <tr style=\"text-align: right;\">\n",
       "      <th></th>\n",
       "      <th>sum_value</th>\n",
       "    </tr>\n",
       "    <tr>\n",
       "      <th>year</th>\n",
       "      <th></th>\n",
       "    </tr>\n",
       "  </thead>\n",
       "  <tbody>\n",
       "    <tr>\n",
       "      <th>2015</th>\n",
       "      <td>140,514,136</td>\n",
       "    </tr>\n",
       "    <tr>\n",
       "      <th>2016</th>\n",
       "      <td>155,584,058</td>\n",
       "    </tr>\n",
       "    <tr>\n",
       "      <th>2017</th>\n",
       "      <td>162,335,403</td>\n",
       "    </tr>\n",
       "    <tr>\n",
       "      <th>2018</th>\n",
       "      <td>181,432,338</td>\n",
       "    </tr>\n",
       "  </tbody>\n",
       "</table>\n",
       "</div>"
      ],
      "text/plain": [
       "       sum_value\n",
       "year            \n",
       "2015 140,514,136\n",
       "2016 155,584,058\n",
       "2017 162,335,403\n",
       "2018 181,432,338"
      ]
     },
     "execution_count": 5,
     "metadata": {},
     "output_type": "execute_result"
    }
   ],
   "source": [
    "df_sum"
   ]
  },
  {
   "cell_type": "markdown",
   "metadata": {},
   "source": [
    "## Abweichung 2017 - 2018"
   ]
  },
  {
   "cell_type": "code",
   "execution_count": 52,
   "metadata": {
    "scrolled": false
   },
   "outputs": [
    {
     "data": {
      "image/png": "[encoded data removed]",
      "text/plain": [
       "<Figure size 1080x720 with 1 Axes>"
      ]
     },
     "metadata": {
      "needs_background": "light"
     },
     "output_type": "display_data"
    }
   ],
   "source": [
    "df_grouped = df_data.groupby(['pharma', 'year']).sum().reset_index()\n",
    "\n",
    "df_pivot = pd.pivot_table(df_grouped, index='pharma', columns='year', values='sum_value')\n",
    "\n",
    "df_pivot['veraenderung_prozent'] = 100 / df_pivot[2017] * df_pivot[2018]\n",
    "df_pivot['veraenderung_absolut'] = df_pivot[2018] - df_pivot[2017]\n",
    "\n",
    "df_pivot = df_pivot.sort_values('veraenderung_absolut', ascending=False)\n",
    "\n",
    "\n",
    "ax = df_pivot['veraenderung_absolut'].head(10).plot.bar(figsize=(15,10))\n"
   ]
  },
  {
   "cell_type": "code",
   "execution_count": 57,
   "metadata": {},
   "outputs": [
    {
     "data": {
      "text/html": [
       "<div>\n",
       "<style scoped>\n",
       "    .dataframe tbody tr th:only-of-type {\n",
       "        vertical-align: middle;\n",
       "    }\n",
       "\n",
       "    .dataframe tbody tr th {\n",
       "        vertical-align: top;\n",
       "    }\n",
       "\n",
       "    .dataframe thead th {\n",
       "        text-align: right;\n",
       "    }\n",
       "</style>\n",
       "<table border=\"1\" class=\"dataframe\">\n",
       "  <thead>\n",
       "    <tr style=\"text-align: right;\">\n",
       "      <th>year</th>\n",
       "      <th>2018</th>\n",
       "      <th>2017</th>\n",
       "      <th>veraenderung_absolut</th>\n",
       "    </tr>\n",
       "    <tr>\n",
       "      <th>pharma</th>\n",
       "      <th></th>\n",
       "      <th></th>\n",
       "      <th></th>\n",
       "    </tr>\n",
       "  </thead>\n",
       "  <tbody>\n",
       "    <tr>\n",
       "      <th>Novartis</th>\n",
       "      <td>22,432,350</td>\n",
       "      <td>19,899,444</td>\n",
       "      <td>2,532,906</td>\n",
       "    </tr>\n",
       "    <tr>\n",
       "      <th>Hoffmann-La Roche</th>\n",
       "      <td>19,885,075</td>\n",
       "      <td>13,870,678</td>\n",
       "      <td>6,014,397</td>\n",
       "    </tr>\n",
       "    <tr>\n",
       "      <th>Bristol-Myers Squibb SA</th>\n",
       "      <td>13,662,878</td>\n",
       "      <td>10,054,220</td>\n",
       "      <td>3,608,658</td>\n",
       "    </tr>\n",
       "    <tr>\n",
       "      <th>Bayer AG</th>\n",
       "      <td>13,332,487</td>\n",
       "      <td>11,996,818</td>\n",
       "      <td>1,335,669</td>\n",
       "    </tr>\n",
       "    <tr>\n",
       "      <th>Pfizer AG</th>\n",
       "      <td>12,623,917</td>\n",
       "      <td>10,025,838</td>\n",
       "      <td>2,598,079</td>\n",
       "    </tr>\n",
       "    <tr>\n",
       "      <th>Amgen</th>\n",
       "      <td>11,047,294</td>\n",
       "      <td>5,555,348</td>\n",
       "      <td>5,491,946</td>\n",
       "    </tr>\n",
       "    <tr>\n",
       "      <th>MSD</th>\n",
       "      <td>10,629,052</td>\n",
       "      <td>9,074,014</td>\n",
       "      <td>1,555,038</td>\n",
       "    </tr>\n",
       "    <tr>\n",
       "      <th>AbbVie</th>\n",
       "      <td>6,792,351</td>\n",
       "      <td>7,803,013</td>\n",
       "      <td>-1,010,662</td>\n",
       "    </tr>\n",
       "    <tr>\n",
       "      <th>AstraZeneca</th>\n",
       "      <td>6,674,524</td>\n",
       "      <td>9,790,026</td>\n",
       "      <td>-3,115,502</td>\n",
       "    </tr>\n",
       "    <tr>\n",
       "      <th>Merck</th>\n",
       "      <td>5,452,578</td>\n",
       "      <td>7,089,279</td>\n",
       "      <td>-1,636,700</td>\n",
       "    </tr>\n",
       "  </tbody>\n",
       "</table>\n",
       "</div>"
      ],
      "text/plain": [
       "year                          2018       2017  veraenderung_absolut\n",
       "pharma                                                             \n",
       "Novartis                22,432,350 19,899,444             2,532,906\n",
       "Hoffmann-La Roche       19,885,075 13,870,678             6,014,397\n",
       "Bristol-Myers Squibb SA 13,662,878 10,054,220             3,608,658\n",
       "Bayer AG                13,332,487 11,996,818             1,335,669\n",
       "Pfizer AG               12,623,917 10,025,838             2,598,079\n",
       "Amgen                   11,047,294  5,555,348             5,491,946\n",
       "MSD                     10,629,052  9,074,014             1,555,038\n",
       "AbbVie                   6,792,351  7,803,013            -1,010,662\n",
       "AstraZeneca              6,674,524  9,790,026            -3,115,502\n",
       "Merck                    5,452,578  7,089,279            -1,636,700"
      ]
     },
     "execution_count": 57,
     "metadata": {},
     "output_type": "execute_result"
    }
   ],
   "source": [
    "df_pivot = df_pivot.sort_values(2018, ascending=False)\n",
    "df_pivot[[2018, 2017, 'veraenderung_absolut']].head(10)"
   ]
  },
  {
   "cell_type": "code",
   "execution_count": null,
   "metadata": {},
   "outputs": [],
   "source": []
  }
 ],
 "metadata": {
  "kernelspec": {
   "display_name": "Python 3",
   "language": "python",
   "name": "python3"
  },
  "language_info": {
   "codemirror_mode": {
    "name": "ipython",
    "version": 3
   },
   "file_extension": ".py",
   "mimetype": "text/x-python",
   "name": "python",
   "nbconvert_exporter": "python",
   "pygments_lexer": "ipython3",
   "version": "3.6.5"
  }
 },
 "nbformat": 4,
 "nbformat_minor": 2
}
