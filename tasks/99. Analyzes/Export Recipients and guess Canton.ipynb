{
 "cells": [
  {
   "cell_type": "markdown",
   "metadata": {},
   "source": [
    "# Export 2019 Recipients and match Canton"
   ]
  },
  {
   "cell_type": "code",
   "execution_count": 1,
   "metadata": {},
   "outputs": [],
   "source": [
    "import pandas as pd\n",
    "import mysql.connector"
   ]
  },
  {
   "cell_type": "code",
   "execution_count": 2,
   "metadata": {},
   "outputs": [],
   "source": [
    "year = 2019"
   ]
  },
  {
   "cell_type": "markdown",
   "metadata": {},
   "source": [
    "## Connect"
   ]
  },
  {
   "cell_type": "code",
   "execution_count": 3,
   "metadata": {},
   "outputs": [],
   "source": [
    "db_connection = mysql.connector.connect(\n",
    "    host=\"localhost\",\n",
    "    user=\"root\",\n",
    "    passwd=\"\",\n",
    "    database = \"pharmagelder\"\n",
    ")"
   ]
  },
  {
   "cell_type": "markdown",
   "metadata": {},
   "source": [
    "## Load Data"
   ]
  },
  {
   "cell_type": "code",
   "execution_count": 4,
   "metadata": {
    "scrolled": false
   },
   "outputs": [],
   "source": [
    "df_recipient = pd.read_sql(\"\"\"SELECT\n",
    "  rec_id as id,\n",
    "  rec_name as name,\n",
    "  rec_address as address,\n",
    "  rec_location as location,\n",
    "  rec_type as type,\n",
    "  trc_name as category,\n",
    "  sum(tra_value) as value\n",
    " FROM transaction\n",
    "  LEFT JOIN transaction_category ON tra_fk_transaction_category = transaction_category.trc_id\n",
    "  LEFT JOIN recipient ON tra_fk_recipient = recipient.rec_id\n",
    "  WHERE tra_year = %s\n",
    "  GROUP BY tra_fk_recipient, tra_fk_transaction_category\n",
    "  ORDER BY rec_name DESC\"\"\" % year, con=db_connection)"
   ]
  },
  {
   "cell_type": "code",
   "execution_count": 5,
   "metadata": {},
   "outputs": [
    {
     "data": {
      "text/plain": [
       "10160"
      ]
     },
     "execution_count": 5,
     "metadata": {},
     "output_type": "execute_result"
    }
   ],
   "source": [
    "len(df_recipient)"
   ]
  },
  {
   "cell_type": "code",
   "execution_count": 6,
   "metadata": {},
   "outputs": [
    {
     "data": {
      "text/plain": [
       "6665"
      ]
     },
     "execution_count": 6,
     "metadata": {},
     "output_type": "execute_result"
    }
   ],
   "source": [
    "df_verzeichnis = pd.read_csv('Ortschaftenverz.-Rép. Localités.csv')\n",
    "df_GDENAMK = df_verzeichnis[['KTKZ', 'GDENAMK']].copy().rename(columns={'GDENAMK': 'ORTNAME'})\n",
    "df_PLZNAMK = df_verzeichnis[['KTKZ', 'PLZNAMK']].copy().rename(columns={'PLZNAMK': 'ORTNAME'})\n",
    "df_verzeichnis = pd.concat([df_verzeichnis, df_GDENAMK, df_PLZNAMK], sort=False).dropna(axis=0, subset=['ORTNAME'])\n",
    "df_verzeichnis['ORTNAME'] = df_verzeichnis['ORTNAME'].str.lower()\n",
    "df_verzeichnis = df_verzeichnis[['KTKZ', 'ORTNAME']].drop_duplicates(subset='ORTNAME')\n",
    "len(df_verzeichnis)"
   ]
  },
  {
   "cell_type": "markdown",
   "metadata": {},
   "source": [
    "## Match"
   ]
  },
  {
   "cell_type": "code",
   "execution_count": 7,
   "metadata": {},
   "outputs": [],
   "source": [
    "#Pivot\n",
    "df_pivot = pd.pivot_table(df_recipient, values='value', columns='category', index=['id', 'name', 'address', 'location', 'type'])\n",
    "df_pivot['total'] = df_pivot.sum(axis=1)\n",
    "df_pivot = df_pivot.reset_index()\n",
    "df_pivot['location_s'] = df_pivot['location'].str.lower()"
   ]
  },
  {
   "cell_type": "code",
   "execution_count": 8,
   "metadata": {},
   "outputs": [
    {
     "data": {
      "text/plain": [
       "5916"
      ]
     },
     "execution_count": 8,
     "metadata": {},
     "output_type": "execute_result"
    }
   ],
   "source": [
    "df_new = df_pivot.merge(df_verzeichnis, how='left', left_on='location_s', right_on='ORTNAME')\n",
    "len(df_new)"
   ]
  },
  {
   "cell_type": "code",
   "execution_count": 9,
   "metadata": {},
   "outputs": [
    {
     "data": {
      "text/plain": [
       "96"
      ]
     },
     "execution_count": 9,
     "metadata": {},
     "output_type": "execute_result"
    }
   ],
   "source": [
    "len(df_new[df_new.KTKZ.isna()])"
   ]
  },
  {
   "cell_type": "code",
   "execution_count": 10,
   "metadata": {},
   "outputs": [],
   "source": [
    "#df_new[df_new.KTKZ.isna()].groupby('location').count().sort_values('name', ascending=False)"
   ]
  },
  {
   "cell_type": "markdown",
   "metadata": {},
   "source": [
    "## Export"
   ]
  },
  {
   "cell_type": "code",
   "execution_count": 11,
   "metadata": {},
   "outputs": [
    {
     "name": "stdout",
     "output_type": "stream",
     "text": [
      "finito\n"
     ]
    }
   ],
   "source": [
    "#Write all\n",
    "df_pivot = df_new.sort_values(['total'], ascending=False)\n",
    "df_pivot = df_pivot.drop(columns=['location_s', 'ORTNAME']).rename(columns={'KTKZ': 'Canton'})\n",
    "writer = pd.ExcelWriter('../../data/99. analyzes/excel/recipients/%s_recipients.xlsx' % year, options={'encoding':'utf-8'})\n",
    "df_pivot[df_pivot.type == 'hcp'].to_excel(writer, 'hcp', index=True)\n",
    "df_pivot[df_pivot.type == 'hco'].to_excel(writer, 'hco', index=True)\n",
    "writer.save()\n",
    "\n",
    "print(\"finito\")"
   ]
  },
  {
   "cell_type": "code",
   "execution_count": null,
   "metadata": {},
   "outputs": [],
   "source": []
  }
 ],
 "metadata": {
  "kernelspec": {
   "display_name": "Python 3",
   "language": "python",
   "name": "python3"
  },
  "language_info": {
   "codemirror_mode": {
    "name": "ipython",
    "version": 3
   },
   "file_extension": ".py",
   "mimetype": "text/x-python",
   "name": "python",
   "nbconvert_exporter": "python",
   "pygments_lexer": "ipython3",
   "version": "3.7.4"
  }
 },
 "nbformat": 4,
 "nbformat_minor": 2
}
