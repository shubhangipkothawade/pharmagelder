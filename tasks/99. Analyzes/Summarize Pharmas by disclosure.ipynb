{
 "cells": [
  {
   "cell_type": "markdown",
   "metadata": {},
   "source": [
    "# Summarize Pharmas by Disclosure\n",
    "This script creates an overview over the data"
   ]
  },
  {
   "cell_type": "code",
   "execution_count": 1,
   "metadata": {},
   "outputs": [],
   "source": [
    "import pandas as pd\n",
    "import sys\n",
    "sys.path.insert(0, '../../data/lib/')\n",
    "import consts\n",
    "from pdfexport import *\n",
    "import openpyxl\n",
    "import subprocess, os, sys\n",
    "import mysql.connector"
   ]
  },
  {
   "cell_type": "markdown",
   "metadata": {},
   "source": [
    "## Connect"
   ]
  },
  {
   "cell_type": "code",
   "execution_count": 2,
   "metadata": {},
   "outputs": [],
   "source": [
    "db_connection = mysql.connector.connect(\n",
    "    host=\"localhost\",\n",
    "    user=\"root\",\n",
    "    passwd=\"\",\n",
    "    database = \"pharmagelder\"\n",
    ")"
   ]
  },
  {
   "cell_type": "markdown",
   "metadata": {},
   "source": [
    "## Load Data"
   ]
  },
  {
   "cell_type": "code",
   "execution_count": 3,
   "metadata": {},
   "outputs": [],
   "source": [
    "df_list_raw = pd.read_sql(\"\"\"SELECT \n",
    "    sum(tra_value) as sum_value,\n",
    "    trc_name as category,\n",
    "    pha_name as pharma,\n",
    "    tra_year as year\n",
    "  FROM transaction\n",
    "  LEFT JOIN pharma ON tra_fk_pharma = pha_id\n",
    "  LEFT JOIN transaction_category on tra_fk_transaction_category = trc_id\n",
    "  GROUP BY tra_fk_pharma, tra_year, tra_fk_transaction_category\"\"\", con=db_connection)\n",
    "\n",
    "df_accu_raw = pd.read_sql(\"\"\"SELECT \n",
    "    sum(acc_value) as sum_value,\n",
    "    trc_name as category,\n",
    "    pha_name as pharma,\n",
    "    acc_year as year\n",
    "  FROM accumulation\n",
    "  LEFT JOIN pharma ON acc_fk_pharma = pha_id\n",
    "  LEFT JOIN transaction_category on acc_fk_transaction_category = trc_id\n",
    "  GROUP BY acc_fk_pharma, acc_year, acc_fk_transaction_category\"\"\", con=db_connection)"
   ]
  },
  {
   "cell_type": "markdown",
   "metadata": {},
   "source": [
    "## Export"
   ]
  },
  {
   "cell_type": "code",
   "execution_count": 4,
   "metadata": {},
   "outputs": [],
   "source": [
    "def export_year(df_data, year):\n",
    "    print(year)\n",
    "    \n",
    "    if year == 'all':\n",
    "        df_part = df_data\n",
    "    else:\n",
    "        df_part = df_data[df_data.year == year]\n",
    "    \n",
    "    #Generate total\n",
    "    df_pivot_total = df_part.pivot_table(index=['pharma'], columns='category', values='sum_value', fill_value=0, aggfunc='sum', margins=True, margins_name='total')\n",
    "    df_pivot_total = df_pivot_total.fillna(0)\n",
    "    df_pivot_total = df_pivot_total[['donations_grants', 'sponsorship', 'registration_fees', 'travel_accommodation', 'fees', 'related_expenses', 'rnd', 'total']]\n",
    "    df_pivot_total = df_pivot_total.apply(lambda x: round(x, 2), axis=1)    \n",
    "    \n",
    "    #Generate detailed\n",
    "    df_pivot_detail = df_part.pivot_table(index=['pharma', 'declaration'], columns='category', values='sum_value', aggfunc='sum', margins=True, margins_name='total')\n",
    "    df_pivot_detail = df_pivot_detail.fillna(0)\n",
    "    df_pivot_detail = df_pivot_detail[['donations_grants', 'sponsorship', 'registration_fees', 'travel_accommodation', 'fees', 'related_expenses', 'rnd', 'total']]\n",
    "    df_pivot_detail = df_pivot_detail.apply(lambda x: round(x, 2), axis=1)\n",
    "\n",
    "    #Write to Excel\n",
    "    writer = pd.ExcelWriter('../../data/99. analyzes/excel/nach_offenlegung_%s.xlsx' % year, options={'encoding':'utf-8'})\n",
    "\n",
    "    df_pivot_total.to_excel(writer, 'total %s' % year, index=True)\n",
    "    df_pivot_detail.to_excel(writer, 'detail %s' % year, index=True)\n",
    "\n",
    "    writer.save()"
   ]
  },
  {
   "cell_type": "code",
   "execution_count": 5,
   "metadata": {},
   "outputs": [
    {
     "name": "stdout",
     "output_type": "stream",
     "text": [
      "all\n",
      "2015\n",
      "2016\n",
      "2017\n",
      "2018\n"
     ]
    }
   ],
   "source": [
    "df_list = df_list_raw.copy()\n",
    "df_accu = df_accu_raw.copy()\n",
    "\n",
    "df_list['declaration'] = 'with_name'\n",
    "df_accu['declaration'] = 'anonymously'\n",
    "\n",
    "#Concat\n",
    "df_data = pd.concat([df_list, df_accu], sort=False)\n",
    "\n",
    "#Export all\n",
    "export_year(df_data, 'all')\n",
    "\n",
    "#Export years\n",
    "for year in df_data['year'].unique():\n",
    "    export_year(df_data, year)"
   ]
  },
  {
   "cell_type": "code",
   "execution_count": null,
   "metadata": {},
   "outputs": [],
   "source": []
  }
 ],
 "metadata": {
  "kernelspec": {
   "display_name": "Python 3",
   "language": "python",
   "name": "python3"
  },
  "language_info": {
   "codemirror_mode": {
    "name": "ipython",
    "version": 3
   },
   "file_extension": ".py",
   "mimetype": "text/x-python",
   "name": "python",
   "nbconvert_exporter": "python",
   "pygments_lexer": "ipython3",
   "version": "3.6.5"
  }
 },
 "nbformat": 4,
 "nbformat_minor": 2
}
