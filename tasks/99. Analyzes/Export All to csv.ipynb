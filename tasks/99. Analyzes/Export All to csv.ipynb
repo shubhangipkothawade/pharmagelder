{
 "cells": [
  {
   "cell_type": "markdown",
   "metadata": {},
   "source": [
    "# Export Transactions All"
   ]
  },
  {
   "cell_type": "code",
   "execution_count": 1,
   "metadata": {},
   "outputs": [],
   "source": [
    "import pandas as pd\n",
    "import mysql.connector"
   ]
  },
  {
   "cell_type": "markdown",
   "metadata": {},
   "source": [
    "## Connect"
   ]
  },
  {
   "cell_type": "code",
   "execution_count": 2,
   "metadata": {},
   "outputs": [],
   "source": [
    "db_connection = mysql.connector.connect(\n",
    "    host=\"localhost\",\n",
    "    user=\"root\",\n",
    "    passwd=\"\",\n",
    "    database = \"pharmagelder\"\n",
    ")"
   ]
  },
  {
   "cell_type": "markdown",
   "metadata": {},
   "source": [
    "## Load Data"
   ]
  },
  {
   "cell_type": "code",
   "execution_count": 3,
   "metadata": {
    "scrolled": false
   },
   "outputs": [],
   "source": [
    "df_transaction = pd.read_sql(\"\"\"SELECT \n",
    "      tra_id as id,\n",
    "      pha_id as pharma_id,\n",
    "      pha_name as pharma_name,\n",
    "      rec_id as recipient_id,\n",
    "      rec_name as recipient_name,\n",
    "      rec_address as recipient_address,\n",
    "      rec_location as recipient_location,\n",
    "      rec_type as recipient_type,\n",
    "      trc_id as transaction_category_id,\n",
    "      trc_name as transaction_category_name,\n",
    "      tra_year as year,\n",
    "      tra_value as value\n",
    "  FROM transaction\n",
    "  LEFT JOIN pharma ON tra_fk_pharma = pha_id \n",
    "  LEFT JOIN recipient ON tra_fk_recipient = rec_id\n",
    "  LEFT JOIN transaction_category ON tra_fk_transaction_category = trc_id;\"\"\", con=db_connection)"
   ]
  },
  {
   "cell_type": "markdown",
   "metadata": {},
   "source": [
    "## Export Transactions"
   ]
  },
  {
   "cell_type": "code",
   "execution_count": 4,
   "metadata": {},
   "outputs": [],
   "source": [
    "df_transaction.to_csv('../../data/99. analyzes/csv/transactions.csv', index=False)"
   ]
  },
  {
   "cell_type": "markdown",
   "metadata": {},
   "source": [
    "## Export Recipients"
   ]
  },
  {
   "cell_type": "code",
   "execution_count": 5,
   "metadata": {},
   "outputs": [],
   "source": [
    "df_rec = df_transaction.groupby(['recipient_id', 'year']).agg({\n",
    "    'recipient_name': 'first',\n",
    "    'recipient_address': 'first',\n",
    "    'recipient_location': 'first',\n",
    "    'recipient_type': 'first',\n",
    "    'value': 'sum'\n",
    "})\n",
    "df_rec.to_csv('../../data/99. analyzes/csv/recipients.csv', index=True)"
   ]
  },
  {
   "cell_type": "code",
   "execution_count": null,
   "metadata": {},
   "outputs": [],
   "source": []
  }
 ],
 "metadata": {
  "kernelspec": {
   "display_name": "Python 3",
   "language": "python",
   "name": "python3"
  },
  "language_info": {
   "codemirror_mode": {
    "name": "ipython",
    "version": 3
   },
   "file_extension": ".py",
   "mimetype": "text/x-python",
   "name": "python",
   "nbconvert_exporter": "python",
   "pygments_lexer": "ipython3",
   "version": "3.7.4"
  }
 },
 "nbformat": 4,
 "nbformat_minor": 2
}
