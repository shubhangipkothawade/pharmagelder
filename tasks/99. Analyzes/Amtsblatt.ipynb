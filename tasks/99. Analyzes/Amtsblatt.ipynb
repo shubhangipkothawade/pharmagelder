{
 "cells": [
  {
   "cell_type": "markdown",
   "metadata": {},
   "source": [
    "# Datenabgleich mit SHAB\n",
    "Rubriken: https://docs.google.com/spreadsheets/d/1RmSGX_SH5lLK1u0wJ-0Omp7mD_QJu9sW9-TUu3-X3PY/edit?ts=5a5e0db5#gid=0"
   ]
  },
  {
   "cell_type": "code",
   "execution_count": 1,
   "metadata": {},
   "outputs": [],
   "source": [
    "import requests\n",
    "import pandas as pd\n",
    "import xml.etree.ElementTree as ET"
   ]
  },
  {
   "cell_type": "code",
   "execution_count": 2,
   "metadata": {},
   "outputs": [],
   "source": [
    "endpoint = 'http://prod.eshab.shab.ch/api/v1/'"
   ]
  },
  {
   "cell_type": "code",
   "execution_count": 3,
   "metadata": {},
   "outputs": [],
   "source": [
    "rubric_translation = [\n",
    "    #{\n",
    "    #'rubric': 'HR',\n",
    "    #'trans': 'Handelsregistereintragung'\n",
    "    #},\n",
    "    #{\n",
    "    #'rubric': 'BH',\n",
    "    #'trans': 'Bekanntmachungen nach Handelsregisterverordnung'\n",
    "    #},\n",
    "    {\n",
    "    'rubric': 'LS',\n",
    "    'trans': 'Liquidationsschuldenrufe'\n",
    "    },\n",
    "    {\n",
    "    'rubric': 'SR',\n",
    "    'trans': 'Weitere gesellschaftsrechtliche Schuldenrufe'\n",
    "    },\n",
    "    {\n",
    "    'rubric': 'SB',\n",
    "    'trans': 'Schuldbetreibungen'\n",
    "    },\n",
    "    {\n",
    "    'rubric': 'KK',\n",
    "    'trans': 'Konkurse'\n",
    "    },\n",
    "    {\n",
    "    'rubric': 'UV',\n",
    "    'trans': 'Gerichtliche Urteile, Verfügungen und Vorladungen'\n",
    "    }\n",
    "    \n",
    "]"
   ]
  },
  {
   "cell_type": "code",
   "execution_count": 4,
   "metadata": {},
   "outputs": [],
   "source": [
    "#Import csv\n",
    "df = pd.read_csv('../../data/99. analyzes/csv/2017_hcp_recipients_aggregated.csv')\n",
    "df_plz = pd.read_csv('../6. database export/sources/Post_Adressdaten20190122_edited.csv')"
   ]
  },
  {
   "cell_type": "code",
   "execution_count": 5,
   "metadata": {},
   "outputs": [],
   "source": [
    "#Drop\n",
    "df_plz.drop(['REC_ART', 'ONRP', 'BFSNR', 'PLZ_TYP', 'POSTLEITZAHL', 'PLZ_ZZ', 'SPRACHCODE', 'SPRACHCODE_ABW', 'ORTBEZ27', 'GPLZ', 'BRIEFZ_DURCH', 'GILT_AB_DAT', 'PLZ_BRIEFZUST', 'PLZ_COFF'], axis=1, inplace=True)\n",
    "df_plz.drop_duplicates(['ORTBEZ18'], inplace=True)\n",
    "\n",
    "#Lowercase location\n",
    "df['location_lower'] = df['location'].str.lower()\n",
    "df_plz['ORTBEZ18'] = df_plz['ORTBEZ18'].str.lower()\n",
    "\n",
    "#Join recipient and zip\n",
    "df_joined = df.merge(df_plz, how='left', left_on='location_lower', right_on='ORTBEZ18')\n",
    "\n",
    "df_joined = df_joined[df_joined.KANTON.notna()]"
   ]
  },
  {
   "cell_type": "code",
   "execution_count": 14,
   "metadata": {},
   "outputs": [],
   "source": [
    "df_joined = df_joined.sort_values('total', ascending=False)\n",
    "df_top = df_joined.iloc[6000:7000]"
   ]
  },
  {
   "cell_type": "code",
   "execution_count": 15,
   "metadata": {},
   "outputs": [],
   "source": [
    "#Translate rubric\n",
    "def update_rubric(s):\n",
    "    for rub in rubric_translation:\n",
    "        if rub['rubric'] == s:\n",
    "            return rub['trans']\n",
    "            break\n",
    "\n",
    "    return s\n"
   ]
  },
  {
   "cell_type": "code",
   "execution_count": 16,
   "metadata": {},
   "outputs": [
    {
     "name": "stdout",
     "output_type": "stream",
     "text": [
      "=== Karin Zingg Brühlmann (3673) ===\n",
      "=== Sabine Abele (2176) ===\n",
      "=== Petra Kästner (1822) ===\n",
      "=== Marco Gebbers (1016) ===\n",
      "=== Marino Urbinelli (1040) ===\n",
      "=== Elke Broos-Könitz (3858) ===\n",
      "=== David Kabashi (3993) ===\n",
      "=== Lubica Gujanicic (600) ===\n",
      "=== Jonathan Gonzalez (3771) ===\n",
      "=== Johannes Berger (3790) ===\n"
     ]
    },
    {
     "data": {
      "text/html": [
       "<div>\n",
       "<style scoped>\n",
       "    .dataframe tbody tr th:only-of-type {\n",
       "        vertical-align: middle;\n",
       "    }\n",
       "\n",
       "    .dataframe tbody tr th {\n",
       "        vertical-align: top;\n",
       "    }\n",
       "\n",
       "    .dataframe thead th {\n",
       "        text-align: right;\n",
       "    }\n",
       "</style>\n",
       "<table border=\"1\" class=\"dataframe\">\n",
       "  <thead>\n",
       "    <tr style=\"text-align: right;\">\n",
       "      <th></th>\n",
       "      <th>name</th>\n",
       "      <th>location</th>\n",
       "      <th>address</th>\n",
       "      <th>shab_rubric</th>\n",
       "      <th>shab_subrubric</th>\n",
       "      <th>shab_title</th>\n",
       "      <th>shab_id</th>\n",
       "      <th>url</th>\n",
       "    </tr>\n",
       "  </thead>\n",
       "  <tbody>\n",
       "  </tbody>\n",
       "</table>\n",
       "</div>"
      ],
      "text/plain": [
       "Empty DataFrame\n",
       "Columns: [name, location, address, shab_rubric, shab_subrubric, shab_title, shab_id, url]\n",
       "Index: []"
      ]
     },
     "execution_count": 16,
     "metadata": {},
     "output_type": "execute_result"
    }
   ],
   "source": [
    "#create empty ds\n",
    "col_names =  [\n",
    "              'name',\n",
    "              'location',\n",
    "              'address',\n",
    "              'shab_rubric',\n",
    "              'shab_subrubric',\n",
    "              'shab_title',\n",
    "              'shab_id'\n",
    "            ]\n",
    "\n",
    "df_shab  = pd.DataFrame(columns = col_names)\n",
    "\n",
    "\n",
    "url = endpoint + \"publications/xml?\"\n",
    "\n",
    "for index, row in df_top.iterrows():\n",
    "    print(\"=== %s (%s) ===\" % (row['name'], index))\n",
    "    #print(url)\n",
    "    payload = {\n",
    "        'keyword': row['name'],\n",
    "        'cantons': row['KANTON'],\n",
    "        'publicationStates': 'PUBLISHED'\n",
    "    }\n",
    "    \n",
    "    r = requests.get(url + 'rubrics=LS&rubrics=SR&rubrics=SB&rubrics=KK&rubrics=UV', params=payload)\n",
    "    #print(payload)\n",
    "    \n",
    "    \"\"\"\n",
    "    file = open('shab.xml', 'w')\n",
    "    file.write(r.text)\n",
    "    file.close()\n",
    "    \"\"\"\n",
    "    \n",
    "    root = ET.fromstring(r.text)\n",
    "\n",
    "    for child in root.iter('publication'):\n",
    "        print(child.find('meta/rubric').text)\n",
    "        df_shab = df_shab.append({\n",
    "                        'name': row['name'],\n",
    "                        'location': row['location'],\n",
    "                        'address': row['address'],\n",
    "                        'shab_rubric': child.find('meta/rubric').text,\n",
    "                        'shab_subrubric': child.find('meta/subRubric').text,\n",
    "                        'shab_title': child.find('meta/title/de').text,\n",
    "                        'shab_id': child.find('meta/id').text},\n",
    "                        ignore_index=True)\n",
    "        \n",
    "    \n",
    "\n",
    "\n",
    "        \n",
    "df_shab['url'] = df_shab['shab_id'].apply(lambda x: 'https://shab.ch/#!/search/publications/detail/' + x)\n",
    "df_shab['shab_rubric'] = df_shab['shab_rubric'].apply(lambda x: update_rubric(x))\n",
    "\n",
    "df_shab.to_csv('shab_records.csv', sep=';', index=False)\n",
    "df_shab.head()\n"
   ]
  },
  {
   "cell_type": "code",
   "execution_count": 9,
   "metadata": {},
   "outputs": [
    {
     "name": "stdout",
     "output_type": "stream",
     "text": [
      "fertig\n"
     ]
    }
   ],
   "source": [
    "print(\"fertig\")"
   ]
  },
  {
   "cell_type": "code",
   "execution_count": null,
   "metadata": {},
   "outputs": [],
   "source": [
    "file = open('shab.xml', 'w')\n",
    "file.write(r.text)\n",
    "file.close()"
   ]
  },
  {
   "cell_type": "code",
   "execution_count": null,
   "metadata": {},
   "outputs": [],
   "source": [
    "payload = {\n",
    "        'keyword': 'Anton Luchsinger',\n",
    "        'cantons': 'zh',\n",
    "        'publicationStates': 'PUBLISHED'\n",
    "    }\n",
    "\n",
    "r = requests.get(url + 'rubrics=LS&rubrics=SR&rubrics=SB&rubrics=KK&rubrics=UV', params=payload)"
   ]
  },
  {
   "cell_type": "code",
   "execution_count": null,
   "metadata": {},
   "outputs": [],
   "source": [
    "file = open('shab.xml', 'w')\n",
    "file.write(r.text)\n",
    "file.close()"
   ]
  },
  {
   "cell_type": "code",
   "execution_count": null,
   "metadata": {},
   "outputs": [],
   "source": []
  }
 ],
 "metadata": {
  "kernelspec": {
   "display_name": "Python 3",
   "language": "python",
   "name": "python3"
  },
  "language_info": {
   "codemirror_mode": {
    "name": "ipython",
    "version": 3
   },
   "file_extension": ".py",
   "mimetype": "text/x-python",
   "name": "python",
   "nbconvert_exporter": "python",
   "pygments_lexer": "ipython3",
   "version": "3.6.5"
  }
 },
 "nbformat": 4,
 "nbformat_minor": 2
}
