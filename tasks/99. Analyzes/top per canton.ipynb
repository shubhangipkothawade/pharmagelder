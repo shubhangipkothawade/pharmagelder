{
 "cells": [
  {
   "cell_type": "markdown",
   "metadata": {},
   "source": [
    "# Top Recipients per Canton"
   ]
  },
  {
   "cell_type": "code",
   "execution_count": 1,
   "metadata": {},
   "outputs": [],
   "source": [
    "import sys\n",
    "sys.path.insert(0, '../../data/lib/')\n",
    "\n",
    "import numpy as np\n",
    "import pandas as pd\n",
    "import importlib\n",
    "\n",
    "import pdfexport\n",
    "importlib.reload(pdfexport)\n",
    "\n",
    "from pdfexport import *"
   ]
  },
  {
   "cell_type": "code",
   "execution_count": 2,
   "metadata": {},
   "outputs": [],
   "source": [
    "#Load Data\n",
    "df_hcp = pd.read_csv('../../data/99. analyzes/csv/2017_hcp_recipients_aggregated.csv')\n",
    "df_hco = pd.read_csv('../../data/99. analyzes/csv/2017_hco_recipients_aggregated.csv')\n",
    "\n",
    "df_plz_raw = pd.read_csv('../6. database export/sources/Post_Adressdaten20190122_edited.csv')\n",
    "df_plz_raw['ORTBEZ18'] = df_plz_raw['ORTBEZ18'].str.lower()\n",
    "df_plz_raw.drop_duplicates(['ORTBEZ18'], inplace=True)\n",
    "df_plz_raw = df_plz_raw[['ORTBEZ18', 'KANTON']]\n",
    "\n",
    "out_path = '../../data/99. analyzes/excel/'\n"
   ]
  },
  {
   "cell_type": "code",
   "execution_count": 3,
   "metadata": {},
   "outputs": [
    {
     "name": "stderr",
     "output_type": "stream",
     "text": [
      "/Users/hws/Documents/python/pharmagelder/env/lib/python3.6/site-packages/ipykernel_launcher.py:13: FutureWarning: by argument to sort_index is deprecated, please use .sort_values(by=...)\n",
      "  del sys.path[0]\n"
     ]
    }
   ],
   "source": [
    "def run(df_data, name):\n",
    "    global df_plz_raw\n",
    "    global out_path\n",
    "    df_data = df_data[df_data.year == 2017]\n",
    "    df_data['location'] = df_data['location'].str.lower()\n",
    "    \n",
    "    #Join\n",
    "    df_join = df_data.merge(df_plz_raw, how='left', left_on='location', right_on='ORTBEZ18')\n",
    "    df_join = df_join.sort_values(by=['KANTON', 'total'], ascending=[True, False])\n",
    "    df_join = df_join.set_index([df_join.KANTON, df_join.name])\n",
    "\n",
    "    top = 5\n",
    "    df_join = df_join.groupby(level=0).apply(lambda df_join: df_join.sort_index(by='total', ascending=False)[:top])\n",
    "    df_join.index = df_join.index.droplevel(0)\n",
    "\n",
    "    write_to_excel(df_join, out_path + '2017_top_5_by_canton_%s.xlsx' % name, open=False, index=True)\n",
    "\n",
    "    \n",
    "run(df_hco, 'hco')\n",
    "run(df_hcp, 'hcp')"
   ]
  },
  {
   "cell_type": "code",
   "execution_count": null,
   "metadata": {},
   "outputs": [],
   "source": []
  }
 ],
 "metadata": {
  "kernelspec": {
   "display_name": "Python 3",
   "language": "python",
   "name": "python3"
  },
  "language_info": {
   "codemirror_mode": {
    "name": "ipython",
    "version": 3
   },
   "file_extension": ".py",
   "mimetype": "text/x-python",
   "name": "python",
   "nbconvert_exporter": "python",
   "pygments_lexer": "ipython3",
   "version": "3.6.5"
  }
 },
 "nbformat": 4,
 "nbformat_minor": 2
}
