{
 "cells": [
  {
   "cell_type": "markdown",
   "metadata": {},
   "source": [
    "# Export Recipients from grouping file for manual check"
   ]
  },
  {
   "cell_type": "code",
   "execution_count": 1,
   "metadata": {},
   "outputs": [],
   "source": [
    "import pandas as pd"
   ]
  },
  {
   "cell_type": "code",
   "execution_count": 7,
   "metadata": {},
   "outputs": [],
   "source": [
    "df_hco = pd.read_csv('../../data/3. transformation/7_hco_grouped_final.csv')\n",
    "df_hco = df_hco.groupby('parent').first()\n",
    "\n",
    "df_hcp = pd.read_csv('../../data/3. transformation/7_hcp_grouped_final.csv')\n",
    "df_hcp = df_hcp.groupby('parent').first()\n",
    "\n",
    "#Write all\n",
    "writer = pd.ExcelWriter('../../data/99. analyzes/excel/recipients/recipients_for_manualy_check.xlsx', options={'encoding':'utf-8'})\n",
    "df_hcp.to_excel(writer, 'hcp', index=True)\n",
    "df_hco.to_excel(writer, 'hco', index=True)\n",
    "writer.save()"
   ]
  },
  {
   "cell_type": "code",
   "execution_count": null,
   "metadata": {},
   "outputs": [],
   "source": []
  }
 ],
 "metadata": {
  "kernelspec": {
   "display_name": "Python 3",
   "language": "python",
   "name": "python3"
  },
  "language_info": {
   "codemirror_mode": {
    "name": "ipython",
    "version": 3
   },
   "file_extension": ".py",
   "mimetype": "text/x-python",
   "name": "python",
   "nbconvert_exporter": "python",
   "pygments_lexer": "ipython3",
   "version": "3.6.5"
  }
 },
 "nbformat": 4,
 "nbformat_minor": 2
}
