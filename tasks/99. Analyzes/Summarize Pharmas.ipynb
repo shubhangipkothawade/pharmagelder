{
 "cells": [
  {
   "cell_type": "markdown",
   "metadata": {},
   "source": [
    "# Summarize Pharmas\n",
    "This script creates an overview over the data"
   ]
  },
  {
   "cell_type": "code",
   "execution_count": 1,
   "metadata": {},
   "outputs": [],
   "source": [
    "import pandas as pd\n",
    "import sys\n",
    "sys.path.insert(0, '../../data/lib/')\n",
    "import consts\n",
    "from pdfexport import *\n",
    "import openpyxl"
   ]
  },
  {
   "cell_type": "code",
   "execution_count": 2,
   "metadata": {},
   "outputs": [],
   "source": [
    "ACCUM_IN = '../../data/3. transformation/1_accumulations_all.csv'\n",
    "FILE_OUT = '../../data/99. analyzes/excel/'\n",
    "\n",
    "#exclude_list = ['novartis', 'takeda', 'menarini']\n",
    "exclude_list = []"
   ]
  },
  {
   "cell_type": "code",
   "execution_count": 3,
   "metadata": {},
   "outputs": [
    {
     "name": "stderr",
     "output_type": "stream",
     "text": [
      "/Users/hws/Documents/python/pharmagelder/env/lib/python3.6/site-packages/ipykernel_launcher.py:5: FutureWarning: Sorting because non-concatenation axis is not aligned. A future version\n",
      "of pandas will change to not sort by default.\n",
      "\n",
      "To accept the future behavior, pass 'sort=False'.\n",
      "\n",
      "To retain the current behavior and silence the warning, pass 'sort=True'.\n",
      "\n",
      "  \"\"\"\n"
     ]
    }
   ],
   "source": [
    "#Load Data\n",
    "df_hcp = pd.read_csv('../../data/3. transformation/6_hcp_grouped.csv')\n",
    "df_hco = pd.read_csv('../../data/3. transformation/6_hco_grouped.csv')\n",
    "\n",
    "df_raw_data = pd.concat([df_hcp, df_hco])\n",
    "\n",
    "df_raw_accumulations = pd.read_csv(ACCUM_IN)"
   ]
  },
  {
   "cell_type": "code",
   "execution_count": 4,
   "metadata": {},
   "outputs": [
    {
     "name": "stderr",
     "output_type": "stream",
     "text": [
      "/Users/hws/Documents/python/pharmagelder/env/lib/python3.6/site-packages/ipykernel_launcher.py:75: RuntimeWarning: divide by zero encountered in double_scalars\n",
      "/Users/hws/Documents/python/pharmagelder/env/lib/python3.6/site-packages/ipykernel_launcher.py:75: RuntimeWarning: invalid value encountered in double_scalars\n",
      "/Users/hws/Documents/python/pharmagelder/env/lib/python3.6/site-packages/ipykernel_launcher.py:76: RuntimeWarning: divide by zero encountered in double_scalars\n",
      "/Users/hws/Documents/python/pharmagelder/env/lib/python3.6/site-packages/ipykernel_launcher.py:76: RuntimeWarning: invalid value encountered in double_scalars\n"
     ]
    },
    {
     "name": "stdout",
     "output_type": "stream",
     "text": [
      "2017 finished\n",
      "2016 finished\n",
      "2015 finished\n",
      "0 finished\n"
     ]
    }
   ],
   "source": [
    "def run(year, filename):\n",
    "    global df_raw_data\n",
    "    global df_raw_accumulations\n",
    "    global FILE_OUT\n",
    "    global exclude_list\n",
    "\n",
    "    if year == 0:\n",
    "        df_list = df_raw_data.copy()\n",
    "        df_accumulations = df_raw_accumulations.copy()        \n",
    "    else:\n",
    "        df_list = df_raw_data[df_raw_data.year == year].copy()\n",
    "        df_accumulations = df_raw_accumulations[df_raw_accumulations.year == year].copy()\n",
    "    \n",
    "    #Remove files, which we have not yet properly cleaned\n",
    "    for excl in exclude_list:\n",
    "        df_list = df_list[df_list.source != excl]\n",
    "        df_accumulations = df_accumulations[df_accumulations.source != excl]\n",
    "\n",
    "    #Numberize\n",
    "    df_list = amounts_to_number(df_list)\n",
    "    df_accumulations = amounts_to_number(df_accumulations)\n",
    "\n",
    "\n",
    "    #Recalculate Total - do not take it frome the total field. sum it\n",
    "    df_list = df_list.fillna(0)\n",
    "    df_list['total'] = df_list.apply(lambda row: (float(row['donations_grants'])\n",
    "    + float(row['sponsorship'])\n",
    "    + float(row['registration_fees'])\n",
    "    + float(row['travel_accommodation'])\n",
    "    + float(row['fees'])\n",
    "    + float(row['related_expenses'])), axis=1)\n",
    "\n",
    "    df_accumulations = df_accumulations.fillna(0)\n",
    "    df_accumulations.loc[df_accumulations['type'].isin(['hcp_amount', 'hco_amount']), 'total'] = df_accumulations.apply(lambda row: (float(row['donations_grants'])\n",
    "    + float(row['sponsorship'])\n",
    "    + float(row['registration_fees'])\n",
    "    + float(row['travel_accommodation'])\n",
    "    + float(row['fees'])\n",
    "    + float(row['related_expenses'])), axis=1)    \n",
    "    \n",
    "    df_accumulations_detailed = df_accumulations.copy()\n",
    "    df_accumulations_detailed = df_accumulations_detailed[~df_accumulations_detailed.type.isin(['hco_count', 'hcp_count'])]\n",
    "\n",
    "    #Made Simple Accumulations\n",
    "    df_accumulations = df_accumulations.replace(\"hcp_amount\", 'hcp')\n",
    "    df_accumulations = df_accumulations.replace(\"hco_amount\", 'hco')\n",
    "    df_accumulations = df_accumulations[~df_accumulations.type.isin(['hco_count', 'hcp_count'])]\n",
    "    \n",
    "    \n",
    "    #Concat\n",
    "    df_concat_simple = pd.concat([df_list, df_accumulations], sort=True)\n",
    "    df_concat_detailed = pd.concat([df_list, df_accumulations_detailed], sort=True)\n",
    "\n",
    "    #Group\n",
    "    df_grouped_sum = df_concat_simple.groupby(by=['source']).sum()\n",
    "\n",
    "    df_grouped_sum['rnd'] = df_grouped_sum['total'] - (df_grouped_sum['donations_grants']\n",
    "    + df_grouped_sum['sponsorship'] + df_grouped_sum['registration_fees'] + df_grouped_sum['travel_accommodation']\n",
    "    + df_grouped_sum['fees'] + df_grouped_sum['related_expenses'])\n",
    "    \n",
    "    df_grouped_simple = df_concat_simple.groupby(by=['source', 'type']).sum()\n",
    "    df_grouped_detail = df_concat_detailed.groupby(by=['source', 'type']).sum()\n",
    "\n",
    "    #Offen vs. Anonym\n",
    "    df_offen = df_list.groupby(by='source').agg({'total': 'sum'})\n",
    "    df_anonym = df_accumulations[df_accumulations.type.isin(['hcp', 'hco'])]\n",
    "    df_anonym = df_anonym.groupby('source').agg({'total': 'sum'})\n",
    "    df_offen['type'] = 'offen'\n",
    "    df_anonym['type'] = 'anonym'\n",
    "    df_anonymoffen = pd.concat([df_offen, df_anonym])\n",
    "    df_anonymoffen = df_anonymoffen.reset_index()\n",
    "    df_pivat_anonymoffen = df_anonymoffen.pivot(index='source', columns='type', values='total')\n",
    "    df_pivat_anonymoffen = df_pivat_anonymoffen.fillna(0)\n",
    "    df_pivat_anonymoffen['total'] = df_pivat_anonymoffen['anonym'] + df_pivat_anonymoffen['offen']\n",
    "    df_pivat_anonymoffen['offen_percentage'] = df_pivat_anonymoffen.apply(lambda row: round(100 / row['total'] * row['offen']), axis=1)\n",
    "    df_pivat_anonymoffen['anonym_percentage'] = df_pivat_anonymoffen.apply(lambda row: round(100 / row['total'] * row['anonym']), axis=1)\n",
    "    df_pivat_anonymoffen = df_pivat_anonymoffen[['offen', 'offen_percentage', 'anonym', 'anonym_percentage', 'total']]\n",
    "    df_pivat_anonymoffen = df_pivat_anonymoffen.sort_values('offen_percentage', ascending=True)\n",
    "\n",
    "    #Group\n",
    "    df_grouped_sum = df_grouped_sum[['donations_grants', 'sponsorship', 'registration_fees', 'travel_accommodation', 'fees', 'related_expenses', 'rnd', 'total']]\n",
    "    df_grouped_simple = df_grouped_simple[['donations_grants', 'sponsorship', 'registration_fees', 'travel_accommodation', 'fees', 'related_expenses', 'total']]\n",
    "    df_grouped_detail = df_grouped_detail[['donations_grants', 'sponsorship', 'registration_fees', 'travel_accommodation', 'fees', 'related_expenses', 'total']]\n",
    "\n",
    "    #Save to Excel\n",
    "    writer = pd.ExcelWriter(FILE_OUT + filename, options={'encoding':'utf-8'})\n",
    "\n",
    "    # Write the frame to excel\n",
    "    df_info = pd.DataFrame({'info': ['Tabellen (Tabs) beachten!']})\n",
    "    df_info.to_excel(writer, 'info', index=False)\n",
    "    df_grouped_sum.to_excel(writer, 'total', index=True)\n",
    "    df_grouped_simple.to_excel(writer, 'detail', index=True)\n",
    "    df_grouped_detail.to_excel(writer, 'detail_nach_offen_anonym', index=True)\n",
    "    df_pivat_anonymoffen.to_excel(writer, 'offen_vs_anonym', index=True)\n",
    "\n",
    "    writer.save()\n",
    "    print(\"%s finished\" % year)\n",
    "    \n",
    "run(2017, '2017_pharma_summarize.xlsx')\n",
    "run(2016, '2016_pharma_summarize.xlsx')\n",
    "run(2015, '2015_pharma_summarize.xlsx')\n",
    "run(0, 'all_pharma_summarize.xlsx')\n"
   ]
  },
  {
   "cell_type": "code",
   "execution_count": null,
   "metadata": {},
   "outputs": [],
   "source": []
  }
 ],
 "metadata": {
  "kernelspec": {
   "display_name": "Python 3",
   "language": "python",
   "name": "python3"
  },
  "language_info": {
   "codemirror_mode": {
    "name": "ipython",
    "version": 3
   },
   "file_extension": ".py",
   "mimetype": "text/x-python",
   "name": "python",
   "nbconvert_exporter": "python",
   "pygments_lexer": "ipython3",
   "version": "3.6.5"
  }
 },
 "nbformat": 4,
 "nbformat_minor": 2
}
