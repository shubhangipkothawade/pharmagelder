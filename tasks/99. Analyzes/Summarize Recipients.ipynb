{
 "cells": [
  {
   "cell_type": "markdown",
   "metadata": {},
   "source": [
    "# Summorize Recipient and create xlsx-Files"
   ]
  },
  {
   "cell_type": "code",
   "execution_count": 6,
   "metadata": {},
   "outputs": [],
   "source": [
    "import sys\n",
    "sys.path.insert(0, '../../data/lib/')\n",
    "\n",
    "import numpy as np\n",
    "import pandas as pd\n",
    "import importlib\n",
    "\n",
    "import pdfexport\n",
    "importlib.reload(pdfexport)\n",
    "\n",
    "from pdfexport import *"
   ]
  },
  {
   "cell_type": "code",
   "execution_count": 7,
   "metadata": {},
   "outputs": [],
   "source": [
    "#Const\n",
    "out_path = '../../data/99. analyzes/'\n",
    "YEAR = 2017\n",
    "open_sheet = False"
   ]
  },
  {
   "cell_type": "code",
   "execution_count": 28,
   "metadata": {},
   "outputs": [],
   "source": [
    "#Load Data\n",
    "df_hcp = pd.read_csv('../../data/3. transformation/7_hcp_grouped_final.csv')\n",
    "df_hco = pd.read_csv('../../data/3. transformation/7_hco_grouped_final.csv')"
   ]
  },
  {
   "cell_type": "markdown",
   "metadata": {},
   "source": [
    "## Export addresses in groupes"
   ]
  },
  {
   "cell_type": "code",
   "execution_count": 29,
   "metadata": {
    "scrolled": true
   },
   "outputs": [
    {
     "name": "stderr",
     "output_type": "stream",
     "text": [
      "/Users/hws/Documents/python/pharmagelder/env/lib/python3.6/site-packages/ipykernel_launcher.py:6: FutureWarning: 'group' is both an index level and a column label.\n",
      "Defaulting to column, but this will raise an ambiguity error in a future version\n",
      "  \n"
     ]
    }
   ],
   "source": [
    "def all_addresses(df, out):\n",
    "    global open_sheet\n",
    "\n",
    "    df = df.sort_values('group')\n",
    "    df = df.set_index([df.group, df.index])\n",
    "    df = df.sort_values(['group', 'main_address', 'name'])\n",
    "\n",
    "    write_to_excel(df, out_path + 'excel/' + out + '.xlsx', open=open_sheet, index=True)\n",
    "    df.to_csv(out_path + 'csv/' + out + '.csv', index=False)\n",
    "    \n",
    "\n",
    "#all_addresses(df_hcp.copy(), 'all_hcp_address_grouped')\n",
    "all_addresses(df_hco.copy(), 'all_hco_address_grouped')"
   ]
  },
  {
   "cell_type": "markdown",
   "metadata": {},
   "source": [
    "## Aggregate"
   ]
  },
  {
   "cell_type": "code",
   "execution_count": 30,
   "metadata": {},
   "outputs": [],
   "source": [
    "def aggregate_by_recipient(df, groupby, out, remcols):\n",
    "    # Aggregiert nach Empfänger\n",
    "    df.sort_values(by='main_address', inplace=True)\n",
    "\n",
    "    grouped = df.groupby(by=groupby).agg({'name': 'first',\n",
    "                                               'location': 'first',\n",
    "                                               'address': 'first',\n",
    "                                               'type': 'first',\n",
    "                                               'year': 'first',\n",
    "                                               'donations_grants': 'sum',\n",
    "                                               'sponsorship': 'sum',\n",
    "                                               'registration_fees': 'sum',\n",
    "                                               'travel_accommodation': 'sum',\n",
    "                                               'fees': 'sum',\n",
    "                                               'related_expenses': 'sum',\n",
    "                                               'total': 'sum'\n",
    "                                              })\n",
    "\n",
    "\n",
    "    grouped = grouped.sort_values(['year', 'total'], ascending=False)\n",
    "    \n",
    "    grouped.drop(remcols, axis=1, inplace=True)\n",
    "\n",
    "    write_to_excel(grouped, out_path + 'excel/' + out + '.xlsx', open=open_sheet, index=False)\n",
    "    grouped.to_csv(out_path + 'csv/' + out + '.csv', index=False)\n",
    "    \n",
    "#HCP\n",
    "\"\"\"\n",
    "aggregate_by_recipient(df_hcp[df_hcp.year == YEAR].copy(), groupby=['group', 'year'], out='%s_hcp_recipients_aggregated' % YEAR, remcols = [])\n",
    "aggregate_by_recipient(df_hcp.copy(), groupby=['group', 'year'], out='all_hcp_recipients_each_year', remcols = [])\n",
    "aggregate_by_recipient(df_hcp.copy(), groupby=['group'], out='all_hcp_recipients_sum_all_years', remcols = ['year'])\n",
    "\"\"\"\n",
    "   \n",
    "#HCO\n",
    "#aggregate_by_recipient(df_hco[df_hco.year == YEAR].copy(), groupby=['group', 'year'], out='%s_hco_recipients_aggregated' % YEAR, remcols = [])\n",
    "#aggregate_by_recipient(df_hco.copy(), groupby=['group', 'year'], out='all_hco_recipients_each_year', remcols = [])\n",
    "aggregate_by_recipient(df_hco.copy(), groupby=['group'], out='all_hco_recipients_sum_all_years', remcols = ['year'])\n"
   ]
  },
  {
   "cell_type": "code",
   "execution_count": null,
   "metadata": {},
   "outputs": [],
   "source": []
  }
 ],
 "metadata": {
  "kernelspec": {
   "display_name": "Python 3",
   "language": "python",
   "name": "python3"
  },
  "language_info": {
   "codemirror_mode": {
    "name": "ipython",
    "version": 3
   },
   "file_extension": ".py",
   "mimetype": "text/x-python",
   "name": "python",
   "nbconvert_exporter": "python",
   "pygments_lexer": "ipython3",
   "version": "3.6.5"
  }
 },
 "nbformat": 4,
 "nbformat_minor": 2
}
