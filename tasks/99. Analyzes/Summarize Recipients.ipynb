{
 "cells": [
  {
   "cell_type": "markdown",
   "metadata": {},
   "source": [
    "# Summorize Recipient and create xlsx-Files"
   ]
  },
  {
   "cell_type": "code",
   "execution_count": 1,
   "metadata": {},
   "outputs": [],
   "source": [
    "import pandas as pd\n",
    "import sys\n",
    "sys.path.insert(0, '../../data/lib/')\n",
    "import consts\n",
    "from pdfexport import *\n",
    "import openpyxl\n",
    "import subprocess, os, sys\n",
    "import mysql.connector"
   ]
  },
  {
   "cell_type": "markdown",
   "metadata": {},
   "source": [
    "## Connect"
   ]
  },
  {
   "cell_type": "code",
   "execution_count": 2,
   "metadata": {},
   "outputs": [],
   "source": [
    "db_connection = mysql.connector.connect(\n",
    "    host=\"localhost\",\n",
    "    user=\"root\",\n",
    "    passwd=\"\",\n",
    "    database = \"pharmagelder\"\n",
    ")"
   ]
  },
  {
   "cell_type": "markdown",
   "metadata": {},
   "source": [
    "## Load Data"
   ]
  },
  {
   "cell_type": "code",
   "execution_count": 3,
   "metadata": {
    "scrolled": true
   },
   "outputs": [
    {
     "data": {
      "text/html": [
       "<div>\n",
       "<style scoped>\n",
       "    .dataframe tbody tr th:only-of-type {\n",
       "        vertical-align: middle;\n",
       "    }\n",
       "\n",
       "    .dataframe tbody tr th {\n",
       "        vertical-align: top;\n",
       "    }\n",
       "\n",
       "    .dataframe thead th {\n",
       "        text-align: right;\n",
       "    }\n",
       "</style>\n",
       "<table border=\"1\" class=\"dataframe\">\n",
       "  <thead>\n",
       "    <tr style=\"text-align: right;\">\n",
       "      <th></th>\n",
       "      <th>sum_value</th>\n",
       "      <th>category</th>\n",
       "      <th>pharma</th>\n",
       "      <th>year</th>\n",
       "      <th>type</th>\n",
       "    </tr>\n",
       "  </thead>\n",
       "  <tbody>\n",
       "    <tr>\n",
       "      <th>0</th>\n",
       "      <td>1500.0</td>\n",
       "      <td>donations_grants</td>\n",
       "      <td>AbbVie</td>\n",
       "      <td>2015</td>\n",
       "      <td>hco</td>\n",
       "    </tr>\n",
       "    <tr>\n",
       "      <th>1</th>\n",
       "      <td>6200.0</td>\n",
       "      <td>sponsorship</td>\n",
       "      <td>AbbVie</td>\n",
       "      <td>2015</td>\n",
       "      <td>hco</td>\n",
       "    </tr>\n",
       "    <tr>\n",
       "      <th>2</th>\n",
       "      <td>9632.0</td>\n",
       "      <td>registration_fees</td>\n",
       "      <td>AbbVie</td>\n",
       "      <td>2015</td>\n",
       "      <td>hco</td>\n",
       "    </tr>\n",
       "    <tr>\n",
       "      <th>3</th>\n",
       "      <td>3282.0</td>\n",
       "      <td>registration_fees</td>\n",
       "      <td>AbbVie</td>\n",
       "      <td>2015</td>\n",
       "      <td>hcp</td>\n",
       "    </tr>\n",
       "    <tr>\n",
       "      <th>4</th>\n",
       "      <td>19915.0</td>\n",
       "      <td>travel_accommodation</td>\n",
       "      <td>AbbVie</td>\n",
       "      <td>2015</td>\n",
       "      <td>hco</td>\n",
       "    </tr>\n",
       "    <tr>\n",
       "      <th>5</th>\n",
       "      <td>4877.0</td>\n",
       "      <td>travel_accommodation</td>\n",
       "      <td>AbbVie</td>\n",
       "      <td>2015</td>\n",
       "      <td>hcp</td>\n",
       "    </tr>\n",
       "    <tr>\n",
       "      <th>6</th>\n",
       "      <td>5032.0</td>\n",
       "      <td>fees</td>\n",
       "      <td>AbbVie</td>\n",
       "      <td>2015</td>\n",
       "      <td>hcp</td>\n",
       "    </tr>\n",
       "    <tr>\n",
       "      <th>7</th>\n",
       "      <td>1331.0</td>\n",
       "      <td>related_expenses</td>\n",
       "      <td>AbbVie</td>\n",
       "      <td>2015</td>\n",
       "      <td>hcp</td>\n",
       "    </tr>\n",
       "    <tr>\n",
       "      <th>8</th>\n",
       "      <td>1044454.0</td>\n",
       "      <td>rnd</td>\n",
       "      <td>AbbVie</td>\n",
       "      <td>2015</td>\n",
       "      <td>rnd</td>\n",
       "    </tr>\n",
       "    <tr>\n",
       "      <th>9</th>\n",
       "      <td>1000.0</td>\n",
       "      <td>sponsorship</td>\n",
       "      <td>AbbVie</td>\n",
       "      <td>2016</td>\n",
       "      <td>hco</td>\n",
       "    </tr>\n",
       "  </tbody>\n",
       "</table>\n",
       "</div>"
      ],
      "text/plain": [
       "   sum_value              category  pharma  year type\n",
       "0     1500.0      donations_grants  AbbVie  2015  hco\n",
       "1     6200.0           sponsorship  AbbVie  2015  hco\n",
       "2     9632.0     registration_fees  AbbVie  2015  hco\n",
       "3     3282.0     registration_fees  AbbVie  2015  hcp\n",
       "4    19915.0  travel_accommodation  AbbVie  2015  hco\n",
       "5     4877.0  travel_accommodation  AbbVie  2015  hcp\n",
       "6     5032.0                  fees  AbbVie  2015  hcp\n",
       "7     1331.0      related_expenses  AbbVie  2015  hcp\n",
       "8  1044454.0                   rnd  AbbVie  2015  rnd\n",
       "9     1000.0           sponsorship  AbbVie  2016  hco"
      ]
     },
     "execution_count": 3,
     "metadata": {},
     "output_type": "execute_result"
    }
   ],
   "source": [
    "df_list_raw = pd.read_sql(\"\"\"SELECT \n",
    "    sum(tra_value) as sum_value,\n",
    "    trc_name as category,\n",
    "    pha_name as pharma,\n",
    "    tra_year as year,\n",
    "    rec_type as type\n",
    "  FROM transaction\n",
    "  LEFT JOIN pharma ON tra_fk_pharma = pha_id\n",
    "  LEFT JOIN transaction_category on tra_fk_transaction_category = trc_id\n",
    "  LEFT JOIN recipient ON rec_id = tra_fk_recipient\n",
    "  GROUP BY tra_fk_pharma, tra_year, tra_fk_transaction_category, rec_type\"\"\", con=db_connection)\n",
    "\n",
    "df_accu_raw = pd.read_sql(\"\"\"SELECT \n",
    "    sum(acc_value) as sum_value,\n",
    "    trc_name as category,\n",
    "    pha_name as pharma,\n",
    "    acc_year as year,\n",
    "    acc_type as type\n",
    "  FROM accumulation\n",
    "  LEFT JOIN pharma ON acc_fk_pharma = pha_id\n",
    "  LEFT JOIN transaction_category on acc_fk_transaction_category = trc_id\n",
    "  GROUP BY acc_fk_pharma, acc_year, acc_fk_transaction_category, acc_type\"\"\", con=db_connection)\n",
    "\n",
    "df_accu_raw.head(10)"
   ]
  },
  {
   "cell_type": "markdown",
   "metadata": {},
   "source": [
    "## Export"
   ]
  },
  {
   "cell_type": "code",
   "execution_count": 6,
   "metadata": {},
   "outputs": [],
   "source": [
    "def export_year(df_data, year):\n",
    "    print(year)\n",
    "    \n",
    "    if year == 'all':\n",
    "        df_part = df_data\n",
    "    else:\n",
    "        df_part = df_data[df_data.year == year]\n",
    "    \n",
    "    #Generate total\n",
    "    df_pivot_total = df_part.pivot_table(index=['pharma', 'type'], columns='category', values='sum_value', fill_value=0, aggfunc='sum', margins=True, margins_name='total')\n",
    "    df_pivot_total = df_pivot_total.fillna(0)\n",
    "    df_pivot_total = df_pivot_total[['donations_grants', 'sponsorship', 'registration_fees', 'travel_accommodation', 'fees', 'related_expenses', 'rnd', 'total']]\n",
    "    df_pivot_total = df_pivot_total.apply(lambda x: round(x, 2), axis=1)  \n",
    "    \n",
    "    #Generate detailed\n",
    "    \"\"\"\n",
    "    df_pivot_detail = df_part.pivot_table(index=['pharma', 'declaration'], columns='category', values='sum_value', aggfunc='sum', margins=True, margins_name='total')\n",
    "    df_pivot_detail = df_pivot_detail.fillna(0)\n",
    "    df_pivot_detail = df_pivot_detail[['donations_grants', 'sponsorship', 'registration_fees', 'travel_accommodation', 'fees', 'related_expenses', 'rnd', 'total']]\n",
    "    df_pivot_detail = df_pivot_detail.apply(lambda x: round(x, 2), axis=1)\n",
    "    \"\"\"\n",
    "    #Write to Excel\n",
    "    writer = pd.ExcelWriter('../../data/99. analyzes/excel/nach_empfaenger_%s.xlsx' % year, options={'encoding':'utf-8'})\n",
    "\n",
    "    df_pivot_total.to_excel(writer, 'total %s' % year, index=True)\n",
    "\n",
    "    writer.save()\n",
    "    \n",
    "    df_pivot_total.head()"
   ]
  },
  {
   "cell_type": "code",
   "execution_count": 7,
   "metadata": {},
   "outputs": [
    {
     "name": "stdout",
     "output_type": "stream",
     "text": [
      "all\n",
      "2015\n",
      "2016\n",
      "2017\n",
      "2018\n"
     ]
    }
   ],
   "source": [
    "df_list = df_list_raw.copy()\n",
    "df_accu = df_accu_raw.copy()\n",
    "\n",
    "#Concat\n",
    "df_data = pd.concat([df_list, df_accu], sort=False)\n",
    "\n",
    "#Export all\n",
    "export_year(df_data, 'all')\n",
    "\n",
    "#Export years\n",
    "for year in df_data['year'].unique():\n",
    "    export_year(df_data, year)"
   ]
  },
  {
   "cell_type": "code",
   "execution_count": null,
   "metadata": {},
   "outputs": [],
   "source": []
  }
 ],
 "metadata": {
  "kernelspec": {
   "display_name": "Python 3",
   "language": "python",
   "name": "python3"
  },
  "language_info": {
   "codemirror_mode": {
    "name": "ipython",
    "version": 3
   },
   "file_extension": ".py",
   "mimetype": "text/x-python",
   "name": "python",
   "nbconvert_exporter": "python",
   "pygments_lexer": "ipython3",
   "version": "3.6.5"
  }
 },
 "nbformat": 4,
 "nbformat_minor": 2
}
