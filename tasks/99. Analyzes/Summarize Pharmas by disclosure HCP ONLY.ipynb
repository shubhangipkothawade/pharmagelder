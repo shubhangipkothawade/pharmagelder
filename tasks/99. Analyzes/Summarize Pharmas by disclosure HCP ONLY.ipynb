{
 "cells": [
  {
   "cell_type": "markdown",
   "metadata": {},
   "source": [
    "# Summarize Pharmas by Disclosure HCP!\n",
    "**Be aware**: RnD is removed. It could be counted to anonymously..."
   ]
  },
  {
   "cell_type": "code",
   "execution_count": 1,
   "metadata": {},
   "outputs": [],
   "source": [
    "import pandas as pd\n",
    "import mysql.connector"
   ]
  },
  {
   "cell_type": "markdown",
   "metadata": {},
   "source": [
    "## Connect"
   ]
  },
  {
   "cell_type": "code",
   "execution_count": 2,
   "metadata": {},
   "outputs": [],
   "source": [
    "db_connection = mysql.connector.connect(\n",
    "    host=\"localhost\",\n",
    "    user=\"root\",\n",
    "    passwd=\"\",\n",
    "    database = \"pharmagelder\"\n",
    ")"
   ]
  },
  {
   "cell_type": "markdown",
   "metadata": {},
   "source": [
    "## Load Data"
   ]
  },
  {
   "cell_type": "code",
   "execution_count": 3,
   "metadata": {},
   "outputs": [],
   "source": [
    "df_list_raw = pd.read_sql(\"\"\"SELECT \n",
    "    sum(tra_value) as sum_value,\n",
    "    trc_name as category,\n",
    "    pha_name as pharma,\n",
    "    tra_year as year\n",
    "  FROM transaction\n",
    "  LEFT JOIN pharma ON tra_fk_pharma = pha_id\n",
    "  LEFT JOIN transaction_category on tra_fk_transaction_category = trc_id\n",
    "  LEFT JOIN recipient ON tra_fk_recipient = rec_id\n",
    "  WHERE rec_type = 'hcp'\n",
    "  GROUP BY tra_fk_pharma, tra_year, tra_fk_transaction_category\"\"\", con=db_connection)\n",
    "\n",
    "df_accu_raw = pd.read_sql(\"\"\"SELECT \n",
    "    sum(acc_value) as sum_value,\n",
    "    trc_name as category,\n",
    "    pha_name as pharma,\n",
    "    acc_year as year\n",
    "  FROM accumulation\n",
    "  LEFT JOIN pharma ON acc_fk_pharma = pha_id\n",
    "  LEFT JOIN transaction_category on acc_fk_transaction_category = trc_id\n",
    "  WHERE acc_type = 'hcp'\n",
    "  GROUP BY acc_fk_pharma, acc_year, acc_fk_transaction_category\"\"\", con=db_connection)"
   ]
  },
  {
   "cell_type": "markdown",
   "metadata": {},
   "source": [
    "## Export"
   ]
  },
  {
   "cell_type": "code",
   "execution_count": 8,
   "metadata": {},
   "outputs": [],
   "source": [
    "def export_year(df_data, year):\n",
    "    print(year)\n",
    "    \n",
    "    if year == 'all':\n",
    "        df_part = df_data\n",
    "    else:\n",
    "        df_part = df_data[df_data.year == year]\n",
    "    \n",
    "    #Generate total\n",
    "    \"\"\"\n",
    "    df_pivot_total = df_part.pivot_table(index=['pharma'], columns='category', values='sum_value', fill_value=0, aggfunc='sum', margins=True, margins_name='total')\n",
    "    df_pivot_total = df_pivot_total.fillna(0)\n",
    "    df_pivot_total = df_pivot_total[['donations_grants', 'sponsorship', 'registration_fees', 'travel_accommodation', 'fees', 'related_expenses', 'total']]\n",
    "    df_pivot_total = df_pivot_total.apply(lambda x: round(x, 2), axis=1)    \n",
    "    \n",
    "    #Generate detailed\n",
    "    df_pivot_detail = df_part.pivot_table(index=['pharma', 'declaration'], columns='category', values='sum_value', aggfunc='sum', margins=True, margins_name='total')\n",
    "    df_pivot_detail = df_pivot_detail.fillna(0)\n",
    "    df_pivot_detail = df_pivot_detail[['donations_grants', 'sponsorship', 'registration_fees', 'travel_accommodation', 'fees', 'related_expenses', 'total']]\n",
    "    df_pivot_detail = df_pivot_detail.apply(lambda x: round(x, 2), axis=1)\n",
    "    \"\"\"\n",
    "    \n",
    "    #Generate detailed2\n",
    "    df_pivot_detail2 = df_part[df_part.category != 'rnd'].pivot_table(index='pharma', columns='declaration', values='sum_value', aggfunc='sum')\n",
    "    df_pivot_detail2['total'] = df_pivot_detail2.sum(axis=1)\n",
    "    df_pivot_detail2['%anonymously'] = round(100 / df_pivot_detail2['total'] * df_pivot_detail2['anonymously'], 0)\n",
    "    df_pivot_detail2['%with_name'] = round(100 / df_pivot_detail2['total'] * df_pivot_detail2['with_name'], 0)\n",
    "    df_pivot_detail2 = df_pivot_detail2[['anonymously', 'with_name', '%anonymously', '%with_name', 'total']]    \n",
    "    df_pivot_detail2 = df_pivot_detail2.sort_values('%with_name', ascending=False)\n",
    "    \n",
    "    #Write to Excel\n",
    "    writer = pd.ExcelWriter('../../data/99. analyzes/excel/pharmas/nach_offenlegung_hcp_%s.xlsx' % year, options={'encoding':'utf-8'})\n",
    "\n",
    "    #df_pivot_total.to_excel(writer, 'total %s' % year, index=True)\n",
    "    #df_pivot_detail.to_excel(writer, 'detail %s' % year, index=True)\n",
    "    df_pivot_detail2.to_excel(writer, 'detail without RnD %s' % year, index=True)\n",
    "\n",
    "    writer.save()"
   ]
  },
  {
   "cell_type": "code",
   "execution_count": 12,
   "metadata": {},
   "outputs": [
    {
     "data": {
      "text/html": [
       "<div>\n",
       "<style scoped>\n",
       "    .dataframe tbody tr th:only-of-type {\n",
       "        vertical-align: middle;\n",
       "    }\n",
       "\n",
       "    .dataframe tbody tr th {\n",
       "        vertical-align: top;\n",
       "    }\n",
       "\n",
       "    .dataframe thead th {\n",
       "        text-align: right;\n",
       "    }\n",
       "</style>\n",
       "<table border=\"1\" class=\"dataframe\">\n",
       "  <thead>\n",
       "    <tr style=\"text-align: right;\">\n",
       "      <th></th>\n",
       "      <th>sum_value</th>\n",
       "    </tr>\n",
       "    <tr>\n",
       "      <th>year</th>\n",
       "      <th></th>\n",
       "    </tr>\n",
       "  </thead>\n",
       "  <tbody>\n",
       "    <tr>\n",
       "      <th>2015</th>\n",
       "      <td>8025607.825</td>\n",
       "    </tr>\n",
       "    <tr>\n",
       "      <th>2016</th>\n",
       "      <td>4461302.520</td>\n",
       "    </tr>\n",
       "    <tr>\n",
       "      <th>2017</th>\n",
       "      <td>3886835.490</td>\n",
       "    </tr>\n",
       "    <tr>\n",
       "      <th>2018</th>\n",
       "      <td>2726546.760</td>\n",
       "    </tr>\n",
       "    <tr>\n",
       "      <th>2019</th>\n",
       "      <td>2200995.880</td>\n",
       "    </tr>\n",
       "  </tbody>\n",
       "</table>\n",
       "</div>"
      ],
      "text/plain": [
       "        sum_value\n",
       "year             \n",
       "2015  8025607.825\n",
       "2016  4461302.520\n",
       "2017  3886835.490\n",
       "2018  2726546.760\n",
       "2019  2200995.880"
      ]
     },
     "execution_count": 12,
     "metadata": {},
     "output_type": "execute_result"
    }
   ],
   "source": [
    "df_accu_raw.groupby('year').sum()"
   ]
  },
  {
   "cell_type": "code",
   "execution_count": 9,
   "metadata": {},
   "outputs": [
    {
     "name": "stdout",
     "output_type": "stream",
     "text": [
      "all\n",
      "2015\n",
      "2017\n",
      "2016\n",
      "2018\n",
      "2019\n"
     ]
    }
   ],
   "source": [
    "df_list = df_list_raw.copy()\n",
    "df_accu = df_accu_raw.copy()\n",
    "\n",
    "df_list['declaration'] = 'with_name'\n",
    "df_accu['declaration'] = 'anonymously'\n",
    "\n",
    "#Concat\n",
    "df_data = pd.concat([df_list, df_accu], sort=False)\n",
    "\n",
    "#Export all\n",
    "export_year(df_data, 'all')\n",
    "\n",
    "#Export years\n",
    "for year in df_data['year'].unique():\n",
    "    export_year(df_data, year)"
   ]
  },
  {
   "cell_type": "code",
   "execution_count": null,
   "metadata": {},
   "outputs": [],
   "source": []
  },
  {
   "cell_type": "code",
   "execution_count": null,
   "metadata": {},
   "outputs": [],
   "source": []
  }
 ],
 "metadata": {
  "kernelspec": {
   "display_name": "Python 3",
   "language": "python",
   "name": "python3"
  },
  "language_info": {
   "codemirror_mode": {
    "name": "ipython",
    "version": 3
   },
   "file_extension": ".py",
   "mimetype": "text/x-python",
   "name": "python",
   "nbconvert_exporter": "python",
   "pygments_lexer": "ipython3",
   "version": "3.7.4"
  }
 },
 "nbformat": 4,
 "nbformat_minor": 2
}
