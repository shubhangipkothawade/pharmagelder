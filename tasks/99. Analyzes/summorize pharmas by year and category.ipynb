{
 "cells": [
  {
   "cell_type": "code",
   "execution_count": null,
   "metadata": {},
   "outputs": [],
   "source": []
  },
  {
   "cell_type": "code",
   "execution_count": 1,
   "metadata": {},
   "outputs": [],
   "source": [
    "import pandas as pd\n",
    "import sys\n",
    "sys.path.insert(0, '../../data/lib/')\n",
    "import consts\n",
    "from pdfexport import *"
   ]
  },
  {
   "cell_type": "code",
   "execution_count": 3,
   "metadata": {},
   "outputs": [],
   "source": [
    "ACCUM_IN = '../../data/3. transformation/1_accumulations_all.csv'\n",
    "FILE_OUT = '../../data/99. analyzes/excel/'"
   ]
  },
  {
   "cell_type": "code",
   "execution_count": 57,
   "metadata": {},
   "outputs": [
    {
     "name": "stderr",
     "output_type": "stream",
     "text": [
      "/Users/hws/Documents/python/pharmagelder/env/lib/python3.6/site-packages/ipykernel_launcher.py:5: FutureWarning: Sorting because non-concatenation axis is not aligned. A future version\n",
      "of pandas will change to not sort by default.\n",
      "\n",
      "To accept the future behavior, pass 'sort=False'.\n",
      "\n",
      "To retain the current behavior and silence the warning, pass 'sort=True'.\n",
      "\n",
      "  \"\"\"\n"
     ]
    }
   ],
   "source": [
    "#Load Data\n",
    "df_hcp_raw = pd.read_csv('../../data/3. transformation/6_hcp_grouped.csv')\n",
    "df_hco_raw = pd.read_csv('../../data/3. transformation/6_hco_grouped.csv')\n",
    "\n",
    "df_raw_data = pd.concat([df_hcp, df_hco])\n",
    "\n",
    "df_raw_accumulations = pd.read_csv(ACCUM_IN)"
   ]
  },
  {
   "cell_type": "markdown",
   "metadata": {},
   "source": [
    "## prepare not anonyms"
   ]
  },
  {
   "cell_type": "code",
   "execution_count": 80,
   "metadata": {
    "scrolled": false
   },
   "outputs": [
    {
     "data": {
      "text/html": [
       "<div>\n",
       "<style scoped>\n",
       "    .dataframe tbody tr th:only-of-type {\n",
       "        vertical-align: middle;\n",
       "    }\n",
       "\n",
       "    .dataframe tbody tr th {\n",
       "        vertical-align: top;\n",
       "    }\n",
       "\n",
       "    .dataframe thead th {\n",
       "        text-align: right;\n",
       "    }\n",
       "</style>\n",
       "<table border=\"1\" class=\"dataframe\">\n",
       "  <thead>\n",
       "    <tr style=\"text-align: right;\">\n",
       "      <th></th>\n",
       "      <th>year</th>\n",
       "      <th>total</th>\n",
       "      <th>type</th>\n",
       "    </tr>\n",
       "  </thead>\n",
       "  <tbody>\n",
       "    <tr>\n",
       "      <th>0</th>\n",
       "      <td>2015</td>\n",
       "      <td>8537058.93</td>\n",
       "      <td>hcp</td>\n",
       "    </tr>\n",
       "    <tr>\n",
       "      <th>1</th>\n",
       "      <td>2016</td>\n",
       "      <td>9351485.74</td>\n",
       "      <td>hcp</td>\n",
       "    </tr>\n",
       "    <tr>\n",
       "      <th>2</th>\n",
       "      <td>2017</td>\n",
       "      <td>8588884.99</td>\n",
       "      <td>hcp</td>\n",
       "    </tr>\n",
       "  </tbody>\n",
       "</table>\n",
       "</div>"
      ],
      "text/plain": [
       "   year       total type\n",
       "0  2015  8537058.93  hcp\n",
       "1  2016  9351485.74  hcp\n",
       "2  2017  8588884.99  hcp"
      ]
     },
     "execution_count": 80,
     "metadata": {},
     "output_type": "execute_result"
    }
   ],
   "source": [
    "df_hco = df_hco_raw.copy()\n",
    "df_hcp_raw = df_hcp_raw.copy()\n",
    "\n",
    "#Sum hcp\n",
    "df_hcp = df_hcp.groupby(['year']).agg({'total': 'sum'})\n",
    "df_hcp = df_hcp.reset_index()\n",
    "df_hcp['type'] = 'hcp'\n",
    "\n",
    "#Sum hco\n",
    "df_hco = df_hco.groupby(['year']).agg({'total': 'sum'})\n",
    "df_hco = df_hco.reset_index()\n",
    "df_hco['type'] = 'hco'\n",
    "\n",
    "#df_hcp_raw = df_hcp_raw.groupby(['source', 'year']).agg({'total': 'sum'})\n",
    "\n",
    "df_hcp.head()"
   ]
  },
  {
   "cell_type": "markdown",
   "metadata": {},
   "source": [
    "## prepare accumulations"
   ]
  },
  {
   "cell_type": "code",
   "execution_count": 81,
   "metadata": {},
   "outputs": [
    {
     "data": {
      "text/html": [
       "<div>\n",
       "<style scoped>\n",
       "    .dataframe tbody tr th:only-of-type {\n",
       "        vertical-align: middle;\n",
       "    }\n",
       "\n",
       "    .dataframe tbody tr th {\n",
       "        vertical-align: top;\n",
       "    }\n",
       "\n",
       "    .dataframe thead th {\n",
       "        text-align: right;\n",
       "    }\n",
       "</style>\n",
       "<table border=\"1\" class=\"dataframe\">\n",
       "  <thead>\n",
       "    <tr style=\"text-align: right;\">\n",
       "      <th></th>\n",
       "      <th>type</th>\n",
       "      <th>year</th>\n",
       "      <th>total</th>\n",
       "    </tr>\n",
       "  </thead>\n",
       "  <tbody>\n",
       "    <tr>\n",
       "      <th>0</th>\n",
       "      <td>hco</td>\n",
       "      <td>2015</td>\n",
       "      <td>0.00</td>\n",
       "    </tr>\n",
       "    <tr>\n",
       "      <th>1</th>\n",
       "      <td>hco</td>\n",
       "      <td>2016</td>\n",
       "      <td>15605938.20</td>\n",
       "    </tr>\n",
       "    <tr>\n",
       "      <th>2</th>\n",
       "      <td>hco</td>\n",
       "      <td>2017</td>\n",
       "      <td>8857981.42</td>\n",
       "    </tr>\n",
       "    <tr>\n",
       "      <th>3</th>\n",
       "      <td>hcp</td>\n",
       "      <td>2015</td>\n",
       "      <td>0.00</td>\n",
       "    </tr>\n",
       "    <tr>\n",
       "      <th>4</th>\n",
       "      <td>hcp</td>\n",
       "      <td>2016</td>\n",
       "      <td>4444717.52</td>\n",
       "    </tr>\n",
       "    <tr>\n",
       "      <th>5</th>\n",
       "      <td>hcp</td>\n",
       "      <td>2017</td>\n",
       "      <td>3891288.54</td>\n",
       "    </tr>\n",
       "    <tr>\n",
       "      <th>6</th>\n",
       "      <td>rnd</td>\n",
       "      <td>2015</td>\n",
       "      <td>53935203.52</td>\n",
       "    </tr>\n",
       "    <tr>\n",
       "      <th>7</th>\n",
       "      <td>rnd</td>\n",
       "      <td>2016</td>\n",
       "      <td>48666896.98</td>\n",
       "    </tr>\n",
       "    <tr>\n",
       "      <th>8</th>\n",
       "      <td>rnd</td>\n",
       "      <td>2017</td>\n",
       "      <td>59199492.49</td>\n",
       "    </tr>\n",
       "  </tbody>\n",
       "</table>\n",
       "</div>"
      ],
      "text/plain": [
       "  type  year        total\n",
       "0  hco  2015         0.00\n",
       "1  hco  2016  15605938.20\n",
       "2  hco  2017   8857981.42\n",
       "3  hcp  2015         0.00\n",
       "4  hcp  2016   4444717.52\n",
       "5  hcp  2017   3891288.54\n",
       "6  rnd  2015  53935203.52\n",
       "7  rnd  2016  48666896.98\n",
       "8  rnd  2017  59199492.49"
      ]
     },
     "execution_count": 81,
     "metadata": {},
     "output_type": "execute_result"
    }
   ],
   "source": [
    "df_accu = df_raw_accumulations.copy()\n",
    "\n",
    "df_accu = df_accu.replace(\"hcp_amount\", 'hcp')\n",
    "df_accu = df_accu.replace(\"hco_amount\", 'hco')\n",
    "\n",
    "df_accu = df_accu[~df_accu['type'].isin(['hcp_count', 'hco_count'])]\n",
    "\n",
    "#Sum hcp\n",
    "df_accu = df_accu.groupby(['type', 'year']).agg({'total': 'sum'})\n",
    "df_accu = df_accu.reset_index()\n",
    "#df_hcp['type'] = 'hcp'\n",
    "\n",
    "df_accu.head(10)"
   ]
  },
  {
   "cell_type": "markdown",
   "metadata": {},
   "source": [
    "## process"
   ]
  },
  {
   "cell_type": "code",
   "execution_count": 92,
   "metadata": {},
   "outputs": [
    {
     "data": {
      "text/html": [
       "<div>\n",
       "<style scoped>\n",
       "    .dataframe tbody tr th:only-of-type {\n",
       "        vertical-align: middle;\n",
       "    }\n",
       "\n",
       "    .dataframe tbody tr th {\n",
       "        vertical-align: top;\n",
       "    }\n",
       "\n",
       "    .dataframe thead th {\n",
       "        text-align: right;\n",
       "    }\n",
       "</style>\n",
       "<table border=\"1\" class=\"dataframe\">\n",
       "  <thead>\n",
       "    <tr style=\"text-align: right;\">\n",
       "      <th>type</th>\n",
       "      <th>hco</th>\n",
       "      <th>hcp</th>\n",
       "      <th>rnd</th>\n",
       "    </tr>\n",
       "    <tr>\n",
       "      <th>year</th>\n",
       "      <th></th>\n",
       "      <th></th>\n",
       "      <th></th>\n",
       "    </tr>\n",
       "  </thead>\n",
       "  <tbody>\n",
       "    <tr>\n",
       "      <th>2015</th>\n",
       "      <td>54530379.0</td>\n",
       "      <td>8537059.0</td>\n",
       "      <td>53935204.0</td>\n",
       "    </tr>\n",
       "    <tr>\n",
       "      <th>2016</th>\n",
       "      <td>89638094.0</td>\n",
       "      <td>13796203.0</td>\n",
       "      <td>48666897.0</td>\n",
       "    </tr>\n",
       "    <tr>\n",
       "      <th>2017</th>\n",
       "      <td>91271097.0</td>\n",
       "      <td>12480174.0</td>\n",
       "      <td>59199492.0</td>\n",
       "    </tr>\n",
       "  </tbody>\n",
       "</table>\n",
       "</div>"
      ],
      "text/plain": [
       "type         hco         hcp         rnd\n",
       "year                                    \n",
       "2015  54530379.0   8537059.0  53935204.0\n",
       "2016  89638094.0  13796203.0  48666897.0\n",
       "2017  91271097.0  12480174.0  59199492.0"
      ]
     },
     "execution_count": 92,
     "metadata": {},
     "output_type": "execute_result"
    }
   ],
   "source": [
    "df_data = pd.concat([df_accu, df_hcp, df_hco], sort=False)\n",
    "\n",
    "#group\n",
    "df_data = df_data.groupby(['type', 'year']).agg({'total': 'sum'})\n",
    "df_data = df_data.reset_index()\n",
    "\n",
    "#df_data.head(10)\n",
    "df_pivot = pd.pivot_table(df_data, 'total', 'year', 'type', aggfunc='sum')\n",
    "df_pivot = df_pivot.apply(lambda x: round(x, 0))\n",
    "df_pivot.head()"
   ]
  },
  {
   "cell_type": "code",
   "execution_count": null,
   "metadata": {},
   "outputs": [],
   "source": []
  }
 ],
 "metadata": {
  "kernelspec": {
   "display_name": "Python 3",
   "language": "python",
   "name": "python3"
  },
  "language_info": {
   "codemirror_mode": {
    "name": "ipython",
    "version": 3
   },
   "file_extension": ".py",
   "mimetype": "text/x-python",
   "name": "python",
   "nbconvert_exporter": "python",
   "pygments_lexer": "ipython3",
   "version": "3.6.5"
  }
 },
 "nbformat": 4,
 "nbformat_minor": 2
}
