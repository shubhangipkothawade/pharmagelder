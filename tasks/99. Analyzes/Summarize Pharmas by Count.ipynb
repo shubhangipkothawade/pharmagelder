{
 "cells": [
  {
   "cell_type": "markdown",
   "metadata": {},
   "source": [
    "# Summorize Pharma COUNT and create xlsx-Files"
   ]
  },
  {
   "cell_type": "code",
   "execution_count": 1,
   "metadata": {},
   "outputs": [],
   "source": [
    "import pandas as pd\n",
    "import mysql.connector\n",
    "import sys\n",
    "sys.path.insert(0, '../../data/lib/')\n",
    "import consts\n",
    "import mysql.connector"
   ]
  },
  {
   "cell_type": "code",
   "execution_count": 2,
   "metadata": {},
   "outputs": [],
   "source": [
    "year = 2019"
   ]
  },
  {
   "cell_type": "markdown",
   "metadata": {},
   "source": [
    "## Load DB"
   ]
  },
  {
   "cell_type": "code",
   "execution_count": 3,
   "metadata": {},
   "outputs": [],
   "source": [
    "db_connection = mysql.connector.connect(\n",
    "    host=\"localhost\",\n",
    "    user=\"root\",\n",
    "    passwd=\"\",\n",
    "    database = \"pharmagelder\"\n",
    ")\n",
    "\n",
    "df_recipient = pd.read_sql(\"\"\"SELECT\n",
    "  rec_id as id,\n",
    "  rec_name as name,\n",
    "  rec_address as address,\n",
    "  rec_location as location,\n",
    "  rec_type as type,\n",
    "  sum(tra_value) as value,\n",
    "  pha_name as pharma\n",
    " FROM transaction\n",
    "  LEFT JOIN transaction_category ON tra_fk_transaction_category = transaction_category.trc_id\n",
    "  LEFT JOIN recipient ON tra_fk_recipient = recipient.rec_id\n",
    "  LEFT JOIN pharma ON tra_fk_pharma = pharma.pha_id\n",
    "  WHERE tra_year = %s\n",
    "  GROUP BY tra_fk_recipient, tra_fk_pharma\n",
    "  ORDER BY rec_name DESC\"\"\" % year, con=db_connection)"
   ]
  },
  {
   "cell_type": "code",
   "execution_count": 11,
   "metadata": {},
   "outputs": [
    {
     "data": {
      "text/html": [
       "<div>\n",
       "<style scoped>\n",
       "    .dataframe tbody tr th:only-of-type {\n",
       "        vertical-align: middle;\n",
       "    }\n",
       "\n",
       "    .dataframe tbody tr th {\n",
       "        vertical-align: top;\n",
       "    }\n",
       "\n",
       "    .dataframe thead th {\n",
       "        text-align: right;\n",
       "    }\n",
       "</style>\n",
       "<table border=\"1\" class=\"dataframe\">\n",
       "  <thead>\n",
       "    <tr style=\"text-align: right;\">\n",
       "      <th></th>\n",
       "      <th>pharma</th>\n",
       "      <th>type</th>\n",
       "      <th>count</th>\n",
       "      <th>total</th>\n",
       "    </tr>\n",
       "  </thead>\n",
       "  <tbody>\n",
       "    <tr>\n",
       "      <th>0</th>\n",
       "      <td>Nordic Pharma</td>\n",
       "      <td>hco</td>\n",
       "      <td>1</td>\n",
       "      <td>2340.0</td>\n",
       "    </tr>\n",
       "    <tr>\n",
       "      <th>1</th>\n",
       "      <td>Nordic Pharma</td>\n",
       "      <td>hcp</td>\n",
       "      <td>1</td>\n",
       "      <td>638.0</td>\n",
       "    </tr>\n",
       "    <tr>\n",
       "      <th>2</th>\n",
       "      <td>A. Menarini AG</td>\n",
       "      <td>hco</td>\n",
       "      <td>113</td>\n",
       "      <td>1388257.0</td>\n",
       "    </tr>\n",
       "    <tr>\n",
       "      <th>3</th>\n",
       "      <td>A. Menarini AG</td>\n",
       "      <td>hcp</td>\n",
       "      <td>222</td>\n",
       "      <td>229002.0</td>\n",
       "    </tr>\n",
       "    <tr>\n",
       "      <th>4</th>\n",
       "      <td>AbbVie</td>\n",
       "      <td>hco</td>\n",
       "      <td>148</td>\n",
       "      <td>5728593.0</td>\n",
       "    </tr>\n",
       "  </tbody>\n",
       "</table>\n",
       "</div>"
      ],
      "text/plain": [
       "           pharma type  count      total\n",
       "0   Nordic Pharma  hco      1     2340.0\n",
       "1   Nordic Pharma  hcp      1      638.0\n",
       "2  A. Menarini AG  hco    113  1388257.0\n",
       "3  A. Menarini AG  hcp    222   229002.0\n",
       "4          AbbVie  hco    148  5728593.0"
      ]
     },
     "execution_count": 11,
     "metadata": {},
     "output_type": "execute_result"
    }
   ],
   "source": [
    "df_db = df_recipient.groupby(['pharma', 'type']).agg({'name': 'count', 'value': 'sum'}).reset_index()\n",
    "df_db.rename(columns={'name': 'count', 'value': 'total'}, inplace=True)\n",
    "df_db.head()"
   ]
  },
  {
   "cell_type": "code",
   "execution_count": 13,
   "metadata": {},
   "outputs": [
    {
     "data": {
      "text/html": [
       "<div>\n",
       "<style scoped>\n",
       "    .dataframe tbody tr th:only-of-type {\n",
       "        vertical-align: middle;\n",
       "    }\n",
       "\n",
       "    .dataframe tbody tr th {\n",
       "        vertical-align: top;\n",
       "    }\n",
       "\n",
       "    .dataframe thead th {\n",
       "        text-align: right;\n",
       "    }\n",
       "</style>\n",
       "<table border=\"1\" class=\"dataframe\">\n",
       "  <thead>\n",
       "    <tr style=\"text-align: right;\">\n",
       "      <th></th>\n",
       "      <th>pharma</th>\n",
       "      <th>type</th>\n",
       "      <th>count</th>\n",
       "      <th>total</th>\n",
       "    </tr>\n",
       "  </thead>\n",
       "  <tbody>\n",
       "    <tr>\n",
       "      <th>72</th>\n",
       "      <td>Novartis</td>\n",
       "      <td>hco</td>\n",
       "      <td>270</td>\n",
       "      <td>12969995.70</td>\n",
       "    </tr>\n",
       "    <tr>\n",
       "      <th>73</th>\n",
       "      <td>Novartis</td>\n",
       "      <td>hcp</td>\n",
       "      <td>448</td>\n",
       "      <td>595710.68</td>\n",
       "    </tr>\n",
       "  </tbody>\n",
       "</table>\n",
       "</div>"
      ],
      "text/plain": [
       "      pharma type  count        total\n",
       "72  Novartis  hco    270  12969995.70\n",
       "73  Novartis  hcp    448    595710.68"
      ]
     },
     "execution_count": 13,
     "metadata": {},
     "output_type": "execute_result"
    }
   ],
   "source": [
    "df_db[df_db.pharma == 'Novartis']"
   ]
  },
  {
   "cell_type": "markdown",
   "metadata": {},
   "source": [
    "## Load Count"
   ]
  },
  {
   "cell_type": "code",
   "execution_count": 22,
   "metadata": {},
   "outputs": [],
   "source": [
    "df_acc = pd.read_csv('../../data/3. transformation/2_accumulations_cleaned.csv', encoding='UTF-8')"
   ]
  },
  {
   "cell_type": "code",
   "execution_count": 27,
   "metadata": {
    "scrolled": false
   },
   "outputs": [],
   "source": [
    "df_acc_count = df_acc[df_acc.type != 'rnd'].copy()\n",
    "\n",
    "# Join with Pharma Names\n",
    "df_pha = pd.read_csv('../6. database export/sources/liste_companies.csv')\n",
    "df_acc_count = df_acc_count.merge(df_pha, how='left', left_on='source', right_on='pha_key')\n",
    "df_acc_count.drop(columns=['pha_key', 'source'], inplace=True)\n",
    "\n",
    "df_acc_count.rename(columns={'amount': 'total', 'pha_name': 'pharma'}, inplace=True)\n",
    "\n",
    "# Copy NaN-List\n",
    "df_nan = df_acc_count[df_acc_count.type.isin(['hcp_count', 'hco_count'])].copy()\n",
    "df_nan = df_nan[df_nan.total.isna()]\n",
    "df_nan['sum'] = df_nan[['donations_grants', 'sponsorship', 'registration_fees', 'travel_accommodation', 'fees', 'related_expenses']].sum(axis=1)\n",
    "\n",
    "df_nan = df_nan[df_nan['sum'] > 0]\n",
    "df_nan['is_nan'] = True\n",
    "df_nan = df_nan[['pharma', 'is_nan']].drop_duplicates(subset=['pharma'])\n",
    "\n",
    "# Transform DF\n",
    "df_acc_count['category'] = df_acc_count['type'].apply(lambda x: 'total' if x in ['hcp_amount', 'hco_amount'] else 'count')\n",
    "df_acc_count['type'] = df_acc_count['type'].apply(lambda x: 'hcp' if x in ['hcp_amount', 'hcp_count'] else 'hco')\n",
    "df_acc_count = pd.pivot_table(df_acc_count, index=['pharma', 'type'], columns='category', values='total' ).reset_index()\n"
   ]
  },
  {
   "cell_type": "code",
   "execution_count": 28,
   "metadata": {},
   "outputs": [
    {
     "data": {
      "text/html": [
       "<div>\n",
       "<style scoped>\n",
       "    .dataframe tbody tr th:only-of-type {\n",
       "        vertical-align: middle;\n",
       "    }\n",
       "\n",
       "    .dataframe tbody tr th {\n",
       "        vertical-align: top;\n",
       "    }\n",
       "\n",
       "    .dataframe thead th {\n",
       "        text-align: right;\n",
       "    }\n",
       "</style>\n",
       "<table border=\"1\" class=\"dataframe\">\n",
       "  <thead>\n",
       "    <tr style=\"text-align: right;\">\n",
       "      <th></th>\n",
       "      <th>pharma</th>\n",
       "      <th>type</th>\n",
       "      <th>count</th>\n",
       "      <th>total</th>\n",
       "      <th>is_nan</th>\n",
       "      <th>avg</th>\n",
       "    </tr>\n",
       "  </thead>\n",
       "  <tbody>\n",
       "    <tr>\n",
       "      <th>0</th>\n",
       "      <td>Nordic Pharma</td>\n",
       "      <td>hco</td>\n",
       "      <td>1.0</td>\n",
       "      <td>2340.00</td>\n",
       "      <td>NaN</td>\n",
       "      <td>2340.0</td>\n",
       "    </tr>\n",
       "    <tr>\n",
       "      <th>1</th>\n",
       "      <td>Nordic Pharma</td>\n",
       "      <td>hcp</td>\n",
       "      <td>1.0</td>\n",
       "      <td>638.00</td>\n",
       "      <td>NaN</td>\n",
       "      <td>638.0</td>\n",
       "    </tr>\n",
       "    <tr>\n",
       "      <th>2</th>\n",
       "      <td>A. Menarini AG</td>\n",
       "      <td>hco</td>\n",
       "      <td>114.0</td>\n",
       "      <td>1546494.75</td>\n",
       "      <td>True</td>\n",
       "      <td>NaN</td>\n",
       "    </tr>\n",
       "    <tr>\n",
       "      <th>3</th>\n",
       "      <td>A. Menarini AG</td>\n",
       "      <td>hcp</td>\n",
       "      <td>222.0</td>\n",
       "      <td>238836.50</td>\n",
       "      <td>True</td>\n",
       "      <td>NaN</td>\n",
       "    </tr>\n",
       "    <tr>\n",
       "      <th>4</th>\n",
       "      <td>AbbVie</td>\n",
       "      <td>hco</td>\n",
       "      <td>148.0</td>\n",
       "      <td>5728593.00</td>\n",
       "      <td>NaN</td>\n",
       "      <td>38707.0</td>\n",
       "    </tr>\n",
       "  </tbody>\n",
       "</table>\n",
       "</div>"
      ],
      "text/plain": [
       "           pharma type  count       total is_nan      avg\n",
       "0   Nordic Pharma  hco    1.0     2340.00    NaN   2340.0\n",
       "1   Nordic Pharma  hcp    1.0      638.00    NaN    638.0\n",
       "2  A. Menarini AG  hco  114.0  1546494.75   True      NaN\n",
       "3  A. Menarini AG  hcp  222.0   238836.50   True      NaN\n",
       "4          AbbVie  hco  148.0  5728593.00    NaN  38707.0"
      ]
     },
     "execution_count": 28,
     "metadata": {},
     "output_type": "execute_result"
    }
   ],
   "source": [
    "## Concat\n",
    "df_new = pd.concat([df_db, df_acc_count], sort=False)\n",
    "df_new = df_new.groupby(['pharma', 'type']).agg({'count': 'sum', 'total': 'sum'}).reset_index()\n",
    "\n",
    "# Merge Nan\n",
    "df_new = df_new.merge(df_nan, how='left', on='pharma')\n",
    "\n",
    "# AVG\n",
    "df_new.loc[df_new.is_nan != True, 'avg'] = round(df_new['total'] / df_new['count'])\n",
    "\n",
    "df_new.head()"
   ]
  },
  {
   "cell_type": "code",
   "execution_count": null,
   "metadata": {},
   "outputs": [],
   "source": []
  },
  {
   "cell_type": "code",
   "execution_count": 29,
   "metadata": {},
   "outputs": [],
   "source": [
    "#Write to Excel\n",
    "writer = pd.ExcelWriter('../../data/99. analyzes/excel/pharmas/anzahl_empfaenger.xlsx', options={'encoding':'utf-8'})\n",
    "\n",
    "df_new.to_excel(writer, 'data', index=True)\n",
    "\n",
    "writer.save()"
   ]
  },
  {
   "cell_type": "code",
   "execution_count": null,
   "metadata": {},
   "outputs": [],
   "source": []
  }
 ],
 "metadata": {
  "kernelspec": {
   "display_name": "Python 3",
   "language": "python",
   "name": "python3"
  },
  "language_info": {
   "codemirror_mode": {
    "name": "ipython",
    "version": 3
   },
   "file_extension": ".py",
   "mimetype": "text/x-python",
   "name": "python",
   "nbconvert_exporter": "python",
   "pygments_lexer": "ipython3",
   "version": "3.6.5"
  }
 },
 "nbformat": 4,
 "nbformat_minor": 2
}
