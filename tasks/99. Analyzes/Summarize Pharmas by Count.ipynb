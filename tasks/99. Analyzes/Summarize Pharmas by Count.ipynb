{
 "cells": [
  {
   "cell_type": "markdown",
   "metadata": {},
   "source": [
    "# Summorize Pharma COUNT and create xlsx-Files"
   ]
  },
  {
   "cell_type": "code",
   "execution_count": 1,
   "metadata": {},
   "outputs": [],
   "source": [
    "import pandas as pd\n",
    "import mysql.connector\n",
    "import sys\n",
    "sys.path.insert(0, '../../data/lib/')\n",
    "import consts\n",
    "import mysql.connector"
   ]
  },
  {
   "cell_type": "code",
   "execution_count": 2,
   "metadata": {},
   "outputs": [],
   "source": [
    "year = 2019"
   ]
  },
  {
   "cell_type": "markdown",
   "metadata": {},
   "source": [
    "## Load DB"
   ]
  },
  {
   "cell_type": "code",
   "execution_count": 3,
   "metadata": {},
   "outputs": [],
   "source": [
    "db_connection = mysql.connector.connect(\n",
    "    host=\"localhost\",\n",
    "    user=\"root\",\n",
    "    passwd=\"\",\n",
    "    database = \"pharmagelder\"\n",
    ")\n",
    "\n",
    "df_recipient = pd.read_sql(\"\"\"SELECT\n",
    "  rec_id as id,\n",
    "  rec_name as name,\n",
    "  rec_address as address,\n",
    "  rec_location as location,\n",
    "  rec_type as type,\n",
    "  sum(tra_value) as value,\n",
    "  pha_name as pharma\n",
    " FROM transaction\n",
    "  LEFT JOIN transaction_category ON tra_fk_transaction_category = transaction_category.trc_id\n",
    "  LEFT JOIN recipient ON tra_fk_recipient = recipient.rec_id\n",
    "  LEFT JOIN pharma ON tra_fk_pharma = pharma.pha_id\n",
    "  WHERE tra_year = %s\n",
    "  GROUP BY tra_fk_recipient, tra_fk_pharma\n",
    "  ORDER BY rec_name DESC\"\"\" % year, con=db_connection)"
   ]
  },
  {
   "cell_type": "code",
   "execution_count": 4,
   "metadata": {},
   "outputs": [
    {
     "data": {
      "text/html": [
       "<div>\n",
       "<style scoped>\n",
       "    .dataframe tbody tr th:only-of-type {\n",
       "        vertical-align: middle;\n",
       "    }\n",
       "\n",
       "    .dataframe tbody tr th {\n",
       "        vertical-align: top;\n",
       "    }\n",
       "\n",
       "    .dataframe thead th {\n",
       "        text-align: right;\n",
       "    }\n",
       "</style>\n",
       "<table border=\"1\" class=\"dataframe\">\n",
       "  <thead>\n",
       "    <tr style=\"text-align: right;\">\n",
       "      <th></th>\n",
       "      <th></th>\n",
       "      <th>name</th>\n",
       "      <th>value</th>\n",
       "    </tr>\n",
       "    <tr>\n",
       "      <th>pharma</th>\n",
       "      <th>type</th>\n",
       "      <th></th>\n",
       "      <th></th>\n",
       "    </tr>\n",
       "  </thead>\n",
       "  <tbody>\n",
       "    <tr>\n",
       "      <th rowspan=\"2\" valign=\"top\">Nordic Pharma</th>\n",
       "      <th>hco</th>\n",
       "      <td>1</td>\n",
       "      <td>2340.0</td>\n",
       "    </tr>\n",
       "    <tr>\n",
       "      <th>hcp</th>\n",
       "      <td>1</td>\n",
       "      <td>638.0</td>\n",
       "    </tr>\n",
       "    <tr>\n",
       "      <th rowspan=\"2\" valign=\"top\">A. Menarini AG</th>\n",
       "      <th>hco</th>\n",
       "      <td>113</td>\n",
       "      <td>1388257.0</td>\n",
       "    </tr>\n",
       "    <tr>\n",
       "      <th>hcp</th>\n",
       "      <td>222</td>\n",
       "      <td>229002.0</td>\n",
       "    </tr>\n",
       "    <tr>\n",
       "      <th>AbbVie</th>\n",
       "      <th>hco</th>\n",
       "      <td>148</td>\n",
       "      <td>5728593.0</td>\n",
       "    </tr>\n",
       "  </tbody>\n",
       "</table>\n",
       "</div>"
      ],
      "text/plain": [
       "                     name      value\n",
       "pharma         type                 \n",
       " Nordic Pharma hco      1     2340.0\n",
       "               hcp      1      638.0\n",
       "A. Menarini AG hco    113  1388257.0\n",
       "               hcp    222   229002.0\n",
       "AbbVie         hco    148  5728593.0"
      ]
     },
     "execution_count": 4,
     "metadata": {},
     "output_type": "execute_result"
    }
   ],
   "source": [
    "df_db = df_recipient.groupby(['pharma', 'type']).agg({'name': 'count', 'value': 'sum'})\n",
    "df_db.head()"
   ]
  },
  {
   "cell_type": "markdown",
   "metadata": {},
   "source": [
    "## Load Count"
   ]
  },
  {
   "cell_type": "code",
   "execution_count": 5,
   "metadata": {},
   "outputs": [],
   "source": [
    "df_acc = pd.read_csv('../../data/3. transformation/0_accumulations_%s.csv' % year, encoding='UTF-8')"
   ]
  },
  {
   "cell_type": "code",
   "execution_count": 6,
   "metadata": {
    "scrolled": true
   },
   "outputs": [
    {
     "data": {
      "text/html": [
       "<div>\n",
       "<style scoped>\n",
       "    .dataframe tbody tr th:only-of-type {\n",
       "        vertical-align: middle;\n",
       "    }\n",
       "\n",
       "    .dataframe tbody tr th {\n",
       "        vertical-align: top;\n",
       "    }\n",
       "\n",
       "    .dataframe thead th {\n",
       "        text-align: right;\n",
       "    }\n",
       "</style>\n",
       "<table border=\"1\" class=\"dataframe\">\n",
       "  <thead>\n",
       "    <tr style=\"text-align: right;\">\n",
       "      <th></th>\n",
       "      <th>type</th>\n",
       "      <th>donations_grants</th>\n",
       "      <th>sponsorship</th>\n",
       "      <th>registration_fees</th>\n",
       "      <th>travel_accommodation</th>\n",
       "      <th>fees</th>\n",
       "      <th>related_expenses</th>\n",
       "      <th>total</th>\n",
       "      <th>source</th>\n",
       "    </tr>\n",
       "  </thead>\n",
       "  <tbody>\n",
       "    <tr>\n",
       "      <th>0</th>\n",
       "      <td>hcp_amount</td>\n",
       "      <td>NaN</td>\n",
       "      <td>NaN</td>\n",
       "      <td>0.0</td>\n",
       "      <td>0.0</td>\n",
       "      <td>0.0</td>\n",
       "      <td>0.0</td>\n",
       "      <td>0.0</td>\n",
       "      <td>abbvie</td>\n",
       "    </tr>\n",
       "    <tr>\n",
       "      <th>1</th>\n",
       "      <td>hco_amount</td>\n",
       "      <td>0.0</td>\n",
       "      <td>0.0</td>\n",
       "      <td>0.0</td>\n",
       "      <td>0.0</td>\n",
       "      <td>0.0</td>\n",
       "      <td>0.0</td>\n",
       "      <td>0.0</td>\n",
       "      <td>abbvie</td>\n",
       "    </tr>\n",
       "    <tr>\n",
       "      <th>2</th>\n",
       "      <td>hcp_count</td>\n",
       "      <td>NaN</td>\n",
       "      <td>NaN</td>\n",
       "      <td>0.0</td>\n",
       "      <td>0.0</td>\n",
       "      <td>0.0</td>\n",
       "      <td>0.0</td>\n",
       "      <td>0.0</td>\n",
       "      <td>abbvie</td>\n",
       "    </tr>\n",
       "    <tr>\n",
       "      <th>3</th>\n",
       "      <td>hco_count</td>\n",
       "      <td>0.0</td>\n",
       "      <td>0.0</td>\n",
       "      <td>0.0</td>\n",
       "      <td>0.0</td>\n",
       "      <td>0.0</td>\n",
       "      <td>0.0</td>\n",
       "      <td>0.0</td>\n",
       "      <td>abbvie</td>\n",
       "    </tr>\n",
       "    <tr>\n",
       "      <th>4</th>\n",
       "      <td>rnd</td>\n",
       "      <td>NaN</td>\n",
       "      <td>NaN</td>\n",
       "      <td>NaN</td>\n",
       "      <td>NaN</td>\n",
       "      <td>NaN</td>\n",
       "      <td>NaN</td>\n",
       "      <td>1451064.0</td>\n",
       "      <td>abbvie</td>\n",
       "    </tr>\n",
       "  </tbody>\n",
       "</table>\n",
       "</div>"
      ],
      "text/plain": [
       "         type  donations_grants  sponsorship  registration_fees  \\\n",
       "0  hcp_amount               NaN          NaN                0.0   \n",
       "1  hco_amount               0.0          0.0                0.0   \n",
       "2   hcp_count               NaN          NaN                0.0   \n",
       "3   hco_count               0.0          0.0                0.0   \n",
       "4         rnd               NaN          NaN                NaN   \n",
       "\n",
       "   travel_accommodation  fees  related_expenses      total  source  \n",
       "0                   0.0   0.0               0.0        0.0  abbvie  \n",
       "1                   0.0   0.0               0.0        0.0  abbvie  \n",
       "2                   0.0   0.0               0.0        0.0  abbvie  \n",
       "3                   0.0   0.0               0.0        0.0  abbvie  \n",
       "4                   NaN   NaN               NaN  1451064.0  abbvie  "
      ]
     },
     "execution_count": 6,
     "metadata": {},
     "output_type": "execute_result"
    }
   ],
   "source": [
    "df_acc.head()"
   ]
  },
  {
   "cell_type": "code",
   "execution_count": 10,
   "metadata": {},
   "outputs": [
    {
     "data": {
      "text/html": [
       "<div>\n",
       "<style scoped>\n",
       "    .dataframe tbody tr th:only-of-type {\n",
       "        vertical-align: middle;\n",
       "    }\n",
       "\n",
       "    .dataframe tbody tr th {\n",
       "        vertical-align: top;\n",
       "    }\n",
       "\n",
       "    .dataframe thead th {\n",
       "        text-align: right;\n",
       "    }\n",
       "</style>\n",
       "<table border=\"1\" class=\"dataframe\">\n",
       "  <thead>\n",
       "    <tr style=\"text-align: right;\">\n",
       "      <th></th>\n",
       "      <th>type</th>\n",
       "      <th>donations_grants</th>\n",
       "      <th>sponsorship</th>\n",
       "      <th>registration_fees</th>\n",
       "      <th>travel_accommodation</th>\n",
       "      <th>fees</th>\n",
       "      <th>related_expenses</th>\n",
       "      <th>total</th>\n",
       "      <th>source</th>\n",
       "      <th>category</th>\n",
       "    </tr>\n",
       "  </thead>\n",
       "  <tbody>\n",
       "    <tr>\n",
       "      <th>0</th>\n",
       "      <td>hcp</td>\n",
       "      <td>NaN</td>\n",
       "      <td>NaN</td>\n",
       "      <td>0.0</td>\n",
       "      <td>0.00</td>\n",
       "      <td>0.00</td>\n",
       "      <td>0.00</td>\n",
       "      <td>0.00</td>\n",
       "      <td>abbvie</td>\n",
       "      <td>hcp_amount</td>\n",
       "    </tr>\n",
       "    <tr>\n",
       "      <th>1</th>\n",
       "      <td>hco</td>\n",
       "      <td>0.0</td>\n",
       "      <td>0.00</td>\n",
       "      <td>0.0</td>\n",
       "      <td>0.00</td>\n",
       "      <td>0.00</td>\n",
       "      <td>0.00</td>\n",
       "      <td>0.00</td>\n",
       "      <td>abbvie</td>\n",
       "      <td>hco_amount</td>\n",
       "    </tr>\n",
       "    <tr>\n",
       "      <th>2</th>\n",
       "      <td>hcp</td>\n",
       "      <td>NaN</td>\n",
       "      <td>NaN</td>\n",
       "      <td>0.0</td>\n",
       "      <td>0.00</td>\n",
       "      <td>0.00</td>\n",
       "      <td>0.00</td>\n",
       "      <td>0.00</td>\n",
       "      <td>abbvie</td>\n",
       "      <td>hcp_count</td>\n",
       "    </tr>\n",
       "    <tr>\n",
       "      <th>3</th>\n",
       "      <td>hco</td>\n",
       "      <td>0.0</td>\n",
       "      <td>0.00</td>\n",
       "      <td>0.0</td>\n",
       "      <td>0.00</td>\n",
       "      <td>0.00</td>\n",
       "      <td>0.00</td>\n",
       "      <td>0.00</td>\n",
       "      <td>abbvie</td>\n",
       "      <td>hco_count</td>\n",
       "    </tr>\n",
       "    <tr>\n",
       "      <th>5</th>\n",
       "      <td>hcp</td>\n",
       "      <td>NaN</td>\n",
       "      <td>NaN</td>\n",
       "      <td>6077.0</td>\n",
       "      <td>7021.00</td>\n",
       "      <td>3000.00</td>\n",
       "      <td>0.00</td>\n",
       "      <td>16098.00</td>\n",
       "      <td>allergan</td>\n",
       "      <td>hcp_amount</td>\n",
       "    </tr>\n",
       "    <tr>\n",
       "      <th>6</th>\n",
       "      <td>hcp</td>\n",
       "      <td>NaN</td>\n",
       "      <td>NaN</td>\n",
       "      <td>5.0</td>\n",
       "      <td>5.00</td>\n",
       "      <td>1.00</td>\n",
       "      <td>0.00</td>\n",
       "      <td>11.00</td>\n",
       "      <td>allergan</td>\n",
       "      <td>hcp_count</td>\n",
       "    </tr>\n",
       "    <tr>\n",
       "      <th>7</th>\n",
       "      <td>hco</td>\n",
       "      <td>2220.0</td>\n",
       "      <td>NaN</td>\n",
       "      <td>NaN</td>\n",
       "      <td>NaN</td>\n",
       "      <td>NaN</td>\n",
       "      <td>NaN</td>\n",
       "      <td>2220.00</td>\n",
       "      <td>allergan</td>\n",
       "      <td>hco_amount</td>\n",
       "    </tr>\n",
       "    <tr>\n",
       "      <th>8</th>\n",
       "      <td>hco</td>\n",
       "      <td>2.0</td>\n",
       "      <td>0.00</td>\n",
       "      <td>NaN</td>\n",
       "      <td>NaN</td>\n",
       "      <td>0.00</td>\n",
       "      <td>NaN</td>\n",
       "      <td>2.00</td>\n",
       "      <td>allergan</td>\n",
       "      <td>hco_count</td>\n",
       "    </tr>\n",
       "    <tr>\n",
       "      <th>10</th>\n",
       "      <td>hcp</td>\n",
       "      <td>NaN</td>\n",
       "      <td>NaN</td>\n",
       "      <td>NaN</td>\n",
       "      <td>12237.72</td>\n",
       "      <td>31156.65</td>\n",
       "      <td>780.07</td>\n",
       "      <td>44174.44</td>\n",
       "      <td>almirall</td>\n",
       "      <td>hcp_amount</td>\n",
       "    </tr>\n",
       "    <tr>\n",
       "      <th>11</th>\n",
       "      <td>hco</td>\n",
       "      <td>NaN</td>\n",
       "      <td>39235.57</td>\n",
       "      <td>NaN</td>\n",
       "      <td>NaN</td>\n",
       "      <td>3000.00</td>\n",
       "      <td>NaN</td>\n",
       "      <td>42235.57</td>\n",
       "      <td>almirall</td>\n",
       "      <td>hco_amount</td>\n",
       "    </tr>\n",
       "  </tbody>\n",
       "</table>\n",
       "</div>"
      ],
      "text/plain": [
       "   type  donations_grants  sponsorship  registration_fees  \\\n",
       "0   hcp               NaN          NaN                0.0   \n",
       "1   hco               0.0         0.00                0.0   \n",
       "2   hcp               NaN          NaN                0.0   \n",
       "3   hco               0.0         0.00                0.0   \n",
       "5   hcp               NaN          NaN             6077.0   \n",
       "6   hcp               NaN          NaN                5.0   \n",
       "7   hco            2220.0          NaN                NaN   \n",
       "8   hco               2.0         0.00                NaN   \n",
       "10  hcp               NaN          NaN                NaN   \n",
       "11  hco               NaN     39235.57                NaN   \n",
       "\n",
       "    travel_accommodation      fees  related_expenses     total    source  \\\n",
       "0                   0.00      0.00              0.00      0.00    abbvie   \n",
       "1                   0.00      0.00              0.00      0.00    abbvie   \n",
       "2                   0.00      0.00              0.00      0.00    abbvie   \n",
       "3                   0.00      0.00              0.00      0.00    abbvie   \n",
       "5                7021.00   3000.00              0.00  16098.00  allergan   \n",
       "6                   5.00      1.00              0.00     11.00  allergan   \n",
       "7                    NaN       NaN               NaN   2220.00  allergan   \n",
       "8                    NaN      0.00               NaN      2.00  allergan   \n",
       "10              12237.72  31156.65            780.07  44174.44  almirall   \n",
       "11                   NaN   3000.00               NaN  42235.57  almirall   \n",
       "\n",
       "      category  \n",
       "0   hcp_amount  \n",
       "1   hco_amount  \n",
       "2    hcp_count  \n",
       "3    hco_count  \n",
       "5   hcp_amount  \n",
       "6    hcp_count  \n",
       "7   hco_amount  \n",
       "8    hco_count  \n",
       "10  hcp_amount  \n",
       "11  hco_amount  "
      ]
     },
     "execution_count": 10,
     "metadata": {},
     "output_type": "execute_result"
    }
   ],
   "source": [
    "df_acc_count = df_acc[df_acc.type != 'rnd'].copy()\n",
    "df_acc_count['category'] = df_acc_count['type'].apply(lambda x: x)\n",
    "df_acc_count['type'] = df_acc_count['type'].apply(lambda x: 'hcp' if x in ['hcp_amount', 'hcp_count'] else 'hco')\n",
    "\n",
    "df_acc_count.groupby(['source', 'type']).count().head()\n",
    "\n",
    "#df_agg_count = df_acc[df_acc.type.isin(['hcp_count', 'hco_count'])].copy()\n",
    "#df_agg_count = df_agg_count.groupby(['source', 'type']).agg({'total': 'sum'}).reset_index()\n",
    "#df_agg_count = df_agg_count.rename(columns={'total': 'name'})\n",
    "#df_agg_count.head()"
   ]
  },
  {
   "cell_type": "code",
   "execution_count": null,
   "metadata": {},
   "outputs": [],
   "source": [
    "df_rec_count = df_rec.groupby('source').agg({'name': 'count'}).reset_index()\n",
    "df_rec_count.head()"
   ]
  },
  {
   "cell_type": "markdown",
   "metadata": {},
   "source": [
    "## Merge"
   ]
  },
  {
   "cell_type": "code",
   "execution_count": null,
   "metadata": {},
   "outputs": [],
   "source": [
    "df_count = pd.concat([df_agg_count, df_rec_count])\n",
    "df_count = df_count.groupby('source').agg({'name': 'sum'})"
   ]
  },
  {
   "cell_type": "markdown",
   "metadata": {},
   "source": [
    "## Get Sum"
   ]
  },
  {
   "cell_type": "code",
   "execution_count": null,
   "metadata": {},
   "outputs": [],
   "source": [
    "df_acc_sum = df_acc[df_acc.type.isin(['hcp_amount', 'hco_amount', 'rnd'])].copy()\n",
    "df_acc_sum = df_acc_sum.groupby('source').agg({'total': 'sum'})\n",
    "\n",
    "df_rec_sum = df_rec.groupby('source').agg({'total': 'sum'})\n",
    "\n",
    "df_sum = pd.concat([df_acc_sum, df_rec_sum])\n",
    "df_sum = df_sum.groupby('source').agg({'total': 'sum'}).reset_index()"
   ]
  },
  {
   "cell_type": "markdown",
   "metadata": {},
   "source": [
    "## Join"
   ]
  },
  {
   "cell_type": "code",
   "execution_count": null,
   "metadata": {},
   "outputs": [],
   "source": [
    "df_joined = df_count.merge(df_sum, how='left', on='source')\n",
    "df_joined = df_joined.rename(columns={'name': 'empfaenger', 'total': 'summe_zahlungen'})\n",
    "df_joined['durchschnitt_pro_empfaenger'] = round(df_joined['summe_zahlungen'] / df_joined['empfaenger'])\n",
    "\n",
    "df_joined = df_joined.sort_values('durchschnitt_pro_empfaenger', ascending=False)\n",
    "df_joined.head()"
   ]
  },
  {
   "cell_type": "code",
   "execution_count": null,
   "metadata": {},
   "outputs": [],
   "source": [
    "#Write to Excel\n",
    "writer = pd.ExcelWriter('../../data/99. analyzes/excel/pharmas/anzahl_empfaenger.xlsx', options={'encoding':'utf-8'})\n",
    "\n",
    "df_joined.to_excel(writer, 'Empfänger', index=True)\n",
    "\n",
    "writer.save()"
   ]
  },
  {
   "cell_type": "code",
   "execution_count": null,
   "metadata": {},
   "outputs": [],
   "source": []
  },
  {
   "cell_type": "code",
   "execution_count": null,
   "metadata": {},
   "outputs": [],
   "source": []
  },
  {
   "cell_type": "code",
   "execution_count": null,
   "metadata": {},
   "outputs": [],
   "source": []
  },
  {
   "cell_type": "code",
   "execution_count": null,
   "metadata": {},
   "outputs": [],
   "source": []
  },
  {
   "cell_type": "code",
   "execution_count": null,
   "metadata": {},
   "outputs": [],
   "source": []
  },
  {
   "cell_type": "code",
   "execution_count": null,
   "metadata": {},
   "outputs": [],
   "source": []
  },
  {
   "cell_type": "code",
   "execution_count": null,
   "metadata": {},
   "outputs": [],
   "source": [
    "df_rec.head()"
   ]
  },
  {
   "cell_type": "code",
   "execution_count": null,
   "metadata": {},
   "outputs": [],
   "source": []
  },
  {
   "cell_type": "code",
   "execution_count": null,
   "metadata": {},
   "outputs": [],
   "source": [
    "-- ALT"
   ]
  },
  {
   "cell_type": "markdown",
   "metadata": {},
   "source": [
    "## Connect"
   ]
  },
  {
   "cell_type": "code",
   "execution_count": null,
   "metadata": {},
   "outputs": [],
   "source": [
    "db_connection = mysql.connector.connect(\n",
    "    host=\"localhost\",\n",
    "    user=\"root\",\n",
    "    passwd=\"\",\n",
    "    database = \"pharmagelder\"\n",
    ")"
   ]
  },
  {
   "cell_type": "markdown",
   "metadata": {},
   "source": [
    "## Load Data"
   ]
  },
  {
   "cell_type": "code",
   "execution_count": null,
   "metadata": {
    "scrolled": true
   },
   "outputs": [],
   "source": [
    "\"\"\"\n",
    "df_list_raw = pd.read_sql(\"\"\"SELECT \n",
    "    count( DISTINCT tra_fk_recipient) as count,\n",
    "    pha_name as pharma,\n",
    "    pha_id as pharmaid,\n",
    "    tra_year as year\n",
    "  FROM transaction\n",
    "  LEFT JOIN pharma ON tra_fk_pharma = pha_id\n",
    "  LEFT JOIN transaction_category on tra_fk_transaction_category = trc_id\n",
    "  LEFT JOIN recipient ON rec_id = tra_fk_recipient\n",
    "  WHERE tra_year = 2019\n",
    "  GROUP BY tra_fk_pharma\n",
    "  \"\"\", con=db_connection)\n",
    "\"\"\""
   ]
  },
  {
   "cell_type": "code",
   "execution_count": null,
   "metadata": {},
   "outputs": [],
   "source": [
    "df_list_raw.head(20)"
   ]
  },
  {
   "cell_type": "markdown",
   "metadata": {},
   "source": [
    "## Export"
   ]
  },
  {
   "cell_type": "code",
   "execution_count": null,
   "metadata": {},
   "outputs": [],
   "source": [
    "def export_year(df_data, year):\n",
    "    print(year)\n",
    "    \n",
    "    if year == 'all':\n",
    "        df_part = df_data\n",
    "    else:\n",
    "        df_part = df_data[df_data.year == year]\n",
    "    \n",
    "    #Generate total\n",
    "    df_pivot_total = df_part.pivot_table(index=['pharma', 'type'], columns='category', values='sum_value', fill_value=0, aggfunc='sum', margins=True, margins_name='total')\n",
    "    df_pivot_total = df_pivot_total.fillna(0)\n",
    "    df_pivot_total = df_pivot_total[['donations_grants', 'sponsorship', 'registration_fees', 'travel_accommodation', 'fees', 'related_expenses', 'rnd', 'total']]\n",
    "    df_pivot_total = df_pivot_total.apply(lambda x: round(x, 2), axis=1)  \n",
    "    \n",
    "    #Generate detailed\n",
    "    \"\"\"\n",
    "    df_pivot_detail = df_part.pivot_table(index=['pharma', 'declaration'], columns='category', values='sum_value', aggfunc='sum', margins=True, margins_name='total')\n",
    "    df_pivot_detail = df_pivot_detail.fillna(0)\n",
    "    df_pivot_detail = df_pivot_detail[['donations_grants', 'sponsorship', 'registration_fees', 'travel_accommodation', 'fees', 'related_expenses', 'rnd', 'total']]\n",
    "    df_pivot_detail = df_pivot_detail.apply(lambda x: round(x, 2), axis=1)\n",
    "    \"\"\"\n",
    "    #Write to Excel\n",
    "    writer = pd.ExcelWriter('../../data/99. analyzes/excel/pharmas/nach_hco_hcp_rnd_%s.xlsx' % year, options={'encoding':'utf-8'})\n",
    "\n",
    "    df_pivot_total.to_excel(writer, 'total %s' % year, index=True)\n",
    "\n",
    "    writer.save()\n",
    "    \n",
    "    df_pivot_total.head()"
   ]
  },
  {
   "cell_type": "code",
   "execution_count": null,
   "metadata": {},
   "outputs": [],
   "source": [
    "df_list = df_list_raw.copy()\n",
    "df_accu = df_accu_raw.copy()\n",
    "\n",
    "#Concat\n",
    "df_data = pd.concat([df_list, df_accu], sort=False)\n",
    "\n",
    "#Export all\n",
    "export_year(df_data, 'all')\n",
    "\n",
    "#Export years\n",
    "for year in df_data['year'].unique():\n",
    "    export_year(df_data, year)"
   ]
  },
  {
   "cell_type": "code",
   "execution_count": null,
   "metadata": {},
   "outputs": [],
   "source": []
  }
 ],
 "metadata": {
  "kernelspec": {
   "display_name": "Python 3",
   "language": "python",
   "name": "python3"
  },
  "language_info": {
   "codemirror_mode": {
    "name": "ipython",
    "version": 3
   },
   "file_extension": ".py",
   "mimetype": "text/x-python",
   "name": "python",
   "nbconvert_exporter": "python",
   "pygments_lexer": "ipython3",
   "version": "3.7.4"
  }
 },
 "nbformat": 4,
 "nbformat_minor": 2
}
