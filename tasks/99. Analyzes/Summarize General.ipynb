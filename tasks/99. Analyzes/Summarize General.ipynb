{
 "cells": [
  {
   "cell_type": "markdown",
   "metadata": {},
   "source": [
    "# Summorize Pharma General and create xlsx-Files"
   ]
  },
  {
   "cell_type": "code",
   "execution_count": 1,
   "metadata": {},
   "outputs": [],
   "source": [
    "import pandas as pd\n",
    "import mysql.connector"
   ]
  },
  {
   "cell_type": "markdown",
   "metadata": {},
   "source": [
    "## Connect"
   ]
  },
  {
   "cell_type": "code",
   "execution_count": 2,
   "metadata": {},
   "outputs": [],
   "source": [
    "db_connection = mysql.connector.connect(\n",
    "    host=\"localhost\",\n",
    "    user=\"root\",\n",
    "    passwd=\"\",\n",
    "    database = \"pharmagelder\"\n",
    ")"
   ]
  },
  {
   "cell_type": "markdown",
   "metadata": {},
   "source": [
    "## Load Data"
   ]
  },
  {
   "cell_type": "code",
   "execution_count": 3,
   "metadata": {
    "scrolled": true
   },
   "outputs": [],
   "source": [
    "df_list_raw = pd.read_sql(\"\"\"SELECT \n",
    "    sum(tra_value) as sum_value,\n",
    "    trc_name as category,\n",
    "    pha_name as pharma,\n",
    "    tra_year as year,\n",
    "    rec_type as type\n",
    "  FROM transaction\n",
    "  LEFT JOIN pharma ON tra_fk_pharma = pha_id\n",
    "  LEFT JOIN transaction_category on tra_fk_transaction_category = trc_id\n",
    "  LEFT JOIN recipient ON rec_id = tra_fk_recipient\n",
    "  GROUP BY tra_fk_pharma, tra_year, tra_fk_transaction_category, rec_type\"\"\", con=db_connection)\n",
    "\n",
    "df_accu_raw = pd.read_sql(\"\"\"SELECT \n",
    "    sum(acc_value) as sum_value,\n",
    "    trc_name as category,\n",
    "    pha_name as pharma,\n",
    "    acc_year as year,\n",
    "    acc_type as type\n",
    "  FROM accumulation\n",
    "  LEFT JOIN pharma ON acc_fk_pharma = pha_id\n",
    "  LEFT JOIN transaction_category on acc_fk_transaction_category = trc_id\n",
    "  GROUP BY acc_fk_pharma, acc_year, acc_fk_transaction_category, acc_type\"\"\", con=db_connection)\n"
   ]
  },
  {
   "cell_type": "markdown",
   "metadata": {},
   "source": [
    "## Export"
   ]
  },
  {
   "cell_type": "code",
   "execution_count": 34,
   "metadata": {},
   "outputs": [],
   "source": [
    "df_list = df_list_raw.copy()\n",
    "df_accu = df_accu_raw.copy()\n",
    "\n",
    "#Concat\n",
    "df_data = pd.concat([df_list, df_accu], sort=False)\n",
    "\n",
    "df_group = df_data.groupby(['pharma', 'year']).agg({'sum_value': 'sum'}).reset_index()\n",
    "\n",
    "df_pivot = pd.pivot_table(df_group, columns='year', index='pharma', values='sum_value').reset_index()\n",
    "\n",
    "#Fillna\n",
    "#df_pivot = df_pivot.fillna(0)\n",
    "\n",
    "#Total\n",
    "df_pivot['total'] = df_pivot.sum(axis=1)\n",
    "\n",
    "df_pivot = df_pivot.sort_values('total', ascending=False)\n",
    "\n",
    "#Write to Excel\n",
    "writer = pd.ExcelWriter('../../data/99. analyzes/excel/pharmas/pharmas_overview.xlsx', options={'encoding':'utf-8'})\n",
    "\n",
    "df_pivot.to_excel(writer, 'overview', index=False)\n",
    "\n",
    "writer.save()"
   ]
  },
  {
   "cell_type": "code",
   "execution_count": null,
   "metadata": {},
   "outputs": [],
   "source": []
  }
 ],
 "metadata": {
  "kernelspec": {
   "display_name": "Python 3",
   "language": "python",
   "name": "python3"
  },
  "language_info": {
   "codemirror_mode": {
    "name": "ipython",
    "version": 3
   },
   "file_extension": ".py",
   "mimetype": "text/x-python",
   "name": "python",
   "nbconvert_exporter": "python",
   "pygments_lexer": "ipython3",
   "version": "3.6.5"
  }
 },
 "nbformat": 4,
 "nbformat_minor": 2
}
