{
 "cells": [
  {
   "cell_type": "markdown",
   "metadata": {},
   "source": [
    "# Export all Recipients and create xlsx-Files"
   ]
  },
  {
   "cell_type": "code",
   "execution_count": 1,
   "metadata": {},
   "outputs": [],
   "source": [
    "import pandas as pd\n",
    "import mysql.connector"
   ]
  },
  {
   "cell_type": "markdown",
   "metadata": {},
   "source": [
    "## Connect"
   ]
  },
  {
   "cell_type": "code",
   "execution_count": 2,
   "metadata": {},
   "outputs": [],
   "source": [
    "db_connection = mysql.connector.connect(\n",
    "    host=\"localhost\",\n",
    "    user=\"root\",\n",
    "    passwd=\"\",\n",
    "    database = \"pharmagelder\"\n",
    ")"
   ]
  },
  {
   "cell_type": "markdown",
   "metadata": {},
   "source": [
    "## Load Data"
   ]
  },
  {
   "cell_type": "code",
   "execution_count": 3,
   "metadata": {
    "scrolled": false
   },
   "outputs": [],
   "source": [
    "df_recipient = pd.read_sql(\"\"\"SELECT\n",
    "  rec_id as user_id,\n",
    "  rec_name as name,\n",
    "  rec_address as address,\n",
    "  rec_location as location,\n",
    "  rec_type as type,\n",
    "  trc_name as category,\n",
    "  tra_value as value,\n",
    "  tra_year as year\n",
    " FROM transaction\n",
    "  LEFT JOIN transaction_category ON tra_fk_transaction_category = transaction_category.trc_id\n",
    "  LEFT JOIN recipient ON tra_fk_recipient = recipient.rec_id\n",
    "  #GROUP BY tra_fk_recipient, tra_fk_transaction_category\n",
    "  ORDER BY rec_name DESC\"\"\", con=db_connection)"
   ]
  },
  {
   "cell_type": "markdown",
   "metadata": {},
   "source": [
    "## Export Sum"
   ]
  },
  {
   "cell_type": "code",
   "execution_count": 4,
   "metadata": {},
   "outputs": [],
   "source": [
    "df_grouped = df_recipient.groupby(['user_id', 'year']).agg({\n",
    "    'type': 'first',\n",
    "    'name': 'first',\n",
    "    'address': 'first',\n",
    "    'location': 'first',\n",
    "    'type': 'first',\n",
    "    'value': 'sum'})\n",
    "\n",
    "df_pivot = pd.pivot_table(df_grouped, values='value', columns='year', index=['user_id', 'name', 'address', 'location', 'type']).reset_index()\n",
    "df_pivot['total'] = df_pivot[2015] + df_pivot[2016] + df_pivot[2017] + df_pivot[2018]\n",
    "df_pivot = df_pivot.sort_values('total', ascending=False)\n",
    "\n",
    "#Add Url\n",
    "df_pivot['url'] = df_pivot['user_id'].apply(lambda x: 'https://www.stg.pharmagelder.ch/recipient/%s-x.html' % x)\n",
    "\n",
    "df_pivot_hcp = df_pivot[df_pivot.type == 'hcp']\n",
    "df_pivot_hco = df_pivot[df_pivot.type == 'hco']"
   ]
  },
  {
   "cell_type": "markdown",
   "metadata": {},
   "source": [
    "## Export Categories"
   ]
  },
  {
   "cell_type": "code",
   "execution_count": 5,
   "metadata": {},
   "outputs": [],
   "source": [
    "df_grouped_detail = df_recipient.groupby(['user_id', 'category']).agg({\n",
    "    'type': 'first',\n",
    "    'name': 'first',\n",
    "    'address': 'first',\n",
    "    'location': 'first',\n",
    "    'type': 'first',\n",
    "    'value': 'sum'}).reset_index()\n",
    "\n",
    "df_pivot_detail = pd.pivot_table(df_grouped_detail, values='value', columns='category', index=['user_id', 'name', 'address', 'location', 'type']).reset_index()\n",
    "\n",
    "df_pivot_detail_hcp = df_pivot_detail[df_pivot_detail.type == 'hcp']\n",
    "df_pivot_detail_hco = df_pivot_detail[df_pivot_detail.type == 'hco']"
   ]
  },
  {
   "cell_type": "markdown",
   "metadata": {},
   "source": [
    "## Write to Excel"
   ]
  },
  {
   "cell_type": "code",
   "execution_count": 6,
   "metadata": {},
   "outputs": [
    {
     "name": "stdout",
     "output_type": "stream",
     "text": [
      "finito\n"
     ]
    }
   ],
   "source": [
    "#Write all\n",
    "writer = pd.ExcelWriter('../../data/99. analyzes/excel/recipients/all_recipients.xlsx', options={'encoding':'utf-8'})\n",
    "df_pivot_hcp.to_excel(writer, 'hcp', index=False)\n",
    "df_pivot_hco.to_excel(writer, 'hco', index=False)\n",
    "df_pivot_detail_hcp.to_excel(writer, 'hcp_kategorien', index=False)\n",
    "df_pivot_detail_hco.to_excel(writer, 'hco_kategorien', index=False)\n",
    "writer.save()\n",
    "\n",
    "print(\"finito\")"
   ]
  },
  {
   "cell_type": "code",
   "execution_count": null,
   "metadata": {},
   "outputs": [],
   "source": []
  }
 ],
 "metadata": {
  "kernelspec": {
   "display_name": "Python 3",
   "language": "python",
   "name": "python3"
  },
  "language_info": {
   "codemirror_mode": {
    "name": "ipython",
    "version": 3
   },
   "file_extension": ".py",
   "mimetype": "text/x-python",
   "name": "python",
   "nbconvert_exporter": "python",
   "pygments_lexer": "ipython3",
   "version": "3.7.4"
  }
 },
 "nbformat": 4,
 "nbformat_minor": 2
}
