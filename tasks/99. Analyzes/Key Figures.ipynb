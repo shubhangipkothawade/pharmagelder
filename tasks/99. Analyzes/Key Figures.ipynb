{
 "cells": [
  {
   "cell_type": "markdown",
   "metadata": {},
   "source": [
    "# Key Figures"
   ]
  },
  {
   "cell_type": "code",
   "execution_count": 46,
   "metadata": {},
   "outputs": [],
   "source": [
    "%matplotlib inline\n",
    "import pandas as pd\n",
    "import mysql.connector\n",
    "pd.set_option('display.float_format', lambda x: '%.2f' % x)\n"
   ]
  },
  {
   "cell_type": "markdown",
   "metadata": {},
   "source": [
    "## Connect"
   ]
  },
  {
   "cell_type": "code",
   "execution_count": 47,
   "metadata": {},
   "outputs": [],
   "source": [
    "db_connection = mysql.connector.connect(\n",
    "    host=\"localhost\",\n",
    "    user=\"root\",\n",
    "    passwd=\"\",\n",
    "    database = \"pharmagelder\"\n",
    ")"
   ]
  },
  {
   "cell_type": "markdown",
   "metadata": {},
   "source": [
    "## Load Data"
   ]
  },
  {
   "cell_type": "code",
   "execution_count": 48,
   "metadata": {
    "scrolled": true
   },
   "outputs": [],
   "source": [
    "df_list_raw = pd.read_sql(\"\"\"SELECT \n",
    "    sum(tra_value) as sum_value,\n",
    "    trc_name as category,\n",
    "    pha_name as pharma,\n",
    "    tra_year as year,\n",
    "    rec_type as type\n",
    "  FROM transaction\n",
    "  LEFT JOIN pharma ON tra_fk_pharma = pha_id\n",
    "  LEFT JOIN transaction_category on tra_fk_transaction_category = trc_id\n",
    "  LEFT JOIN recipient ON rec_id = tra_fk_recipient\n",
    "  GROUP BY tra_fk_pharma, tra_year, tra_fk_transaction_category, rec_type\"\"\", con=db_connection)\n",
    "\n",
    "df_accu_raw = pd.read_sql(\"\"\"SELECT \n",
    "    sum(acc_value) as sum_value,\n",
    "    trc_name as category,\n",
    "    pha_name as pharma,\n",
    "    acc_year as year,\n",
    "    acc_type as type\n",
    "  FROM accumulation\n",
    "  LEFT JOIN pharma ON acc_fk_pharma = pha_id\n",
    "  LEFT JOIN transaction_category on acc_fk_transaction_category = trc_id\n",
    "  GROUP BY acc_fk_pharma, acc_year, acc_fk_transaction_category, acc_type\"\"\", con=db_connection)\n"
   ]
  },
  {
   "cell_type": "markdown",
   "metadata": {},
   "source": [
    "## Combine"
   ]
  },
  {
   "cell_type": "code",
   "execution_count": 49,
   "metadata": {},
   "outputs": [],
   "source": [
    "df_list = df_list_raw.copy()\n",
    "df_accu = df_accu_raw.copy()\n",
    "\n",
    "#Concat\n",
    "df_data = pd.concat([df_list, df_accu], sort=False)"
   ]
  },
  {
   "cell_type": "code",
   "execution_count": 50,
   "metadata": {
    "scrolled": true
   },
   "outputs": [
    {
     "data": {
      "text/html": [
       "<div>\n",
       "<style scoped>\n",
       "    .dataframe tbody tr th:only-of-type {\n",
       "        vertical-align: middle;\n",
       "    }\n",
       "\n",
       "    .dataframe tbody tr th {\n",
       "        vertical-align: top;\n",
       "    }\n",
       "\n",
       "    .dataframe thead th {\n",
       "        text-align: right;\n",
       "    }\n",
       "</style>\n",
       "<table border=\"1\" class=\"dataframe\">\n",
       "  <thead>\n",
       "    <tr style=\"text-align: right;\">\n",
       "      <th></th>\n",
       "      <th>sum_value</th>\n",
       "      <th>category</th>\n",
       "      <th>pharma</th>\n",
       "      <th>year</th>\n",
       "      <th>type</th>\n",
       "    </tr>\n",
       "  </thead>\n",
       "  <tbody>\n",
       "    <tr>\n",
       "      <th>0</th>\n",
       "      <td>66721.00</td>\n",
       "      <td>registration_fees</td>\n",
       "      <td>Novo Nordisk</td>\n",
       "      <td>2015</td>\n",
       "      <td>hcp</td>\n",
       "    </tr>\n",
       "    <tr>\n",
       "      <th>1</th>\n",
       "      <td>246174.00</td>\n",
       "      <td>travel_accommodation</td>\n",
       "      <td>Novo Nordisk</td>\n",
       "      <td>2015</td>\n",
       "      <td>hcp</td>\n",
       "    </tr>\n",
       "    <tr>\n",
       "      <th>2</th>\n",
       "      <td>23423.00</td>\n",
       "      <td>registration_fees</td>\n",
       "      <td>Daiichi Sankyo</td>\n",
       "      <td>2015</td>\n",
       "      <td>hcp</td>\n",
       "    </tr>\n",
       "    <tr>\n",
       "      <th>3</th>\n",
       "      <td>30390.00</td>\n",
       "      <td>travel_accommodation</td>\n",
       "      <td>Daiichi Sankyo</td>\n",
       "      <td>2015</td>\n",
       "      <td>hcp</td>\n",
       "    </tr>\n",
       "    <tr>\n",
       "      <th>4</th>\n",
       "      <td>49002.08</td>\n",
       "      <td>travel_accommodation</td>\n",
       "      <td>Vifor Pharma</td>\n",
       "      <td>2015</td>\n",
       "      <td>hcp</td>\n",
       "    </tr>\n",
       "  </tbody>\n",
       "</table>\n",
       "</div>"
      ],
      "text/plain": [
       "   sum_value              category          pharma  year type\n",
       "0   66721.00     registration_fees    Novo Nordisk  2015  hcp\n",
       "1  246174.00  travel_accommodation    Novo Nordisk  2015  hcp\n",
       "2   23423.00     registration_fees  Daiichi Sankyo  2015  hcp\n",
       "3   30390.00  travel_accommodation  Daiichi Sankyo  2015  hcp\n",
       "4   49002.08  travel_accommodation    Vifor Pharma  2015  hcp"
      ]
     },
     "execution_count": 50,
     "metadata": {},
     "output_type": "execute_result"
    }
   ],
   "source": [
    "df_data.head()"
   ]
  },
  {
   "cell_type": "markdown",
   "metadata": {},
   "source": [
    "## Total Year"
   ]
  },
  {
   "cell_type": "code",
   "execution_count": 51,
   "metadata": {},
   "outputs": [
    {
     "data": {
      "text/html": [
       "<div>\n",
       "<style scoped>\n",
       "    .dataframe tbody tr th:only-of-type {\n",
       "        vertical-align: middle;\n",
       "    }\n",
       "\n",
       "    .dataframe tbody tr th {\n",
       "        vertical-align: top;\n",
       "    }\n",
       "\n",
       "    .dataframe thead th {\n",
       "        text-align: right;\n",
       "    }\n",
       "</style>\n",
       "<table border=\"1\" class=\"dataframe\">\n",
       "  <thead>\n",
       "    <tr style=\"text-align: right;\">\n",
       "      <th></th>\n",
       "      <th>sum_value</th>\n",
       "    </tr>\n",
       "    <tr>\n",
       "      <th>year</th>\n",
       "      <th></th>\n",
       "    </tr>\n",
       "  </thead>\n",
       "  <tbody>\n",
       "    <tr>\n",
       "      <th>2015</th>\n",
       "      <td>140514136.22</td>\n",
       "    </tr>\n",
       "    <tr>\n",
       "      <th>2016</th>\n",
       "      <td>155584057.78</td>\n",
       "    </tr>\n",
       "    <tr>\n",
       "      <th>2017</th>\n",
       "      <td>162335403.11</td>\n",
       "    </tr>\n",
       "    <tr>\n",
       "      <th>2018</th>\n",
       "      <td>181432338.37</td>\n",
       "    </tr>\n",
       "    <tr>\n",
       "      <th>2019</th>\n",
       "      <td>187122504.25</td>\n",
       "    </tr>\n",
       "  </tbody>\n",
       "</table>\n",
       "</div>"
      ],
      "text/plain": [
       "        sum_value\n",
       "year             \n",
       "2015 140514136.22\n",
       "2016 155584057.78\n",
       "2017 162335403.11\n",
       "2018 181432338.37\n",
       "2019 187122504.25"
      ]
     },
     "execution_count": 51,
     "metadata": {},
     "output_type": "execute_result"
    }
   ],
   "source": [
    "df_group = df_data.groupby('year').agg({'sum_value': 'sum'})\n",
    "df_group"
   ]
  },
  {
   "cell_type": "code",
   "execution_count": 52,
   "metadata": {},
   "outputs": [
    {
     "data": {
      "text/plain": [
       "<matplotlib.axes._subplots.AxesSubplot at 0x7fadf6df1790>"
      ]
     },
     "execution_count": 52,
     "metadata": {},
     "output_type": "execute_result"
    },
    {
     "data": {
      "image/png": "[encoded data removed]",
      "text/plain": [
       "<Figure size 432x288 with 1 Axes>"
      ]
     },
     "metadata": {
      "needs_background": "light"
     },
     "output_type": "display_data"
    }
   ],
   "source": [
    "df_group.plot.bar()"
   ]
  },
  {
   "cell_type": "markdown",
   "metadata": {},
   "source": [
    "## Total Year & Type"
   ]
  },
  {
   "cell_type": "code",
   "execution_count": 53,
   "metadata": {},
   "outputs": [
    {
     "data": {
      "text/html": [
       "<div>\n",
       "<style scoped>\n",
       "    .dataframe tbody tr th:only-of-type {\n",
       "        vertical-align: middle;\n",
       "    }\n",
       "\n",
       "    .dataframe tbody tr th {\n",
       "        vertical-align: top;\n",
       "    }\n",
       "\n",
       "    .dataframe thead th {\n",
       "        text-align: right;\n",
       "    }\n",
       "</style>\n",
       "<table border=\"1\" class=\"dataframe\">\n",
       "  <thead>\n",
       "    <tr style=\"text-align: right;\">\n",
       "      <th>type</th>\n",
       "      <th>hco</th>\n",
       "      <th>hcp</th>\n",
       "      <th>rnd</th>\n",
       "      <th>total</th>\n",
       "      <th>change_to_previous_year</th>\n",
       "    </tr>\n",
       "    <tr>\n",
       "      <th>year</th>\n",
       "      <th></th>\n",
       "      <th></th>\n",
       "      <th></th>\n",
       "      <th></th>\n",
       "      <th></th>\n",
       "    </tr>\n",
       "  </thead>\n",
       "  <tbody>\n",
       "    <tr>\n",
       "      <th>2015</th>\n",
       "      <td>75815114.39</td>\n",
       "      <td>16374043.78</td>\n",
       "      <td>48324978.05</td>\n",
       "      <td>140514136.22</td>\n",
       "      <td>nan</td>\n",
       "    </tr>\n",
       "    <tr>\n",
       "      <th>2016</th>\n",
       "      <td>91947810.52</td>\n",
       "      <td>13817543.28</td>\n",
       "      <td>49818703.98</td>\n",
       "      <td>155584057.78</td>\n",
       "      <td>15069921.57</td>\n",
       "    </tr>\n",
       "    <tr>\n",
       "      <th>2017</th>\n",
       "      <td>91095173.18</td>\n",
       "      <td>12491367.51</td>\n",
       "      <td>58748862.42</td>\n",
       "      <td>162335403.11</td>\n",
       "      <td>6751345.33</td>\n",
       "    </tr>\n",
       "    <tr>\n",
       "      <th>2018</th>\n",
       "      <td>96801892.66</td>\n",
       "      <td>12261007.63</td>\n",
       "      <td>72369438.08</td>\n",
       "      <td>181432338.37</td>\n",
       "      <td>19096935.26</td>\n",
       "    </tr>\n",
       "    <tr>\n",
       "      <th>2019</th>\n",
       "      <td>106751458.12</td>\n",
       "      <td>11447724.09</td>\n",
       "      <td>68923322.04</td>\n",
       "      <td>187122504.25</td>\n",
       "      <td>5690165.88</td>\n",
       "    </tr>\n",
       "  </tbody>\n",
       "</table>\n",
       "</div>"
      ],
      "text/plain": [
       "type          hco         hcp         rnd        total  \\\n",
       "year                                                     \n",
       "2015  75815114.39 16374043.78 48324978.05 140514136.22   \n",
       "2016  91947810.52 13817543.28 49818703.98 155584057.78   \n",
       "2017  91095173.18 12491367.51 58748862.42 162335403.11   \n",
       "2018  96801892.66 12261007.63 72369438.08 181432338.37   \n",
       "2019 106751458.12 11447724.09 68923322.04 187122504.25   \n",
       "\n",
       "type  change_to_previous_year  \n",
       "year                           \n",
       "2015                      nan  \n",
       "2016              15069921.57  \n",
       "2017               6751345.33  \n",
       "2018              19096935.26  \n",
       "2019               5690165.88  "
      ]
     },
     "execution_count": 53,
     "metadata": {},
     "output_type": "execute_result"
    }
   ],
   "source": [
    "df_group = df_data.groupby(['year', 'type']).agg({'sum_value': 'sum'}).reset_index()\n",
    "df_pivot = pd.pivot_table(df_group, columns='type', index='year', values='sum_value')\n",
    "df_pivot['total'] = df_pivot.sum(axis = 1)\n",
    "df_pivot['change_to_previous_year'] = df_pivot['total'] - df_pivot['total'].shift(1)\n",
    "\n",
    "df_pivot"
   ]
  },
  {
   "cell_type": "code",
   "execution_count": 54,
   "metadata": {},
   "outputs": [
    {
     "data": {
      "text/html": [
       "<div>\n",
       "<style scoped>\n",
       "    .dataframe tbody tr th:only-of-type {\n",
       "        vertical-align: middle;\n",
       "    }\n",
       "\n",
       "    .dataframe tbody tr th {\n",
       "        vertical-align: top;\n",
       "    }\n",
       "\n",
       "    .dataframe thead th {\n",
       "        text-align: right;\n",
       "    }\n",
       "</style>\n",
       "<table border=\"1\" class=\"dataframe\">\n",
       "  <thead>\n",
       "    <tr style=\"text-align: right;\">\n",
       "      <th>type</th>\n",
       "      <th>hco</th>\n",
       "      <th>hcp</th>\n",
       "      <th>rnd</th>\n",
       "    </tr>\n",
       "    <tr>\n",
       "      <th>year</th>\n",
       "      <th></th>\n",
       "      <th></th>\n",
       "      <th></th>\n",
       "    </tr>\n",
       "  </thead>\n",
       "  <tbody>\n",
       "    <tr>\n",
       "      <th>2015</th>\n",
       "      <td>75815114.39</td>\n",
       "      <td>16374043.78</td>\n",
       "      <td>48324978.05</td>\n",
       "    </tr>\n",
       "    <tr>\n",
       "      <th>2016</th>\n",
       "      <td>91947810.52</td>\n",
       "      <td>13817543.28</td>\n",
       "      <td>49818703.98</td>\n",
       "    </tr>\n",
       "    <tr>\n",
       "      <th>2017</th>\n",
       "      <td>91095173.18</td>\n",
       "      <td>12491367.51</td>\n",
       "      <td>58748862.42</td>\n",
       "    </tr>\n",
       "    <tr>\n",
       "      <th>2018</th>\n",
       "      <td>96801892.66</td>\n",
       "      <td>12261007.63</td>\n",
       "      <td>72369438.08</td>\n",
       "    </tr>\n",
       "    <tr>\n",
       "      <th>2019</th>\n",
       "      <td>106751458.12</td>\n",
       "      <td>11447724.09</td>\n",
       "      <td>68923322.04</td>\n",
       "    </tr>\n",
       "  </tbody>\n",
       "</table>\n",
       "</div>"
      ],
      "text/plain": [
       "type          hco         hcp         rnd\n",
       "year                                     \n",
       "2015  75815114.39 16374043.78 48324978.05\n",
       "2016  91947810.52 13817543.28 49818703.98\n",
       "2017  91095173.18 12491367.51 58748862.42\n",
       "2018  96801892.66 12261007.63 72369438.08\n",
       "2019 106751458.12 11447724.09 68923322.04"
      ]
     },
     "execution_count": 54,
     "metadata": {},
     "output_type": "execute_result"
    }
   ],
   "source": [
    "df_pivot[['hco', 'hcp', 'rnd']]"
   ]
  },
  {
   "cell_type": "code",
   "execution_count": 55,
   "metadata": {},
   "outputs": [
    {
     "data": {
      "text/plain": [
       "<matplotlib.axes._subplots.AxesSubplot at 0x7fadf6ed8410>"
      ]
     },
     "execution_count": 55,
     "metadata": {},
     "output_type": "execute_result"
    },
    {
     "data": {
      "image/png": "[encoded data removed]",
      "text/plain": [
       "<Figure size 432x288 with 1 Axes>"
      ]
     },
     "metadata": {
      "needs_background": "light"
     },
     "output_type": "display_data"
    }
   ],
   "source": [
    "df_pivot[['hco', 'hcp', 'rnd']].plot(kind='bar', stacked=True)"
   ]
  },
  {
   "cell_type": "markdown",
   "metadata": {},
   "source": [
    "### Add %"
   ]
  },
  {
   "cell_type": "code",
   "execution_count": 44,
   "metadata": {},
   "outputs": [
    {
     "data": {
      "text/html": [
       "<div>\n",
       "<style scoped>\n",
       "    .dataframe tbody tr th:only-of-type {\n",
       "        vertical-align: middle;\n",
       "    }\n",
       "\n",
       "    .dataframe tbody tr th {\n",
       "        vertical-align: top;\n",
       "    }\n",
       "\n",
       "    .dataframe thead th {\n",
       "        text-align: right;\n",
       "    }\n",
       "</style>\n",
       "<table border=\"1\" class=\"dataframe\">\n",
       "  <thead>\n",
       "    <tr style=\"text-align: right;\">\n",
       "      <th>type</th>\n",
       "      <th>hco%</th>\n",
       "      <th>hcp%</th>\n",
       "      <th>rnd%</th>\n",
       "    </tr>\n",
       "    <tr>\n",
       "      <th>year</th>\n",
       "      <th></th>\n",
       "      <th></th>\n",
       "      <th></th>\n",
       "    </tr>\n",
       "  </thead>\n",
       "  <tbody>\n",
       "    <tr>\n",
       "      <th>2015</th>\n",
       "      <td>53.96</td>\n",
       "      <td>11.65</td>\n",
       "      <td>34.39</td>\n",
       "    </tr>\n",
       "    <tr>\n",
       "      <th>2016</th>\n",
       "      <td>59.10</td>\n",
       "      <td>8.88</td>\n",
       "      <td>32.02</td>\n",
       "    </tr>\n",
       "    <tr>\n",
       "      <th>2017</th>\n",
       "      <td>56.12</td>\n",
       "      <td>7.69</td>\n",
       "      <td>36.19</td>\n",
       "    </tr>\n",
       "    <tr>\n",
       "      <th>2018</th>\n",
       "      <td>53.35</td>\n",
       "      <td>6.76</td>\n",
       "      <td>39.89</td>\n",
       "    </tr>\n",
       "    <tr>\n",
       "      <th>2019</th>\n",
       "      <td>57.05</td>\n",
       "      <td>6.12</td>\n",
       "      <td>36.83</td>\n",
       "    </tr>\n",
       "  </tbody>\n",
       "</table>\n",
       "</div>"
      ],
      "text/plain": [
       "type  hco%  hcp%  rnd%\n",
       "year                  \n",
       "2015 53.96 11.65 34.39\n",
       "2016 59.10  8.88 32.02\n",
       "2017 56.12  7.69 36.19\n",
       "2018 53.35  6.76 39.89\n",
       "2019 57.05  6.12 36.83"
      ]
     },
     "execution_count": 44,
     "metadata": {},
     "output_type": "execute_result"
    }
   ],
   "source": [
    "df_pivot['hco%'] = 100 / df_pivot['total'] * df_pivot['hco']\n",
    "df_pivot['hcp%'] = 100 / df_pivot['total'] * df_pivot['hcp']\n",
    "df_pivot['rnd%'] = 100 / df_pivot['total'] * df_pivot['rnd']\n",
    "\n",
    "df_pivot[['hco%', 'hcp%', 'rnd%']]"
   ]
  },
  {
   "cell_type": "code",
   "execution_count": null,
   "metadata": {},
   "outputs": [],
   "source": []
  }
 ],
 "metadata": {
  "kernelspec": {
   "display_name": "Python 3",
   "language": "python",
   "name": "python3"
  },
  "language_info": {
   "codemirror_mode": {
    "name": "ipython",
    "version": 3
   },
   "file_extension": ".py",
   "mimetype": "text/x-python",
   "name": "python",
   "nbconvert_exporter": "python",
   "pygments_lexer": "ipython3",
   "version": "3.7.4"
  }
 },
 "nbformat": 4,
 "nbformat_minor": 2
}
