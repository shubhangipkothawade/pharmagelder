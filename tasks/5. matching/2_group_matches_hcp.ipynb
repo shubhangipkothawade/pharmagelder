{
 "cells": [
  {
   "cell_type": "markdown",
   "metadata": {},
   "source": [
    "# Group matches hcp"
   ]
  },
  {
   "cell_type": "code",
   "execution_count": 2,
   "metadata": {},
   "outputs": [],
   "source": [
    "import pandas as pd\n",
    "import numpy as np"
   ]
  },
  {
   "cell_type": "markdown",
   "metadata": {},
   "source": [
    "## Import file"
   ]
  },
  {
   "cell_type": "code",
   "execution_count": 5,
   "metadata": {
    "scrolled": true
   },
   "outputs": [],
   "source": [
    "df = pd.read_csv('../../data/3. transformation/3_hcp_matches.csv', index_col = 0)"
   ]
  },
  {
   "cell_type": "code",
   "execution_count": 6,
   "metadata": {},
   "outputs": [],
   "source": [
    "df_data = df.copy()\n",
    "\n",
    "df_data['group'] = 0\n",
    "df_data['group'] = df_data['group'].astype(int)\n",
    "\n",
    "group_counter = 1\n",
    "for index, row in df_data.sort_values(['parent']).iterrows():\n",
    "    #When group of parent = 0, create new group\n",
    "    if df_data.loc[row['parent'], 'group'] == 0:\n",
    "        if df_data.loc[index, 'group'] == 0:\n",
    "            df_data.loc[index, 'group'] = group_counter\n",
    "            group_counter += 1\n",
    "        \n",
    "        #Add Group to parent\n",
    "        df_data.loc[df_data.loc[index, 'parent'], 'group'] = df_data.loc[index, 'group']\n",
    "        #print(\"add group to parent: %s\" % df_data.loc[row['parent'], 'group'])\n",
    "    else:\n",
    "        #take group of parent\n",
    "        df_data.loc[index, 'group'] = df_data.loc[row['parent'], 'group']\n",
    "    \n",
    "    \n"
   ]
  },
  {
   "cell_type": "code",
   "execution_count": 7,
   "metadata": {},
   "outputs": [],
   "source": [
    "df_data = df_data.sort_values(['group', 'name'])\n",
    "#df_data.to_csv('fuzzied.csv')"
   ]
  },
  {
   "cell_type": "code",
   "execution_count": 8,
   "metadata": {},
   "outputs": [],
   "source": [
    "import sys\n",
    "sys.path.insert(0, '../../data/lib/')\n",
    "import importlib\n",
    "\n",
    "import pdfexport\n",
    "importlib.reload(pdfexport)\n",
    "\n",
    "from pdfexport import *\n",
    "\n",
    "\n",
    "df_index = df_data.copy()\n",
    "df_index = df_index.set_index([df_index.group, df_index.index])\n",
    "df_index.head()\n",
    "\n",
    "\n",
    "write_to_excel(df_index, 'tmp.xlsx', open=True, index=True)\n"
   ]
  },
  {
   "cell_type": "code",
   "execution_count": null,
   "metadata": {},
   "outputs": [],
   "source": []
  }
 ],
 "metadata": {
  "kernelspec": {
   "display_name": "Python 3",
   "language": "python",
   "name": "python3"
  },
  "language_info": {
   "codemirror_mode": {
    "name": "ipython",
    "version": 3
   },
   "file_extension": ".py",
   "mimetype": "text/x-python",
   "name": "python",
   "nbconvert_exporter": "python",
   "pygments_lexer": "ipython3",
   "version": "3.6.5"
  }
 },
 "nbformat": 4,
 "nbformat_minor": 2
}
