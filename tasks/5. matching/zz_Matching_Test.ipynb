{
 "cells": [
  {
   "cell_type": "markdown",
   "metadata": {},
   "source": [
    "# Matching Test - Dont Run this file for production"
   ]
  },
  {
   "cell_type": "code",
   "execution_count": 1,
   "metadata": {},
   "outputs": [],
   "source": [
    "from fuzzywuzzy import fuzz"
   ]
  },
  {
   "cell_type": "code",
   "execution_count": 2,
   "metadata": {},
   "outputs": [
    {
     "name": "stdout",
     "output_type": "stream",
     "text": [
      "ratio: 92\n",
      "partial_ratio: 88\n",
      "token_sort_ratio: 72\n",
      "token_set_ratio: 92\n",
      "\n",
      "ratio: 91\n",
      "partial_ratio: 92\n",
      "token_sort_ratio: 100\n",
      "token_set_ratio: 100\n",
      "\n",
      "ratio: 62\n",
      "partial_ratio: 100\n",
      "token_sort_ratio: 62\n",
      "token_set_ratio: 100\n",
      "\n",
      "ratio: 24\n",
      "partial_ratio: 25\n",
      "token_sort_ratio: 26\n",
      "token_set_ratio: 26\n",
      "\n",
      "ratio: 69\n",
      "partial_ratio: 78\n",
      "token_sort_ratio: 67\n",
      "token_set_ratio: 72\n",
      "\n",
      "ratio: 60\n",
      "partial_ratio: 100\n",
      "token_sort_ratio: 61\n",
      "token_set_ratio: 100\n",
      "\n"
     ]
    }
   ],
   "source": [
    "\n",
    "def ratio_test(s1, s2):\n",
    "    print(\"ratio: %s\" % fuzz.ratio(s1.lower(), s2.lower()))\n",
    "    print(\"partial_ratio: %s\" % fuzz.partial_ratio(s1.lower(), s2.lower()))\n",
    "    print(\"token_sort_ratio: %s\" % fuzz.token_sort_ratio(s1.lower(), s2.lower()))\n",
    "    print(\"token_set_ratio: %s\" % fuzz.token_set_ratio(s1.lower(), s2.lower()))\n",
    "    print(\"\")\n",
    "\n",
    "ratio_test('Schweizerische Gesellschaft für Urologie', 'Schweizerische Gesellschaft für Mikrobiologie')\n",
    "ratio_test('Gesellschaft Aargauischer Anästhesieärztinnen und -ärzte GAAA', 'GAAA Gesellschaft Aargauischer Anästhesieärztinnen und Ärzte')\n",
    "ratio_test('Svgo', 'SVGO/ASCO')\n",
    "ratio_test('UniversitätsSpital Zürich', 'Klinik für Rheumatologie')\n",
    "ratio_test('Kantonsspital Winterthur - Medizinische Onkologie und Hämatologie', \"Kantonsspital Winterthur - Urologische Klinik\")\n",
    "ratio_test('Kantonsspital St. Gallen', \"Kantonsspital St. Gallen - Dermatologie und Allergologie\")\n"
   ]
  },
  {
   "cell_type": "code",
   "execution_count": null,
   "metadata": {},
   "outputs": [],
   "source": []
  }
 ],
 "metadata": {
  "kernelspec": {
   "display_name": "Python 3",
   "language": "python",
   "name": "python3"
  },
  "language_info": {
   "codemirror_mode": {
    "name": "ipython",
    "version": 3
   },
   "file_extension": ".py",
   "mimetype": "text/x-python",
   "name": "python",
   "nbconvert_exporter": "python",
   "pygments_lexer": "ipython3",
   "version": "3.6.5"
  }
 },
 "nbformat": 4,
 "nbformat_minor": 2
}
