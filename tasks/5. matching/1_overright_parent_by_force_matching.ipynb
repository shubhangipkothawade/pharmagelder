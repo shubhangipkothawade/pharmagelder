{
 "cells": [
  {
   "cell_type": "markdown",
   "metadata": {},
   "source": [
    "# Force Matching\n",
    "This script marries two address by force. In the forcetable `forcematching.csv` is the name of the bride and the groom"
   ]
  },
  {
   "cell_type": "code",
   "execution_count": 30,
   "metadata": {},
   "outputs": [],
   "source": [
    "import pandas as pd\n",
    "import numpy as np\n",
    "import time\n",
    "import sys\n",
    "import os.path\n",
    "import urllib.request\n",
    "\n",
    "sys.path.insert(0, '../../data/lib/')\n",
    "from consts import *"
   ]
  },
  {
   "cell_type": "markdown",
   "metadata": {},
   "source": [
    "## URLs to spreadsheet"
   ]
  },
  {
   "cell_type": "code",
   "execution_count": 31,
   "metadata": {},
   "outputs": [],
   "source": [
    "hcp_url = 'https://docs.google.com/spreadsheets/d/e/2PACX-1vScrKSRSOBEmJ7Esdp83bu8UyyfsssHyOBcrZjaNA2WJId62dMXQEQWDzlf6Ltu6KBL8xaJpoSaTfKf/pub?gid=0&single=true&output=csv'\n",
    "hco_url = 'https://docs.google.com/spreadsheets/d/e/2PACX-1vSQ-3nAqG-txgwA8fk3ll9hsFQrJWhnS9R16aty8Ls4zBXnJHTxKQZDIu0Z0MpaeOHuKWprO5X6gyTQ/pub?gid=0&single=true&output=csv'"
   ]
  },
  {
   "cell_type": "code",
   "execution_count": 33,
   "metadata": {},
   "outputs": [
    {
     "name": "stdout",
     "output_type": "stream",
     "text": [
      "saved hcp\n",
      "saved hco\n"
     ]
    }
   ],
   "source": [
    "def run_force(spreadsheet, rectype):\n",
    "    \n",
    "    #Download Spreadsheet\n",
    "    df_force = pd.read_csv(spreadsheet)\n",
    "    df_force = df_force.fillna(\"\")\n",
    "    \n",
    "    #Open Files\n",
    "    df_matches = pd.read_csv('../../data/3. transformation/4_%s_matched_against_live.csv' % rectype)\n",
    "    df_matches = df_matches.fillna(\"\")\n",
    "    \n",
    "    for index, row in df_force.iterrows():\n",
    "        ds_to = df_matches[(df_matches.name == row['name']) & (df_matches.location == row['location']) & (df_matches.address == row['address'])]\n",
    "\n",
    "        if len(ds_to) == 0:\n",
    "            print('«%s», «%s», «%s» not found in matches' % (row['name'], row['location'], row['address']))\n",
    "\n",
    "        df_matches.loc[ds_to.index, 'parent'] = row['parent']\n",
    "\n",
    "    df_matches.to_csv('../../data/3. transformation/5_%s_matched_forced.csv' % rectype, index=False)\n",
    "    print(\"saved %s\" % rectype)\n",
    "    \n",
    "run_force(hcp_url, 'hcp')\n",
    "run_force(hco_url, 'hco')"
   ]
  },
  {
   "cell_type": "code",
   "execution_count": null,
   "metadata": {},
   "outputs": [],
   "source": []
  }
 ],
 "metadata": {
  "kernelspec": {
   "display_name": "Python 3",
   "language": "python",
   "name": "python3"
  },
  "language_info": {
   "codemirror_mode": {
    "name": "ipython",
    "version": 3
   },
   "file_extension": ".py",
   "mimetype": "text/x-python",
   "name": "python",
   "nbconvert_exporter": "python",
   "pygments_lexer": "ipython3",
   "version": "3.6.5"
  }
 },
 "nbformat": 4,
 "nbformat_minor": 2
}
