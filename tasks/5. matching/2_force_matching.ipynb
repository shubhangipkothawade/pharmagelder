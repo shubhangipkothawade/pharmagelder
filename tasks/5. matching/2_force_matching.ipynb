{
 "cells": [
  {
   "cell_type": "markdown",
   "metadata": {},
   "source": [
    "# Force Matching\n",
    "This script marries two address by force. In the forcetable `forcematching.csv` is the name of the bride and the groom"
   ]
  },
  {
   "cell_type": "code",
   "execution_count": 7,
   "metadata": {},
   "outputs": [],
   "source": [
    "import pandas as pd\n",
    "import numpy as np\n",
    "import time\n",
    "import sys\n",
    "import os.path\n",
    "\n",
    "sys.path.insert(0, '../../data/lib/')\n",
    "from consts import *"
   ]
  },
  {
   "cell_type": "code",
   "execution_count": 8,
   "metadata": {},
   "outputs": [
    {
     "name": "stdout",
     "output_type": "stream",
     "text": [
      "saved hco\n"
     ]
    }
   ],
   "source": [
    "def run_force(rectype):\n",
    "    df_force = pd.read_csv('sources/forcematching_%s.csv' % rectype, index_col=False)\n",
    "    df_matches = pd.read_csv('../../data/3. transformation/4_%s_matches.csv' % rectype, index_col = 0, dtype = dataframe_types)\n",
    "    df_matchlist  = pd.read_csv('../../data/3. transformation/4_%s_matchlist.csv' % rectype, index_col = 0, dtype = dataframe_types)    \n",
    "    for index, row in df_force.iterrows():\n",
    "        ds_right = df_matches[(df_matches.name == row['right_name']) & (df_matches.location == row['right_location']) & (df_matches.address == row['right_address'])]\n",
    "\n",
    "        if len(ds_right) == 0:\n",
    "            print('«%s» not found in matches' % row['right_name'])\n",
    "            print(\"Script stopped\")\n",
    "            break\n",
    "\n",
    "        for left_index, left_row in df_matches[(df_matches.name == row['left_name']) & (df_matches.location == row['left_location']) & (df_matches.address == row['left_address'])].iterrows():\n",
    "            add = pd.Series({'target': ds_right.iloc[0].name}, name=left_index)\n",
    "            df_matchlist = df_matchlist.append(add)\n",
    "\n",
    "    df_matchlist.to_csv('../../data/3. transformation/5_%s_matchlist_forced.csv' % rectype, index=True)\n",
    "    print(\"saved %s\" % rectype)\n",
    "    \n",
    "#run_force('hcp')\n",
    "run_force('hco')"
   ]
  },
  {
   "cell_type": "code",
   "execution_count": null,
   "metadata": {},
   "outputs": [],
   "source": []
  }
 ],
 "metadata": {
  "kernelspec": {
   "display_name": "Python 3",
   "language": "python",
   "name": "python3"
  }
 },
 "nbformat": 4,
 "nbformat_minor": 2
}
