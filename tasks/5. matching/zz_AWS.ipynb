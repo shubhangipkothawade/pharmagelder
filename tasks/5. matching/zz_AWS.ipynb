{
 "cells": [
  {
   "cell_type": "markdown",
   "metadata": {},
   "source": [
    "# AWS Terminal Generator\n",
    "This file generates some often use commands."
   ]
  },
  {
   "cell_type": "code",
   "execution_count": 11,
   "metadata": {
    "scrolled": true
   },
   "outputs": [
    {
     "data": {
      "text/markdown": [
       "**Upload `1_recipient_expanded.csv`**"
      ],
      "text/plain": [
       "<IPython.core.display.Markdown object>"
      ]
     },
     "metadata": {},
     "output_type": "display_data"
    },
    {
     "data": {
      "text/markdown": [
       "```bash\n",
       "scp -i \"ubuntu_linux_aws.pem\" \"/Users/hws/Documents/python/pharmagelder/data/0. live data/1_recipient_expanded.csv\" \"ubuntu@ec2-18-191-157-34.us-east-2.compute.amazonaws.com:/pharmagelder/1_recipient_expanded.csv\"```"
      ],
      "text/plain": [
       "<IPython.core.display.Markdown object>"
      ]
     },
     "metadata": {},
     "output_type": "display_data"
    },
    {
     "data": {
      "text/markdown": [
       "```bash\n",
       "scp -i \"ubuntu_linux_aws.pem\" \"/Users/hws/Documents/python/pharmagelder/data/3. transformation/3_list_expanded.csv\" \"ubuntu@ec2-18-191-157-34.us-east-2.compute.amazonaws.com:/pharmagelder/3_list_expanded.csv\"```"
      ],
      "text/plain": [
       "<IPython.core.display.Markdown object>"
      ]
     },
     "metadata": {},
     "output_type": "display_data"
    },
    {
     "data": {
      "text/markdown": [
       "**Upload Matchers**"
      ],
      "text/plain": [
       "<IPython.core.display.Markdown object>"
      ]
     },
     "metadata": {},
     "output_type": "display_data"
    },
    {
     "data": {
      "text/markdown": [
       "```bash\n",
       "scp -i \"ubuntu_linux_aws.pem\" \"/Users/hws/Documents/python/pharmagelder/tasks/5. matching/0_match_to_livedb.py\" \"ubuntu@ec2-18-191-157-34.us-east-2.compute.amazonaws.com:/pharmagelder/0_match_to_livedb.py\"```"
      ],
      "text/plain": [
       "<IPython.core.display.Markdown object>"
      ]
     },
     "metadata": {},
     "output_type": "display_data"
    },
    {
     "data": {
      "text/markdown": [
       "```bash\n",
       "scp -i \"ubuntu_linux_aws.pem\" \"/Users/hws/Documents/python/pharmagelder/tasks/5. matching/1_match_missing.py\" \"ubuntu@ec2-18-191-157-34.us-east-2.compute.amazonaws.com:/pharmagelder/1_match_missing.py\"```"
      ],
      "text/plain": [
       "<IPython.core.display.Markdown object>"
      ]
     },
     "metadata": {},
     "output_type": "display_data"
    },
    {
     "data": {
      "text/markdown": [
       "**Connect**"
      ],
      "text/plain": [
       "<IPython.core.display.Markdown object>"
      ]
     },
     "metadata": {},
     "output_type": "display_data"
    },
    {
     "data": {
      "text/markdown": [
       "```bashssh -i \"ubuntu_linux_aws.pem\" ubuntu@ec2-18-191-157-34.us-east-2.compute.amazonaws.com```"
      ],
      "text/plain": [
       "<IPython.core.display.Markdown object>"
      ]
     },
     "metadata": {},
     "output_type": "display_data"
    },
    {
     "data": {
      "text/markdown": [
       "**Run on server**"
      ],
      "text/plain": [
       "<IPython.core.display.Markdown object>"
      ]
     },
     "metadata": {},
     "output_type": "display_data"
    },
    {
     "data": {
      "text/markdown": [
       "```bash\n",
       "cd /pharmagelder\n",
       "source env/bin/activate\n",
       "clear\n",
       "python3 0_match_to_livedb.py```"
      ],
      "text/plain": [
       "<IPython.core.display.Markdown object>"
      ]
     },
     "metadata": {},
     "output_type": "display_data"
    },
    {
     "data": {
      "text/markdown": [
       "```bash\n",
       "python3 1_match_missing.py```"
      ],
      "text/plain": [
       "<IPython.core.display.Markdown object>"
      ]
     },
     "metadata": {},
     "output_type": "display_data"
    },
    {
     "data": {
      "text/markdown": [
       "**Download HCP**"
      ],
      "text/plain": [
       "<IPython.core.display.Markdown object>"
      ]
     },
     "metadata": {},
     "output_type": "display_data"
    },
    {
     "data": {
      "text/markdown": [
       "```bash\n",
       "scp -i \"ubuntu_linux_aws.pem\" \"ubuntu@ec2-18-191-157-34.us-east-2.compute.amazonaws.com:/pharmagelder/4_hcp_matched_against_live.csv\" \"/Users/hws/Documents/python/pharmagelder/data/3. transformation/4_hcp_matched_against_live.csv\"```"
      ],
      "text/plain": [
       "<IPython.core.display.Markdown object>"
      ]
     },
     "metadata": {},
     "output_type": "display_data"
    },
    {
     "data": {
      "text/markdown": [
       "```bash\n",
       "scp -i \"ubuntu_linux_aws.pem\" \"ubuntu@ec2-18-191-157-34.us-east-2.compute.amazonaws.com:/pharmagelder/5_hcp_matchlist.csv\" \"/Users/hws/Documents/python/pharmagelder/data/3. transformation/5_hcp_matchlist.csv\"```"
      ],
      "text/plain": [
       "<IPython.core.display.Markdown object>"
      ]
     },
     "metadata": {},
     "output_type": "display_data"
    },
    {
     "data": {
      "text/markdown": [
       "**Download HCO**"
      ],
      "text/plain": [
       "<IPython.core.display.Markdown object>"
      ]
     },
     "metadata": {},
     "output_type": "display_data"
    },
    {
     "data": {
      "text/markdown": [
       "```bash\n",
       "scp -i \"ubuntu_linux_aws.pem\" \"ubuntu@ec2-18-191-157-34.us-east-2.compute.amazonaws.com:/pharmagelder/4_hco_matched_against_live.csv\" \"/Users/hws/Documents/python/pharmagelder/data/3. transformation/4_hco_matched_against_live.csv\"```"
      ],
      "text/plain": [
       "<IPython.core.display.Markdown object>"
      ]
     },
     "metadata": {},
     "output_type": "display_data"
    },
    {
     "data": {
      "text/markdown": [
       "```bash\n",
       "scp -i \"ubuntu_linux_aws.pem\" \"ubuntu@ec2-18-191-157-34.us-east-2.compute.amazonaws.com:/pharmagelder/5_hco_matchlist.csv\" \"/Users/hws/Documents/python/pharmagelder/data/3. transformation/5_hco_matchlist.csv\"```"
      ],
      "text/plain": [
       "<IPython.core.display.Markdown object>"
      ]
     },
     "metadata": {},
     "output_type": "display_data"
    }
   ],
   "source": [
    "server = 'ec2-18-191-157-34.us-east-2.compute.amazonaws.com'\n",
    "\n",
    "local_path = '/Users/hws/Documents/python/pharmagelder'\n",
    "server_path = '/pharmagelder'\n",
    "\n",
    "\n",
    "from IPython.display import display, Markdown\n",
    "\n",
    "display(Markdown(\"**Upload `1_recipient_expanded.csv`**\"))\n",
    "display(Markdown('```bash\\nscp -i \"ubuntu_linux_aws.pem\" \"%s/data/0. live data/1_recipient_expanded.csv\" \"ubuntu@%s:%s/1_recipient_expanded.csv\"```' % (local_path, server, server_path)))\n",
    "display(Markdown('```bash\\nscp -i \"ubuntu_linux_aws.pem\" \"%s/data/3. transformation/3_list_expanded.csv\" \"ubuntu@%s:%s/3_list_expanded.csv\"```' % (local_path, server, server_path)))\n",
    "\n",
    "display(Markdown(\"**Upload Matchers**\"))\n",
    "display(Markdown('```bash\\nscp -i \"ubuntu_linux_aws.pem\" \"%s/tasks/5. matching/0_match_to_livedb.py\" \"ubuntu@%s:%s/0_match_to_livedb.py\"```' % (local_path, server, server_path)))\n",
    "display(Markdown('```bash\\nscp -i \"ubuntu_linux_aws.pem\" \"%s/tasks/5. matching/1_match_missing.py\" \"ubuntu@%s:%s/1_match_missing.py\"```' % (local_path, server, server_path)))\n",
    "\n",
    "display(Markdown(\"**Connect**\"))\n",
    "display(Markdown('```bashssh -i \"ubuntu_linux_aws.pem\" ubuntu@%s```' % server))\n",
    "\n",
    "display(Markdown(\"**Run on server**\"))\n",
    "display(Markdown('```bash\\ncd %s\\nsource env/bin/activate\\nclear\\npython3 0_match_to_livedb.py```' % server_path))\n",
    "display(Markdown('```bash\\npython3 1_match_missing.py```'))\n",
    "\n",
    "display(Markdown(\"**Download HCP**\"))\n",
    "display(Markdown('```bash\\nscp -i \"ubuntu_linux_aws.pem\" \"ubuntu@%s:%s/4_hcp_matched_against_live.csv\" \"%s/data/3. transformation/4_hcp_matched_against_live.csv\"```' % (server, server_path, local_path)))\n",
    "display(Markdown('```bash\\nscp -i \"ubuntu_linux_aws.pem\" \"ubuntu@%s:%s/5_hcp_matchlist.csv\" \"%s/data/3. transformation/5_hcp_matchlist.csv\"```' % (server, server_path, local_path)))\n",
    "\n",
    "display(Markdown(\"**Download HCO**\"))\n",
    "display(Markdown('```bash\\nscp -i \"ubuntu_linux_aws.pem\" \"ubuntu@%s:%s/4_hco_matched_against_live.csv\" \"%s/data/3. transformation/4_hco_matched_against_live.csv\"```' % (server, server_path, local_path)))\n",
    "display(Markdown('```bash\\nscp -i \"ubuntu_linux_aws.pem\" \"ubuntu@%s:%s/5_hco_matchlist.csv\" \"%s/data/3. transformation/5_hco_matchlist.csv\"```' % (server, server_path, local_path)))"
   ]
  },
  {
   "cell_type": "code",
   "execution_count": null,
   "metadata": {},
   "outputs": [],
   "source": []
  }
 ],
 "metadata": {
  "kernelspec": {
   "display_name": "Python 3",
   "language": "python",
   "name": "python3"
  },
  "language_info": {
   "codemirror_mode": {
    "name": "ipython",
    "version": 3
   },
   "file_extension": ".py",
   "mimetype": "text/x-python",
   "name": "python",
   "nbconvert_exporter": "python",
   "pygments_lexer": "ipython3",
   "version": "3.6.5"
  }
 },
 "nbformat": 4,
 "nbformat_minor": 2
}
