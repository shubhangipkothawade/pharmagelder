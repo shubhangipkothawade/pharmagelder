{
 "cells": [
  {
   "cell_type": "markdown",
   "metadata": {},
   "source": [
    "# 0. Match HCPs\n",
    "The magic! Here we match addresses. You can run this file on an external server - it will take some times"
   ]
  },
  {
   "cell_type": "code",
   "execution_count": 14,
   "metadata": {},
   "outputs": [],
   "source": [
    "import pandas as pd\n",
    "import numpy as np\n",
    "from fuzzywuzzy import fuzz\n",
    "import time\n",
    "import sys\n",
    "import os.path"
   ]
  },
  {
   "cell_type": "code",
   "execution_count": 10,
   "metadata": {},
   "outputs": [],
   "source": [
    "version = 0.1"
   ]
  },
  {
   "cell_type": "markdown",
   "metadata": {},
   "source": [
    "## Check path\n",
    "Check, if we run in in the git directory or on the server. If on a server, look for the files in the same directory"
   ]
  },
  {
   "cell_type": "code",
   "execution_count": 11,
   "metadata": {},
   "outputs": [],
   "source": [
    "#Check Server or Git\n",
    "path_git = '../../data/3. transformation/2_list_expanded.csv'\n",
    "path_server = '2_list_expanded.csv'\n",
    "\n",
    "on_git = os.path.isfile(path_git)"
   ]
  },
  {
   "cell_type": "markdown",
   "metadata": {},
   "source": [
    "## Read Data"
   ]
  },
  {
   "cell_type": "code",
   "execution_count": 12,
   "metadata": {
    "scrolled": true
   },
   "outputs": [],
   "source": [
    "if on_git:\n",
    "    df = pd.read_csv(path_git)\n",
    "else:\n",
    "    df = pd.read_csv(path_server)\n",
    "\n",
    "df_data = df[df.type == 'hcp'].copy()\n",
    "df_data['address'] = df_data['address'].fillna(\"\")\n",
    "\n",
    "#For Testing\n",
    "df_data = df_data[df_data.source.isin(['eli', 'shire', 'almirall'])]\n",
    "\n",
    "#Reset index\n",
    "df_data = df_data.reset_index(drop=True)\n",
    "\n",
    "#Set Startindex to 1\n",
    "df_data.index += 1\n",
    "\n",
    "total_rows = len(df_data)"
   ]
  },
  {
   "cell_type": "markdown",
   "metadata": {},
   "source": [
    "## Calc rows"
   ]
  },
  {
   "cell_type": "code",
   "execution_count": 15,
   "metadata": {
    "scrolled": false
   },
   "outputs": [
    {
     "name": "stdout",
     "output_type": "stream",
     "text": [
      "===============================\n",
      "Start fuzzy matcher HCP 0.1\n",
      "Rows to match: 172\n",
      "===============================\n",
      "Progress: 98.84%\n",
      "Finished in: 0.1 minutes\n"
     ]
    }
   ],
   "source": [
    "#Add Parent\n",
    "df_data['parent'] = 0\n",
    "df_data['parent'] = df_data['parent'].astype(int)\n",
    "df_data['parent'] = df_data.index\n",
    "\n",
    "#Convert\n",
    "df_data['name'] = df_data['name'].astype(\"str\")\n",
    "df_data['address_expand'] = df_data['address_expand'].astype(\"str\")\n",
    "df_data['location_expand'] = df_data['location_expand'].astype(\"str\")\n",
    "\n",
    "#Sort\n",
    "df_data = df_data.sort_values('name')\n",
    "\n",
    "start_time = time.time()\n",
    "\n",
    "print(\"===============================\")\n",
    "print(\"Start fuzzy matcher HCP %s\" % version)\n",
    "print(\"Rows to match: %s\" % total_rows)\n",
    "print(\"===============================\")\n",
    "\n",
    "counter = 0\n",
    "for index, row in df_data.iterrows():\n",
    "    \n",
    "    if counter % 10 == 0:\n",
    "        sys.stdout.write(\"\\rProgress: %s%%\" % round(100 / total_rows * counter, 2))\n",
    "        sys.stdout.flush()\n",
    "        \n",
    "    df_data['r_name'] = df_data['name'].apply(lambda x: fuzz.token_set_ratio(x.lower(), row['name'].lower()))\n",
    "    df_data['r_location'] = df_data['location_expand'].apply(lambda x: fuzz.token_set_ratio(x, row['location_expand']))\n",
    "    df_data['r_address'] = df_data['address_expand'].apply(lambda x: fuzz.token_set_ratio(x, row['address_expand']))\n",
    "    df_data['r_ratio'] = df_data['r_name'] + df_data['r_location'] + df_data['r_address']\n",
    "    \n",
    "    condition_fix = (df_data.index != index) & (df_data['parent'] != index)\n",
    "    if row['address'] == '':\n",
    "        condition1 = (df_data.r_name >= 80) & (df_data.r_location >= 85) & (condition_fix)\n",
    "    else:\n",
    "        condition1 = (df_data.r_name >= 80) & (df_data.r_location >= 85) & (df_data.r_address >= 75) & (condition_fix)\n",
    "    \n",
    "    highest_match = df_data[(condition1)].nlargest(1, columns=['r_ratio'])\n",
    "    if len(highest_match) == 1:\n",
    "        df_data.loc[index, 'parent'] = highest_match.iloc[0].name\n",
    "        df_data.loc[index, 'log'] = \"name=%s,location=%s,address=%s,total=%s\" % (highest_match.iloc[0].r_name, highest_match.iloc[0].r_location, highest_match.iloc[0].r_address, highest_match.iloc[0].r_ratio)\n",
    "    \n",
    "    counter += 1\n",
    "\n",
    "elapsed_time = time.time() - start_time\n",
    "print('\\nFinished in: ' + str(round(elapsed_time / 60, 2)) + ' minutes')\n"
   ]
  },
  {
   "cell_type": "code",
   "execution_count": 16,
   "metadata": {},
   "outputs": [],
   "source": [
    "if on_git:\n",
    "    df_data.to_csv('../../data/3. transformation/3_hcp_matches.csv', index=True)\n",
    "else:\n",
    "    df_data.to_csv('3_hcp_matches.csv', index=True)"
   ]
  }
 ],
 "metadata": {
  "kernelspec": {
   "display_name": "Python 3",
   "language": "python",
   "name": "python3"
  },
  "language_info": {
   "codemirror_mode": {
    "name": "ipython",
    "version": 3
   },
   "file_extension": ".py",
   "mimetype": "text/x-python",
   "name": "python",
   "nbconvert_exporter": "python",
   "pygments_lexer": "ipython3",
   "version": "3.6.5"
  }
 },
 "nbformat": 4,
 "nbformat_minor": 2
}
