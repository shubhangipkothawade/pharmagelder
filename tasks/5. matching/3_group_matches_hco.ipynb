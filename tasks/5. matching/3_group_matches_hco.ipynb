{
 "cells": [
  {
   "cell_type": "markdown",
   "metadata": {},
   "source": [
    "# Group matches hco"
   ]
  },
  {
   "cell_type": "code",
   "execution_count": 6,
   "metadata": {},
   "outputs": [],
   "source": [
    "import pandas as pd\n",
    "import numpy as np"
   ]
  },
  {
   "cell_type": "markdown",
   "metadata": {},
   "source": [
    "## Import file"
   ]
  },
  {
   "cell_type": "code",
   "execution_count": 7,
   "metadata": {
    "scrolled": true
   },
   "outputs": [],
   "source": [
    "df = pd.read_csv('../../data/3. transformation/3_hco_matches.csv', index_col = 0)"
   ]
  },
  {
   "cell_type": "markdown",
   "metadata": {},
   "source": [
    "## Group"
   ]
  },
  {
   "cell_type": "code",
   "execution_count": 18,
   "metadata": {},
   "outputs": [],
   "source": [
    "df_data = df.copy()\n",
    "\n",
    "#Default Group 0\n",
    "df_data['group'] = 0\n",
    "df_data['group'] = df_data['group'].astype(int)\n",
    "\n",
    "#ID of first Group\n",
    "group_counter = 1\n",
    "\n",
    "#Start grouping\n",
    "for index, row in df_data.sort_values(['parent']).iterrows():\n",
    "    #When group of parent = 0, create new group\n",
    "    if df_data.loc[row['parent'], 'group'] == 0:\n",
    "        if df_data.loc[index, 'group'] == 0:\n",
    "            df_data.loc[index, 'group'] = group_counter\n",
    "            group_counter += 1\n",
    "        \n",
    "        #Add Group to parent\n",
    "        df_data.loc[df_data.loc[index, 'parent'], 'group'] = df_data.loc[index, 'group']\n",
    "    else:\n",
    "        #take group of parent\n",
    "        df_data.loc[index, 'group'] = df_data.loc[row['parent'], 'group']\n",
    "   \n"
   ]
  },
  {
   "cell_type": "code",
   "execution_count": 19,
   "metadata": {},
   "outputs": [],
   "source": [
    "df_data = df_data.sort_values(['group', 'name'])"
   ]
  },
  {
   "cell_type": "markdown",
   "metadata": {},
   "source": [
    "## Set Main Address"
   ]
  },
  {
   "cell_type": "code",
   "execution_count": 64,
   "metadata": {},
   "outputs": [],
   "source": [
    "# Import prioritylist\n",
    "df_prioritylist = pd.read_csv('sources/prioritylist.csv')\n",
    "df_prioritylist = df_prioritylist.set_index('source')"
   ]
  },
  {
   "cell_type": "code",
   "execution_count": 97,
   "metadata": {},
   "outputs": [
    {
     "name": "stdout",
     "output_type": "stream",
     "text": [
      "No priority found: 290\n"
     ]
    }
   ],
   "source": [
    "df_index = df_data.copy()\n",
    "\n",
    "#Join groups and prioritylist\n",
    "df_index = df_index.join(other=df_prioritylist, on='source')\n",
    "\n",
    "#Prepare dataset\n",
    "df_index = df_index.set_index(['group', df_index.index])\n",
    "df_index['main_address'] = 0\n",
    "\n",
    "#Loop Group\n",
    "not_found_counter = 0\n",
    "for index_group, df_group in df_index.groupby(level=0):\n",
    "    \n",
    "    if len(df_group) == 1:\n",
    "        #Only one group member\n",
    "        df_index.loc[index_group, 'main_address'] = 1\n",
    "    else:\n",
    "        #Find highest priority\n",
    "        df_largest = df_group.nlargest(1, 'priority')\n",
    "        df_index.loc[df_largest.iloc[0].name, 'main_address'] = 1\n",
    "        if df_largest.iloc[0].priority == 0:\n",
    "            #print(\"No priority found at: «%s», group: «%s»\" % (df_largest.iloc[0]['name'], index_group))\n",
    "            #print(df_group['source'].unique().tolist())\n",
    "            not_found_counter += 1\n",
    "            \n",
    "\n",
    "print(\"No priority found: %s\" % not_found_counter)\n",
    "\n",
    "#Sort\n",
    "df_index = df_index.sort_values(['group', 'main_address'], ascending=[True, False])"
   ]
  },
  {
   "cell_type": "code",
   "execution_count": null,
   "metadata": {},
   "outputs": [],
   "source": []
  },
  {
   "cell_type": "code",
   "execution_count": 98,
   "metadata": {},
   "outputs": [],
   "source": [
    "#Excel Export\n",
    "import sys\n",
    "sys.path.insert(0, '../../data/lib/')\n",
    "import importlib\n",
    "\n",
    "import pdfexport\n",
    "importlib.reload(pdfexport)\n",
    "\n",
    "from pdfexport import *\n",
    "\n",
    "\n",
    "write_to_excel(df_index, 'tmp.xlsx', open=True, index=True)\n"
   ]
  },
  {
   "cell_type": "code",
   "execution_count": null,
   "metadata": {},
   "outputs": [],
   "source": []
  }
 ],
 "metadata": {
  "kernelspec": {
   "display_name": "Python 3",
   "language": "python",
   "name": "python3"
  },
  "language_info": {
   "codemirror_mode": {
    "name": "ipython",
    "version": 3
   },
   "file_extension": ".py",
   "mimetype": "text/x-python",
   "name": "python",
   "nbconvert_exporter": "python",
   "pygments_lexer": "ipython3",
   "version": "3.6.5"
  }
 },
 "nbformat": 4,
 "nbformat_minor": 2
}
