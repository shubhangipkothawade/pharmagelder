{
 "cells": [
  {
   "cell_type": "markdown",
   "metadata": {},
   "source": [
    "# Match Address - Run twice!\n",
    "The magic! Here we match addresses. You can run this file on an external server - it will take some times.  \n",
    "**You have to run this twice, for hcp and hco's! Change the variable `run_for`**"
   ]
  },
  {
   "cell_type": "code",
   "execution_count": null,
   "metadata": {},
   "outputs": [],
   "source": [
    "import pandas as pd\n",
    "import numpy as np\n",
    "from fuzzywuzzy import fuzz\n",
    "import time\n",
    "import sys\n",
    "import os.path\n",
    "import datetime"
   ]
  },
  {
   "cell_type": "code",
   "execution_count": null,
   "metadata": {},
   "outputs": [],
   "source": [
    "run_for = 'hcp'\n",
    "version = 0.3\n",
    "\n",
    "# Conditions\n",
    "conditions ={\n",
    "    'hcp' :\n",
    "        {\n",
    "            'condition_location': 85,\n",
    "            'condition_address': 75,\n",
    "            'condition_name': 85\n",
    "        },\n",
    "    'hco' :\n",
    "        {\n",
    "            'condition_location': 85,\n",
    "            'condition_address': 75,\n",
    "            'condition_name': 85\n",
    "        },\n",
    "    }"
   ]
  },
  {
   "cell_type": "markdown",
   "metadata": {},
   "source": [
    "## Check path\n",
    "Check, if we run in in the git directory or on the server. If on a server, look for the files in the same directory"
   ]
  },
  {
   "cell_type": "code",
   "execution_count": null,
   "metadata": {},
   "outputs": [],
   "source": [
    "#Check Server or Git\n",
    "path_git = '../../data/3. transformation/3_list_expanded.csv'\n",
    "path_server = '3_list_expanded.csv'\n",
    "\n",
    "on_git = os.path.isfile(path_git)"
   ]
  },
  {
   "cell_type": "markdown",
   "metadata": {},
   "source": [
    "## Read Data"
   ]
  },
  {
   "cell_type": "code",
   "execution_count": null,
   "metadata": {},
   "outputs": [],
   "source": [
    "if on_git:\n",
    "    df = pd.read_csv(path_git)\n",
    "else:\n",
    "    df = pd.read_csv(path_server)\n",
    "\n",
    "df_data = df[df.type == run_for].copy()\n",
    "df_data['address'] = df_data['address'].fillna(\"\")\n",
    "\n",
    "#For Testing\n",
    "#df_data = df_data[df_data.source.isin(['eli', 'shire', 'almirall'])]\n",
    "\n",
    "#Reset index\n",
    "df_data = df_data.reset_index(drop=True)\n",
    "\n",
    "#Set Startindex to 1\n",
    "df_data.index += 1\n",
    "\n",
    "#create empty matchlist\n",
    "df_matchlist = pd.DataFrame(columns=['source', 'target', 'r_name', 'r_address', 'r_location', 'r_ratio'])\n",
    "\n",
    "total_rows = len(df_data)"
   ]
  },
  {
   "cell_type": "markdown",
   "metadata": {},
   "source": [
    "## Calc rows"
   ]
  },
  {
   "cell_type": "code",
   "execution_count": null,
   "metadata": {
    "scrolled": false
   },
   "outputs": [],
   "source": [
    "#Convert\n",
    "df_data['name_expand'] = df_data['name_expand'].astype(\"str\")\n",
    "df_data['address_expand'] = df_data['address_expand'].astype(\"str\")\n",
    "df_data['location_expand'] = df_data['location_expand'].astype(\"str\")\n",
    "\n",
    "#Sort\n",
    "df_data = df_data.sort_values('name_expand')\n",
    "\n",
    "cond = conditions[run_for]\n",
    "\n",
    "start_time = time.time()\n",
    "\n",
    "print(\"===============================\")\n",
    "print(\"Start fuzzy matcher %s %s\" % (run_for, version))\n",
    "print(\"Rows to match: %s\" % total_rows)\n",
    "print(\"Start time: %s\" % datetime.datetime.now())\n",
    "print(\"===============================\")\n",
    "\n",
    "counter = 0\n",
    "for index, row in df_data.iterrows():\n",
    "    \n",
    "    if counter % 10 == 0:\n",
    "        sys.stdout.write(\"\\rProgress: %s%%\" % round(100 / total_rows * counter, 2))\n",
    "        sys.stdout.flush()\n",
    "        \n",
    "    #Frist Fuzzynize only location\n",
    "    df_data['r_location'] = 0\n",
    "    df_data['r_address'] = 0\n",
    "    df_data['r_name'] = 0\n",
    "    \n",
    "    df_data['r_location'] = df_data['location_expand'].apply(lambda x: fuzz.token_set_ratio(x, row['location_expand']))\n",
    "    \n",
    "    #Fuzzy name, when r_location >= 85\n",
    "    \n",
    "    df_data['r_name'] = df_data.loc[df_data.r_location >= cond['condition_location'], 'name_expand'].apply(lambda x: fuzz.token_set_ratio(x.lower(), row['name_expand']))\n",
    "    \n",
    "    #Fuzzy address, when r_location > 85 & r_name >= 80\n",
    "    df_data['r_address'] = df_data.loc[(df_data.r_location >= cond['condition_location']) & (df_data.r_name >= cond['condition_name']), 'address_expand'].apply(lambda x: fuzz.token_set_ratio(x, row['address_expand']))\n",
    "    \n",
    "    #condition_fix = (df_data.index != index) & (df_data['parent'] != index)\n",
    "    condition_fix = (df_data.index != index)\n",
    "    if row['address'] == '':\n",
    "        condition1 = (df_data.r_name >= cond['condition_name']) & (df_data.r_location >= cond['condition_location']) & (condition_fix)\n",
    "    else:\n",
    "        condition1 = (df_data.r_name >= cond['condition_name']) & (df_data.r_location >= cond['condition_location']) & (df_data.r_address >= cond['condition_address']) & (condition_fix)\n",
    "    \n",
    "    #Select by condition\n",
    "    df_matches = df_data[(condition1)]\n",
    "    \n",
    "    #Matchlist Add to matchlist\n",
    "    if len(df_matches) == 0:\n",
    "        df_matchlist = df_matchlist.append({'source': index,\n",
    "                                            'target': index,\n",
    "                                            'r_name': 100,\n",
    "                                            'r_address': 100,\n",
    "                                            'r_location': 100,\n",
    "                                           }, ignore_index=True)\n",
    "    else:\n",
    "        for match_index, match_row in df_matches.iterrows():\n",
    "\n",
    "            df_matchlist = df_matchlist.append({'source': index, \n",
    "                                                'target': match_index,\n",
    "                                                'r_name': match_row['r_name'],\n",
    "                                                'r_address': match_row['r_address'],\n",
    "                                                'r_location': match_row['r_location'],\n",
    "                                               }, ignore_index=True)\n",
    "\n",
    "    \n",
    "    counter += 1\n",
    "\n",
    "elapsed_time = time.time() - start_time\n",
    "print('\\nFinished in: ' + str(round(elapsed_time / 60, 2)) + ' minutes')\n"
   ]
  },
  {
   "cell_type": "code",
   "execution_count": null,
   "metadata": {},
   "outputs": [],
   "source": [
    "#Drop columns\n",
    "#df_data.drop(['r_name', 'r_location', 'r_address'], axis=1, inplace=True)"
   ]
  },
  {
   "cell_type": "code",
   "execution_count": null,
   "metadata": {},
   "outputs": [],
   "source": [
    "if on_git:\n",
    "    df_data.to_csv('../../data/3. transformation/4_%s_matches.csv' % run_for, index=True)\n",
    "    df_matchlist.to_csv('../../data/3. transformation/4_%s_matchlist.csv' % run_for, index=False)\n",
    "else:\n",
    "    df_data.to_csv('4_%s_matches.csv' % run_for, index=True)\n",
    "    df_matchlist.to_csv('4_%s_matchlist.csv' % run_for, index=False)"
   ]
  },
  {
   "cell_type": "code",
   "execution_count": null,
   "metadata": {},
   "outputs": [],
   "source": []
  }
 ],
 "metadata": {
  "kernelspec": {
   "display_name": "Python 3",
   "language": "python",
   "name": "python3"
  },
  "language_info": {
   "codemirror_mode": {
    "name": "ipython",
    "version": 3
   },
   "file_extension": ".py",
   "mimetype": "text/x-python",
   "name": "python",
   "nbconvert_exporter": "python",
   "pygments_lexer": "ipython3",
   "version": "3.6.5"
  }
 },
 "nbformat": 4,
 "nbformat_minor": 2
}
