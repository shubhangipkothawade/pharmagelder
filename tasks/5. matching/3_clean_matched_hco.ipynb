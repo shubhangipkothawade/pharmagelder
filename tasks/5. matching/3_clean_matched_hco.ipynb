{
 "cells": [
  {
   "cell_type": "markdown",
   "metadata": {},
   "source": [
    "# Clean exported"
   ]
  },
  {
   "cell_type": "code",
   "execution_count": 146,
   "metadata": {},
   "outputs": [],
   "source": [
    "import pandas as pd\n",
    "import numpy as np\n",
    "\n",
    "\n",
    "\n",
    "import sys\n",
    "sys.path.insert(0, '../../data/lib/')\n",
    "\n",
    "import numpy as np\n",
    "import pandas as pd\n",
    "import importlib\n",
    "\n",
    "import pdfexport\n",
    "importlib.reload(pdfexport)\n",
    "\n",
    "from pdfexport import *"
   ]
  },
  {
   "cell_type": "code",
   "execution_count": 147,
   "metadata": {
    "scrolled": true
   },
   "outputs": [],
   "source": [
    "df = pd.read_csv('../../data/3. transformation/3. hco_matches.csv', index_col = 0)"
   ]
  },
  {
   "cell_type": "code",
   "execution_count": 148,
   "metadata": {},
   "outputs": [],
   "source": [
    "df_data = df.copy()\n",
    "\n",
    "df_data['group'] = 0\n",
    "df_data['group'] = df_data['group'].astype(int)\n",
    "\n",
    "group_counter = 1\n",
    "for index, row in df_data.sort_values(['parent']).iterrows():\n",
    "    #group_index += 1\n",
    "    #print(\"\")\n",
    "    #print(\"Index %s\" % index)\n",
    "    \n",
    "    #df_data.loc[index, 'group'] = group_index\n",
    "    #When group of parent = 0, create new group\n",
    "    #print('My Parent Group: %s' % df_data.loc[row['parent'], 'group'])\n",
    "    if df_data.loc[row['parent'], 'group'] == 0:\n",
    "        #print(\"My Group: %s\" % df_data.loc[index, 'group'])\n",
    "        if df_data.loc[index, 'group'] == 0:\n",
    "            df_data.loc[index, 'group'] = group_counter\n",
    "            group_counter += 1\n",
    "        \n",
    "        #Add Group to parent\n",
    "        df_data.loc[df_data.loc[index, 'parent'], 'group'] = df_data.loc[index, 'group']\n",
    "        #print(\"add group to parent: %s\" % df_data.loc[row['parent'], 'group'])\n",
    "    else:\n",
    "        #take group of parent\n",
    "        df_data.loc[index, 'group'] = df_data.loc[row['parent'], 'group']\n",
    "        #print(\"Take group of parent: %s\" % df_data.loc[row['parent'], 'group'])\n",
    "    \n",
    "    \n",
    "#df_data\n"
   ]
  },
  {
   "cell_type": "code",
   "execution_count": 149,
   "metadata": {},
   "outputs": [],
   "source": [
    "df_data = df_data.sort_values(['group', 'name'])\n",
    "#df_data.to_csv('fuzzied.csv')"
   ]
  },
  {
   "cell_type": "code",
   "execution_count": 150,
   "metadata": {},
   "outputs": [],
   "source": [
    "df_index = df_data.copy()\n",
    "df_index = df_index.set_index([df_index.group, df_index.index])\n",
    "df_index.head()\n",
    "\n",
    "\n",
    "write_to_excel(df_index, 'tmp.xlsx', open=True, index=True)\n"
   ]
  },
  {
   "cell_type": "code",
   "execution_count": null,
   "metadata": {},
   "outputs": [],
   "source": []
  }
 ],
 "metadata": {
  "kernelspec": {
   "display_name": "Python 3",
   "language": "python",
   "name": "python3"
  },
  "language_info": {
   "codemirror_mode": {
    "name": "ipython",
    "version": 3
   },
   "file_extension": ".py",
   "mimetype": "text/x-python",
   "name": "python",
   "nbconvert_exporter": "python",
   "pygments_lexer": "ipython3",
   "version": "3.6.5"
  }
 },
 "nbformat": 4,
 "nbformat_minor": 2
}
