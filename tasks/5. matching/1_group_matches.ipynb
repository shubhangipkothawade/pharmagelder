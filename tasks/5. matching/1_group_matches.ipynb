{
 "cells": [
  {
   "cell_type": "markdown",
   "metadata": {},
   "source": [
    "# Group Matches"
   ]
  },
  {
   "cell_type": "code",
   "execution_count": 1,
   "metadata": {},
   "outputs": [],
   "source": [
    "import pandas as pd\n",
    "import numpy as np\n",
    "import networkx as nx\n",
    "\n",
    "import sys\n",
    "sys.path.insert(0, '../../data/lib/')\n",
    "from consts import *"
   ]
  },
  {
   "cell_type": "markdown",
   "metadata": {},
   "source": [
    "## Import file"
   ]
  },
  {
   "cell_type": "code",
   "execution_count": 2,
   "metadata": {
    "scrolled": true
   },
   "outputs": [],
   "source": [
    "df_hcp = pd.read_csv('../../data/3. transformation/4_hcp_matches.csv', index_col = 0, dtype = dataframe_types)\n",
    "df_hco = pd.read_csv('../../data/3. transformation/4_hco_matches.csv', index_col = 0, dtype = dataframe_types)\n",
    "\n",
    "df_hcp_matchlist = pd.read_csv('../../data/3. transformation/4_hcp_matchlist.csv')\n",
    "df_hco_matchlist = pd.read_csv('../../data/3. transformation/4_hco_matchlist.csv')\n",
    "\n",
    "df_prioritylist = pd.read_csv('sources/prioritylist.csv')\n",
    "df_prioritylist = df_prioritylist.set_index('source')"
   ]
  },
  {
   "cell_type": "markdown",
   "metadata": {},
   "source": [
    "## Group"
   ]
  },
  {
   "cell_type": "code",
   "execution_count": 3,
   "metadata": {},
   "outputs": [
    {
     "name": "stdout",
     "output_type": "stream",
     "text": [
      "Done\n"
     ]
    }
   ],
   "source": [
    "def group_dataset(df, match_list, output):\n",
    "    df_data = df.copy()\n",
    "\n",
    "    #Join priority\n",
    "    df_data = df_data.join(other=df_prioritylist, on='source')\n",
    "    df_data['priority'] = df_data['priority'].fillna(0)\n",
    "\n",
    "    df_data['index_copy'] = df_data.index\n",
    "    df_data['group'] = -1\n",
    "\n",
    "    #Create Network\n",
    "    G = nx.from_pandas_edgelist(match_list, 'source', 'target')\n",
    "\n",
    "    #read components (single networks)\n",
    "    com = nx.connected_components(G)\n",
    "\n",
    "    #ID of first Group\n",
    "    group_counter = 1\n",
    "    for group in sorted(nx.connected_components(G), key=len, reverse=True):\n",
    "\n",
    "        #Group nodes        \n",
    "        for node in group:\n",
    "            df_data.loc[int(node), 'group'] = group_counter\n",
    "            \n",
    "\n",
    "        #Find main address\n",
    "        df_largest = df_data[df_data.group == group_counter].nlargest(1,  ['year', 'priority'])\n",
    "        df_data.loc[df_largest.iloc[0].index_copy, 'main_address'] = 1\n",
    "\n",
    "        group_counter += 1\n",
    "\n",
    "    #Clean\n",
    "    df_data.drop(axis=1, columns=['address_expand', 'location_expand', 'priority', 'index_copy'], inplace=True)\n",
    "\n",
    "    #Save\n",
    "    df_data.to_csv('../../data/3. transformation/' + output, index=False)\n",
    "    \n",
    "#Group datasets\n",
    "group_dataset(df_hcp, df_hcp_matchlist, '5_hcp_grouped.csv')\n",
    "group_dataset(df_hco, df_hco_matchlist, '5_hco_grouped.csv')\n",
    "\n",
    "print(\"Done\")"
   ]
  },
  {
   "cell_type": "code",
   "execution_count": null,
   "metadata": {},
   "outputs": [],
   "source": []
  }
 ],
 "metadata": {
  "kernelspec": {
   "display_name": "Python 3",
   "language": "python",
   "name": "python3"
  },
  "language_info": {
   "codemirror_mode": {
    "name": "ipython",
    "version": 3
   },
   "file_extension": ".py",
   "mimetype": "text/x-python",
   "name": "python",
   "nbconvert_exporter": "python",
   "pygments_lexer": "ipython3",
   "version": "3.6.5"
  }
 },
 "nbformat": 4,
 "nbformat_minor": 2
}
