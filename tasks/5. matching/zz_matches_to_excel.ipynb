{
 "cells": [
  {
   "cell_type": "markdown",
   "metadata": {},
   "source": [
    "# Matches to Excel\n",
    "This file generates an Excelfile to check the matches"
   ]
  },
  {
   "cell_type": "code",
   "execution_count": 40,
   "metadata": {},
   "outputs": [],
   "source": [
    "import sys\n",
    "sys.path.insert(0, '../../data/lib/')\n",
    "\n",
    "import numpy as np\n",
    "import pandas as pd\n",
    "import importlib\n",
    "\n",
    "import pdfexport\n",
    "importlib.reload(pdfexport)\n",
    "\n",
    "from pdfexport import *"
   ]
  },
  {
   "cell_type": "markdown",
   "metadata": {},
   "source": [
    "## Analyze Grouped"
   ]
  },
  {
   "cell_type": "code",
   "execution_count": 41,
   "metadata": {},
   "outputs": [],
   "source": [
    "rectype = 'hcp'\n",
    "\n",
    "df_live = pd.read_csv('../../data/0. live data/0_recipient.csv')\n",
    "df_new = pd.read_csv('../../data/3. transformation/4_%s_matched_against_live.csv' % rectype)\n",
    "\n",
    "#Remove duplicates in Live\n",
    "df_live = df_live.drop_duplicates('id')\n",
    "df_live['parent'] = df_live['id']\n",
    "\n",
    "df_live['state'] = 'old'\n",
    "df_new['state'] = 'new'\n",
    "\n",
    "df_parents = pd.DataFrame(data=None, columns=df_live.columns)\n",
    "\n",
    "for index, row in df_new.iterrows():\n",
    "    df_parents = df_parents.append(df_live[df_live.parent == row['parent']], sort=False)\n",
    "    \n",
    "df_new = df_new.drop(columns=['address_expand', 'location_expand', 'name_expand'], axis=1)\n"
   ]
  },
  {
   "cell_type": "code",
   "execution_count": 44,
   "metadata": {},
   "outputs": [
    {
     "name": "stderr",
     "output_type": "stream",
     "text": [
      "/Users/hws/Documents/python/pharmagelder/env/lib/python3.6/site-packages/ipykernel_launcher.py:2: FutureWarning: Sorting because non-concatenation axis is not aligned. A future version\n",
      "of pandas will change to not sort by default.\n",
      "\n",
      "To accept the future behavior, pass 'sort=False'.\n",
      "\n",
      "To retain the current behavior and silence the warning, pass 'sort=True'.\n",
      "\n",
      "  \n",
      "/Users/hws/Documents/python/pharmagelder/env/lib/python3.6/site-packages/ipykernel_launcher.py:6: FutureWarning: 'parent' is both an index level and a column label.\n",
      "Defaulting to column, but this will raise an ambiguity error in a future version\n",
      "  \n"
     ]
    }
   ],
   "source": [
    "#Merge\n",
    "df_new = pd.concat([df_new, df_parents])\n",
    "\n",
    "df_new = df_new.sort_values('parent')\n",
    "df_new = df_new.set_index([df_new.parent, df_new.index])\n",
    "df_new = df_new.sort_values(['parent', 'name'])\n",
    "\n",
    "write_to_excel(df_new, '5_%s_grouped.xlsx' % rectype, open=True, index=True)"
   ]
  },
  {
   "cell_type": "code",
   "execution_count": null,
   "metadata": {},
   "outputs": [],
   "source": []
  }
 ],
 "metadata": {
  "kernelspec": {
   "display_name": "Python 3",
   "language": "python",
   "name": "python3"
  },
  "language_info": {
   "codemirror_mode": {
    "name": "ipython",
    "version": 3
   },
   "file_extension": ".py",
   "mimetype": "text/x-python",
   "name": "python",
   "nbconvert_exporter": "python",
   "pygments_lexer": "ipython3",
   "version": "3.6.5"
  }
 },
 "nbformat": 4,
 "nbformat_minor": 2
}
