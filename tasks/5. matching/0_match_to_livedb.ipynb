{
 "cells": [
  {
   "cell_type": "markdown",
   "metadata": {},
   "source": [
    "# Match Address - Run twice! Multithreading\n",
    "The magic! Here we match addresses. You can run this file on an external server - it will take some times.  \n",
    "Changed logic in new version: No network anymore. Just find the most similar sibling in the live db files.   \n",
    "**You have to run this twice, for hcp and hco's! Change the variable `run_for`**\n",
    "\n",
    "**Info next time: Try to set condition_address to 0 on HCO. To many not found pairs**"
   ]
  },
  {
   "cell_type": "code",
   "execution_count": 1,
   "metadata": {},
   "outputs": [],
   "source": [
    "import pandas as pd\n",
    "import numpy as np\n",
    "from fuzzywuzzy import fuzz\n",
    "import time\n",
    "import sys\n",
    "import os.path\n",
    "import datetime\n",
    "import multiprocessing as mp\n",
    "import math"
   ]
  },
  {
   "cell_type": "code",
   "execution_count": 2,
   "metadata": {},
   "outputs": [],
   "source": [
    "run_for = 'hco'\n",
    "version = 0.5\n",
    "num_process = mp.cpu_count() * 2\n",
    "#num_process = 1\n",
    "\n",
    "# Conditions\n",
    "conditions = {\n",
    "    'hcp' :\n",
    "        {\n",
    "            'condition_location': 85,\n",
    "            'condition_address': 0,\n",
    "            'condition_name': 89\n",
    "        },\n",
    "    'hco' :\n",
    "        {\n",
    "            'condition_location': 85,\n",
    "            'condition_address': 0,\n",
    "            'condition_name': 85\n",
    "        },\n",
    "    }"
   ]
  },
  {
   "cell_type": "markdown",
   "metadata": {},
   "source": [
    "## Check path\n",
    "Check, if we run in in the git directory or on the server. If on a server, look for the files in the same directory"
   ]
  },
  {
   "cell_type": "code",
   "execution_count": 3,
   "metadata": {},
   "outputs": [],
   "source": [
    "#Check Server or Git\n",
    "git_live = '../../data/0. live data/1_recipient_expanded.csv'\n",
    "git_new = '../../data/3. transformation/3_list_expanded.csv'\n",
    "\n",
    "server_live = '1_recipient_expanded.csv'\n",
    "server_new = '3_list_expanded.csv'\n",
    "\n",
    "on_git = os.path.isfile(git_new)"
   ]
  },
  {
   "cell_type": "markdown",
   "metadata": {},
   "source": [
    "## Read Data"
   ]
  },
  {
   "cell_type": "code",
   "execution_count": 4,
   "metadata": {},
   "outputs": [],
   "source": [
    "if on_git:\n",
    "    df_live = pd.read_csv(git_live)\n",
    "    df_new = pd.read_csv(git_new)\n",
    "else:\n",
    "    df_live = pd.read_csv(server_live)\n",
    "    df_new = pd.read_csv(server_new)\n",
    "\n",
    "df_live = df_live[df_live.type == run_for].copy()\n",
    "df_new = df_new[df_new.type == run_for].copy()\n",
    "\n",
    "df_new['address'] = df_new['address'].fillna(\"\")\n",
    "df_new['address_expand'] = df_new['address_expand'].fillna(\"\")\n",
    "df_new['location_expand'] = df_new['location_expand'].fillna(\"\")\n",
    "\n",
    "#For Testing\n",
    "#df_new = df_new[df_new.source.isin(['eli', 'shire', 'almirall'])]\n",
    "#df_new = df_new[df_new.source.isin(['eli'])]\n",
    "#df_new = df_new[df_new['name'] == 'Calderari Gianluca']\n",
    "\n",
    "#Reset index\n",
    "df_new = df_new.reset_index(drop=True)\n",
    "\n",
    "#Set Startindex to 1\n",
    "df_new['parent'] = -1\n",
    "\n",
    "total_rows = len(df_new)"
   ]
  },
  {
   "cell_type": "markdown",
   "metadata": {},
   "source": [
    "## Calc rows"
   ]
  },
  {
   "cell_type": "code",
   "execution_count": 5,
   "metadata": {
    "scrolled": false
   },
   "outputs": [
    {
     "name": "stdout",
     "output_type": "stream",
     "text": [
      "===============================\n",
      "Start fuzzy matcher THREADS hco 0.5\n",
      "Cores detected: 4\n",
      "Threads started: 8\n",
      "Rows to match: 4575\n",
      "Start time: 2020-08-17 21:56:27.497332\n",
      "===============================\n"
     ]
    }
   ],
   "source": [
    "#Convert\n",
    "df_new['name_expand'] = df_new['name_expand'].astype(\"str\")\n",
    "df_new['address_expand'] = df_new['address_expand'].astype(\"str\")\n",
    "df_new['location_expand'] = df_new['location_expand'].astype(\"str\")\n",
    "\n",
    "df_live['name_expand'] = df_live['name_expand'].astype(\"str\")\n",
    "df_live['address_expand'] = df_live['address_expand'].astype(\"str\")\n",
    "df_live['location_expand'] = df_live['location_expand'].astype(\"str\")\n",
    "\n",
    "#Sort\n",
    "df_new = df_new.sort_values('name_expand')\n",
    "\n",
    "cond = conditions[run_for]\n",
    "\n",
    "start_time = time.time()\n",
    "\n",
    "print(\"===============================\")\n",
    "print(\"Start fuzzy matcher THREADS %s %s\" % (run_for, version))\n",
    "print(\"Cores detected: %s\" % mp.cpu_count())\n",
    "print(\"Threads started: %s\" % num_process)\n",
    "print(\"Rows to match: %s\" % total_rows)\n",
    "print(\"Start time: %s\" % datetime.datetime.now())\n",
    "print(\"===============================\")\n",
    "\n",
    "def run(datasets):\n",
    "    print(\"Thread started\")\n",
    "    df_live = datasets['df_live']\n",
    "    df_part = datasets['df_part']\n",
    "\n",
    "    counter = 0\n",
    "    total_rows = len(df_part)\n",
    "    for index, row in df_part.iterrows():\n",
    "        #try:\n",
    "            #Frist Fuzzynize only location\n",
    "            df_live['r_location'] = 0\n",
    "            df_live['r_address'] = 0\n",
    "            df_live['r_name'] = 0\n",
    "            df_live['r_sum'] = 0\n",
    "\n",
    "            df_live['r_location'] = df_live['location_expand'].apply(lambda x: fuzz.token_set_ratio(x, row['location_expand']))\n",
    "\n",
    "            #Fuzzy name, when r_location >= 85\n",
    "            df_live['r_name'] = df_live.loc[df_live.r_location >= cond['condition_location'], 'name_expand'].apply(lambda x: fuzz.token_set_ratio(x.lower(), row['name_expand']))\n",
    "\n",
    "            #Fuzzy address, when r_location > 85 & r_name >= 80\n",
    "            df_live['r_address'] = df_live.loc[(df_live.r_location >= cond['condition_location']) & (df_live.r_name >= cond['condition_name']), 'address_expand'].apply(lambda x: np.amax([fuzz.token_set_ratio(x, row['address_expand']), fuzz.partial_ratio(x, row['address_expand'])]))\n",
    "\n",
    "            df_live['r_sum'] = df_live['r_location'] + df_live['r_address'] + df_live['r_name']\n",
    "\n",
    "            #condition_fix = (df_data.index != index) & (df_data['parent'] != index)\n",
    "            if row['address'] == '':\n",
    "                condition1 = (df_live.r_name >= cond['condition_name']) & (df_live.r_location >= cond['condition_location'])\n",
    "            else:\n",
    "                condition1 = (df_live.r_name >= cond['condition_name']) & (df_live.r_location >= cond['condition_location']) & (df_live.r_address >= cond['condition_address'])\n",
    "\n",
    "            #Select by condition\n",
    "            df_matches = df_live[(condition1)]\n",
    "            if len(df_matches > 0):\n",
    "                df_part.loc[index, 'parent'] = int(df_matches.nlargest(1, 'r_sum')['id'])\n",
    "\n",
    "            if counter % 10 == 0:\n",
    "                sys.stdout.write(\"\\rProgress: %s%%\" % round(100 / total_rows * counter, 2))\n",
    "                sys.stdout.flush()\n",
    "\n",
    "            counter += 1\n",
    "            \n",
    "        #except:\n",
    "            #print(\"ERROR\")\n",
    "            #print(row['name_expand'] + ' ' + row['location_expand'] + ' ' + row['address_expand'])\n",
    "            #raise\n",
    "\n",
    "    #elapsed_time = time.time() - start_time\n",
    "    #print('\\nFinished in: ' + str(round(elapsed_time / 60, 2)) + ' minutes')\n",
    "    return df_part\n"
   ]
  },
  {
   "cell_type": "code",
   "execution_count": 6,
   "metadata": {
    "scrolled": true
   },
   "outputs": [
    {
     "name": "stdout",
     "output_type": "stream",
     "text": [
      "Thread started\n",
      "Thread started\n",
      "Thread started\n",
      "Thread started\n",
      "Thread started\n",
      "Thread started\n",
      "Thread Data len: 572\n",
      "Thread Data len: 572\n",
      "Thread Data len: 572\n",
      "Thread Data len: 572\n",
      "Thread Data len: 572\n",
      "Thread Data len: 572\n",
      "Thread Data len: 572\n",
      "Thread Data len: 571\n",
      "Total len: 4575\n",
      "\n",
      "Thread started\n",
      "Thread started\n",
      "Progress: 99.82%\n",
      "\n",
      "Finished in: 3.03 minutes\n"
     ]
    }
   ],
   "source": [
    "#Create pool\n",
    "pool = mp.Pool(processes = num_process)\n",
    "\n",
    "#Create Jobs\n",
    "jobs = []\n",
    "job_len = int(math.ceil(len(df_new) / num_process))\n",
    "for x in range(0, num_process):\n",
    "    part = df_new[x * job_len : x * job_len + job_len]\n",
    "    jobs.append({\"df_live\": df_live.copy(), \"df_part\": part})\n",
    "    print('Thread Data len: ' + str(len(part)))\n",
    "\n",
    "    \n",
    "print(\"Total len: \" + str(len(df_new)))\n",
    "print(\"\")\n",
    "\n",
    "#Run Threats \n",
    "matchlist_list = pool.map(run, jobs)\n",
    "pool.close()\n",
    "pool.join()\n",
    "\n",
    "#Concat Results\n",
    "df_matches = pd.concat(matchlist_list)\n",
    "print(\"\")\n",
    "\n",
    "#Time Spend\n",
    "elapsed_time = time.time() - start_time\n",
    "\n",
    "print('\\nFinished in: ' + str(round(elapsed_time / 60, 2)) + ' minutes')"
   ]
  },
  {
   "cell_type": "code",
   "execution_count": 7,
   "metadata": {},
   "outputs": [],
   "source": [
    "if on_git:\n",
    "    df_matches.to_csv('../../data/3. transformation/4_%s_matched_against_live.csv' % run_for, index=False)\n",
    "else:\n",
    "    df_matches.to_csv('4_%s_matched_against_live.csv' % run_for, index=False)"
   ]
  },
  {
   "cell_type": "code",
   "execution_count": null,
   "metadata": {},
   "outputs": [],
   "source": []
  }
 ],
 "metadata": {
  "kernelspec": {
   "display_name": "Python 3",
   "language": "python",
   "name": "python3"
  },
  "language_info": {
   "codemirror_mode": {
    "name": "ipython",
    "version": 3
   },
   "file_extension": ".py",
   "mimetype": "text/x-python",
   "name": "python",
   "nbconvert_exporter": "python",
   "pygments_lexer": "ipython3",
   "version": "3.7.4"
  }
 },
 "nbformat": 4,
 "nbformat_minor": 2
}
