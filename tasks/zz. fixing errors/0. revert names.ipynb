{
 "cells": [
  {
   "cell_type": "markdown",
   "metadata": {},
   "source": [
    "# Revert names\n",
    "In some exports, the names where not in the right order (eg \"Lastname Firstname\" oder \"Lastname, Firstname\" instead of \"Firstname Lastname\". Its now fixed in all exports, but because of the manually data check, we have to fix some files now and upload it again to google spreadsheets."
   ]
  },
  {
   "cell_type": "code",
   "execution_count": 10,
   "metadata": {},
   "outputs": [],
   "source": [
    "import sys\n",
    "sys.path.insert(0, '../../data/lib/')\n",
    "\n",
    "import pandas as pd\n",
    "import importlib\n",
    "\n",
    "import pdfexport\n",
    "importlib.reload(pdfexport)\n",
    "\n",
    "from pdfexport import *"
   ]
  },
  {
   "cell_type": "markdown",
   "metadata": {},
   "source": [
    "## Fix Menarini\n",
    "* Revert Name"
   ]
  },
  {
   "cell_type": "code",
   "execution_count": 14,
   "metadata": {},
   "outputs": [
    {
     "name": "stdout",
     "output_type": "stream",
     "text": [
      "revert_name: Be sure: Only revert hcp, not hco!\n"
     ]
    }
   ],
   "source": [
    "path = \"../../data/2. manual check/lists/menarini.csv\"\n",
    "\n",
    "# Read pdf into DataFrame\n",
    "df_export = pd.read_csv(path)\n",
    "\n",
    "# Revert name\n",
    "df_export.loc[df_export.type == 'hcp', 'name'] = revert_name(df_export[df_export.type == 'hcp']['name'], ' ')\n",
    "\n",
    "# Save\n",
    "df_export.to_csv(path, index=False)"
   ]
  },
  {
   "cell_type": "markdown",
   "metadata": {},
   "source": [
    "## Fix Galderma\n",
    "* Revert Name"
   ]
  },
  {
   "cell_type": "code",
   "execution_count": 15,
   "metadata": {},
   "outputs": [
    {
     "name": "stdout",
     "output_type": "stream",
     "text": [
      "revert_name: Be sure: Only revert hcp, not hco!\n"
     ]
    }
   ],
   "source": [
    "path = \"../../data/2. manual check/lists/galderma.csv\"\n",
    "\n",
    "# Read pdf into DataFrame\n",
    "df_export = pd.read_csv(path)\n",
    "\n",
    "# Revert name\n",
    "df_export.loc[df_export.type == 'hcp', 'name'] = revert_name(df_export[df_export.type == 'hcp']['name'], ' ')\n",
    "\n",
    "# Save\n",
    "df_export.to_csv(path, index=False)"
   ]
  },
  {
   "cell_type": "markdown",
   "metadata": {},
   "source": [
    "## Fix Astellas\n",
    "* Revert Name"
   ]
  },
  {
   "cell_type": "code",
   "execution_count": 16,
   "metadata": {},
   "outputs": [
    {
     "name": "stdout",
     "output_type": "stream",
     "text": [
      "revert_name: Be sure: Only revert hcp, not hco!\n"
     ]
    }
   ],
   "source": [
    "path = \"../../data/2. manual check/lists/astellas.csv\"\n",
    "\n",
    "# Read pdf into DataFrame\n",
    "df_export = pd.read_csv(path)\n",
    "\n",
    "# Revert name\n",
    "df_export.loc[df_export.type == 'hcp', 'name'] = revert_name(df_export[df_export.type == 'hcp']['name'], ' ')\n",
    "\n",
    "# Save\n",
    "df_export.to_csv(path, index=False)"
   ]
  },
  {
   "cell_type": "markdown",
   "metadata": {},
   "source": [
    "## Fix Gilead\n",
    "* Revert Name"
   ]
  },
  {
   "cell_type": "code",
   "execution_count": 17,
   "metadata": {},
   "outputs": [
    {
     "name": "stdout",
     "output_type": "stream",
     "text": [
      "revert_name: Be sure: Only revert hcp, not hco!\n"
     ]
    }
   ],
   "source": [
    "path = \"../../data/2. manual check/lists/gilead.csv\"\n",
    "\n",
    "# Read pdf into DataFrame\n",
    "df_export = pd.read_csv(path)\n",
    "\n",
    "# Revert name\n",
    "df_export.loc[df_export.type == 'hcp', 'name'] = revert_name(df_export[df_export.type == 'hcp']['name'], ' ')\n",
    "\n",
    "# Save\n",
    "df_export.to_csv(path, index=False)"
   ]
  },
  {
   "cell_type": "code",
   "execution_count": null,
   "metadata": {},
   "outputs": [],
   "source": []
  }
 ],
 "metadata": {
  "kernelspec": {
   "display_name": "Python 3",
   "language": "python",
   "name": "python3"
  },
  "language_info": {
   "codemirror_mode": {
    "name": "ipython",
    "version": 3
   },
   "file_extension": ".py",
   "mimetype": "text/x-python",
   "name": "python",
   "nbconvert_exporter": "python",
   "pygments_lexer": "ipython3",
   "version": "3.6.5"
  }
 },
 "nbformat": 4,
 "nbformat_minor": 2
}
