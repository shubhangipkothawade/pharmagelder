{
 "cells": [
  {
   "cell_type": "markdown",
   "metadata": {},
   "source": [
    "# AstraZeneca - Lists\n",
    "Aus irgend einem Grund erkennt Tabula die Daten nicht als eine Tabelle. Daher werden sie separat (multiple_tables=True) eingelesen und danach wieder zusammengeführt\n",
    "\n",
    "## Info\n",
    "(Auf der summierten Liste sind die Werte in HCP und HCO falsch. Gesamttotal stimmt, aber einzelne Kategorien sind falsch. Habs durchgerechnet, unseres stimmt) noch nicht überprüft in 2019"
   ]
  },
  {
   "cell_type": "code",
   "execution_count": 1,
   "metadata": {},
   "outputs": [],
   "source": [
    "import sys\n",
    "sys.path.insert(0, '../../../lib/')\n",
    "\n",
    "import tabula\n",
    "import numpy as np\n",
    "import pandas as pd\n",
    "import importlib\n",
    "\n",
    "import pdfexport\n",
    "importlib.reload(pdfexport)\n",
    "\n",
    "from pdfexport import *"
   ]
  },
  {
   "cell_type": "markdown",
   "metadata": {},
   "source": [
    "## Import PDF"
   ]
  },
  {
   "cell_type": "code",
   "execution_count": 2,
   "metadata": {},
   "outputs": [],
   "source": [
    "# Read pdf into DataFrame\n",
    "df_list = tabula.read_pdf(\"Switzerland_EFPIA Standard Disclosure Summary Report_2019_engl.pdf\", pages='all', lattice=True, multiple_tables=True)"
   ]
  },
  {
   "cell_type": "markdown",
   "metadata": {},
   "source": [
    "## Concat Tables\n",
    "In der letzten Tabelle sind die Columns verschoben. Manuell zurücksetzen und zu einem DF joinen"
   ]
  },
  {
   "cell_type": "code",
   "execution_count": 3,
   "metadata": {},
   "outputs": [],
   "source": [
    "df_last = df_list[len(df_list) - 1]\n",
    "\n",
    "#Remove Columns 8 and 12\n",
    "df_last = df_last.drop(columns=[8, 12])\n",
    "\n",
    "#Reset Columns name\n",
    "df_last.columns = [ i for i in range(0,13)]\n",
    "\n",
    "df_list[len(df_list) - 1] = df_last\n",
    "\n",
    "# Concat tables\n",
    "df = pd.concat(df_list)"
   ]
  },
  {
   "cell_type": "markdown",
   "metadata": {},
   "source": [
    "## Format Table"
   ]
  },
  {
   "cell_type": "code",
   "execution_count": 4,
   "metadata": {},
   "outputs": [
    {
     "name": "stdout",
     "output_type": "stream",
     "text": [
      "Duplicates found. Please check for duplicates: df_export[df_export.duplicated()]\n",
      "saved\n"
     ]
    }
   ],
   "source": [
    "#Rename Columns\n",
    "df_export = df.copy()\n",
    "df_export.columns = ['empty1', 'name', 'location', 'country', 'address', 'donations_grants', 'sponsorship', 'registration_fees','travel_accommodation', 'fees', 'related_expenses', 'total', 'empty2']\n",
    "\n",
    "#Remove empty rows\n",
    "df_export = remove_empty_columns(df_export)\n",
    "\n",
    "#Remove all which have NaN in total\n",
    "df_export = df_export[~df_export['total'].isnull()]\n",
    "\n",
    "#Remove 2xspace\n",
    "df_export = df_export.replace('    ', ' ', regex=True)\n",
    "\n",
    "#Set Type\n",
    "df_export = set_type_by_alphabetical_order(df_export)\n",
    "\n",
    "#Basic String Conversions\n",
    "df_export = basic_string_conversion(df_export)\n",
    "\n",
    "#Amounts to Number\n",
    "df_export = amounts_to_number(df_export)\n",
    "\n",
    "#Remove Carination\n",
    "df_export = remove_carination(df_export)\n",
    "\n",
    "#Add empty fields\n",
    "df_export = add_plz(df_export)\n",
    "df_export = add_uci(df_export)\n",
    "\n",
    "#Export\n",
    "export_list(df_export, 'astrazeneca')"
   ]
  },
  {
   "cell_type": "code",
   "execution_count": 5,
   "metadata": {},
   "outputs": [],
   "source": [
    "#write_to_excel(df_export, 'astrazeneca')\n",
    "#write_to_csv(df_export, 'tmp.xlsx', True)"
   ]
  },
  {
   "cell_type": "code",
   "execution_count": null,
   "metadata": {},
   "outputs": [],
   "source": []
  }
 ],
 "metadata": {
  "kernelspec": {
   "display_name": "Python 3",
   "language": "python",
   "name": "python3"
  },
  "language_info": {
   "codemirror_mode": {
    "name": "ipython",
    "version": 3
   },
   "file_extension": ".py",
   "mimetype": "text/x-python",
   "name": "python",
   "nbconvert_exporter": "python",
   "pygments_lexer": "ipython3",
   "version": "3.7.4"
  }
 },
 "nbformat": 4,
 "nbformat_minor": 2
}
