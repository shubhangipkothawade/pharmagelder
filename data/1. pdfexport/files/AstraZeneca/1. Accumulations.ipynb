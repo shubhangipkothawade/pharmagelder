{
 "cells": [
  {
   "cell_type": "markdown",
   "metadata": {},
   "source": [
    "# AstraZeneca - Accumulations\n",
    "**Important:**\n",
    "* Total of Count HCP is not exported. Add it manually!\n",
    "* RnD not exported"
   ]
  },
  {
   "cell_type": "code",
   "execution_count": 1,
   "metadata": {},
   "outputs": [],
   "source": [
    "import sys\n",
    "sys.path.insert(0, '../../../lib/')\n",
    "\n",
    "import tabula\n",
    "import numpy as np\n",
    "import pandas as pd\n",
    "import importlib\n",
    "\n",
    "import pdfexport\n",
    "importlib.reload(pdfexport)\n",
    "\n",
    "from pdfexport import *"
   ]
  },
  {
   "cell_type": "markdown",
   "metadata": {},
   "source": [
    "## Import PDF"
   ]
  },
  {
   "cell_type": "code",
   "execution_count": null,
   "metadata": {},
   "outputs": [],
   "source": [
    "# Read pdf into DataFrame\n",
    "df_list = tabula.read_pdf(\"Switzerland_EFPIA Standard Disclosure Summary Report_2019_engl.pdf\", pages='all', lattice=True, multiple_tables=True)"
   ]
  },
  {
   "cell_type": "markdown",
   "metadata": {},
   "source": [
    "## Concat Tables\n",
    "In der letzten Tabelle sind die Columns verschoben. Manuell zurücksetzen und zu einem DF joinen"
   ]
  },
  {
   "cell_type": "code",
   "execution_count": null,
   "metadata": {},
   "outputs": [],
   "source": [
    "df_last = df_list[len(df_list) - 1]\n",
    "\n",
    "#Remove Columns 8 and 12\n",
    "df_last = df_last.drop(columns=[8, 12])\n",
    "\n",
    "#Reset Columns name\n",
    "df_last.columns = [ i for i in range(0,13)]\n",
    "\n",
    "df_list[len(df_list) - 1] = df_last\n",
    "\n",
    "# Concat tables\n",
    "df = pd.concat(df_list)"
   ]
  },
  {
   "cell_type": "markdown",
   "metadata": {},
   "source": [
    "## Format Table"
   ]
  },
  {
   "cell_type": "code",
   "execution_count": null,
   "metadata": {},
   "outputs": [],
   "source": [
    "df_export = df.copy()\n",
    "\n",
    "#Drop Columns\n",
    "df_export = df_export.drop(df.columns[9:],axis=1)\n",
    "df_export = df_export.drop(df.columns[0],axis=1)\n",
    "\n",
    "#Rename\n",
    "df_export.columns = fix_columns_accumulations[0: 8]\n",
    "\n",
    "#fill na\n",
    "df_export = df_export.fillna(\"\")\n",
    "# Select\n",
    "amount = df_export[df_export.type.str.contains('Transfers of Value')]\n",
    "recipients = df_export[df_export.type.str.contains('Number of Recipients in Aggregate Disclosure')]\n",
    "rnd = df_export[df_export.type.str.contains('Research & Development')]\n",
    "\n",
    "df_export = pd.concat([amount, recipients, rnd])\n",
    "\n",
    "# Remove RND Aggregated\n",
    "df_export = df_export[~df_export['type'].str.contains('Aggregate Disclosure - Research & Development')]\n",
    "\n",
    "#Numberize\n",
    "df_export = cleanup_number(df_export)\n",
    "df_export = amounts_to_number(df_export)\n",
    "#df_export = sum_amounts(df_export)\n",
    "\n",
    "#Rename first column\n",
    "df_export = df_export.reset_index(drop=True)\n",
    "\n",
    "df_export.iloc[0,0] = \"hcp_amount\"\n",
    "df_export.iloc[1,0] = \"hco_amount\"\n",
    "df_export.iloc[2,0] = \"hcp_count\"\n",
    "df_export.iloc[3,0] = \"hco_count\"\n",
    "df_export.iloc[4,0] = \"rnd\"\n",
    "df_export.loc[df_export.type == 'rnd', \"sponsorship\"] = np.NaN\n",
    "\n",
    "export_acumulations(df_export, 'astrazeneca')"
   ]
  },
  {
   "cell_type": "code",
   "execution_count": null,
   "metadata": {},
   "outputs": [],
   "source": []
  }
 ],
 "metadata": {
  "kernelspec": {
   "display_name": "Python 3",
   "language": "python",
   "name": "python3"
  },
  "language_info": {
   "codemirror_mode": {
    "name": "ipython",
    "version": 3
   },
   "file_extension": ".py",
   "mimetype": "text/x-python",
   "name": "python",
   "nbconvert_exporter": "python",
   "pygments_lexer": "ipython3",
   "version": "3.6.5"
  }
 },
 "nbformat": 4,
 "nbformat_minor": 2
}
