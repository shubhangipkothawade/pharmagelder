{
 "cells": [
  {
   "cell_type": "markdown",
   "metadata": {},
   "source": [
    "# Janssen-Cilag - List\n",
    "## Beachten\n",
    "Kein PDF verfügbar. Werte wurden von Hand von der Website kopiert (jeweils mit Kopfzeile) und in einem Texteditor (nicht Excel!) abgespeichert.\n",
    "* https://public.janssentransferofvalue.com/ch_de/hcp-individual\n",
    "* https://public.janssentransferofvalue.com/ch_de/hco-individual"
   ]
  },
  {
   "cell_type": "code",
   "execution_count": 1,
   "metadata": {},
   "outputs": [],
   "source": [
    "import sys\n",
    "sys.path.insert(0, '../../../lib/')\n",
    "\n",
    "import tabula\n",
    "import numpy as np\n",
    "import pandas as pd\n",
    "import importlib\n",
    "\n",
    "import pdfexport\n",
    "importlib.reload(pdfexport)\n",
    "\n",
    "from pdfexport import *"
   ]
  },
  {
   "cell_type": "markdown",
   "metadata": {},
   "source": [
    "## Import PDF"
   ]
  },
  {
   "cell_type": "code",
   "execution_count": 2,
   "metadata": {},
   "outputs": [],
   "source": [
    "# HCP\n",
    "df_hcp = pd.read_csv(\"hcp.csv\", sep=\"\\t\", skiprows=2, names=['_nachname', '_vorname', 'location', 'address', 'registration_fees', 'travel_accommodation', 'fees', 'related_expenses'])\n",
    "df_hcp['type'] = 'hcp'\n",
    "\n",
    "#HCO\n",
    "df_hco = pd.read_csv(\"hco.csv\", sep=\"\\t\", skiprows=2, names=['name', 'location', 'address', 'donations_grants', 'sponsorship', 'registration_fees', 'travel_accommodation', 'fees', 'related_expenses'])\n",
    "df_hco['type'] = 'hco'\n",
    "\n",
    "#Concat\n",
    "df = pd.concat([df_hcp, df_hco], sort=False)"
   ]
  },
  {
   "cell_type": "markdown",
   "metadata": {},
   "source": [
    "## Format Table"
   ]
  },
  {
   "cell_type": "code",
   "execution_count": 3,
   "metadata": {},
   "outputs": [
    {
     "name": "stdout",
     "output_type": "stream",
     "text": [
      "saved\n"
     ]
    }
   ],
   "source": [
    "df_export = df.copy()\n",
    "\n",
    "#Rename Columns\n",
    "#df_export.columns = ['_nachname', '_vorname', 'location', 'address', 'registration_fees', 'travel_accommodation', 'fees', 'related_expenses']\n",
    "\n",
    "#Remove where _nachname = \"NACHNAME\" or \"Angaben\"\n",
    "df_export = df_export[df_export['_nachname'] != 'NACHNAME']\n",
    "df_export = df_export[df_export['_nachname'] != 'Angaben']\n",
    "df_export = df_export[df_export['name'] != 'VOLLSTÄNDIGER NAME']\n",
    "df_export = df_export[df_export['name'] != 'Angaben']\n",
    "\n",
    "#Merge _nachname _vorname and remove fields\n",
    "#df_export.loc[df_export['_vorname'].notna(), 'name'] = df_export['_vorname'] + ' ' + df_export['_nachname']\n",
    "df_export['_name'] = df_export['_vorname'] + ' ' + df_export['_nachname']\n",
    "df_export.loc[df_export['name'].isna(), 'name'] = df_export.loc[df_export['name'].isna(), '_name']\n",
    "df_export.drop(columns=['_vorname', '_nachname', '_name'], inplace=True)\n",
    "\n",
    "#Add missed rows\n",
    "df_export.insert(0, 'total', \"\")\n",
    "df_export.insert(0, 'country', \"CH\")\n",
    "df_export.insert(0, 'plz', \"\")\n",
    "df_export.insert(0, 'uci', \"\")\n",
    "\n",
    "#Convert to Numbers\n",
    "df_export = cleanup_number(df_export)\n",
    "df_export = amounts_to_number(df_export)\n",
    "df_export = sum_amounts(df_export)\n",
    "\n",
    "#basic string conversion\n",
    "df_export = basic_string_conversion(df_export)\n",
    "\n",
    "#Reorder columns\n",
    "df_export = df_export[fix_columns[:-1]]\n",
    "\n",
    "#Export\n",
    "export_list(df_export, 'janssen')"
   ]
  },
  {
   "cell_type": "code",
   "execution_count": 4,
   "metadata": {},
   "outputs": [],
   "source": [
    "#write_to_csv(df_export, 'tmp.csv')\n",
    "#write_to_excel(df_export, 'tmp.xlsx', open=True)"
   ]
  },
  {
   "cell_type": "code",
   "execution_count": null,
   "metadata": {},
   "outputs": [],
   "source": []
  }
 ],
 "metadata": {
  "kernelspec": {
   "display_name": "Python 3",
   "language": "python",
   "name": "python3"
  },
  "language_info": {
   "codemirror_mode": {
    "name": "ipython",
    "version": 3
   },
   "file_extension": ".py",
   "mimetype": "text/x-python",
   "name": "python",
   "nbconvert_exporter": "python",
   "pygments_lexer": "ipython3",
   "version": "3.6.5"
  }
 },
 "nbformat": 4,
 "nbformat_minor": 2
}
