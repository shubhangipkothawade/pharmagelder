{
 "cells": [
  {
   "cell_type": "markdown",
   "metadata": {},
   "source": [
    "# Janssen-Cilag - Accumulations\n",
    "\n",
    "## Beachten im nächsten Jahr\n",
    "* Auslesen ungenau. Accumulationen von Hand vornehmen\n",
    "\n",
    "## URLs\n",
    "* https://public.janssentransferofvalue.com/ch_de/hcp-aggregated\n",
    "* https://public.janssentransferofvalue.com/ch_de/hco-aggregated\n",
    "* https://public.janssentransferofvalue.com/ch_de/rnd-report"
   ]
  },
  {
   "cell_type": "code",
   "execution_count": 2,
   "metadata": {},
   "outputs": [],
   "source": [
    "import sys\n",
    "sys.path.insert(0, '../../../lib/')\n",
    "\n",
    "import tabula\n",
    "import numpy as np\n",
    "import pandas as pd\n",
    "import importlib\n",
    "\n",
    "import pdfexport\n",
    "importlib.reload(pdfexport)\n",
    "\n",
    "from pdfexport import *"
   ]
  },
  {
   "cell_type": "markdown",
   "metadata": {},
   "source": [
    "## Import PDF"
   ]
  },
  {
   "cell_type": "code",
   "execution_count": 3,
   "metadata": {},
   "outputs": [
    {
     "name": "stdout",
     "output_type": "stream",
     "text": [
      "hcp_count not found or not unique\n",
      "hco_count not found or not unique\n",
      "saved\n"
     ]
    }
   ],
   "source": [
    "df_export = pd.DataFrame(columns=fix_columns_accumulations[:-1])\n",
    "\n",
    "# Add HCP\n",
    "df_export = add_accumulation(df_export, AccType.hcp_amount, \n",
    "                             registration_fees = '30 366 CHF', \n",
    "                             travel_accommodation = '74 771 CHF', \n",
    "                             fees = '122 985 CHF', \n",
    "                             related_expenses = '8 335 CHF')\n",
    "\"\"\"\n",
    "df_export = add_accumulation(df_export, AccType.hcp_count, \n",
    "                             registration_fees = 17, \n",
    "                             travel_accommodation = 13, \n",
    "                             fees = 7, \n",
    "                             related_expenses = 7)\n",
    "\"\"\"\n",
    "\n",
    "# Add HCO\n",
    "df_export = add_accumulation(df_export, AccType.hco_amount,\n",
    "                            donations_grants = '774 495 CHF',\n",
    "                            sponsorship = '501 977 CHF',\n",
    "                            fees = '19 752 CHF')\n",
    "\"\"\"\n",
    "df_export = add_accumulation(df_export, AccType.hco_count,\n",
    "                            donations_grants = 3,\n",
    "                            sponsorship = 12,\n",
    "                            fees = 2)\n",
    "\"\"\"\n",
    "\n",
    "# RnD\n",
    "df_export = add_accumulation(df_export, AccType.rnd,\n",
    "                            donations_grants = '621 414 CHF')\n",
    "\n",
    "#Numberize and sum\n",
    "df_export = cleanup_number(df_export)\n",
    "df_export = amounts_to_number(df_export)\n",
    "df_export = sum_amounts(df_export)\n",
    "\n",
    "#Fix RnD\n",
    "df_export.loc[df_export.type == 'rnd', 'donations_grants'] = np.NaN\n",
    "\n",
    "export_acumulations(df_export, 'janssen')"
   ]
  },
  {
   "cell_type": "code",
   "execution_count": null,
   "metadata": {},
   "outputs": [],
   "source": []
  }
 ],
 "metadata": {
  "kernelspec": {
   "display_name": "Python 3",
   "language": "python",
   "name": "python3"
  },
  "language_info": {
   "codemirror_mode": {
    "name": "ipython",
    "version": 3
   },
   "file_extension": ".py",
   "mimetype": "text/x-python",
   "name": "python",
   "nbconvert_exporter": "python",
   "pygments_lexer": "ipython3",
   "version": "3.6.5"
  }
 },
 "nbformat": 4,
 "nbformat_minor": 2
}
