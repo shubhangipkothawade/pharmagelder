{
 "cells": [
  {
   "cell_type": "markdown",
   "metadata": {},
   "source": [
    "# CSL - List\n",
    "## Achtung\n",
    "* **Eine Zelle in PDF war verbunden - diese Zeile hatte verschobene Totale. Überprüfen!**"
   ]
  },
  {
   "cell_type": "code",
   "execution_count": 1,
   "metadata": {},
   "outputs": [],
   "source": [
    "import sys\n",
    "sys.path.insert(0, '../../../lib/')\n",
    "\n",
    "import tabula\n",
    "import numpy as np\n",
    "import pandas as pd\n",
    "import importlib\n",
    "import re\n",
    "\n",
    "import pdfexport\n",
    "importlib.reload(pdfexport)\n",
    "\n",
    "from pdfexport import *"
   ]
  },
  {
   "cell_type": "markdown",
   "metadata": {},
   "source": [
    "## Import PDF"
   ]
  },
  {
   "cell_type": "code",
   "execution_count": 3,
   "metadata": {},
   "outputs": [],
   "source": [
    "# Read pdf into DataFrame\n",
    "df = tabula.read_pdf(\"Offenlegung 2019 HCP_HCO.pdf\", pages='all', lattice=True)"
   ]
  },
  {
   "cell_type": "markdown",
   "metadata": {},
   "source": [
    "## Format Table"
   ]
  },
  {
   "cell_type": "code",
   "execution_count": 4,
   "metadata": {},
   "outputs": [
    {
     "name": "stdout",
     "output_type": "stream",
     "text": [
      "saved\n"
     ]
    }
   ],
   "source": [
    "df_export = df.copy()\n",
    "\n",
    "#Rename Columns\n",
    "df_export.columns = ['empty0', 'name', 'location', 'country', 'address', 'uci', 'donations_grants', 'sponsorship', 'registration_fees','travel_accommodation', 'fees', 'related_expenses', 'empty1', 'total']\n",
    "\n",
    "#Shift Rows\n",
    "df_export[df_export['empty0'].notna()] = df_export.shift(1, axis='columns')\n",
    "\n",
    "#Add Type\n",
    "index_hco = df_export[df_export['name'].str.contains(\"Aggregate amount\", na=False)].index[0]\n",
    "df_export['type'] = np.where(df_export.index < index_hco, 'hcp', 'hco')\n",
    "\n",
    "#Remove empty\n",
    "df_export.drop(columns=['empty0', 'empty1'], inplace=True)\n",
    "\n",
    "#Remove, where country not Switzerland\n",
    "df_export = df_export[df_export.country == 'Switzerland']\n",
    "\n",
    "#Convert to Numbers and Sum\n",
    "df_export['total'] = '0'\n",
    "df_export = cleanup_number(df_export)\n",
    "df_export = amounts_to_number(df_export)\n",
    "df_export = sum_amounts(df_export)\n",
    "\n",
    "#Add PLZ\n",
    "df_export = add_plz(df_export)\n",
    "\n",
    "#Remove Titles\n",
    "df_export['name'] = df_export.name.str.replace(regex_title, '', regex=True, case=False)\n",
    "df_export['name'] = df_export.name.str.strip()\n",
    "\n",
    "#Remove Carinations\n",
    "df_export = remove_carination(df_export)\n",
    "\n",
    "#basic string conversion\n",
    "df_export = basic_string_conversion(df_export)\n",
    "\n",
    "export_list(df_export, 'csl')"
   ]
  },
  {
   "cell_type": "code",
   "execution_count": 5,
   "metadata": {},
   "outputs": [],
   "source": [
    "#write_to_csv(df_export, 'tmp.csv')\n",
    "#write_to_excel(df_export, 'tmp.xlsx', open=True)"
   ]
  },
  {
   "cell_type": "code",
   "execution_count": null,
   "metadata": {},
   "outputs": [],
   "source": []
  }
 ],
 "metadata": {
  "kernelspec": {
   "display_name": "Python 3",
   "language": "python",
   "name": "python3"
  },
  "language_info": {
   "codemirror_mode": {
    "name": "ipython",
    "version": 3
   },
   "file_extension": ".py",
   "mimetype": "text/x-python",
   "name": "python",
   "nbconvert_exporter": "python",
   "pygments_lexer": "ipython3",
   "version": "3.6.5"
  }
 },
 "nbformat": 4,
 "nbformat_minor": 2
}
