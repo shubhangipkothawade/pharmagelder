{
 "cells": [
  {
   "cell_type": "markdown",
   "metadata": {},
   "source": [
    "# Böhringer - Accumulations\n",
    "\n",
    "## Info\n",
    "* Achtung: Spalte \"Total\" in RnD ist Total über das gesammte PDF!"
   ]
  },
  {
   "cell_type": "code",
   "execution_count": 1,
   "metadata": {},
   "outputs": [],
   "source": [
    "import sys\n",
    "sys.path.insert(0, '../../../lib/')\n",
    "\n",
    "import tabula\n",
    "import numpy as np\n",
    "import pandas as pd\n",
    "import importlib\n",
    "\n",
    "import pdfexport\n",
    "importlib.reload(pdfexport)\n",
    "\n",
    "from pdfexport import *"
   ]
  },
  {
   "cell_type": "code",
   "execution_count": 2,
   "metadata": {},
   "outputs": [],
   "source": [
    "# Read pdf into DataFrame\n",
    "df = tabula.read_pdf(\"switzerland_scienceindustries_de_fr_en_24jun2020.pdf\", pages='all', lattice=True)"
   ]
  },
  {
   "cell_type": "code",
   "execution_count": 9,
   "metadata": {},
   "outputs": [
    {
     "name": "stdout",
     "output_type": "stream",
     "text": [
      "saved\n"
     ]
    }
   ],
   "source": [
    "df_export = df.copy()\n",
    "\n",
    "#Shift all where column[1] not empty\n",
    "column0 = df_export[df_export.columns[0]]\n",
    "df_export[column0.isna()] = df_export[column0.isna()].shift(-1, axis='columns')\n",
    "\n",
    "#Drop Columns\n",
    "df_export = df_export.drop(df.columns[9:14],axis=1)\n",
    "df_export = df_export.drop(df.columns[7],axis=1)\n",
    "\n",
    "#Rename\n",
    "df_export.columns = fix_columns_accumulations[0: 8]\n",
    "\n",
    "#fill na\n",
    "df_export = df_export.fillna(\"\")\n",
    "\n",
    "# Select\n",
    "amount = df_export[df_export.type.str.contains('Gesamtbetrag entfallend')]\n",
    "count = df_export[df_export.type.str.contains('Anzahl Empfänger in')]\n",
    "rnd = df_export[df_export.type.str.contains('Geldwerte Leistungen')]\n",
    "\n",
    "df_export = pd.concat([amount, count, rnd])\n",
    "\n",
    "#Numberize and sum\n",
    "df_export = cleanup_number(df_export)\n",
    "df_export = replace_comma_to_dot(df_export)\n",
    "df_export = amounts_to_number(df_export)\n",
    "\n",
    "#Rename first column\n",
    "df_export = df_export.reset_index(drop=True)\n",
    "df_export.iloc[0,0] = \"hcp_amount\"\n",
    "df_export.iloc[1,0] = \"hco_amount\"\n",
    "df_export.iloc[2,0] = \"hcp_count\"\n",
    "df_export.iloc[3,0] = \"hco_count\"\n",
    "df_export.iloc[4,0] = \"rnd\"\n",
    "\n",
    "df_export.loc[df_export.type == 'rnd', \"total\"] = df_export[\"donations_grants\"]\n",
    "df_export.loc[df_export.type == 'rnd', \"donations_grants\"] = np.NaN\n",
    "df_export.loc[df_export.type == 'rnd', \"sponsorship\"] = np.NaN\n",
    "\n",
    "export_acumulations(df_export, 'boehringer')\n"
   ]
  },
  {
   "cell_type": "code",
   "execution_count": null,
   "metadata": {},
   "outputs": [],
   "source": [
    "#write_to_excel(df_export, 'tmp.xlsx', True)"
   ]
  },
  {
   "cell_type": "code",
   "execution_count": null,
   "metadata": {},
   "outputs": [],
   "source": []
  }
 ],
 "metadata": {
  "kernelspec": {
   "display_name": "Python 3",
   "language": "python",
   "name": "python3"
  },
  "language_info": {
   "codemirror_mode": {
    "name": "ipython",
    "version": 3
   },
   "file_extension": ".py",
   "mimetype": "text/x-python",
   "name": "python",
   "nbconvert_exporter": "python",
   "pygments_lexer": "ipython3",
   "version": "3.6.5"
  }
 },
 "nbformat": 4,
 "nbformat_minor": 2
}
