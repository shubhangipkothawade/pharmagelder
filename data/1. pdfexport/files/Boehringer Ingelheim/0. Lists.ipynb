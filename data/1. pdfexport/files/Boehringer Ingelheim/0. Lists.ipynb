{
 "cells": [
  {
   "cell_type": "markdown",
   "metadata": {},
   "source": [
    "# Böhringer\n",
    "\n",
    "## Beachten im nächsten Jahr\n",
    "Namesortierung ist leider unbrauchbar, um automatisch hco/hcp zu erkennen. Daher manuelle Auswahl. **Anpassen!**"
   ]
  },
  {
   "cell_type": "code",
   "execution_count": 1,
   "metadata": {},
   "outputs": [],
   "source": [
    "import sys\n",
    "sys.path.insert(0, '../../../lib/')\n",
    "\n",
    "import tabula\n",
    "import numpy as np\n",
    "import pandas as pd\n",
    "import importlib\n",
    "\n",
    "import pdfexport\n",
    "importlib.reload(pdfexport)\n",
    "\n",
    "from pdfexport import *"
   ]
  },
  {
   "cell_type": "markdown",
   "metadata": {},
   "source": [
    "## Import PDF"
   ]
  },
  {
   "cell_type": "code",
   "execution_count": 2,
   "metadata": {},
   "outputs": [],
   "source": [
    "# Read pdf into DataFrame\n",
    "df = tabula.read_pdf(\"efpia_24.06.2019_d_f_e.pdf\", pages='all', lattice=True)"
   ]
  },
  {
   "cell_type": "markdown",
   "metadata": {},
   "source": [
    "## Format Table"
   ]
  },
  {
   "cell_type": "code",
   "execution_count": 8,
   "metadata": {},
   "outputs": [
    {
     "name": "stdout",
     "output_type": "stream",
     "text": [
      "saved\n"
     ]
    }
   ],
   "source": [
    "#Rename Columns\n",
    "df_export = df.copy()\n",
    "df_export.columns = ['name', 'location', 'country', 'address', 'donations_grants', 'sponsorship', 'registration_fees','travel_accommodation', 'fees', 'related_expenses', 'empty2', 'total', 'empty1']\n",
    "\n",
    "#Shift all where 'name' is empty\n",
    "df_export[df_export['name'].isna()] = df_export[df_export['name'].isna()].shift(-1, axis='columns')\n",
    "\n",
    "#Remove empties\n",
    "df_export.drop(columns=['empty1', 'empty2'], inplace=True)\n",
    "\n",
    "#Remove rows which have no total\n",
    "df_export = df_export.dropna(subset=['total'], how='all')\n",
    "df_export = df_export.reset_index(drop=True)\n",
    "\n",
    "#Cleanup Numbers\n",
    "df_export = replace_comma_to_dot(df_export)\n",
    "df_export = cleanup_number(df_export)\n",
    "df_export = amounts_to_number(df_export)\n",
    "\n",
    "#Remove Carination\n",
    "df_export = remove_carination(df_export)\n",
    "\n",
    "#Add Type by Index\n",
    "add_type_by_index(df_export, 159)\n",
    "\n",
    "#Add empty fields\n",
    "df_export = add_plz(df_export)\n",
    "df_export = add_uci(df_export)\n",
    "\n",
    "#basic string conversion\n",
    "df_export = basic_string_conversion(df_export)\n",
    "\n",
    "#Export\n",
    "export_list(df_export, 'boehringer')"
   ]
  },
  {
   "cell_type": "code",
   "execution_count": 10,
   "metadata": {},
   "outputs": [],
   "source": [
    "#write_to_csv(df_export, 'boehringer', True)\n",
    "#write_to_excel(df_export, 'tmp.xlsx', True)"
   ]
  },
  {
   "cell_type": "code",
   "execution_count": null,
   "metadata": {},
   "outputs": [],
   "source": []
  }
 ],
 "metadata": {
  "kernelspec": {
   "display_name": "Python 3",
   "language": "python",
   "name": "python3"
  },
  "language_info": {
   "codemirror_mode": {
    "name": "ipython",
    "version": 3
   },
   "file_extension": ".py",
   "mimetype": "text/x-python",
   "name": "python",
   "nbconvert_exporter": "python",
   "pygments_lexer": "ipython3",
   "version": "3.6.5"
  }
 },
 "nbformat": 4,
 "nbformat_minor": 2
}
