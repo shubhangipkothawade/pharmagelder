{
 "cells": [
  {
   "cell_type": "markdown",
   "metadata": {},
   "source": [
    "# Takeda - List\n",
    "## Beachten\n",
    "* Für die OCR-Erkennung wurde ABBYY Fine Reader for Mac verwendet (Lizenz vorhanden)\n",
    "* Wichtig: Sprachen einstellen auf: Deutsch, Englisch, Italienisch, Französisch\n",
    "* Als CSV exportieren\n",
    "* HCP & HCO manuell setzen"
   ]
  },
  {
   "cell_type": "code",
   "execution_count": 1,
   "metadata": {},
   "outputs": [],
   "source": [
    "import sys\n",
    "sys.path.insert(0, '../../../lib/')\n",
    "\n",
    "import tabula\n",
    "import numpy as np\n",
    "import pandas as pd\n",
    "import importlib\n",
    "import re\n",
    "\n",
    "import pdfexport\n",
    "importlib.reload(pdfexport)\n",
    "\n",
    "from pdfexport import *\n",
    "import consts"
   ]
  },
  {
   "cell_type": "markdown",
   "metadata": {},
   "source": [
    "## Import CSV"
   ]
  },
  {
   "cell_type": "code",
   "execution_count": 8,
   "metadata": {},
   "outputs": [],
   "source": [
    "# Read CSV into DataFrame\n",
    "header = ['name', 'location', 'country', 'address', 'uci', 'donations_grants', 'sponsorship', 'registration_fees','travel_accommodation', 'fees', 'related_expenses', 'empty1', 'total', 'empty2']\n",
    "df = pd.read_csv(\"2018_efpia_transparency_disclosure_tov_2018_switzerland_v1.csv\", sep=\";\", header=None, names=header)"
   ]
  },
  {
   "cell_type": "markdown",
   "metadata": {},
   "source": [
    "## Format Table"
   ]
  },
  {
   "cell_type": "code",
   "execution_count": 13,
   "metadata": {},
   "outputs": [],
   "source": [
    "df_export = df.copy()\n",
    "\n",
    "#Shift\n",
    "df_export[df_export['name'].isna()] = df_export.shift(-1, axis='columns')\n",
    "\n",
    "#Remove empty\n",
    "df_export.drop(columns=['empty1', 'empty2'], inplace=True)\n",
    "\n",
    "#Remove rows which have no values\n",
    "df_export = df_export.dropna(subset=['total'], how='all')\n",
    "df_export = df_export.reset_index(drop=True)\n",
    "\n",
    "#Remove rows by string comparision\n",
    "#df_export = df_export[~df_export['name'].str.contains('(Art. 1.01)', na=False)]\n",
    "df_export = df_export[~df_export['name'].str.contains('Number of Recipients', na=False)]\n",
    "df_export = df_export[~df_export['name'].str.contains('Full Name', na=False)]\n",
    "df_export = df_export[~df_export['name'].str.contains('Aggregate amount', na=False)]\n",
    "\n",
    "#Remove \\r\n",
    "df_export = remove_carination(df_export, \" \")\n",
    "\n",
    "#Set Type\n",
    "index_hco = df_export[df_export['name'].str.contains(\"Ass. Frto\", na=False)].index[0]\n",
    "df_export['type'] = np.where(df_export.index < index_hco, 'hcp', 'hco')\n",
    "\n",
    "#Revert name\n",
    "df_export = revert_name(df_export, ' ')\n",
    "\n",
    "#Clean Numbers\n",
    "df_export = cleanup_number(df_export)\n",
    "df_export = remove_in_numbers(df_export, '-')\n",
    "df_export = remove_in_numbers(df_export, '—')\n",
    "df_export = remove_in_numbers(df_export, '*')\n",
    "df_export = replace_in_number(df_export, 'O', '0')\n",
    "df_export = replace_in_number(df_export, 'l', '1')\n",
    "\n",
    "#basic string conversion\n",
    "df_export = basic_string_conversion(df_export)\n",
    "\n",
    "#Export PLZ\n",
    "df_export['plz'] = df_export['location'].str.extract(r'(^\\S*)', expand=True)"
   ]
  },
  {
   "cell_type": "markdown",
   "metadata": {},
   "source": [
    "## Clean Errors\n",
    "Some Numeric collums have errors. Try to recalculate them. If more than one cell per row is invalid, write \"Error\""
   ]
  },
  {
   "cell_type": "code",
   "execution_count": 14,
   "metadata": {},
   "outputs": [],
   "source": [
    "def fix_errors(df_export, field):\n",
    "    other_fields = number_fields.copy()\n",
    "    other_fields.remove(field)\n",
    "    \n",
    "    #Loop each row\n",
    "    for index, row in df_export[df_export[field] == 'ERROR'].iterrows():\n",
    "        \n",
    "        #Check if other fields are numeric. If not, break\n",
    "        has_strings = False\n",
    "        for f in other_fields:\n",
    "            if re.match(r'^[0-9.]*$', str(row[f])) == None:\n",
    "                has_strings = True\n",
    "                break\n",
    "            \n",
    "        #if no strings, calculate!\n",
    "        if not has_strings:\n",
    "            if field != 'total':\n",
    "                without_total = other_fields.copy()\n",
    "                without_total.remove('total')\n",
    "                df_export.loc[index, field] = (\n",
    "                    pd.to_numeric(df_export.loc[index, 'total']) \n",
    "                    - pd.to_numeric(df_export.loc[index, without_total[0]])\n",
    "                    - pd.to_numeric(df_export.loc[index, without_total[1]])\n",
    "                    - pd.to_numeric(df_export.loc[index, without_total[2]])\n",
    "                    - pd.to_numeric(df_export.loc[index, without_total[3]])\n",
    "                    - pd.to_numeric(df_export.loc[index, without_total[4]])\n",
    "                )\n",
    "            else:\n",
    "                without_total = other_fields.copy()\n",
    "                df_export.loc[index, field] = (\n",
    "                    pd.to_numeric(df_export.loc[index, without_total[0]])\n",
    "                    + pd.to_numeric(df_export.loc[index, without_total[1]])\n",
    "                    + pd.to_numeric(df_export.loc[index, without_total[2]])\n",
    "                    + pd.to_numeric(df_export.loc[index, without_total[3]])\n",
    "                    + pd.to_numeric(df_export.loc[index, without_total[4]])\n",
    "                    + pd.to_numeric(df_export.loc[index, without_total[5]])\n",
    "                )\n",
    "                           \n",
    "    return df_export\n",
    "\n",
    "  \n",
    "#Fill ERROR\n",
    "for field in number_fields:\n",
    "    df_export.loc[df_export[field].str.contains(r'^[0-9.]*$', regex=True) == False, field] = 'ERROR'\n",
    "   \n",
    "#Fill na in numeric fields\n",
    "for f in number_fields:\n",
    "    df_export[f] = df_export[f].fillna(value=0)\n",
    "\n",
    "#Fix Errors\n",
    "for f in number_fields:\n",
    "    df_export = fix_errors(df_export, f)  "
   ]
  },
  {
   "cell_type": "code",
   "execution_count": 15,
   "metadata": {},
   "outputs": [
    {
     "name": "stdout",
     "output_type": "stream",
     "text": [
      "WARNING: Remember to set HCP, HCO and RnD manually!\n",
      "donations_grants not a number\n",
      "sponsorship not a number\n",
      "registration_fees not a number\n",
      "travel_accommodation not a number\n",
      "fees not a number\n",
      "related_expenses not a number\n",
      "total not a number\n",
      "saved\n"
     ]
    }
   ],
   "source": [
    "#Export\n",
    "add_warning(manually=True)\n",
    "export_list(df_export, 'takeda')"
   ]
  },
  {
   "cell_type": "code",
   "execution_count": 46,
   "metadata": {},
   "outputs": [],
   "source": [
    "#write_to_csv(df_export, 'tmp.csv', True)\n",
    "#write_to_excel(df_export, 'tmp.xlsx', open=True)"
   ]
  }
 ],
 "metadata": {
  "kernelspec": {
   "display_name": "Python 3",
   "language": "python",
   "name": "python3"
  },
  "language_info": {
   "codemirror_mode": {
    "name": "ipython",
    "version": 3
   },
   "file_extension": ".py",
   "mimetype": "text/x-python",
   "name": "python",
   "nbconvert_exporter": "python",
   "pygments_lexer": "ipython3",
   "version": "3.6.5"
  }
 },
 "nbformat": 4,
 "nbformat_minor": 2
}
