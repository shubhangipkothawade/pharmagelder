{
 "cells": [
  {
   "cell_type": "markdown",
   "metadata": {},
   "source": [
    "# Bayer - List\n",
    "\n",
    "## Beachten im nächsten Jahr\n",
    "Werte in Klammern (150.00) werden subtrahiert. Steht nirgends, aber sonst gehen Totale nicht auf..."
   ]
  },
  {
   "cell_type": "code",
   "execution_count": 75,
   "metadata": {},
   "outputs": [],
   "source": [
    "import sys\n",
    "sys.path.insert(0, '../../../lib/')\n",
    "\n",
    "import tabula\n",
    "import numpy as np\n",
    "import pandas as pd\n",
    "import importlib\n",
    "\n",
    "import pdfexport\n",
    "importlib.reload(pdfexport)\n",
    "\n",
    "from pdfexport import *"
   ]
  },
  {
   "cell_type": "markdown",
   "metadata": {},
   "source": [
    "## Import PDF"
   ]
  },
  {
   "cell_type": "code",
   "execution_count": 76,
   "metadata": {},
   "outputs": [],
   "source": [
    "# Read pdf into DataFrame\n",
    "df = tabula.read_pdf(\"Bayer_Transparency_Report_CH_2017_de.pdf\", pages='all', lattice=False)"
   ]
  },
  {
   "cell_type": "markdown",
   "metadata": {},
   "source": [
    "## Format Table"
   ]
  },
  {
   "cell_type": "code",
   "execution_count": 77,
   "metadata": {
    "scrolled": true
   },
   "outputs": [
    {
     "name": "stdout",
     "output_type": "stream",
     "text": [
      "Total nicht Summe der Werte\n"
     ]
    }
   ],
   "source": [
    "#Rename Columns\n",
    "df_export = df.copy()\n",
    "df_export.columns = ['name', 'uci', 'address', 'location', 'plz', 'donations_grants', 'sponsorship', 'registration_fees','travel_accommodation', 'fees', 'related_expenses', 'total', 'empty1']\n",
    "\n",
    "#Remove empty1\n",
    "df_export.drop(columns='empty1', inplace=True)\n",
    "\n",
    "#Remove rows which have no total\n",
    "df_export = df_export.dropna(subset=['related_expenses', 'total'], how='all')\n",
    "df_export = df_export.reset_index(drop=True)\n",
    "\n",
    "#Convert brackets to Minus\n",
    "df_export['registration_fees'] = df_export['registration_fees'].str.replace('(', '-')\n",
    "df_export['registration_fees'] = df_export['registration_fees'].str.replace(')', '')\n",
    "df_export['travel_accommodation'] = df_export['travel_accommodation'].str.replace('(', '-')\n",
    "df_export['travel_accommodation'] = df_export['travel_accommodation'].str.replace(')', '')\n",
    "\n",
    "#Convert to Numbers\n",
    "df_export = remove_dots(df_export)\n",
    "df_export = replace_comma_to_dot(df_export)\n",
    "\n",
    "#df_export = remove_brackets(df_export)\n",
    "df_export = amounts_to_number(df_export)\n",
    "\n",
    "#Set Type\n",
    "df_export = set_type_by_alphabetical_order(df_export, hcp_before_hco = False)\n",
    "\n",
    "#Add Country\n",
    "df_export.insert(2, 'country', 'CH')\n",
    "\n",
    "#Drop PLZ\n",
    "#df_export.drop(columns='plz', inplace=True)\n",
    "\n",
    "#Reorder Dataset\n",
    "df_export = df_export[['name', 'location', 'country', 'address', 'plz', 'uci', 'donations_grants', 'sponsorship', 'registration_fees', 'travel_accommodation', 'fees', 'related_expenses', 'total', 'type']]\n",
    "\n",
    "#basic string conversion\n",
    "df_export = basic_string_conversion(df_export)\n",
    "\n",
    "#Export\n",
    "export_list(df_export, 'bayer')"
   ]
  },
  {
   "cell_type": "code",
   "execution_count": null,
   "metadata": {},
   "outputs": [],
   "source": [
    "#write_to_csv(df_export, 'bayer', True)\n",
    "#write_to_excel(df_export, 'bayer')"
   ]
  }
 ],
 "metadata": {
  "kernelspec": {
   "display_name": "Python 3",
   "language": "python",
   "name": "python3"
  },
  "language_info": {
   "codemirror_mode": {
    "name": "ipython",
    "version": 3
   },
   "file_extension": ".py",
   "mimetype": "text/x-python",
   "name": "python",
   "nbconvert_exporter": "python",
   "pygments_lexer": "ipython3",
   "version": "3.6.5"
  }
 },
 "nbformat": 4,
 "nbformat_minor": 2
}
