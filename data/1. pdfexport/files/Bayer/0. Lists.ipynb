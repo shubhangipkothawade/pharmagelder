{
 "cells": [
  {
   "cell_type": "markdown",
   "metadata": {},
   "source": [
    "# Bayer - List\n",
    "\n",
    "## (Im Vorjahr)\n",
    "(Werte in Klammern (150.00) werden subtrahiert. Steht nirgends, aber sonst gehen Totale nicht auf...)"
   ]
  },
  {
   "cell_type": "code",
   "execution_count": 1,
   "metadata": {},
   "outputs": [],
   "source": [
    "import sys\n",
    "sys.path.insert(0, '../../../lib/')\n",
    "\n",
    "import tabula\n",
    "import numpy as np\n",
    "import pandas as pd\n",
    "import importlib\n",
    "\n",
    "import pdfexport\n",
    "importlib.reload(pdfexport)\n",
    "\n",
    "from pdfexport import *"
   ]
  },
  {
   "cell_type": "markdown",
   "metadata": {},
   "source": [
    "## Import PDF"
   ]
  },
  {
   "cell_type": "code",
   "execution_count": 6,
   "metadata": {},
   "outputs": [],
   "source": [
    "# Read pdf into DataFrame\n",
    "df = tabula.read_pdf(\"Transparency_Report_CH_2019_de.pdf\", pages='all', lattice=True)"
   ]
  },
  {
   "cell_type": "markdown",
   "metadata": {},
   "source": [
    "## Format Table"
   ]
  },
  {
   "cell_type": "code",
   "execution_count": 26,
   "metadata": {},
   "outputs": [
    {
     "name": "stdout",
     "output_type": "stream",
     "text": [
      "Total nicht Summe der Werte\n",
      "saved\n"
     ]
    }
   ],
   "source": [
    "df_export = df.copy()\n",
    "\n",
    "#Rename Columns\n",
    "df_export.columns = ['name', 'uci', 'address', 'location', 'plz', 'donations_grants', 'sponsorship', 'registration_fees','travel_accommodation', 'fees', 'related_expenses', 'total']\n",
    "\n",
    "#Remove by Name\n",
    "df_export = df_export[~df_export['total'].str.contains('Gesamtbetrag', na=False)]\n",
    "\n",
    "#Add Type\n",
    "index_hco = df_export[df_export['name'].str.contains(\"Anzahl der Empfänger von Zuwendungen unter\", na=False)].index[0]\n",
    "df_export['type'] = np.where(df_export.index < index_hco, 'hcp', 'hco')\n",
    "\n",
    "#Remove rows which have no total\n",
    "df_export = df_export.dropna(subset=['name'], how='all')\n",
    "df_export = df_export.dropna(subset=['total'], how='all')\n",
    "df_export = df_export.reset_index(drop=True)\n",
    "\n",
    "#Convert to Numbers\n",
    "df_export = remove_dots(df_export)\n",
    "df_export = replace_comma_to_dot(df_export)\n",
    "df_export = amounts_to_number(df_export)\n",
    "\n",
    "#Add Country\n",
    "df_export.insert(2, 'country', 'CH')\n",
    "\n",
    "#Remove Carination\n",
    "df_export = remove_carination(df_export, \" \")\n",
    "\n",
    "#basic string conversion\n",
    "df_export = basic_string_conversion(df_export)\n",
    "\n",
    "#Export\n",
    "export_list(df_export, 'bayer')\n"
   ]
  },
  {
   "cell_type": "code",
   "execution_count": null,
   "metadata": {},
   "outputs": [],
   "source": [
    "#write_to_csv(df_export, 'bayer', True)\n",
    "#write_to_excel(df_export, 'bayer', True)"
   ]
  }
 ],
 "metadata": {
  "kernelspec": {
   "display_name": "Python 3",
   "language": "python",
   "name": "python3"
  },
  "language_info": {
   "codemirror_mode": {
    "name": "ipython",
    "version": 3
   },
   "file_extension": ".py",
   "mimetype": "text/x-python",
   "name": "python",
   "nbconvert_exporter": "python",
   "pygments_lexer": "ipython3",
   "version": "3.6.5"
  }
 },
 "nbformat": 4,
 "nbformat_minor": 2
}
