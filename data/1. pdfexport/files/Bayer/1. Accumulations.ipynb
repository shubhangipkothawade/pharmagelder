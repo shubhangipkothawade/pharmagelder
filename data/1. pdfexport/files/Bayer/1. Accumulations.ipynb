{
 "cells": [
  {
   "cell_type": "markdown",
   "metadata": {},
   "source": [
    "# Bayer - Accumulations\n",
    "\n",
    "## Beachten im nächsten Jahr\n",
    "* Auslesen ungenau. Accumulationen von Hand vornehmen\n",
    "* Werte in Klammern (150.00) werden subtrahiert. Steht nirgends, aber sonst gehen Totale nicht auf..."
   ]
  },
  {
   "cell_type": "code",
   "execution_count": 61,
   "metadata": {},
   "outputs": [],
   "source": [
    "import sys\n",
    "sys.path.insert(0, '../../../lib/')\n",
    "\n",
    "import tabula\n",
    "import numpy as np\n",
    "import pandas as pd\n",
    "import importlib\n",
    "\n",
    "import pdfexport\n",
    "importlib.reload(pdfexport)\n",
    "\n",
    "from pdfexport import *"
   ]
  },
  {
   "cell_type": "markdown",
   "metadata": {},
   "source": [
    "## Import PDF"
   ]
  },
  {
   "cell_type": "code",
   "execution_count": 62,
   "metadata": {},
   "outputs": [],
   "source": [
    "df_export = pd.DataFrame(columns=fix_columns_accumulations[:-1])\n",
    "\n",
    "# Add HCO\n",
    "df_export = df_export.append({\n",
    "    'type':'hco_amount',\n",
    "    'donations_grants': '',\n",
    "    'sponsorship': '648759.19',\n",
    "    'registration_fees': '90',\n",
    "    'travel_accommodation': '345.46',\n",
    "    'fees': '14430',\n",
    "    'related_expenses': ''\n",
    "    }, ignore_index=True)\n",
    "\n",
    "df_export = df_export.append({\n",
    "    'type':'hco_count',\n",
    "    'donations_grants': '',\n",
    "    'sponsorship': '48',\n",
    "    'registration_fees': '1',\n",
    "    'travel_accommodation': '2',\n",
    "    'fees': '11',\n",
    "    'related_expenses': ''\n",
    "    }, ignore_index=True)\n",
    "\n",
    "# Add HCP\n",
    "df_export = df_export.append({\n",
    "    'type':'hcp_amount',\n",
    "    'donations_grants': '',\n",
    "    'sponsorship': '20000',\n",
    "    'registration_fees': '138027.85',\n",
    "    'travel_accommodation': '437320.84',\n",
    "    'fees': '225450.62',\n",
    "    'related_expenses': '44229.31'\n",
    "    }, ignore_index=True)\n",
    "\n",
    "df_export = df_export.append({\n",
    "    'type':'hcp_count',\n",
    "    'donations_grants': '',\n",
    "    'sponsorship': '1',\n",
    "    'registration_fees': '362',\n",
    "    'travel_accommodation': '504',\n",
    "    'fees': '157',\n",
    "    'related_expenses': '26'\n",
    "    }, ignore_index=True)\n",
    "\n",
    "#Numberize and sum\n",
    "df_export = cleanup_number(df_export)\n",
    "df_export = amounts_to_number(df_export)\n",
    "df_export = sum_amounts(df_export)\n",
    "\n",
    "export_acumulations(df_export, 'bayer')"
   ]
  },
  {
   "cell_type": "code",
   "execution_count": null,
   "metadata": {},
   "outputs": [],
   "source": []
  },
  {
   "cell_type": "code",
   "execution_count": null,
   "metadata": {},
   "outputs": [],
   "source": []
  }
 ],
 "metadata": {
  "kernelspec": {
   "display_name": "Python 3",
   "language": "python",
   "name": "python3"
  },
  "language_info": {
   "codemirror_mode": {
    "name": "ipython",
    "version": 3
   },
   "file_extension": ".py",
   "mimetype": "text/x-python",
   "name": "python",
   "nbconvert_exporter": "python",
   "pygments_lexer": "ipython3",
   "version": "3.6.5"
  }
 },
 "nbformat": 4,
 "nbformat_minor": 2
}
