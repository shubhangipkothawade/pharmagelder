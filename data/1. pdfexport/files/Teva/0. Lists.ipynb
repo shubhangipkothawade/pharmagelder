{
 "cells": [
  {
   "cell_type": "markdown",
   "metadata": {},
   "source": [
    "# Teva - List\n",
    "## Wichtig\n",
    "* PDF-Konvertierung mit Tabula kommt immer schräg raus. Daher wird das PDF in eine HTML-Tabelle konvertiert. Dazu müssen aber händisch einige Schritte vorgenommen werden. Script folgen.\n",
    "* HCP & HCO manuell setzen!"
   ]
  },
  {
   "cell_type": "code",
   "execution_count": 1,
   "metadata": {},
   "outputs": [],
   "source": [
    "import sys\n",
    "sys.path.insert(0, '../../../lib/')\n",
    "\n",
    "import numpy as np\n",
    "import pandas as pd\n",
    "import importlib\n",
    "import pikepdf\n",
    "\n",
    "import pdfexport\n",
    "importlib.reload(pdfexport)\n",
    "\n",
    "from pdfexport import *"
   ]
  },
  {
   "cell_type": "markdown",
   "metadata": {},
   "source": [
    "## Unlock PDF\n",
    "Dieser Teil entfernt das Lock des PDFs, damit das PDF in HTML exportiert werden kann"
   ]
  },
  {
   "cell_type": "code",
   "execution_count": 2,
   "metadata": {},
   "outputs": [],
   "source": [
    "pdf = pikepdf.open('PKK Erfassung.Teva Pharma AG.20180427_ENG_Final.pdf')\n",
    "pdf.save('unlocked.pdf')"
   ]
  },
  {
   "cell_type": "markdown",
   "metadata": {},
   "source": [
    "## PDF to HTML\n",
    "Dieser Schritt muss **manuell** getätigt werden!\n",
    "* PDF `unlocked.pdf` in Adobe Acrobat (nicht Reader!) öffnen\n",
    "* Datei -> Exportieren in -> HTML Website\n",
    "* Speichern als `unlocked.html`\n",
    "* Bilder löschen"
   ]
  },
  {
   "cell_type": "markdown",
   "metadata": {},
   "source": [
    "## Import HTML"
   ]
  },
  {
   "cell_type": "code",
   "execution_count": 3,
   "metadata": {},
   "outputs": [],
   "source": [
    "df_list = pd.read_html(\"unlocked.html\", \"\")\n",
    "df = pd.concat(df_list)"
   ]
  },
  {
   "cell_type": "markdown",
   "metadata": {},
   "source": [
    "## Format Table"
   ]
  },
  {
   "cell_type": "code",
   "execution_count": 4,
   "metadata": {},
   "outputs": [
    {
     "name": "stdout",
     "output_type": "stream",
     "text": [
      "WARNING: Remember to set HCP, HCO and RnD manually!\n",
      "Duplicates found. Please check for duplicates: df_export[df_export.duplicated()]\n",
      "Total nicht Summe der Werte\n",
      "saved\n"
     ]
    }
   ],
   "source": [
    "df_export = df.copy()\n",
    "\n",
    "#Rename Columns\n",
    "df_export.columns = ['name', 'location', 'country', 'address', 'date', 'donations_grants', 'empty1', 'empty2', 'sponsorship', 'registration_fees','travel_accommodation', 'empty3', 'fees', 'related_expenses', 'total', 'empty4']\n",
    "\n",
    "#Shift\n",
    "df_export[df_export['name'].isna()] = df_export[df_export['name'].isna()].shift(-1, axis='columns')\n",
    "\n",
    "#Remove rows which have no values\n",
    "df_export = df_export.dropna(subset=['name'], how='all')\n",
    "\n",
    "#Remove rows which have no values\n",
    "df_export = df_export.dropna(subset=['total'], how='all')\n",
    "df_export = df_export[df_export['country'] != '‐']\n",
    "\n",
    "#Add Type\n",
    "df_export = df_export.reset_index(drop=True)\n",
    "index_hco = df_export[df_export['name'].str.contains(\"GRSSGO\", na=False)].index[0]\n",
    "df_export['type'] = np.where(df_export.index < index_hco, 'hcp', 'hco')\n",
    "add_warning(manually=True)\n",
    "\n",
    "#Remove Title\n",
    "df_export['name'] = df_export.name.str.replace(regex_title, '', regex=True, case=False)\n",
    "df_export['name'] = df_export.name.str.strip()\n",
    "\n",
    "#Revert Name\n",
    "df_export = revert_name(df_export, ', ')\n",
    "\n",
    "#Remove empty\n",
    "df_export.drop(columns=['date', 'empty1', 'empty2', 'empty3', 'empty4'], inplace=True)\n",
    "\n",
    "#Convert to Numbers\n",
    "df_export = cleanup_number(df_export)\n",
    "df_export = amounts_to_number(df_export)\n",
    "\n",
    "#Add Fields\n",
    "df_export = add_uci(df_export)\n",
    "df_export = add_plz(df_export)\n",
    "\n",
    "#basic string conversion\n",
    "df_export = basic_string_conversion(df_export)\n",
    "\n",
    "#Export\n",
    "export_list(df_export, 'teva')"
   ]
  },
  {
   "cell_type": "code",
   "execution_count": 24,
   "metadata": {},
   "outputs": [
    {
     "data": {
      "text/html": [
       "<div>\n",
       "<style scoped>\n",
       "    .dataframe tbody tr th:only-of-type {\n",
       "        vertical-align: middle;\n",
       "    }\n",
       "\n",
       "    .dataframe tbody tr th {\n",
       "        vertical-align: top;\n",
       "    }\n",
       "\n",
       "    .dataframe thead th {\n",
       "        text-align: right;\n",
       "    }\n",
       "</style>\n",
       "<table border=\"1\" class=\"dataframe\">\n",
       "  <thead>\n",
       "    <tr style=\"text-align: right;\">\n",
       "      <th></th>\n",
       "      <th>name</th>\n",
       "      <th>location</th>\n",
       "      <th>country</th>\n",
       "      <th>address</th>\n",
       "      <th>plz</th>\n",
       "      <th>donations_grants</th>\n",
       "      <th>uci</th>\n",
       "      <th>sponsorship</th>\n",
       "      <th>registration_fees</th>\n",
       "      <th>travel_accommodation</th>\n",
       "      <th>fees</th>\n",
       "      <th>related_expenses</th>\n",
       "      <th>total</th>\n",
       "      <th>type</th>\n",
       "      <th>source</th>\n",
       "    </tr>\n",
       "  </thead>\n",
       "  <tbody>\n",
       "    <tr>\n",
       "      <th>162</th>\n",
       "      <td>Universitätsspital Basel, Onkologie</td>\n",
       "      <td>Basel</td>\n",
       "      <td>CH</td>\n",
       "      <td>Petersgraben 4</td>\n",
       "      <td>NaN</td>\n",
       "      <td>NaN</td>\n",
       "      <td>NaN</td>\n",
       "      <td>1500.0</td>\n",
       "      <td>NaN</td>\n",
       "      <td>NaN</td>\n",
       "      <td>NaN</td>\n",
       "      <td>NaN</td>\n",
       "      <td>1500</td>\n",
       "      <td>hco</td>\n",
       "      <td>teva</td>\n",
       "    </tr>\n",
       "    <tr>\n",
       "      <th>176</th>\n",
       "      <td>Universität Zürich, Klinik für Neurologie</td>\n",
       "      <td>Zürich</td>\n",
       "      <td>CH</td>\n",
       "      <td>Frauenklinikstrasse 26</td>\n",
       "      <td>NaN</td>\n",
       "      <td>NaN</td>\n",
       "      <td>NaN</td>\n",
       "      <td>4000.0</td>\n",
       "      <td>NaN</td>\n",
       "      <td>NaN</td>\n",
       "      <td>NaN</td>\n",
       "      <td>NaN</td>\n",
       "      <td>4000</td>\n",
       "      <td>hco</td>\n",
       "      <td>teva</td>\n",
       "    </tr>\n",
       "    <tr>\n",
       "      <th>188</th>\n",
       "      <td>Ospedale Regionale di Lugano</td>\n",
       "      <td>Lugano</td>\n",
       "      <td>CH</td>\n",
       "      <td>Via Tesserete 46</td>\n",
       "      <td>NaN</td>\n",
       "      <td>NaN</td>\n",
       "      <td>NaN</td>\n",
       "      <td>2500.0</td>\n",
       "      <td>NaN</td>\n",
       "      <td>NaN</td>\n",
       "      <td>NaN</td>\n",
       "      <td>NaN</td>\n",
       "      <td>2500</td>\n",
       "      <td>hco</td>\n",
       "      <td>teva</td>\n",
       "    </tr>\n",
       "  </tbody>\n",
       "</table>\n",
       "</div>"
      ],
      "text/plain": [
       "                                          name location country  \\\n",
       "162        Universitätsspital Basel, Onkologie    Basel      CH   \n",
       "176  Universität Zürich, Klinik für Neurologie   Zürich      CH   \n",
       "188               Ospedale Regionale di Lugano   Lugano      CH   \n",
       "\n",
       "                    address  plz  donations_grants  uci  sponsorship  \\\n",
       "162          Petersgraben 4  NaN               NaN  NaN       1500.0   \n",
       "176  Frauenklinikstrasse 26  NaN               NaN  NaN       4000.0   \n",
       "188        Via Tesserete 46  NaN               NaN  NaN       2500.0   \n",
       "\n",
       "     registration_fees  travel_accommodation  fees  related_expenses  total  \\\n",
       "162                NaN                   NaN   NaN               NaN   1500   \n",
       "176                NaN                   NaN   NaN               NaN   4000   \n",
       "188                NaN                   NaN   NaN               NaN   2500   \n",
       "\n",
       "    type source  \n",
       "162  hco   teva  \n",
       "176  hco   teva  \n",
       "188  hco   teva  "
      ]
     },
     "execution_count": 24,
     "metadata": {},
     "output_type": "execute_result"
    }
   ],
   "source": [
    "df_export[df_export.duplicated()]"
   ]
  },
  {
   "cell_type": "code",
   "execution_count": null,
   "metadata": {},
   "outputs": [],
   "source": [
    "#write_to_csv(df_export, 'tmp.csv')\n",
    "#write_to_excel(df_export, 'tmp.xlsx')"
   ]
  }
 ],
 "metadata": {
  "kernelspec": {
   "display_name": "Python 3",
   "language": "python",
   "name": "python3"
  },
  "language_info": {
   "codemirror_mode": {
    "name": "ipython",
    "version": 3
   },
   "file_extension": ".py",
   "mimetype": "text/x-python",
   "name": "python",
   "nbconvert_exporter": "python",
   "pygments_lexer": "ipython3",
   "version": "3.6.5"
  }
 },
 "nbformat": 4,
 "nbformat_minor": 2
}
