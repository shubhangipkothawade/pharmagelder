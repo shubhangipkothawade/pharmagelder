{
 "cells": [
  {
   "cell_type": "markdown",
   "metadata": {},
   "source": [
    "# Zambon - List\n",
    "\n",
    "## Wichtig\n",
    "* PDF-Konvertierung mit Tabula kommt immer schräg raus. Daher wird das PDF in eine HTML-Tabelle konvertiert. Dazu müssen aber händisch einige Schritte vorgenommen werden. Script folgen."
   ]
  },
  {
   "cell_type": "code",
   "execution_count": 36,
   "metadata": {},
   "outputs": [],
   "source": [
    "import sys\n",
    "sys.path.insert(0, '../../../lib/')\n",
    "\n",
    "import tabula\n",
    "import numpy as np\n",
    "import pandas as pd\n",
    "import copy\n",
    "import importlib\n",
    "import re\n",
    "\n",
    "import pdfexport\n",
    "importlib.reload(pdfexport)\n",
    "\n",
    "from pdfexport import *"
   ]
  },
  {
   "cell_type": "markdown",
   "metadata": {},
   "source": [
    "## PDF to HTML\n",
    "Dieser Schritt muss **manuell** getätigt werden!\n",
    "* PDF `WEB Zambon CH 2018 (Stand am 20.06.2019)_0.pdf` in Adobe Acrobat (nicht Reader!) öffnen\n",
    "* Datei -> Exportieren in -> HTML Website\n",
    "* Speichern als `website_dump.html`"
   ]
  },
  {
   "cell_type": "markdown",
   "metadata": {},
   "source": [
    "## Import HTML"
   ]
  },
  {
   "cell_type": "code",
   "execution_count": 89,
   "metadata": {},
   "outputs": [],
   "source": [
    "df_list = pd.read_html(\"website_dump.html\", \"\",  parse_dates=False, thousands='~')\n",
    "df = pd.concat(df_list)"
   ]
  },
  {
   "cell_type": "markdown",
   "metadata": {},
   "source": [
    "## Format Table"
   ]
  },
  {
   "cell_type": "code",
   "execution_count": 90,
   "metadata": {},
   "outputs": [
    {
     "name": "stdout",
     "output_type": "stream",
     "text": [
      "Total nicht Summe der Werte\n",
      "saved\n"
     ]
    }
   ],
   "source": [
    "df_export = df.copy()\n",
    "\n",
    "#Rename Columns\n",
    "df_export.columns = ['name', 'location', 'country', 'address', 'uci', 'donations_grants', 'sponsorship', 'registration_fees','travel_accommodation', 'fees', 'related_expenses', 'empty1', 'total', 'empty2', 'empty3']\n",
    "\n",
    "#Replace by string\n",
    "df_export.loc[df_export['location'] == 'HCPs', 'location'] = np.nan\n",
    "df_export.loc[df_export['location'] == 'HCOs', 'location'] = np.nan\n",
    "\n",
    "#Shift\n",
    "df_export['empty1'] = df_export['empty1'].fillna(\"\")\n",
    "df_export['empty2'] = df_export['empty2'].fillna(\"\")\n",
    "df_export['empty3'] = df_export['empty3'].fillna(\"\")\n",
    "df_export['empty1'] = df_export['empty1'].astype(str)\n",
    "df_export['empty2'] = df_export['empty2'].astype(str)\n",
    "df_export['empty3'] = df_export['empty3'].astype(str)\n",
    "df_export[df_export['empty3'] != \"\"] = df_export[df_export['empty3'] != \"\"].shift(-2, axis='columns')\n",
    "\n",
    "#Add Type\n",
    "df_export = df_export.reset_index(drop=True)\n",
    "index_hco = df_export[df_export['name'].str.contains(\"OTHER, NOT INCLUDED\", na=False)].index[0]\n",
    "df_export['type'] = np.where(df_export.index < index_hco, 'hcp', 'hco')\n",
    "\n",
    "#Remove empty rows\n",
    "df_export = df_export.dropna(subset=['name'], how='all')\n",
    "df_export = df_export.dropna(subset=['total'], how='all')\n",
    "\n",
    "#Remove empty\n",
    "df_export.drop(columns=['empty1', 'empty2', 'empty3'], inplace=True)\n",
    "\n",
    "#Reomve by str\n",
    "df_export = df_export[~df_export['name'].str.contains(\"R&D\")]\n",
    "\n",
    "#Convert to Numbers\n",
    "df_export = replace_comma_to_dot(df_export)\n",
    "df_export = amounts_to_number(df_export)\n",
    "\n",
    "#Reorder columns\n",
    "df_export = add_plz(df_export)\n",
    "df_export = df_export[fix_columns[:-1]]\n",
    "\n",
    "#basic string conversion\n",
    "df_export = basic_string_conversion(df_export)\n",
    "\n",
    "export_list(df_export, 'zambon')"
   ]
  },
  {
   "cell_type": "code",
   "execution_count": null,
   "metadata": {},
   "outputs": [],
   "source": [
    "#write_to_csv(df_export, 'tmp.csv')\n",
    "#write_to_excel(df_export, 'tmp.xlsx', open=True)"
   ]
  }
 ],
 "metadata": {
  "kernelspec": {
   "display_name": "Python 3",
   "language": "python",
   "name": "python3"
  },
  "language_info": {
   "codemirror_mode": {
    "name": "ipython",
    "version": 3
   },
   "file_extension": ".py",
   "mimetype": "text/x-python",
   "name": "python",
   "nbconvert_exporter": "python",
   "pygments_lexer": "ipython3",
   "version": "3.6.5"
  }
 },
 "nbformat": 4,
 "nbformat_minor": 2
}
