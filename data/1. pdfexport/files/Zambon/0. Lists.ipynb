{
 "cells": [
  {
   "cell_type": "markdown",
   "metadata": {},
   "source": [
    "# Zambon - List\n",
    "\n",
    "## Beachten\n",
    "* Kein PDF vorhanden. Zambon bietet nur eine Website. Vorgehen:\n",
    " * Website öffnen: http://www.zambon-ch.ch/de/disclosure/\n",
    " * Kompletter Quellcode der Website (`Rechtsklick` -> `Seite Speichern unter`) rauskopieren und in Datei `website_dump.html` speichern\n",
    "* Type manuell hinzufügen"
   ]
  },
  {
   "cell_type": "code",
   "execution_count": 1,
   "metadata": {},
   "outputs": [],
   "source": [
    "import sys\n",
    "sys.path.insert(0, '../../../lib/')\n",
    "\n",
    "from bs4 import BeautifulSoup\n",
    "import numpy as np\n",
    "import pandas as pd\n",
    "import copy\n",
    "import importlib\n",
    "import re\n",
    "\n",
    "import pdfexport\n",
    "importlib.reload(pdfexport)\n",
    "\n",
    "from pdfexport import *"
   ]
  },
  {
   "cell_type": "markdown",
   "metadata": {},
   "source": [
    "## Import HTML with Beautiful Soup"
   ]
  },
  {
   "cell_type": "code",
   "execution_count": 2,
   "metadata": {},
   "outputs": [],
   "source": [
    "with open(\"website_dump.html\") as fp:\n",
    "    soup = BeautifulSoup(fp, 'html.parser')\n",
    "    \n",
    "tbl = soup.find(\"table\", class_=\"sheet0\")"
   ]
  },
  {
   "cell_type": "code",
   "execution_count": 3,
   "metadata": {},
   "outputs": [],
   "source": [
    "record_list = []\n",
    "counter = 0\n",
    "for row in tbl.find_all(\"tr\", recursive=True):\n",
    "    #Skip header\n",
    "    counter += 1\n",
    "    if counter < 6:\n",
    "        continue\n",
    "       \n",
    "    #Skip if not exactle 13 cells\n",
    "    if len(row.find_all('td')) != 13:\n",
    "        continue\n",
    "\n",
    "    record = {}\n",
    "    record['name'] = row.find('td', class_='column2').text\n",
    "    record['location'] = row.find('td', class_='column3').text\n",
    "    record['country'] = row.find('td', class_='column4').text\n",
    "    record['address'] = row.find('td', class_='column5').text\n",
    "    record['uci'] = row.find('td', class_='column6').text\n",
    "    record['donations_grants'] = row.find('td', class_='column7').text\n",
    "    record['sponsorship'] = row.find('td', class_='column8').text\n",
    "    record['registration_fees'] = row.find('td', class_='column9').text\n",
    "    record['travel_accommodation'] = row.find('td', class_='column10').text\n",
    "    record['fees'] = row.find('td', class_='column11').text\n",
    "    record['related_expenses'] = row.find('td', class_='column12').text\n",
    "    record['total'] = row.find('td', class_='column14').text\n",
    "\n",
    "    record_list.append(record)"
   ]
  },
  {
   "cell_type": "code",
   "execution_count": 4,
   "metadata": {},
   "outputs": [],
   "source": [
    "#Load Dataframe\n",
    "df = pd.DataFrame(record_list)"
   ]
  },
  {
   "cell_type": "markdown",
   "metadata": {},
   "source": [
    "## Format Table"
   ]
  },
  {
   "cell_type": "code",
   "execution_count": 5,
   "metadata": {},
   "outputs": [
    {
     "name": "stdout",
     "output_type": "stream",
     "text": [
      "WARNING: Remember to set HCP, HCO and RnD manually!\n",
      "saved\n"
     ]
    }
   ],
   "source": [
    "df_export = df.copy()\n",
    "\n",
    "#Remove rows without values\n",
    "df_export = df_export[df_export['country'] != '']\n",
    "\n",
    "#Add missing fields\n",
    "df_export.insert(0, 'plz', '')\n",
    "\n",
    "#Add Type\n",
    "index_hco = df_export[df_export['name'].str.contains(\"Parkinson Schweiz\", na=False)].index[0]\n",
    "df_export['type'] = np.where(df_export.index < index_hco, 'hcp', 'hco')\n",
    "add_warning(manually=True)\n",
    "\n",
    "#Convert to Numbers & Sum\n",
    "df_export = amounts_to_number(df_export)\n",
    "\n",
    "#Reorder columns\n",
    "df_export = df_export[fix_columns[:-1]]\n",
    "\n",
    "#basic string conversion\n",
    "df_export = basic_string_conversion(df_export)\n",
    "\n",
    "export_list(df_export, 'zambon')"
   ]
  },
  {
   "cell_type": "code",
   "execution_count": null,
   "metadata": {},
   "outputs": [],
   "source": [
    "#write_to_csv(df_export, 'tmp.csv')\n",
    "#write_to_excel(df_export, 'tmp.xlsx')"
   ]
  }
 ],
 "metadata": {
  "kernelspec": {
   "display_name": "Python 3",
   "language": "python",
   "name": "python3"
  },
  "language_info": {
   "codemirror_mode": {
    "name": "ipython",
    "version": 3
   },
   "file_extension": ".py",
   "mimetype": "text/x-python",
   "name": "python",
   "nbconvert_exporter": "python",
   "pygments_lexer": "ipython3",
   "version": "3.6.5"
  }
 },
 "nbformat": 4,
 "nbformat_minor": 2
}
