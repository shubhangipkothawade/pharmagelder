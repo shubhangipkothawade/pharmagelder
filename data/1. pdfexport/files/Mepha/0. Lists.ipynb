{
 "cells": [
  {
   "cell_type": "markdown",
   "metadata": {},
   "source": [
    "# Mepha - List\n",
    "## Wichtig\n",
    "* Manche Adressen enthalten \"touring\". Nachträglich entfernen\n",
    "* Spalten evt anpassen"
   ]
  },
  {
   "cell_type": "code",
   "execution_count": 190,
   "metadata": {},
   "outputs": [],
   "source": [
    "import sys\n",
    "sys.path.insert(0, '../../../lib/')\n",
    "\n",
    "import numpy as np\n",
    "import pandas as pd\n",
    "import importlib\n",
    "import pikepdf\n",
    "\n",
    "import pdfexport\n",
    "importlib.reload(pdfexport)\n",
    "\n",
    "from pdfexport import *\n",
    "import tabula"
   ]
  },
  {
   "cell_type": "markdown",
   "metadata": {},
   "source": [
    "## Unlock PDF\n",
    "Dieser Teil entfernt den Passwortschutz, damit das PDF in HTML exportiert werden kann"
   ]
  },
  {
   "cell_type": "code",
   "execution_count": 191,
   "metadata": {},
   "outputs": [],
   "source": [
    "pdf = pikepdf.open('switzerland-2019-disclosure-19.06.2020.pdf')\n",
    "pdf.save('unlocked.pdf')"
   ]
  },
  {
   "cell_type": "code",
   "execution_count": 192,
   "metadata": {},
   "outputs": [],
   "source": [
    "columns = [46.8, 183.8, 244.8, 286.5, 372.9, 420.5, 484, 618.5, 657.2, 727.2, 791.2, 858.2, 926.7, 975.8, 1053.2]\n",
    "df = tabula.read_pdf(\"unlocked.pdf\", pages='all', lattice=False, columns=columns, guess=False, pandas_options={'header': None})"
   ]
  },
  {
   "cell_type": "markdown",
   "metadata": {},
   "source": [
    "## Format Table"
   ]
  },
  {
   "cell_type": "code",
   "execution_count": 193,
   "metadata": {},
   "outputs": [
    {
     "name": "stdout",
     "output_type": "stream",
     "text": [
      "saved\n"
     ]
    }
   ],
   "source": [
    "df_export = df.copy()\n",
    "\n",
    "#Rename\n",
    "df_export.columns = ['empty0', 'name', 'location', 'country', 'address', 'empty2', 'donations_grants', 'empty4', 'empty5', 'sponsorship', 'registration_fees','travel_accommodation', 'empty6', 'fees', 'related_expenses', 'total']\n",
    "\n",
    "#Replace Strings\n",
    "df_export.loc[df_export['name'].str.contains('Health Care Professionals', na=False), 'name'] = np.nan\n",
    "df_export.loc[df_export['name'].str.contains('Health Care Organisations', na=False), 'name'] = np.nan\n",
    "\n",
    "df_export['name'] = df_export['name'].fillna('')\n",
    "df_export['location'] = df_export['location'].fillna('')\n",
    "df_export['country'] = df_export['country'].fillna('')\n",
    "df_export['address'] = df_export['address'].fillna('')\n",
    "\n",
    "\n",
    "#Multiline-Name is on different rows. Put them together\n",
    "for index, row in df_export.iterrows():\n",
    "    if (row['country'] == '') and (row['location'] == '') and (row['name'] != ''):\n",
    "        df_export.iloc[index + 1]['name'] = row['name'] + ' ' + df_export.iloc[index + 1]['name']\n",
    "        #df_export.iloc[index + 1]['empty2'] = row['empty2']\n",
    "        \n",
    "#Multiline-Address is on different rows. Put them together\n",
    "for index, row in df_export.iterrows():\n",
    "    if (row['country'] == '') and (row['location'] == '') and (row['address'] != ''):\n",
    "        df_export.iloc[index + 1]['address'] = row['address'] + ' ' + df_export.iloc[index + 1]['address']\n",
    "        \n",
    "#Remove empty rows\n",
    "df_export.loc[df_export['total'] == '', 'total'] = np.nan\n",
    "df_export.loc[df_export['name'] == '', 'name'] = np.nan\n",
    "df_export = df_export.dropna(subset=['total'], how='all')\n",
    "df_export = df_export.dropna(subset=['name'], how='all')\n",
    "#df_export = df_export.dropna(subset=['empty2'], how='all')\n",
    "\n",
    "#Drop Sponsorship = '-'\n",
    "df_export = df_export[df_export['sponsorship'] != '-']\n",
    "df_export = df_export[df_export['location'] != '‐']\n",
    "df_export['name'] = df_export['name'].str.strip()\n",
    "df_export = df_export[df_export['name'] != 'turing']\n",
    "\n",
    "#Remove empty columns\n",
    "df_export.drop(columns=['empty0', 'empty2', 'empty4', 'empty5', 'empty6'], inplace=True)\n",
    "\n",
    "#Add Type manually\n",
    "first_hco = 'Swiss Federation of Clinical Neuro‐Societies c/o IMK Institut für Medizin und Kommunikation'\n",
    "index = df_export[df_export['name'] == first_hco].index[0]\n",
    "df_export.loc[0: index, 'type'] = 'hcp'\n",
    "df_export.loc[index:, 'type'] = 'hco'\n",
    "\n",
    "#Convert to Numbers\n",
    "df_export = cleanup_number(df_export)\n",
    "df_export = amounts_to_number(df_export)\n",
    "df_export = sum_amounts(df_export)\n",
    "\n",
    "#Add Fields\n",
    "df_export = add_uci(df_export)\n",
    "df_export = add_plz(df_export)\n",
    "\n",
    "#Copy PLZ from HCO Location to PLZ\n",
    "df_export['plz'] = df_export.location.str.extract(r' (\\d{4})')\n",
    "df_export['location'] = df_export.location.str.replace(r' (\\d{4})', '')\n",
    "\n",
    "#Revert name\n",
    "df_export = revert_name(df_export, ', ')\n",
    "df_export['name'] = df_export['name'].str.replace(\"  \", \" \")\n",
    "\n",
    "#basic string conversion\n",
    "df_export = basic_string_conversion(df_export)\n",
    "df_export.loc[df_export['name'] == '', 'name'] = np.nan\n",
    "\n",
    "export_list(df_export, 'mepha')"
   ]
  },
  {
   "cell_type": "code",
   "execution_count": 194,
   "metadata": {},
   "outputs": [],
   "source": [
    "#write_to_csv(df_export, 'tmp.csv')\n",
    "#write_to_excel(df_export, 'tmp.xlsx', open=True)"
   ]
  }
 ],
 "metadata": {
  "kernelspec": {
   "display_name": "Python 3",
   "language": "python",
   "name": "python3"
  },
  "language_info": {
   "codemirror_mode": {
    "name": "ipython",
    "version": 3
   },
   "file_extension": ".py",
   "mimetype": "text/x-python",
   "name": "python",
   "nbconvert_exporter": "python",
   "pygments_lexer": "ipython3",
   "version": "3.6.5"
  }
 },
 "nbformat": 4,
 "nbformat_minor": 2
}
