{
 "cells": [
  {
   "cell_type": "markdown",
   "metadata": {},
   "source": [
    "# Mepha - List\n",
    "## Wichtig\n",
    "* PDF-Konvertierung mit Tabula kommt immer schräg raus. Daher wird das PDF in eine HTML-Tabelle konvertiert. Dazu müssen aber händisch einige Schritte vorgenommen werden. Script folgen.\n",
    "* HCP & HCO manuell setzen!"
   ]
  },
  {
   "cell_type": "code",
   "execution_count": null,
   "metadata": {},
   "outputs": [],
   "source": [
    "import sys\n",
    "sys.path.insert(0, '../../../lib/')\n",
    "\n",
    "import numpy as np\n",
    "import pandas as pd\n",
    "import importlib\n",
    "import lxml\n",
    "import pikepdf\n",
    "\n",
    "import pdfexport\n",
    "importlib.reload(pdfexport)\n",
    "\n",
    "from pdfexport import *"
   ]
  },
  {
   "cell_type": "markdown",
   "metadata": {},
   "source": [
    "## Unlock PDF\n",
    "Dieser Teil entfernt den Passwortschutz, damit das PDF in HTML exportiert werden kann"
   ]
  },
  {
   "cell_type": "code",
   "execution_count": 2,
   "metadata": {},
   "outputs": [],
   "source": [
    "pdf = pikepdf.open('pkk-erfassungmepha-pharma-ag20180427_eng_final.pdf')\n",
    "pdf.save('unlocked.pdf')"
   ]
  },
  {
   "cell_type": "markdown",
   "metadata": {},
   "source": [
    "## PDF to HTML\n",
    "Dieser Schritt muss **manuell** getätigt werden!\n",
    "* PDF `unlocked.pdf` in Adobe Acrobat (nicht Reader!) öffnen\n",
    "* Datei -> Exportieren in -> HTML Website\n",
    "* Speichern als `unlocked.html`"
   ]
  },
  {
   "cell_type": "markdown",
   "metadata": {},
   "source": [
    "## Import HTML"
   ]
  },
  {
   "cell_type": "code",
   "execution_count": 3,
   "metadata": {},
   "outputs": [],
   "source": [
    "df_list = pd.read_html(\"unlocked.html\", \"\")\n",
    "df = pd.concat(df_list)"
   ]
  },
  {
   "cell_type": "markdown",
   "metadata": {},
   "source": [
    "## Format Table"
   ]
  },
  {
   "cell_type": "code",
   "execution_count": 4,
   "metadata": {},
   "outputs": [
    {
     "name": "stdout",
     "output_type": "stream",
     "text": [
      "Duplicates found. Please check for duplicates: df_export[df_export.duplicated()]\n",
      "Total nicht Summe der Werte\n",
      "saved\n"
     ]
    }
   ],
   "source": [
    "df_export = df.copy()\n",
    "\n",
    "#Rename Columns\n",
    "df_export.columns = ['name', 'location', 'country', 'address', 'date', 'donations_grants', 'empty1', 'empty2', 'sponsorship', 'registration_fees','travel_accommodation', 'empty3', 'fees', 'related_expenses', 'total', 'empty4']\n",
    "\n",
    "#Multiline-Address is on different rows. Put them together\n",
    "for index, row in df_export.iterrows():\n",
    "    if not isinstance(row['country'], str) and not isinstance(row['location'], str) and isinstance(row['address'], str):\n",
    "        df_export.iloc[index + 1]['address'] = row['address'] + ' ' + df_export.iloc[index + 1]['address']\n",
    "\n",
    "#Shift\n",
    "df_export[df_export['name'].isna()] = df_export[df_export['name'].isna()].shift(-1, axis='columns')\n",
    "\n",
    "#Remove rows which have no values\n",
    "df_export = df_export.dropna(subset=['name'], how='all')\n",
    "df_export = df_export[~df_export['name'].str.contains(\"HCP\")]\n",
    "df_export = df_export.reset_index(drop=True)\n",
    "\n",
    "#Move Cells from the first page\n",
    "copy = df_export['total'].isna()\n",
    "\n",
    "\n",
    "df_export.loc[copy, 'total'] = df_export['empty3']\n",
    "df_export.loc[copy, 'empty3'] = np.NaN\n",
    "\n",
    "df_export.loc[copy, 'fees'] = df_export['travel_accommodation']\n",
    "df_export.loc[copy, 'travel_accommodation'] = np.NaN\n",
    "\n",
    "df_export.loc[copy, 'empty3'] = df_export['registration_fees']\n",
    "df_export.loc[copy, 'registration_fees'] = np.NaN\n",
    "\n",
    "df_export.loc[copy, 'registration_fees'] = df_export['sponsorship']\n",
    "df_export.loc[copy, 'sponsorship'] = np.NaN\n",
    "\n",
    "#Remove rows which have no values\n",
    "df_export = df_export.dropna(subset=['total'], how='all')\n",
    "df_export = df_export[df_export['country'] != '‐']\n",
    "df_export = df_export.reset_index(drop=True)\n",
    "\n",
    "#Remove empty\n",
    "df_export.drop(columns=['date', 'empty1', 'empty2', 'empty3', 'empty4'], inplace=True)\n",
    "\n",
    "#Convert to Numbers\n",
    "df_export = cleanup_number(df_export)\n",
    "df_export = amounts_to_number(df_export)\n",
    "\n",
    "#Add Fields\n",
    "df_export = add_uci(df_export)\n",
    "df_export = add_plz(df_export)\n",
    "\n",
    "#Add Type manually\n",
    "first_hco = 'Association Quadrimed'\n",
    "index = df_export[df_export['name'] == first_hco].index[0]\n",
    "df_export.loc[0: index, 'type'] = 'hcp'\n",
    "df_export.loc[index:, 'type'] = 'hco'\n",
    "\n",
    "#basic string conversion\n",
    "df_export = basic_string_conversion(df_export)\n",
    "\n",
    "export_list(df_export, 'mepha')\n"
   ]
  },
  {
   "cell_type": "code",
   "execution_count": null,
   "metadata": {},
   "outputs": [],
   "source": [
    "#write_to_csv(df_export, 'tmp.csv')\n",
    "#write_to_excel(df_export, 'tmp.xlsx')"
   ]
  }
 ],
 "metadata": {
  "kernelspec": {
   "display_name": "Python 3",
   "language": "python",
   "name": "python3"
  },
  "language_info": {
   "codemirror_mode": {
    "name": "ipython",
    "version": 3
   },
   "file_extension": ".py",
   "mimetype": "text/x-python",
   "name": "python",
   "nbconvert_exporter": "python",
   "pygments_lexer": "ipython3",
   "version": "3.6.5"
  }
 },
 "nbformat": 4,
 "nbformat_minor": 2
}
