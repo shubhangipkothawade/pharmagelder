{
 "cells": [
  {
   "cell_type": "markdown",
   "metadata": {},
   "source": [
    "# Mepha - List\n",
    "## Wichtig\n",
    "* PDF-Konvertierung mit Tabula kommt immer schräg raus. Daher wird das PDF in eine HTML-Tabelle konvertiert. Dazu müssen aber händisch einige Schritte vorgenommen werden. Script folgen.\n",
    "* HCP & HCO manuell setzen!\n",
    "* In 2018, Mepha calculated number of participants to values... recalculate everything."
   ]
  },
  {
   "cell_type": "code",
   "execution_count": 1,
   "metadata": {},
   "outputs": [],
   "source": [
    "import sys\n",
    "sys.path.insert(0, '../../../lib/')\n",
    "\n",
    "import numpy as np\n",
    "import pandas as pd\n",
    "import importlib\n",
    "import pikepdf\n",
    "\n",
    "import pdfexport\n",
    "importlib.reload(pdfexport)\n",
    "\n",
    "from pdfexport import *"
   ]
  },
  {
   "cell_type": "markdown",
   "metadata": {},
   "source": [
    "## Unlock PDF\n",
    "Dieser Teil entfernt den Passwortschutz, damit das PDF in HTML exportiert werden kann"
   ]
  },
  {
   "cell_type": "code",
   "execution_count": null,
   "metadata": {},
   "outputs": [],
   "source": [
    "pdf = pikepdf.open('pkk-erfassungmepha-pharma-ag_eng_final_250619_ss.pdf')\n",
    "pdf.save('unlocked.pdf')"
   ]
  },
  {
   "cell_type": "markdown",
   "metadata": {},
   "source": [
    "## PDF to HTML\n",
    "Dieser Schritt muss **manuell** getätigt werden!\n",
    "* PDF `unlocked.pdf` in Adobe Acrobat (nicht Reader!) öffnen\n",
    "* Datei -> Exportieren in -> HTML Website\n",
    "* Speichern als `unlocked.html`"
   ]
  },
  {
   "cell_type": "markdown",
   "metadata": {},
   "source": [
    "## Import HTML"
   ]
  },
  {
   "cell_type": "code",
   "execution_count": 2,
   "metadata": {},
   "outputs": [],
   "source": [
    "df_list = pd.read_html(\"unlocked.html\", \"\")\n",
    "df = pd.concat(df_list)"
   ]
  },
  {
   "cell_type": "markdown",
   "metadata": {},
   "source": [
    "## Format Table"
   ]
  },
  {
   "cell_type": "code",
   "execution_count": 16,
   "metadata": {},
   "outputs": [
    {
     "name": "stdout",
     "output_type": "stream",
     "text": [
      "Duplicates found. Please check for duplicates: df_export[df_export.duplicated()]\n",
      "saved\n"
     ]
    }
   ],
   "source": [
    "df_export = df.copy()\n",
    "\n",
    "#Rename Columns\n",
    "df_export.columns = ['name', 'location', 'country', 'address', 'date', 'donations_grants', 'empty1', 'empty2', 'sponsorship', 'registration_fees','travel_accommodation', 'empty3', 'fees', 'related_expenses', 'total', 'empty4']\n",
    "\n",
    "#Replace Strings\n",
    "df_export.loc[df_export['name'].str.contains('Health Care Professionals', na=False), 'name'] = np.nan\n",
    "df_export.loc[df_export['name'].str.contains('Health Care Organisations', na=False), 'name'] = np.nan\n",
    "\n",
    "#Multiline-Address is on different rows. Put them together\n",
    "for index, row in df_export.iterrows():\n",
    "    if not isinstance(row['country'], str) and not isinstance(row['location'], str) and isinstance(row['address'], str):\n",
    "        df_export.iloc[index + 1]['address'] = row['address'] + ' ' + df_export.iloc[index + 1]['address']\n",
    "\n",
    "#Shift\n",
    "df_export[df_export['name'].isna()] = df_export[df_export['name'].isna()].shift(-1, axis='columns')\n",
    "\n",
    "#Remove rows which have no values\n",
    "df_export = df_export.dropna(subset=['name'], how='all')\n",
    "df_export = df_export[~df_export['name'].str.contains(\"HCP\")]\n",
    "df_export = df_export.reset_index(drop=True)\n",
    "\n",
    "#Move Cells from the first page\n",
    "copy = df_export['total'].isna()\n",
    "\n",
    "df_export.loc[copy, 'total'] = df_export['empty3']\n",
    "df_export.loc[copy, 'empty3'] = np.NaN\n",
    "\n",
    "df_export.loc[copy, 'fees'] = df_export['travel_accommodation']\n",
    "df_export.loc[copy, 'travel_accommodation'] = np.NaN\n",
    "\n",
    "df_export.loc[copy, 'empty3'] = df_export['registration_fees']\n",
    "df_export.loc[copy, 'registration_fees'] = np.NaN\n",
    "\n",
    "df_export.loc[copy, 'registration_fees'] = df_export['sponsorship']\n",
    "df_export.loc[copy, 'sponsorship'] = np.NaN\n",
    "\n",
    "#Remove rows which have no values\n",
    "df_export = df_export.dropna(subset=['total'], how='all')\n",
    "df_export = df_export[df_export['country'] != '‐']\n",
    "df_export = df_export.reset_index(drop=True)\n",
    "\n",
    "#Remove empty\n",
    "df_export.drop(columns=['date', 'empty1', 'empty2', 'empty3', 'empty4'], inplace=True)\n",
    "\n",
    "#Remove Total and recalculate it\n",
    "df_export['total'] = 0\n",
    "\n",
    "#Convert to Numbers\n",
    "df_export = cleanup_number(df_export)\n",
    "df_export = amounts_to_number(df_export)\n",
    "df_export = sum_amounts(df_export)\n",
    "\n",
    "\n",
    "#Add Fields\n",
    "df_export = add_uci(df_export)\n",
    "df_export = add_plz(df_export)\n",
    "\n",
    "#Add Type manually\n",
    "first_hco = 'Hausärztlicher Qualitätszirkel Amriswil'\n",
    "index = df_export[df_export['name'] == first_hco].index[0]\n",
    "df_export.loc[0: index, 'type'] = 'hcp'\n",
    "df_export.loc[index:, 'type'] = 'hco'\n",
    "\n",
    "#Revert name\n",
    "df_export = revert_name(df_export, ', ')\n",
    "\n",
    "#basic string conversion\n",
    "df_export = basic_string_conversion(df_export)\n",
    "\n",
    "export_list(df_export, 'mepha')"
   ]
  },
  {
   "cell_type": "code",
   "execution_count": 4,
   "metadata": {},
   "outputs": [
    {
     "data": {
      "text/html": [
       "<div>\n",
       "<style scoped>\n",
       "    .dataframe tbody tr th:only-of-type {\n",
       "        vertical-align: middle;\n",
       "    }\n",
       "\n",
       "    .dataframe tbody tr th {\n",
       "        vertical-align: top;\n",
       "    }\n",
       "\n",
       "    .dataframe thead th {\n",
       "        text-align: right;\n",
       "    }\n",
       "</style>\n",
       "<table border=\"1\" class=\"dataframe\">\n",
       "  <thead>\n",
       "    <tr style=\"text-align: right;\">\n",
       "      <th></th>\n",
       "      <th>name</th>\n",
       "      <th>location</th>\n",
       "      <th>country</th>\n",
       "      <th>address</th>\n",
       "      <th>plz</th>\n",
       "      <th>donations_grants</th>\n",
       "      <th>uci</th>\n",
       "      <th>sponsorship</th>\n",
       "      <th>registration_fees</th>\n",
       "      <th>travel_accommodation</th>\n",
       "      <th>fees</th>\n",
       "      <th>related_expenses</th>\n",
       "      <th>total</th>\n",
       "      <th>type</th>\n",
       "      <th>_export_information</th>\n",
       "      <th>source</th>\n",
       "    </tr>\n",
       "  </thead>\n",
       "  <tbody>\n",
       "    <tr>\n",
       "      <th>111</th>\n",
       "      <td>Forum für medizinische Fortbildung</td>\n",
       "      <td>Baar</td>\n",
       "      <td>CH</td>\n",
       "      <td>Oberneuhofstrasse 6</td>\n",
       "      <td>NaN</td>\n",
       "      <td>NaN</td>\n",
       "      <td>NaN</td>\n",
       "      <td>5700.0</td>\n",
       "      <td>NaN</td>\n",
       "      <td>NaN</td>\n",
       "      <td>NaN</td>\n",
       "      <td>NaN</td>\n",
       "      <td>5700.0</td>\n",
       "      <td>hco</td>\n",
       "      <td>NaN</td>\n",
       "      <td>mepha</td>\n",
       "    </tr>\n",
       "  </tbody>\n",
       "</table>\n",
       "</div>"
      ],
      "text/plain": [
       "                                   name location country              address  \\\n",
       "111  Forum für medizinische Fortbildung     Baar      CH  Oberneuhofstrasse 6   \n",
       "\n",
       "     plz  donations_grants  uci  sponsorship  registration_fees  \\\n",
       "111  NaN               NaN  NaN       5700.0                NaN   \n",
       "\n",
       "     travel_accommodation  fees  related_expenses   total type  \\\n",
       "111                   NaN   NaN               NaN  5700.0  hco   \n",
       "\n",
       "    _export_information source  \n",
       "111                 NaN  mepha  "
      ]
     },
     "execution_count": 4,
     "metadata": {},
     "output_type": "execute_result"
    }
   ],
   "source": [
    "df_export[df_export.duplicated()]"
   ]
  },
  {
   "cell_type": "code",
   "execution_count": 15,
   "metadata": {},
   "outputs": [],
   "source": [
    "#write_to_csv(df_export, 'tmp.csv')\n",
    "#write_to_excel(df_export, 'tmp.xlsx', open=True)"
   ]
  },
  {
   "cell_type": "code",
   "execution_count": null,
   "metadata": {},
   "outputs": [],
   "source": []
  }
 ],
 "metadata": {
  "kernelspec": {
   "display_name": "Python 3",
   "language": "python",
   "name": "python3"
  },
  "language_info": {
   "codemirror_mode": {
    "name": "ipython",
    "version": 3
   },
   "file_extension": ".py",
   "mimetype": "text/x-python",
   "name": "python",
   "nbconvert_exporter": "python",
   "pygments_lexer": "ipython3",
   "version": "3.6.5"
  }
 },
 "nbformat": 4,
 "nbformat_minor": 2
}
