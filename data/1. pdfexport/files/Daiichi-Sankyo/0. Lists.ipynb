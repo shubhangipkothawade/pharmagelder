{
 "cells": [
  {
   "cell_type": "markdown",
   "metadata": {},
   "source": [
    "# Daiichi - List"
   ]
  },
  {
   "cell_type": "code",
   "execution_count": 1,
   "metadata": {},
   "outputs": [],
   "source": [
    "import sys\n",
    "sys.path.insert(0, '../../../lib/')\n",
    "\n",
    "import tabula\n",
    "import numpy as np\n",
    "import pandas as pd\n",
    "import importlib\n",
    "import re\n",
    "\n",
    "import pdfexport\n",
    "importlib.reload(pdfexport)\n",
    "\n",
    "from pdfexport import *\n",
    "import consts"
   ]
  },
  {
   "cell_type": "markdown",
   "metadata": {},
   "source": [
    "## Import PDF"
   ]
  },
  {
   "cell_type": "code",
   "execution_count": 2,
   "metadata": {},
   "outputs": [],
   "source": [
    "# Read pdf into DataFrame\n",
    "df = tabula.read_pdf(\"ToV_2018_CH.pdf\", pages='all', lattice=True, multiple_tables=True)\n",
    "df = pd.concat(df)"
   ]
  },
  {
   "cell_type": "markdown",
   "metadata": {},
   "source": [
    "## Format Table"
   ]
  },
  {
   "cell_type": "code",
   "execution_count": 18,
   "metadata": {},
   "outputs": [
    {
     "name": "stdout",
     "output_type": "stream",
     "text": [
      "Duplicates found. Please check for duplicates: df_export[df_export.duplicated()]\n",
      "saved\n"
     ]
    }
   ],
   "source": [
    "df_export = df.copy()\n",
    "\n",
    "#Rename Columns\n",
    "df_export.columns = ['name', 'address', 'plz', 'location', 'donations_grants', 'sponsorship', 'registration_fees', 'travel_accommodation', 'fees', 'related_expenses', 'total']\n",
    "\n",
    "#Shift\n",
    "df_export[df_export['name'].isna()] = df_export[df_export['name'].isna()].shift(-1, axis='columns')\n",
    "\n",
    "#Remove empty rows\n",
    "df_export = df_export.dropna(subset=['plz'], how='all')\n",
    "df_export = df_export.reset_index(drop=True)\n",
    "\n",
    "#Drop by name\n",
    "df_export.drop(df_export[df_export['name'].str.contains('Gesamtbetrag', na=False, regex=False)].index, inplace=True)\n",
    "df_export.drop(df_export[df_export['name'].str.contains('Gesamtzahl der', na=False, regex=False)].index, inplace=True)\n",
    "df_export.drop(df_export[df_export['name'].str.contains('Prozentualer Anteil', na=False, regex=False)].index, inplace=True)\n",
    "\n",
    "#drop before RnD\n",
    "df_export = df_export.reset_index(drop=True)\n",
    "rnd = df_export[df_export['name'].str.contains('Forschung & Entwicklung', na=False, regex=False)].index[0]\n",
    "df_export = df_export[0: rnd]\n",
    "\n",
    "#Remove Titles\n",
    "df_export['name'] = df_export.name.str.replace(regex_title, '', regex=True, case=False)\n",
    "df_export['name'] = df_export.name.str.strip()\n",
    "\n",
    "#Add Type\n",
    "df_export = set_type_by_alphabetical_order(df_export)\n",
    "\n",
    "#Revert Name\n",
    "df_export = revert_name(df_export, ' ')\n",
    "\n",
    "#Cleanup Numbers and sum\n",
    "df_export = remove_in_numbers(df_export, 'Fr.')\n",
    "df_export = remove_in_numbers(df_export, 'n.a.')\n",
    "df_export = remove_in_numbers(df_export, ' ')\n",
    "df_export = remove_in_numbers(df_export, '’')\n",
    "df_export = amounts_to_number(df_export)\n",
    "df_export = sum_amounts(df_export)\n",
    "\n",
    "#Add empty fields\n",
    "df_export['country'] = 'CH'\n",
    "df_export = add_uci(df_export)\n",
    "\n",
    "#basic string conversion\n",
    "df_export = basic_string_conversion(df_export)\n",
    "\n",
    "export_list(df_export, 'daiichi')"
   ]
  },
  {
   "cell_type": "code",
   "execution_count": 116,
   "metadata": {},
   "outputs": [],
   "source": [
    "#write_to_csv(df_export, 'tmp.csv', True)\n",
    "#write_to_excel(df_export, 'tmp.xlsx', open=True)"
   ]
  },
  {
   "cell_type": "code",
   "execution_count": null,
   "metadata": {},
   "outputs": [],
   "source": []
  }
 ],
 "metadata": {
  "kernelspec": {
   "display_name": "Python 3",
   "language": "python",
   "name": "python3"
  },
  "language_info": {
   "codemirror_mode": {
    "name": "ipython",
    "version": 3
   },
   "file_extension": ".py",
   "mimetype": "text/x-python",
   "name": "python",
   "nbconvert_exporter": "python",
   "pygments_lexer": "ipython3",
   "version": "3.6.5"
  }
 },
 "nbformat": 4,
 "nbformat_minor": 2
}
