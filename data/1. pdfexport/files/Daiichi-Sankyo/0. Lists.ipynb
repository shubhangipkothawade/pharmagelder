{
 "cells": [
  {
   "cell_type": "markdown",
   "metadata": {},
   "source": [
    "# Daiichi - List\n",
    "\n",
    "## Beachten\n",
    "* Für die OCR-Erkennung wurde ABBYY Fine Reader for Mac verwendet (Lizenz vorhanden)\n",
    "* Wichtig: Sprachen einstellen auf: Deutsch, Englisch, Italienisch, Französisch\n",
    "* Als CSV exportieren"
   ]
  },
  {
   "cell_type": "code",
   "execution_count": 1,
   "metadata": {},
   "outputs": [],
   "source": [
    "import sys\n",
    "sys.path.insert(0, '../../../lib/')\n",
    "\n",
    "import tabula\n",
    "import numpy as np\n",
    "import pandas as pd\n",
    "import importlib\n",
    "import re\n",
    "import pikepdf\n",
    "\n",
    "import pdfexport\n",
    "importlib.reload(pdfexport)\n",
    "\n",
    "from pdfexport import *\n",
    "import consts"
   ]
  },
  {
   "cell_type": "markdown",
   "metadata": {},
   "source": [
    "## Unlock PDF"
   ]
  },
  {
   "cell_type": "code",
   "execution_count": 3,
   "metadata": {},
   "outputs": [],
   "source": [
    "pdf = pikepdf.open('DSCH_ToV_18-06-26_001.pdf')\n",
    "pdf.save('unlocked.pdf')"
   ]
  },
  {
   "cell_type": "markdown",
   "metadata": {},
   "source": [
    "## OCR by Abbeyy\n",
    "Sorry, you have to do this by hand: Lets run the unlocked.pdf through Abbeyy and export it to a csv. Dont forget to delete the pages at the end!"
   ]
  },
  {
   "cell_type": "markdown",
   "metadata": {},
   "source": [
    "## Import CSV"
   ]
  },
  {
   "cell_type": "code",
   "execution_count": 2,
   "metadata": {},
   "outputs": [],
   "source": [
    "# Read CSV into DataFrame\n",
    "header = ['empty', 'name', 'address', 'plz', 'location', 'donations_grants', 'sponsorship', 'registration_fees','travel_accommodation', 'empty1', 'fees', 'related_expenses', 'empty2', 'total']  \n",
    "df = pd.read_csv(\"DSCH_ToV_18-06-26_001.csv\", sep=\";\", header=None, names=header)"
   ]
  },
  {
   "cell_type": "markdown",
   "metadata": {},
   "source": [
    "## Format Table"
   ]
  },
  {
   "cell_type": "code",
   "execution_count": 10,
   "metadata": {},
   "outputs": [
    {
     "name": "stdout",
     "output_type": "stream",
     "text": [
      "saved\n"
     ]
    }
   ],
   "source": [
    "df_export = df.copy()\n",
    "\n",
    "#Copy empty1 if not null. But first, clean it\n",
    "df_export.loc[df_export.empty1 == 'Fr.', 'empty1'] = np.NaN\n",
    "df_export.loc[df_export.empty1.notna(), 'related_expenses'] = df_export.fees\n",
    "df_export.loc[df_export.empty1.notna(), 'fees'] = df_export.empty1\n",
    "\n",
    "#Remove empty\n",
    "df_export.drop(columns=['empty', 'empty1', 'empty2'], inplace=True)\n",
    "\n",
    "#Replace \"nicht anwendbar\"\n",
    "df_export = df_export.replace(\"nicht anwendbar\", np.NaN, regex=True)\n",
    "\n",
    "#Remove rows which have no values\n",
    "df_export = df_export.dropna(subset=['plz'], how='all')\n",
    "df_export = df_export.reset_index(drop=True)\n",
    "\n",
    "#Remove by String Comparision\n",
    "df_export = df_export[~df_export.name.str.contains('Name')]\n",
    "\n",
    "#Add Type\n",
    "df_export = set_type_by_alphabetical_order(df_export)\n",
    "\n",
    "#Remove Titles\n",
    "df_export['name'] = df_export.name.str.replace(regex_title, '', regex=True, case=False)\n",
    "df_export['name'] = df_export.name.str.strip()\n",
    "\n",
    "#Clean Numbers\n",
    "df_export['total'] = '0'\n",
    "df_export = cleanup_number(df_export)\n",
    "df_export = remove_dots(df_export)\n",
    "df_export = replace_comma_to_dot(df_export)\n",
    "\n",
    "#Fix Numbers: OCR have problems differ between \".\" and \",\". In some cases, 100.000,00 is read like 100.000.00\n",
    "#Because of that: check each number. If no \".xx\" and the end, add a comma\n",
    "for column in number_fields:\n",
    "    df_export.loc[df_export[column] == '', column] = np.NaN\n",
    "    df_export.loc[~df_export[column].str.contains(r'\\.\\d\\d', regex=True, na=False) \n",
    "                  & df_export[column].notna(), column] = df_export[column].apply(lambda s: str(s)[:-2] + '.' + str(s)[-2:])\n",
    "\n",
    "#Now numberize and sum\n",
    "df_export = amounts_to_number(df_export)\n",
    "df_export = sum_amounts(df_export)\n",
    "\n",
    "#Add Country\n",
    "df_export.insert(4, 'country', 'CH')\n",
    "df_export.insert(4, 'uci', np.NaN)\n",
    "\n",
    "#basic string conversion\n",
    "df_export = basic_string_conversion(df_export)\n",
    "\n",
    "export_list(df_export, 'daiichi')"
   ]
  },
  {
   "cell_type": "code",
   "execution_count": 6,
   "metadata": {},
   "outputs": [],
   "source": [
    "#write_to_csv(df_export, 'tmp.csv', True)\n",
    "#write_to_excel(df_export, 'tmp.xlsx', open=True)"
   ]
  }
 ],
 "metadata": {
  "kernelspec": {
   "display_name": "Python 3",
   "language": "python",
   "name": "python3"
  },
  "language_info": {
   "codemirror_mode": {
    "name": "ipython",
    "version": 3
   },
   "file_extension": ".py",
   "mimetype": "text/x-python",
   "name": "python",
   "nbconvert_exporter": "python",
   "pygments_lexer": "ipython3",
   "version": "3.6.5"
  }
 },
 "nbformat": 4,
 "nbformat_minor": 2
}
