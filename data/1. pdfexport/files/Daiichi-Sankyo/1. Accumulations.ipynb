{
 "cells": [
  {
   "cell_type": "markdown",
   "metadata": {},
   "source": [
    "# Daiichi - Accumulations\n",
    "\n",
    "## Beachten im nächsten Jahr\n",
    "* Auslesen ungenau. Accumulationen von Hand vornehmen"
   ]
  },
  {
   "cell_type": "code",
   "execution_count": 1,
   "metadata": {},
   "outputs": [],
   "source": [
    "import sys\n",
    "sys.path.insert(0, '../../../lib/')\n",
    "\n",
    "import tabula\n",
    "import numpy as np\n",
    "import pandas as pd\n",
    "import importlib\n",
    "\n",
    "import pdfexport\n",
    "importlib.reload(pdfexport)\n",
    "\n",
    "from pdfexport import *"
   ]
  },
  {
   "cell_type": "markdown",
   "metadata": {},
   "source": [
    "## Import PDF"
   ]
  },
  {
   "cell_type": "code",
   "execution_count": 2,
   "metadata": {},
   "outputs": [
    {
     "name": "stdout",
     "output_type": "stream",
     "text": [
      "hcp_count not found or not unique\n",
      "hco_count not found or not unique\n",
      "saved\n"
     ]
    }
   ],
   "source": [
    "df_export = pd.DataFrame(columns=fix_columns_accumulations[:-1])\n",
    "\n",
    "# Add HCP\n",
    "df_export = df_export.append({\n",
    "    'type':'hcp_amount',\n",
    "    'donations_grants': '',\n",
    "    'sponsorship': '',\n",
    "    'registration_fees': '1012',\n",
    "    'travel_accommodation': '3875.11',\n",
    "    'fees': '68528',\n",
    "    'related_expenses': '15692'\n",
    "    }, ignore_index=True)\n",
    "\n",
    "# Add HCO\n",
    "df_export = df_export.append({\n",
    "    'type':'hco_amount',\n",
    "    'donations_grants': '',\n",
    "    'sponsorship': '8000',\n",
    "    'registration_fees': '',\n",
    "    'travel_accommodation': '',\n",
    "    'fees': '',\n",
    "    'related_expenses': ''\n",
    "    }, ignore_index=True)\n",
    "\n",
    "#Numberize and sum\n",
    "df_export = amounts_to_number(df_export)\n",
    "df_export = sum_amounts(df_export)\n",
    "\n",
    "# RnD\n",
    "df_export = df_export.append({\n",
    "    'type':'rnd',\n",
    "    'donations_grants': '',\n",
    "    'sponsorship': '',\n",
    "    'registration_fees': '',\n",
    "    'travel_accommodation': '',\n",
    "    'fees': '',\n",
    "    'related_expenses': '',\n",
    "    'total': '352459'\n",
    "    }, ignore_index=True)\n",
    "\n",
    "\n",
    "df_export = amounts_to_number(df_export)\n",
    "\n",
    "export_acumulations(df_export, 'daiichi')"
   ]
  },
  {
   "cell_type": "code",
   "execution_count": 7,
   "metadata": {},
   "outputs": [],
   "source": [
    "#write_to_excel(df_export, 'tmp.xlsx', open=True)"
   ]
  }
 ],
 "metadata": {
  "kernelspec": {
   "display_name": "Python 3",
   "language": "python",
   "name": "python3"
  },
  "language_info": {
   "codemirror_mode": {
    "name": "ipython",
    "version": 3
   },
   "file_extension": ".py",
   "mimetype": "text/x-python",
   "name": "python",
   "nbconvert_exporter": "python",
   "pygments_lexer": "ipython3",
   "version": "3.6.5"
  }
 },
 "nbformat": 4,
 "nbformat_minor": 2
}
