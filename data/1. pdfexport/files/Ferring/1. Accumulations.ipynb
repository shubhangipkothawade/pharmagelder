{
 "cells": [
  {
   "cell_type": "markdown",
   "metadata": {},
   "source": [
    "# Ferring - Accumulations\n",
    "## Beachten\n",
    "* RnD empty"
   ]
  },
  {
   "cell_type": "code",
   "execution_count": 1,
   "metadata": {},
   "outputs": [],
   "source": [
    "import sys\n",
    "sys.path.insert(0, '../../../lib/')\n",
    "\n",
    "import tabula\n",
    "import numpy as np\n",
    "import pandas as pd\n",
    "import importlib\n",
    "\n",
    "import pdfexport\n",
    "importlib.reload(pdfexport)\n",
    "\n",
    "from pdfexport import *"
   ]
  },
  {
   "cell_type": "markdown",
   "metadata": {},
   "source": [
    "## Import PDF"
   ]
  },
  {
   "cell_type": "code",
   "execution_count": 2,
   "metadata": {},
   "outputs": [],
   "source": [
    "# HCP\n",
    "columns = [17.8, 165.2, 248.3, 421.9, 480.8, 533.5, 589.2, 643.9, 698.6, 757.6, 773.4]\n",
    "df_hcp = tabula.read_pdf(\"hcp_2019_offenlegung.pdf\", pages='all', lattice=False, columns=columns, guess=False, pandas_options={'header': None})\n",
    "df_hcp['type'] = 'hcp'\n",
    "\n",
    "#HCO\n",
    "columns = [15.7, 187.3, 277.7, 426.1, 481.9, 535.5, 589.2, 649.2, 702.9, 757.6, 786.0]\n",
    "df_hco = tabula.read_pdf(\"hco_2019_offenlegung.pdf\", pages='all', lattice=False, columns=columns, guess=False, pandas_options={'header': None})\n",
    "df_hco['type'] = 'hco'\n",
    "\n",
    "df = pd.concat([df_hcp, df_hco], sort=False)"
   ]
  },
  {
   "cell_type": "markdown",
   "metadata": {},
   "source": [
    "## Format Table"
   ]
  },
  {
   "cell_type": "code",
   "execution_count": 4,
   "metadata": {},
   "outputs": [
    {
     "name": "stdout",
     "output_type": "stream",
     "text": [
      "saved\n"
     ]
    }
   ],
   "source": [
    "df_export = df.copy()\n",
    "\n",
    "#Drop Columns\n",
    "df_export = df_export.drop(df.columns[0:1],axis=1)\n",
    "df_export = df_export.drop(df.columns[[2, 3, 10]],axis=1)\n",
    "\n",
    "#Rename\n",
    "df_export.columns = fix_columns_accumulations[0: 9]\n",
    "\n",
    "# Select\n",
    "amount = df_export[df_export.type.str.contains('Aggregated', na=False)]\n",
    "recipients = df_export[df_export.type.str.contains('Number of', na=False)]\n",
    "\n",
    "df_export = pd.concat([amount, recipients])\n",
    "\n",
    "#Numberize\n",
    "df_export = cleanup_number(df_export)\n",
    "df_export = replace_in_number(df_export, '-', '')\n",
    "df_export = replace_in_number(df_export, '’', '')\n",
    "df_export = amounts_to_number(df_export)\n",
    "\n",
    "#Rename first column\n",
    "df_export = df_export.reset_index(drop=True)\n",
    "df_export.iloc[0,0] = \"hcp_amount\"\n",
    "df_export.iloc[1,0] = \"hco_amount\"\n",
    "df_export.iloc[2,0] = \"hcp_count\"\n",
    "df_export.iloc[3,0] = \"hco_count\"\n",
    "df_export = add_empty_accumulation(df_export, \"rnd\")\n",
    "\n",
    "export_acumulations(df_export, 'ferring')"
   ]
  },
  {
   "cell_type": "code",
   "execution_count": null,
   "metadata": {},
   "outputs": [],
   "source": [
    "#write_to_csv(df_export, 'tmp.csv')\n",
    "#write_to_excel(df_export, 'tmp.xlsx')"
   ]
  }
 ],
 "metadata": {
  "kernelspec": {
   "display_name": "Python 3",
   "language": "python",
   "name": "python3"
  },
  "language_info": {
   "codemirror_mode": {
    "name": "ipython",
    "version": 3
   },
   "file_extension": ".py",
   "mimetype": "text/x-python",
   "name": "python",
   "nbconvert_exporter": "python",
   "pygments_lexer": "ipython3",
   "version": "3.6.5"
  }
 },
 "nbformat": 4,
 "nbformat_minor": 2
}
