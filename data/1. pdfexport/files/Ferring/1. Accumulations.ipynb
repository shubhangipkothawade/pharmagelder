{
 "cells": [
  {
   "cell_type": "markdown",
   "metadata": {},
   "source": [
    "# Ferring - Accumulations\n",
    "## Beachten\n",
    "* RnD empty"
   ]
  },
  {
   "cell_type": "code",
   "execution_count": 2,
   "metadata": {},
   "outputs": [],
   "source": [
    "import sys\n",
    "sys.path.insert(0, '../../../lib/')\n",
    "\n",
    "import tabula\n",
    "import numpy as np\n",
    "import pandas as pd\n",
    "import importlib\n",
    "\n",
    "import pdfexport\n",
    "importlib.reload(pdfexport)\n",
    "\n",
    "from pdfexport import *"
   ]
  },
  {
   "cell_type": "markdown",
   "metadata": {},
   "source": [
    "## Import PDF"
   ]
  },
  {
   "cell_type": "code",
   "execution_count": 10,
   "metadata": {},
   "outputs": [],
   "source": [
    "# HCP\n",
    "columns = [98.7, 196.45, 255.72, 369.96, 425.68, 464.11, 511.09, 557.47, 605.54, 654.07, 708.83]\n",
    "df_hcp = tabula.read_pdf(\"hcp_2017_offenlegung.pdf\", pages='all', lattice=False, columns=columns, guess=False, pandas_options={'header': None})\n",
    "\n",
    "#HCP\n",
    "columns = [9.78, 166.16, 246.77, 386.08, 447.28, 495.54, 566.65, 627.07, 664.64, 715.03, 793.21]\n",
    "df_hco = tabula.read_pdf(\"hco_2017_offenlegung.pdf\", pages='all', lattice=False, columns=columns, guess=False, pandas_options={'header': None})\n",
    "\n",
    "df = pd.concat([df_hcp, df_hco], sort=False)"
   ]
  },
  {
   "cell_type": "markdown",
   "metadata": {},
   "source": [
    "## Format Table"
   ]
  },
  {
   "cell_type": "code",
   "execution_count": 43,
   "metadata": {},
   "outputs": [
    {
     "name": "stdout",
     "output_type": "stream",
     "text": [
      "Total nicht Summe der Werte\n",
      "saved\n"
     ]
    }
   ],
   "source": [
    "df_export = df.copy()\n",
    "\n",
    "#Drop Columns\n",
    "df_export = df_export.drop(df.columns[0:1],axis=1)\n",
    "df_export = df_export.drop(df.columns[[2, 3, 10]],axis=1)\n",
    "\n",
    "#Rename\n",
    "df_export.columns = fix_columns_accumulations[0: 8]\n",
    "\n",
    "# Select\n",
    "amount = df_export[df_export.type.str.contains('Aggregated', na=False)]\n",
    "recipients = df_export[df_export.type.str.contains('Number of', na=False)]\n",
    "\n",
    "df_export = pd.concat([amount, recipients])\n",
    "\n",
    "#Numberize\n",
    "df_export = cleanup_number(df_export)\n",
    "df_export = replace_in_number(df_export, '-', '')\n",
    "df_export = amounts_to_number(df_export)\n",
    "\n",
    "#Rename first column\n",
    "df_export = df_export.reset_index(drop=True)\n",
    "df_export.iloc[0,0] = \"hcp_amount\"\n",
    "df_export.iloc[1,0] = \"hco_amount\"\n",
    "df_export.iloc[2,0] = \"hcp_count\"\n",
    "df_export.iloc[3,0] = \"hco_count\"\n",
    "df_export = add_empty_accumulation(df_export, \"rnd\")\n",
    "\n",
    "export_acumulations(df_export, 'ferring')"
   ]
  },
  {
   "cell_type": "code",
   "execution_count": null,
   "metadata": {},
   "outputs": [],
   "source": [
    "#write_to_csv(df_export, 'tmp.csv')\n",
    "#write_to_excel(df_export, 'tmp.xlsx')"
   ]
  }
 ],
 "metadata": {
  "kernelspec": {
   "display_name": "Python 3",
   "language": "python",
   "name": "python3"
  },
  "language_info": {
   "codemirror_mode": {
    "name": "ipython",
    "version": 3
   },
   "file_extension": ".py",
   "mimetype": "text/x-python",
   "name": "python",
   "nbconvert_exporter": "python",
   "pygments_lexer": "ipython3",
   "version": "3.6.5"
  }
 },
 "nbformat": 4,
 "nbformat_minor": 2
}
