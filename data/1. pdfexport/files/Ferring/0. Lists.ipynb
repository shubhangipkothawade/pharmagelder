{
 "cells": [
  {
   "cell_type": "markdown",
   "metadata": {},
   "source": [
    "# Ferring - List\n",
    "## Next time\n",
    "* You may update the column positions. On Mac, you do this:\n",
    " * Right click on PDF in finder\n",
    " * Open with -> Preview (Vorschau)\n",
    " * Tools (Werkzeuge) -> Show information (Informationen einblenden)\n",
    " * Rechteckige Auswahl"
   ]
  },
  {
   "cell_type": "code",
   "execution_count": 1,
   "metadata": {},
   "outputs": [],
   "source": [
    "import sys\n",
    "sys.path.insert(0, '../../../lib/')\n",
    "\n",
    "import tabula\n",
    "import numpy as np\n",
    "import pandas as pd\n",
    "import importlib\n",
    "import re\n",
    "\n",
    "import pdfexport\n",
    "importlib.reload(pdfexport)\n",
    "\n",
    "from pdfexport import *"
   ]
  },
  {
   "cell_type": "markdown",
   "metadata": {},
   "source": [
    "## Import PDF"
   ]
  },
  {
   "cell_type": "code",
   "execution_count": 10,
   "metadata": {},
   "outputs": [],
   "source": [
    "# HCP\n",
    "columns = [92.8, 194.03, 254.53, 393.35, 424.59, 466.23, 514.31, 565.69, 613.29, 662.05, 719.59]\n",
    "df_hcp = tabula.read_pdf(\"hcp_2018_offenlegung.pdf\", pages='all', lattice=False, columns=columns, guess=False, pandas_options={'header': None})\n",
    "df_hcp['type'] = 'hcp'\n",
    "\n",
    "#HCO\n",
    "columns = [14.41, 227.18, 300.16, 426.84, 482.12, 533.73, 576.96, 631.57, 680.82, 732.14, 794.54]\n",
    "df_hco = tabula.read_pdf(\"hco_2018_offenlegung.pdf\", pages='all', lattice=False, columns=columns, guess=False, pandas_options={'header': None})\n",
    "df_hco['type'] = 'hco'\n",
    "\n",
    "df = pd.concat([df_hcp, df_hco], sort=False)"
   ]
  },
  {
   "cell_type": "markdown",
   "metadata": {},
   "source": [
    "## Format Table"
   ]
  },
  {
   "cell_type": "code",
   "execution_count": 16,
   "metadata": {},
   "outputs": [
    {
     "name": "stdout",
     "output_type": "stream",
     "text": [
      "Total nicht Summe der Werte\n",
      "saved\n"
     ]
    }
   ],
   "source": [
    "df_export = df.copy()\n",
    "\n",
    "#Rename\n",
    "df_export.columns = ['empty0', 'name', 'location', 'address', 'donations_grants', 'sponsorship', 'registration_fees','travel_accommodation', 'fees', 'related_expenses', 'empty1', 'total', 'type']\n",
    "\n",
    "#Remove empty rows\n",
    "df_export = df_export.dropna(subset=['location'], how='all')\n",
    "\n",
    "#Remove by String Comparision\n",
    "df_export = df_export[~df_export.name.str.contains('Name')]\n",
    "df_export = df_export[~df_export.name.str.contains('Number of recipients')]\n",
    "\n",
    "#Remove empty columns\n",
    "df_export.drop(columns=['empty0', 'empty1'], inplace=True)\n",
    "\n",
    "#Remove Title\n",
    "df_export['name'] = df_export['name'].str.replace(regex_title, '', regex=True, case=False)\n",
    "\n",
    "#Add missing fields\n",
    "df_export = add_plz(df_export)\n",
    "df_export = add_uci(df_export)\n",
    "df_export['country'] = 'CH'\n",
    "\n",
    "#Numberize\n",
    "df_export = cleanup_number(df_export)\n",
    "df_export = replace_in_number(df_export, '-', '')\n",
    "df_export = replace_in_number(df_export, '’', '')\n",
    "df_export = amounts_to_number(df_export)\n",
    "\n",
    "#basic string conversion\n",
    "df_export = basic_string_conversion(df_export)\n",
    "\n",
    "export_list(df_export, 'ferring')"
   ]
  },
  {
   "cell_type": "code",
   "execution_count": null,
   "metadata": {},
   "outputs": [],
   "source": [
    "#write_to_csv(df_export, 'tmp.csv')\n",
    "#write_to_excel(df_export, 'tmp.xlsx', open=True)"
   ]
  }
 ],
 "metadata": {
  "kernelspec": {
   "display_name": "Python 3",
   "language": "python",
   "name": "python3"
  },
  "language_info": {
   "codemirror_mode": {
    "name": "ipython",
    "version": 3
   },
   "file_extension": ".py",
   "mimetype": "text/x-python",
   "name": "python",
   "nbconvert_exporter": "python",
   "pygments_lexer": "ipython3",
   "version": "3.6.5"
  }
 },
 "nbformat": 4,
 "nbformat_minor": 2
}
