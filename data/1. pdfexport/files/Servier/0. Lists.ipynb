{
 "cells": [
  {
   "cell_type": "markdown",
   "metadata": {},
   "source": [
    "# Servier - List\n",
    "## Beachten\n",
    "* Gewisse Spalten sind mit Linie, gewisse nicht. Deshalb Spalten manuell definiert\n",
    "* Hat Rundungsdifferenzen"
   ]
  },
  {
   "cell_type": "code",
   "execution_count": 1,
   "metadata": {},
   "outputs": [],
   "source": [
    "import sys\n",
    "sys.path.insert(0, '../../../lib/')\n",
    "\n",
    "import tabula\n",
    "import numpy as np\n",
    "import pandas as pd\n",
    "import importlib\n",
    "\n",
    "import pdfexport\n",
    "importlib.reload(pdfexport)\n",
    "\n",
    "from pdfexport import *"
   ]
  },
  {
   "cell_type": "markdown",
   "metadata": {},
   "source": [
    "## Import PDF"
   ]
  },
  {
   "cell_type": "code",
   "execution_count": 6,
   "metadata": {},
   "outputs": [],
   "source": [
    "# Read pdf into DataFrame\n",
    "columns = [80.5, 198.3, 245.7, 270.9, 478.3, 583.5, 609.8, 641.4, 667.7, 690.9, 721.4, 754]\n",
    "df = tabula.read_pdf(\"EFPIA_2019_-_Divulgation_ALL_V2.pdf\", pages='all', lattice=False, columns=columns, guess=False)"
   ]
  },
  {
   "cell_type": "markdown",
   "metadata": {},
   "source": [
    "## Format Table"
   ]
  },
  {
   "cell_type": "code",
   "execution_count": 16,
   "metadata": {},
   "outputs": [
    {
     "name": "stdout",
     "output_type": "stream",
     "text": [
      "Total nicht Summe der Werte\n",
      "saved\n"
     ]
    }
   ],
   "source": [
    "df_export = df.copy()\n",
    "\n",
    "#Rename Columns\n",
    "df_export.columns = ['empty0', 'name', 'location', 'country', 'address', 'uci', 'donations_grants', 'sponsorship', 'registration_fees', 'travel_accommodation', 'fees', 'related_expenses', 'total']\n",
    "\n",
    "\n",
    "#Copy rows with no name with value from the previous  row (was multiple row)\n",
    "for index, row in df_export[df_export.name.isna() & df_export.total.notna()].iterrows():\n",
    "    if index > 0:\n",
    "        df_export.loc[index, 'name'] = df_export.loc[index - 1, 'name']\n",
    "        df_export.loc[index, 'location'] = df_export.loc[index - 1, 'location']\n",
    "        df_export.loc[index, 'country'] = df_export.loc[index - 1, 'country']\n",
    "        df_export.loc[index, 'address'] = df_export.loc[index - 1, 'address']    \n",
    "\n",
    "#Add Type\n",
    "index_hco = df_export[df_export['name'].str.contains(\"ANDERE, OBEN NICHT GENANNTE\", na=False)].index[0]\n",
    "df_export['type'] = np.where(df_export.index < index_hco, 'hcp', 'hco')        \n",
    "\n",
    "        \n",
    "#Remove empty rows\n",
    "df_export = df_export.dropna(subset=['address'], how='all')\n",
    "df_export = df_export.dropna(subset=['name'], how='all')\n",
    "df_export = df_export.dropna(subset=['total'], how='all')\n",
    "\n",
    "#Remove by string\n",
    "df_export = df_export[~df_export['name'].str.contains('Art. 3', na=False)]\n",
    "df_export = df_export[~df_export['name'].str.contains('1. Full name', na=False)]\n",
    "\n",
    "#Remove empties\n",
    "df_export.drop(columns=['empty0'], inplace=True)\n",
    "\n",
    "#Remove Titles\n",
    "df_export['name'] = df_export.name.str.replace(regex_title, '', regex=True, case=False)\n",
    "df_export['name'] = df_export.name.str.strip()\n",
    "\n",
    "#Cleanup Numbers and sum\n",
    "df_export = cleanup_number(df_export)\n",
    "df_export = amounts_to_number(df_export)\n",
    "\n",
    "#Export PLZ\n",
    "df_export['plz'] = df_export['location'].str.extract(r'(^\\S*)', expand=True)\n",
    "\n",
    "#basic string conversion\n",
    "df_export = basic_string_conversion(df_export)\n",
    "\n",
    "export_list(df_export, 'servier')"
   ]
  },
  {
   "cell_type": "code",
   "execution_count": 17,
   "metadata": {},
   "outputs": [],
   "source": [
    "#write_to_csv(df_export, 'tmp.csv', True)\n",
    "#write_to_excel(df_export, 'tmp.xlsx', open=True)"
   ]
  }
 ],
 "metadata": {
  "kernelspec": {
   "display_name": "Python 3",
   "language": "python",
   "name": "python3"
  },
  "language_info": {
   "codemirror_mode": {
    "name": "ipython",
    "version": 3
   },
   "file_extension": ".py",
   "mimetype": "text/x-python",
   "name": "python",
   "nbconvert_exporter": "python",
   "pygments_lexer": "ipython3",
   "version": "3.6.5"
  }
 },
 "nbformat": 4,
 "nbformat_minor": 2
}
