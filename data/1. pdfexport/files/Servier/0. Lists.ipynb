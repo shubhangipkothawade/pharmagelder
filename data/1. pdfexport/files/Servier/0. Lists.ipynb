{
 "cells": [
  {
   "cell_type": "markdown",
   "metadata": {},
   "source": [
    "# Servier - List\n",
    "## Beachten\n",
    "* Gewisse Spalten sind mit Linie, gewisse nicht. Deshalb Spalten manuell definiert\n",
    "* Hat Rundungsdifferenzen\n",
    "* No addresses available. Used addresses from an old PDF. Next time, use the CSV from 2017!"
   ]
  },
  {
   "cell_type": "code",
   "execution_count": 1,
   "metadata": {},
   "outputs": [],
   "source": [
    "import sys\n",
    "sys.path.insert(0, '../../../lib/')\n",
    "\n",
    "import tabula\n",
    "import numpy as np\n",
    "import pandas as pd\n",
    "import importlib\n",
    "\n",
    "import pdfexport\n",
    "importlib.reload(pdfexport)\n",
    "\n",
    "from pdfexport import *"
   ]
  },
  {
   "cell_type": "markdown",
   "metadata": {},
   "source": [
    "## Import PDF"
   ]
  },
  {
   "cell_type": "code",
   "execution_count": 2,
   "metadata": {},
   "outputs": [],
   "source": [
    "# Read pdf into DataFrame\n",
    "columns = [68.38, 203.1, 254.48, 275.92, 442.91, 548.04, 574.19, 606.36, 639.9, 665.59, 688.21, 732.45]\n",
    "df = tabula.read_pdf(\"2017 SERVIER SUISSE SA DEUTSCH 28.6.18.pdf\", pages='all', lattice=False, columns=columns, guess=False)"
   ]
  },
  {
   "cell_type": "markdown",
   "metadata": {},
   "source": [
    "## Format Table"
   ]
  },
  {
   "cell_type": "code",
   "execution_count": 3,
   "metadata": {},
   "outputs": [],
   "source": [
    "df_export = df.copy()\n",
    "\n",
    "#Rename Columns\n",
    "df_export.columns = ['empty0', 'name', 'location', 'country', 'address', 'uci', 'donations_grants', 'sponsorship', 'registration_fees', 'travel_accommodation', 'fees', 'related_expenses', 'total']\n",
    "\n",
    "#Copy rows with name but no value to the next row (was multiple row)\n",
    "for index, row in df_export[df_export.name.notna() & df_export.total.isna()].iterrows():\n",
    "    df_export.loc[index + 1, 'name'] = row['name'] + ' ' + str(df_export.loc[index + 1, 'name'])\n",
    "    \n",
    "#Add Type\n",
    "index_hco = df_export[df_export['name'].str.contains(\"ANDERE, OBEN NICHT GENANNTE\", na=False)].index[1]\n",
    "df_export['type'] = np.where(df_export.index < index_hco, 'hcp', 'hco')\n",
    "\n",
    "#Remove empty rows\n",
    "df_export = df_export.dropna(subset=['address'], how='all')\n",
    "df_export = df_export.dropna(subset=['total'], how='all')\n",
    "\n",
    "#Remove empties\n",
    "df_export.drop(columns=['empty0'], inplace=True)\n",
    "\n",
    "#Remove Titles\n",
    "df_export['name'] = df_export.name.str.replace(regex_title, '', regex=True, case=False)\n",
    "\n",
    "#Cleanup Numbers and sum\n",
    "df_export = cleanup_number(df_export)\n",
    "df_export = amounts_to_number(df_export)\n",
    "\n",
    "#Export PLZ\n",
    "df_export['plz'] = df_export['location'].str.extract(r'(^\\S*)', expand=True)"
   ]
  },
  {
   "cell_type": "code",
   "execution_count": 4,
   "metadata": {},
   "outputs": [],
   "source": [
    "#write_to_csv(df_export, 'tmp.csv', True)\n",
    "#write_to_excel(df_export, 'tmp.xlsx')"
   ]
  },
  {
   "cell_type": "markdown",
   "metadata": {},
   "source": [
    "## Join old Sheet, cause addresses arent available in new one\n",
    "Next time, use the csv from 2017!"
   ]
  },
  {
   "cell_type": "code",
   "execution_count": 5,
   "metadata": {},
   "outputs": [],
   "source": [
    "# Read pdf into DataFrame\n",
    "df2 = tabula.read_pdf(\"DIVULGATION_SERVIER_SUISSE_S_A_2016_DE.pdf\", pages='all', lattice=True)"
   ]
  },
  {
   "cell_type": "code",
   "execution_count": 7,
   "metadata": {},
   "outputs": [],
   "source": [
    "df_source = df2.copy()\n",
    "\n",
    "#Rename Columns\n",
    "df_source.columns = ['name', 'location', 'country', 'address', 'uci', 'donations_grants', 'sponsorship', 'registration_fees', 'travel_accommodation', 'fees', 'related_expenses', 'total']\n",
    "\n",
    "#Shift\n",
    "df_source[df_source['name'].isna()] = df_source.shift(-1, axis='columns')\n",
    "\n",
    "#Add Type\n",
    "index_hco = df_source[df_source['name'].str.contains(\"ANDERE, OBEN NICHT GENANNTE\", na=False)].index[0]\n",
    "df_source['type'] = np.where(df_source.index < index_hco, 'hcp', 'hco')\n",
    "\n",
    "#Join\n",
    "def copy_uci(row):\n",
    "    found = df_source[df_source.uci == row['uci']]\n",
    "    if not found.empty:\n",
    "        return found.iloc[0,3]\n",
    "    else:\n",
    "        return \"\"#row['address']\n",
    "\n",
    "df_export.loc[df_export.type == 'hcp', 'address'] = df_export[df_export.type == 'hcp'].apply(copy_uci, axis=1)"
   ]
  },
  {
   "cell_type": "markdown",
   "metadata": {},
   "source": [
    "## Export"
   ]
  },
  {
   "cell_type": "code",
   "execution_count": 8,
   "metadata": {},
   "outputs": [
    {
     "name": "stdout",
     "output_type": "stream",
     "text": [
      "Total nicht Summe der Werte\n",
      "saved\n"
     ]
    }
   ],
   "source": [
    "#basic string conversion\n",
    "df_export = basic_string_conversion(df_export)\n",
    "\n",
    "export_list(df_export, 'servier')"
   ]
  },
  {
   "cell_type": "code",
   "execution_count": null,
   "metadata": {},
   "outputs": [],
   "source": [
    "#write_to_csv(df_export, 'tmp.csv', True)\n",
    "#write_to_excel(df_export, 'tmp.xlsx')"
   ]
  }
 ],
 "metadata": {
  "kernelspec": {
   "display_name": "Python 3",
   "language": "python",
   "name": "python3"
  },
  "language_info": {
   "codemirror_mode": {
    "name": "ipython",
    "version": 3
   },
   "file_extension": ".py",
   "mimetype": "text/x-python",
   "name": "python",
   "nbconvert_exporter": "python",
   "pygments_lexer": "ipython3",
   "version": "3.6.5"
  }
 },
 "nbformat": 4,
 "nbformat_minor": 2
}
