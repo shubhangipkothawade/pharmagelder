{
 "cells": [
  {
   "cell_type": "markdown",
   "metadata": {},
   "source": [
    "# Lundbeck - Accumulations\n",
    "\n",
    "## Beachten im nächsten Jahr\n",
    "* Aufwand zu gross -> Von Hand machen. https://www.lundbeck.com/ch/de/ueber-uns/lundbeck-schweiz-ag/HCP/efpia-method-note-aggregate-disclosures"
   ]
  },
  {
   "cell_type": "code",
   "execution_count": 1,
   "metadata": {},
   "outputs": [],
   "source": [
    "import sys\n",
    "sys.path.insert(0, '../../../lib/')\n",
    "\n",
    "import pandas as pd\n",
    "import importlib\n",
    "\n",
    "import pdfexport\n",
    "importlib.reload(pdfexport)\n",
    "\n",
    "from pdfexport import *"
   ]
  },
  {
   "cell_type": "markdown",
   "metadata": {},
   "source": [
    "## Import PDF"
   ]
  },
  {
   "cell_type": "code",
   "execution_count": 2,
   "metadata": {},
   "outputs": [],
   "source": [
    "def add_empty_row(df, type_):\n",
    "    return df.append({\n",
    "        'type': type_,\n",
    "        'donations_grants': '',\n",
    "        'sponsorship': '',\n",
    "        'registration_fees': '0',\n",
    "        'travel_accommodation': '0',\n",
    "        'fees': '0',\n",
    "        'related_expenses': '0'\n",
    "        }, ignore_index=True)\n",
    "    "
   ]
  },
  {
   "cell_type": "code",
   "execution_count": 3,
   "metadata": {},
   "outputs": [
    {
     "name": "stdout",
     "output_type": "stream",
     "text": [
      "saved\n"
     ]
    }
   ],
   "source": [
    "df_export = pd.DataFrame(columns=fix_columns_accumulations[:-1])\n",
    "\n",
    "\n",
    "df_export = add_empty_row(df_export, 'hcp_amount')\n",
    "df_export = add_empty_row(df_export, 'hcp_count')\n",
    "df_export = add_empty_row(df_export, 'hco_amount')\n",
    "df_export = add_empty_row(df_export, 'hco_count')\n",
    "df_export = add_empty_row(df_export, 'rnd')\n",
    "\n",
    "#Numberize and sum\n",
    "df_export = amounts_to_number(df_export)\n",
    "df_export = sum_amounts(df_export)\n",
    "\n",
    "export_acumulations(df_export, 'lundbeck')"
   ]
  },
  {
   "cell_type": "code",
   "execution_count": null,
   "metadata": {},
   "outputs": [],
   "source": []
  }
 ],
 "metadata": {
  "kernelspec": {
   "display_name": "Python 3",
   "language": "python",
   "name": "python3"
  },
  "language_info": {
   "codemirror_mode": {
    "name": "ipython",
    "version": 3
   },
   "file_extension": ".py",
   "mimetype": "text/x-python",
   "name": "python",
   "nbconvert_exporter": "python",
   "pygments_lexer": "ipython3",
   "version": "3.6.5"
  }
 },
 "nbformat": 4,
 "nbformat_minor": 2
}
