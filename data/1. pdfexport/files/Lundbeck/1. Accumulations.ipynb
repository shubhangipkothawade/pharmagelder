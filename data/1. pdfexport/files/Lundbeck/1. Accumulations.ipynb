{
 "cells": [
  {
   "cell_type": "markdown",
   "metadata": {},
   "source": [
    "# Lundbeck - Accumulations\n",
    "\n",
    "## Beachten im nächsten Jahr\n",
    "* Aufwand zu gross -> Von Hand machen. https://www.lundbeck.com/ch/de/ueber-uns/lundbeck-schweiz-ag/HCP/efpia-method-note-aggregate-disclosures"
   ]
  },
  {
   "cell_type": "code",
   "execution_count": 1,
   "metadata": {},
   "outputs": [],
   "source": [
    "import sys\n",
    "sys.path.insert(0, '../../../lib/')\n",
    "\n",
    "import pandas as pd\n",
    "import importlib\n",
    "\n",
    "import pdfexport\n",
    "importlib.reload(pdfexport)\n",
    "\n",
    "from pdfexport import *"
   ]
  },
  {
   "cell_type": "markdown",
   "metadata": {},
   "source": [
    "## Import PDF"
   ]
  },
  {
   "cell_type": "code",
   "execution_count": 2,
   "metadata": {},
   "outputs": [
    {
     "name": "stdout",
     "output_type": "stream",
     "text": [
      "saved\n"
     ]
    }
   ],
   "source": [
    "df_export = pd.DataFrame(columns=fix_columns_accumulations[:-1])\n",
    "\n",
    "df_export = add_empty_accumulation(df_export, 'hcp_amount')\n",
    "df_export = add_empty_accumulation(df_export, 'hcp_count')\n",
    "df_export = add_empty_accumulation(df_export, 'hco_amount')\n",
    "df_export = add_empty_accumulation(df_export, 'hco_count')\n",
    "\n",
    "# RnD\n",
    "df_export = df_export.append({\n",
    "    'type':'rnd',\n",
    "    'donations_grants': '0',\n",
    "    'sponsorship': '',\n",
    "    'registration_fees': '',\n",
    "    'travel_accommodation': '',\n",
    "    'fees': '',\n",
    "    'related_expenses': '',\n",
    "    'total': \"0\"\n",
    "    }, ignore_index=True)\n",
    "\n",
    "\n",
    "#Numberize and sum\n",
    "df_export = cleanup_number(df_export)\n",
    "df_export = amounts_to_number(df_export)\n",
    "\n",
    "export_acumulations(df_export, 'lundbeck')"
   ]
  },
  {
   "cell_type": "code",
   "execution_count": null,
   "metadata": {},
   "outputs": [],
   "source": []
  }
 ],
 "metadata": {
  "kernelspec": {
   "display_name": "Python 3",
   "language": "python",
   "name": "python3"
  },
  "language_info": {
   "codemirror_mode": {
    "name": "ipython",
    "version": 3
   },
   "file_extension": ".py",
   "mimetype": "text/x-python",
   "name": "python",
   "nbconvert_exporter": "python",
   "pygments_lexer": "ipython3",
   "version": "3.6.5"
  }
 },
 "nbformat": 4,
 "nbformat_minor": 2
}
