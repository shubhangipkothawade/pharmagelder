{
 "cells": [
  {
   "cell_type": "markdown",
   "metadata": {},
   "source": [
    "# Lundbeck - List\n",
    "\n",
    "## Beachten\n",
    "* Kein PDF vorhanden. Lundbeck bietet nur eine Website. Vorgehen:\n",
    " * Website öffnen: https://www.lundbeck.com/ch/de/ueber-uns/lundbeck-schweiz-ag/HCP/transparenz\n",
    " * Captcha ausfüllen\n",
    " * Kompletter Quellcode der Website (`Rechtsklick` -> `Seite Speichern unter`) rauskopieren und in Datei `website_dump.html` speichern\n",
    "* Type wurde vermutet: Wenn kein Titel (Dr., etc.), dann hco"
   ]
  },
  {
   "cell_type": "code",
   "execution_count": 1,
   "metadata": {},
   "outputs": [],
   "source": [
    "import sys\n",
    "sys.path.insert(0, '../../../lib/')\n",
    "\n",
    "from bs4 import BeautifulSoup\n",
    "import numpy as np\n",
    "import pandas as pd\n",
    "import copy\n",
    "import importlib\n",
    "import re\n",
    "\n",
    "import pdfexport\n",
    "importlib.reload(pdfexport)\n",
    "\n",
    "from pdfexport import *"
   ]
  },
  {
   "cell_type": "markdown",
   "metadata": {},
   "source": [
    "## Import HTML with Beautiful Soup"
   ]
  },
  {
   "cell_type": "code",
   "execution_count": 2,
   "metadata": {},
   "outputs": [],
   "source": [
    "with open(\"website_dump.html\") as fp:\n",
    "    soup = BeautifulSoup(fp, 'html.parser')\n",
    "    \n",
    "tbl = soup.find(\"div\", class_=\"table-trnspdscl\")"
   ]
  },
  {
   "cell_type": "code",
   "execution_count": 3,
   "metadata": {},
   "outputs": [],
   "source": [
    "def extract_text(text):\n",
    "    c = copy.copy(text)\n",
    "    c.span.decompose()\n",
    "    return c.text.strip()\n",
    "    \n",
    "    \n",
    "record_list = []\n",
    "    \n",
    "for row in tbl.find_all(\"div\", recursive=False):\n",
    "    #Skip header\n",
    "    if 'headers' in row['class']:\n",
    "        continue\n",
    "    \n",
    "    #Is main row (not \"detail\")\n",
    "    if 'row' in row['class']:\n",
    "        #print(row)\n",
    "        name_div = row.find(\"div\", class_=\"hcohcpname\")\n",
    "        \n",
    "        type_ = 'hco'\n",
    "        c = copy.copy(name_div)\n",
    "        if c.div:\n",
    "            c.div.decompose()\n",
    "            type_ = 'hcp'\n",
    "        name = c.text.strip()\n",
    "        address = row.find(\"div\", class_=\"address\").text.strip()\n",
    "        year = row.find(\"div\", class_=\"year\").text.strip()\n",
    "        record = {'name': name, 'address': address, 'year': year, 'type': type_}\n",
    "        \n",
    "    #Is Detail\n",
    "    if 'row-details' in row['class']:\n",
    "        \n",
    "        #Extract all \"fee\"\n",
    "        for fee in row.find_all(\"div\", class_='fee'):\n",
    "\n",
    "            #travel_accommodation\n",
    "            if fee.text.find('Travel & Accommodations') >= 0:\n",
    "                record['travel_accommodation'] = extract_text(fee)\n",
    "                \n",
    "            #registration_fees\n",
    "            elif fee.text.find('Registration Fees') >= 0:\n",
    "                record['registration_fees'] = extract_text(fee)\n",
    "                \n",
    "            #sponsorship\n",
    "            elif fee.text.find('Sponsorship agreement with') >= 0:\n",
    "                record['sponsorship'] = extract_text(fee)\n",
    "                \n",
    "            #donations_grants\n",
    "            elif fee.text.find('Donations and Grants') >= 0:\n",
    "                record['donations_grants'] = extract_text(fee)\n",
    "                \n",
    "            #fees\n",
    "            elif fee.text.find('Fees') >= 0:\n",
    "                record['fees'] = extract_text(fee)\n",
    "                \n",
    "            #related_expenses\n",
    "            elif fee.text.find('Related expenses agreed') >= 0:\n",
    "                record['related_expenses'] = extract_text(fee)\n",
    "\n",
    "        #Add to list\n",
    "        record_list.append(record)"
   ]
  },
  {
   "cell_type": "code",
   "execution_count": 4,
   "metadata": {},
   "outputs": [],
   "source": [
    "#Load Dataframe\n",
    "df = pd.DataFrame(record_list)"
   ]
  },
  {
   "cell_type": "markdown",
   "metadata": {},
   "source": [
    "## Format Table"
   ]
  },
  {
   "cell_type": "code",
   "execution_count": 5,
   "metadata": {},
   "outputs": [
    {
     "name": "stdout",
     "output_type": "stream",
     "text": [
      "saved\n"
     ]
    }
   ],
   "source": [
    "df_export = df.copy()\n",
    "\n",
    "#Year 2017\n",
    "df_export = df_export[df_export.year == '2017']\n",
    "\n",
    "#Add missing fields\n",
    "df_export.insert(0, 'total', '')\n",
    "df_export.insert(0, 'plz', '')\n",
    "df_export.insert(0, 'country', 'ch')\n",
    "df_export.insert(0, 'uci', '')\n",
    "\n",
    "#Convert to Numbers & Sum\n",
    "df_export = cleanup_number(df_export)\n",
    "df_export = amounts_to_number(df_export)\n",
    "df_export = sum_amounts(df_export)\n",
    "\n",
    "#Extract place from adress (take last comma)\n",
    "df_export['location'] = df_export['address'].apply(lambda s: re.search(r'(,)(?!.*,).*', s)[0][2:])\n",
    "df_export['address'] = df_export['address'].apply(lambda s: s.replace(re.search(r'(,)(?!.*,).*', s)[0], \"\"))\n",
    "\n",
    "#Reorder columns\n",
    "df_export = df_export[fix_columns[:-1]]\n",
    "\n",
    "#basic string conversion\n",
    "df_export = basic_string_conversion(df_export)\n",
    "\n",
    "export_list(df_export, 'lundbeck')"
   ]
  },
  {
   "cell_type": "code",
   "execution_count": null,
   "metadata": {},
   "outputs": [],
   "source": [
    "#write_to_csv(df_export, 'tmp.csv')\n",
    "#write_to_excel(df_export, 'tmp.xlsx')"
   ]
  }
 ],
 "metadata": {
  "kernelspec": {
   "display_name": "Python 3",
   "language": "python",
   "name": "python3"
  },
  "language_info": {
   "codemirror_mode": {
    "name": "ipython",
    "version": 3
   },
   "file_extension": ".py",
   "mimetype": "text/x-python",
   "name": "python",
   "nbconvert_exporter": "python",
   "pygments_lexer": "ipython3",
   "version": "3.6.5"
  }
 },
 "nbformat": 4,
 "nbformat_minor": 2
}
