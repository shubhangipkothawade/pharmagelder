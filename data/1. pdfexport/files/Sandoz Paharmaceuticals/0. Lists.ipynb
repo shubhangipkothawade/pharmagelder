{
 "cells": [
  {
   "cell_type": "markdown",
   "metadata": {},
   "source": [
    "# Sandoz - List\n",
    "* 2017: OCR\n",
    "* 2018: PDF\n",
    "* 2019: PDF, but HCO without total"
   ]
  },
  {
   "cell_type": "code",
   "execution_count": 1,
   "metadata": {},
   "outputs": [],
   "source": [
    "import sys\n",
    "sys.path.insert(0, '../../../lib/')\n",
    "\n",
    "import tabula\n",
    "import numpy as np\n",
    "import pandas as pd\n",
    "import importlib\n",
    "\n",
    "import pdfexport\n",
    "importlib.reload(pdfexport)\n",
    "\n",
    "from pdfexport import *\n",
    "#import consts"
   ]
  },
  {
   "cell_type": "markdown",
   "metadata": {},
   "source": [
    "## Import PDF"
   ]
  },
  {
   "cell_type": "code",
   "execution_count": 2,
   "metadata": {},
   "outputs": [],
   "source": [
    "# Read pdf into DataFrame\n",
    "df = tabula.read_pdf(\"payment-disclosure-sandoz-switzerland-2019-de.pdf\", pages='all', lattice=True)"
   ]
  },
  {
   "cell_type": "markdown",
   "metadata": {},
   "source": [
    "## Format Table"
   ]
  },
  {
   "cell_type": "code",
   "execution_count": 3,
   "metadata": {},
   "outputs": [
    {
     "name": "stdout",
     "output_type": "stream",
     "text": [
      "saved\n"
     ]
    }
   ],
   "source": [
    "df_export = df.copy()\n",
    "\n",
    "#Rename Columns\n",
    "df_export.columns = ['name', 'location', 'country', 'address', 'uci', 'donations_grants', 'sponsorship', 'registration_fees','travel_accommodation', 'fees', 'related_expenses', 'empty1', 'total']\n",
    "\n",
    "#Remove by String\n",
    "df_export = df_export[~df_export['name'].str.contains('Zahl der Empfänger unter', na=False)]\n",
    "df_export = df_export[~df_export['name'].str.contains('Diesen Empfängern', na=False)]\n",
    "df_export = df_export[~df_export['name'].str.contains('% der aggregiert', na=False)]\n",
    "\n",
    "#Drop Rows\n",
    "df_export = df_export.dropna(subset=['donations_grants', 'sponsorship', 'registration_fees','travel_accommodation', 'fees', 'related_expenses', 'total'], how='all')\n",
    "df_export = df_export.dropna(subset=['name'], how='all')\n",
    "df_export = df_export.dropna(subset=['location'], how='all')\n",
    "\n",
    "#Drop Column\n",
    "df_export = df_export.drop(columns=['empty1'])\n",
    "\n",
    "#Set Type\n",
    "df_export = set_type_by_alphabetical_order(df_export)\n",
    "\n",
    "#Remove \\r\n",
    "df_export = remove_carination(df_export, \" \")\n",
    "\n",
    "#shift Surname/Lastname\n",
    "df_export = revert_name(df_export, ', ')\n",
    "\n",
    "#Convert to Numbers\n",
    "df_export = cleanup_number(df_export)\n",
    "df_export = replace_comma_to_dot(df_export)\n",
    "df_export = amounts_to_number(df_export)\n",
    "\n",
    "#Sum HCO\n",
    "def f(v):\n",
    "    if np.isnan(v):\n",
    "        return 0\n",
    "    return v\n",
    "def sum_row(row):\n",
    "    return (f(row['donations_grants']) + f(row['sponsorship']) + f(row['registration_fees']) + f(row['travel_accommodation'])\n",
    "           + f(row['fees']) + f(row['related_expenses']))\n",
    "df_export.loc[df_export.type == 'hco', 'total'] = df_export.apply(sum_row , axis=1)\n",
    "\n",
    "\n",
    "#basic string conversion\n",
    "df_export = basic_string_conversion(df_export)\n",
    "\n",
    "#Add PLZ\n",
    "df_export = add_plz(df_export)\n",
    "\n",
    "#Export\n",
    "export_list(df_export, 'sandoz')"
   ]
  },
  {
   "cell_type": "code",
   "execution_count": 4,
   "metadata": {},
   "outputs": [],
   "source": [
    "#write_to_csv(df_export, 'tmp.csv')\n",
    "#write_to_excel(df_export, 'tmp.xlsx', open=True)"
   ]
  },
  {
   "cell_type": "code",
   "execution_count": null,
   "metadata": {},
   "outputs": [],
   "source": []
  }
 ],
 "metadata": {
  "kernelspec": {
   "display_name": "Python 3",
   "language": "python",
   "name": "python3"
  },
  "language_info": {
   "codemirror_mode": {
    "name": "ipython",
    "version": 3
   },
   "file_extension": ".py",
   "mimetype": "text/x-python",
   "name": "python",
   "nbconvert_exporter": "python",
   "pygments_lexer": "ipython3",
   "version": "3.6.5"
  }
 },
 "nbformat": 4,
 "nbformat_minor": 2
}
