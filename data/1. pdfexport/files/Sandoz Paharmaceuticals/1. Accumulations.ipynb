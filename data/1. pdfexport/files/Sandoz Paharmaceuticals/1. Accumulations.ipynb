{
 "cells": [
  {
   "cell_type": "markdown",
   "metadata": {},
   "source": [
    "# Sandoz - Accumulations\n",
    "\n",
    "## Beachten im nächsten Jahr\n",
    "* Auslesen ungenau. Accumulationen von Hand vornehmen"
   ]
  },
  {
   "cell_type": "code",
   "execution_count": 1,
   "metadata": {},
   "outputs": [],
   "source": [
    "import sys\n",
    "sys.path.insert(0, '../../../lib/')\n",
    "\n",
    "import tabula\n",
    "import numpy as np\n",
    "import pandas as pd\n",
    "import importlib\n",
    "\n",
    "import pdfexport\n",
    "importlib.reload(pdfexport)\n",
    "\n",
    "from pdfexport import *"
   ]
  },
  {
   "cell_type": "markdown",
   "metadata": {},
   "source": [
    "## Import PDF"
   ]
  },
  {
   "cell_type": "code",
   "execution_count": 2,
   "metadata": {},
   "outputs": [
    {
     "name": "stdout",
     "output_type": "stream",
     "text": [
      "Total nicht Summe der Werte\n",
      "saved\n"
     ]
    }
   ],
   "source": [
    "df_export = pd.DataFrame(columns=fix_columns_accumulations[:-1])\n",
    "\n",
    "# Add HCP\n",
    "df_export = df_export.append({\n",
    "    'type':'hcp_amount',\n",
    "    'donations_grants': '',\n",
    "    'sponsorship': '',\n",
    "    'registration_fees': '',\n",
    "    'travel_accommodation': '1042,64',\n",
    "    'fees': '10466,74',\n",
    "    'related_expenses': '957,34',\n",
    "    'total': '12466,72'\n",
    "    }, ignore_index=True)\n",
    "\n",
    "df_export = df_export.append({\n",
    "    'type':'hcp_count',\n",
    "    'donations_grants': '',\n",
    "    'sponsorship': '0',\n",
    "    'registration_fees': '0',\n",
    "    'travel_accommodation': '2',\n",
    "    'fees': '9',\n",
    "    'related_expenses': '2',\n",
    "    'total': '12'\n",
    "    }, ignore_index=True)\n",
    "\n",
    "# Add HCO\n",
    "df_export = df_export.append({\n",
    "    'type':'hco_amount',\n",
    "    'donations_grants': '187500,00',\n",
    "    'sponsorship': '42854,12',\n",
    "    'registration_fees': '0',\n",
    "    'travel_accommodation': '0',\n",
    "    'fees': '3055,56',\n",
    "    'related_expenses': '',\n",
    "    'total': '233409,68'\n",
    "    }, ignore_index=True)\n",
    "\n",
    "\n",
    "df_export = df_export.append({\n",
    "    'type':'hco_count',\n",
    "    'donations_grants': '4',\n",
    "    'sponsorship': '7',\n",
    "    'registration_fees': '0',\n",
    "    'travel_accommodation': '0',\n",
    "    'fees': '3',\n",
    "    'related_expenses': '',\n",
    "    'total': '14'\n",
    "    }, ignore_index=True)\n",
    "\n",
    "# RnD\n",
    "df_export = df_export.append({\n",
    "    'type':'rnd',\n",
    "    'donations_grants': '',\n",
    "    'sponsorship': '',\n",
    "    'registration_fees': '',\n",
    "    'travel_accommodation': '',\n",
    "    'fees': '',\n",
    "    'related_expenses': '',\n",
    "    'total': '917537.1'\n",
    "    }, ignore_index=True)\n",
    "\n",
    "#Numberize and sum\n",
    "df_export = cleanup_number(df_export)\n",
    "df_export = replace_comma_to_dot(df_export)\n",
    "df_export = amounts_to_number(df_export)\n",
    "#df_export = sum_amounts(df_export)\n",
    "\n",
    "export_acumulations(df_export, 'sandoz')"
   ]
  },
  {
   "cell_type": "code",
   "execution_count": null,
   "metadata": {},
   "outputs": [],
   "source": []
  }
 ],
 "metadata": {
  "kernelspec": {
   "display_name": "Python 3",
   "language": "python",
   "name": "python3"
  },
  "language_info": {
   "codemirror_mode": {
    "name": "ipython",
    "version": 3
   },
   "file_extension": ".py",
   "mimetype": "text/x-python",
   "name": "python",
   "nbconvert_exporter": "python",
   "pygments_lexer": "ipython3",
   "version": "3.6.5"
  }
 },
 "nbformat": 4,
 "nbformat_minor": 2
}
