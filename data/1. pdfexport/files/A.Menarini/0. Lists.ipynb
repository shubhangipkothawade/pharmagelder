{
 "cells": [
  {
   "cell_type": "markdown",
   "metadata": {},
   "source": [
    "# A. Menarini - List\n",
    "## Beachten\n",
    "* Für die OCR-Erkennung wurde ABBYY Fine Reader for Mac verwendet (Lizenz vorhanden)\n",
    "* Einzelne Bilder exportiert und in Google Drive manuell bearbeitet\n",
    "* Als CSV exportiert, hier optimiert."
   ]
  },
  {
   "cell_type": "code",
   "execution_count": 13,
   "metadata": {},
   "outputs": [],
   "source": [
    "import sys\n",
    "sys.path.insert(0, '../../../lib/')\n",
    "\n",
    "import tabula\n",
    "import numpy as np\n",
    "import pandas as pd\n",
    "import importlib\n",
    "import re\n",
    "\n",
    "import pdfexport\n",
    "importlib.reload(pdfexport)\n",
    "\n",
    "from pdfexport import *\n",
    "import consts"
   ]
  },
  {
   "cell_type": "markdown",
   "metadata": {},
   "source": [
    "## Import CSV"
   ]
  },
  {
   "cell_type": "code",
   "execution_count": 14,
   "metadata": {},
   "outputs": [],
   "source": [
    "# Read CSV into DataFrame\n",
    "df = pd.read_csv(\"menarini_ocr.csv\", sep=\",\")"
   ]
  },
  {
   "cell_type": "markdown",
   "metadata": {},
   "source": [
    "## Format Table"
   ]
  },
  {
   "cell_type": "code",
   "execution_count": 22,
   "metadata": {},
   "outputs": [],
   "source": [
    "df_export = df.copy()\n",
    "\n",
    "#Remove empty\n",
    "df_export.drop(columns=['empty0'], inplace=True)\n",
    "\n",
    "#Revert Name\n",
    "df_export = revert_name(df_export, ' ')\n",
    "\n",
    "#Clean Numbers\n",
    "df_export = cleanup_number(df_export)\n",
    "df_export = remove_in_numbers(df_export, '*')\n",
    "df_export = remove_in_numbers(df_export, 'Ft')\n",
    "\n",
    "#Fix Country\n",
    "df_export['country'] = 'Switzerland'\n",
    "\n",
    "#basic string conversion\n",
    "df_export = remove_carination(df_export)\n",
    "df_export = basic_string_conversion(df_export)\n",
    "\n",
    "#Add PLZ\n",
    "df_export = add_plz(df_export)\n",
    "\n",
    "write_to_excel(df_export, 'tmp.xlsx', open=True)"
   ]
  },
  {
   "cell_type": "markdown",
   "metadata": {},
   "source": [
    "## Clean Errors\n",
    "Some Numeric collums have errors. Try to recalculate them. If more than one cell per row is invalid, write \"Error\""
   ]
  },
  {
   "cell_type": "code",
   "execution_count": 23,
   "metadata": {},
   "outputs": [],
   "source": [
    "df_export_tmp = df_export.copy()"
   ]
  },
  {
   "cell_type": "code",
   "execution_count": 25,
   "metadata": {},
   "outputs": [],
   "source": [
    "def fix_errors(df_export, field):\n",
    "    other_fields = number_fields.copy()\n",
    "    other_fields.remove(field)\n",
    "    \n",
    "    #Loop each row\n",
    "    for index, row in df_export[df_export[field] == 'ERROR'].iterrows():\n",
    "        \n",
    "        #Check if other fields are numeric. If not, break\n",
    "        has_strings = False\n",
    "        for f in other_fields:\n",
    "            if re.match(r'^[0-9.]*$', str(row[f])) == None:\n",
    "                has_strings = True\n",
    "                break\n",
    "            \n",
    "        #if no strings, calculate!\n",
    "        if not has_strings:\n",
    "            if field != 'total':\n",
    "                #print(df_export[index:index+1])\n",
    "                without_total = other_fields.copy()\n",
    "                without_total.remove('total')\n",
    "                df_export.loc[index, field] = (\n",
    "                    pd.to_numeric(df_export.loc[index, 'total']) \n",
    "                    - pd.to_numeric(df_export.loc[index, without_total[0]])\n",
    "                    - pd.to_numeric(df_export.loc[index, without_total[1]])\n",
    "                    - pd.to_numeric(df_export.loc[index, without_total[2]])\n",
    "                    - pd.to_numeric(df_export.loc[index, without_total[3]])\n",
    "                    - pd.to_numeric(df_export.loc[index, without_total[4]])\n",
    "                )\n",
    "            else:\n",
    "                without_total = other_fields.copy()\n",
    "                df_export.loc[index, field] = (\n",
    "                    pd.to_numeric(df_export.loc[index, without_total[0]])\n",
    "                    + pd.to_numeric(df_export.loc[index, without_total[1]])\n",
    "                    + pd.to_numeric(df_export.loc[index, without_total[2]])\n",
    "                    + pd.to_numeric(df_export.loc[index, without_total[3]])\n",
    "                    + pd.to_numeric(df_export.loc[index, without_total[4]])\n",
    "                    + pd.to_numeric(df_export.loc[index, without_total[5]])\n",
    "                )\n",
    "                v = (\n",
    "                    pd.to_numeric(df_export.loc[index, without_total[2]])\n",
    "                    + pd.to_numeric(df_export.loc[index, without_total[3]])\n",
    "                    + pd.to_numeric(df_export.loc[index, without_total[4]])\n",
    "                )\n",
    "                           \n",
    "    return df_export\n",
    "\n",
    "df_export = df_export_tmp.copy()\n",
    "\n",
    "#empty to nan\n",
    "#df_export = df_export.replace('', np.NaN)\n",
    "#Fill na in numeric fields\n",
    "for f in number_fields:\n",
    "    df_export[f] = df_export[f].fillna('0')\n",
    "\n",
    "#Fill ERROR\n",
    "for field in number_fields:\n",
    "    if not np.issubdtype(df_export[field].dtype, np.number):\n",
    "        df_export.loc[df_export[field].str.contains(r'^[0-9.]*$', regex=True) == False, field] = 'ERROR'\n",
    "        \n",
    "#When no decimal, then add between last and second last\n",
    "def add_decimal_if_not(field):\n",
    "    if field != 'ERROR' and field != '' and field != '0':\n",
    "        #print(field)\n",
    "        return field[:-1] + '.' + field[-1]\n",
    "    else:\n",
    "        return field\n",
    "\n",
    "#for field in number_fields:\n",
    "#    df_export.loc[df_export[field].str.contains(r'\\.', regex=True) == False, field] = df_export[field].apply(add_decimal_if_not)\n",
    "\n",
    "#Add Error to empty location\n",
    "df_export.loc[df_export.location.isna(), 'location'] = 'ERROR'\n",
    "\n",
    "#Fix Errors\n",
    "for f in number_fields:\n",
    "    #if not np.issubdtype(df_export[f].dtype, np.number):\n",
    "    df_export = fix_errors(df_export, f)\n",
    "    \n",
    "#Remove Zeros\n",
    "df_export = df_export.replace('0', np.NaN)\n",
    "\n",
    "write_to_excel(df_export, 'tmp.xlsx', open=True)"
   ]
  },
  {
   "cell_type": "code",
   "execution_count": 26,
   "metadata": {},
   "outputs": [
    {
     "name": "stdout",
     "output_type": "stream",
     "text": [
      "donations_grants not a number\n",
      "sponsorship not a number\n",
      "registration_fees not a number\n",
      "travel_accommodation not a number\n",
      "fees not a number\n",
      "related_expenses not a number\n",
      "total not a number\n",
      "saved\n"
     ]
    }
   ],
   "source": [
    "#Export\n",
    "export_list(df_export, 'menarini')\n",
    "#write_to_excel(df_export, 'tmp.xlsx', open=True)"
   ]
  },
  {
   "cell_type": "code",
   "execution_count": null,
   "metadata": {},
   "outputs": [],
   "source": [
    "#write_to_csv(df_export, 'tmp.csv', True)\n",
    "#write_to_excel(df_export, 'tmp.xlsx', open=True)"
   ]
  }
 ],
 "metadata": {
  "kernelspec": {
   "display_name": "Python 3",
   "language": "python",
   "name": "python3"
  },
  "language_info": {
   "codemirror_mode": {
    "name": "ipython",
    "version": 3
   },
   "file_extension": ".py",
   "mimetype": "text/x-python",
   "name": "python",
   "nbconvert_exporter": "python",
   "pygments_lexer": "ipython3",
   "version": "3.6.5"
  }
 },
 "nbformat": 4,
 "nbformat_minor": 2
}
