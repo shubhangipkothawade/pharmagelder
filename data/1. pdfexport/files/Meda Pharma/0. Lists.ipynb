{
 "cells": [
  {
   "cell_type": "markdown",
   "metadata": {},
   "source": [
    "# Meda - List\n",
    "## Info\n",
    "Gleiche Firma wie BGP. ABER: In diesem PDF gibt es Einträge ohne Total. Daher wurde die Logik, leere Zeilen zu entfernen, geändert"
   ]
  },
  {
   "cell_type": "code",
   "execution_count": 1,
   "metadata": {},
   "outputs": [],
   "source": [
    "import sys\n",
    "sys.path.insert(0, '../../../lib/')\n",
    "\n",
    "import tabula\n",
    "import numpy as np\n",
    "import pandas as pd\n",
    "import importlib\n",
    "\n",
    "import pdfexport\n",
    "importlib.reload(pdfexport)\n",
    "\n",
    "from pdfexport import *\n",
    "#import consts"
   ]
  },
  {
   "cell_type": "markdown",
   "metadata": {},
   "source": [
    "## Import PDF"
   ]
  },
  {
   "cell_type": "code",
   "execution_count": 2,
   "metadata": {},
   "outputs": [],
   "source": [
    "# Read pdf into DataFrame\n",
    "df = tabula.read_pdf(\"Report Meda 2019.pdf\", pages='all', lattice=True)"
   ]
  },
  {
   "cell_type": "markdown",
   "metadata": {},
   "source": [
    "## Format Table"
   ]
  },
  {
   "cell_type": "code",
   "execution_count": 6,
   "metadata": {
    "scrolled": true
   },
   "outputs": [
    {
     "name": "stdout",
     "output_type": "stream",
     "text": [
      "saved\n"
     ]
    }
   ],
   "source": [
    "df_export = df.copy()\n",
    "\n",
    "#Rename Columns\n",
    "df_export.columns = ['empty0', 'name', 'location', 'country', 'address', 'uci', 'donations_grants', 'sponsorship', 'registration_fees','travel_accommodation', 'fees', 'related_expenses', 'empty1', 'total']\n",
    "\n",
    "#Remove Strings\n",
    "df_export.loc[df_export['empty0'] == 'H\\rC\\rP\\rs', 'empty0'] = np.nan\n",
    "df_export.loc[df_export['empty0'] == 'H\\rC\\rO\\rs', 'empty0'] = np.nan\n",
    "df_export.loc[df_export['empty0'] == 'H', 'empty0'] = np.nan\n",
    "\n",
    "#Shift rows\n",
    "df_export[df_export['empty0'].notna()] = df_export[df_export['empty0'].notna()].shift(1, axis='columns')\n",
    "\n",
    "#Remove rows which have no values\n",
    "df_export = df_export.dropna(subset=['sponsorship', 'total'], how='all')\n",
    "df_export = df_export.dropna(subset=['total'], how='all')\n",
    "df_export = df_export.reset_index(drop=True)\n",
    "\n",
    "#Remove \\r\n",
    "df_export = remove_carination(df_export, \" \")\n",
    "\n",
    "#Convert to Numbers\n",
    "df_export = cleanup_number(df_export)\n",
    "df_export = remove_dots(df_export)\n",
    "df_export = replace_comma_to_dot(df_export)\n",
    "df_export = amounts_to_number(df_export)\n",
    "df_export = sum_amounts(df_export)\n",
    "\n",
    "#Remove Titles in Name\n",
    "df_export['name'] = df_export.name.str.replace(regex_title, '', regex=True, case=False)\n",
    "df_export['name'] = df_export.name.str.strip()\n",
    "\n",
    "#Remove empty\n",
    "df_export.drop(columns=['empty0', 'empty1'], inplace=True)\n",
    "\n",
    "#Set Type\n",
    "df_export = set_type_by_alphabetical_order(df_export)\n",
    "\n",
    "#shift Surname/Lastname\n",
    "df_export = revert_name(df_export, ' ')\n",
    "\n",
    "#basic string conversion\n",
    "df_export = basic_string_conversion(df_export)\n",
    "\n",
    "#Add PLZ\n",
    "df_export = add_plz(df_export)\n",
    "\n",
    "#Export\n",
    "export_list(df_export, 'meda')"
   ]
  },
  {
   "cell_type": "code",
   "execution_count": null,
   "metadata": {},
   "outputs": [],
   "source": [
    "#write_to_excel(df_export, 'tmp.xlsx', open=True)"
   ]
  }
 ],
 "metadata": {
  "kernelspec": {
   "display_name": "Python 3",
   "language": "python",
   "name": "python3"
  },
  "language_info": {
   "codemirror_mode": {
    "name": "ipython",
    "version": 3
   },
   "file_extension": ".py",
   "mimetype": "text/x-python",
   "name": "python",
   "nbconvert_exporter": "python",
   "pygments_lexer": "ipython3",
   "version": "3.6.5"
  }
 },
 "nbformat": 4,
 "nbformat_minor": 2
}
