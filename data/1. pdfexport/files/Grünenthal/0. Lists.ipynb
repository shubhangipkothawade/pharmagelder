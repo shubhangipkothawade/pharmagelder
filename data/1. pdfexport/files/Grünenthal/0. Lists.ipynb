{
 "cells": [
  {
   "cell_type": "markdown",
   "metadata": {},
   "source": [
    "# Grünenthal - List\n",
    "## Beachten!\n",
    "* Regionen wurden nicht korrekt detektiert. Daher wurde in Tabula-Web die Regionen gezogen, als Template exportiert und hier importiert. In der letzten Tabelle wird eine Spalte zuviel exportiert -> entfernen"
   ]
  },
  {
   "cell_type": "code",
   "execution_count": 102,
   "metadata": {},
   "outputs": [],
   "source": [
    "import sys\n",
    "sys.path.insert(0, '../../../lib/')\n",
    "\n",
    "import tabula\n",
    "import numpy as np\n",
    "import pandas as pd\n",
    "import importlib\n",
    "import re\n",
    "import json\n",
    "\n",
    "import pdfexport\n",
    "importlib.reload(pdfexport)\n",
    "\n",
    "from pdfexport import *"
   ]
  },
  {
   "cell_type": "markdown",
   "metadata": {},
   "source": [
    "## Import Template-JSON"
   ]
  },
  {
   "cell_type": "code",
   "execution_count": 133,
   "metadata": {
    "scrolled": true
   },
   "outputs": [
    {
     "name": "stdout",
     "output_type": "stream",
     "text": [
      "[180.81364692269824, 52.99946410397066, 642.094886241546, 1131.8023625109531]\n",
      "[127.25821787971073, 35.98265038509853, 558.7793772425036, 1138.5936127569248]\n",
      "[69.99765888219437, 52.99946410397066, 180.10995471959671, 1131.8023625109531]\n"
     ]
    }
   ],
   "source": [
    "with open('EFPIA Switzerland Report 2017_DE.tabula-template.json') as json_data:\n",
    "    data = json.load(json_data)\n",
    "\n",
    "df_list = []    \n",
    "\n",
    "for rec in data:\n",
    "    # Prepare Areas\n",
    "    a = [rec['y1'], rec['x1'], rec['y2'], rec['x2']]\n",
    "    \n",
    "    print(a)\n",
    "    \n",
    "    #Import pdf\n",
    "    df = tabula.read_pdf(\"EFPIA Switzerland Report 2017_DE.pdf\", pages=rec['page'], stream=True, guess=False, area=a, pandas_options={\"header\":None})\n",
    "    \n",
    "    #Remove columns 4, if empty\n",
    "    if len(df[df[df.columns[4]].notna()]) == 0:\n",
    "        df = df.drop(columns=[4])\n",
    "    \n",
    "        #Rename columns\n",
    "        df.columns = [i for i in range(0, len(df.columns))]\n",
    "    \n",
    "    df_list.append(df)\n",
    "\n",
    "df = pd.concat(df_list)\n"
   ]
  },
  {
   "cell_type": "markdown",
   "metadata": {},
   "source": [
    "## Import PDF"
   ]
  },
  {
   "cell_type": "markdown",
   "metadata": {},
   "source": [
    "## Format Table"
   ]
  },
  {
   "cell_type": "code",
   "execution_count": 142,
   "metadata": {},
   "outputs": [
    {
     "name": "stdout",
     "output_type": "stream",
     "text": [
      "Total nicht Summe der Werte\n",
      "saved\n"
     ]
    }
   ],
   "source": [
    "df_export = df.copy()\n",
    "\n",
    "#Rename Columns\n",
    "df_export.columns = ['name', 'location', 'country', 'address', 'empty', 'donations_grants', 'sponsorship', 'registration_fees','travel_accommodation', 'fees', 'related_expenses', 'total']\n",
    "\n",
    "#Remove empty columns\n",
    "df_export.drop(columns=['empty'], inplace=True)\n",
    "\n",
    "#Add Type\n",
    "df_export = set_type_by_alphabetical_order(df_export)\n",
    "\n",
    "#Add PLZ\n",
    "df_export = add_plz(df_export)\n",
    "\n",
    "#Add UCI\n",
    "df_export = add_uci(df_export)\n",
    "\n",
    "#Convert to Numbers\n",
    "df_export = amounts_to_number(df_export)\n",
    "\n",
    "#basic string conversion\n",
    "df_export = basic_string_conversion(df_export)\n",
    "\n",
    "export_list(df_export, 'gruenenthal')"
   ]
  },
  {
   "cell_type": "code",
   "execution_count": null,
   "metadata": {},
   "outputs": [],
   "source": [
    "#write_to_csv(df_export, 'tmp.csv')\n",
    "#write_to_excel(df_export, 'tmp.xlsx')"
   ]
  }
 ],
 "metadata": {
  "kernelspec": {
   "display_name": "Python 3",
   "language": "python",
   "name": "python3"
  },
  "language_info": {
   "codemirror_mode": {
    "name": "ipython",
    "version": 3
   },
   "file_extension": ".py",
   "mimetype": "text/x-python",
   "name": "python",
   "nbconvert_exporter": "python",
   "pygments_lexer": "ipython3",
   "version": "3.6.5"
  }
 },
 "nbformat": 4,
 "nbformat_minor": 2
}
