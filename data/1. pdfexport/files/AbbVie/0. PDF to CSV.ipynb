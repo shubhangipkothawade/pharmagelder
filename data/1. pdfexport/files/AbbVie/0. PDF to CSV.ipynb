{
 "cells": [
  {
   "cell_type": "markdown",
   "metadata": {},
   "source": [
    "# AbbVie\n"
   ]
  },
  {
   "cell_type": "code",
   "execution_count": 3,
   "metadata": {},
   "outputs": [],
   "source": [
    "import sys\n",
    "sys.path.insert(0, '../../../lib/')\n",
    "\n",
    "import tabula\n",
    "import numpy as np\n",
    "import pandas as pd\n",
    "import importlib\n",
    "\n",
    "import pdfexport\n",
    "importlib.reload(pdfexport)\n",
    "\n",
    "from pdfexport import *"
   ]
  },
  {
   "cell_type": "markdown",
   "metadata": {},
   "source": [
    "## Import PDF"
   ]
  },
  {
   "cell_type": "code",
   "execution_count": 4,
   "metadata": {
    "scrolled": true
   },
   "outputs": [],
   "source": [
    "# Read pdf into DataFrame\n",
    "df = tabula.read_pdf(\"AbbVie_2017_Switzerland_EFPIA_Report_Final.pdf\", pages='all', lattice=True)"
   ]
  },
  {
   "cell_type": "markdown",
   "metadata": {},
   "source": [
    "## Format Table"
   ]
  },
  {
   "cell_type": "code",
   "execution_count": 5,
   "metadata": {},
   "outputs": [
    {
     "name": "stdout",
     "output_type": "stream",
     "text": [
      "Column 'plz' fehlt\n",
      "saved\n"
     ]
    }
   ],
   "source": [
    "#Rename Columns\n",
    "df.columns = ['name', 'location', 'country', 'address', 'uci', 'donations_grants', 'sponsorship', 'registration_fees','travel_accommodation', 'fees', 'related_expenses', 'empty1', 'total', 'empty2']\n",
    "df_export = df.copy()\n",
    "\n",
    "#Remove rows which have no values\n",
    "df_export = df_export.dropna(subset=['donations_grants', 'sponsorship', 'registration_fees', 'travel_accommodation', 'fees', 'related_expenses', 'total'], how='all')\n",
    "df_export = df_export.dropna(subset=['name', 'location', 'country'], how='all')\n",
    "\n",
    "#Reset Index\n",
    "df_export = df_export.reset_index(drop=True)\n",
    "\n",
    "#Shift all where 'name' is empty\n",
    "df_export[df_export['name'].isna()] = df_export[df_export['name'].isna()].shift(-1, axis='columns')\n",
    "\n",
    "#Remove by string comparison\n",
    "df_export = df_export[~df_export['name'].str.contains('Full name')]\n",
    "df_export = df_export[~df_export['name'].str.contains('Aggregate amount')]\n",
    "df_export = df_export[~df_export['name'].str.contains('Number of ')]\n",
    "df_export = df_export[~df_export['name'].str.contains('% of the number of')]\n",
    "\n",
    "#Remove \\n\n",
    "df_export['name'] = df_export['name'].str.replace('\\\\r', '')\n",
    "\n",
    "#Add type\n",
    "df_export = set_type_by_alphabetical_order(df_export)\n",
    "\n",
    "#Change Dataypes and sum\n",
    "df_export = amounts_to_number(df_export)\n",
    "df_export = sum_amounts(df_export)\n",
    "\n",
    "#Turn Surname/Lastname\n",
    "df_export[\"name\"] = revert_name(df_export[\"name\"])\n",
    "\n",
    "#Drop empties\n",
    "df_export = df_export.drop(['empty1', 'empty2'], axis='columns')\n",
    "\n",
    "#Add empty columns\n",
    "df_export = add_plz(df_export)\n",
    "\n",
    "#basic string conversion\n",
    "df_export = basic_string_conversion(df_export)\n",
    "\n",
    "export_file(df_export, 'abbvie')"
   ]
  },
  {
   "cell_type": "code",
   "execution_count": null,
   "metadata": {},
   "outputs": [],
   "source": [
    "#write_to_csv(df_export, 'abbvie', True)\n",
    "#write_to_excel(df_export, 'abbvie')"
   ]
  },
  {
   "cell_type": "markdown",
   "metadata": {},
   "source": [
    "## Export Kummulationen"
   ]
  },
  {
   "cell_type": "code",
   "execution_count": null,
   "metadata": {},
   "outputs": [],
   "source": [
    "df_export = df.copy()\n",
    "df_export.columns = [empty1]"
   ]
  },
  {
   "cell_type": "code",
   "execution_count": null,
   "metadata": {
    "scrolled": true
   },
   "outputs": [],
   "source": [
    "df_export[310:320]"
   ]
  },
  {
   "cell_type": "code",
   "execution_count": 10,
   "metadata": {},
   "outputs": [
    {
     "data": {
      "text/plain": [
       "Index(['name', 'location', 'country', 'address', 'plz', 'uci',\n",
       "       'donations_grants', 'sponsorship', 'registration_fees',\n",
       "       'travel_accommodation', 'fees', 'related_expenses', 'total', 'type',\n",
       "       'source'],\n",
       "      dtype='object')"
      ]
     },
     "execution_count": 10,
     "metadata": {},
     "output_type": "execute_result"
    }
   ],
   "source": [
    "df_export.columns"
   ]
  },
  {
   "cell_type": "code",
   "execution_count": 9,
   "metadata": {},
   "outputs": [
    {
     "ename": "KeyError",
     "evalue": "\"['Neuenhof' 'Luzern' 'La Chaux-de-Fonds' 'La Chaux-de-Fonds' 'Bern'\\n 'Zürich' 'Genève' 'Onex' 'Bern' 'Zollikon' 'Lausanne' 'Zürich' 'Lausanne'\\n 'Zürich' 'Zumikon' 'Winterthur' 'Solothurn' 'Bern' 'Sion' 'Lugano'\\n 'Genève' 'Lugano' 'Zürich' 'Lugano' 'Bad Ragaz' 'Zürich' 'Genève'\\n 'Unterseen' 'Zug' 'Winterthur' 'Aarau' 'Bern' 'Lausanne' 'Luzern'\\n 'Bülach' 'Zürich' 'Winterthur' 'Bern' 'Zürich' 'Sargans' 'Bern' 'Uster'\\n 'Yverdon-les-Bains' 'La Chaux-de-Fonds' 'Minusio' 'Bern' 'Biel/Bienne'\\n 'Mendrisio' 'Genève' 'Zürich' 'Neuchâtel' 'Zürich' 'Le Lignon'\\n 'Zihlschlacht' 'Martigny' 'Genève' 'Sion' 'Lugano' 'Zürich'\\n 'Plan-les-Ouates' 'Uznach' 'Fribourg' 'Walenstadtberg' 'Rüti ZH'\\n 'Fribourg' 'Genève' 'Lausanne' 'Winterthur' 'Genève' 'Lausanne'\\n 'Fribourg' 'Olten' 'St. Gallen' 'Delémont' 'Winterthur' 'Genève'\\n 'Winterthur' 'Basel' 'Fribourg' 'Wädenswil' 'Bellinzona' 'Frick'\\n 'Appenzell' 'Yverdon-les-Bains' 'Zürich' 'Vevey' 'Bern' 'Biel/Bienne'\\n 'Bern' 'Wettingen' 'Genève' 'Onex' 'Basel' 'Walenstadt' 'Bern' 'Bern'\\n 'Bellinzona' 'Zürich' 'Genève' 'Reinach BL' 'Opfikon' 'Zürich'\\n 'St. Gallen' 'Chur' 'Wil SG' 'Baar' 'Rorschach' 'Basel' 'Bern' 'Bülach'\\n 'Aarau' 'Zürich' 'Langenthal' 'Liestal' 'Luzern' 'Lausanne' 'Zürich'\\n 'Sion' 'Luzern' 'Hergiswil NW' 'Sion' 'Bulle' 'Bern' 'Solothurn' 'Zürich'\\n 'Basel' 'Bürgenstock' 'Bern' 'Winterthur' 'Zürich' 'Uster' 'Bülach'\\n 'Wädenswil' 'Opfikon' 'Thalwil' 'Nyon' 'Zürich' 'Aarau' 'Luzern' 'Luzern'\\n 'Rheinfelden' 'Zürich' 'Basel' 'Luzern' 'Horgen' 'Zug' 'Langenthal'\\n 'Genève' 'Lausanne' 'Bad Ragaz' 'Zürich' 'Zürich' 'Genève' 'Renens VD'\\n 'Neuchâtel' 'Meyrin' 'Meyrin' 'Muri b. Bern' 'Baden' 'Basel' 'Lugano'\\n 'Bellinzona' 'Basel' 'Frauenfeld' 'Basel' 'Aarau' 'Luzern' 'Moosseedorf'\\n 'Dietikon' 'Locarno' 'Basel' 'Delémont' 'Bülach' 'Visp' 'Sorengo' 'Bern'\\n 'Bern' 'Genève' 'Morges' 'Mendrisio' 'Lugano' 'Lausanne' 'Sion'\\n 'Lausanne' 'Genève' 'Schlieren' 'Dietlikon' 'Biel/Bienne' 'Wil SG' 'Bern'\\n 'St. Gallen' 'Zürich' 'Zug' 'Winterthur' 'Winterthur' 'Genève'\\n 'Epalinges' 'Genève' 'La Chaux-de-Fonds' 'Feuerthalen' 'Zihlschlacht'\\n 'Solothurn' 'Onex' 'Hergiswil NW' 'Sierre' 'Bellinzona' 'Locarno' 'Onex'\\n 'Bern' 'Winterthur' 'Schaffhausen' 'Olten' 'Uster' 'Bulle' 'Aarau'\\n 'Urdorf' 'Nyon' 'Winterthur' 'Lavigny' 'Baar' 'Vaduz' 'Bellinzona' 'Sion'\\n 'Onex' 'Münchenstein' 'Bern' 'Aarau' 'Basel' 'Zürich' 'Zürich'\\n 'Bellinzona' 'Basel' 'Thun' 'Basel' 'Genève' 'St. Gallen' 'Thun' 'Basel'\\n 'Sion' 'Neuchâtel' 'Zürich' 'Genève' 'Basel' 'Pfäffikon SZ' 'Liestal'\\n 'Wetzikon ZH' 'Lenzburg' 'Montreux' 'Les Avanchets' 'Biel/Bienne' 'Brig'\\n 'Bern' 'Genève' 'St. Gallen' 'Viganello' 'Conthey' 'Bellinzona'\\n 'Wettingen' 'Zürich' 'Bellinzona' 'Bern' 'Münsterlingen' 'Moutier' 'Bern'\\n 'Bern' 'Bellinzona' 'Uster' 'Zürich' 'Collombey' 'Bern' 'Meilen' 'Schwyz'\\n 'Baden' 'Zürich' 'Basel' 'Weinfelden' 'Zürich' 'Genève' 'Basel' 'Lugano'\\n 'Locarno' 'Kreuzlingen' 'Epalinges' 'Basel' 'Genève' 'St. Gallen' 'Basel'\\n 'Zürich' 'Zürich' 'Uznach' 'Zürich' 'Zürich' 'Aarau' 'Lugano' 'Lugano'\\n 'Martigny' 'Zürich' 'Zürich' 'Frauenfeld' 'Bellinzona' 'St. Gallen'\\n 'Bern' 'Thalwil' 'Sempach' 'Aarau' 'Zürich' 'Lugano' 'Basel' 'Zürich'\\n 'Muraz' 'Basel' 'Lugano' 'Basel' 'Liestal' 'Zürich' 'Allschwil'\\n 'Bürgenstock' 'Zürich' 'Lausanne' 'Ascona' 'Aquila' 'Lausanne' 'Prilly'\\n 'Sion' 'Schlieren' 'Basel' 'St. Gallen' 'Lugano' 'Genève' 'Basel' 'Bern'\\n 'Bellinzona' 'Viganello' 'Neuchâtel' 'Kilchberg' 'Lausanne' 'Liestal'\\n 'Lausanne' 'Genève 14' 'Etoy' 'Lugano' 'Bellinzona' 'Kilchberg ZH'\\n 'Vugelles-la-Mothe' 'Mühlethal' 'Bülach' 'La Chaux-de-Fonds' 'Genève'\\n 'Lausanne' 'Genolier' 'Zürich' 'Berikon' 'Rorschach' 'Lausanne'\\n 'Fribourg' 'Luzern' 'Lausanne' 'Sion' 'Payerne' 'La Chaux-de-Fonds'\\n 'Neuchâtel' 'Lausanne' 'Monthey' 'Genève' 'Regensdorf' 'Zürich' 'Zürich'\\n 'Bern' 'Lausanne' 'Zürich' 'Schaffhausen' 'Aarau' 'Baden' 'Liestal'\\n 'St. Gallen' 'Winterthur' 'Zürich' 'Tschugg' 'Zürich' 'Valens' 'Luzern'\\n 'Lausanne' 'Lugano' 'Bern' 'Kleinandelfingen' 'Luzern' 'Cully' 'Lausanne'\\n 'Zürich' 'Satigny' 'Zürich' 'Meggen' 'Sursee' 'Genève' 'Zug' 'Lindau'\\n 'Bern' 'Bern' 'St. Gallen' 'Zürich' 'Winterthur' 'Bern' 'Bern' 'Zürich'\\n 'Basel' 'Montreux' 'Aarau' 'Zürich' 'Bern 22' 'Bern' 'Bellinzona' 'Worb'\\n 'St. Gallen' 'Zürich' 'Sursee' 'Basel' 'Lausanne' 'Solothurn' 'Bern'\\n 'Burgdorf' 'Unterseen' 'Lachen SZ' 'Schwyz' 'Thun' 'Frauenfeld' 'Wil SG'\\n 'Wil' 'Rebstein' 'Küssnacht a.R.' 'Bern' 'Fribourg' 'Basel' 'Lugano'\\n 'Zürich' 'Bern' '3013' 'Zürich' 'Chur' 'St. Gallen' 'Zürich' 'Geneve'\\n 'Zürich' 'Rotkreuz' 'Zürich' 'Lausanne' 'Cheseaux-sur-Lausanne' 'Bern'\\n 'Basel' 'Zürich' 'Basel' 'Basel' 'Zürich' 'Bern' 'Luzern' 'Basel'\\n 'Zürich' 'Luzern'] not in index\"",
     "output_type": "error",
     "traceback": [
      "\u001b[0;31m---------------------------------------------------------------------------\u001b[0m",
      "\u001b[0;31mKeyError\u001b[0m                                  Traceback (most recent call last)",
      "\u001b[0;32m<ipython-input-9-904b6717ff74>\u001b[0m in \u001b[0;36m<module>\u001b[0;34m\u001b[0m\n\u001b[0;32m----> 1\u001b[0;31m \u001b[0mdf_export\u001b[0m\u001b[0;34m[\u001b[0m\u001b[0mdf_export\u001b[0m\u001b[0;34m[\u001b[0m\u001b[0mdf_export\u001b[0m\u001b[0;34m.\u001b[0m\u001b[0mcolumns\u001b[0m\u001b[0;34m[\u001b[0m\u001b[0;36m1\u001b[0m\u001b[0;34m]\u001b[0m\u001b[0;34m]\u001b[0m\u001b[0;34m]\u001b[0m\u001b[0;34m\u001b[0m\u001b[0m\n\u001b[0m",
      "\u001b[0;32m~/Documents/python/pharmagelder/env/lib/python3.6/site-packages/pandas/core/frame.py\u001b[0m in \u001b[0;36m__getitem__\u001b[0;34m(self, key)\u001b[0m\n\u001b[1;32m   2680\u001b[0m         \u001b[0;32mif\u001b[0m \u001b[0misinstance\u001b[0m\u001b[0;34m(\u001b[0m\u001b[0mkey\u001b[0m\u001b[0;34m,\u001b[0m \u001b[0;34m(\u001b[0m\u001b[0mSeries\u001b[0m\u001b[0;34m,\u001b[0m \u001b[0mnp\u001b[0m\u001b[0;34m.\u001b[0m\u001b[0mndarray\u001b[0m\u001b[0;34m,\u001b[0m \u001b[0mIndex\u001b[0m\u001b[0;34m,\u001b[0m \u001b[0mlist\u001b[0m\u001b[0;34m)\u001b[0m\u001b[0;34m)\u001b[0m\u001b[0;34m:\u001b[0m\u001b[0;34m\u001b[0m\u001b[0m\n\u001b[1;32m   2681\u001b[0m             \u001b[0;31m# either boolean or fancy integer index\u001b[0m\u001b[0;34m\u001b[0m\u001b[0;34m\u001b[0m\u001b[0m\n\u001b[0;32m-> 2682\u001b[0;31m             \u001b[0;32mreturn\u001b[0m \u001b[0mself\u001b[0m\u001b[0;34m.\u001b[0m\u001b[0m_getitem_array\u001b[0m\u001b[0;34m(\u001b[0m\u001b[0mkey\u001b[0m\u001b[0;34m)\u001b[0m\u001b[0;34m\u001b[0m\u001b[0m\n\u001b[0m\u001b[1;32m   2683\u001b[0m         \u001b[0;32melif\u001b[0m \u001b[0misinstance\u001b[0m\u001b[0;34m(\u001b[0m\u001b[0mkey\u001b[0m\u001b[0;34m,\u001b[0m \u001b[0mDataFrame\u001b[0m\u001b[0;34m)\u001b[0m\u001b[0;34m:\u001b[0m\u001b[0;34m\u001b[0m\u001b[0m\n\u001b[1;32m   2684\u001b[0m             \u001b[0;32mreturn\u001b[0m \u001b[0mself\u001b[0m\u001b[0;34m.\u001b[0m\u001b[0m_getitem_frame\u001b[0m\u001b[0;34m(\u001b[0m\u001b[0mkey\u001b[0m\u001b[0;34m)\u001b[0m\u001b[0;34m\u001b[0m\u001b[0m\n",
      "\u001b[0;32m~/Documents/python/pharmagelder/env/lib/python3.6/site-packages/pandas/core/frame.py\u001b[0m in \u001b[0;36m_getitem_array\u001b[0;34m(self, key)\u001b[0m\n\u001b[1;32m   2724\u001b[0m             \u001b[0;32mreturn\u001b[0m \u001b[0mself\u001b[0m\u001b[0;34m.\u001b[0m\u001b[0m_take\u001b[0m\u001b[0;34m(\u001b[0m\u001b[0mindexer\u001b[0m\u001b[0;34m,\u001b[0m \u001b[0maxis\u001b[0m\u001b[0;34m=\u001b[0m\u001b[0;36m0\u001b[0m\u001b[0;34m)\u001b[0m\u001b[0;34m\u001b[0m\u001b[0m\n\u001b[1;32m   2725\u001b[0m         \u001b[0;32melse\u001b[0m\u001b[0;34m:\u001b[0m\u001b[0;34m\u001b[0m\u001b[0m\n\u001b[0;32m-> 2726\u001b[0;31m             \u001b[0mindexer\u001b[0m \u001b[0;34m=\u001b[0m \u001b[0mself\u001b[0m\u001b[0;34m.\u001b[0m\u001b[0mloc\u001b[0m\u001b[0;34m.\u001b[0m\u001b[0m_convert_to_indexer\u001b[0m\u001b[0;34m(\u001b[0m\u001b[0mkey\u001b[0m\u001b[0;34m,\u001b[0m \u001b[0maxis\u001b[0m\u001b[0;34m=\u001b[0m\u001b[0;36m1\u001b[0m\u001b[0;34m)\u001b[0m\u001b[0;34m\u001b[0m\u001b[0m\n\u001b[0m\u001b[1;32m   2727\u001b[0m             \u001b[0;32mreturn\u001b[0m \u001b[0mself\u001b[0m\u001b[0;34m.\u001b[0m\u001b[0m_take\u001b[0m\u001b[0;34m(\u001b[0m\u001b[0mindexer\u001b[0m\u001b[0;34m,\u001b[0m \u001b[0maxis\u001b[0m\u001b[0;34m=\u001b[0m\u001b[0;36m1\u001b[0m\u001b[0;34m)\u001b[0m\u001b[0;34m\u001b[0m\u001b[0m\n\u001b[1;32m   2728\u001b[0m \u001b[0;34m\u001b[0m\u001b[0m\n",
      "\u001b[0;32m~/Documents/python/pharmagelder/env/lib/python3.6/site-packages/pandas/core/indexing.py\u001b[0m in \u001b[0;36m_convert_to_indexer\u001b[0;34m(self, obj, axis, is_setter)\u001b[0m\n\u001b[1;32m   1325\u001b[0m                 \u001b[0;32mif\u001b[0m \u001b[0mmask\u001b[0m\u001b[0;34m.\u001b[0m\u001b[0many\u001b[0m\u001b[0;34m(\u001b[0m\u001b[0;34m)\u001b[0m\u001b[0;34m:\u001b[0m\u001b[0;34m\u001b[0m\u001b[0m\n\u001b[1;32m   1326\u001b[0m                     raise KeyError('{mask} not in index'\n\u001b[0;32m-> 1327\u001b[0;31m                                    .format(mask=objarr[mask]))\n\u001b[0m\u001b[1;32m   1328\u001b[0m \u001b[0;34m\u001b[0m\u001b[0m\n\u001b[1;32m   1329\u001b[0m                 \u001b[0;32mreturn\u001b[0m \u001b[0mcom\u001b[0m\u001b[0;34m.\u001b[0m\u001b[0m_values_from_object\u001b[0m\u001b[0;34m(\u001b[0m\u001b[0mindexer\u001b[0m\u001b[0;34m)\u001b[0m\u001b[0;34m\u001b[0m\u001b[0m\n",
      "\u001b[0;31mKeyError\u001b[0m: \"['Neuenhof' 'Luzern' 'La Chaux-de-Fonds' 'La Chaux-de-Fonds' 'Bern'\\n 'Zürich' 'Genève' 'Onex' 'Bern' 'Zollikon' 'Lausanne' 'Zürich' 'Lausanne'\\n 'Zürich' 'Zumikon' 'Winterthur' 'Solothurn' 'Bern' 'Sion' 'Lugano'\\n 'Genève' 'Lugano' 'Zürich' 'Lugano' 'Bad Ragaz' 'Zürich' 'Genève'\\n 'Unterseen' 'Zug' 'Winterthur' 'Aarau' 'Bern' 'Lausanne' 'Luzern'\\n 'Bülach' 'Zürich' 'Winterthur' 'Bern' 'Zürich' 'Sargans' 'Bern' 'Uster'\\n 'Yverdon-les-Bains' 'La Chaux-de-Fonds' 'Minusio' 'Bern' 'Biel/Bienne'\\n 'Mendrisio' 'Genève' 'Zürich' 'Neuchâtel' 'Zürich' 'Le Lignon'\\n 'Zihlschlacht' 'Martigny' 'Genève' 'Sion' 'Lugano' 'Zürich'\\n 'Plan-les-Ouates' 'Uznach' 'Fribourg' 'Walenstadtberg' 'Rüti ZH'\\n 'Fribourg' 'Genève' 'Lausanne' 'Winterthur' 'Genève' 'Lausanne'\\n 'Fribourg' 'Olten' 'St. Gallen' 'Delémont' 'Winterthur' 'Genève'\\n 'Winterthur' 'Basel' 'Fribourg' 'Wädenswil' 'Bellinzona' 'Frick'\\n 'Appenzell' 'Yverdon-les-Bains' 'Zürich' 'Vevey' 'Bern' 'Biel/Bienne'\\n 'Bern' 'Wettingen' 'Genève' 'Onex' 'Basel' 'Walenstadt' 'Bern' 'Bern'\\n 'Bellinzona' 'Zürich' 'Genève' 'Reinach BL' 'Opfikon' 'Zürich'\\n 'St. Gallen' 'Chur' 'Wil SG' 'Baar' 'Rorschach' 'Basel' 'Bern' 'Bülach'\\n 'Aarau' 'Zürich' 'Langenthal' 'Liestal' 'Luzern' 'Lausanne' 'Zürich'\\n 'Sion' 'Luzern' 'Hergiswil NW' 'Sion' 'Bulle' 'Bern' 'Solothurn' 'Zürich'\\n 'Basel' 'Bürgenstock' 'Bern' 'Winterthur' 'Zürich' 'Uster' 'Bülach'\\n 'Wädenswil' 'Opfikon' 'Thalwil' 'Nyon' 'Zürich' 'Aarau' 'Luzern' 'Luzern'\\n 'Rheinfelden' 'Zürich' 'Basel' 'Luzern' 'Horgen' 'Zug' 'Langenthal'\\n 'Genève' 'Lausanne' 'Bad Ragaz' 'Zürich' 'Zürich' 'Genève' 'Renens VD'\\n 'Neuchâtel' 'Meyrin' 'Meyrin' 'Muri b. Bern' 'Baden' 'Basel' 'Lugano'\\n 'Bellinzona' 'Basel' 'Frauenfeld' 'Basel' 'Aarau' 'Luzern' 'Moosseedorf'\\n 'Dietikon' 'Locarno' 'Basel' 'Delémont' 'Bülach' 'Visp' 'Sorengo' 'Bern'\\n 'Bern' 'Genève' 'Morges' 'Mendrisio' 'Lugano' 'Lausanne' 'Sion'\\n 'Lausanne' 'Genève' 'Schlieren' 'Dietlikon' 'Biel/Bienne' 'Wil SG' 'Bern'\\n 'St. Gallen' 'Zürich' 'Zug' 'Winterthur' 'Winterthur' 'Genève'\\n 'Epalinges' 'Genève' 'La Chaux-de-Fonds' 'Feuerthalen' 'Zihlschlacht'\\n 'Solothurn' 'Onex' 'Hergiswil NW' 'Sierre' 'Bellinzona' 'Locarno' 'Onex'\\n 'Bern' 'Winterthur' 'Schaffhausen' 'Olten' 'Uster' 'Bulle' 'Aarau'\\n 'Urdorf' 'Nyon' 'Winterthur' 'Lavigny' 'Baar' 'Vaduz' 'Bellinzona' 'Sion'\\n 'Onex' 'Münchenstein' 'Bern' 'Aarau' 'Basel' 'Zürich' 'Zürich'\\n 'Bellinzona' 'Basel' 'Thun' 'Basel' 'Genève' 'St. Gallen' 'Thun' 'Basel'\\n 'Sion' 'Neuchâtel' 'Zürich' 'Genève' 'Basel' 'Pfäffikon SZ' 'Liestal'\\n 'Wetzikon ZH' 'Lenzburg' 'Montreux' 'Les Avanchets' 'Biel/Bienne' 'Brig'\\n 'Bern' 'Genève' 'St. Gallen' 'Viganello' 'Conthey' 'Bellinzona'\\n 'Wettingen' 'Zürich' 'Bellinzona' 'Bern' 'Münsterlingen' 'Moutier' 'Bern'\\n 'Bern' 'Bellinzona' 'Uster' 'Zürich' 'Collombey' 'Bern' 'Meilen' 'Schwyz'\\n 'Baden' 'Zürich' 'Basel' 'Weinfelden' 'Zürich' 'Genève' 'Basel' 'Lugano'\\n 'Locarno' 'Kreuzlingen' 'Epalinges' 'Basel' 'Genève' 'St. Gallen' 'Basel'\\n 'Zürich' 'Zürich' 'Uznach' 'Zürich' 'Zürich' 'Aarau' 'Lugano' 'Lugano'\\n 'Martigny' 'Zürich' 'Zürich' 'Frauenfeld' 'Bellinzona' 'St. Gallen'\\n 'Bern' 'Thalwil' 'Sempach' 'Aarau' 'Zürich' 'Lugano' 'Basel' 'Zürich'\\n 'Muraz' 'Basel' 'Lugano' 'Basel' 'Liestal' 'Zürich' 'Allschwil'\\n 'Bürgenstock' 'Zürich' 'Lausanne' 'Ascona' 'Aquila' 'Lausanne' 'Prilly'\\n 'Sion' 'Schlieren' 'Basel' 'St. Gallen' 'Lugano' 'Genève' 'Basel' 'Bern'\\n 'Bellinzona' 'Viganello' 'Neuchâtel' 'Kilchberg' 'Lausanne' 'Liestal'\\n 'Lausanne' 'Genève 14' 'Etoy' 'Lugano' 'Bellinzona' 'Kilchberg ZH'\\n 'Vugelles-la-Mothe' 'Mühlethal' 'Bülach' 'La Chaux-de-Fonds' 'Genève'\\n 'Lausanne' 'Genolier' 'Zürich' 'Berikon' 'Rorschach' 'Lausanne'\\n 'Fribourg' 'Luzern' 'Lausanne' 'Sion' 'Payerne' 'La Chaux-de-Fonds'\\n 'Neuchâtel' 'Lausanne' 'Monthey' 'Genève' 'Regensdorf' 'Zürich' 'Zürich'\\n 'Bern' 'Lausanne' 'Zürich' 'Schaffhausen' 'Aarau' 'Baden' 'Liestal'\\n 'St. Gallen' 'Winterthur' 'Zürich' 'Tschugg' 'Zürich' 'Valens' 'Luzern'\\n 'Lausanne' 'Lugano' 'Bern' 'Kleinandelfingen' 'Luzern' 'Cully' 'Lausanne'\\n 'Zürich' 'Satigny' 'Zürich' 'Meggen' 'Sursee' 'Genève' 'Zug' 'Lindau'\\n 'Bern' 'Bern' 'St. Gallen' 'Zürich' 'Winterthur' 'Bern' 'Bern' 'Zürich'\\n 'Basel' 'Montreux' 'Aarau' 'Zürich' 'Bern 22' 'Bern' 'Bellinzona' 'Worb'\\n 'St. Gallen' 'Zürich' 'Sursee' 'Basel' 'Lausanne' 'Solothurn' 'Bern'\\n 'Burgdorf' 'Unterseen' 'Lachen SZ' 'Schwyz' 'Thun' 'Frauenfeld' 'Wil SG'\\n 'Wil' 'Rebstein' 'Küssnacht a.R.' 'Bern' 'Fribourg' 'Basel' 'Lugano'\\n 'Zürich' 'Bern' '3013' 'Zürich' 'Chur' 'St. Gallen' 'Zürich' 'Geneve'\\n 'Zürich' 'Rotkreuz' 'Zürich' 'Lausanne' 'Cheseaux-sur-Lausanne' 'Bern'\\n 'Basel' 'Zürich' 'Basel' 'Basel' 'Zürich' 'Bern' 'Luzern' 'Basel'\\n 'Zürich' 'Luzern'] not in index\""
     ]
    }
   ],
   "source": [
    "df_export[df_export[df_export.columns[1]]]"
   ]
  },
  {
   "cell_type": "code",
   "execution_count": null,
   "metadata": {},
   "outputs": [],
   "source": [
    "df_export.loc[d, 'd'] = 1"
   ]
  },
  {
   "cell_type": "code",
   "execution_count": null,
   "metadata": {},
   "outputs": [],
   "source": [
    "df_export = df_export.fillna(\"\")\n",
    "\n",
    "\n",
    "\n",
    "df_export[df_export['location'].str.contains('Aggregate amount')]"
   ]
  },
  {
   "cell_type": "code",
   "execution_count": null,
   "metadata": {},
   "outputs": [],
   "source": [
    "df_export.to_csv(\"export.csv\", sep=\";\")"
   ]
  },
  {
   "cell_type": "code",
   "execution_count": null,
   "metadata": {},
   "outputs": [],
   "source": []
  }
 ],
 "metadata": {
  "kernelspec": {
   "display_name": "Python 3",
   "language": "python",
   "name": "python3"
  },
  "language_info": {
   "codemirror_mode": {
    "name": "ipython",
    "version": 3
   },
   "file_extension": ".py",
   "mimetype": "text/x-python",
   "name": "python",
   "nbconvert_exporter": "python",
   "pygments_lexer": "ipython3",
   "version": "3.6.5"
  }
 },
 "nbformat": 4,
 "nbformat_minor": 2
}
