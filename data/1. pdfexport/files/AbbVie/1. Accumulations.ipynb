{
 "cells": [
  {
   "cell_type": "markdown",
   "metadata": {},
   "source": [
    "# AbbVie - Accumulations"
   ]
  },
  {
   "cell_type": "code",
   "execution_count": 16,
   "metadata": {},
   "outputs": [],
   "source": [
    "import sys\n",
    "sys.path.insert(0, '../../../lib/')\n",
    "\n",
    "import tabula\n",
    "import numpy as np\n",
    "import pandas as pd\n",
    "import importlib\n",
    "\n",
    "import pdfexport\n",
    "importlib.reload(pdfexport)\n",
    "\n",
    "from pdfexport import *"
   ]
  },
  {
   "cell_type": "code",
   "execution_count": 17,
   "metadata": {},
   "outputs": [],
   "source": [
    "# Read pdf into DataFrame\n",
    "df = tabula.read_pdf(\"AbbVie_2017_Switzerland_EFPIA_Report_Final.pdf\", pages='all', lattice=True)"
   ]
  },
  {
   "cell_type": "code",
   "execution_count": 18,
   "metadata": {},
   "outputs": [],
   "source": [
    "df_export = df.copy()\n",
    "\n",
    "column0 = df_export[df_export.columns[0]]\n",
    "\n",
    "#Shift all where column[1] not empty\n",
    "df_export[column0.notna()] = df_export[column0.notna()].shift(1, axis='columns')\n",
    "\n",
    "#Drop Columns\n",
    "df_export = df_export.drop(df.columns[9:14],axis=1)\n",
    "df_export = df_export.drop(df.columns[0],axis=1)\n",
    "\n",
    "#Rename\n",
    "df_export.columns = fix_columns_accumulations[0: 8]\n",
    "\n",
    "#fill na\n",
    "df_export = df_export.fillna(\"\")\n",
    "\n",
    "# Select\n",
    "amount = df_export[df_export.type.str.contains('Aggregate amount')]\n",
    "recipients = df_export[df_export.type.str.contains('Number of Recipients')]\n",
    "df_export = pd.concat([amount, recipients])\n",
    "\n",
    "#Numberize and sum\n",
    "df_export = amounts_to_number(df_export)\n",
    "df_export = sum_amounts(df_export)\n",
    "\n",
    "#Rename first column\n",
    "df_export = df_export.reset_index(drop=True)\n",
    "df_export.iloc[0,0] = \"hcp_amount\"\n",
    "df_export.iloc[1,0] = \"hco_amount\"\n",
    "df_export.iloc[2,0] = \"hcp_count\"\n",
    "df_export.iloc[3,0] = \"hco_count\"\n",
    "\n",
    "export_acumulations(df_export, 'abbvie')"
   ]
  },
  {
   "cell_type": "code",
   "execution_count": null,
   "metadata": {},
   "outputs": [],
   "source": []
  }
 ],
 "metadata": {
  "kernelspec": {
   "display_name": "Python 3",
   "language": "python",
   "name": "python3"
  },
  "language_info": {
   "codemirror_mode": {
    "name": "ipython",
    "version": 3
   },
   "file_extension": ".py",
   "mimetype": "text/x-python",
   "name": "python",
   "nbconvert_exporter": "python",
   "pygments_lexer": "ipython3",
   "version": "3.6.5"
  }
 },
 "nbformat": 4,
 "nbformat_minor": 2
}
