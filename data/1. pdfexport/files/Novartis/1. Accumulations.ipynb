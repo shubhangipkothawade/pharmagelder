{
 "cells": [
  {
   "cell_type": "markdown",
   "metadata": {},
   "source": [
    "# Accumulation - Novartis\n",
    "## Next year\n",
    "* Manually"
   ]
  },
  {
   "cell_type": "code",
   "execution_count": 1,
   "metadata": {},
   "outputs": [],
   "source": [
    "import sys\n",
    "sys.path.insert(0, '../../../lib/')\n",
    "\n",
    "import tabula\n",
    "import numpy as np\n",
    "import pandas as pd\n",
    "import importlib\n",
    "\n",
    "import pdfexport\n",
    "importlib.reload(pdfexport)\n",
    "\n",
    "from pdfexport import *"
   ]
  },
  {
   "cell_type": "markdown",
   "metadata": {},
   "source": [
    "## Import PDF"
   ]
  },
  {
   "cell_type": "code",
   "execution_count": 2,
   "metadata": {},
   "outputs": [
    {
     "name": "stdout",
     "output_type": "stream",
     "text": [
      "saved\n"
     ]
    }
   ],
   "source": [
    "df_export = pd.DataFrame(columns=fix_columns_accumulations[:-1])\n",
    "\n",
    "# Add HCP\n",
    "df_export = add_accumulation(df_export, AccType.hcp_amount,\n",
    "                             donations_grants = '',\n",
    "                             sponsorship = '',\n",
    "                             registration_fees = '1',\n",
    "                             travel_accommodation = '',\n",
    "                             fees = '2',\n",
    "                             related_expenses = '2'\n",
    "                            )\n",
    "\n",
    "df_export = add_accumulation(df_export, AccType.hcp_count,\n",
    "                             donations_grants = '',\n",
    "                             sponsorship = '',\n",
    "                             registration_fees = '9220',\n",
    "                             travel_accommodation = '',\n",
    "                             fees = '3540',\n",
    "                             related_expenses = '2148.04'\n",
    "                            )\n",
    "\n",
    "# Add HCO\n",
    "df_export = add_accumulation(df_export, AccType.hco_amount,\n",
    "                             donations_grants = '85000',\n",
    "                             sponsorship = '4000',\n",
    "                             registration_fees = '569.65',\n",
    "                             travel_accommodation = '',\n",
    "                             fees = '9686',\n",
    "                             related_expenses = ''\n",
    "                            )\n",
    "\n",
    "df_export = add_accumulation(df_export, AccType.hco_count,\n",
    "                             donations_grants = '1',\n",
    "                             sponsorship = '2',\n",
    "                             registration_fees = '2',\n",
    "                             travel_accommodation = '',\n",
    "                             fees = '3',\n",
    "                             related_expenses = ''\n",
    "                            )\n",
    "\n",
    "# RnD\n",
    "df_export = add_accumulation(df_export, AccType.rnd,\n",
    "                            total = '6727195,22')\n",
    "\n",
    "#Numberize and sum\n",
    "df_export = replace_comma_to_dot(df_export)\n",
    "df_export = cleanup_number(df_export)\n",
    "df_export = amounts_to_number(df_export)\n",
    "df_export = sum_amounts(df_export)\n",
    "df_export.loc[df_export['type'].str.contains('count'), 'total'] = np.nan\n",
    "\n",
    "export_acumulations(df_export, 'novartis')"
   ]
  },
  {
   "cell_type": "code",
   "execution_count": null,
   "metadata": {},
   "outputs": [],
   "source": []
  }
 ],
 "metadata": {
  "kernelspec": {
   "display_name": "Python 3",
   "language": "python",
   "name": "python3"
  },
  "language_info": {
   "codemirror_mode": {
    "name": "ipython",
    "version": 3
   },
   "file_extension": ".py",
   "mimetype": "text/x-python",
   "name": "python",
   "nbconvert_exporter": "python",
   "pygments_lexer": "ipython3",
   "version": "3.6.5"
  }
 },
 "nbformat": 4,
 "nbformat_minor": 2
}
