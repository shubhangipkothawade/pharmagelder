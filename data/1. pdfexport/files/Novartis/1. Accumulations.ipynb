{
 "cells": [
  {
   "cell_type": "markdown",
   "metadata": {},
   "source": [
    "# Novartis - Accumulations\n",
    "## Beachten\n",
    "* Manuell erfassen"
   ]
  },
  {
   "cell_type": "code",
   "execution_count": 39,
   "metadata": {},
   "outputs": [],
   "source": [
    "import sys\n",
    "sys.path.insert(0, '../../../lib/')\n",
    "\n",
    "import tabula\n",
    "import numpy as np\n",
    "import pandas as pd\n",
    "import importlib\n",
    "\n",
    "import pdfexport\n",
    "importlib.reload(pdfexport)\n",
    "\n",
    "from pdfexport import *"
   ]
  },
  {
   "cell_type": "markdown",
   "metadata": {},
   "source": [
    "## Format Table"
   ]
  },
  {
   "cell_type": "code",
   "execution_count": 42,
   "metadata": {},
   "outputs": [
    {
     "name": "stdout",
     "output_type": "stream",
     "text": [
      "saved\n"
     ]
    }
   ],
   "source": [
    "#Empty Dataset\n",
    "df_export = pd.DataFrame(columns=fix_columns_accumulations[:-1])\n",
    "\n",
    "#Add Values\n",
    "df_export = add_accumulation(df_export, AccType.hcp_amount, fees = 14389.37, total = 14389.37)\n",
    "df_export = add_accumulation(df_export, AccType.hcp_count, fees = 8, total = 8)\n",
    "df_export = add_accumulation(df_export, AccType.hco_amount, sponsorship = 1000, total = 1000)\n",
    "df_export = add_accumulation(df_export, AccType.hco_count, sponsorship = 1, total = 1)\n",
    "df_export = add_accumulation(df_export, AccType.rnd, total = 8141826.61)\n",
    "\n",
    "#Numberize\n",
    "df_export = amounts_to_number(df_export)\n",
    "\n",
    "#Export\n",
    "export_acumulations(df_export, 'novartis')"
   ]
  },
  {
   "cell_type": "code",
   "execution_count": null,
   "metadata": {},
   "outputs": [],
   "source": [
    "#write_to_csv(df_export, 'tmp.csv')\n",
    "#write_to_excel(df_export, 'tmp.xlsx')"
   ]
  }
 ],
 "metadata": {
  "kernelspec": {
   "display_name": "Python 3",
   "language": "python",
   "name": "python3"
  },
  "language_info": {
   "codemirror_mode": {
    "name": "ipython",
    "version": 3
   },
   "file_extension": ".py",
   "mimetype": "text/x-python",
   "name": "python",
   "nbconvert_exporter": "python",
   "pygments_lexer": "ipython3",
   "version": "3.6.5"
  }
 },
 "nbformat": 4,
 "nbformat_minor": 2
}
