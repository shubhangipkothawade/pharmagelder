{
 "cells": [
  {
   "cell_type": "markdown",
   "metadata": {},
   "source": [
    "# Novartis - List\n",
    "* Last year, PDF was not readeable -> OCR. If nexttime again OCR, see version history of this file"
   ]
  },
  {
   "cell_type": "code",
   "execution_count": 1,
   "metadata": {},
   "outputs": [],
   "source": [
    "import sys\n",
    "sys.path.insert(0, '../../../lib/')\n",
    "\n",
    "import tabula\n",
    "import numpy as np\n",
    "import pandas as pd\n",
    "import importlib\n",
    "\n",
    "import pdfexport\n",
    "importlib.reload(pdfexport)\n",
    "\n",
    "from pdfexport import *\n",
    "#import consts"
   ]
  },
  {
   "cell_type": "markdown",
   "metadata": {},
   "source": [
    "## Import PDF"
   ]
  },
  {
   "cell_type": "code",
   "execution_count": 2,
   "metadata": {},
   "outputs": [],
   "source": [
    "# Read pdf into DataFrame\n",
    "df = tabula.read_pdf(\"payment-disclosure-pharma-switzerland-2018-de.pdf\", pages='all', lattice=True)"
   ]
  },
  {
   "cell_type": "markdown",
   "metadata": {},
   "source": [
    "## Format Table"
   ]
  },
  {
   "cell_type": "code",
   "execution_count": 33,
   "metadata": {},
   "outputs": [
    {
     "name": "stdout",
     "output_type": "stream",
     "text": [
      "saved\n"
     ]
    }
   ],
   "source": [
    "df_export = df.copy()\n",
    "\n",
    "#Rename Columns\n",
    "df_export.columns = ['empty0', 'name', 'location', 'country', 'address', 'uci', 'donations_grants', 'sponsorship', 'registration_fees','travel_accommodation', 'fees', 'related_expenses', 'empty1', 'total']\n",
    "\n",
    "#Empty Row if length == 1\n",
    "df_export.loc[df_export['empty0'].str.len() == 1, 'empty0'] = np.nan\n",
    "\n",
    "#Shift\n",
    "df_export[df_export['empty0'].notna()] = df_export[df_export['empty0'].notna()].shift(1, axis='columns')\n",
    "\n",
    "#Drop Rows\n",
    "df_export = df_export.dropna(subset=['total'], how='all')\n",
    "\n",
    "#Drop Column\n",
    "df_export = df_export.drop(columns=['empty0', 'empty1'])\n",
    "\n",
    "#Set Type\n",
    "df_export = set_type_by_alphabetical_order(df_export)\n",
    "\n",
    "#Remove \\r\n",
    "df_export = remove_carination(df_export, \" \")\n",
    "\n",
    "#shift Surname/Lastname\n",
    "df_export = revert_name(df_export, ', ')\n",
    "\n",
    "#Convert to Numbers\n",
    "df_export = cleanup_number(df_export)\n",
    "df_export = replace_comma_to_dot(df_export)\n",
    "df_export = amounts_to_number(df_export)\n",
    "\n",
    "#basic string conversion\n",
    "df_export = basic_string_conversion(df_export)\n",
    "\n",
    "#Add PLZ\n",
    "df_export = add_plz(df_export)\n",
    "\n",
    "#Export\n",
    "export_list(df_export, 'novartis')"
   ]
  },
  {
   "cell_type": "code",
   "execution_count": 5,
   "metadata": {},
   "outputs": [],
   "source": [
    "#write_to_csv(df_export, 'tmp.csv')\n",
    "#write_to_excel(df_export, 'tmp.xlsx', open=True)"
   ]
  },
  {
   "cell_type": "code",
   "execution_count": null,
   "metadata": {},
   "outputs": [],
   "source": []
  }
 ],
 "metadata": {
  "kernelspec": {
   "display_name": "Python 3",
   "language": "python",
   "name": "python3"
  },
  "language_info": {
   "codemirror_mode": {
    "name": "ipython",
    "version": 3
   },
   "file_extension": ".py",
   "mimetype": "text/x-python",
   "name": "python",
   "nbconvert_exporter": "python",
   "pygments_lexer": "ipython3",
   "version": "3.6.5"
  }
 },
 "nbformat": 4,
 "nbformat_minor": 2
}
