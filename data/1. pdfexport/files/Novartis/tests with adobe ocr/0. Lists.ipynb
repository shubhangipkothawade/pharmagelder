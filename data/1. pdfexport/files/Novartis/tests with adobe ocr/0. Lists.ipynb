{
 "cells": [
  {
   "cell_type": "markdown",
   "metadata": {},
   "source": [
    "# Novartis\n",
    "\n",
    "## Beachten im nächsten Jahr\n",
    "* OCR"
   ]
  },
  {
   "cell_type": "code",
   "execution_count": 1,
   "metadata": {},
   "outputs": [],
   "source": [
    "import sys\n",
    "sys.path.insert(0, '../../../lib/')\n",
    "\n",
    "import tabula\n",
    "import numpy as np\n",
    "import pandas as pd\n",
    "import importlib\n",
    "import re\n",
    "\n",
    "import pdfexport\n",
    "importlib.reload(pdfexport)\n",
    "\n",
    "from pdfexport import *"
   ]
  },
  {
   "cell_type": "markdown",
   "metadata": {},
   "source": [
    "## Import PDF"
   ]
  },
  {
   "cell_type": "code",
   "execution_count": 2,
   "metadata": {},
   "outputs": [],
   "source": [
    "# Read pdf into DataFrame\n",
    "#columns = [48.53, 106.31, 163.7, 221.22, 279.07, 337.85, 395.94, 454.52, 511.85, 569.83, 628.18, 744.27]\n",
    "columns = [46.24, 106.31, 163.7, 221.22, 279.07, 337.85, 395.94, 454.52, 511.85, 569.83, 628.18, 744.27]\n",
    "# \"x1\": 46.69,\n",
    "area = {\n",
    "  \"x1\": 22.298105130004696,\n",
    "  \"x2\": 808.6649800537107,\n",
    "  \"y1\": 193.18539842481607,\n",
    "  \"y2\": 566.8938865077018,\n",
    "}\n",
    "\n",
    "df = tabula.read_pdf(\"Novartis_payment-disclosure-pharma-switzerland-2017-de_ocr.pdf\", pages='all', stream=True, columns=columns, guess=False, area=[area['y1'], area['x1'], area['y2'], area['x2']])"
   ]
  },
  {
   "cell_type": "markdown",
   "metadata": {},
   "source": [
    "## Format Table"
   ]
  },
  {
   "cell_type": "code",
   "execution_count": 35,
   "metadata": {},
   "outputs": [],
   "source": [
    "#Rename Columns\n",
    "df_export = df.copy()\n",
    "\n",
    "#Rename\n",
    "df_export.columns = ['empty', 'name', 'location', 'country', 'address', 'uci', 'donations_grants', 'sponsorship', 'registration_fees', 'travel_accommodation', 'fees', 'related_expenses', 'total']\n",
    "\n",
    "########################\n",
    "#\n",
    "#  ROUND 1\n",
    "#  Concat Row above and beneath a row with total value\n",
    "#\n",
    "########################\n",
    "\n",
    "df_export['name'] = df_export['name'].fillna(\"\")\n",
    "df_export['address'] = df_export['address'].fillna(\"\")\n",
    "\n",
    "\n",
    "write_to_excel(df_export, 'tmp.xlsx')\n",
    "\n",
    "selection = df_export[df_export.total.notna()]\n",
    "remove_index = []\n",
    "\n",
    "for index, row in selection.iterrows():\n",
    "    \n",
    "    r_previous = df_export.loc[index - 1]\n",
    "    r_next = df_export.loc[index + 1]\n",
    "    \n",
    "    #Concat Name\n",
    "    if r_previous['name'] != \"\":\n",
    "        row['name'] = r_previous['name'] + ' ' + row['name']\n",
    "        row['name'] = row['name'].strip()\n",
    "        \n",
    "    if r_next['name'] != \"\":\n",
    "        row['name'] = row['name'] + ' ' + r_next['name']\n",
    "        row['name'] = row['name'].strip()\n",
    "    \n",
    "        \n",
    "    #Concat address\n",
    "    if not pd.isnull(r_previous['address']):\n",
    "        row['address'] = r_previous['address'] + ' ' + row['address']\n",
    "        row['address'] = row['address'].strip()\n",
    "        \n",
    "    if not pd.isnull(r_next['address']):\n",
    "        row['address'] = row['address'] + ' ' + r_next['address']\n",
    "        row['address'] = row['address'].strip()\n",
    "\n",
    "    df_export.loc[index, 'name'] = row['name']\n",
    "    df_export.loc[index, 'address'] = row['address']\n",
    "    \n",
    "    remove_index.append(index - 1)\n",
    "    remove_index.append(index + 1)\n",
    "\n",
    "#Remove Rows\n",
    "df_export = df_export.drop(df_export.index[remove_index])\n",
    "\n",
    "#Replace empty to NaN\n",
    "df_export.loc[df_export['name'] == '', 'name'] = np.NaN\n",
    "df_export.loc[df_export['address'] == '', 'address'] = np.NaN\n",
    "df_export.loc[df_export['donations_grants'] == '----', 'donations_grants'] = np.NaN\n",
    "df_export.loc[df_export['donations_grants'] == '.', 'donations_grants'] = np.NaN\n",
    "df_export.loc[df_export['donations_grants'] == '·', 'donations_grants'] = np.NaN\n",
    "\n",
    "#Remove empty rows\n",
    "df_export.drop(columns=['empty'], inplace=True)\n",
    "df_export = df_export.dropna(how='all')\n",
    "\n",
    "#Reset Index\n",
    "df_export = df_export.reset_index(drop=True)\n",
    "\n",
    "########################\n",
    "#\n",
    "#  ROUND 2\n",
    "#  Concat Rows without name. Logic: If Number at the end, concat it with row above (its probably an address)\n",
    "#\n",
    "########################\n",
    "\n",
    "def concat_rows_up_or_down(df_export):\n",
    "    #Fill na\n",
    "    df_export['name'] = df_export['name'].fillna(\"\")\n",
    "    df_export['address'] = df_export['address'].fillna(\"\")\n",
    "\n",
    "    selection = df_export[df_export['name'] == \"\"]\n",
    "    selection = selection.sort_index(axis=0 ,ascending=False)\n",
    "\n",
    "    for index, row in selection.iterrows():\n",
    "        address = df_export.loc[index, 'address']\n",
    "        if re.search(r'\\d+$', str(address)):\n",
    "            #Add to row above\n",
    "            df_export.loc[index - 1, 'address'] = df_export.loc[index - 1, 'address'] + ' ' + address\n",
    "        else:\n",
    "            #Copy to above\n",
    "            df_export.loc[index + 1, 'address'] = address + \" \" + df_export.loc[index + 1, 'address']\n",
    "\n",
    "        #df_export.loc[index, 'address'] = \"REPLACED\"\n",
    "        df_export.loc[index, 'address'] = \"\"\n",
    "\n",
    "    #Remove empty rows\n",
    "    df_export.loc[df_export['address'] == '', 'address'] = np.NaN\n",
    "    df_export.loc[df_export['name'] == '', 'name'] = np.NaN\n",
    "    df_export = df_export.dropna(how='all')\n",
    "    \n",
    "    return df_export\n",
    "\n",
    "#df_export = concat_rows_up_or_down(df_export)\n",
    "#df_export = concat_rows_up_or_down(df_export)\n",
    "#df_export = concat_rows_up_or_down(df_export)\n",
    "\n",
    "#df_export[7:10]"
   ]
  },
  {
   "cell_type": "code",
   "execution_count": 27,
   "metadata": {},
   "outputs": [],
   "source": [
    "s = ''\n",
    "r = re.search(r'\\d+$', 'Hauptstr8sse d')\n",
    "if r:\n",
    "    print(\"yes\")"
   ]
  },
  {
   "cell_type": "code",
   "execution_count": null,
   "metadata": {},
   "outputs": [],
   "source": []
  },
  {
   "cell_type": "code",
   "execution_count": null,
   "metadata": {},
   "outputs": [],
   "source": []
  },
  {
   "cell_type": "code",
   "execution_count": 69,
   "metadata": {},
   "outputs": [
    {
     "name": "stdout",
     "output_type": "stream",
     "text": [
      "saved\n"
     ]
    }
   ],
   "source": [
    "#Rename Columns\n",
    "df_export = df.copy()\n",
    "df_export.columns = ['name', 'location', 'country', 'address', 'uci', 'donations_grants', 'sponsorship', 'registration_fees', 'travel_accommodation', 'fees', 'related_expenses', 'total', 'empty1', 'empty2']\n",
    "\n",
    "#Shift all where 'name' is empty\n",
    "df_export[df_export['name'].isna()] = df_export[df_export['name'].isna()].shift(-1, axis='columns')\n",
    "\n",
    "#Type by text\n",
    "index_hco = df_export[df_export['name'].str.contains(\"INDIVIDUAL NAMED DISCLOSURE\", na=False)].index[1]\n",
    "df_export['type'] = np.where(df_export.index < index_hco, 'hcp', 'hco')\n",
    "\n",
    "#Remove empty rows\n",
    "df_export = df_export.dropna(subset=['location'], how='all')\n",
    "df_export = df_export[~df_export.name.str.contains('Full Name')]\n",
    "df_export = df_export[0: -3]\n",
    "\n",
    "#Add Rows Manually\n",
    "df_export = add_rows_manually(df_export)\n",
    "\n",
    "#Remove empties\n",
    "df_export.drop(columns=['empty1', 'empty2'], inplace=True)\n",
    "\n",
    "#Cleanup Numbers and sum\n",
    "df_export = amounts_to_number(df_export)\n",
    "df_export = sum_amounts(df_export)\n",
    "\n",
    "#Add empty fields\n",
    "df_export = add_plz(df_export)\n",
    "\n",
    "#Remove Carination\n",
    "df_export = remove_carination(df_export)\n",
    "\n",
    "#basic string conversion\n",
    "df_export = basic_string_conversion(df_export)\n",
    "\n",
    "export_list(df_export, 'mundipharma')"
   ]
  },
  {
   "cell_type": "code",
   "execution_count": null,
   "metadata": {},
   "outputs": [],
   "source": [
    "#write_to_csv(df_export, 'tmp.csv', True)\n",
    "#write_to_excel(df_export, 'tmp.xlsx')"
   ]
  }
 ],
 "metadata": {
  "kernelspec": {
   "display_name": "Python 3",
   "language": "python",
   "name": "python3"
  },
  "language_info": {
   "codemirror_mode": {
    "name": "ipython",
    "version": 3
   },
   "file_extension": ".py",
   "mimetype": "text/x-python",
   "name": "python",
   "nbconvert_exporter": "python",
   "pygments_lexer": "ipython3",
   "version": "3.6.5"
  }
 },
 "nbformat": 4,
 "nbformat_minor": 2
}
