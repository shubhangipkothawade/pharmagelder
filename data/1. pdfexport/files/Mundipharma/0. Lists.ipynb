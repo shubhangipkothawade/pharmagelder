{
 "cells": [
  {
   "cell_type": "markdown",
   "metadata": {},
   "source": [
    "# Mundipharma\n",
    "\n",
    "## Beachten im nächsten Jahr\n",
    "* Seitenenden werden nicht erkannt. Einige Adresse manuell einfügen!\n",
    "* Totale wurden manuell berechnet\n",
    "* Letzten drei Zeilen entfernt\n",
    "* Columnen und Area mussten definiert werden"
   ]
  },
  {
   "cell_type": "code",
   "execution_count": 54,
   "metadata": {},
   "outputs": [],
   "source": [
    "import sys\n",
    "sys.path.insert(0, '../../../lib/')\n",
    "\n",
    "import tabula\n",
    "import numpy as np\n",
    "import pandas as pd\n",
    "import importlib\n",
    "\n",
    "import pdfexport\n",
    "importlib.reload(pdfexport)\n",
    "\n",
    "from pdfexport import *"
   ]
  },
  {
   "cell_type": "markdown",
   "metadata": {},
   "source": [
    "## Import PDF"
   ]
  },
  {
   "cell_type": "code",
   "execution_count": 38,
   "metadata": {},
   "outputs": [],
   "source": [
    "# Read pdf into DataFrame\n",
    "\n",
    "columns = [21, 47.09, 233.45, 303.71, 348.85, 476.36, 512.02, 553.34, 596.85, 638.58, 680.28, 721.7, 763.5, 785.27]\n",
    "area = [28.9559518348868, 12.820151963112876, 581.465980673998, 825.2729943703393]\n",
    "\n",
    "df = tabula.read_pdf(\"Zuwendungen_an_medizinische_Fachkreise_2017.pdf\", pages='all', lattice=True, columns=columns, guess=False, area=area)"
   ]
  },
  {
   "cell_type": "markdown",
   "metadata": {},
   "source": [
    "## Add rows manually!"
   ]
  },
  {
   "cell_type": "code",
   "execution_count": 61,
   "metadata": {},
   "outputs": [],
   "source": [
    "def add_rows_manually(df_export):\n",
    "    #Add Missing rows EDIT!\n",
    "    df_export = df_export.append({'name': 'Barbara Mühlheim', \n",
    "                                 'location': 'Bern',\n",
    "                                 'country': 'Switzerland',\n",
    "                                 'address': 'KODA-1',\n",
    "                                 'registration_fees': 162,\n",
    "                                 'travel_accommodation': 606,\n",
    "                                 'total': 768,\n",
    "                                 'type': 'hcp'\n",
    "                                 }, ignore_index=True)\n",
    "\n",
    "    df_export = df_export.append({'name': 'European League Against Pain EULAP', \n",
    "                                 'location': 'Zürich',\n",
    "                                 'country': 'Switzerland',\n",
    "                                 'address': 'Zürich',\n",
    "                                 'donations_grants': 5000,\n",
    "                                 'total': 5000,\n",
    "                                 'type': 'hco'\n",
    "                                 }, ignore_index=True)\n",
    "\n",
    "    df_export = df_export.append({'name': 'Spitalverband Appenzell Ausserrhoden', \n",
    "                                 'location': 'Herisau',\n",
    "                                 'country': 'Switzerland',\n",
    "                                 'address': 'Herisau',\n",
    "                                 'donations_grants': 1500,\n",
    "                                 'total': 1500,\n",
    "                                 'type': 'hco'\n",
    "                                 }, ignore_index=True)\n",
    "    return df_export"
   ]
  },
  {
   "cell_type": "markdown",
   "metadata": {},
   "source": [
    "## Format Table"
   ]
  },
  {
   "cell_type": "code",
   "execution_count": 69,
   "metadata": {},
   "outputs": [
    {
     "name": "stdout",
     "output_type": "stream",
     "text": [
      "saved\n"
     ]
    }
   ],
   "source": [
    "#Rename Columns\n",
    "df_export = df.copy()\n",
    "df_export.columns = ['name', 'location', 'country', 'address', 'uci', 'donations_grants', 'sponsorship', 'registration_fees', 'travel_accommodation', 'fees', 'related_expenses', 'total', 'empty1', 'empty2']\n",
    "\n",
    "#Shift all where 'name' is empty\n",
    "df_export[df_export['name'].isna()] = df_export[df_export['name'].isna()].shift(-1, axis='columns')\n",
    "\n",
    "#Type by text\n",
    "index_hco = df_export[df_export['name'].str.contains(\"INDIVIDUAL NAMED DISCLOSURE\", na=False)].index[1]\n",
    "df_export['type'] = np.where(df_export.index < index_hco, 'hcp', 'hco')\n",
    "\n",
    "#Remove empty rows\n",
    "df_export = df_export.dropna(subset=['location'], how='all')\n",
    "df_export = df_export[~df_export.name.str.contains('Full Name')]\n",
    "df_export = df_export[0: -3]\n",
    "\n",
    "#Add Rows Manually\n",
    "df_export = add_rows_manually(df_export)\n",
    "\n",
    "#Remove empties\n",
    "df_export.drop(columns=['empty1', 'empty2'], inplace=True)\n",
    "\n",
    "#Cleanup Numbers and sum\n",
    "df_export = amounts_to_number(df_export)\n",
    "df_export = sum_amounts(df_export)\n",
    "\n",
    "#Add empty fields\n",
    "df_export = add_plz(df_export)\n",
    "\n",
    "#Remove Carination\n",
    "df_export = remove_carination(df_export)\n",
    "\n",
    "#basic string conversion\n",
    "df_export = basic_string_conversion(df_export)\n",
    "\n",
    "export_list(df_export, 'mundipharma')"
   ]
  },
  {
   "cell_type": "code",
   "execution_count": null,
   "metadata": {},
   "outputs": [],
   "source": [
    "#write_to_csv(df_export, 'tmp.csv', True)\n",
    "#write_to_excel(df_export, 'tmp.xlsx')"
   ]
  }
 ],
 "metadata": {
  "kernelspec": {
   "display_name": "Python 3",
   "language": "python",
   "name": "python3"
  },
  "language_info": {
   "codemirror_mode": {
    "name": "ipython",
    "version": 3
   },
   "file_extension": ".py",
   "mimetype": "text/x-python",
   "name": "python",
   "nbconvert_exporter": "python",
   "pygments_lexer": "ipython3",
   "version": "3.6.5"
  }
 },
 "nbformat": 4,
 "nbformat_minor": 2
}
