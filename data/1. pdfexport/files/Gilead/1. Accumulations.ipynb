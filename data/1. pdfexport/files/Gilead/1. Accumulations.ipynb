{
 "cells": [
  {
   "cell_type": "markdown",
   "metadata": {},
   "source": [
    "# Gilead - Accumulations\n",
    "## Next year\n",
    "* No Accumulations. Correct?"
   ]
  },
  {
   "cell_type": "code",
   "execution_count": 1,
   "metadata": {},
   "outputs": [],
   "source": [
    "import sys\n",
    "sys.path.insert(0, '../../../lib/')\n",
    "\n",
    "import tabula\n",
    "import numpy as np\n",
    "import pandas as pd\n",
    "import importlib\n",
    "\n",
    "import pdfexport\n",
    "importlib.reload(pdfexport)\n",
    "\n",
    "from pdfexport import *"
   ]
  },
  {
   "cell_type": "markdown",
   "metadata": {},
   "source": [
    "## Import PDF"
   ]
  },
  {
   "cell_type": "code",
   "execution_count": 2,
   "metadata": {},
   "outputs": [],
   "source": [
    "# Read pdf into DataFrame\n",
    "df = tabula.read_pdf(\"Gilead_Sciences_Switzerland_EFPIA_Report_2018.pdf\", pages='all', lattice=True, pandas_options={'thousands': '.'})"
   ]
  },
  {
   "cell_type": "markdown",
   "metadata": {},
   "source": [
    "## Format Table"
   ]
  },
  {
   "cell_type": "code",
   "execution_count": 8,
   "metadata": {},
   "outputs": [
    {
     "name": "stdout",
     "output_type": "stream",
     "text": [
      "Total nicht Summe der Werte\n",
      "saved\n"
     ]
    }
   ],
   "source": [
    "df_export = df.copy()\n",
    "\n",
    "#Clear cells with not more than 1 char\n",
    "column = df_export.columns[0]\n",
    "df_export.loc[df_export[column].str.len() <= 1, column] = np.NaN\n",
    "\n",
    "#Shift row\n",
    "column = df_export.columns[0]\n",
    "df_export[df_export[column].isna()] = df_export[df_export[column].isna()].shift(-1, axis='columns')\n",
    "\n",
    "#Drop Columns\n",
    "df_export = df_export.drop(df.columns[[7]],axis=1)\n",
    "df_export = df_export.drop(df.columns[9:],axis=1)\n",
    "\n",
    "#Rename\n",
    "df_export.columns = fix_columns_accumulations[0: 8]\n",
    "\n",
    "# Select\n",
    "amount = df_export[df_export.type.str.contains('Aggregate amount', na=False)]\n",
    "recipients = df_export[df_export.type.str.contains('Number of', na=False)]\n",
    "rnd = df_export[-1:]\n",
    "\n",
    "df_export = pd.concat([amount, recipients, rnd])\n",
    "\n",
    "#Convert to Numbers\n",
    "#df_export = remove_dots(df_export)\n",
    "df_export = remove_comma(df_export)\n",
    "df_export = amounts_to_number(df_export)\n",
    "\n",
    "#Rename first column\n",
    "df_export = df_export.reset_index(drop=True)\n",
    "df_export.iloc[0,0] = \"hcp_amount\"\n",
    "df_export.iloc[1,0] = \"hco_amount\"\n",
    "df_export.iloc[2,0] = \"hcp_count\"\n",
    "df_export.iloc[3,0] = \"hco_count\"\n",
    "df_export.iloc[4,0] = \"rnd\"\n",
    "\n",
    "#Shift RND from Sponsorship to total\n",
    "df_export.loc[df_export.type == 'rnd', 'total'] = df_export.donations_grants\n",
    "df_export.loc[df_export.type == 'rnd', \"donations_grants\"] = np.NaN\n",
    "df_export.loc[df_export.type == 'rnd', \"sponsorship\"] = np.NaN\n",
    "\n",
    "export_acumulations(df_export, 'gilead')"
   ]
  },
  {
   "cell_type": "code",
   "execution_count": 4,
   "metadata": {},
   "outputs": [],
   "source": [
    "#write_to_csv(df_export, 'tmp.csv')\n",
    "#write_to_excel(df_export, 'tmp.xlsx', open=True)"
   ]
  }
 ],
 "metadata": {
  "kernelspec": {
   "display_name": "Python 3",
   "language": "python",
   "name": "python3"
  },
  "language_info": {
   "codemirror_mode": {
    "name": "ipython",
    "version": 3
   },
   "file_extension": ".py",
   "mimetype": "text/x-python",
   "name": "python",
   "nbconvert_exporter": "python",
   "pygments_lexer": "ipython3",
   "version": "3.6.5"
  }
 },
 "nbformat": 4,
 "nbformat_minor": 2
}
