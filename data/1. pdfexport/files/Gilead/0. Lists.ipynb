{
 "cells": [
  {
   "cell_type": "markdown",
   "metadata": {},
   "source": [
    "# Gilead - List\n",
    "## Info\n",
    "* Summe falsch angeliefert"
   ]
  },
  {
   "cell_type": "code",
   "execution_count": 1,
   "metadata": {},
   "outputs": [],
   "source": [
    "import sys\n",
    "sys.path.insert(0, '../../../lib/')\n",
    "\n",
    "import tabula\n",
    "import numpy as np\n",
    "import pandas as pd\n",
    "import importlib\n",
    "import re\n",
    "\n",
    "import pdfexport\n",
    "importlib.reload(pdfexport)\n",
    "\n",
    "from pdfexport import *"
   ]
  },
  {
   "cell_type": "markdown",
   "metadata": {},
   "source": [
    "## Import PDF"
   ]
  },
  {
   "cell_type": "code",
   "execution_count": 2,
   "metadata": {},
   "outputs": [],
   "source": [
    "# Read pdf into DataFrame\n",
    "df = tabula.read_pdf(\"Gilead_Sciences_Switzerland_EFPIA_Report_2017.pdf\", pages='all', lattice=True, pandas_options={'thousands': '.'})"
   ]
  },
  {
   "cell_type": "markdown",
   "metadata": {},
   "source": [
    "## Format Table"
   ]
  },
  {
   "cell_type": "code",
   "execution_count": 3,
   "metadata": {},
   "outputs": [
    {
     "name": "stdout",
     "output_type": "stream",
     "text": [
      "Total nicht Summe der Werte\n",
      "saved\n"
     ]
    }
   ],
   "source": [
    "df_export = df.copy()\n",
    "\n",
    "write_to_excel(df_export, 'tmp.xlsx')\n",
    "\n",
    "#Rename Columns\n",
    "df_export.columns = ['empty', 'name', 'location', 'country', 'address', 'uci', 'donations_grants', 'sponsorship', 'registration_fees','travel_accommodation', 'fees', 'related_expenses', 'empty1', 'total']\n",
    "\n",
    "#Shift row\n",
    "df_export.loc[df_export['empty'].str.len() < 2, 'empty'] = np.NaN\n",
    "df_export[df_export['empty'].notna()] = df_export[df_export['empty'].notna()].shift(1, axis='columns')\n",
    "\n",
    "#Remove empty rows\n",
    "df_export = df_export.dropna(subset=['total'], how='all')\n",
    "\n",
    "#Remove empty columns\n",
    "df_export.drop(columns=['empty', 'empty1'], inplace=True)\n",
    "\n",
    "#Remove Carination\n",
    "df_export = remove_carination(df_export, \" \")\n",
    "\n",
    "#Remove Title\n",
    "df_export['name'] = df_export['name'].str.replace(regex_title, '', regex=True, case=False)\n",
    "df_export['name'] = df_export['name'].str.replace('Unknown ', '')\n",
    "df_export['name'] = df_export['name'].str.replace('Praktischer Arzt/in', '')\n",
    "df_export['name'] = df_export['name'].str.strip()\n",
    "\n",
    "#Add Type\n",
    "df_export = set_type_by_alphabetical_order(df_export)\n",
    "\n",
    "#Revert name\n",
    "df_export = revert_name(df_export, ' ')\n",
    "\n",
    "#Add PLZ\n",
    "df_export = add_plz(df_export)\n",
    "\n",
    "#Convert to Numbers manually. Cannot use standard functions, because \"total\" is already a number\n",
    "df_export['donations_grants'] = df_export['donations_grants'].str.replace(\".\", \"\")\n",
    "df_export['sponsorship'] = df_export['sponsorship'].str.replace(\".\", \"\")\n",
    "df_export['registration_fees'] = df_export['registration_fees'].str.replace(\".\", \"\")\n",
    "df_export['travel_accommodation'] = df_export['travel_accommodation'].str.replace(\".\", \"\")\n",
    "df_export['fees'] = df_export['fees'].str.replace(\".\", \"\")\n",
    "df_export['related_expenses'] = df_export['related_expenses'].str.replace(\".\", \"\")\n",
    "\n",
    "df_export = amounts_to_number(df_export)\n",
    "\n",
    "#basic string conversion\n",
    "df_export = basic_string_conversion(df_export)\n",
    "\n",
    "export_list(df_export, 'gilead')"
   ]
  },
  {
   "cell_type": "code",
   "execution_count": null,
   "metadata": {},
   "outputs": [],
   "source": [
    "#write_to_csv(df_export, 'tmp.csv')\n",
    "#write_to_excel(df_export, 'tmp.xlsx')"
   ]
  }
 ],
 "metadata": {
  "kernelspec": {
   "display_name": "Python 3",
   "language": "python",
   "name": "python3"
  },
  "language_info": {
   "codemirror_mode": {
    "name": "ipython",
    "version": 3
   },
   "file_extension": ".py",
   "mimetype": "text/x-python",
   "name": "python",
   "nbconvert_exporter": "python",
   "pygments_lexer": "ipython3",
   "version": "3.6.5"
  }
 },
 "nbformat": 4,
 "nbformat_minor": 2
}
