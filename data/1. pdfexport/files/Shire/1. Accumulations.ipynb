{
 "cells": [
  {
   "cell_type": "markdown",
   "metadata": {},
   "source": [
    "# Shire - List - Accumulations\n",
    "## Beachten\n",
    "* Set Columns manually (or you will have 28 columns!)"
   ]
  },
  {
   "cell_type": "code",
   "execution_count": 1,
   "metadata": {},
   "outputs": [],
   "source": [
    "import sys\n",
    "sys.path.insert(0, '../../../lib/')\n",
    "\n",
    "import tabula\n",
    "import numpy as np\n",
    "import pandas as pd\n",
    "import importlib\n",
    "\n",
    "import pdfexport\n",
    "importlib.reload(pdfexport)\n",
    "\n",
    "from pdfexport import *"
   ]
  },
  {
   "cell_type": "markdown",
   "metadata": {},
   "source": [
    "## Import PDF"
   ]
  },
  {
   "cell_type": "code",
   "execution_count": 2,
   "metadata": {},
   "outputs": [],
   "source": [
    "# Read pdf into DataFrame\n",
    "columns = [64.64, 204.83, 266.06, 306.34, 369.46, 429.34, 482.47, 545.29, 571.91, 606.53, 622.35, 680.54, 696.86]\n",
    "df = tabula.read_pdf(\"report-switzerland-english.pdf\", pages='all', lattice=False, columns=columns, guess=False)"
   ]
  },
  {
   "cell_type": "markdown",
   "metadata": {},
   "source": [
    "## Format Table"
   ]
  },
  {
   "cell_type": "code",
   "execution_count": 43,
   "metadata": {},
   "outputs": [
    {
     "name": "stdout",
     "output_type": "stream",
     "text": [
      "Total nicht Summe der Werte\n",
      "saved\n"
     ]
    }
   ],
   "source": [
    "df_export = df.copy()\n",
    "\n",
    "#Fix RnD\n",
    "name = df_export.columns[1]\n",
    "total = df_export.columns[13]\n",
    "df_export.loc[df_export[total].notna() & df_export[name].isna(), name] = 'rnd'\n",
    "df_export.loc[df_export[name] == 'rnd', df_export.columns[11]] = df_export[df_export.columns[12]]\n",
    "\n",
    "#Drop Columns\n",
    "df_export = df_export.drop(df_export.columns[2:6],axis=1)\n",
    "df_export = df_export.drop(df_export.columns[[0, 8]],axis=1)\n",
    "\n",
    "#Rename\n",
    "df_export.columns = fix_columns_accumulations[0: 8]\n",
    "\n",
    "# Select\n",
    "amount = df_export[df_export.type.str.contains('Aggregate amount', na=False)]\n",
    "recipients = df_export[df_export.type.str.contains('Number of Recipients', na=False)]\n",
    "rnd = df_export[df_export.type.str.contains('rnd', na=False)]\n",
    "\n",
    "df_export = pd.concat([amount, recipients, rnd])\n",
    "\n",
    "#Cleanup Numbers\n",
    "df_export = remove_comma(df_export)\n",
    "df_export = amounts_to_number(df_export)\n",
    "\n",
    "#Rename first column\n",
    "df_export = df_export.reset_index(drop=True)\n",
    "df_export.iloc[0,0] = \"hcp_amount\"\n",
    "df_export.iloc[1,0] = \"hco_amount\"\n",
    "df_export.iloc[2,0] = \"hcp_count\"\n",
    "df_export.iloc[3,0] = \"hco_count\"\n",
    "df_export.iloc[4,0] = \"rnd\"\n",
    "df_export.loc[df_export.type == 'rnd', \"total\"] = df_export['related_expenses']\n",
    "df_export.loc[df_export.type == 'rnd', \"related_expenses\"] = np.NaN\n",
    "\n",
    "#Export\n",
    "export_acumulations(df_export, 'shire')"
   ]
  },
  {
   "cell_type": "code",
   "execution_count": null,
   "metadata": {},
   "outputs": [],
   "source": [
    "#write_to_csv(df_export, 'tmp.csv', True)\n",
    "#write_to_excel(df_export, 'tmp.xlsx')"
   ]
  }
 ],
 "metadata": {
  "kernelspec": {
   "display_name": "Python 3",
   "language": "python",
   "name": "python3"
  },
  "language_info": {
   "codemirror_mode": {
    "name": "ipython",
    "version": 3
   },
   "file_extension": ".py",
   "mimetype": "text/x-python",
   "name": "python",
   "nbconvert_exporter": "python",
   "pygments_lexer": "ipython3",
   "version": "3.6.5"
  }
 },
 "nbformat": 4,
 "nbformat_minor": 2
}
