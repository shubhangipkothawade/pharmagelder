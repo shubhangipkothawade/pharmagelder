{
 "cells": [
  {
   "cell_type": "markdown",
   "metadata": {},
   "source": [
    "# Sanofi\n",
    "## Beachten\n",
    "* Somehow, table recognision doesnt work. Used template function in tabula\n",
    "* Type by text Recognition\n",
    "* Names with \"von\" going wrong during reverting"
   ]
  },
  {
   "cell_type": "code",
   "execution_count": 1,
   "metadata": {},
   "outputs": [],
   "source": [
    "import sys\n",
    "sys.path.insert(0, '../../../lib/')\n",
    "\n",
    "import tabula\n",
    "import numpy as np\n",
    "import pandas as pd\n",
    "import importlib\n",
    "\n",
    "import pdfexport\n",
    "importlib.reload(pdfexport)\n",
    "\n",
    "from pdfexport import *"
   ]
  },
  {
   "cell_type": "markdown",
   "metadata": {},
   "source": [
    "## Import PDF"
   ]
  },
  {
   "cell_type": "code",
   "execution_count": 77,
   "metadata": {},
   "outputs": [],
   "source": [
    "# Read pdf into DataFrame\n",
    "a = [69.99988674407959, 40.00007697631834, 559.4123867440796, 800.9575769763184]\n",
    "df = tabula.read_pdf(\"Sanofi-Aventis-Schweiz-Transparenzliste-2017.pdf\", pages='all', lattice=True, multitable=True, area=a)"
   ]
  },
  {
   "cell_type": "markdown",
   "metadata": {},
   "source": [
    "## Format Table"
   ]
  },
  {
   "cell_type": "code",
   "execution_count": 78,
   "metadata": {},
   "outputs": [
    {
     "name": "stdout",
     "output_type": "stream",
     "text": [
      "revert_name: Be sure: Only revert hcp, not hco!\n",
      "saved\n"
     ]
    }
   ],
   "source": [
    "df_export = df.copy()\n",
    "\n",
    "#Rename Columns\n",
    "df_export.columns = ['empty0', 'name', 'location', 'country', 'address', 'uci', 'donations_grants', 'sponsorship', 'registration_fees', 'travel_accommodation', 'fees', 'related_expenses', 'empty1', 'total']\n",
    "\n",
    "\n",
    "#Shift all where 'name' is empty\n",
    "df_export[df_export['empty0'].notna()] = df_export[df_export['empty0'].isna()].shift(-1, axis='columns')\n",
    "\n",
    "#Add Type\n",
    "index_hco = df_export[df_export['name'].str.contains(\"INDIVIDUAL NAMED DISCLOSURE\", na=False)].index[1]\n",
    "df_export['type'] = np.where(df_export.index < index_hco, 'hcp', 'hco')\n",
    "\n",
    "#Remove empty rows\n",
    "df_export = df_export.dropna(subset=['total'], how='all')\n",
    "\n",
    "#Remove empties\n",
    "df_export.drop(columns=['empty0', 'empty1'], inplace=True)\n",
    "\n",
    "#Remove Carinations\n",
    "df_export = remove_carination(df_export, \" \")\n",
    "\n",
    "#Revert name\n",
    "df_export.loc[df_export.type == 'hcp', 'name'] = revert_name(df_export[df_export.type == 'hcp']['name'], ' ')\n",
    "\n",
    "#Fix Revert name\n",
    "df_export['name'] = df_export['name'].str.replace('Weid Der Von', 'Von Der Weid')\n",
    "df_export['name'] = df_export['name'].str.replace('Burg Von', 'Von Burg')\n",
    "\n",
    "#Cleanup Numbers and sum\n",
    "df_export = cleanup_number(df_export)\n",
    "df_export = remove_dots(df_export)\n",
    "df_export = replace_comma_to_dot(df_export)\n",
    "df_export = amounts_to_number(df_export)\n",
    "\n",
    "#Add empty fields\n",
    "df_export = add_plz(df_export)\n",
    "\n",
    "#basic string conversion\n",
    "df_export = basic_string_conversion(df_export)\n",
    "\n",
    "export_list(df_export, 'sanofi')"
   ]
  },
  {
   "cell_type": "code",
   "execution_count": null,
   "metadata": {},
   "outputs": [],
   "source": [
    "#write_to_csv(df_export, 'tmp.csv', True)\n",
    "#write_to_excel(df_export, 'tmp.xlsx')"
   ]
  }
 ],
 "metadata": {
  "kernelspec": {
   "display_name": "Python 3",
   "language": "python",
   "name": "python3"
  },
  "language_info": {
   "codemirror_mode": {
    "name": "ipython",
    "version": 3
   },
   "file_extension": ".py",
   "mimetype": "text/x-python",
   "name": "python",
   "nbconvert_exporter": "python",
   "pygments_lexer": "ipython3",
   "version": "3.6.5"
  }
 },
 "nbformat": 4,
 "nbformat_minor": 2
}
