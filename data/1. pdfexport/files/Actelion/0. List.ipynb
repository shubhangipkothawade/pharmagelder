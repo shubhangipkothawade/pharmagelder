{
 "cells": [
  {
   "cell_type": "markdown",
   "metadata": {},
   "source": [
    "# Actelion - List\n",
    "\n",
    "## Beachten nächstes Jahr\n",
    "* HCP und HCOs manuell definieren!"
   ]
  },
  {
   "cell_type": "code",
   "execution_count": 23,
   "metadata": {},
   "outputs": [],
   "source": [
    "import sys\n",
    "sys.path.insert(0, '../../../lib/')\n",
    "\n",
    "import tabula\n",
    "import numpy as np\n",
    "import pandas as pd\n",
    "import importlib\n",
    "\n",
    "import pdfexport\n",
    "importlib.reload(pdfexport)\n",
    "\n",
    "from pdfexport import *"
   ]
  },
  {
   "cell_type": "markdown",
   "metadata": {},
   "source": [
    "## Import PDF"
   ]
  },
  {
   "cell_type": "code",
   "execution_count": 2,
   "metadata": {
    "scrolled": true
   },
   "outputs": [],
   "source": [
    "# Read pdf into DataFrame\n",
    "df = tabula.read_pdf(\"transparency-report-2017.pdf\", pages='all', lattice=True)"
   ]
  },
  {
   "cell_type": "markdown",
   "metadata": {},
   "source": [
    "## HCP"
   ]
  },
  {
   "cell_type": "code",
   "execution_count": 3,
   "metadata": {},
   "outputs": [],
   "source": [
    "df_hcp = df[4:43]\n",
    "\n",
    "#Remove Rows\n",
    "df_hcp = df_hcp.drop(df_hcp.columns[[0, 1, 3, 5, 7, 9, 11, 12, 13, 17, 19, 21, 23, 24, 25]],axis=1)\n",
    "\n",
    "#Rename\n",
    "df_hcp.columns = ['name', 'location', 'country', 'address', 'uci', 'donations_grants', 'sponsorship', 'registration_fees','travel_accommodation', 'fees', 'related_expenses', 'total']\n",
    "\n",
    "#Add type\n",
    "df_hcp['type'] = 'hcp'"
   ]
  },
  {
   "cell_type": "markdown",
   "metadata": {},
   "source": [
    "## HCO"
   ]
  },
  {
   "cell_type": "code",
   "execution_count": 4,
   "metadata": {},
   "outputs": [],
   "source": [
    "df_hco = df[49:84]\n",
    "\n",
    "#Remove Rows\n",
    "df_hco = df_hco.drop(df_hco.columns[[0, 9, 11, 14, 15, 16, 17, 19, 20, 21, 22, 23, 24, 25, 26]],axis=1)\n",
    "\n",
    "#Rename\n",
    "df_hco.columns = ['name', 'location', 'country', 'address', 'uci', 'donations_grants', 'sponsorship', 'registration_fees','travel_accommodation', 'fees', 'related_expenses', 'total']\n",
    "\n",
    "#Add type\n",
    "df_hco['type'] = 'hco'"
   ]
  },
  {
   "cell_type": "markdown",
   "metadata": {},
   "source": [
    "## Format Table"
   ]
  },
  {
   "cell_type": "code",
   "execution_count": 24,
   "metadata": {},
   "outputs": [
    {
     "name": "stdout",
     "output_type": "stream",
     "text": [
      "WARNING: Have you set HCP & HCP manually?\n",
      "saved\n"
     ]
    }
   ],
   "source": [
    "df_export = pd.concat([df_hcp, df_hco])\n",
    "\n",
    "#Change Dataypes and sum\n",
    "df_export = remove_comma(df_export)\n",
    "df_export = amounts_to_number(df_export)\n",
    "\n",
    "#Capitalize location\n",
    "df_export['location'] = df_export['location'].str.capitalize()\n",
    "\n",
    "#Add empty columns\n",
    "df_export = add_plz(df_export)\n",
    "\n",
    "#basic string conversion\n",
    "df_export = basic_string_conversion(df_export)\n",
    "\n",
    "#Add Warning for next time\n",
    "add_warning(manually=True)\n",
    "\n",
    "export_list(df_export, 'actelion')"
   ]
  },
  {
   "cell_type": "code",
   "execution_count": null,
   "metadata": {},
   "outputs": [],
   "source": [
    "#write_to_csv(df_export, 'actelion.csv', True)\n",
    "#write_to_excel(df_export, 'actelion.xlsx')"
   ]
  }
 ],
 "metadata": {
  "kernelspec": {
   "display_name": "Python 3",
   "language": "python",
   "name": "python3"
  },
  "language_info": {
   "codemirror_mode": {
    "name": "ipython",
    "version": 3
   },
   "file_extension": ".py",
   "mimetype": "text/x-python",
   "name": "python",
   "nbconvert_exporter": "python",
   "pygments_lexer": "ipython3",
   "version": "3.6.5"
  }
 },
 "nbformat": 4,
 "nbformat_minor": 2
}
