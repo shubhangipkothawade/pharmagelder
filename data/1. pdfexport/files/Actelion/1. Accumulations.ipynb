{
 "cells": [
  {
   "cell_type": "markdown",
   "metadata": {},
   "source": [
    "# Actelion - Accumulations\n",
    "## Nächstes Jahr beachten\n",
    "* hco, hcp & rnd manuell eintragen"
   ]
  },
  {
   "cell_type": "code",
   "execution_count": 122,
   "metadata": {},
   "outputs": [],
   "source": [
    "import sys\n",
    "sys.path.insert(0, '../../../lib/')\n",
    "\n",
    "import tabula\n",
    "import numpy as np\n",
    "import pandas as pd\n",
    "import importlib\n",
    "\n",
    "import pdfexport\n",
    "importlib.reload(pdfexport)\n",
    "\n",
    "from pdfexport import *"
   ]
  },
  {
   "cell_type": "code",
   "execution_count": 123,
   "metadata": {},
   "outputs": [],
   "source": [
    "# Read pdf into DataFrame\n",
    "df = tabula.read_pdf(\"transparency-report-2017.pdf\", pages='all', lattice=True)"
   ]
  },
  {
   "cell_type": "markdown",
   "metadata": {},
   "source": [
    "## HCP"
   ]
  },
  {
   "cell_type": "code",
   "execution_count": 124,
   "metadata": {},
   "outputs": [],
   "source": [
    "df_hcp = df[44:46]\n",
    "\n",
    "#Drop Columns\n",
    "df_hcp = df_hcp.drop(df_hcp.columns[3:6],axis=1)\n",
    "df_hcp = df_hcp.drop(df_hcp.columns[16:],axis=1)\n",
    "df_hcp = df_hcp.drop(df_hcp.columns[[0,1, 6, 8, 6, 8, 10, 12, 13, 14]],axis=1)\n",
    "\n",
    "#Rename\n",
    "df_hcp.columns = fix_columns_accumulations[0: 8]\n",
    "\n",
    "#Rename rows\n",
    "df_hcp.iloc[0,0] = \"hcp_amount\"\n",
    "df_hcp.iloc[1,0] = \"hcp_count\""
   ]
  },
  {
   "cell_type": "markdown",
   "metadata": {},
   "source": [
    "## HCO"
   ]
  },
  {
   "cell_type": "code",
   "execution_count": 125,
   "metadata": {},
   "outputs": [],
   "source": [
    "df_hco = df[86:88]\n",
    "\n",
    "#Drop Columns\n",
    "df_hco = df_hco.drop(df_hco.columns[0:2],axis=1)\n",
    "df_hco = df_hco.drop(df_hco.columns[[1, 3]],axis=1)\n",
    "df_hco = df_hco.drop(df_hco.columns[3:10],axis=1)\n",
    "df_hco = df_hco.drop(df_hco.columns[8:],axis=1)\n",
    "\n",
    "#Rename\n",
    "df_hco.columns = fix_columns_accumulations[0: 8]\n",
    "\n",
    "#Rename rows\n",
    "df_hco.iloc[0,0] = \"hco_amount\"\n",
    "df_hco.iloc[1,0] = \"hco_count\""
   ]
  },
  {
   "cell_type": "markdown",
   "metadata": {},
   "source": [
    "## RnD"
   ]
  },
  {
   "cell_type": "code",
   "execution_count": 126,
   "metadata": {},
   "outputs": [],
   "source": [
    "df_rnd = df[-1:]\n",
    "df_rnd = df_rnd.drop(df_rnd.columns[0:2],axis=1)\n",
    "df_rnd = df_rnd.drop(df_rnd.columns[1:14],axis=1)\n",
    "df_rnd = df_rnd.drop(df_rnd.columns[8:],axis=1)\n",
    "\n",
    "#Rename\n",
    "df_rnd.columns = fix_columns_accumulations[0: 8]\n",
    "df_rnd.iloc[0,0] = \"rnd\""
   ]
  },
  {
   "cell_type": "markdown",
   "metadata": {},
   "source": [
    "## Export"
   ]
  },
  {
   "cell_type": "code",
   "execution_count": 127,
   "metadata": {},
   "outputs": [
    {
     "name": "stdout",
     "output_type": "stream",
     "text": [
      "WARNING: Have you set HCP, HCP and RnD manually?\n",
      "saved\n"
     ]
    }
   ],
   "source": [
    "df_export = pd.concat([df_hcp, df_hco, df_rnd])\n",
    "\n",
    "#Fill na\n",
    "df_export = df_export.fillna(\"\")\n",
    "\n",
    "#Numberize and sum\n",
    "df_export = remove_comma(df_export)\n",
    "df_export = amounts_to_number(df_export)\n",
    "df_export = sum_amounts(df_export)\n",
    "\n",
    "#Add Warning for next time\n",
    "add_warning(manually=True)\n",
    "\n",
    "export_acumulations(df_export, 'actelion')"
   ]
  },
  {
   "cell_type": "code",
   "execution_count": null,
   "metadata": {},
   "outputs": [],
   "source": []
  }
 ],
 "metadata": {
  "kernelspec": {
   "display_name": "Python 3",
   "language": "python",
   "name": "python3"
  },
  "language_info": {
   "codemirror_mode": {
    "name": "ipython",
    "version": 3
   },
   "file_extension": ".py",
   "mimetype": "text/x-python",
   "name": "python",
   "nbconvert_exporter": "python",
   "pygments_lexer": "ipython3",
   "version": "3.6.5"
  }
 },
 "nbformat": 4,
 "nbformat_minor": 2
}
