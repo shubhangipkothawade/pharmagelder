{
 "cells": [
  {
   "cell_type": "markdown",
   "metadata": {},
   "source": [
    "# Recordati - List\n",
    "## Beachten\n",
    "* PDF zuerst entschlüsseln!\n",
    "* Für die OCR-Erkennung wurde ABBYY Fine Reader for Mac verwendet (Lizenz vorhanden)\n",
    "* Wichtig: Sprachen einstellen auf: Deutsch, Englisch, Italienisch, Französisch\n",
    "* Als CSV exportieren\n",
    "* In Google Sheet bearbeiten\n",
    "* Wieder importieren\n",
    "* Set Type **manually**"
   ]
  },
  {
   "cell_type": "code",
   "execution_count": 1,
   "metadata": {},
   "outputs": [],
   "source": [
    "import sys\n",
    "sys.path.insert(0, '../../../lib/')\n",
    "\n",
    "import tabula\n",
    "import numpy as np\n",
    "import pandas as pd\n",
    "import importlib\n",
    "import re\n",
    "\n",
    "import pdfexport\n",
    "importlib.reload(pdfexport)\n",
    "\n",
    "from pdfexport import *\n",
    "import consts"
   ]
  },
  {
   "cell_type": "markdown",
   "metadata": {},
   "source": [
    "## Unlock PDF"
   ]
  },
  {
   "cell_type": "code",
   "execution_count": 2,
   "metadata": {},
   "outputs": [],
   "source": [
    "import pikepdf\n",
    "pdf = pikepdf.open('2018_Offenlegung_Recordati.pdf')\n",
    "pdf.save('unlocked.pdf')"
   ]
  },
  {
   "cell_type": "markdown",
   "metadata": {},
   "source": [
    "## Import CSV"
   ]
  },
  {
   "cell_type": "code",
   "execution_count": 3,
   "metadata": {},
   "outputs": [],
   "source": [
    "# Read CSV into DataFrame\n",
    "header = ['name', 'location', 'country', 'address', 'donations_grants', 'sponsorship', 'registration_fees','travel_accommodation', 'fees', 'related_expenses', 'total', ]\n",
    "df = pd.read_csv(\"recordati tmp - Tabellenblatt1.csv\", sep=\",\", header=None, names=header, dtype = dataframe_types_numbers_as_string)"
   ]
  },
  {
   "cell_type": "markdown",
   "metadata": {},
   "source": [
    "## Format Table"
   ]
  },
  {
   "cell_type": "code",
   "execution_count": 5,
   "metadata": {
    "scrolled": true
   },
   "outputs": [],
   "source": [
    "df_export = df.copy()\n",
    "\n",
    "#Set Type\n",
    "index_hco = df_export[df_export['name'].str.contains(\"Association D'Esculape\", na=False)].index[0]\n",
    "df_export['type'] = np.where(df_export.index < index_hco, 'hcp', 'hco')\n",
    "\n",
    "#Remove Carination\n",
    "df_export = remove_carination(df_export, ' ')\n",
    "\n",
    "#Clean Numbers\n",
    "df_export = cleanup_number(df_export)\n",
    "df_export = remove_in_numbers(df_export, '-')\n",
    "df_export = replace_in_number(df_export, ',', '.')\n",
    "df_export = replace_in_number(df_export, 'O', '0')\n",
    "df_export = replace_in_number(df_export, 'I', '1')\n",
    "df_export = replace_in_number(df_export, 'T', '1')\n",
    "df_export = replace_in_number(df_export, '*', '')\n",
    "\n",
    "#basic string conversion\n",
    "df_export = basic_string_conversion(df_export)\n",
    "\n",
    "#Add PLZ\n",
    "df_export = add_plz(df_export)\n",
    "df_export = add_uci(df_export)"
   ]
  },
  {
   "cell_type": "code",
   "execution_count": 6,
   "metadata": {
    "scrolled": true
   },
   "outputs": [],
   "source": [
    "def add_decimal_if_not(field):\n",
    "    if field != 'ERROR' and field != '' and field != '0':\n",
    "        f = str(field)\n",
    "        return f[:-2] + '.' + f[-2]\n",
    "    else:\n",
    "        return field\n",
    "\n",
    "for field in number_fields:\n",
    "    df_export[field] = df_export[field].fillna(\"\")\n",
    "    df_export.loc[df_export[field].str.contains(r'\\.', regex=True, na=False) == False, field] = df_export[field].apply(add_decimal_if_not)\n"
   ]
  },
  {
   "cell_type": "code",
   "execution_count": 7,
   "metadata": {},
   "outputs": [
    {
     "name": "stdout",
     "output_type": "stream",
     "text": [
      "WARNING: Remember to set HCP, HCO and RnD manually!\n",
      "Total nicht Summe der Werte\n",
      "saved\n"
     ]
    }
   ],
   "source": [
    "#Export\n",
    "df_export = amounts_to_number(df_export)\n",
    "add_warning(manually=True)\n",
    "df_export = amounts_to_number(df_export)\n",
    "export_list(df_export, 'recordati')"
   ]
  },
  {
   "cell_type": "code",
   "execution_count": 8,
   "metadata": {},
   "outputs": [],
   "source": [
    "#write_to_csv(df_export, 'tmp.csv', True)\n",
    "write_to_excel(df_export, 'tmp.xlsx', open=True)"
   ]
  },
  {
   "cell_type": "code",
   "execution_count": null,
   "metadata": {},
   "outputs": [],
   "source": []
  }
 ],
 "metadata": {
  "kernelspec": {
   "display_name": "Python 3",
   "language": "python",
   "name": "python3"
  },
  "language_info": {
   "codemirror_mode": {
    "name": "ipython",
    "version": 3
   },
   "file_extension": ".py",
   "mimetype": "text/x-python",
   "name": "python",
   "nbconvert_exporter": "python",
   "pygments_lexer": "ipython3",
   "version": "3.6.5"
  }
 },
 "nbformat": 4,
 "nbformat_minor": 2
}
