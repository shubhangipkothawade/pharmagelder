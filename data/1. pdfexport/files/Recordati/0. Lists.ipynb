{
 "cells": [
  {
   "cell_type": "markdown",
   "metadata": {},
   "source": [
    "# Recordati - List\n",
    "## Beachten\n",
    "* PDF zuerst entschlüsseln!\n",
    "* Früher OCR\n",
    "\n",
    "**ALT**\n",
    "* Für die OCR-Erkennung wurde ABBYY Fine Reader for Mac verwendet (Lizenz vorhanden)\n",
    "* Wichtig: Sprachen einstellen auf: Deutsch, Englisch, Italienisch, Französisch\n",
    "* Als CSV exportieren\n",
    "* In Google Sheet bearbeiten\n",
    "* Wieder importieren\n",
    "* Set Type **manually**"
   ]
  },
  {
   "cell_type": "code",
   "execution_count": 1,
   "metadata": {},
   "outputs": [],
   "source": [
    "import sys\n",
    "sys.path.insert(0, '../../../lib/')\n",
    "\n",
    "import tabula\n",
    "import numpy as np\n",
    "import pandas as pd\n",
    "import importlib\n",
    "import re\n",
    "\n",
    "import pdfexport\n",
    "importlib.reload(pdfexport)\n",
    "\n",
    "from pdfexport import *\n",
    "import consts"
   ]
  },
  {
   "cell_type": "markdown",
   "metadata": {},
   "source": [
    "## Unlock PDF"
   ]
  },
  {
   "cell_type": "code",
   "execution_count": 2,
   "metadata": {},
   "outputs": [],
   "source": [
    "import pikepdf\n",
    "pdf = pikepdf.open('Disclosure-Form_2019.pdf')\n",
    "pdf.save('unlocked.pdf')"
   ]
  },
  {
   "cell_type": "markdown",
   "metadata": {},
   "source": [
    "## Import CSV"
   ]
  },
  {
   "cell_type": "code",
   "execution_count": 3,
   "metadata": {},
   "outputs": [],
   "source": [
    "# Read CSV into DataFrame\n",
    "header = ['name', 'location', 'country', 'address', 'donations_grants', 'sponsorship', 'registration_fees','travel_accommodation', 'fees', 'related_expenses', 'total', ]\n",
    "df = pd.read_csv(\"recordati tmp - Tabellenblatt1.csv\", sep=\",\", header=None, names=header, dtype = dataframe_types_numbers_as_string)"
   ]
  },
  {
   "cell_type": "code",
   "execution_count": 3,
   "metadata": {},
   "outputs": [],
   "source": [
    "# Read pdf into DataFrame\n",
    "df = tabula.read_pdf(\"unlocked.pdf\", pages='all', lattice=True)"
   ]
  },
  {
   "cell_type": "markdown",
   "metadata": {},
   "source": [
    "## Format Table"
   ]
  },
  {
   "cell_type": "code",
   "execution_count": 22,
   "metadata": {
    "scrolled": true
   },
   "outputs": [
    {
     "name": "stdout",
     "output_type": "stream",
     "text": [
      "Duplicates found. Please check for duplicates: df_export[df_export.duplicated()]\n",
      "Total nicht Summe der Werte\n",
      "saved\n"
     ]
    }
   ],
   "source": [
    "df_export = df.copy()\n",
    "\n",
    "#Rename Columns\n",
    "df_export.columns = ['empty0', 'name', 'location', 'country', 'address', 'donations_grants', 'sponsorship', 'registration_fees','travel_accommodation', 'fees', 'related_expenses', 'total']\n",
    "\n",
    "#Set Type\n",
    "index_hco = df_export[df_export['name'].str.contains(\"Number of Recipients\", na=False)].index[0]\n",
    "df_export['type'] = np.where(df_export.index < index_hco, 'hcp', 'hco')\n",
    "\n",
    "#Remove rows which have no values\n",
    "df_export = df_export.dropna(subset=['total'], how='all')\n",
    "df_export = df_export.dropna(subset=['name', 'total'], how='all')\n",
    "df_export = df_export.reset_index(drop=True)\n",
    "\n",
    "#Remove empty\n",
    "df_export.drop(columns='empty0', inplace=True)\n",
    "\n",
    "#Extract PLZ\n",
    "df_export['plz'] = df_export.address.str.extract(r' (\\d{4})')\n",
    "df_export['address'] = df_export.address.str.replace(r' (\\d{4}$)', '')\n",
    "\n",
    "--> PLZ und Ort aus adresse entfernen\n",
    "Readme oben anpassen\n",
    "\n",
    "#basic string conversion\n",
    "df_export = basic_string_conversion(df_export)\n",
    "\n",
    "#Add Fields\n",
    "df_export = add_uci(df_export)\n",
    "\n",
    "#Convert to Numbers\n",
    "df_export = cleanup_number(df_export)\n",
    "df_export = amounts_to_number(df_export)\n",
    "\n",
    "#Remove Carination\n",
    "df_export = remove_carination(df_export, ' ')\n",
    "\n",
    "#Export\n",
    "export_list(df_export, 'recordani')\n"
   ]
  },
  {
   "cell_type": "code",
   "execution_count": 23,
   "metadata": {},
   "outputs": [
    {
     "data": {
      "text/html": [
       "<div>\n",
       "<style scoped>\n",
       "    .dataframe tbody tr th:only-of-type {\n",
       "        vertical-align: middle;\n",
       "    }\n",
       "\n",
       "    .dataframe tbody tr th {\n",
       "        vertical-align: top;\n",
       "    }\n",
       "\n",
       "    .dataframe thead th {\n",
       "        text-align: right;\n",
       "    }\n",
       "</style>\n",
       "<table border=\"1\" class=\"dataframe\">\n",
       "  <thead>\n",
       "    <tr style=\"text-align: right;\">\n",
       "      <th></th>\n",
       "      <th>name</th>\n",
       "      <th>location</th>\n",
       "      <th>country</th>\n",
       "      <th>address</th>\n",
       "      <th>donations_grants</th>\n",
       "      <th>uci</th>\n",
       "      <th>sponsorship</th>\n",
       "      <th>registration_fees</th>\n",
       "      <th>travel_accommodation</th>\n",
       "      <th>fees</th>\n",
       "      <th>related_expenses</th>\n",
       "      <th>total</th>\n",
       "      <th>type</th>\n",
       "      <th>plz</th>\n",
       "      <th>source</th>\n",
       "    </tr>\n",
       "  </thead>\n",
       "  <tbody>\n",
       "    <tr>\n",
       "      <th>0</th>\n",
       "      <td>Claus Aichmüller</td>\n",
       "      <td>Meiringen</td>\n",
       "      <td>CH</td>\n",
       "      <td>Willigen, 3860 Meiringen</td>\n",
       "      <td>NaN</td>\n",
       "      <td>NaN</td>\n",
       "      <td>NaN</td>\n",
       "      <td>NaN</td>\n",
       "      <td>139.55</td>\n",
       "      <td>NaN</td>\n",
       "      <td>NaN</td>\n",
       "      <td>139.55</td>\n",
       "      <td>hcp</td>\n",
       "      <td>3860</td>\n",
       "      <td>recordani</td>\n",
       "    </tr>\n",
       "    <tr>\n",
       "      <th>1</th>\n",
       "      <td>Claus Aichmüller</td>\n",
       "      <td>Meiringen</td>\n",
       "      <td>CH</td>\n",
       "      <td>Willigen, 3860 Meiringen</td>\n",
       "      <td>NaN</td>\n",
       "      <td>NaN</td>\n",
       "      <td>NaN</td>\n",
       "      <td>194.15</td>\n",
       "      <td>151.80</td>\n",
       "      <td>NaN</td>\n",
       "      <td>NaN</td>\n",
       "      <td>345.95</td>\n",
       "      <td>hcp</td>\n",
       "      <td>3860</td>\n",
       "      <td>recordani</td>\n",
       "    </tr>\n",
       "    <tr>\n",
       "      <th>2</th>\n",
       "      <td>Pierre Baumann</td>\n",
       "      <td>Prilly-Lausanne</td>\n",
       "      <td>CH</td>\n",
       "      <td>Route de Cery, 1008 Prilly Lausanne</td>\n",
       "      <td>NaN</td>\n",
       "      <td>NaN</td>\n",
       "      <td>NaN</td>\n",
       "      <td>NaN</td>\n",
       "      <td>126.00</td>\n",
       "      <td>1750.0</td>\n",
       "      <td>NaN</td>\n",
       "      <td>1876.00</td>\n",
       "      <td>hcp</td>\n",
       "      <td>1008</td>\n",
       "      <td>recordani</td>\n",
       "    </tr>\n",
       "    <tr>\n",
       "      <th>3</th>\n",
       "      <td>Pierre Baumann</td>\n",
       "      <td>Prilly-Lausanne</td>\n",
       "      <td>CH</td>\n",
       "      <td>Route de Cery, 1008 Prilly Lausanne</td>\n",
       "      <td>NaN</td>\n",
       "      <td>NaN</td>\n",
       "      <td>NaN</td>\n",
       "      <td>NaN</td>\n",
       "      <td>75.00</td>\n",
       "      <td>1750.0</td>\n",
       "      <td>NaN</td>\n",
       "      <td>1825.00</td>\n",
       "      <td>hcp</td>\n",
       "      <td>1008</td>\n",
       "      <td>recordani</td>\n",
       "    </tr>\n",
       "    <tr>\n",
       "      <th>4</th>\n",
       "      <td>Pierre Baumann</td>\n",
       "      <td>Prilly-Lausanne</td>\n",
       "      <td>CH</td>\n",
       "      <td>Route de Cery, 1008 Prilly Lausanne</td>\n",
       "      <td>NaN</td>\n",
       "      <td>NaN</td>\n",
       "      <td>NaN</td>\n",
       "      <td>NaN</td>\n",
       "      <td>34.60</td>\n",
       "      <td>3250.0</td>\n",
       "      <td>NaN</td>\n",
       "      <td>3284.60</td>\n",
       "      <td>hcp</td>\n",
       "      <td>1008</td>\n",
       "      <td>recordani</td>\n",
       "    </tr>\n",
       "  </tbody>\n",
       "</table>\n",
       "</div>"
      ],
      "text/plain": [
       "               name         location country  \\\n",
       "0  Claus Aichmüller        Meiringen      CH   \n",
       "1  Claus Aichmüller        Meiringen      CH   \n",
       "2    Pierre Baumann  Prilly-Lausanne      CH   \n",
       "3    Pierre Baumann  Prilly-Lausanne      CH   \n",
       "4    Pierre Baumann  Prilly-Lausanne      CH   \n",
       "\n",
       "                               address  donations_grants  uci  sponsorship  \\\n",
       "0             Willigen, 3860 Meiringen               NaN  NaN          NaN   \n",
       "1             Willigen, 3860 Meiringen               NaN  NaN          NaN   \n",
       "2  Route de Cery, 1008 Prilly Lausanne               NaN  NaN          NaN   \n",
       "3  Route de Cery, 1008 Prilly Lausanne               NaN  NaN          NaN   \n",
       "4  Route de Cery, 1008 Prilly Lausanne               NaN  NaN          NaN   \n",
       "\n",
       "   registration_fees  travel_accommodation    fees  related_expenses    total  \\\n",
       "0                NaN                139.55     NaN               NaN   139.55   \n",
       "1             194.15                151.80     NaN               NaN   345.95   \n",
       "2                NaN                126.00  1750.0               NaN  1876.00   \n",
       "3                NaN                 75.00  1750.0               NaN  1825.00   \n",
       "4                NaN                 34.60  3250.0               NaN  3284.60   \n",
       "\n",
       "  type   plz     source  \n",
       "0  hcp  3860  recordani  \n",
       "1  hcp  3860  recordani  \n",
       "2  hcp  1008  recordani  \n",
       "3  hcp  1008  recordani  \n",
       "4  hcp  1008  recordani  "
      ]
     },
     "execution_count": 23,
     "metadata": {},
     "output_type": "execute_result"
    }
   ],
   "source": [
    "df_export.head()"
   ]
  },
  {
   "cell_type": "code",
   "execution_count": 19,
   "metadata": {},
   "outputs": [],
   "source": [
    "\n",
    "write_to_excel(df_export, 'tmp.xlsx', open=True)"
   ]
  },
  {
   "cell_type": "code",
   "execution_count": 5,
   "metadata": {
    "scrolled": true
   },
   "outputs": [],
   "source": [
    "df_export = df.copy()\n",
    "\n",
    "#Set Type\n",
    "index_hco = df_export[df_export['name'].str.contains(\"Association D'Esculape\", na=False)].index[0]\n",
    "df_export['type'] = np.where(df_export.index < index_hco, 'hcp', 'hco')\n",
    "\n",
    "#Remove Carination\n",
    "df_export = remove_carination(df_export, ' ')\n",
    "\n",
    "#Clean Numbers\n",
    "df_export = cleanup_number(df_export)\n",
    "df_export = remove_in_numbers(df_export, '-')\n",
    "df_export = replace_in_number(df_export, ',', '.')\n",
    "df_export = replace_in_number(df_export, 'O', '0')\n",
    "df_export = replace_in_number(df_export, 'I', '1')\n",
    "df_export = replace_in_number(df_export, 'T', '1')\n",
    "df_export = replace_in_number(df_export, '*', '')\n",
    "\n",
    "#basic string conversion\n",
    "df_export = basic_string_conversion(df_export)\n",
    "\n",
    "#Add PLZ\n",
    "df_export = add_plz(df_export)\n",
    "df_export = add_uci(df_export)"
   ]
  },
  {
   "cell_type": "code",
   "execution_count": 6,
   "metadata": {
    "scrolled": true
   },
   "outputs": [],
   "source": [
    "def add_decimal_if_not(field):\n",
    "    if field != 'ERROR' and field != '' and field != '0':\n",
    "        f = str(field)\n",
    "        return f[:-2] + '.' + f[-2]\n",
    "    else:\n",
    "        return field\n",
    "\n",
    "for field in number_fields:\n",
    "    df_export[field] = df_export[field].fillna(\"\")\n",
    "    df_export.loc[df_export[field].str.contains(r'\\.', regex=True, na=False) == False, field] = df_export[field].apply(add_decimal_if_not)\n"
   ]
  },
  {
   "cell_type": "code",
   "execution_count": 7,
   "metadata": {},
   "outputs": [
    {
     "name": "stdout",
     "output_type": "stream",
     "text": [
      "WARNING: Remember to set HCP, HCO and RnD manually!\n",
      "Total nicht Summe der Werte\n",
      "saved\n"
     ]
    }
   ],
   "source": [
    "#Export\n",
    "df_export = amounts_to_number(df_export)\n",
    "add_warning(manually=True)\n",
    "df_export = amounts_to_number(df_export)\n",
    "export_list(df_export, 'recordati')"
   ]
  },
  {
   "cell_type": "code",
   "execution_count": 8,
   "metadata": {},
   "outputs": [],
   "source": [
    "#write_to_csv(df_export, 'tmp.csv', True)\n",
    "write_to_excel(df_export, 'tmp.xlsx', open=True)"
   ]
  },
  {
   "cell_type": "code",
   "execution_count": null,
   "metadata": {},
   "outputs": [],
   "source": []
  }
 ],
 "metadata": {
  "kernelspec": {
   "display_name": "Python 3",
   "language": "python",
   "name": "python3"
  },
  "language_info": {
   "codemirror_mode": {
    "name": "ipython",
    "version": 3
   },
   "file_extension": ".py",
   "mimetype": "text/x-python",
   "name": "python",
   "nbconvert_exporter": "python",
   "pygments_lexer": "ipython3",
   "version": "3.7.4"
  }
 },
 "nbformat": 4,
 "nbformat_minor": 2
}
