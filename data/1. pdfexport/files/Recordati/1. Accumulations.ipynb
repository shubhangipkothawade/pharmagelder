{
 "cells": [
  {
   "cell_type": "markdown",
   "metadata": {},
   "source": [
    "# Accumulation - Recordati\n",
    "## Next year\n",
    "* Manually"
   ]
  },
  {
   "cell_type": "code",
   "execution_count": 2,
   "metadata": {},
   "outputs": [],
   "source": [
    "import sys\n",
    "sys.path.insert(0, '../../../lib/')\n",
    "\n",
    "import tabula\n",
    "import numpy as np\n",
    "import pandas as pd\n",
    "import importlib\n",
    "\n",
    "import pdfexport\n",
    "importlib.reload(pdfexport)\n",
    "\n",
    "from pdfexport import *"
   ]
  },
  {
   "cell_type": "markdown",
   "metadata": {},
   "source": [
    "## Import PDF"
   ]
  },
  {
   "cell_type": "code",
   "execution_count": 3,
   "metadata": {},
   "outputs": [
    {
     "name": "stdout",
     "output_type": "stream",
     "text": [
      "hcp_count not found or not unique\n",
      "hco_count not found or not unique\n",
      "saved\n"
     ]
    }
   ],
   "source": [
    "df_export = pd.DataFrame(columns=fix_columns_accumulations[:-1])\n",
    "\n",
    "# Add HCP\n",
    "df_export = add_accumulation(df_export, AccType.hcp_amount,\n",
    "                             donations_grants = '',\n",
    "                             sponsorship = '',\n",
    "                             registration_fees = '',\n",
    "                             travel_accommodation = '',\n",
    "                             fees = '',\n",
    "                             related_expenses = '',\n",
    "                             total = ''\n",
    "                            )\n",
    "\n",
    "# Add HCO\n",
    "df_export = add_accumulation(df_export, AccType.hco_amount,\n",
    "                             donations_grants = '',\n",
    "                             sponsorship = '',\n",
    "                             registration_fees = '',\n",
    "                             travel_accommodation = '',\n",
    "                             fees = '',\n",
    "                             related_expenses = '',\n",
    "                             total = ''\n",
    "                            )\n",
    "\n",
    "# RnD\n",
    "df_export = add_accumulation(df_export, AccType.rnd,\n",
    "                            total = '')\n",
    "\n",
    "#Numberize and sum\n",
    "df_export = replace_comma_to_dot(df_export)\n",
    "df_export = cleanup_number(df_export)\n",
    "df_export = amounts_to_number(df_export)\n",
    "\n",
    "export_acumulations(df_export, 'recordati')"
   ]
  },
  {
   "cell_type": "code",
   "execution_count": null,
   "metadata": {},
   "outputs": [],
   "source": []
  }
 ],
 "metadata": {
  "kernelspec": {
   "display_name": "Python 3",
   "language": "python",
   "name": "python3"
  },
  "language_info": {
   "codemirror_mode": {
    "name": "ipython",
    "version": 3
   },
   "file_extension": ".py",
   "mimetype": "text/x-python",
   "name": "python",
   "nbconvert_exporter": "python",
   "pygments_lexer": "ipython3",
   "version": "3.6.5"
  }
 },
 "nbformat": 4,
 "nbformat_minor": 2
}
