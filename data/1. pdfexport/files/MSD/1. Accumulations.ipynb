{
 "cells": [
  {
   "cell_type": "markdown",
   "metadata": {},
   "source": [
    "# MSD - Accumulations\n",
    "## Info\n",
    "* Total in RnD ist Gesammttotal des PDFs!\n",
    "* Totale von count kommen nicht mit"
   ]
  },
  {
   "cell_type": "code",
   "execution_count": 1,
   "metadata": {},
   "outputs": [],
   "source": [
    "import sys\n",
    "sys.path.insert(0, '../../../lib/')\n",
    "\n",
    "import tabula\n",
    "import numpy as np\n",
    "import pandas as pd\n",
    "import importlib\n",
    "import pikepdf\n",
    "\n",
    "import pdfexport\n",
    "importlib.reload(pdfexport)\n",
    "\n",
    "from pdfexport import *"
   ]
  },
  {
   "cell_type": "markdown",
   "metadata": {},
   "source": [
    "## Unlock PDF\n",
    "Dieser Teil entfernt den Passwortschutz, damit das PDF in HTML exportiert werden kann"
   ]
  },
  {
   "cell_type": "code",
   "execution_count": 2,
   "metadata": {},
   "outputs": [],
   "source": [
    "pdf = pikepdf.open('2019_Final Disclosure Report.pdf')\n",
    "pdf.save('unlocked.pdf')"
   ]
  },
  {
   "cell_type": "markdown",
   "metadata": {},
   "source": [
    "## Import PDF"
   ]
  },
  {
   "cell_type": "code",
   "execution_count": 3,
   "metadata": {},
   "outputs": [],
   "source": [
    "# Read pdf into DataFrame\n",
    "df_list = tabula.read_pdf(\"unlocked.pdf\", pages='all', lattice=True, multiple_tables=True)\n",
    "df = pd.concat(df_list)"
   ]
  },
  {
   "cell_type": "markdown",
   "metadata": {},
   "source": [
    "## Format Table"
   ]
  },
  {
   "cell_type": "code",
   "execution_count": 4,
   "metadata": {},
   "outputs": [
    {
     "name": "stdout",
     "output_type": "stream",
     "text": [
      "saved\n"
     ]
    }
   ],
   "source": [
    "df_export = df.copy()\n",
    "\n",
    "#Drop Columns\n",
    "df_export = df_export.drop(df.columns[9:],axis=1)\n",
    "df_export = df_export.drop(df.columns[7],axis=1)\n",
    "\n",
    "#Rename\n",
    "df_export.columns = fix_columns_accumulations[0: 8]\n",
    "\n",
    "#replace N/A\n",
    "df_export = df_export.replace(\"N/A\", \"\")\n",
    "\n",
    "# Select\n",
    "amount = df_export[df_export.type.str.contains('Aggregate amount ', na=False)]\n",
    "recipients = df_export[df_export.type.str.contains('Number of Recipients', na=False)]\n",
    "rnd = df_export[df_export.type.str.contains('Transfers of Value re', na=False)]\n",
    "\n",
    "df_export = pd.concat([amount, recipients, rnd])\n",
    "\n",
    "#Numberize\n",
    "df_export = cleanup_number(df_export)\n",
    "df_export = remove_dots(df_export)\n",
    "df_export = replace_comma_to_dot(df_export)\n",
    "df_export = amounts_to_number(df_export)\n",
    "\n",
    "#Rename first column\n",
    "df_export = df_export.reset_index(drop=True)\n",
    "df_export.iloc[0,0] = \"hcp_amount\"\n",
    "df_export.iloc[1,0] = \"hco_amount\"\n",
    "df_export.iloc[2,0] = \"hcp_count\"\n",
    "df_export.iloc[3,0] = \"hco_count\"\n",
    "df_export.iloc[4,0] = \"rnd\"\n",
    "\n",
    "df_export.loc[df_export.type == 'rnd', \"total\"] = df_export.loc[df_export.type == 'rnd', \"donations_grants\"]\n",
    "df_export.loc[df_export.type == 'rnd', \"sponsorship\"] = np.NaN\n",
    "df_export.loc[df_export.type == 'rnd', \"donations_grants\"] = np.NaN\n",
    "\n",
    "export_acumulations(df_export, 'msd')"
   ]
  },
  {
   "cell_type": "code",
   "execution_count": 5,
   "metadata": {},
   "outputs": [],
   "source": [
    "#write_to_csv(df_export, 'tmp.csv')\n",
    "#write_to_excel(df_export, 'tmp.xlsx')"
   ]
  },
  {
   "cell_type": "code",
   "execution_count": 6,
   "metadata": {},
   "outputs": [
    {
     "data": {
      "text/html": [
       "<div>\n",
       "<style scoped>\n",
       "    .dataframe tbody tr th:only-of-type {\n",
       "        vertical-align: middle;\n",
       "    }\n",
       "\n",
       "    .dataframe tbody tr th {\n",
       "        vertical-align: top;\n",
       "    }\n",
       "\n",
       "    .dataframe thead th {\n",
       "        text-align: right;\n",
       "    }\n",
       "</style>\n",
       "<table border=\"1\" class=\"dataframe\">\n",
       "  <thead>\n",
       "    <tr style=\"text-align: right;\">\n",
       "      <th></th>\n",
       "      <th>type</th>\n",
       "      <th>donations_grants</th>\n",
       "      <th>sponsorship</th>\n",
       "      <th>registration_fees</th>\n",
       "      <th>travel_accommodation</th>\n",
       "      <th>fees</th>\n",
       "      <th>related_expenses</th>\n",
       "      <th>total</th>\n",
       "      <th>source</th>\n",
       "    </tr>\n",
       "  </thead>\n",
       "  <tbody>\n",
       "    <tr>\n",
       "      <th>0</th>\n",
       "      <td>hcp_amount</td>\n",
       "      <td>NaN</td>\n",
       "      <td>NaN</td>\n",
       "      <td>1592.1</td>\n",
       "      <td>12894.81</td>\n",
       "      <td>29550.00</td>\n",
       "      <td>5791.06</td>\n",
       "      <td>49827.97</td>\n",
       "      <td>msd</td>\n",
       "    </tr>\n",
       "    <tr>\n",
       "      <th>1</th>\n",
       "      <td>hco_amount</td>\n",
       "      <td>2480.0</td>\n",
       "      <td>190008.03</td>\n",
       "      <td>2791.4</td>\n",
       "      <td>11157.64</td>\n",
       "      <td>138630.26</td>\n",
       "      <td>4472.10</td>\n",
       "      <td>349539.43</td>\n",
       "      <td>msd</td>\n",
       "    </tr>\n",
       "    <tr>\n",
       "      <th>2</th>\n",
       "      <td>hcp_count</td>\n",
       "      <td>NaN</td>\n",
       "      <td>NaN</td>\n",
       "      <td>4.0</td>\n",
       "      <td>9.00</td>\n",
       "      <td>8.00</td>\n",
       "      <td>3.00</td>\n",
       "      <td>NaN</td>\n",
       "      <td>msd</td>\n",
       "    </tr>\n",
       "    <tr>\n",
       "      <th>3</th>\n",
       "      <td>hco_count</td>\n",
       "      <td>1.0</td>\n",
       "      <td>10.00</td>\n",
       "      <td>2.0</td>\n",
       "      <td>2.00</td>\n",
       "      <td>3.00</td>\n",
       "      <td>2.00</td>\n",
       "      <td>NaN</td>\n",
       "      <td>msd</td>\n",
       "    </tr>\n",
       "    <tr>\n",
       "      <th>4</th>\n",
       "      <td>rnd</td>\n",
       "      <td>NaN</td>\n",
       "      <td>NaN</td>\n",
       "      <td>NaN</td>\n",
       "      <td>NaN</td>\n",
       "      <td>NaN</td>\n",
       "      <td>NaN</td>\n",
       "      <td>2462423.43</td>\n",
       "      <td>msd</td>\n",
       "    </tr>\n",
       "  </tbody>\n",
       "</table>\n",
       "</div>"
      ],
      "text/plain": [
       "         type  donations_grants  sponsorship  registration_fees  \\\n",
       "0  hcp_amount               NaN          NaN             1592.1   \n",
       "1  hco_amount            2480.0    190008.03             2791.4   \n",
       "2   hcp_count               NaN          NaN                4.0   \n",
       "3   hco_count               1.0        10.00                2.0   \n",
       "4         rnd               NaN          NaN                NaN   \n",
       "\n",
       "   travel_accommodation       fees  related_expenses       total source  \n",
       "0              12894.81   29550.00           5791.06    49827.97    msd  \n",
       "1              11157.64  138630.26           4472.10   349539.43    msd  \n",
       "2                  9.00       8.00              3.00         NaN    msd  \n",
       "3                  2.00       3.00              2.00         NaN    msd  \n",
       "4                   NaN        NaN               NaN  2462423.43    msd  "
      ]
     },
     "execution_count": 6,
     "metadata": {},
     "output_type": "execute_result"
    }
   ],
   "source": [
    "df_export"
   ]
  },
  {
   "cell_type": "code",
   "execution_count": null,
   "metadata": {},
   "outputs": [],
   "source": []
  }
 ],
 "metadata": {
  "kernelspec": {
   "display_name": "Python 3",
   "language": "python",
   "name": "python3"
  },
  "language_info": {
   "codemirror_mode": {
    "name": "ipython",
    "version": 3
   },
   "file_extension": ".py",
   "mimetype": "text/x-python",
   "name": "python",
   "nbconvert_exporter": "python",
   "pygments_lexer": "ipython3",
   "version": "3.6.5"
  }
 },
 "nbformat": 4,
 "nbformat_minor": 2
}
