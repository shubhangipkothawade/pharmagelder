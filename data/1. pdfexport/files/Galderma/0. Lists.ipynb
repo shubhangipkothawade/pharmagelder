{
 "cells": [
  {
   "cell_type": "markdown",
   "metadata": {},
   "source": [
    "# Galderma - List"
   ]
  },
  {
   "cell_type": "code",
   "execution_count": 1,
   "metadata": {},
   "outputs": [],
   "source": [
    "import sys\n",
    "sys.path.insert(0, '../../../lib/')\n",
    "\n",
    "import tabula\n",
    "import numpy as np\n",
    "import pandas as pd\n",
    "import importlib\n",
    "import re\n",
    "\n",
    "import pdfexport\n",
    "importlib.reload(pdfexport)\n",
    "\n",
    "from pdfexport import *"
   ]
  },
  {
   "cell_type": "markdown",
   "metadata": {},
   "source": [
    "## Import PDF"
   ]
  },
  {
   "cell_type": "code",
   "execution_count": 2,
   "metadata": {},
   "outputs": [],
   "source": [
    "# Read pdf into DataFrame\n",
    "df_list = tabula.read_pdf(\"CH_Transparency Report_2019.pdf\", pages='all', lattice=True, multiple_tables = True)"
   ]
  },
  {
   "cell_type": "code",
   "execution_count": 3,
   "metadata": {},
   "outputs": [],
   "source": [
    "#Take df with more than one column\n",
    "df_list_new = []\n",
    "for i in range(0, len(df_list)):\n",
    "    if len(df_list[i].columns) > 1:\n",
    "        df_list_new.append(df_list[i])\n",
    "        \n",
    "df = pd.concat(df_list_new)\n",
    "df = df.reset_index(drop=True)"
   ]
  },
  {
   "cell_type": "markdown",
   "metadata": {},
   "source": [
    "## Format Table"
   ]
  },
  {
   "cell_type": "code",
   "execution_count": 4,
   "metadata": {},
   "outputs": [
    {
     "name": "stdout",
     "output_type": "stream",
     "text": [
      "saved\n"
     ]
    }
   ],
   "source": [
    "df_export = df.copy()\n",
    "\n",
    "#Rename Columns\n",
    "df_export.columns = ['name', 'location', 'country', 'address', 'uci', 'donations_grants', 'sponsorship', 'registration_fees','travel_accommodation', 'fees', 'related_expenses', 'empty1', 'total', 'empty2']\n",
    "\n",
    "#Shift row\n",
    "df_export[df_export.name.isna()] = df_export[df_export.name.isna()].shift(-1, axis='columns')\n",
    "\n",
    "#Add Type by \"INDIVIDUAL NAMED\"\n",
    "individuals = df_export[df_export['name'].str.contains(\"INDIVIDUAL NAMED \", na=False)]\n",
    "df_export['type'] = np.where(df_export.index < individuals.index[1], 'hcp', 'hco')\n",
    "\n",
    "#Remove empty\n",
    "df_export.drop(columns=['empty1', 'empty2'], inplace=True)\n",
    "\n",
    "#Remove rows which have no values\n",
    "df_export = df_export.dropna(subset=['total'], how='all')\n",
    "df_export = df_export.reset_index(drop=True)\n",
    "\n",
    "#Replace N/A-Strings\n",
    "df_export.loc[df_export['donations_grants'] == 'N/A', 'donations_grants'] = np.NaN\n",
    "df_export.loc[df_export['sponsorship'] == 'N/A', 'sponsorship'] = np.NaN\n",
    "\n",
    "#Remove \" - \" in Address\n",
    "df_export['address'] = df_export['address'].str.replace(r'^ - ', '', regex=True)\n",
    "df_export['address'] = df_export['address'].str.replace(r'^-\\s', ' ', regex=True)\n",
    "\n",
    "#Convert to Numbers\n",
    "df_export = replace_in_number(df_export, ',', '')\n",
    "df_export = cleanup_number(df_export)\n",
    "df_export = amounts_to_number(df_export)\n",
    "\n",
    "#Remove Carrinations\n",
    "df_export = remove_carination(df_export, \" \")\n",
    "\n",
    "#Revert name\n",
    "df_export = revert_name(df_export, ' ')\n",
    "\n",
    "#Capitalize name\n",
    "df_export['name'] = df_export['name'].str.title()\n",
    "\n",
    "#Add PLZ\n",
    "df_export = add_plz(df_export)\n",
    "\n",
    "#basic string conversion\n",
    "df_export = basic_string_conversion(df_export)\n",
    "\n",
    "export_list(df_export, 'galderma')"
   ]
  },
  {
   "cell_type": "code",
   "execution_count": null,
   "metadata": {},
   "outputs": [],
   "source": [
    "#write_to_csv(df_export, 'tmp.csv')\n",
    "#write_to_excel(df_export, 'tmp.xlsx')"
   ]
  }
 ],
 "metadata": {
  "kernelspec": {
   "display_name": "Python 3",
   "language": "python",
   "name": "python3"
  },
  "language_info": {
   "codemirror_mode": {
    "name": "ipython",
    "version": 3
   },
   "file_extension": ".py",
   "mimetype": "text/x-python",
   "name": "python",
   "nbconvert_exporter": "python",
   "pygments_lexer": "ipython3",
   "version": "3.6.5"
  }
 },
 "nbformat": 4,
 "nbformat_minor": 2
}
