{
 "cells": [
  {
   "cell_type": "markdown",
   "metadata": {},
   "source": [
    "# Galderma - Accumulations\n",
    "## Next year\n",
    "* No RnD"
   ]
  },
  {
   "cell_type": "code",
   "execution_count": 1,
   "metadata": {},
   "outputs": [],
   "source": [
    "import sys\n",
    "sys.path.insert(0, '../../../lib/')\n",
    "\n",
    "import tabula\n",
    "import numpy as np\n",
    "import pandas as pd\n",
    "import importlib\n",
    "\n",
    "import pdfexport\n",
    "importlib.reload(pdfexport)\n",
    "\n",
    "from pdfexport import *"
   ]
  },
  {
   "cell_type": "markdown",
   "metadata": {},
   "source": [
    "## Import PDF"
   ]
  },
  {
   "cell_type": "code",
   "execution_count": 2,
   "metadata": {},
   "outputs": [],
   "source": [
    "# Read pdf into DataFrame\n",
    "df_list = tabula.read_pdf(\"CH_EN_EFPIA_Report_20190620_FINAL.pdf\", pages='all', lattice=True, multiple_tables = True)"
   ]
  },
  {
   "cell_type": "code",
   "execution_count": 3,
   "metadata": {},
   "outputs": [],
   "source": [
    "#Take df with more than one column\n",
    "df_list_new = []\n",
    "for i in range(0, len(df_list)):\n",
    "    if len(df_list[i].columns) > 1:\n",
    "        df_list_new.append(df_list[i])\n",
    "        \n",
    "df = pd.concat(df_list_new)\n",
    "df = df.reset_index(drop=True)"
   ]
  },
  {
   "cell_type": "markdown",
   "metadata": {},
   "source": [
    "## Format Table"
   ]
  },
  {
   "cell_type": "code",
   "execution_count": 9,
   "metadata": {},
   "outputs": [
    {
     "name": "stdout",
     "output_type": "stream",
     "text": [
      "Total nicht Summe der Werte\n",
      "saved\n"
     ]
    }
   ],
   "source": [
    "df_export = df.copy()\n",
    "#Drop Columns\n",
    "df_export = df_export.drop(df.columns[[0, 8]],axis=1)\n",
    "df_export = df_export.drop(df.columns[10:],axis=1)\n",
    "\n",
    "#Rename\n",
    "df_export.columns = fix_columns_accumulations[0: 8]\n",
    "\n",
    "# Select\n",
    "amount = df_export[df_export.type.str.contains('Aggregate amount', na=False)]\n",
    "recipients = df_export[df_export.type.str.contains('Number of', na=False)]\n",
    "rnd = df_export[df_export.type.str.contains('Transfers of Value re Research', na=False)]\n",
    "\n",
    "#df_export = pd.concat([amount, recipients, rnd])\n",
    "df_export = pd.concat([amount, recipients])\n",
    "\n",
    "#Replace N/A-Strings\n",
    "df_export.loc[df_export['donations_grants'] == 'N/A', 'donations_grants'] = np.NaN\n",
    "df_export.loc[df_export['sponsorship'] == 'N/A', 'sponsorship'] = np.NaN\n",
    "\n",
    "#Convert to Numbers\n",
    "df_export = replace_in_number(df_export, ',', '')\n",
    "df_export = cleanup_number(df_export)\n",
    "df_export = amounts_to_number(df_export)\n",
    "\n",
    "#Rename first column\n",
    "df_export = df_export.reset_index(drop=True)\n",
    "df_export.iloc[0,0] = \"hcp_amount\"\n",
    "df_export.iloc[1,0] = \"hco_amount\"\n",
    "df_export.iloc[2,0] = \"hcp_count\"\n",
    "df_export.iloc[3,0] = \"hco_count\"\n",
    "#df_export.iloc[4,0] = \"rnd\"\n",
    "\n",
    "#Shift RND from Sponsorship to total\n",
    "#df_export.loc[df_export.type == 'rnd', 'total'] = df_export.sponsorship\n",
    "#df_export.loc[df_export.type == 'rnd', \"sponsorship\"] = np.NaN\n",
    "#Changed next year?\n",
    "df_export = add_empty_accumulation(df_export, \"rnd\")\n",
    "\n",
    "export_acumulations(df_export, 'galderma')\n"
   ]
  },
  {
   "cell_type": "code",
   "execution_count": 11,
   "metadata": {},
   "outputs": [],
   "source": [
    "#write_to_csv(df_export, 'tmp.csv')\n",
    "#write_to_excel(df_export, 'tmp.xlsx', open=True)"
   ]
  },
  {
   "cell_type": "code",
   "execution_count": null,
   "metadata": {},
   "outputs": [],
   "source": []
  }
 ],
 "metadata": {
  "kernelspec": {
   "display_name": "Python 3",
   "language": "python",
   "name": "python3"
  },
  "language_info": {
   "codemirror_mode": {
    "name": "ipython",
    "version": 3
   },
   "file_extension": ".py",
   "mimetype": "text/x-python",
   "name": "python",
   "nbconvert_exporter": "python",
   "pygments_lexer": "ipython3",
   "version": "3.6.5"
  }
 },
 "nbformat": 4,
 "nbformat_minor": 2
}
