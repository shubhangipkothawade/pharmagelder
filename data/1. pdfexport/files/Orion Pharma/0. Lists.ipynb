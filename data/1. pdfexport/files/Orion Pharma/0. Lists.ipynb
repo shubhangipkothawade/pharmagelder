{
 "cells": [
  {
   "cell_type": "markdown",
   "metadata": {},
   "source": [
    "# Orion - List"
   ]
  },
  {
   "cell_type": "code",
   "execution_count": 1,
   "metadata": {},
   "outputs": [],
   "source": [
    "import sys\n",
    "sys.path.insert(0, '../../../lib/')\n",
    "\n",
    "import tabula\n",
    "import numpy as np\n",
    "import pandas as pd\n",
    "import importlib\n",
    "\n",
    "import pdfexport\n",
    "importlib.reload(pdfexport)\n",
    "\n",
    "from pdfexport import *"
   ]
  },
  {
   "cell_type": "markdown",
   "metadata": {},
   "source": [
    "## Import PDF"
   ]
  },
  {
   "cell_type": "code",
   "execution_count": 2,
   "metadata": {},
   "outputs": [],
   "source": [
    "# Read pdf into DataFrame\n",
    "df_list = tabula.read_pdf(\"2018_offenlegung-geldwerter-leistungen_final-version.pdf\", pages='all', lattice=True, multiple_tables=True)\n",
    "df = pd.concat(df_list)"
   ]
  },
  {
   "cell_type": "markdown",
   "metadata": {},
   "source": [
    "## Format Table"
   ]
  },
  {
   "cell_type": "code",
   "execution_count": 3,
   "metadata": {},
   "outputs": [
    {
     "name": "stdout",
     "output_type": "stream",
     "text": [
      "Total nicht Summe der Werte\n",
      "saved\n"
     ]
    }
   ],
   "source": [
    "df_export = df.copy()\n",
    "\n",
    "#Rename Columns\n",
    "df_export.columns = ['name', 'location', 'country', 'address', 'donations_grants', 'sponsorship', 'registration_fees', 'travel_accommodation', 'fees', 'related_expenses', 'total', 'empty1']\n",
    "\n",
    "#Shift all where 'name' is empty\n",
    "df_export[df_export['name'].isna()] = df_export[df_export['name'].isna()].shift(-1, axis='columns')\n",
    "\n",
    "#Remove empty rows\n",
    "df_export = df_export.dropna(subset=['total'], how='all')\n",
    "df_export = df_export.dropna(subset=['name'], how='all')\n",
    "\n",
    "#Remove empties\n",
    "df_export.drop(columns=['empty1'], inplace=True)\n",
    "\n",
    "#Add type\n",
    "df_export = set_type_by_alphabetical_order(df_export)\n",
    "\n",
    "#Remove PLZ from address\n",
    "for index, row in df_export.iterrows():\n",
    "    adr_split = row['address'].split(',')\n",
    "    if len(adr_split) > 1:\n",
    "        plz_ort = adr_split[len(adr_split) - 1].strip()\n",
    "        df_export.loc[index, 'plz'] = plz_ort.split(' ')[0]\n",
    "        addr = row['address'].replace(',' + plz_ort, '')\n",
    "        addr = addr.replace(', ' + plz_ort, '')\n",
    "        df_export.loc[index, 'address'] = addr\n",
    "\n",
    "#Cleanup Numbers and sum\n",
    "df_export = remove_in_numbers(df_export, '-')\n",
    "df_export = remove_in_numbers(df_export, 'N/A')\n",
    "df_export = cleanup_number(df_export)\n",
    "df_export = amounts_to_number(df_export)\n",
    "\n",
    "#Add empty fields\n",
    "df_export = add_uci(df_export)\n",
    "\n",
    "#basic string conversion\n",
    "df_export = basic_string_conversion(df_export)\n",
    "\n",
    "#Revert name\n",
    "df_export = revert_name(df_export, ' ')\n",
    "\n",
    "#Remove Comma\n",
    "df_export['name'] = df_export['name'].str.replace(\",\", \"\")\n",
    "df_export['name'] = df_export['name'].str.strip()\n",
    "\n",
    "export_list(df_export, 'orion')"
   ]
  },
  {
   "cell_type": "code",
   "execution_count": 6,
   "metadata": {},
   "outputs": [],
   "source": [
    "#write_to_csv(df_export, 'tmp.csv', True)\n",
    "#write_to_excel(df_export, 'tmp.xlsx', open=True)"
   ]
  },
  {
   "cell_type": "code",
   "execution_count": null,
   "metadata": {},
   "outputs": [],
   "source": []
  }
 ],
 "metadata": {
  "kernelspec": {
   "display_name": "Python 3",
   "language": "python",
   "name": "python3"
  },
  "language_info": {
   "codemirror_mode": {
    "name": "ipython",
    "version": 3
   },
   "file_extension": ".py",
   "mimetype": "text/x-python",
   "name": "python",
   "nbconvert_exporter": "python",
   "pygments_lexer": "ipython3",
   "version": "3.6.5"
  }
 },
 "nbformat": 4,
 "nbformat_minor": 2
}
