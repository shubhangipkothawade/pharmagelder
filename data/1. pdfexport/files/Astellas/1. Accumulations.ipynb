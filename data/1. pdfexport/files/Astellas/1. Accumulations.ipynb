{
 "cells": [
  {
   "cell_type": "markdown",
   "metadata": {},
   "source": [
    "# Astellas - Accumulations\n",
    "## Next year\n",
    "* Manually"
   ]
  },
  {
   "cell_type": "code",
   "execution_count": 3,
   "metadata": {},
   "outputs": [],
   "source": [
    "import sys\n",
    "sys.path.insert(0, '../../../lib/')\n",
    "\n",
    "import tabula\n",
    "import numpy as np\n",
    "import pandas as pd\n",
    "import importlib\n",
    "\n",
    "import pdfexport\n",
    "importlib.reload(pdfexport)\n",
    "\n",
    "from pdfexport import *"
   ]
  },
  {
   "cell_type": "markdown",
   "metadata": {},
   "source": [
    "## Import PDF"
   ]
  },
  {
   "cell_type": "code",
   "execution_count": 5,
   "metadata": {},
   "outputs": [
    {
     "name": "stdout",
     "output_type": "stream",
     "text": [
      "saved\n"
     ]
    }
   ],
   "source": [
    "df_export = pd.DataFrame(columns=fix_columns_accumulations[:-1])\n",
    "\n",
    "# Add HCP\n",
    "df_export = add_accumulation(df_export, AccType.hcp_amount,\n",
    "                             registration_fees = '4117.71',\n",
    "                             travel_accommodation = '6460.64',\n",
    "                             fees = '27834.56',\n",
    "                             related_expenses = '',\n",
    "                             total = '38412.91'\n",
    "                            )\n",
    "\n",
    "df_export = add_accumulation(df_export, AccType.hcp_count,\n",
    "                             registration_fees = '6',\n",
    "                             travel_accommodation = '7',\n",
    "                             fees = '4',\n",
    "                             related_expenses = '',\n",
    "                             total = '10'\n",
    "                            )\n",
    "\n",
    "# Add HCO\n",
    "df_export = add_accumulation(df_export, AccType.hco_amount,\n",
    "                            donations_grants = '168990.00',\n",
    "                            sponsorship = '22250.00',\n",
    "                            registration_fees='2732.53',\n",
    "                            travel_accommodation = '3599.33',\n",
    "                            fees = '1200.00',\n",
    "                            related_expenses = '100.00',\n",
    "                            total = '198871.86')\n",
    "\n",
    "df_export = add_accumulation(df_export, AccType.hco_count,\n",
    "                            donations_grants = '1',\n",
    "                            sponsorship = '2',\n",
    "                            registration_fees='1',\n",
    "                            travel_accommodation = '1',\n",
    "                            fees = '1',\n",
    "                            related_expenses = '1',\n",
    "                            total = '3')\n",
    "\n",
    "# RnD\n",
    "df_export = add_accumulation(df_export, AccType.rnd,\n",
    "                            total = '1345.62')\n",
    "\n",
    "#Numberize and sum\n",
    "df_export = replace_comma_to_dot(df_export)\n",
    "df_export = cleanup_number(df_export)\n",
    "df_export = amounts_to_number(df_export)\n",
    "#df_export = sum_amounts(df_export)\n",
    "\n",
    "#Fix RnD\n",
    "df_export.loc[df_export.type == 'rnd', 'donations_grants'] = np.NaN\n",
    "\n",
    "export_acumulations(df_export, 'astellas')"
   ]
  },
  {
   "cell_type": "code",
   "execution_count": null,
   "metadata": {},
   "outputs": [],
   "source": []
  }
 ],
 "metadata": {
  "kernelspec": {
   "display_name": "Python 3",
   "language": "python",
   "name": "python3"
  },
  "language_info": {
   "codemirror_mode": {
    "name": "ipython",
    "version": 3
   },
   "file_extension": ".py",
   "mimetype": "text/x-python",
   "name": "python",
   "nbconvert_exporter": "python",
   "pygments_lexer": "ipython3",
   "version": "3.7.4"
  }
 },
 "nbformat": 4,
 "nbformat_minor": 2
}
