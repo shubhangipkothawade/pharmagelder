{
 "cells": [
  {
   "cell_type": "markdown",
   "metadata": {},
   "source": [
    "# Astelias - Accumulations\n",
    "\n"
   ]
  },
  {
   "cell_type": "code",
   "execution_count": 1,
   "metadata": {},
   "outputs": [],
   "source": [
    "import sys\n",
    "sys.path.insert(0, '../../../lib/')\n",
    "\n",
    "import tabula\n",
    "import numpy as np\n",
    "import pandas as pd\n",
    "import importlib\n",
    "\n",
    "import pdfexport\n",
    "importlib.reload(pdfexport)\n",
    "\n",
    "from pdfexport import *"
   ]
  },
  {
   "cell_type": "code",
   "execution_count": null,
   "metadata": {},
   "outputs": [],
   "source": [
    "# Read pdf into DataFrame\n",
    "df = tabula.read_pdf(\"2017+(ENGLISH)+Disclosure+Code+Report_SWITZERLAND_12062018_V1.0.pdf\", pages='all', lattice=True)"
   ]
  },
  {
   "cell_type": "code",
   "execution_count": null,
   "metadata": {},
   "outputs": [],
   "source": [
    "df_export = df.copy()\n",
    "\n",
    "#Shift all where column0 is empty\n",
    "df_export[df_export[df_export.columns[0]].notna()] = df_export[df_export[df_export.columns[0]].notna()].shift(1, axis='columns')\n",
    "\n",
    "#Drop Columns\n",
    "df_export = df_export.drop(df.columns[0],axis=1)\n",
    "df_export = df_export.drop(df.columns[9:],axis=1)\n",
    "\n",
    "#Rename\n",
    "df_export.columns = fix_columns_accumulations[0: 8]\n",
    "\n",
    "#fill na\n",
    "df_export = df_export.fillna(\"\")\n",
    "\n",
    "# Select\n",
    "amount = df_export[df_export['type'].str.contains('Aggregate amount') & df_export['total'] > 0]\n",
    "amount = amount[amount.duplicated('total')]\n",
    "recipients = df_export[df_export['type'].str.contains('Number of Recipients') & df_export['total'] > 0]\n",
    "recipients = recipients[recipients.duplicated('total')]\n",
    "rnd = df_export[df_export.type.str.contains('Transfers of Value re Research')& df_export['donations_grants'] > 0]\n",
    "rnd = rnd[rnd.duplicated('donations_grants')]\n",
    "\n",
    "#concat\n",
    "df_export = pd.concat([amount, recipients, rnd])\n",
    "\n",
    "#Numberize \n",
    "df_export = df_export.replace('N/V', np.NaN)\n",
    "df_export = cleanup_number(df_export)\n",
    "df_export = amounts_to_number(df_export)\n",
    "\n",
    "df_export = df_export.reset_index(drop=True)\n",
    "df_export.iloc[0,0] = \"hcp_amount\"\n",
    "df_export.iloc[1,0] = \"hco_amount\"\n",
    "df_export.iloc[2,0] = \"hcp_count\"\n",
    "df_export.iloc[3,0] = \"hco_count\"\n",
    "df_export.iloc[4,0] = \"rnd\"\n",
    "\n",
    "#Fix RnD\n",
    "df_export.iloc[4,7] = df_export.iloc[4,1]\n",
    "df_export.iloc[4,1] = np.NaN\n",
    "\n",
    "export_acumulations(df_export, 'astellas')"
   ]
  },
  {
   "cell_type": "code",
   "execution_count": null,
   "metadata": {},
   "outputs": [],
   "source": []
  }
 ],
 "metadata": {
  "kernelspec": {
   "display_name": "Python 3",
   "language": "python",
   "name": "python3"
  },
  "language_info": {
   "codemirror_mode": {
    "name": "ipython",
    "version": 3
   },
   "file_extension": ".py",
   "mimetype": "text/x-python",
   "name": "python",
   "nbconvert_exporter": "python",
   "pygments_lexer": "ipython3",
   "version": "3.6.5"
  }
 },
 "nbformat": 4,
 "nbformat_minor": 2
}
