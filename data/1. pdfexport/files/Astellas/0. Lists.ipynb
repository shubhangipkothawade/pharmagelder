{
 "cells": [
  {
   "cell_type": "markdown",
   "metadata": {},
   "source": [
    "# Astelias - List\n",
    "## Beachten Zukunft\n",
    "* HCP & HCP fix gesetzt, da Sortierung falsch"
   ]
  },
  {
   "cell_type": "code",
   "execution_count": 2,
   "metadata": {},
   "outputs": [],
   "source": [
    "import sys\n",
    "sys.path.insert(0, '../../../lib/')\n",
    "\n",
    "import tabula\n",
    "import numpy as np\n",
    "import pandas as pd\n",
    "import importlib\n",
    "\n",
    "import pdfexport\n",
    "importlib.reload(pdfexport)\n",
    "\n",
    "from pdfexport import *"
   ]
  },
  {
   "cell_type": "markdown",
   "metadata": {},
   "source": [
    "## Import PDF"
   ]
  },
  {
   "cell_type": "code",
   "execution_count": 3,
   "metadata": {},
   "outputs": [],
   "source": [
    "# Read pdf into DataFrame\n",
    "df = tabula.read_pdf(\"2017+(ENGLISH)+Disclosure+Code+Report_SWITZERLAND_12062018_V1.0.pdf\", pages='all', lattice=True)"
   ]
  },
  {
   "cell_type": "markdown",
   "metadata": {},
   "source": [
    "## Format Table"
   ]
  },
  {
   "cell_type": "code",
   "execution_count": 4,
   "metadata": {},
   "outputs": [
    {
     "name": "stdout",
     "output_type": "stream",
     "text": [
      "WARNING: Remember to set HCP, HCO and RnD manually!\n",
      "revert_name: Be sure: Only revert hcp, not hco!\n",
      "Total nicht Summe der Werte\n",
      "saved\n"
     ]
    }
   ],
   "source": [
    "df_export = df.copy()\n",
    "\n",
    "#Rename Columns\n",
    "df_export.columns = ['empty', 'name', 'location', 'country', 'address', 'donations_grants', 'sponsorship', 'registration_fees','travel_accommodation', 'fees', 'related_expenses', 'total']\n",
    "\n",
    "#Remplate HCPs and HCOs\n",
    "df_export['empty'] = df_export['empty'].str.replace(\"HCPs\", \"\")\n",
    "df_export['empty'] = df_export['empty'].str.replace(\"HCOs\", \"\")\n",
    "df_export['empty'] = df_export['empty'].fillna(\"\")\n",
    "\n",
    "#df_export[df_export['empty'] != '']\n",
    "\n",
    "#Shift all where 'name' is empty\n",
    "df_export[df_export['empty'] != \"\"] = df_export[df_export['empty'] != \"\"].shift(1, axis='columns')\n",
    "\n",
    "#Remove rows which have no total\n",
    "df_export = df_export.dropna(subset=['total'], how='all')\n",
    "df_export = df_export.reset_index(drop=True)\n",
    "\n",
    "#Convert to Numbers\n",
    "df_export['sponsorship'] = df_export['sponsorship'].str.replace(\"Na\", \"\")\n",
    "df_export = cleanup_number(df_export)\n",
    "df_export = amounts_to_number(df_export)\n",
    "\n",
    "#Remove duplicate\n",
    "df_export = df_export[df_export.duplicated(\"name\", keep=\"first\")]\n",
    "\n",
    "#Remove empty\n",
    "df_export.drop(columns='empty', inplace=True)\n",
    "\n",
    "#Remove \"name\" in \"adress\" (like \"Stiftung SONK\",\"Stiftung SONK Rorschacher Strasse 150\"\n",
    "for index, row in df_export.iterrows():\n",
    "    df_export.loc[index, 'address'] = row['address'].replace(row['name'] + ' ', '')\n",
    "    \n",
    "#Set Type\n",
    "add_warning(manually=True)\n",
    "df_export = add_type_by_index(df_export, 164)\n",
    "\n",
    "#Turn Surname/Lastname\n",
    "df_export.loc[df_export.type == 'hcp', 'name'] = revert_name(df_export[df_export.type == 'hcp']['name'])\n",
    "\n",
    "#Remove Carination\n",
    "df_export = remove_carination(df_export)\n",
    "\n",
    "#Add missing columns\n",
    "df_export = add_plz(df_export)\n",
    "df_export = add_uci(df_export)\n",
    "\n",
    "#basic string conversion\n",
    "df_export = basic_string_conversion(df_export)\n",
    "\n",
    "#Export\n",
    "export_list(df_export, 'astellas')"
   ]
  },
  {
   "cell_type": "code",
   "execution_count": null,
   "metadata": {},
   "outputs": [],
   "source": []
  }
 ],
 "metadata": {
  "kernelspec": {
   "display_name": "Python 3",
   "language": "python",
   "name": "python3"
  },
  "language_info": {
   "codemirror_mode": {
    "name": "ipython",
    "version": 3
   },
   "file_extension": ".py",
   "mimetype": "text/x-python",
   "name": "python",
   "nbconvert_exporter": "python",
   "pygments_lexer": "ipython3",
   "version": "3.6.5"
  }
 },
 "nbformat": 4,
 "nbformat_minor": 2
}
