{
 "cells": [
  {
   "cell_type": "markdown",
   "metadata": {},
   "source": [
    "# Leo - List"
   ]
  },
  {
   "cell_type": "code",
   "execution_count": 1,
   "metadata": {},
   "outputs": [],
   "source": [
    "import sys\n",
    "sys.path.insert(0, '../../../lib/')\n",
    "\n",
    "import tabula\n",
    "import numpy as np\n",
    "import pandas as pd\n",
    "import importlib\n",
    "import re\n",
    "\n",
    "import pdfexport\n",
    "importlib.reload(pdfexport)\n",
    "\n",
    "from pdfexport import *"
   ]
  },
  {
   "cell_type": "markdown",
   "metadata": {},
   "source": [
    "## Import PDF"
   ]
  },
  {
   "cell_type": "code",
   "execution_count": 2,
   "metadata": {},
   "outputs": [],
   "source": [
    "# Read pdf into DataFrame\n",
    "df = tabula.read_pdf(\"Switzerland_Scienceindustries_German_26Jun2019.pdf\", pages='all', lattice=True)"
   ]
  },
  {
   "cell_type": "markdown",
   "metadata": {},
   "source": [
    "## Format Table"
   ]
  },
  {
   "cell_type": "code",
   "execution_count": 10,
   "metadata": {},
   "outputs": [
    {
     "name": "stdout",
     "output_type": "stream",
     "text": [
      "saved\n"
     ]
    }
   ],
   "source": [
    "df_export = df.copy()\n",
    "\n",
    "#Rename Columns\n",
    "df_export.columns = ['empty', 'name', 'location', 'country', 'address', 'uci', 'donations_grants', 'sponsorship', 'registration_fees','travel_accommodation', 'fees', 'related_expenses', 'empty1', 'total']\n",
    "\n",
    "#Remove empty\n",
    "df_export.drop(columns=['empty', 'empty1'], inplace=True)\n",
    "\n",
    "#Remove rows which have no values\n",
    "df_export = df_export.dropna(subset=['total'], how='all')\n",
    "df_export = df_export.reset_index(drop=True)\n",
    "\n",
    "#Convert to Numbers\n",
    "df_export = cleanup_number(df_export)\n",
    "df_export = replace_comma_to_dot(df_export)\n",
    "df_export = amounts_to_number(df_export)\n",
    "\n",
    "#Add PLZ\n",
    "df_export = add_plz(df_export)\n",
    "\n",
    "#Copy PLZ from Street to PLZ\n",
    "df_export['plz'] = df_export.address.str.extract(', [CH‐]*(\\d{4})$')\n",
    "df_export['address'] = df_export.address.str.replace(', [CH‐]*(\\d{4})$', '')\n",
    "\n",
    "#Add Type\n",
    "df_export = set_type_by_alphabetical_order(df_export)\n",
    "\n",
    "#Remove Carination\n",
    "df_export = remove_carination(df_export, \" \")\n",
    "\n",
    "#basic string conversion\n",
    "df_export = basic_string_conversion(df_export)\n",
    "\n",
    "export_list(df_export, 'leo')"
   ]
  },
  {
   "cell_type": "code",
   "execution_count": 4,
   "metadata": {},
   "outputs": [],
   "source": [
    "#write_to_csv(df_export, 'tmp.csv')\n",
    "#write_to_excel(df_export, 'tmp.xlsx', open=True)"
   ]
  },
  {
   "cell_type": "code",
   "execution_count": null,
   "metadata": {},
   "outputs": [],
   "source": []
  }
 ],
 "metadata": {
  "kernelspec": {
   "display_name": "Python 3",
   "language": "python",
   "name": "python3"
  },
  "language_info": {
   "codemirror_mode": {
    "name": "ipython",
    "version": 3
   },
   "file_extension": ".py",
   "mimetype": "text/x-python",
   "name": "python",
   "nbconvert_exporter": "python",
   "pygments_lexer": "ipython3",
   "version": "3.6.5"
  }
 },
 "nbformat": 4,
 "nbformat_minor": 2
}
