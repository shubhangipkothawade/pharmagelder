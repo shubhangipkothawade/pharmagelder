{
 "cells": [
  {
   "cell_type": "markdown",
   "metadata": {},
   "source": [
    "# Astellas - Future\n",
    "## Next year\n",
    "* Manually"
   ]
  },
  {
   "cell_type": "code",
   "execution_count": 2,
   "metadata": {},
   "outputs": [],
   "source": [
    "import sys\n",
    "sys.path.insert(0, '../../../lib/')\n",
    "\n",
    "import tabula\n",
    "import numpy as np\n",
    "import pandas as pd\n",
    "import importlib\n",
    "\n",
    "import pdfexport\n",
    "importlib.reload(pdfexport)\n",
    "\n",
    "from pdfexport import *"
   ]
  },
  {
   "cell_type": "markdown",
   "metadata": {},
   "source": [
    "## Nothing to declare (2019)"
   ]
  },
  {
   "cell_type": "code",
   "execution_count": 3,
   "metadata": {},
   "outputs": [
    {
     "name": "stdout",
     "output_type": "stream",
     "text": [
      "saved\n"
     ]
    }
   ],
   "source": [
    "#Create Dataset\n",
    "df_export = pd.DataFrame(columns=fix_columns_accumulations)\n",
    "\n",
    "#Add empty rows\n",
    "df_export = add_empty_accumulation(df_export, \"hcp_amount\")\n",
    "df_export = add_empty_accumulation(df_export, \"hcp_count\")\n",
    "df_export = add_empty_accumulation(df_export, \"hco_amount\")\n",
    "df_export = add_empty_accumulation(df_export, \"hco_count\")\n",
    "df_export = add_empty_accumulation(df_export, \"rnd\")\n",
    "\n",
    "#Numberize and sum\n",
    "df_export = amounts_to_number(df_export)\n",
    "    \n",
    "export_acumulations(df_export, 'future')"
   ]
  },
  {
   "cell_type": "markdown",
   "metadata": {},
   "source": [
    "## -- Import PDF (2018)"
   ]
  },
  {
   "cell_type": "code",
   "execution_count": 4,
   "metadata": {},
   "outputs": [
    {
     "name": "stdout",
     "output_type": "stream",
     "text": [
      "hcp_count not found or not unique\n",
      "hco_count not found or not unique\n",
      "saved\n"
     ]
    }
   ],
   "source": [
    "df_export = pd.DataFrame(columns=fix_columns_accumulations[:-1])\n",
    "\n",
    "# Add HCP\n",
    "df_export = add_accumulation(df_export, AccType.hcp_amount,\n",
    "                             donations_grants = '',\n",
    "                             sponsorship = '',\n",
    "                             registration_fees = '25293.07',\n",
    "                             travel_accommodation = '30594.51',\n",
    "                             fees = '9978.46',\n",
    "                             related_expenses = '207.00',\n",
    "                             total = '66073.04'\n",
    "                            )\n",
    "\n",
    "# Add HCO\n",
    "df_export = add_accumulation(df_export, AccType.hco_amount,\n",
    "                             donations_grants = '',\n",
    "                             sponsorship = '343808.11',\n",
    "                             registration_fees = '742.36',\n",
    "                             travel_accommodation = '553.77',\n",
    "                             fees = '44530.00',\n",
    "                             related_expenses = '',\n",
    "                             total = '389634.24'\n",
    "                            )\n",
    "\n",
    "# RnD\n",
    "df_export = add_accumulation(df_export, AccType.rnd,\n",
    "                            total = '151383.96')\n",
    "\n",
    "#Numberize and sum\n",
    "df_export = replace_comma_to_dot(df_export)\n",
    "df_export = cleanup_number(df_export)\n",
    "df_export = amounts_to_number(df_export)\n",
    "\n",
    "export_acumulations(df_export, 'future')"
   ]
  },
  {
   "cell_type": "code",
   "execution_count": null,
   "metadata": {},
   "outputs": [],
   "source": []
  }
 ],
 "metadata": {
  "kernelspec": {
   "display_name": "Python 3",
   "language": "python",
   "name": "python3"
  },
  "language_info": {
   "codemirror_mode": {
    "name": "ipython",
    "version": 3
   },
   "file_extension": ".py",
   "mimetype": "text/x-python",
   "name": "python",
   "nbconvert_exporter": "python",
   "pygments_lexer": "ipython3",
   "version": "3.6.5"
  }
 },
 "nbformat": 4,
 "nbformat_minor": 2
}
