{
 "cells": [
  {
   "cell_type": "markdown",
   "metadata": {},
   "source": [
    "# UCB - Accumulations\n",
    "## Beachten\n",
    "* Do it manually"
   ]
  },
  {
   "cell_type": "code",
   "execution_count": 1,
   "metadata": {},
   "outputs": [],
   "source": [
    "import sys\n",
    "sys.path.insert(0, '../../../lib/')\n",
    "\n",
    "import tabula\n",
    "import numpy as np\n",
    "import pandas as pd\n",
    "import importlib\n",
    "\n",
    "import pdfexport\n",
    "importlib.reload(pdfexport)\n",
    "\n",
    "from pdfexport import *"
   ]
  },
  {
   "cell_type": "markdown",
   "metadata": {},
   "source": [
    "## Format Table"
   ]
  },
  {
   "cell_type": "code",
   "execution_count": 6,
   "metadata": {},
   "outputs": [
    {
     "name": "stdout",
     "output_type": "stream",
     "text": [
      "WARNING: Remember to set HCP, HCO and RnD manually!\n",
      "Total nicht Summe der Werte\n",
      "saved\n"
     ]
    }
   ],
   "source": [
    "df_export = pd.DataFrame(columns=fix_columns_accumulations[:-1])\n",
    "\n",
    "# Add HCP\n",
    "df_export = add_accumulation(df_export, AccType.hcp_amount, \n",
    "                             registration_fees = 4130.40, \n",
    "                             travel_accommodation = 7164.35, \n",
    "                             fees = 681.09, \n",
    "                             related_expenses = 681.09,\n",
    "                             total = 18866.79)\n",
    "\n",
    "df_export = add_accumulation(df_export, AccType.hcp_count, \n",
    "                             registration_fees = 11, \n",
    "                             travel_accommodation = 16, \n",
    "                             fees = 6, \n",
    "                             related_expenses = 2,\n",
    "                             total = 20)\n",
    "# Add HCO\n",
    "df_export = add_empty_accumulation(df_export, \"hco_amount\")\n",
    "df_export = add_empty_accumulation(df_export, \"hco_count\")\n",
    "\n",
    "# RnD\n",
    "df_export = add_accumulation(df_export, AccType.rnd,\n",
    "                            total = 814225.39)\n",
    "\n",
    "#Numberize and sum\n",
    "df_export = amounts_to_number(df_export)\n",
    "\n",
    "add_warning(manually=True)\n",
    "export_acumulations(df_export, 'ucb')"
   ]
  },
  {
   "cell_type": "code",
   "execution_count": null,
   "metadata": {},
   "outputs": [],
   "source": [
    "#write_to_csv(df_export, 'tmp.csv')\n",
    "#write_to_excel(df_export, 'tmp.xlsx', open=True)"
   ]
  }
 ],
 "metadata": {
  "kernelspec": {
   "display_name": "Python 3",
   "language": "python",
   "name": "python3"
  },
  "language_info": {
   "codemirror_mode": {
    "name": "ipython",
    "version": 3
   },
   "file_extension": ".py",
   "mimetype": "text/x-python",
   "name": "python",
   "nbconvert_exporter": "python",
   "pygments_lexer": "ipython3",
   "version": "3.6.5"
  }
 },
 "nbformat": 4,
 "nbformat_minor": 2
}
