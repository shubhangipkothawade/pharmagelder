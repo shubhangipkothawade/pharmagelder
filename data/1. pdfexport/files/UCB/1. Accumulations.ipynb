{
 "cells": [
  {
   "cell_type": "markdown",
   "metadata": {},
   "source": [
    "# UCB - Accumulations\n",
    "## Beachten\n",
    "* Do it manually"
   ]
  },
  {
   "cell_type": "code",
   "execution_count": 2,
   "metadata": {},
   "outputs": [],
   "source": [
    "import sys\n",
    "sys.path.insert(0, '../../../lib/')\n",
    "\n",
    "import tabula\n",
    "import numpy as np\n",
    "import pandas as pd\n",
    "import importlib\n",
    "\n",
    "import pdfexport\n",
    "importlib.reload(pdfexport)\n",
    "\n",
    "from pdfexport import *"
   ]
  },
  {
   "cell_type": "markdown",
   "metadata": {},
   "source": [
    "## Format Table"
   ]
  },
  {
   "cell_type": "code",
   "execution_count": 4,
   "metadata": {},
   "outputs": [
    {
     "name": "stdout",
     "output_type": "stream",
     "text": [
      "WARNING: Remember to set HCP, HCO and RnD manually!\n",
      "hcp_count not found or not unique\n",
      "hco_count not found or not unique\n",
      "Total hcp_amount nicht Summe der Werte\n",
      "saved\n"
     ]
    }
   ],
   "source": [
    "df_export = pd.DataFrame(columns=fix_columns_accumulations[:-1])\n",
    "\n",
    "# Add HCP\n",
    "df_export = add_accumulation(df_export, AccType.hcp_amount, \n",
    "                             registration_fees = \"864,40\",\n",
    "                             travel_accommodation = \"9137,25\",\n",
    "                             fees = \"8460,00\",\n",
    "                             related_expenses = \"1665,97\",\n",
    "                             total = \"20637,74\")\n",
    "# Add HCO\n",
    "df_export = add_accumulation(df_export, AccType.hco_amount, \n",
    "                             travel_accommodation = \"\",\n",
    "                             related_expenses = \"\",\n",
    "                             fees = \"25954,15\",\n",
    "                             total = \"25954,15\")\n",
    "\n",
    "# RnD\n",
    "df_export = add_accumulation(df_export, AccType.rnd,\n",
    "                            total = \"379375,72\")\n",
    "\n",
    "#Numberize and sum\n",
    "df_export = replace_comma_to_dot(df_export)\n",
    "df_export = amounts_to_number(df_export)\n",
    "\n",
    "add_warning(manually=True)\n",
    "export_acumulations(df_export, 'ucb')"
   ]
  },
  {
   "cell_type": "code",
   "execution_count": 6,
   "metadata": {},
   "outputs": [],
   "source": [
    "#write_to_csv(df_export, 'tmp.csv')\n",
    "#write_to_excel(df_export, 'tmp.xlsx', open=True)"
   ]
  },
  {
   "cell_type": "code",
   "execution_count": null,
   "metadata": {},
   "outputs": [],
   "source": []
  }
 ],
 "metadata": {
  "kernelspec": {
   "display_name": "Python 3",
   "language": "python",
   "name": "python3"
  },
  "language_info": {
   "codemirror_mode": {
    "name": "ipython",
    "version": 3
   },
   "file_extension": ".py",
   "mimetype": "text/x-python",
   "name": "python",
   "nbconvert_exporter": "python",
   "pygments_lexer": "ipython3",
   "version": "3.6.5"
  }
 },
 "nbformat": 4,
 "nbformat_minor": 2
}
