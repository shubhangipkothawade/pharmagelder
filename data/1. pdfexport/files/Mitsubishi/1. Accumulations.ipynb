{
 "cells": [
  {
   "cell_type": "markdown",
   "metadata": {},
   "source": [
    "# Mitsubishi - Accumulations\n",
    "## Beachten\n",
    "* Manuell erfassen"
   ]
  },
  {
   "cell_type": "code",
   "execution_count": 1,
   "metadata": {},
   "outputs": [],
   "source": [
    "import sys\n",
    "sys.path.insert(0, '../../../lib/')\n",
    "\n",
    "import tabula\n",
    "import numpy as np\n",
    "import pandas as pd\n",
    "import importlib\n",
    "\n",
    "import pdfexport\n",
    "importlib.reload(pdfexport)\n",
    "\n",
    "from pdfexport import *"
   ]
  },
  {
   "cell_type": "markdown",
   "metadata": {},
   "source": [
    "## Format Table"
   ]
  },
  {
   "cell_type": "code",
   "execution_count": 3,
   "metadata": {},
   "outputs": [
    {
     "name": "stdout",
     "output_type": "stream",
     "text": [
      "saved\n"
     ]
    }
   ],
   "source": [
    "#Empty Dataset\n",
    "df_export = pd.DataFrame(columns=fix_columns_accumulations[:-1])\n",
    "\n",
    "#HCP\n",
    "df_export = add_accumulation(df_export, AccType.hcp_amount,\n",
    "                             donations_grants = '',\n",
    "                             sponsorship = '',\n",
    "                             registration_fees = 0 ,\n",
    "                             travel_accommodation = 0,\n",
    "                             fees = 8000,\n",
    "                             related_expenses = 0\n",
    "                            )\n",
    "\n",
    "df_export = add_accumulation(df_export, AccType.hcp_count,\n",
    "                             donations_grants = '',\n",
    "                             sponsorship = '',\n",
    "                             registration_fees = 0 ,\n",
    "                             travel_accommodation = 0,\n",
    "                             fees = 10,\n",
    "                             related_expenses = 0\n",
    "                            )\n",
    "#HCO\n",
    "df_export = add_accumulation(df_export, AccType.hco_amount,\n",
    "                             donations_grants = '',\n",
    "                             sponsorship = 0,\n",
    "                             registration_fees = 0,\n",
    "                             travel_accommodation = 0,\n",
    "                             fees = 0,\n",
    "                             related_expenses = 0\n",
    "                            )\n",
    "\n",
    "df_export = add_accumulation(df_export, AccType.hco_count,\n",
    "                             donations_grants = '',\n",
    "                             sponsorship = 0,\n",
    "                             registration_fees = 0,\n",
    "                             travel_accommodation = 0,\n",
    "                             fees = 0,\n",
    "                             related_expenses = 0\n",
    "                            )\n",
    "#RND\n",
    "df_export = add_accumulation(df_export, AccType.rnd, total = 57547)\n",
    "\n",
    "#Numberize\n",
    "df_export = amounts_to_number(df_export)\n",
    "\n",
    "#Sum\n",
    "df_export = sum_amounts(df_export)\n",
    "\n",
    "#Export\n",
    "export_acumulations(df_export, 'mitsubishi')"
   ]
  },
  {
   "cell_type": "code",
   "execution_count": null,
   "metadata": {},
   "outputs": [],
   "source": [
    "#write_to_csv(df_export, 'tmp.csv')\n",
    "#write_to_excel(df_export, 'tmp.xlsx')"
   ]
  }
 ],
 "metadata": {
  "kernelspec": {
   "display_name": "Python 3",
   "language": "python",
   "name": "python3"
  },
  "language_info": {
   "codemirror_mode": {
    "name": "ipython",
    "version": 3
   },
   "file_extension": ".py",
   "mimetype": "text/x-python",
   "name": "python",
   "nbconvert_exporter": "python",
   "pygments_lexer": "ipython3",
   "version": "3.6.5"
  }
 },
 "nbformat": 4,
 "nbformat_minor": 2
}
