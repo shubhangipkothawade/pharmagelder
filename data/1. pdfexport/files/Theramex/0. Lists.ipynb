{
 "cells": [
  {
   "cell_type": "markdown",
   "metadata": {},
   "source": [
    "# Theramex\n",
    "* Travel and Accommodation separatly\n",
    "* Subtract self paid?"
   ]
  },
  {
   "cell_type": "code",
   "execution_count": 1,
   "metadata": {},
   "outputs": [],
   "source": [
    "import sys\n",
    "sys.path.insert(0, '../../../lib/')\n",
    "\n",
    "import tabula\n",
    "import numpy as np\n",
    "import pandas as pd\n",
    "import importlib\n",
    "\n",
    "import pdfexport\n",
    "importlib.reload(pdfexport)\n",
    "\n",
    "from pdfexport import *"
   ]
  },
  {
   "cell_type": "markdown",
   "metadata": {},
   "source": [
    "## Import PDF"
   ]
  },
  {
   "cell_type": "code",
   "execution_count": 4,
   "metadata": {},
   "outputs": [],
   "source": [
    "columns = [49.4, 157.8, 171.5, 196.7, 218.8, 262, 344, 374.6, 486.1, 518.7, 536.6, 564, 590.3,  698.6]\n",
    "df = tabula.read_pdf(\"2019-transparency-report-for-Swiss-HCPs.pdf\", pages='all', lattice=False, columns=columns, guess=False, pandas_options={'header': None})"
   ]
  },
  {
   "cell_type": "markdown",
   "metadata": {},
   "source": [
    "## Format Table"
   ]
  },
  {
   "cell_type": "code",
   "execution_count": 37,
   "metadata": {},
   "outputs": [
    {
     "name": "stdout",
     "output_type": "stream",
     "text": [
      "Total nicht Summe der Werte\n",
      "saved\n"
     ]
    }
   ],
   "source": [
    "df_export = df.copy()\n",
    "\n",
    "#Rename Columns\n",
    "df_export.columns = ['empty0', 'name', 'type', 'empty1', 'country', 'location', 'address', 'uci', 'empty2', 'registration_fees', 'travel', 'accommodation', 'fees', 'selfpaid', 'total']\n",
    "\n",
    "#Remove empty rows\n",
    "df_export = df_export.dropna(subset=['name', 'country'], how='all')\n",
    "df_export = df_export.dropna(subset=['total'], how='all')\n",
    "df_export = df_export.dropna(subset=['name', 'country'], how='all')\n",
    "\n",
    "#Lowercase type\n",
    "df_export['type'] = df_export['type'].str.lower()\n",
    "\n",
    "#Copy PLZ from Location to PLZ\n",
    "df_export['plz'] = df_export.location.str.extract(r', (\\d{4})')\n",
    "df_export['location'] = df_export.location.str.replace(r'(, \\d{4})', '')\n",
    "\n",
    "#Add missing rows\n",
    "df_export['donations_grants'] = np.nan\n",
    "df_export['sponsorship'] = np.nan\n",
    "df_export['travel_accommodation'] = np.nan\n",
    "df_export['related_expenses'] = np.nan\n",
    "\n",
    "#Clean numbers\n",
    "df_export = cleanup_number(df_export)\n",
    "df_export = remove_chf(df_export)\n",
    "df_export = remove_comma(df_export)\n",
    "\n",
    "#Clean Travel and Accommodation separatly\n",
    "df_export['travel'] = df_export['travel'].str.replace('CHF ', '')\n",
    "df_export['travel'] = df_export['travel'].str.replace(',', '')\n",
    "df_export['accommodation'] = df_export['accommodation'].str.replace('CHF ', '')\n",
    "df_export['accommodation'] = df_export['accommodation'].str.replace(',', '')\n",
    "#df_export['selfpaid'] = df_export['selfpaid'].str.replace('CHF ', '')\n",
    "#df_export['selfpaid'] = df_export['selfpaid'].str.replace(', ', '')\n",
    "#df_export['selfpaid'] = df_export['selfpaid'].str.replace('Not required', '')\n",
    "\n",
    "#Calc travel_accommodation\n",
    "df_export['travel_accommodation'] = df_export.apply(lambda row: float(row['accommodation']) + float(row['travel']), axis=1)\n",
    "\n",
    "#Drop\n",
    "df_export.drop(columns=['empty0', 'empty1', 'empty2', 'travel', 'accommodation', 'selfpaid'], inplace=True)\n",
    "\n",
    "#Remove Titles\n",
    "df_export['name'] = df_export.name.str.replace(regex_title, '', regex=True, case=False)\n",
    "df_export['name'] = df_export.name.str.strip()\n",
    "\n",
    "#Amounts to number\n",
    "df_export = amounts_to_number(df_export)\n",
    "\n",
    "#basic string conversion\n",
    "df_export = basic_string_conversion(df_export)\n",
    "\n",
    "export_list(df_export, 'theramex')"
   ]
  },
  {
   "cell_type": "code",
   "execution_count": null,
   "metadata": {},
   "outputs": [],
   "source": [
    "#write_to_csv(df_export, 'tmp.csv', True)\n",
    "#write_to_excel(df_export, 'tmp.xlsx', True)"
   ]
  },
  {
   "cell_type": "code",
   "execution_count": null,
   "metadata": {},
   "outputs": [],
   "source": []
  }
 ],
 "metadata": {
  "kernelspec": {
   "display_name": "Python 3",
   "language": "python",
   "name": "python3"
  },
  "language_info": {
   "codemirror_mode": {
    "name": "ipython",
    "version": 3
   },
   "file_extension": ".py",
   "mimetype": "text/x-python",
   "name": "python",
   "nbconvert_exporter": "python",
   "pygments_lexer": "ipython3",
   "version": "3.6.5"
  }
 },
 "nbformat": 4,
 "nbformat_minor": 2
}
