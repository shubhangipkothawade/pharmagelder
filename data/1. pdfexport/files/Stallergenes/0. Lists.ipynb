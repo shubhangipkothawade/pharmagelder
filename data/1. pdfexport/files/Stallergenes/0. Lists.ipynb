{
 "cells": [
  {
   "cell_type": "markdown",
   "metadata": {},
   "source": [
    "# Stallergenes - List\n",
    "## Important!\n",
    "`registration_fees` and `travel_accommodation` are only paied by two third. Subtract one third. The total should then be correct"
   ]
  },
  {
   "cell_type": "code",
   "execution_count": 1,
   "metadata": {},
   "outputs": [],
   "source": [
    "import sys\n",
    "sys.path.insert(0, '../../../lib/')\n",
    "\n",
    "import tabula\n",
    "import numpy as np\n",
    "import pandas as pd\n",
    "import importlib\n",
    "\n",
    "import pdfexport\n",
    "importlib.reload(pdfexport)\n",
    "\n",
    "from pdfexport import *"
   ]
  },
  {
   "cell_type": "markdown",
   "metadata": {},
   "source": [
    "## Import PDF"
   ]
  },
  {
   "cell_type": "code",
   "execution_count": 2,
   "metadata": {},
   "outputs": [],
   "source": [
    "# Read pdf into DataFrame\n",
    "df = tabula.read_pdf(\"efpia-disclosure-code_schedule-offenlegung_2018_0.pdf\", pages='all', lattice=True)"
   ]
  },
  {
   "cell_type": "markdown",
   "metadata": {},
   "source": [
    "## Format Table"
   ]
  },
  {
   "cell_type": "code",
   "execution_count": 3,
   "metadata": {},
   "outputs": [
    {
     "name": "stdout",
     "output_type": "stream",
     "text": [
      "Total nicht Summe der Werte\n",
      "saved\n"
     ]
    }
   ],
   "source": [
    "df_export = df.copy()\n",
    "\n",
    "#Rename Columns\n",
    "df_export.columns = ['empty0', 'name', 'location', 'country', 'address', 'uci', 'donations_grants', 'sponsorship', 'registration_fees', 'travel_accommodation', 'fees', 'related_expenses', 'empty1', 'total']\n",
    "\n",
    "#Copy empty1 to total\n",
    "df_export.loc[df_export.empty1.notna(), 'total'] = df_export.empty1\n",
    "\n",
    "#Remove empty rows\n",
    "df_export = df_export.dropna(subset=['total'], how='all')\n",
    "\n",
    "#Remove empties\n",
    "df_export.drop(columns=['empty0', 'empty1'], inplace=True)\n",
    "\n",
    "#Type by text\n",
    "df_export = set_type_by_alphabetical_order(df_export)\n",
    "\n",
    "#Remove Carination\n",
    "df_export = remove_carination(df_export, \" \")\n",
    "\n",
    "#Cleanup Numbers\n",
    "df_export = amounts_to_number(df_export)\n",
    "\n",
    "#Substract a third of registration_fees and travel_accommodation\n",
    "df_export['registration_fees'] = round(df_export['registration_fees'] / 3 * 2)\n",
    "df_export['travel_accommodation'] = round(df_export['travel_accommodation'] / 3 * 2)\n",
    "\n",
    "#Add empty fields\n",
    "df_export = add_plz(df_export)\n",
    "\n",
    "#basic string conversion\n",
    "df_export = basic_string_conversion(df_export)\n",
    "\n",
    "export_list(df_export, 'stallergenes')"
   ]
  },
  {
   "cell_type": "code",
   "execution_count": 4,
   "metadata": {},
   "outputs": [
    {
     "data": {
      "text/html": [
       "<div>\n",
       "<style scoped>\n",
       "    .dataframe tbody tr th:only-of-type {\n",
       "        vertical-align: middle;\n",
       "    }\n",
       "\n",
       "    .dataframe tbody tr th {\n",
       "        vertical-align: top;\n",
       "    }\n",
       "\n",
       "    .dataframe thead th {\n",
       "        text-align: right;\n",
       "    }\n",
       "</style>\n",
       "<table border=\"1\" class=\"dataframe\">\n",
       "  <thead>\n",
       "    <tr style=\"text-align: right;\">\n",
       "      <th></th>\n",
       "      <th>name</th>\n",
       "      <th>location</th>\n",
       "      <th>country</th>\n",
       "      <th>address</th>\n",
       "      <th>plz</th>\n",
       "      <th>uci</th>\n",
       "      <th>donations_grants</th>\n",
       "      <th>sponsorship</th>\n",
       "      <th>registration_fees</th>\n",
       "      <th>travel_accommodation</th>\n",
       "      <th>fees</th>\n",
       "      <th>related_expenses</th>\n",
       "      <th>total</th>\n",
       "      <th>type</th>\n",
       "      <th>source</th>\n",
       "    </tr>\n",
       "  </thead>\n",
       "  <tbody>\n",
       "  </tbody>\n",
       "</table>\n",
       "</div>"
      ],
      "text/plain": [
       "Empty DataFrame\n",
       "Columns: [name, location, country, address, plz, uci, donations_grants, sponsorship, registration_fees, travel_accommodation, fees, related_expenses, total, type, source]\n",
       "Index: []"
      ]
     },
     "execution_count": 4,
     "metadata": {},
     "output_type": "execute_result"
    }
   ],
   "source": [
    "df_export[df_export.duplicated()]"
   ]
  },
  {
   "cell_type": "code",
   "execution_count": 5,
   "metadata": {},
   "outputs": [],
   "source": [
    "#write_to_csv(df_export, 'tmp.csv', True)\n",
    "#write_to_excel(df_export, 'tmp.xlsx', open=True)"
   ]
  },
  {
   "cell_type": "code",
   "execution_count": null,
   "metadata": {},
   "outputs": [],
   "source": []
  }
 ],
 "metadata": {
  "kernelspec": {
   "display_name": "Python 3",
   "language": "python",
   "name": "python3"
  },
  "language_info": {
   "codemirror_mode": {
    "name": "ipython",
    "version": 3
   },
   "file_extension": ".py",
   "mimetype": "text/x-python",
   "name": "python",
   "nbconvert_exporter": "python",
   "pygments_lexer": "ipython3",
   "version": "3.6.5"
  }
 },
 "nbformat": 4,
 "nbformat_minor": 2
}
