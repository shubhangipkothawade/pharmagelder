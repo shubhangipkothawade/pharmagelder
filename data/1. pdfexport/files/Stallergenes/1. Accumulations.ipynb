{
 "cells": [
  {
   "cell_type": "markdown",
   "metadata": {},
   "source": [
    "# Stallergene -  Accumulations - TOTALE STIMMEN NICHT\n",
    "## Beachten\n",
    "* Do it manually"
   ]
  },
  {
   "cell_type": "code",
   "execution_count": 1,
   "metadata": {},
   "outputs": [],
   "source": [
    "import sys\n",
    "sys.path.insert(0, '../../../lib/')\n",
    "\n",
    "import tabula\n",
    "import numpy as np\n",
    "import pandas as pd\n",
    "import importlib\n",
    "\n",
    "import pdfexport\n",
    "importlib.reload(pdfexport)\n",
    "\n",
    "from pdfexport import *"
   ]
  },
  {
   "cell_type": "markdown",
   "metadata": {},
   "source": [
    "## Format Table"
   ]
  },
  {
   "cell_type": "code",
   "execution_count": 15,
   "metadata": {},
   "outputs": [
    {
     "name": "stdout",
     "output_type": "stream",
     "text": [
      "Total nicht Summe der Werte\n",
      "saved\n"
     ]
    }
   ],
   "source": [
    "df_export = pd.DataFrame(columns=fix_columns_accumulations[:-1])\n",
    "\n",
    "#HCO\n",
    "df_export = add_accumulation(df_export, AccType.hcp_amount, registration_fees = 665, travel_accommodation = 1700, total = 1533)\n",
    "df_export = add_accumulation(df_export, AccType.hcp_count, registration_fees = 1, travel_accommodation= 1, total = 1)\n",
    "\n",
    "#HCP\n",
    "df_export = add_empty_accumulation(df_export, \"hco_amount\")\n",
    "df_export = add_empty_accumulation(df_export, \"hco_count\")\n",
    "\n",
    "#RnD\n",
    "df_export = add_empty_accumulation(df_export, \"rnd\")\n",
    "\n",
    "#Cleanup Numbers\n",
    "df_export = amounts_to_number(df_export)\n",
    "\n",
    "#Export\n",
    "export_acumulations(df_export, 'stallergene')"
   ]
  },
  {
   "cell_type": "code",
   "execution_count": null,
   "metadata": {},
   "outputs": [],
   "source": [
    "#write_to_csv(df_export, 'tmp.csv', True)\n",
    "#write_to_excel(df_export, 'tmp.xlsx', open=True)"
   ]
  }
 ],
 "metadata": {
  "kernelspec": {
   "display_name": "Python 3",
   "language": "python",
   "name": "python3"
  },
  "language_info": {
   "codemirror_mode": {
    "name": "ipython",
    "version": 3
   },
   "file_extension": ".py",
   "mimetype": "text/x-python",
   "name": "python",
   "nbconvert_exporter": "python",
   "pygments_lexer": "ipython3",
   "version": "3.6.5"
  }
 },
 "nbformat": 4,
 "nbformat_minor": 2
}
