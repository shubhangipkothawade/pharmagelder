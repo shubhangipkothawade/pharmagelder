{
 "cells": [
  {
   "cell_type": "markdown",
   "metadata": {},
   "source": [
    "# Amgen - List\n",
    "## Next Year\n",
    "* Typo in numbers. Replace space to dot. Still correct?"
   ]
  },
  {
   "cell_type": "code",
   "execution_count": 5,
   "metadata": {},
   "outputs": [],
   "source": [
    "import sys\n",
    "sys.path.insert(0, '../../../lib/')\n",
    "\n",
    "import tabula\n",
    "import numpy as np\n",
    "import pandas as pd\n",
    "import importlib\n",
    "\n",
    "import pdfexport\n",
    "importlib.reload(pdfexport)\n",
    "\n",
    "from pdfexport import *"
   ]
  },
  {
   "cell_type": "markdown",
   "metadata": {},
   "source": [
    "## Import PDF"
   ]
  },
  {
   "cell_type": "code",
   "execution_count": 6,
   "metadata": {},
   "outputs": [],
   "source": [
    "# Read pdf into DataFrame\n",
    "df = tabula.read_pdf(\"2019-transfer-of-value-report-switzerland-updated-25062020.pdf\", pages='all', lattice=True)"
   ]
  },
  {
   "cell_type": "markdown",
   "metadata": {},
   "source": [
    "## Format Table"
   ]
  },
  {
   "cell_type": "code",
   "execution_count": 7,
   "metadata": {},
   "outputs": [
    {
     "name": "stdout",
     "output_type": "stream",
     "text": [
      "saved\n"
     ]
    }
   ],
   "source": [
    "#Rename Columns\n",
    "df_export = df.copy()\n",
    "df_export.columns = ['name', 'location', 'country', 'address', 'uci', 'donations_grants', 'sponsorship', 'registration_fees','travel_accommodation', 'fees', 'related_expenses', 'total']\n",
    "\n",
    "#Remove rows which have no values\n",
    "df_export = df_export.dropna(subset=['donations_grants', 'sponsorship', 'registration_fees', 'travel_accommodation', 'fees', 'related_expenses', 'total'], how='all')\n",
    "df_export = df_export.dropna(subset=['name', 'location', 'country'], how='all')\n",
    "df_export = df_export.reset_index(drop=True)\n",
    "\n",
    "#Remove \\r\n",
    "df_export['name'] = df_export['name'].str.replace('\\r', ' ')\n",
    "df_export['location'] = df_export['location'].str.replace('\\r', ' ')\n",
    "df_export['address'] = df_export['address'].str.replace('\\r', '')\n",
    "\n",
    "#Replace different errors - Not needed in 2019, but in 2018\n",
    "#df_export['name'] = df_export['name'].str.replace(' ,', ',')\n",
    "#df_export['name'] = df_export['name'].str.replace('- ', '-')\n",
    "\n",
    "#Remove by string comparison\n",
    "df_export = df_export[~df_export['name'].str.contains('Aggregate amount')]\n",
    "df_export = df_export[~df_export['name'].str.contains('Number of Recipients')]\n",
    "df_export = df_export[~df_export['name'].str.contains('% of number')]\n",
    "\n",
    "#Convert to Numbers\n",
    "df_export = replace_apostrophe(df_export)\n",
    "df_export = replace_in_number(df_export, ' ', '.')\n",
    "df_export = amounts_to_number(df_export)\n",
    "\n",
    "#Set Type\n",
    "df_export = set_type_by_alphabetical_order(df_export)\n",
    "\n",
    "#Uppercase\n",
    "df_export['name'] = df_export['name'].str.title()\n",
    "df_export['location'] = df_export['location'].str.title()\n",
    "df_export['address'] = df_export['address'].str.title()\n",
    "\n",
    "#shift Surname/Lastname\n",
    "df_export = revert_name(df_export)\n",
    "\n",
    "#basic string conversion\n",
    "df_export = basic_string_conversion(df_export)\n",
    "\n",
    "#Add UCI\n",
    "df_export = add_plz(df_export)\n",
    "\n",
    "#Export\n",
    "export_list(df_export, 'amgen')"
   ]
  },
  {
   "cell_type": "code",
   "execution_count": 4,
   "metadata": {},
   "outputs": [],
   "source": [
    "#write_to_csv(df_export, 'amgen', True)\n",
    "#write_to_excel(df_export, 'tmp.xlsx', open=True)"
   ]
  }
 ],
 "metadata": {
  "kernelspec": {
   "display_name": "Python 3",
   "language": "python",
   "name": "python3"
  },
  "language_info": {
   "codemirror_mode": {
    "name": "ipython",
    "version": 3
   },
   "file_extension": ".py",
   "mimetype": "text/x-python",
   "name": "python",
   "nbconvert_exporter": "python",
   "pygments_lexer": "ipython3",
   "version": "3.6.5"
  }
 },
 "nbformat": 4,
 "nbformat_minor": 2
}
