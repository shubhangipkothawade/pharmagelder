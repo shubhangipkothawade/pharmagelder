{
 "cells": [
  {
   "cell_type": "markdown",
   "metadata": {},
   "source": [
    "# Neurim - List\n",
    "\n",
    "## Beachten im nächsten Jahr\n",
    "* Von Hand füllen"
   ]
  },
  {
   "cell_type": "code",
   "execution_count": 1,
   "metadata": {},
   "outputs": [],
   "source": [
    "import sys\n",
    "sys.path.insert(0, '../../../lib/')\n",
    "\n",
    "import tabula\n",
    "import numpy as np\n",
    "import pandas as pd\n",
    "import importlib\n",
    "\n",
    "import pdfexport\n",
    "importlib.reload(pdfexport)\n",
    "\n",
    "from pdfexport import *"
   ]
  },
  {
   "cell_type": "markdown",
   "metadata": {},
   "source": [
    "## Add rows manually!"
   ]
  },
  {
   "cell_type": "code",
   "execution_count": 2,
   "metadata": {},
   "outputs": [],
   "source": [
    "def add_rows_manually(df_export):\n",
    "\n",
    "    \n",
    "    df_export = df_export.append({'name': 'University Hospital Berne', \n",
    "                                 'location': 'Zürich',\n",
    "                                 'country': 'Switzerland',\n",
    "                                 'address': 'Frauenklinikstrasse 26',\n",
    "                                 'plz': '8091',\n",
    "                                 'sponsorship': 4000,\n",
    "                                 'type': 'hco'\n",
    "                                 }, ignore_index=True)\n",
    "    \n",
    "    df_export = df_export.append({'name': 'University Hospital', \n",
    "                                 'location': 'Bern',\n",
    "                                 'country': 'Switzerland',\n",
    "                                 'address': 'Freiburgstrasse 8',\n",
    "                                 'plz': '3010',\n",
    "                                 'sponsorship': 3000,\n",
    "                                 'type': 'hco'\n",
    "                                 }, ignore_index=True)\n",
    "    \n",
    "    df_export = df_export.append({'name': 'Schweizerischen Gesellschaft für Schlafforschung', \n",
    "                                 'location': '',\n",
    "                                 'country': 'Switzerland',\n",
    "                                 'address': '',\n",
    "                                 'plz': '',\n",
    "                                 'sponsorship': 4000,\n",
    "                                 'type': 'hco'\n",
    "                                 }, ignore_index=True)\n",
    "    \n",
    "    df_export = df_export.append({'name': 'Dr. med. Dagmar Schmid,', \n",
    "                                 'location': 'St. Gallen',\n",
    "                                 'country': 'Switzerland',\n",
    "                                 'address': 'Kantonsspital St. Gallen,',\n",
    "                                 'plz': '',\n",
    "                                 'fees': 900,\n",
    "                                 'type': 'hcp'\n",
    "                                 }, ignore_index=True)\n",
    "    \n",
    "    df_export = df_export.append({'name': 'Kantonsspital Olten', \n",
    "                                 'location': 'Olten',\n",
    "                                 'country': 'Switzerland',\n",
    "                                 'address': 'Baslerstrasse 150',\n",
    "                                 'plz': '4600',\n",
    "                                 'sponsorship': 800,\n",
    "                                 'type': 'hco'\n",
    "                                 }, ignore_index=True)\n",
    "\n",
    "    return df_export"
   ]
  },
  {
   "cell_type": "markdown",
   "metadata": {},
   "source": [
    "## Format Table"
   ]
  },
  {
   "cell_type": "code",
   "execution_count": 3,
   "metadata": {},
   "outputs": [
    {
     "name": "stdout",
     "output_type": "stream",
     "text": [
      "saved\n"
     ]
    }
   ],
   "source": [
    "#Create Dataset\n",
    "df_export = pd.DataFrame(columns=fix_columns)\n",
    "\n",
    "#Add Rows\n",
    "df_export = add_rows_manually(df_export)\n",
    "\n",
    "#Cleanup Numbers and sum\n",
    "df_export = amounts_to_number(df_export)\n",
    "df_export = sum_amounts(df_export)\n",
    "\n",
    "#basic string conversion\n",
    "df_export = basic_string_conversion(df_export)\n",
    "\n",
    "export_list(df_export, 'neurim')"
   ]
  },
  {
   "cell_type": "code",
   "execution_count": null,
   "metadata": {},
   "outputs": [],
   "source": [
    "#write_to_csv(df_export, 'tmp.csv', True)\n",
    "#write_to_excel(df_export, 'tmp.xlsx')"
   ]
  }
 ],
 "metadata": {
  "kernelspec": {
   "display_name": "Python 3",
   "language": "python",
   "name": "python3"
  },
  "language_info": {
   "codemirror_mode": {
    "name": "ipython",
    "version": 3
   },
   "file_extension": ".py",
   "mimetype": "text/x-python",
   "name": "python",
   "nbconvert_exporter": "python",
   "pygments_lexer": "ipython3",
   "version": "3.6.5"
  }
 },
 "nbformat": 4,
 "nbformat_minor": 2
}
