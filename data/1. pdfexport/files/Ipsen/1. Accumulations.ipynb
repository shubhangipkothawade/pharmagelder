{
 "cells": [
  {
   "cell_type": "markdown",
   "metadata": {},
   "source": [
    "# Ipsen - Accumulations\n",
    "## Beachten im nächsten Jahr\n",
    "* Keine Zahlen. Immer noch so?"
   ]
  },
  {
   "cell_type": "code",
   "execution_count": 1,
   "metadata": {},
   "outputs": [],
   "source": [
    "import sys\n",
    "sys.path.insert(0, '../../../lib/')\n",
    "\n",
    "import tabula\n",
    "import numpy as np\n",
    "import pandas as pd\n",
    "import importlib\n",
    "\n",
    "import pdfexport\n",
    "importlib.reload(pdfexport)\n",
    "\n",
    "from pdfexport import *"
   ]
  },
  {
   "cell_type": "markdown",
   "metadata": {},
   "source": [
    "## Format Table"
   ]
  },
  {
   "cell_type": "code",
   "execution_count": 3,
   "metadata": {},
   "outputs": [
    {
     "name": "stdout",
     "output_type": "stream",
     "text": [
      "Total hcp_amount nicht Summe der Werte\n",
      "saved\n"
     ]
    }
   ],
   "source": [
    "#Create Dataset\n",
    "df_export = pd.DataFrame(columns=fix_columns_accumulations)\n",
    "\n",
    "# HCP\n",
    "df_export = add_accumulation(df_export, AccType.hcp_amount,\n",
    "                             registration_fees = '48539.1',\n",
    "                             travel_accommodation = '50928.40',\n",
    "                             fees = '5913.00',\n",
    "                             related_expenses = '3063.55',\n",
    "                             total = '108444.10',\n",
    "                            )\n",
    "\n",
    "df_export = add_accumulation(df_export, AccType.hcp_count,\n",
    "                             registration_fees = '43',\n",
    "                             travel_accommodation = '44',\n",
    "                             fees = '5',\n",
    "                             related_expenses = '6',\n",
    "                             total = '56',\n",
    "                            )\n",
    "\n",
    "df_export = add_accumulation(df_export, AccType.hco_amount,\n",
    "                             donations_grants = '126614.00',\n",
    "                             sponsorship = '724357.00',\n",
    "                             registration_fees = '',\n",
    "                             travel_accommodation = '241.98',\n",
    "                             fees = '9145.00',\n",
    "                             related_expenses = '461.0',\n",
    "                             total = '860818.98',\n",
    "                            )\n",
    "\n",
    "df_export = add_accumulation(df_export, AccType.hco_count,\n",
    "                             donations_grants = '2',\n",
    "                             sponsorship = '24',\n",
    "                             registration_fees = '',\n",
    "                             travel_accommodation = '1',\n",
    "                             fees = '4',\n",
    "                             related_expenses = '1',\n",
    "                             total = '26',\n",
    "                            )\n",
    "\n",
    "#RND\n",
    "df_export = add_accumulation(df_export, AccType.rnd,\n",
    "                             total = '109211.39',\n",
    "                            )\n",
    "\n",
    "\n",
    "#Numberize and sum\n",
    "df_export = amounts_to_number(df_export)\n",
    "    \n",
    "export_acumulations(df_export, 'ipsen')"
   ]
  },
  {
   "cell_type": "code",
   "execution_count": null,
   "metadata": {},
   "outputs": [],
   "source": [
    "#write_to_csv(df_export, 'tmp.csv', True)\n",
    "#write_to_excel(df_export, 'tmp.xlsx')"
   ]
  }
 ],
 "metadata": {
  "kernelspec": {
   "display_name": "Python 3",
   "language": "python",
   "name": "python3"
  },
  "language_info": {
   "codemirror_mode": {
    "name": "ipython",
    "version": 3
   },
   "file_extension": ".py",
   "mimetype": "text/x-python",
   "name": "python",
   "nbconvert_exporter": "python",
   "pygments_lexer": "ipython3",
   "version": "3.6.5"
  }
 },
 "nbformat": 4,
 "nbformat_minor": 2
}
