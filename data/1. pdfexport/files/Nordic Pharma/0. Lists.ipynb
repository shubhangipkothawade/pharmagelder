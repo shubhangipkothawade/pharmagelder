{
 "cells": [
  {
   "cell_type": "markdown",
   "metadata": {},
   "source": [
    "# Nordic - List\n",
    "\n",
    "## Beachten im nächsten Jahr\n",
    "* Manuell übernehmen\n",
    "https://www.nordicpharma.ch/about-us/transparency/\n",
    "* Euro umgerechnet: 7.7.2020"
   ]
  },
  {
   "cell_type": "code",
   "execution_count": 1,
   "metadata": {},
   "outputs": [],
   "source": [
    "import sys\n",
    "sys.path.insert(0, '../../../lib/')\n",
    "\n",
    "import tabula\n",
    "import numpy as np\n",
    "import pandas as pd\n",
    "import importlib\n",
    "\n",
    "import pdfexport\n",
    "importlib.reload(pdfexport)\n",
    "\n",
    "from pdfexport import *"
   ]
  },
  {
   "cell_type": "markdown",
   "metadata": {},
   "source": [
    "## Format Table"
   ]
  },
  {
   "cell_type": "code",
   "execution_count": 2,
   "metadata": {},
   "outputs": [
    {
     "name": "stdout",
     "output_type": "stream",
     "text": [
      "saved\n"
     ]
    }
   ],
   "source": [
    "#Create Dataset\n",
    "df_export = pd.DataFrame(columns=fix_columns)\n",
    "\n",
    "df_export = df_export.append({'name': 'Kantonsspital Aarau', \n",
    "                             'location': 'Aarau',\n",
    "                             'country': 'Switzerland',\n",
    "                             'address': 'Tellstrasse 25',\n",
    "                             'plz': '5001',\n",
    "                             'fees': 2340,\n",
    "                             'type': 'hco',\n",
    "                              'total': 2340\n",
    "                             }, ignore_index=True)\n",
    "\n",
    "\n",
    "df_export = df_export.append({'name': 'Martin Siegemund', \n",
    "                             'location': 'Basel',\n",
    "                             'country': 'Switzerland',\n",
    "                             'address': 'Spitalstrasse 21',\n",
    "                             'plz': '4031',\n",
    "                             'fees': 638,\n",
    "                             'type': 'hcp',\n",
    "                             'total': 638\n",
    "                             }, ignore_index=True)\n",
    "\n",
    "#Numberize and sum\n",
    "df_export = amounts_to_number(df_export)\n",
    "\n",
    "export_list(df_export, 'nordic')"
   ]
  },
  {
   "cell_type": "code",
   "execution_count": null,
   "metadata": {},
   "outputs": [],
   "source": [
    "#write_to_csv(df_export, 'tmp.csv', True)\n",
    "#write_to_excel(df_export, 'tmp.xlsx')"
   ]
  }
 ],
 "metadata": {
  "kernelspec": {
   "display_name": "Python 3",
   "language": "python",
   "name": "python3"
  },
  "language_info": {
   "codemirror_mode": {
    "name": "ipython",
    "version": 3
   },
   "file_extension": ".py",
   "mimetype": "text/x-python",
   "name": "python",
   "nbconvert_exporter": "python",
   "pygments_lexer": "ipython3",
   "version": "3.6.5"
  }
 },
 "nbformat": 4,
 "nbformat_minor": 2
}
