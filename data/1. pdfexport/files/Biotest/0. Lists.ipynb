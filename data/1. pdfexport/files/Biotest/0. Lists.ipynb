{
 "cells": [
  {
   "cell_type": "markdown",
   "metadata": {},
   "source": [
    "# Biotest - List\n",
    "## Beachten\n",
    "* Für die OCR-Erkennung wurde ABBYY Fine Reader for Mac verwendet (Lizenz vorhanden)\n",
    "* Wichtig: Sprachen einstellen auf: Deutsch, Englisch, Italienisch, Französisch\n",
    "* Als CSV exportieren\n",
    "* HCP & HCO manuell setzen"
   ]
  },
  {
   "cell_type": "code",
   "execution_count": 52,
   "metadata": {},
   "outputs": [],
   "source": [
    "import sys\n",
    "sys.path.insert(0, '../../../lib/')\n",
    "\n",
    "import tabula\n",
    "import numpy as np\n",
    "import pandas as pd\n",
    "import importlib\n",
    "import re\n",
    "\n",
    "import pdfexport\n",
    "importlib.reload(pdfexport)\n",
    "\n",
    "from pdfexport import *\n",
    "import consts"
   ]
  },
  {
   "cell_type": "markdown",
   "metadata": {},
   "source": [
    "## Import CSV"
   ]
  },
  {
   "cell_type": "code",
   "execution_count": 53,
   "metadata": {},
   "outputs": [],
   "source": [
    "# Read CSV into DataFrame\n",
    "header = ['name', 'country', 'plz', 'location', 'address', 'donations_grants', 'sponsorship', 'registration_fees', 'travel_accommodation', 'fees', 'total']  \n",
    "df = pd.read_csv(\"efpia_2017-biotest-schweiz-ag_ch.csv\", sep=\";\", header=None, names=header)"
   ]
  },
  {
   "cell_type": "markdown",
   "metadata": {},
   "source": [
    "## Format Table"
   ]
  },
  {
   "cell_type": "code",
   "execution_count": 54,
   "metadata": {},
   "outputs": [
    {
     "name": "stdout",
     "output_type": "stream",
     "text": [
      "WARNING: Remember to set HCP, HCO and RnD manually!\n",
      "saved\n"
     ]
    }
   ],
   "source": [
    "df_export = df.copy()\n",
    "\n",
    "#Remove rows which have no values\n",
    "df_export = df_export.dropna(subset=['total'], how='all')\n",
    "df_export = df_export.dropna(subset=['name'], how='all')\n",
    "\n",
    "#Remove \"Gesamtbetrag\"\n",
    "df_export = df_export[~df_export['name'].str.contains('Gesamtbetrag', na=False)]\n",
    "\n",
    "#Set Type manually\n",
    "index_hco = df_export[df_export['name'].str.contains(\"ADVISIS AG\", na=False)].index[0]\n",
    "df_export['type'] = np.where(df_export.index < index_hco, 'hcp', 'hco')\n",
    "\n",
    "#Add \"related expenses\"\n",
    "df_export.insert(3, 'related_expenses', '')\n",
    "\n",
    "#Remove \"N.A\"\n",
    "df_export['address'] = df_export['address'].str.replace(\"N.A.\", '')\n",
    "\n",
    "#Clean Numbers\n",
    "df_export = cleanup_number(df_export)\n",
    "for column in number_fields:\n",
    "    df_export[column] = df_export[column].str.replace('O', '0')\n",
    "    df_export[column] = df_export[column].str.replace('l', '1')\n",
    "\n",
    "df_export = remove_in_numbers(df_export, '’')\n",
    "df_export = amounts_to_number(df_export)\n",
    "\n",
    "#Add UCI\n",
    "df_export = add_uci(df_export)\n",
    "\n",
    "#basic string conversion\n",
    "df_export = basic_string_conversion(df_export)\n",
    "\n",
    "#Export\n",
    "add_warning(manually=True)\n",
    "export_list(df_export, 'biotest')"
   ]
  },
  {
   "cell_type": "code",
   "execution_count": null,
   "metadata": {},
   "outputs": [],
   "source": [
    "#write_to_csv(df_export, 'tmp.csv', True)\n",
    "#write_to_excel(df_export, 'tmp.xlsx')"
   ]
  }
 ],
 "metadata": {
  "kernelspec": {
   "display_name": "Python 3",
   "language": "python",
   "name": "python3"
  },
  "language_info": {
   "codemirror_mode": {
    "name": "ipython",
    "version": 3
   },
   "file_extension": ".py",
   "mimetype": "text/x-python",
   "name": "python",
   "nbconvert_exporter": "python",
   "pygments_lexer": "ipython3",
   "version": "3.6.5"
  }
 },
 "nbformat": 4,
 "nbformat_minor": 2
}
