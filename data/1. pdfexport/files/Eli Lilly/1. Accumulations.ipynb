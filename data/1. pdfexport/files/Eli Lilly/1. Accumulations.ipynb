{
 "cells": [
  {
   "cell_type": "markdown",
   "metadata": {},
   "source": [
    "# Eli Lilly - Accumulations\n",
    "Before start, look at `1. List`"
   ]
  },
  {
   "cell_type": "code",
   "execution_count": 1,
   "metadata": {},
   "outputs": [],
   "source": [
    "import sys\n",
    "sys.path.insert(0, '../../../lib/')\n",
    "\n",
    "import tabula\n",
    "import numpy as np\n",
    "import pandas as pd\n",
    "import importlib\n",
    "\n",
    "import pdfexport\n",
    "importlib.reload(pdfexport)\n",
    "\n",
    "from pdfexport import *"
   ]
  },
  {
   "cell_type": "markdown",
   "metadata": {},
   "source": [
    "## Import PDF"
   ]
  },
  {
   "cell_type": "code",
   "execution_count": 3,
   "metadata": {},
   "outputs": [],
   "source": [
    "# Read pdf into DataFrame\n",
    "df_list = tabula.read_pdf(\"EFPIA_2017_Switzerland_edited.pdf\", pages='all', lattice=True, multiple_tables=True)\n",
    "df = pd.concat(df_list)"
   ]
  },
  {
   "cell_type": "markdown",
   "metadata": {},
   "source": [
    "## Format Table"
   ]
  },
  {
   "cell_type": "code",
   "execution_count": 20,
   "metadata": {},
   "outputs": [
    {
     "name": "stdout",
     "output_type": "stream",
     "text": [
      "Total nicht Summe der Werte\n",
      "saved\n"
     ]
    }
   ],
   "source": [
    "df_export = df.copy()\n",
    "\n",
    "#Shift\n",
    "column = df_export.columns[0]\n",
    "df_export[df_export[column].isna()] = df_export[df_export[column].isna()].shift(-1, axis='columns')\n",
    "\n",
    "#Drop Columns\n",
    "df_export = df_export.drop(df.columns[9:],axis=1)\n",
    "df_export = df_export.drop(df.columns[7],axis=1)\n",
    "\n",
    "#Rename\n",
    "df_export.columns = fix_columns_accumulations[0: 8]\n",
    "\n",
    "# Select\n",
    "amount = df_export[df_export.type.str.contains('Aggregate amount', na=False)]\n",
    "recipients = df_export[df_export.type.str.contains('Number of Recipients', na=False)]\n",
    "rnd = df_export[df_export.type.str.contains('Transfers of Value re', na=False)]\n",
    "\n",
    "df_export = pd.concat([amount, recipients, rnd])\n",
    "\n",
    "#Fill N/A\n",
    "df_export = df_export.replace('N/A', '')\n",
    "\n",
    "#Numberize\n",
    "df_export = cleanup_number(df_export)\n",
    "df_export = amounts_to_number(df_export)\n",
    "\n",
    "#Rename first column\n",
    "df_export = df_export.reset_index(drop=True)\n",
    "df_export.iloc[0,0] = \"hcp_amount\"\n",
    "df_export.iloc[1,0] = \"hco_amount\"\n",
    "df_export.iloc[2,0] = \"hcp_count\"\n",
    "df_export.iloc[3,0] = \"hco_count\"\n",
    "df_export.iloc[4,0] = \"rnd\"\n",
    "df_export.loc[df_export.type == 'rnd', \"total\"] = df_export.sponsorship\n",
    "df_export.loc[df_export.type == 'rnd', \"sponsorship\"] = np.NaN\n",
    "\n",
    "export_acumulations(df_export, 'eli')"
   ]
  },
  {
   "cell_type": "code",
   "execution_count": null,
   "metadata": {},
   "outputs": [],
   "source": [
    "#write_to_csv(df_export, 'tmp.csv')\n",
    "#write_to_excel(df_export, 'tmp.xlsx', open=True)"
   ]
  }
 ],
 "metadata": {
  "kernelspec": {
   "display_name": "Python 3",
   "language": "python",
   "name": "python3"
  },
  "language_info": {
   "codemirror_mode": {
    "name": "ipython",
    "version": 3
   },
   "file_extension": ".py",
   "mimetype": "text/x-python",
   "name": "python",
   "nbconvert_exporter": "python",
   "pygments_lexer": "ipython3",
   "version": "3.6.5"
  }
 },
 "nbformat": 4,
 "nbformat_minor": 2
}
