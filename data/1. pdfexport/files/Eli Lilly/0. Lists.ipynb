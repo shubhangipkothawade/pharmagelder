{
 "cells": [
  {
   "cell_type": "markdown",
   "metadata": {},
   "source": [
    "# Eli Lilly - List\n",
    "## Wichtig\n",
    "The following message was for 2017. Leave it here, never know, when it appears again.\n",
    "\n",
    "Oh my friend, I am sorry... this PDF is strange. Special Characters (äöu) will not be detected. Tried id on many different ways. Work around:\n",
    "* Open PDF in Adobe Pro\n",
    "* Go to `PDF bearbeiten` (edit PDF)\n",
    "* Select all\n",
    "* Change Font to `Helvetiva Neue Light``\n",
    "* Repeat for every page... :-("
   ]
  },
  {
   "cell_type": "code",
   "execution_count": 1,
   "metadata": {},
   "outputs": [],
   "source": [
    "import sys\n",
    "sys.path.insert(0, '../../../lib/')\n",
    "\n",
    "import tabula\n",
    "import numpy as np\n",
    "import pandas as pd\n",
    "import importlib\n",
    "import pikepdf\n",
    "\n",
    "import pdfexport\n",
    "importlib.reload(pdfexport)\n",
    "\n",
    "from pdfexport import *"
   ]
  },
  {
   "cell_type": "markdown",
   "metadata": {},
   "source": [
    "## Import PDF"
   ]
  },
  {
   "cell_type": "code",
   "execution_count": 2,
   "metadata": {},
   "outputs": [],
   "source": [
    "df_list = tabula.read_pdf(\"EFPIA_2018_Switzerland.pdf\", pages='all', lattice=True, multiple_tables=True)\n",
    "df = pd.concat(df_list)"
   ]
  },
  {
   "cell_type": "markdown",
   "metadata": {},
   "source": [
    "## Format PDF"
   ]
  },
  {
   "cell_type": "code",
   "execution_count": 7,
   "metadata": {},
   "outputs": [
    {
     "name": "stdout",
     "output_type": "stream",
     "text": [
      "saved\n"
     ]
    }
   ],
   "source": [
    "df_export = df.copy()\n",
    "#Rename Columns\n",
    "df_export.columns = ['name', 'location', 'country', 'address', 'uci', 'donations_grants', 'sponsorship', 'registration_fees','travel_accommodation', 'fees', 'related_expenses', 'empty1', 'total', 'empty2', 'empty3']\n",
    "\n",
    "#Shift rows\n",
    "df_export[df_export['name'].isna()] = df_export[df_export['name'].isna()].shift(-1, axis='columns')\n",
    "\n",
    "#Add Type\n",
    "df_export = df_export.reset_index(drop=True)\n",
    "index_hco = df_export[df_export['name'].str.contains(\"Aggregate amount attributable\", na=False)].index[0]\n",
    "df_export['type'] = np.where(df_export.index < index_hco, 'hcp', 'hco')\n",
    "\n",
    "#Remove rows which have no values\n",
    "df_export = df_export.dropna(subset=['total'], how='all')\n",
    "df_export = df_export.reset_index(drop=True)\n",
    "\n",
    "#Remove \\r\n",
    "f_export = remove_carination(df_export, \" \")\n",
    "\n",
    "#Remove Titles and Comma\n",
    "df_export['name'] = df_export.name.str.replace(regex_title, '', regex=True, case=False)\n",
    "df_export['name'] = df_export.name.str.strip()\n",
    "df_export['name'] = df_export.name.str.replace(r',$', '', regex=True, case=False)\n",
    "df_export['name'] = df_export['name'].str.replace(\", No Title\", \"\")\n",
    "df_export['name'] = df_export['name'].str.replace(\",  Arzt\", \"\")\n",
    "\n",
    "#Remove empty\n",
    "df_export.drop(columns=['empty1', 'empty2', 'empty3'], inplace=True)\n",
    "\n",
    "#Convert to Numbers\n",
    "df_export = df_export.replace('N/A', \"\")\n",
    "df_export = cleanup_number(df_export)\n",
    "df_export = amounts_to_number(df_export)\n",
    "\n",
    "#Add Fields\n",
    "df_export = add_plz(df_export)\n",
    "\n",
    "#basic string conversion\n",
    "df_export = basic_string_conversion(df_export)\n",
    "\n",
    "export_list(df_export, 'eli')"
   ]
  },
  {
   "cell_type": "code",
   "execution_count": null,
   "metadata": {},
   "outputs": [],
   "source": [
    "#write_to_csv(df_export, 'tmp.csv')\n",
    "#write_to_excel(df_export, 'tmp.xlsx', open=True)"
   ]
  }
 ],
 "metadata": {
  "kernelspec": {
   "display_name": "Python 3",
   "language": "python",
   "name": "python3"
  },
  "language_info": {
   "codemirror_mode": {
    "name": "ipython",
    "version": 3
   },
   "file_extension": ".py",
   "mimetype": "text/x-python",
   "name": "python",
   "nbconvert_exporter": "python",
   "pygments_lexer": "ipython3",
   "version": "3.6.5"
  }
 },
 "nbformat": 4,
 "nbformat_minor": 2
}
