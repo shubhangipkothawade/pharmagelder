{
 "cells": [
  {
   "cell_type": "markdown",
   "metadata": {},
   "source": [
    "# Allergan - List\n",
    "## Info\n",
    "* Summen teils weit auseinander (nicht Rundungsdifferenz). Bsp `Krieger-Gruebel`. Total: 2128. Summentotal: 2137"
   ]
  },
  {
   "cell_type": "code",
   "execution_count": 5,
   "metadata": {},
   "outputs": [],
   "source": [
    "import sys\n",
    "sys.path.insert(0, '../../../lib/')\n",
    "\n",
    "import tabula\n",
    "import numpy as np\n",
    "import pandas as pd\n",
    "import importlib\n",
    "\n",
    "import pdfexport\n",
    "importlib.reload(pdfexport)\n",
    "\n",
    "from pdfexport import *"
   ]
  },
  {
   "cell_type": "markdown",
   "metadata": {},
   "source": [
    "## Import PDF"
   ]
  },
  {
   "cell_type": "code",
   "execution_count": 6,
   "metadata": {},
   "outputs": [],
   "source": [
    "# Read pdf into DataFrame\n",
    "df = tabula.read_pdf(\"offenlegung-2017_ch_publikation-29-juni-2018.pdf\", pages='all', lattice=True)"
   ]
  },
  {
   "cell_type": "markdown",
   "metadata": {},
   "source": [
    "## Format Table"
   ]
  },
  {
   "cell_type": "code",
   "execution_count": 7,
   "metadata": {},
   "outputs": [
    {
     "name": "stdout",
     "output_type": "stream",
     "text": [
      "Total nicht Summe der Werte\n",
      "saved\n"
     ]
    }
   ],
   "source": [
    "df_export = df.copy()\n",
    "\n",
    "#Rename Columns\n",
    "df_export.columns = ['name', 'vorname', 'location', 'address', 'donations_grants', 'sponsorship', 'registration_fees','travel_accommodation', 'fees', 'related_expenses', 'total', 'empty']\n",
    "\n",
    "#Clear H\\rC\\rP\\rs\n",
    "df_export.loc[df_export.name == 'H\\rC\\rP\\rs', 'name'] = np.NaN\n",
    "df_export = df_export.replace(r\"\\bNa\\b\", np.NaN, regex=True)\n",
    "\n",
    "#Set empty to object. otherwise value gets lost after shifting\n",
    "df_export['empty'] = df_export['empty'].astype(object)\n",
    "\n",
    "#Shift all where 'name' is empty\n",
    "df_export[df_export['name'].isna()] = df_export[df_export['name'].isna()].shift(-1, axis='columns')\n",
    "\n",
    "#Remove column empty\n",
    "df_export = df_export.drop(columns='empty')\n",
    "\n",
    "#Remove empty\n",
    "df_export = df_export.dropna(subset=['related_expenses', 'total'], how='all')\n",
    "df_export = df_export.dropna(subset=['name'], how='all')\n",
    "\n",
    "#Convert to Numbers\n",
    "df_export = amounts_to_number(df_export)\n",
    "\n",
    "#Set Type: Where total is 0 = hco\n",
    "df_export['type'] = df_export['total'].apply(lambda x: 'hcp' if x > 0 else 'hco')\n",
    "\n",
    "#Move HCO-Values to the right. But first add column\n",
    "hco = df_export[df_export.type=='hco']\n",
    "hco.insert(1, 'vorname_', np.nan)\n",
    "hco.columns = ['name', 'vorname', 'location', 'address', 'donations_grants', 'sponsorship', 'registration_fees','travel_accommodation', 'fees', 'related_expenses', 'total', 'empty', 'type']\n",
    "hco = hco.drop(columns='empty')\n",
    "\n",
    "#Combine Name\n",
    "df_export['name'] = df_export['vorname'] + ' ' + df_export['name']\n",
    "\n",
    "#Concat hco & hcp\n",
    "df_export = pd.concat([df_export[df_export.type=='hcp'], hco])\n",
    "\n",
    "#Remove Carination\n",
    "df_export = remove_carination(df_export, \" \")\n",
    "\n",
    "#Drop vorname\n",
    "df_export = df_export.drop(columns='vorname')\n",
    "\n",
    "#Add fields\n",
    "df_export = add_uci(df_export)\n",
    "df_export = add_plz(df_export)\n",
    "df_export = add_country(df_export)\n",
    "\n",
    "#basic string conversion\n",
    "df_export = basic_string_conversion(df_export)\n",
    "\n",
    "#Convert to Numbers\n",
    "df_export = amounts_to_number(df_export)\n",
    "\n",
    "#Export\n",
    "export_list(df_export, 'allergan')"
   ]
  },
  {
   "cell_type": "code",
   "execution_count": null,
   "metadata": {},
   "outputs": [],
   "source": [
    "#write_to_csv(df_export, 'amgen', True)\n",
    "#write_to_excel(df_export, 'amgen')"
   ]
  }
 ],
 "metadata": {
  "kernelspec": {
   "display_name": "Python 3",
   "language": "python",
   "name": "python3"
  },
  "language_info": {
   "codemirror_mode": {
    "name": "ipython",
    "version": 3
   },
   "file_extension": ".py",
   "mimetype": "text/x-python",
   "name": "python",
   "nbconvert_exporter": "python",
   "pygments_lexer": "ipython3",
   "version": "3.6.5"
  }
 },
 "nbformat": 4,
 "nbformat_minor": 2
}
