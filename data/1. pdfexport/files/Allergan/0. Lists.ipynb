{
 "cells": [
  {
   "cell_type": "markdown",
   "metadata": {},
   "source": [
    "# Allergan - List\n",
    "## Next Year\n",
    "* Sieht jedes Jahr anders aus. Alte Scripts prüfen"
   ]
  },
  {
   "cell_type": "code",
   "execution_count": 82,
   "metadata": {},
   "outputs": [],
   "source": [
    "import sys\n",
    "sys.path.insert(0, '../../../lib/')\n",
    "\n",
    "import tabula\n",
    "import numpy as np\n",
    "import pandas as pd\n",
    "import importlib\n",
    "\n",
    "import pdfexport\n",
    "importlib.reload(pdfexport)\n",
    "\n",
    "from pdfexport import *\n",
    "import re"
   ]
  },
  {
   "cell_type": "markdown",
   "metadata": {},
   "source": [
    "## Import PDF"
   ]
  },
  {
   "cell_type": "code",
   "execution_count": 83,
   "metadata": {},
   "outputs": [],
   "source": [
    "# Read pdf into DataFrame\n",
    "columns= [132, 244, 408, 458, 519, 567, 624, 675, 757]\n",
    "df = tabula.read_pdf(\"pkk_2019_datenerfassung_schweiz.pdf\", pages='all', lattice=False, columns=columns, guess=False)"
   ]
  },
  {
   "cell_type": "markdown",
   "metadata": {},
   "source": [
    "## Format Table"
   ]
  },
  {
   "cell_type": "code",
   "execution_count": 84,
   "metadata": {},
   "outputs": [
    {
     "name": "stdout",
     "output_type": "stream",
     "text": [
      "saved\n"
     ]
    }
   ],
   "source": [
    "df_export = df.copy()\n",
    "\n",
    "#Rename Columns\n",
    "df_export.columns = ['name', 'empty1', 'address', 'donations_grants', 'sponsorship', 'registration_fees','travel_accommodation', 'fees', 'related_expenses', 'total']\n",
    "\n",
    "#Add Type\n",
    "index_hco = df_export[df_export['name'].str.contains(\"AGGREGIERTE OFFENLEGUNG\", na=False)].index[0]\n",
    "df_export['type'] = np.where(df_export.index < index_hco, 'hcp', 'hco')\n",
    "\n",
    "#Remove column empty\n",
    "df_export = df_export.drop(columns=['empty1'])\n",
    "\n",
    "#Replace\"nicht anwendbar\"\n",
    "df_export['donations_grants'] = df_export['donations_grants'].str.replace('nicht anwendbar', '', regex=False)\n",
    "df_export['sponsorship'] = df_export['sponsorship'].str.replace('nicht anwendbar', '', regex=False)\n",
    "\n",
    "#Remove empty\n",
    "df_export = df_export.dropna(subset=['address'], how='all')\n",
    "df_export = df_export.dropna(subset=['total'], how='all')\n",
    "df_export = df_export.dropna(subset=['name'], how='all')\n",
    "\n",
    "#Remove by String Comparision\n",
    "df_export = df_export[~df_export.name.str.contains('Prozentualer Anteil', na=False)]\n",
    "\n",
    "#Remove -\n",
    "df_export = remove_in_numbers(df_export, '-')\n",
    "\n",
    "#Clean Number\n",
    "df_export = cleanup_number(df_export)\n",
    "\n",
    "#Convert to Numbers\n",
    "df_export = amounts_to_number(df_export)\n",
    "\n",
    "#Remove Carination\n",
    "df_export = remove_carination(df_export)\n",
    "\n",
    "#Add fields\n",
    "df_export = add_plz(df_export)\n",
    "df_export = add_country(df_export)\n",
    "df_export = add_uci(df_export)\n",
    "\n",
    "def copy_plz(value):\n",
    "    #Only check Strings\n",
    "    if isinstance(value, float):\n",
    "        return np.NaN\n",
    "    \n",
    "    r = re.search('\\s?[\\d]{4}\\s?', value)\n",
    "    if r:\n",
    "        return r.group(0).strip()\n",
    "    else:\n",
    "        return np.NaN\n",
    "\n",
    "#Copy plz in location\n",
    "df_export['location'] = df_export['address'].apply(lambda x: x.split(',')[len(x.split(',')) - 1])\n",
    "df_export['address'] = df_export.apply(lambda row: row['address'].replace(',' + row['location'], ''), axis=1)\n",
    "    \n",
    "#Copy into PLZ\n",
    "df_export.loc[df_export.plz.isna(), 'plz'] = df_export.loc[df_export.plz.isna(), 'location'].apply(copy_plz)\n",
    "\n",
    "#Clean\n",
    "df_export.loc[df_export.plz.notna(), 'location'] = df_export['location'].str.replace('\\s?[\\d]{4}\\s?', '', regex=True)\n",
    "\n",
    "#Strip\n",
    "df_export['location'] = df_export['location'].str.strip()\n",
    "df_export['address'] = df_export['address'].str.strip()\n",
    "\n",
    "#basic string conversion\n",
    "df_export = basic_string_conversion(df_export)\n",
    "\n",
    "#Export\n",
    "export_list(df_export, 'allergan')\n",
    "\n",
    "#df_export.head()\n",
    "write_to_excel(df_export, 'tmp.xlsx', open=True)"
   ]
  },
  {
   "cell_type": "code",
   "execution_count": null,
   "metadata": {},
   "outputs": [],
   "source": [
    "#write_to_excel(df_export, 'tmp.xlsx', open=True)"
   ]
  }
 ],
 "metadata": {
  "kernelspec": {
   "display_name": "Python 3",
   "language": "python",
   "name": "python3"
  },
  "language_info": {
   "codemirror_mode": {
    "name": "ipython",
    "version": 3
   },
   "file_extension": ".py",
   "mimetype": "text/x-python",
   "name": "python",
   "nbconvert_exporter": "python",
   "pygments_lexer": "ipython3",
   "version": "3.6.5"
  }
 },
 "nbformat": 4,
 "nbformat_minor": 2
}
