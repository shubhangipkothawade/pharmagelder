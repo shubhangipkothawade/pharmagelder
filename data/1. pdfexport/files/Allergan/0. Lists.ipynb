{
 "cells": [
  {
   "cell_type": "markdown",
   "metadata": {},
   "source": [
    "# Allergan - List\n",
    "## Info\n",
    "* Bei manchen Adressen wird location nicht korrekt exportiert. Manuell erfassen!"
   ]
  },
  {
   "cell_type": "code",
   "execution_count": 1,
   "metadata": {},
   "outputs": [],
   "source": [
    "import sys\n",
    "sys.path.insert(0, '../../../lib/')\n",
    "\n",
    "import tabula\n",
    "import numpy as np\n",
    "import pandas as pd\n",
    "import importlib\n",
    "\n",
    "import pdfexport\n",
    "importlib.reload(pdfexport)\n",
    "\n",
    "from pdfexport import *"
   ]
  },
  {
   "cell_type": "markdown",
   "metadata": {},
   "source": [
    "## Import PDF"
   ]
  },
  {
   "cell_type": "code",
   "execution_count": 2,
   "metadata": {},
   "outputs": [
    {
     "name": "stderr",
     "output_type": "stream",
     "text": [
      "Got stderr: Jul 01, 2020 9:29:23 PM org.apache.pdfbox.pdmodel.font.FileSystemFontProvider loadDiskCache\r\n",
      "WARNUNG: New fonts found, font cache will be re-built\r\n",
      "Jul 01, 2020 9:29:23 PM org.apache.pdfbox.pdmodel.font.FileSystemFontProvider <init>\r\n",
      "WARNUNG: Building on-disk font cache, this may take a while\r\n",
      "Jul 01, 2020 9:29:25 PM org.apache.pdfbox.pdmodel.font.FileSystemFontProvider <init>\r\n",
      "WARNUNG: Finished building on-disk font cache, found 657 fonts\r\n",
      "\n"
     ]
    }
   ],
   "source": [
    "# Read pdf into DataFrame\n",
    "df = tabula.read_pdf(\"bericht-2018.pdf\", pages='all', lattice=True)"
   ]
  },
  {
   "cell_type": "markdown",
   "metadata": {},
   "source": [
    "## Format Table"
   ]
  },
  {
   "cell_type": "code",
   "execution_count": 3,
   "metadata": {
    "scrolled": false
   },
   "outputs": [
    {
     "ename": "AttributeError",
     "evalue": "'list' object has no attribute 'columns'",
     "output_type": "error",
     "traceback": [
      "\u001b[1;31m---------------------------------------------------------------------------\u001b[0m",
      "\u001b[1;31mAttributeError\u001b[0m                            Traceback (most recent call last)",
      "\u001b[1;32m<ipython-input-3-2b6d1c8a6281>\u001b[0m in \u001b[0;36m<module>\u001b[1;34m\u001b[0m\n\u001b[0;32m      2\u001b[0m \u001b[1;33m\u001b[0m\u001b[0m\n\u001b[0;32m      3\u001b[0m \u001b[1;31m#Rename Columns\u001b[0m\u001b[1;33m\u001b[0m\u001b[1;33m\u001b[0m\u001b[0m\n\u001b[1;32m----> 4\u001b[1;33m \u001b[0mdf_export\u001b[0m\u001b[1;33m.\u001b[0m\u001b[0mcolumns\u001b[0m \u001b[1;33m=\u001b[0m \u001b[1;33m[\u001b[0m\u001b[1;34m'name'\u001b[0m\u001b[1;33m,\u001b[0m \u001b[1;34m'location'\u001b[0m\u001b[1;33m,\u001b[0m \u001b[1;34m'country'\u001b[0m\u001b[1;33m,\u001b[0m \u001b[1;34m'address'\u001b[0m\u001b[1;33m,\u001b[0m \u001b[1;34m'uci'\u001b[0m\u001b[1;33m,\u001b[0m \u001b[1;34m'donations_grants'\u001b[0m\u001b[1;33m,\u001b[0m \u001b[1;34m'sponsorship'\u001b[0m\u001b[1;33m,\u001b[0m \u001b[1;34m'registration_fees'\u001b[0m\u001b[1;33m,\u001b[0m\u001b[1;34m'travel_accommodation'\u001b[0m\u001b[1;33m,\u001b[0m \u001b[1;34m'fees'\u001b[0m\u001b[1;33m,\u001b[0m \u001b[1;34m'related_expenses'\u001b[0m\u001b[1;33m,\u001b[0m \u001b[1;34m'total'\u001b[0m\u001b[1;33m,\u001b[0m \u001b[1;34m'empty'\u001b[0m\u001b[1;33m]\u001b[0m\u001b[1;33m\u001b[0m\u001b[0m\n\u001b[0m\u001b[0;32m      5\u001b[0m \u001b[1;33m\u001b[0m\u001b[0m\n\u001b[0;32m      6\u001b[0m \u001b[1;31m#Copy empty in total, if not empty\u001b[0m\u001b[1;33m\u001b[0m\u001b[1;33m\u001b[0m\u001b[0m\n",
      "\u001b[1;31mAttributeError\u001b[0m: 'list' object has no attribute 'columns'"
     ]
    }
   ],
   "source": [
    "df_export = df.copy()\n",
    "\n",
    "#Rename Columns\n",
    "df_export.columns = ['name', 'location', 'country', 'address', 'uci', 'donations_grants', 'sponsorship', 'registration_fees','travel_accommodation', 'fees', 'related_expenses', 'total', 'empty']\n",
    "\n",
    "#Copy empty in total, if not empty\n",
    "df_export.loc[df_export['empty'].notna(), 'total'] = df_export['empty']\n",
    "\n",
    "#Add Type\n",
    "index_hco = df_export[df_export['name'].str.contains(\" one line per HCO\", na=False)].index[0]\n",
    "df_export['type'] = np.where(df_export.index < index_hco, 'hcp', 'hco')\n",
    "\n",
    "#Remove column empty\n",
    "df_export = df_export.drop(columns=['empty'])\n",
    "\n",
    "#Remplace N(/A\n",
    "df_export['donations_grants'] = df_export['donations_grants'].str.replace('N(/A', '', regex=False)\n",
    "\n",
    "#Remove empty\n",
    "df_export = df_export.dropna(subset=['total'], how='all')\n",
    "\n",
    "#Convert to Numbers\n",
    "df_export = amounts_to_number(df_export)\n",
    "\n",
    "\n",
    "#Remove Carination\n",
    "df_export = remove_carination(df_export)\n",
    "\n",
    "#Add fields\n",
    "df_export = add_plz(df_export)\n",
    "\n",
    "#basic string conversion\n",
    "df_export = basic_string_conversion(df_export)\n",
    "\n",
    "#Export\n",
    "export_list(df_export, 'allergan')"
   ]
  },
  {
   "cell_type": "code",
   "execution_count": null,
   "metadata": {},
   "outputs": [],
   "source": [
    "#write_to_excel(df_export, 'tmp.xlsx', open=True)"
   ]
  }
 ],
 "metadata": {
  "kernelspec": {
   "display_name": "Python 3",
   "language": "python",
   "name": "python3"
  },
  "language_info": {
   "codemirror_mode": {
    "name": "ipython",
    "version": 3
   },
   "file_extension": ".py",
   "mimetype": "text/x-python",
   "name": "python",
   "nbconvert_exporter": "python",
   "pygments_lexer": "ipython3",
   "version": "3.6.5"
  }
 },
 "nbformat": 4,
 "nbformat_minor": 2
}
