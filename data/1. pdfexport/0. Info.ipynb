{
 "cells": [
  {
   "cell_type": "markdown",
   "metadata": {},
   "source": [
    "# Overview\n",
    "## ToDo\n",
    "* [Böhringer - List](http://localhost:8888/notebooks/data/1.%20pdfexport/files/Boehringer%20Ingelheim/0.%20Lists.ipynb) Umbrüche in Namen. Wie umgehen?\n",
    "* [Böhringer - Accumulations](http://localhost:8888/notebooks/data/1.%20pdfexport/files/Boehringer%20Ingelheim/1.%20Accumulations.ipynb) - R&D hat zwei Werte. Bedeutung?\n",
    "\n",
    "## Info\n",
    "* [AstraZeneca - Lists](http://localhost:8888/notebooks/data/1.%20pdfexport/files/AstraZeneca/0.%20Lists.ipynb) - Summen falsch angeliefert\n",
    "* [Bayer - List](http://localhost:8888/notebooks/data/1.%20pdfexport/files/Bayer/0.%20Lists.ipynb) - Werte in Klammern subtrahieren"
   ]
  },
  {
   "cell_type": "code",
   "execution_count": null,
   "metadata": {},
   "outputs": [],
   "source": []
  }
 ],
 "metadata": {
  "kernelspec": {
   "display_name": "Python 3",
   "language": "python",
   "name": "python3"
  },
  "language_info": {
   "codemirror_mode": {
    "name": "ipython",
    "version": 3
   },
   "file_extension": ".py",
   "mimetype": "text/x-python",
   "name": "python",
   "nbconvert_exporter": "python",
   "pygments_lexer": "ipython3",
   "version": "3.6.5"
  }
 },
 "nbformat": 4,
 "nbformat_minor": 2
}
