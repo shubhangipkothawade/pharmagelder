{
 "cells": [
  {
   "cell_type": "code",
   "execution_count": 9,
   "metadata": {
    "collapsed": false
   },
   "outputs": [
    {
     "name": "stdout",
     "output_type": "stream",
     "text": [
      "Saved stream for astrazeneca\n",
      "Saved stream for almirall\n",
      "Saved stream for galderma\n",
      "Saved stream for gsk\n",
      "Saved stream for takeda\n",
      "Saved stream for bayer\n",
      "Saved stream for elililly\n",
      "Saved stream for servier\n",
      "Saved stream for mylan\n",
      "Saved stream for gilead\n",
      "Saved stream for vifor\n",
      "Saved stream for roche\n",
      "Saved stream for pfizer\n",
      "Saved stream for pierrefabre\n",
      "Saved stream for amgen\n",
      "Saved stream for leo\n",
      "Saved stream for shire\n",
      "Saved stream for boehringer\n",
      "Saved stream for baxter\n",
      "Saved stream for abbvie\n",
      "Saved stream for astellas\n",
      "Saved stream for allergan\n",
      "Saved stream for orion\n",
      "Saved stream for stallergenes\n",
      "Saved stream for baxalta\n",
      "Saved stream for ipsen\n",
      "Saved stream for bristol\n",
      "Saved stream for neurim\n",
      "Saved stream for ucb\n",
      "Saved stream for merck\n",
      "Saved stream for gruenenthal\n",
      "Saved stream for mepha\n",
      "Saved stream for novonordisk\n",
      "Saved stream for lundbeck\n",
      "Saved stream for zambon\n",
      "Saved stream for ferring\n",
      "Saved stream for actelion\n",
      "Saved stream for teva\n",
      "Saved stream for biogen\n",
      "Saved stream for eisai\n",
      "Saved stream for sandoz\n",
      "Saved stream for mundipharma\n",
      "Saved stream for amenarini\n",
      "Saved stream for janssen\n",
      "Saved stream for hra\n",
      "Saved stream for daiichi\n",
      "Saved stream for novartis\n",
      "Saved stream for sanofi\n",
      "Saved stream for biotest\n",
      "Saved stream for cslbehring\n",
      "Saved stream for celgene\n",
      "Saved stream for otsuka\n",
      "Saved stream for msd\n"
     ]
    }
   ],
   "source": [
    "from tabulator import Stream\n",
    "from glob import glob\n",
    "    \n",
    "header = None\n",
    "filename = \"data/ch_all.csv\"\n",
    "aggregates = {}\n",
    "with Stream(filename, headers=1, encoding=\"utf-8\") as stream:\n",
    "    if header is None:\n",
    "        header = stream.headers\n",
    "    for row in stream:\n",
    "        if row is not None:\n",
    "            slug = row[0]\n",
    "            if not slug in aggregates:\n",
    "                aggregates[slug] = [ header ]\n",
    "            aggregates[slug].append(row)\n",
    "\n",
    "for slug in aggregates.keys():\n",
    "    with Stream(aggregates[slug]) as stream:\n",
    "        stream.save(\"data/ch/%s.csv\" % slug)\n",
    "        print (\"Saved stream for %s\" % slug)"
   ]
  }
 ],
 "metadata": {
  "kernelspec": {
   "display_name": "Python 3",
   "language": "python",
   "name": "python3"
  },
  "language_info": {
   "codemirror_mode": {
    "name": "ipython",
    "version": 3
   },
   "file_extension": ".py",
   "mimetype": "text/x-python",
   "name": "python",
   "nbconvert_exporter": "python",
   "pygments_lexer": "ipython3",
   "version": "3.4.5"
  }
 },
 "nbformat": 4,
 "nbformat_minor": 2
}
