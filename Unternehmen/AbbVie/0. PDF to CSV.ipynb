{
 "cells": [
  {
   "cell_type": "markdown",
   "metadata": {},
   "source": [
    "# AbbVie\n"
   ]
  },
  {
   "cell_type": "code",
   "execution_count": 4,
   "metadata": {},
   "outputs": [],
   "source": [
    "import sys\n",
    "sys.path.insert(0, '../../python/')\n",
    "\n",
    "import tabula\n",
    "import numpy as np\n",
    "import pandas as pd\n",
    "import importlib\n",
    "\n",
    "import helpers\n",
    "importlib.reload(helpers)\n",
    "\n",
    "from helpers import *"
   ]
  },
  {
   "cell_type": "markdown",
   "metadata": {},
   "source": [
    "## Import PDF"
   ]
  },
  {
   "cell_type": "code",
   "execution_count": 2,
   "metadata": {},
   "outputs": [],
   "source": [
    "# Read pdf into DataFrame\n",
    "df = tabula.read_pdf(\"AbbVie_2017_Switzerland_EFPIA_Report_Final.pdf\", pages='all', lattice=True)"
   ]
  },
  {
   "cell_type": "markdown",
   "metadata": {},
   "source": [
    "## Format Table"
   ]
  },
  {
   "cell_type": "code",
   "execution_count": 6,
   "metadata": {},
   "outputs": [
    {
     "name": "stdout",
     "output_type": "stream",
     "text": [
      "saved\n"
     ]
    }
   ],
   "source": [
    "#Rename Columns\n",
    "df.columns = ['name', 'location', 'country', 'address', 'uci', 'donations_grants', 'sponsorship', 'registration_fees','travel_accommodation', 'fees', 'related_expenses', 'empty1', 'total', 'empty2']\n",
    "df_export = df.copy()\n",
    "\n",
    "#Remove rows which have no values\n",
    "df_export = df_export.dropna(subset=['donations_grants', 'sponsorship', 'registration_fees', 'travel_accommodation', 'fees', 'related_expenses', 'total'], how='all')\n",
    "df_export = df_export.dropna(subset=['name', 'location', 'country'], how='all')\n",
    "\n",
    "#Reset Index\n",
    "df_export = df_export.reset_index(drop=True)\n",
    "\n",
    "#Shift all where 'name' is empty\n",
    "df_export[df_export['name'].isna()] = df_export[df_export['name'].isna()].shift(-1, axis='columns')\n",
    "\n",
    "#Remove by string comparison\n",
    "df_export = df_export[~df_export['name'].str.contains('Full name')]\n",
    "df_export = df_export[~df_export['name'].str.contains('Aggregate amount')]\n",
    "df_export = df_export[~df_export['name'].str.contains('Number of ')]\n",
    "df_export = df_export[~df_export['name'].str.contains('% of the number of')]\n",
    "\n",
    "#Remove \\n\n",
    "df_export['name'] = df_export['name'].str.replace('\\\\r', '')\n",
    "\n",
    "#Add type\n",
    "df_export = set_type_by_alphabetical_order(df_export)\n",
    "\n",
    "#Change Dataypes and sum\n",
    "df_export = amounts_to_number(df_export)\n",
    "df_export = sum_amounts(df_export)\n",
    "\n",
    "#Turn Surname/Lastname\n",
    "df_export[\"name\"] = revert_name(df_export[\"name\"])\n",
    "\n",
    "#Drop empties\n",
    "df_export = df_export.drop(['empty1', 'empty2'], axis='columns')\n",
    "\n",
    "#basic string conversion\n",
    "df_export = basic_string_conversion(df_export)\n",
    "\n",
    "write_to_excel(df_export, 'export.xlsx')\n"
   ]
  },
  {
   "cell_type": "code",
   "execution_count": 7,
   "metadata": {},
   "outputs": [],
   "source": [
    "#df_export.to_csv(\"export.csv\", sep=\";\")"
   ]
  }
 ],
 "metadata": {
  "kernelspec": {
   "display_name": "Python 3",
   "language": "python",
   "name": "python3"
  },
  "language_info": {
   "codemirror_mode": {
    "name": "ipython",
    "version": 3
   },
   "file_extension": ".py",
   "mimetype": "text/x-python",
   "name": "python",
   "nbconvert_exporter": "python",
   "pygments_lexer": "ipython3",
   "version": "3.6.5"
  }
 },
 "nbformat": 4,
 "nbformat_minor": 2
}
