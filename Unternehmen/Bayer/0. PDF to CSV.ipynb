{
 "cells": [
  {
   "cell_type": "markdown",
   "metadata": {},
   "source": [
    "# Bayer -- HAS TODO\n",
    "\n",
    "Hat Werte wie \"(150.00)\". Was damit machen?\n"
   ]
  },
  {
   "cell_type": "code",
   "execution_count": 56,
   "metadata": {},
   "outputs": [],
   "source": [
    "import sys\n",
    "sys.path.insert(0, '../../python/')\n",
    "\n",
    "import tabula\n",
    "import numpy as np\n",
    "import pandas as pd\n",
    "import importlib\n",
    "\n",
    "import helpers\n",
    "importlib.reload(helpers)\n",
    "\n",
    "from helpers import *\n"
   ]
  },
  {
   "cell_type": "markdown",
   "metadata": {},
   "source": [
    "## Import PDF"
   ]
  },
  {
   "cell_type": "code",
   "execution_count": 4,
   "metadata": {},
   "outputs": [],
   "source": [
    "# Read pdf into DataFrame\n",
    "df = tabula.read_pdf(\"Bayer_Transparency_Report_CH_2017_de.pdf\", pages='all', lattice=False)"
   ]
  },
  {
   "cell_type": "markdown",
   "metadata": {},
   "source": [
    "## Format Table"
   ]
  },
  {
   "cell_type": "code",
   "execution_count": 59,
   "metadata": {},
   "outputs": [
    {
     "name": "stdout",
     "output_type": "stream",
     "text": [
      "donations_grants not a number\n",
      "sponsorship not a number\n",
      "registration_fees not a number\n",
      "travel_accommodation not a number\n",
      "fees not a number\n",
      "related_expenses not a number\n",
      "total not a number\n",
      "saved\n"
     ]
    }
   ],
   "source": [
    "#Rename Columns\n",
    "df_export = df.copy()\n",
    "df_export.columns = ['name', 'uci', 'address', 'location', 'plz', 'donations_grants', 'sponsorship', 'registration_fees','travel_accommodation', 'fees', 'related_expenses', 'total', 'empty1']\n",
    "\n",
    "#Remove empty1\n",
    "df_export.drop(columns='empty1', inplace=True)\n",
    "\n",
    "#Remove rows which have no total\n",
    "df_export = df_export.dropna(subset=['related_expenses', 'total'], how='all')\n",
    "df_export = df_export.reset_index(drop=True)\n",
    "\n",
    "#Convert to Numbers\n",
    "df_export = remove_dots(df_export)\n",
    "df_export = replace_comma_to_dot(df_export)\n",
    "#df_export = amounts_to_number(df_export)\n",
    "\n",
    "#Set Type\n",
    "df_export = set_type_by_alphabetical_order(df_export, hcp_before_hco = False)\n",
    "\n",
    "#Add Country\n",
    "df_export.insert(2, 'country', 'CH')\n",
    "\n",
    "#Drop PLZ\n",
    "df_export.drop(columns='plz', inplace=True)\n",
    "\n",
    "\n",
    "#Reorder Dataset\n",
    "df_export = df_export[['name', 'location', 'country', 'address', 'uci', 'donations_grants', 'sponsorship', 'registration_fees', 'travel_accommodation', 'fees', 'related_expenses', 'total', 'type']]\n",
    "\n",
    "#basic string conversion\n",
    "df_export = basic_string_conversion(df_export)\n",
    "\n",
    "#Export\n",
    "write_to_excel(df_export, 'export.xlsx')"
   ]
  },
  {
   "cell_type": "code",
   "execution_count": 60,
   "metadata": {},
   "outputs": [],
   "source": [
    "#df_export.to_csv(\"export.csv\", sep=\";\")"
   ]
  }
 ],
 "metadata": {
  "kernelspec": {
   "display_name": "Python 3",
   "language": "python",
   "name": "python3"
  },
  "language_info": {
   "codemirror_mode": {
    "name": "ipython",
    "version": 3
   },
   "file_extension": ".py",
   "mimetype": "text/x-python",
   "name": "python",
   "nbconvert_exporter": "python",
   "pygments_lexer": "ipython3",
   "version": "3.6.5"
  }
 },
 "nbformat": 4,
 "nbformat_minor": 2
}
