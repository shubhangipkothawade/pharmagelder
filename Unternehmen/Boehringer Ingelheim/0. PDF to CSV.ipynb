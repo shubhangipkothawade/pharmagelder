{
 "cells": [
  {
   "cell_type": "markdown",
   "metadata": {},
   "source": [
    "# Böhringer -- HAS TODO\n",
    "\n",
    "* PLZ in Adresse. Drinlassen?\n",
    "* hcp haben Umbruch. Wie damit umgehen?\n",
    "\n",
    "## Beachten 2019\n",
    "Namesortierung ist leider unbrauchbar, um automatisch hco/hcp zu erkennen. Daher manuelle Auswahl. **Anpassen!**"
   ]
  },
  {
   "cell_type": "code",
   "execution_count": 5,
   "metadata": {},
   "outputs": [],
   "source": [
    "import sys\n",
    "sys.path.insert(0, '../../python/')\n",
    "\n",
    "import tabula\n",
    "import numpy as np\n",
    "import pandas as pd\n",
    "import importlib\n",
    "\n",
    "import helpers\n",
    "importlib.reload(helpers)\n",
    "\n",
    "from helpers import *"
   ]
  },
  {
   "cell_type": "markdown",
   "metadata": {},
   "source": [
    "## Import PDF"
   ]
  },
  {
   "cell_type": "code",
   "execution_count": 10,
   "metadata": {},
   "outputs": [],
   "source": [
    "# Read pdf into DataFrame\n",
    "df = tabula.read_pdf(\"Böhringer_efpia_report_switzerland_2017_de-1.pdf\", pages='all', lattice=True)"
   ]
  },
  {
   "cell_type": "markdown",
   "metadata": {},
   "source": [
    "## Format Table"
   ]
  },
  {
   "cell_type": "code",
   "execution_count": 7,
   "metadata": {},
   "outputs": [
    {
     "name": "stdout",
     "output_type": "stream",
     "text": [
      "saved\n"
     ]
    }
   ],
   "source": [
    "#Rename Columns\n",
    "df_export = df.copy()\n",
    "df_export.columns = ['name', 'location', 'country', 'address', 'donations_grants', 'sponsorship', 'registration_fees','travel_accommodation', 'fees', 'related_expenses', 'empty2', 'total', 'empty1']\n",
    "\n",
    "#Shift all where 'name' is empty\n",
    "df_export[df_export['name'].isna()] = df_export[df_export['name'].isna()].shift(-1, axis='columns')\n",
    "\n",
    "#Remove empties\n",
    "df_export.drop(columns=['empty1', 'empty2'], inplace=True)\n",
    "\n",
    "#Remove rows which have no total\n",
    "df_export = df_export.dropna(subset=['total'], how='all')\n",
    "df_export = df_export.reset_index(drop=True)\n",
    "\n",
    "#Cleanup Numbers\n",
    "df_export = replace_comma_to_dot(df_export)\n",
    "df_export = cleanup_number(df_export)\n",
    "df_export = amounts_to_number(df_export)\n",
    "\n",
    "#Remove Carination\n",
    "df_export = remove_carination(df_export)\n",
    "\n",
    "#Add Type by Index\n",
    "add_type_by_index(df_export, 220)\n",
    "\n",
    "#Add uci\n",
    "df_export = add_uci(df_export)\n",
    "\n",
    "#basic string conversion\n",
    "df_export = basic_string_conversion(df_export)\n",
    "\n",
    "#Export\n",
    "write_to_excel(df_export, 'export.xlsx')"
   ]
  },
  {
   "cell_type": "code",
   "execution_count": null,
   "metadata": {},
   "outputs": [],
   "source": [
    "#df_export.to_csv(\"export.csv\", sep=\";\")"
   ]
  }
 ],
 "metadata": {
  "kernelspec": {
   "display_name": "Python 3",
   "language": "python",
   "name": "python3"
  },
  "language_info": {
   "codemirror_mode": {
    "name": "ipython",
    "version": 3
   },
   "file_extension": ".py",
   "mimetype": "text/x-python",
   "name": "python",
   "nbconvert_exporter": "python",
   "pygments_lexer": "ipython3",
   "version": "3.6.5"
  }
 },
 "nbformat": 4,
 "nbformat_minor": 2
}
